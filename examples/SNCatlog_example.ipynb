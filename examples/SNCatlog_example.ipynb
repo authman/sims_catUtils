{
 "cells": [
  {
   "cell_type": "markdown",
   "metadata": {},
   "source": [
    "Example notebook trying to emulate FindLCsFromOpSim.ipynb which seems to be corrupted"
   ]
  },
  {
   "cell_type": "code",
   "execution_count": 1,
   "metadata": {
    "collapsed": true
   },
   "outputs": [],
   "source": [
    "import numpy as np\n",
    "%matplotlib inline\n",
    "import matplotlib.pyplot as plt\n",
    "import os\n",
    "import sqlite3"
   ]
  },
  {
   "cell_type": "code",
   "execution_count": 2,
   "metadata": {
    "collapsed": false
   },
   "outputs": [
    {
     "name": "stderr",
     "output_type": "stream",
     "text": [
      "/usr/local/manual/anaconda/lib/python2.7/site-packages/IPython/kernel/__init__.py:13: ShimWarning: The `IPython.kernel` package has been deprecated. You should import from ipykernel or jupyter_client instead.\n",
      "  \"You should import from ipykernel or jupyter_client instead.\", ShimWarning)\n",
      "Duplicate object type id 25 specified: \n",
      "Output object ids may not be unique.\n",
      "This may not be a problem if you do not want globally unique id values\n",
      "Duplicate object type id 40 specified: \n",
      "Output object ids may not be unique.\n",
      "This may not be a problem if you do not want globally unique id values\n",
      "Duplicate object type id 40 specified: \n",
      "Output object ids may not be unique.\n",
      "This may not be a problem if you do not want globally unique id values\n",
      "Duplicate object type id 40 specified: \n",
      "Output object ids may not be unique.\n",
      "This may not be a problem if you do not want globally unique id values\n",
      "Duplicate object type id 40 specified: \n",
      "Output object ids may not be unique.\n",
      "This may not be a problem if you do not want globally unique id values\n"
     ]
    }
   ],
   "source": [
    "from lsst.sims.catUtils.mixins import CosmologyMixin\n",
    "from lsst.sims.utils import ObservationMetaData\n",
    "from lsst.sims.catUtils.utils import ObservationMetaDataGenerator\n",
    "from lsst.sims.catalogs.generation.db import CatalogDBObject\n",
    "from lsst.sims.catalogs.measures.instance import InstanceCatalog\n",
    "import eups"
   ]
  },
  {
   "cell_type": "code",
   "execution_count": 3,
   "metadata": {
    "collapsed": true
   },
   "outputs": [],
   "source": [
    "from lsst.sims.catUtils.mixins import SNIaCatalog\n",
    "from lsst.sims.catUtils.mixins import SNObject"
   ]
  },
  {
   "cell_type": "code",
   "execution_count": 4,
   "metadata": {
    "collapsed": true
   },
   "outputs": [],
   "source": [
    "def samplePatchOnSphere(phi, theta, delta, size):\n",
    "    '''\n",
    "    (not) Uniformly distributes samples on a spherical patch between phi \\pm delta,\n",
    "    and theta \\pm delta.\n",
    "    \n",
    "    will modify to fix this later\n",
    "    Parameters\n",
    "    ----------\n",
    "    phi: float, mandatory, radians\n",
    "        center of the spherical patch in ra with range \n",
    "    theta: float, mandatory, radians\n",
    "    delta: float, mandatory, radians\n",
    "    size: int, mandatory\n",
    "        number of samples\n",
    "    '''\n",
    "    u = np.random.uniform(size=size)\n",
    "    v = np.random.uniform(size=size)\n",
    "\n",
    "    # phivals = delta * (2. * u - 1) + phi\n",
    "    phivals = 2. * delta* u + (phi - delta )\n",
    "    phivals = np.where ( phivals >= 0., phivals, phivals + 2. * np.pi)\n",
    "    \n",
    "    # use conventions in spherical coordinates\n",
    "    theta = np.pi/2.0 - theta\n",
    "    # thetavals = 2. * delta* v + (theta - delta )\n",
    "    # thetavals = np.where ( thetavals < np.pi , thetavals, thetavals - np.pi)\n",
    "    # thetavals = np.where ( thetavals > - np.pi , thetavals, thetavals + np.pi)\n",
    "    \n",
    "    \n",
    "    thetamax = theta + delta\n",
    "    thetamin = theta - delta\n",
    "    # CDF is cos(thetamin) - cos(theta) / cos(thetamin) - cos(thetamax)\n",
    "    a = np.cos(thetamin) - np.cos(thetamax)\n",
    "    thetavals = np.arccos(-v * a + np.cos(thetamin))\n",
    "    # Get back to -pi/2 to pi/2 range of decs\n",
    "    thetavals = np.pi/2.0 - thetavals \n",
    "    return phivals, thetavals"
   ]
  },
  {
   "cell_type": "code",
   "execution_count": 5,
   "metadata": {
    "collapsed": true
   },
   "outputs": [],
   "source": [
    "def cleanDB(dbname, verbose=True):\n",
    "    '''\n",
    "    Deletes the database dbname from the disk.\n",
    "    Parameters\n",
    "    ----------\n",
    "    dbname: string, mandatory\n",
    "        name (abs path) of the database to be deleted\n",
    "    verbose: Bool, optional, defaults to True\n",
    "\n",
    "    '''\n",
    "\n",
    "    if os.path.exists(dbname):\n",
    "        if verbose:\n",
    "            print \"deleting database \", dbname\n",
    "        os.unlink(dbname)\n",
    "    else:\n",
    "        if verbose:\n",
    "            print 'database ', dbname, ' does not exist'"
   ]
  },
  {
   "cell_type": "code",
   "execution_count": 6,
   "metadata": {
    "collapsed": true
   },
   "outputs": [],
   "source": [
    "def sample_obsmetadata(obsmetadata, size=1):\n",
    "    '''\n",
    "    Sample a square patch on the sphere overlapping obsmetadata\n",
    "    field of view by picking the area enclosed in\n",
    "    obsmetadata.unrefractedRA \\pm obsmetadata.boundLength\n",
    "    obsmetadata.unrefractedDec \\pm obsmetadata.boundLength\n",
    "\n",
    "    Parameters\n",
    "    ----------\n",
    "    obsmetadata: instance of\n",
    "        `sims.catalogs.generation.db.ObservationMetaData`\n",
    "\n",
    "    size: integer, optional, defaults to 1\n",
    "        number of samples\n",
    "\n",
    "\n",
    "    Returns\n",
    "    -------\n",
    "\n",
    "    tuple of ravals, decvalues\n",
    "    '''\n",
    "    mydict = obsmetadata.summary\n",
    "    phi = np.radians(mydict['unrefractedRA'])\n",
    "    theta = np.radians(mydict['unrefractedDec'])\n",
    "    equalrange = np.radians(mydict['boundLength'])\n",
    "    ravals, thetavals = samplePatchOnSphere(phi=phi, theta=theta, delta=equalrange, size=size)\n",
    "    return ravals, thetavals"
   ]
  },
  {
   "cell_type": "code",
   "execution_count": 7,
   "metadata": {
    "collapsed": true
   },
   "outputs": [],
   "source": [
    "def _createFakeGalaxyDB(dbname, ObsMetaData, size=10000, seed=1):\n",
    "    '''\n",
    "    Create a local sqlite galaxy database having filename dbname with variables\n",
    "    id, raJ2000, decJ2000 and redshift, having number of rows =size, and having\n",
    "    overlap with ObsMetaData.\n",
    "    '''\n",
    "    cleanDB(dbname)\n",
    "    conn = sqlite3.connect(dbname)\n",
    "    curs = conn.cursor()\n",
    "    curs.execute('CREATE TABLE if not exists gals (id INT, raJ2000 FLOAT,\\\n",
    "                  decJ2000 FLOAT, redshift FLOAT)')\n",
    "\n",
    "    np.random.seed(seed)\n",
    "    samps = sample_obsmetadata(ObsMetaData, size=size)\n",
    "\n",
    "    for count in range(size):\n",
    "        id = 1000000 + count\n",
    "\n",
    "        # Main Database should have values in degrees\n",
    "        ra = np.degrees(samps[0][count])\n",
    "        dec = np.degrees(samps[1][count])\n",
    "        redshift = np.random.uniform()\n",
    "        row = tuple([id, ra, dec, redshift])\n",
    "        exec_str = insertfromdata(tablename='gals', records=row,\n",
    "                                     multiple=False)\n",
    "        curs.execute(exec_str, row)\n",
    "\n",
    "    conn.commit()\n",
    "    conn.close()\n",
    "    return samps"
   ]
  },
  {
   "cell_type": "code",
   "execution_count": 8,
   "metadata": {
    "collapsed": true
   },
   "outputs": [],
   "source": [
    "def insertfromdata(tablename, records, multiple=True):\n",
    "    \"\"\"\n",
    "    construct string to insert multiple records into sqlite3 database\n",
    "    args:\n",
    "        tablename: str, mandatory\n",
    "            Name of table in the database.\n",
    "        records: set of records\n",
    "        multiple:\n",
    "    returns:\n",
    "    \"\"\"\n",
    "    if multiple:\n",
    "        lst = records[0]\n",
    "    else:\n",
    "        lst = records\n",
    "    s = 'INSERT INTO ' + str(tablename) + ' VALUES '\n",
    "    s += \"( \" + \", \".join([\"?\"]*len(lst)) + \")\"\n",
    "    return s"
   ]
  },
  {
   "cell_type": "code",
   "execution_count": 9,
   "metadata": {
    "collapsed": false
   },
   "outputs": [],
   "source": [
    "class myGalaxyCatalog(CatalogDBObject):\n",
    "    '''\n",
    "    Create a like CatalogDBObject connecting to a local sqlite database\n",
    "    '''\n",
    "\n",
    "    objid = 'mytestgals'\n",
    "    tableid = 'gals'\n",
    "    idColKey = 'id'\n",
    "    objectTypeId = 0\n",
    "    appendint = 10000\n",
    "    database = 'testdata/galcat.db'\n",
    "    # dbAddress = './testData/galcat.db'\n",
    "    raColName = 'raJ2000'\n",
    "    decColName = 'decJ2000'\n",
    "    driver = 'sqlite'\n",
    "\n",
    "    # columns required to convert the ra, dec values in degrees\n",
    "    # to radians again\n",
    "    columns = [('id', 'id', int),\n",
    "               ('raJ2000','raJ2000 * PI()/ 180. '),\n",
    "               ('decJ2000','decJ2000 * PI()/ 180.'),\n",
    "               ('redshift', 'redshift')]"
   ]
  },
  {
   "cell_type": "markdown",
   "metadata": {},
   "source": [
    "## Now create a fake galaxy table"
   ]
  },
  {
   "cell_type": "code",
   "execution_count": 10,
   "metadata": {
    "collapsed": false
   },
   "outputs": [],
   "source": [
    "obsMetaDataforCat = ObservationMetaData(boundType='circle',\n",
    "                                          boundLength=np.degrees(0.25),\n",
    "                                          unrefractedRA=np.degrees(0.13),\n",
    "                                          unrefractedDec=np.degrees(-1.2),\n",
    "                                          bandpassName=['r'],\n",
    "                                          mjd=49350.)"
   ]
  },
  {
   "cell_type": "code",
   "execution_count": 11,
   "metadata": {
    "collapsed": false
   },
   "outputs": [
    {
     "data": {
      "text/plain": [
       "(array([ 0.13704591]), array([-1.19119371]))"
      ]
     },
     "execution_count": 11,
     "metadata": {},
     "output_type": "execute_result"
    }
   ],
   "source": [
    "sample_obsmetadata(obsMetaDataforCat, size=1)"
   ]
  },
  {
   "cell_type": "code",
   "execution_count": 12,
   "metadata": {
    "collapsed": false
   },
   "outputs": [
    {
     "data": {
      "text/plain": [
       "14.323944878270581"
      ]
     },
     "execution_count": 12,
     "metadata": {},
     "output_type": "execute_result"
    }
   ],
   "source": [
    "obsMetaDataforCat.boundLength"
   ]
  },
  {
   "cell_type": "code",
   "execution_count": 13,
   "metadata": {
    "collapsed": false
   },
   "outputs": [
    {
     "data": {
      "text/plain": [
       "0.25"
      ]
     },
     "execution_count": 13,
     "metadata": {},
     "output_type": "execute_result"
    }
   ],
   "source": [
    "obsMetaDataforCat._boundLength"
   ]
  },
  {
   "cell_type": "code",
   "execution_count": 14,
   "metadata": {
    "collapsed": false
   },
   "outputs": [
    {
     "name": "stdout",
     "output_type": "stream",
     "text": [
      "deleting database  testSNData/galcat.db\n"
     ]
    }
   ],
   "source": [
    "if not os.path.exists('testSNData'):\n",
    "    os.makedirs('testSNData')\n",
    "testdbName = 'testSNData/galcat.db'\n",
    "vals = _createFakeGalaxyDB(dbname=testdbName,\n",
    "                    ObsMetaData=obsMetaDataforCat,\n",
    "                    size=1000000,\n",
    "                    seed=1)"
   ]
  },
  {
   "cell_type": "code",
   "execution_count": 15,
   "metadata": {
    "collapsed": false
   },
   "outputs": [
    {
     "data": {
      "text/plain": [
       "(array([ 0.088511  ,  0.24016225,  6.16324249, ...,  0.12661688,\n",
       "         6.21759016,  0.06512591]),\n",
       " array([-0.99399571, -1.21610453, -1.15133414, ..., -1.02888506,\n",
       "        -1.33583417, -1.04711557]))"
      ]
     },
     "execution_count": 15,
     "metadata": {},
     "output_type": "execute_result"
    }
   ],
   "source": [
    "vals"
   ]
  },
  {
   "cell_type": "code",
   "execution_count": 16,
   "metadata": {
    "collapsed": false
   },
   "outputs": [
    {
     "data": {
      "text/plain": [
       "[<matplotlib.lines.Line2D at 0x1126c8410>]"
      ]
     },
     "execution_count": 16,
     "metadata": {},
     "output_type": "execute_result"
    },
    {
     "data": {
      "image/png": "[encoded data removed]",
      "text/plain": [
       "<matplotlib.figure.Figure at 0x10ebcb810>"
      ]
     },
     "metadata": {},
     "output_type": "display_data"
    }
   ],
   "source": [
    "\n",
    "plt.plot(vals[0][:1000], vals[1][:1000], '.')\n",
    "plt.axvline(2. * np.pi, color='k', lw=2.)\n",
    "plt.axvline(0., color='k', lw=2.)\n",
    "plt.axhline(np.pi, color='k', lw=2.)\n",
    "plt.axhline(-np.pi, color='k', lw=2.)\n",
    "plt.plot([0.13], [-1.2], 'rs', markersize=8)"
   ]
  },
  {
   "cell_type": "code",
   "execution_count": 17,
   "metadata": {
    "collapsed": false
   },
   "outputs": [],
   "source": [
    "galDB = myGalaxyCatalog(database=testdbName)"
   ]
  },
  {
   "cell_type": "code",
   "execution_count": 18,
   "metadata": {
    "collapsed": true
   },
   "outputs": [],
   "source": [
    "class galCopy(InstanceCatalog):\n",
    "    column_outputs = ['id', 'raJ2000', 'decJ2000', 'redshift']\n",
    "    override_formats = {'raJ2000': '%8e', 'decJ2000': '%8e'}"
   ]
  },
  {
   "cell_type": "code",
   "execution_count": 19,
   "metadata": {
    "collapsed": true
   },
   "outputs": [],
   "source": [
    "galphot = galCopy(db_obj=galDB, obs_metadata=obsMetaDataforCat)\n"
   ]
  },
  {
   "cell_type": "code",
   "execution_count": 20,
   "metadata": {
    "collapsed": true
   },
   "outputs": [],
   "source": [
    "galphot.write_catalog('gals.dat')"
   ]
  },
  {
   "cell_type": "code",
   "execution_count": 21,
   "metadata": {
    "collapsed": false
   },
   "outputs": [
    {
     "name": "stdout",
     "output_type": "stream",
     "text": [
      "  742765 gals.dat\r\n"
     ]
    }
   ],
   "source": [
    "!wc -l gals.dat"
   ]
  },
  {
   "cell_type": "code",
   "execution_count": 22,
   "metadata": {
    "collapsed": false
   },
   "outputs": [
    {
     "name": "stdout",
     "output_type": "stream",
     "text": [
      "#id, raJ2000, decJ2000, redshift\r\n",
      "1000000, 8.851100e-02, -9.939957e-01, 0.0376\r\n",
      "1000001, 2.401622e-01, -1.216105e+00, 0.7608\r\n",
      "1000003, 3.116629e-02, -1.009110e+00, 0.1566\r\n",
      "1000007, 5.278036e-02, -9.771580e-01, 0.3991\r\n",
      "1000008, 7.838374e-02, -1.024724e+00, 0.7685\r\n",
      "1000009, 1.494084e-01, -9.881543e-01, 0.9084\r\n",
      "1000010, 8.959726e-02, -1.070042e+00, 0.5480\r\n",
      "1000011, 2.226098e-01, -1.132653e+00, 0.8986\r\n",
      "1000013, 3.190587e-01, -1.084762e+00, 0.0921\r\n"
     ]
    }
   ],
   "source": [
    "!head gals.dat"
   ]
  },
  {
   "cell_type": "markdown",
   "metadata": {},
   "source": [
    "## Building Light Curves from Instance Catalogs\n"
   ]
  },
  {
   "cell_type": "markdown",
   "metadata": {},
   "source": [
    "We would like to create a number of supernova instance catalogs and then build the light curves from the catalogs. To do this correctly, we would like to use the observation_metadata associated with a number of conscutive OpSIM pointings."
   ]
  },
  {
   "cell_type": "code",
   "execution_count": 23,
   "metadata": {
    "collapsed": true
   },
   "outputs": [],
   "source": [
    "opsimPath = os.path.join(eups.productDir('sims_data'),'OpSimData')\n",
    "opsimDB = os.path.join(opsimPath,'opsimblitz1_1133_sqlite.db')\n",
    "\n",
    "# from Tuscon AHM notebook from Scott\n",
    "# This OPSIM DB is provided in sims_data. This creates a list of opsim pointings\n",
    "# that I have checked. This is a tuned notebook\n",
    "generator = ObservationMetaDataGenerator() #database = opsimPath, driver='sqlite')\n",
    "obsMetaDataResults = generator.getObservationMetaData(limit=100,\n",
    "                                                      fieldRA=(5.0, 8.0), \n",
    "                                                      fieldDec=(-85.,-60.),\n",
    "                                                      expMJD=(49300., 49400.),\n",
    "                                                      boundLength=0.015,\n",
    "                                                      boundType='circle')\n"
   ]
  },
  {
   "cell_type": "code",
   "execution_count": 24,
   "metadata": {
    "collapsed": false
   },
   "outputs": [
    {
     "name": "stdout",
     "output_type": "stream",
     "text": [
      "15\n"
     ]
    }
   ],
   "source": [
    "# How many pointings do we have? \n",
    "print (len(obsMetaDataResults))"
   ]
  },
  {
   "cell_type": "code",
   "execution_count": 25,
   "metadata": {
    "collapsed": true
   },
   "outputs": [],
   "source": [
    "def coords(x): \n",
    "    return np.radians(x.summary['unrefractedRA']), np.radians(x.summary['unrefractedDec'])"
   ]
  },
  {
   "cell_type": "code",
   "execution_count": 26,
   "metadata": {
    "collapsed": true
   },
   "outputs": [],
   "source": [
    "v = zip(*map(coords, obsMetaDataResults))"
   ]
  },
  {
   "cell_type": "code",
   "execution_count": 27,
   "metadata": {
    "collapsed": false
   },
   "outputs": [
    {
     "data": {
      "text/plain": [
       "[<matplotlib.lines.Line2D at 0x11a95b590>]"
      ]
     },
     "execution_count": 27,
     "metadata": {},
     "output_type": "execute_result"
    },
    {
     "data": {
      "image/png": "[encoded data removed]",
      "text/plain": [
       "<matplotlib.figure.Figure at 0x11e17a1d0>"
      ]
     },
     "metadata": {},
     "output_type": "display_data"
    }
   ],
   "source": [
    "plt.plot(v[0], v[1], 'ko', markersize=4)\n",
    "plt.plot(vals[0][:1000], vals[1][:1000], '.')\n",
    "plt.axvline(2. * np.pi, color='k', lw=2.)\n",
    "plt.axvline(0., color='k', lw=2.)\n",
    "plt.axhline(np.pi, color='k', lw=2.)\n",
    "plt.axhline(-np.pi, color='k', lw=2.)\n",
    "plt.plot(v[0], v[1], 'ko', markersize=8)"
   ]
  },
  {
   "cell_type": "code",
   "execution_count": 28,
   "metadata": {
    "collapsed": true
   },
   "outputs": [],
   "source": [
    "if not os.path.exists('testSNData/NewLightCurves'): \n",
    "    os.makedirs('testSNdata/NewLightCurves')"
   ]
  },
  {
   "cell_type": "code",
   "execution_count": 29,
   "metadata": {
    "collapsed": true
   },
   "outputs": [],
   "source": [
    "column_outputs=['flux_u', 'flux_g', 'flux_r', 'flux_i', 'flux_z', 'flux_y',\n",
    "                'mag_u', 'mag_g', 'mag_r', 'mag_i', 'mag_z', 'mag_y']"
   ]
  },
  {
   "cell_type": "code",
   "execution_count": 30,
   "metadata": {
    "collapsed": false
   },
   "outputs": [],
   "source": [
    "catalog = SNIaCatalog(db_obj=galDB, \n",
    "                            obs_metadata=obsMetaDataResults[0], \n",
    "                            column_outputs=['t0', 'flux_u', 'flux_g', 'flux_r', 'flux_i', 'flux_z',\n",
    "                                            'flux_y', 'mag_u', 'mag_g', 'mag_r', 'mag_i', \n",
    "                                            'mag_z', 'mag_y', 'adu_u', 'adu_g', 'adu_r',\n",
    "                                            'adu_i', 'adu_z', 'adu_y'])"
   ]
  },
  {
   "cell_type": "code",
   "execution_count": 31,
   "metadata": {
    "collapsed": false
   },
   "outputs": [],
   "source": [
    "catalog.suppressDimSN = True"
   ]
  },
  {
   "cell_type": "code",
   "execution_count": 32,
   "metadata": {
    "collapsed": false
   },
   "outputs": [],
   "source": [
    "catalog.midSurveyTime=catalog.mjdobs - 20.\n",
    "catalog.averageRate =1."
   ]
  },
  {
   "cell_type": "code",
   "execution_count": 33,
   "metadata": {
    "collapsed": false
   },
   "outputs": [
    {
     "name": "stdout",
     "output_type": "stream",
     "text": [
      "49362.070248\n"
     ]
    }
   ],
   "source": [
    "print (catalog.mjdobs)"
   ]
  },
  {
   "cell_type": "code",
   "execution_count": 34,
   "metadata": {
    "collapsed": false
   },
   "outputs": [
    {
     "name": "stdout",
     "output_type": "stream",
     "text": [
      "100.0\n"
     ]
    }
   ],
   "source": [
    "print (catalog.maxTimeSNVisible)"
   ]
  },
  {
   "cell_type": "code",
   "execution_count": 35,
   "metadata": {
    "collapsed": false
   },
   "outputs": [
    {
     "name": "stderr",
     "output_type": "stream",
     "text": [
      "/Users/rbiswas/src/LSST/sims_catutils/python/lsst/sims/catUtils/mixins/snObject.py:652: RuntimeWarning: invalid value encountered in log10\n",
      "  return -2.5 * np.log10(f)\n"
     ]
    }
   ],
   "source": [
    "catalog.write_catalog('testSNData/NewLightCurves/FullCatalog.dat')"
   ]
  },
  {
   "cell_type": "code",
   "execution_count": 36,
   "metadata": {
    "collapsed": false
   },
   "outputs": [
    {
     "name": "stdout",
     "output_type": "stream",
     "text": [
      "#snid, snra, sndec, z, t0, c, x1, x0, flux_u, flux_g, flux_r, flux_i, flux_z, flux_y, mag_u, mag_g, mag_r, mag_i, mag_z, mag_y, adu_u, adu_g, adu_r, adu_i, adu_z, adu_y\r\n",
      "1194063, 9.807749e-02, -1.279044e+00, 0.3578, 49342.3398, -4.780265e-02, -1.5735, 2.035980e-05, -2.326344e-11, 1.322701e-10, 4.803133e-10, 7.703456e-10, 7.340477e-10, 4.916932e-10, nan, 24.6963, 23.2962, 22.7833, 22.8357, 23.2708, 0.0000, 0.0000, 0.0000, 0.0000, 0.0000, 0.0000\r\n",
      "1202620, 9.822037e-02, -1.279374e+00, 0.3552, 49342.1473, -1.076733e-01, 0.0559, 3.274857e-05, -2.594385e-12, 3.867345e-10, 9.501096e-10, 1.271056e-09, 1.025563e-09, 6.346549e-10, nan, 23.5315, 22.5556, 22.2396, 22.4726, 22.9937, 0.0000, 0.0000, 0.0000, 0.0000, 0.0000, 0.0000\r\n",
      "1456605, 9.746749e-02, -1.279057e+00, 0.7285, 49342.3804, -5.548099e-02, -1.0822, 5.384215e-06, 1.122736e-12, 1.059104e-11, 1.039187e-10, 2.407267e-10, 2.978060e-10, 3.130018e-10, 29.8743, 27.4377, 24.9583, 24.0462, 23.8152, 23.7611, 0.0000, 0.0000, 0.0000, 0.0000, 0.0000, 0.0000\r\n",
      "1812900, 9.864307e-02, -1.279292e+00, 0.2086, 49342.1296, 4.177646e-02, 0.3476, 9.548163e-05, 1.158895e-10, 1.316927e-09, 3.094136e-09, 3.268146e-09, 2.041532e-09, 1.823679e-09, 24.8399, 22.2011, 21.2737, 21.2142, 21.7251, 21.8476, 0.0000, 0.0000, 0.0000, 0.0000, 0.0000, 0.0000\r\n",
      "1956535, 9.875172e-02, -1.279203e+00, 0.1810, 49342.5375, 1.461182e-01, -1.5249, 9.832190e-05, 7.704023e-11, 9.209585e-10, 3.006094e-09, 3.640447e-09, 3.167919e-09, 2.373858e-09, 25.2832, 22.5894, 21.3050, 21.0971, 21.2481, 21.5614, 0.0000, 0.0000, 0.0000, 0.0000, 0.0000, 0.0000\r\n",
      "1972436, 9.750733e-02, -1.279303e+00, 0.4644, 49342.0616, 7.642282e-02, 0.4876, 1.352031e-05, 2.054846e-12, 8.533415e-11, 4.717782e-10, 6.595846e-10, 6.719016e-10, 5.982134e-10, 29.2181, 25.1722, 23.3157, 22.9518, 22.9317, 23.0579, 0.0000, 0.0000, 0.0000, 0.0000, 0.0000, 0.0000\r\n"
     ]
    }
   ],
   "source": [
    "!cat testSNData/NewLightCurves/FullCatalog.dat"
   ]
  },
  {
   "cell_type": "code",
   "execution_count": 37,
   "metadata": {
    "collapsed": true
   },
   "outputs": [],
   "source": [
    "newcatalog = catalog.write_catalog('testSNData/NewLightCurves/FullCatalog.dat')\n"
   ]
  },
  {
   "cell_type": "code",
   "execution_count": 38,
   "metadata": {
    "collapsed": false
   },
   "outputs": [],
   "source": [
    "newcatalog = SNIaCatalog(db_obj=galDB, \n",
    "                         obs_metadata=obsMetaDataResults[0], \n",
    "                         column_outputs=['t0', 'band', 'flux', 'flux_err', 'mag', 'mag_err'])"
   ]
  },
  {
   "cell_type": "code",
   "execution_count": 39,
   "metadata": {
    "collapsed": false
   },
   "outputs": [],
   "source": [
    "newcatalog.midSurveyTime=catalog.mjdobs - 20.\n",
    "newcatalog.averageRate =1."
   ]
  },
  {
   "cell_type": "code",
   "execution_count": 40,
   "metadata": {
    "collapsed": false
   },
   "outputs": [],
   "source": [
    "newcatalog.write_catalog('testSNData/NewLightCurves/FullCatalog.dat')"
   ]
  },
  {
   "cell_type": "code",
   "execution_count": 41,
   "metadata": {
    "collapsed": false
   },
   "outputs": [
    {
     "name": "stdout",
     "output_type": "stream",
     "text": [
      "/Users/rbiswas/src/LSST/sims_catUtils/examples\r\n"
     ]
    }
   ],
   "source": [
    "!pwd"
   ]
  },
  {
   "cell_type": "code",
   "execution_count": 42,
   "metadata": {
    "collapsed": false
   },
   "outputs": [
    {
     "name": "stdout",
     "output_type": "stream",
     "text": [
      "#snid, snra, sndec, z, t0, c, x1, x0, band, flux, flux_err, mag, mag_err\r\n",
      "1194063, 9.807749e-02, -1.279044e+00, 0.3578, 49342.3398, -4.780265e-02, -1.5735, 2.035980e-05, z, 7.340477e-10, 1.093234e-10, 22.8357, 1.508190e-01\r\n",
      "1202620, 9.822037e-02, -1.279374e+00, 0.3552, 49342.1473, -1.076733e-01, 0.0559, 3.274857e-05, z, 1.025563e-09, 1.097130e-10, 22.4726, 1.104609e-01\r\n",
      "1456605, 9.746749e-02, -1.279057e+00, 0.7285, 49342.3804, -5.548099e-02, -1.0822, 5.384215e-06, z, 2.978060e-10, 1.087378e-10, 23.8152, 3.379717e-01\r\n",
      "1812900, 9.864307e-02, -1.279292e+00, 0.2086, 49342.1296, 4.177646e-02, 0.3476, 9.548163e-05, z, 2.041532e-09, 1.110600e-10, 21.7251, 5.773077e-02\r\n",
      "1956535, 9.875172e-02, -1.279203e+00, 0.1810, 49342.5375, 1.461182e-01, -1.5249, 9.832190e-05, z, 3.167919e-09, 1.125346e-10, 21.2481, 3.822799e-02\r\n",
      "1972436, 9.750733e-02, -1.279303e+00, 0.4644, 49342.0616, 7.642282e-02, 0.4876, 1.352031e-05, z, 6.719016e-10, 1.092402e-10, 22.9317, 1.636369e-01\r\n"
     ]
    }
   ],
   "source": [
    "!cat testSNData/NewLightCurves/FullCatalog.dat"
   ]
  },
  {
   "cell_type": "code",
   "execution_count": 43,
   "metadata": {
    "collapsed": true
   },
   "outputs": [],
   "source": [
    "def ourWriteCatalog(obsMetaDataResults):\n",
    "    fnameList = []\n",
    "    for obsind, obsMetaData in enumerate(obsMetaDataResults):\n",
    "        newcatalog = SNIaCatalog(db_obj=galDB, \n",
    "                                 obs_metadata=obsMetaData, \n",
    "                                 column_outputs=['t0', 'time', 'band', 'flux', 'flux_err', 'mag', 'mag_err'])\n",
    "        newcatalog.midSurveyTime=49350\n",
    "        newcatalog.averageRate =1.\n",
    "        newcatalog.suppressDimSN = True\n",
    "        fname =  'testSNData/NewLightCurves/SNCatalog_' + \"{0:d}\".format(obsind)\n",
    "        newcatalog.write_catalog(fname)\n",
    "        fnameList.append(fname)\n",
    "    return fnameList"
   ]
  },
  {
   "cell_type": "code",
   "execution_count": 44,
   "metadata": {
    "collapsed": false
   },
   "outputs": [],
   "source": [
    "fnamelist = ourWriteCatalog(obsMetaDataResults)"
   ]
  },
  {
   "cell_type": "code",
   "execution_count": 45,
   "metadata": {
    "collapsed": false
   },
   "outputs": [
    {
     "name": "stdout",
     "output_type": "stream",
     "text": [
      "['testSNData/NewLightCurves/SNCatalog_0', 'testSNData/NewLightCurves/SNCatalog_1', 'testSNData/NewLightCurves/SNCatalog_2', 'testSNData/NewLightCurves/SNCatalog_3', 'testSNData/NewLightCurves/SNCatalog_4', 'testSNData/NewLightCurves/SNCatalog_5', 'testSNData/NewLightCurves/SNCatalog_6', 'testSNData/NewLightCurves/SNCatalog_7', 'testSNData/NewLightCurves/SNCatalog_8', 'testSNData/NewLightCurves/SNCatalog_9', 'testSNData/NewLightCurves/SNCatalog_10', 'testSNData/NewLightCurves/SNCatalog_11', 'testSNData/NewLightCurves/SNCatalog_12', 'testSNData/NewLightCurves/SNCatalog_13', 'testSNData/NewLightCurves/SNCatalog_14']\n"
     ]
    }
   ],
   "source": [
    "print (fnamelist)"
   ]
  },
  {
   "cell_type": "code",
   "execution_count": 46,
   "metadata": {
    "collapsed": false
   },
   "outputs": [],
   "source": [
    "import pandas as pd\n",
    "from astropy.table import Table\n",
    "import sncosmo"
   ]
  },
  {
   "cell_type": "code",
   "execution_count": 47,
   "metadata": {
    "collapsed": false
   },
   "outputs": [
    {
     "name": "stderr",
     "output_type": "stream",
     "text": [
      "/usr/local/manual/anaconda/lib/python2.7/site-packages/pandas/io/parsers.py:644: ParserWarning: Falling back to the 'python' engine because the 'c' engine does not support regex separators; you can avoid this warning by specifying engine='python'.\n",
      "  ParserWarning)\n"
     ]
    }
   ],
   "source": [
    "dfs = []\n",
    "_ = map(lambda x: dfs.append(pd.read_csv(x, index_col=None, sep=', ')), fnamelist)\n",
    "all_lcs = pd.concat(dfs)\n",
    "all_lcs.rename(columns={'#snid': 'snid'}, inplace=True)\n",
    "lcs = all_lcs.groupby('snid')"
   ]
  },
  {
   "cell_type": "code",
   "execution_count": 48,
   "metadata": {
    "collapsed": true
   },
   "outputs": [],
   "source": [
    "throughputsdir = os.getenv('THROUGHPUTS_DIR')\n",
    "\n",
    "from astropy.units import Unit\n",
    "bandPassList = ['u', 'g', 'r', 'i', 'z', 'y']\n",
    "banddir = os.path.join(os.getenv('THROUGHPUTS_DIR'), 'baseline')\n",
    "\n",
    "for band in bandPassList:\n",
    "\n",
    "    # setup sncosmo bandpasses\n",
    "    bandfname = banddir + \"/total_\" + band + '.dat'\n",
    "\n",
    "\n",
    "    # register the LSST bands to the SNCosmo registry\n",
    "    # Not needed for LSST, but useful to compare independent codes\n",
    "    # Usually the next two lines can be merged,\n",
    "    # but there is an astropy bug currently which affects only OSX.\n",
    "    numpyband = np.loadtxt(bandfname)\n",
    "    sncosmoband = sncosmo.Bandpass(wave=numpyband[:, 0],\n",
    "                                   trans=numpyband[:, 1],\n",
    "                                   wave_unit=Unit('nm'),\n",
    "                                   name=band)\n",
    "    sncosmo.registry.register(sncosmoband, force=True)"
   ]
  },
  {
   "cell_type": "code",
   "execution_count": 49,
   "metadata": {
    "collapsed": true
   },
   "outputs": [],
   "source": [
    "from lsst.sims.photUtils import Bandpass\n",
    "from lsst.sims.photUtils import BandpassDict\n",
    "\n",
    "bandpassnames = ['u', 'g', 'r', 'i', 'z', 'y']\n",
    "LSST_BandPass = BandpassDict.loadTotalBandpassesFromFiles()"
   ]
  },
  {
   "cell_type": "code",
   "execution_count": 50,
   "metadata": {
    "collapsed": false
   },
   "outputs": [],
   "source": [
    "def SNCosmoModel(lc):\n",
    "    f = np.unique(np.asarray(lc[['z', 'c', 'x1', 't0', 'snra', 'sndec']]))\n",
    "    SNO = SNObject(ra=np.degrees(f['snra'][0]), dec=np.degrees(f['sndec'][0]))\n",
    "    SNO.set(z=f['z'][0], c=f['c'][0], x1=f['x1'][0], t0=f['t0'][0])\n",
    "    sn = SNO.equivalentSNCosmoModel()\n",
    "    return sn,  SNO"
   ]
  },
  {
   "cell_type": "code",
   "execution_count": 51,
   "metadata": {
    "collapsed": false
   },
   "outputs": [
    {
     "name": "stderr",
     "output_type": "stream",
     "text": [
      "/usr/local/manual/anaconda/lib/python2.7/site-packages/matplotlib/collections.py:590: FutureWarning: elementwise comparison failed; returning scalar instead, but in the future will perform elementwise comparison\n",
      "  if self._edgecolors == str('face'):\n"
     ]
    },
    {
     "data": {
      "image/png": "[encoded data removed]",
      "text/plain": [
       "<matplotlib.figure.Figure at 0x114f989d0>"
      ]
     },
     "metadata": {},
     "output_type": "display_data"
    },
    {
     "data": {
      "image/png": "[encoded data removed]",
      "text/plain": [
       "<matplotlib.figure.Figure at 0x114f30850>"
      ]
     },
     "metadata": {},
     "output_type": "display_data"
    },
    {
     "data": {
      "image/png": "[encoded data removed]",
      "text/plain": [
       "<matplotlib.figure.Figure at 0x11a96c050>"
      ]
     },
     "metadata": {},
     "output_type": "display_data"
    },
    {
     "data": {
      "image/png": "[encoded data removed]",
      "text/plain": [
       "<matplotlib.figure.Figure at 0x114f30d50>"
      ]
     },
     "metadata": {},
     "output_type": "display_data"
    },
    {
     "data": {
      "image/png": "[encoded data removed]",
      "text/plain": [
       "<matplotlib.figure.Figure at 0x115314190>"
      ]
     },
     "metadata": {},
     "output_type": "display_data"
    },
    {
     "data": {
      "image/png": "[encoded data removed]",
      "text/plain": [
       "<matplotlib.figure.Figure at 0x1153141d0>"
      ]
     },
     "metadata": {},
     "output_type": "display_data"
    },
    {
     "data": {
      "image/png": "[encoded data removed]",
      "text/plain": [
       "<matplotlib.figure.Figure at 0x1153e0610>"
      ]
     },
     "metadata": {},
     "output_type": "display_data"
    },
    {
     "data": {
      "image/png": "[encoded data removed]",
      "text/plain": [
       "<matplotlib.figure.Figure at 0x115e01e10>"
      ]
     },
     "metadata": {},
     "output_type": "display_data"
    }
   ],
   "source": [
    "figs = []\n",
    "for snid in lcs.groups:\n",
    "    df = lcs.get_group(snid)\n",
    "    strarr = df.to_records()\n",
    "    data = Table(strarr)\n",
    "    data['zp'] = 0.\n",
    "    data['zpsys'] = 'ab'\n",
    "    # sn = SNCosmoModel(data)\n",
    "    fig = sncosmo.plot_lc(data, zp=0.)\n",
    "    fig.set_label(str(snid))\n",
    "    figs.append(fig)"
   ]
  }
 ],
 "metadata": {
  "kernelspec": {
   "display_name": "Python 2",
   "language": "python",
   "name": "python2"
  },
  "language_info": {
   "codemirror_mode": {
    "name": "ipython",
    "version": 2
   },
   "file_extension": ".py",
   "mimetype": "text/x-python",
   "name": "python",
   "nbconvert_exporter": "python",
   "pygments_lexer": "ipython2",
   "version": "2.7.10"
  }
 },
 "nbformat": 4,
 "nbformat_minor": 0
}
