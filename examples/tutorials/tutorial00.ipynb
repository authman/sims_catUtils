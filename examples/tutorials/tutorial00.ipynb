{
 "cells": [
  {
   "cell_type": "markdown",
   "metadata": {},
   "source": [
    "This notebook shows how all the pieces of CatSim fit together without much\n",
    "attempt at explanation. The general point of the CatSim software is to produce a catalog of objects\n",
    "visible through a given telescope at a given time from a given position.\n",
    "\n",
    "The objects are read in from a database which is handled by the <b>CatalogDBObject</b>\n",
    "class.   The parameters of the telescope pointing (direction, date, telescope location)\n",
    "are handled by the <b>ObservationMetaData</b> class.  This information is combined and output as a catalog by the <b>InstanceCatalog</b> class.\n",
    "\n",
    "Below we walk through a cartoon example, instantiating each of these classes one\n",
    "at a time."
   ]
  },
  {
   "cell_type": "markdown",
   "metadata": {},
   "source": [
    "<b>CatalogDBObject</b>\n",
    "\n",
    "<b>CatalogDBObject</b> is a class that connects our python code to database tables.\n",
    "It is defined in\n",
    "\n",
    "sims_catalogs_generation/python/lsst/sims/catalogs/generation/db/dbConnection.py\n",
    "\n",
    "Different daughter classes of this method have been written to interface with specific tables\n",
    "in the fatboy databases.  <b>CatalogDBObject</b> contains a class method `from_objid()`\n",
    "which allows you to instantiate these daughter classes by referring to their\n",
    "`objid` member variable.  The daughter classes insantiated below are defined in\n",
    "\n",
    "sims_catUtils/python/lsst/sims/catUtils/baseCatalogModels/GalaxyModels.py\n",
    "\n",
    "sims_catUtils/python/lsst/sims/catUtils/baseCatalogModels/StarModels.py\n",
    "\n",
    "There is also a file in that directory that defines an interface to a table\n",
    "of solar system objects and one that defines an interface to the Opsim 3.61 run.\n"
   ]
  },
  {
   "cell_type": "code",
   "execution_count": null,
   "metadata": {
    "collapsed": false
   },
   "outputs": [],
   "source": [
    "from lsst.sims.catalogs.generation.db import CatalogDBObject\n",
    "from lsst.sims.catUtils.baseCatalogModels import *\n",
    "\n",
    "myGalaxyDB = CatalogDBObject.from_objid('galaxyTiled')\n",
    "myStarDB = CatalogDBObject.from_objid('allstars')"
   ]
  },
  {
   "cell_type": "markdown",
   "metadata": {},
   "source": [
    "<b> ObservationMetaData </b>\n",
    "\n",
    "The <b>ObservationMetaData</b> class defines a particular pointing of the telescope.\n",
    "The <b>InstanceCatalog</b> classes below will end up querying our <b>CatalogDBObject</b>\n",
    "and using an <b>ObservationMetaData</b> object to constrain that query so that\n",
    "the written catalog only contains objects that are visible from the telescope\n",
    "at a given time, in a given direction, and within a given field of view size (see the caveat at the end of this cell).\n",
    "\n",
    "The <b>ObservationMetaData</b> class is defined in\n",
    "\n",
    "sims_utils/python/lsst/sims/utils/ObservationMetaData.py\n",
    "\n",
    "Generally, an <b>ObservationMetaData</b> is defined by a `pointingRA`, `pointingDec` (in degrees), a `boundType`\n",
    "(either 'circle' or 'box') defining the shape of the field of view, a `boundLength`\n",
    "(either a float or a numpy array) defining the size of the field of view in degrees,\n",
    "and an `mjd` defining the date of the observation.\n",
    "\n",
    "You can also specify a `site` which is an instantiation of the <b>Site</b> class defined in\n",
    "\n",
    "sims_utils/python/lsst/sims/utils/Site.py\n",
    "\n",
    "which characterizes the telescope's location.  This defaults to the LSST site.\n",
    "\n",
    "There are other optional arguments, mostly related to interfacing the catalog with\n",
    "PhoSim.  See the class's docstring for more detailed information.\n",
    "\n",
    "<b>Note:</b> Because CatSim assumes that the RA, Dec of objects stored in the database are defined in the International Celestial Reference System (ICRS), which neglects precession, nutation, aberration, and atmospheric refraction, the `ObservationMetaData` will query a field of view slightly larger than the one requested, in order to ensure that the query returns all objects which are actually visible in the field of view after those coordinate effects have been applied."
   ]
  },
  {
   "cell_type": "code",
   "execution_count": null,
   "metadata": {
    "collapsed": false
   },
   "outputs": [],
   "source": [
    "from lsst.sims.utils import ObservationMetaData\n",
    "\n",
    "obs_metadata = ObservationMetaData(pointingRA = 220.0,\n",
    "                                   pointingDec = 19.0,\n",
    "                                   boundType = 'circle',\n",
    "                                   boundLength = 0.2,\n",
    "                                   mjd = 52000.0)"
   ]
  },
  {
   "cell_type": "markdown",
   "metadata": {},
   "source": [
    "<b>InstanceCatalog</b>\n",
    "\n",
    "The <b>InstanceCatalog</b> class is defined in\n",
    "\n",
    "sims_catalogs_measures/python/lsst/sims/catalogs/measures/instance/InstanceCatalog.py\n",
    "\n",
    "The <b>InstanceCatalog</b> (or daughter classes thereof) define what data should be output\n",
    "to the catalog (i.e. do you just want ra and dec, or do you also want magnitudes integrated\n",
    "over your telescope's bandpasses, the name of the camera chip that actually sees the object,\n",
    "etc.)  Tutorials 01 and 02 will show how the <b>InstanceCatalog</b> actually gets and processes\n",
    "this data.  Below, we will just demonstrate the user interface.\n",
    "\n",
    "The daughter classes of <b>InstanceCatalog</b> used below are defined in\n",
    "\n",
    "sims_catUtils/python/lsst/sims/catUtils/exampleCatalogDefinitions/refCatalogExamples.py\n",
    "\n",
    "This portion of the script will result in two output files\n",
    "\n",
    "star_example.txt\n",
    "\n",
    "galaxy_example.txt\n",
    "\n",
    "being written to the current working directory (the one contains only stars; the other\n",
    "contains only galaxies)"
   ]
  },
  {
   "cell_type": "code",
   "execution_count": null,
   "metadata": {
    "collapsed": false
   },
   "outputs": [],
   "source": [
    "from lsst.sims.catUtils.exampleCatalogDefinitions import RefCatalogGalaxyBase, \\\n",
    "                                                  RefCatalogStarBase\n",
    "\n",
    "myStarCat = RefCatalogStarBase(myStarDB, obs_metadata=obs_metadata)\n",
    "myStarCat.write_catalog('star_example.txt')\n",
    "\n",
    "myGalaxyCat = RefCatalogGalaxyBase(myGalaxyDB, obs_metadata=obs_metadata)\n",
    "myGalaxyCat.write_catalog('galaxy_example.txt')"
   ]
  },
  {
   "cell_type": "markdown",
   "metadata": {},
   "source": [
    "<b>Alternate ObservationMetaData</b>\n",
    "\n",
    "Above we used an <b>ObservationMetaData</b> object with a circular bound on the field of view.\n",
    "Below we try a square field of view, just so you can see that the results actually\n",
    "come out as advertised.\n",
    "\n",
    "This portion of the script will write\n",
    "\n",
    "star_example_square.txt\n",
    "\n",
    "to the current working directory"
   ]
  },
  {
   "cell_type": "code",
   "execution_count": null,
   "metadata": {
    "collapsed": false
   },
   "outputs": [],
   "source": [
    "squareObsMetadata = ObservationMetaData(pointingRA = 220.0,\n",
    "                                       pointingDec = 19.0,\n",
    "                                       boundType = 'box',\n",
    "                                       boundLength = 0.3,\n",
    "                                       mjd = 52000.0)\n",
    "\n",
    "myStarCat = RefCatalogStarBase(myStarDB, obs_metadata=squareObsMetadata)\n",
    "myStarCat.write_catalog('star_example_square.txt')"
   ]
  }
 ],
 "metadata": {
  "kernelspec": {
   "display_name": "Python 2",
   "language": "python",
   "name": "python2"
  },
  "language_info": {
   "codemirror_mode": {
    "name": "ipython",
    "version": 2
   },
   "file_extension": ".py",
   "mimetype": "text/x-python",
   "name": "python",
   "nbconvert_exporter": "python",
   "pygments_lexer": "ipython2",
   "version": "2.7.10"
  }
 },
 "nbformat": 4,
 "nbformat_minor": 0
}
