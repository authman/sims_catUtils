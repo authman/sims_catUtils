{
 "metadata": {
  "name": "",
  "signature": "sha256:ba5d8d43fc79d54231885a5f5787d72bfd1375342aadd4256b47e730f4083820"
 },
 "nbformat": 3,
 "nbformat_minor": 0,
 "worksheets": [
  {
   "cells": [
    {
     "cell_type": "markdown",
     "metadata": {},
     "source": [
      "This notebook shows how all the pieces of CatSim fit together without much\n",
      "attempt at explanation. The general point of the CatSim software is to produce a catalog of objects\n",
      "visible through a given telescope at a given time from a given position.\n",
      "\n",
      "The objects are read in from a database which is handled by the <b>CatalogDBObject</b>\n",
      "class.   The parameters of the telescope pointing (direction, date, telescope location)\n",
      "are handled by the <b>ObservationMetaData</b> class.  This information is combined and output as a catalog by the <b>InstanceCatalog</b> class.\n",
      "\n",
      "Below we walk through a cartoon example, instantiating each of these classes one\n",
      "at a time."
     ]
    },
    {
     "cell_type": "markdown",
     "metadata": {},
     "source": [
      "<b>CatalogDBObject</b>\n",
      "\n",
      "CatalogDBObject is a class that connects our python code to database tables.\n",
      "It is defined in\n",
      "\n",
      "sims_catalogs_generation/python/lsst/sims/catalogs/generation/db/dbConnection.py\n",
      "\n",
      "Different daughter classes of this method have been written to interface with specific tables\n",
      "in the fatboy databases.  CatalogDBObject contains a class method from_objid()\n",
      "which allows you to instantiate these daughter classes by referring to their\n",
      "objid member variable.\n",
      "\n",
      "The daughter classes insantiated below are defined in\n",
      "\n",
      "sims_catUtils/python/lsst/sims/catUtils/baseCatalogModels/GalaxyModels.py\n",
      "sims_catUtils/python/lsst/sims/catUtils/baseCatalogModels/StarModels.py\n",
      "\n",
      "There is also a file in that directory that defines an interface to a table\n",
      "of solar system objects and one that defines an interface to the Opsim 3.61 run.\n"
     ]
    },
    {
     "cell_type": "code",
     "collapsed": false,
     "input": [
      "from lsst.sims.catalogs.generation.db import CatalogDBObject\n",
      "from lsst.sims.catUtils.baseCatalogModels import *\n",
      "\n",
      "myGalaxyDB = CatalogDBObject.from_objid('galaxyTiled')\n",
      "myStarDB = CatalogDBObject.from_objid('allstars')"
     ],
     "language": "python",
     "metadata": {},
     "outputs": []
    },
    {
     "cell_type": "markdown",
     "metadata": {},
     "source": [
      "<b> ObservationMetaData </b>\n",
      "\n",
      "The ObservationMetaData class defines a particular pointing of the telescope.\n",
      "The InstanceCatalog classes below will end up querying our CatalogDBObject\n",
      "and using an ObservationMetaData object to constrain that query so that\n",
      "the written catalog only contains objects that are visible from the telescope\n",
      "at a given time, in a given direction, and within a given field of view size.\n",
      "\n",
      "The ObservationMetaData class is defined in\n",
      "\n",
      "sims_catalogs_generation/python/lsst/sims/catalogs/generation/db/ObservationMetaData.py\n",
      "\n",
      "Generally, an ObservationMetaData is defined by an unrefractedRA, unrefractedDec (these\n",
      "are the above-atmosphere directions of the pointing; in degrees), a boundType\n",
      "(either 'circle' or 'box') defining the shape of the field of view, a boundLength\n",
      "(either a float or a numpy array) defining the size of the field of view in degrees,\n",
      "and an MJD defining the date of the observation (though this is optional if you do not\n",
      "require astrometric calculations to be done on the catalog).\n",
      "\n",
      "You can also specify a site which is an instantiation of the Site class defined in\n",
      "\n",
      "sims_catalogs_generation/python/lsst/sims/catalogs/generation/db/Site.py\n",
      "\n",
      "which characterizes the telescope's location.  This defaults to the LSST site.\n",
      "\n",
      "There are other optional arguments, mostly related to interfacing the catalog with\n",
      "PhoSim.  See the class's docstring for more detailed information."
     ]
    },
    {
     "cell_type": "code",
     "collapsed": false,
     "input": [
      "from lsst.sims.catalogs.generation.db import ObservationMetaData\n",
      "\n",
      "obs_metadata = ObservationMetaData(unrefractedRA = 220.0,\n",
      "                                   unrefractedDec = 19.0,\n",
      "                                   boundType = 'circle',\n",
      "                                   boundLength = 0.2,\n",
      "                                   mjd = 52000.0)"
     ],
     "language": "python",
     "metadata": {},
     "outputs": []
    },
    {
     "cell_type": "markdown",
     "metadata": {},
     "source": [
      "<b>InstanceCatalog</b>\n",
      "\n",
      "The InstanceCatalog class is defined in\n",
      "\n",
      "sims_catalogs_measures/python/lsst/sims/catalogs/measures/instance/InstanceCatalog.py\n",
      "\n",
      "The InstanceCatalog (or daughter classes thereof) define what data should be output\n",
      "to the catalog (i.e. do you just want ra and dec, or do you also want magnitudes integrated\n",
      "over your telescope's pass bands, the name of the camera chip that actually sees the object,\n",
      "etc.)  Tutorials 01 and 02 will show how the InstanceCatalog actually gets and processes\n",
      "this data.  Below, we will just demonstrate the user interface.\n",
      "\n",
      "The daughter classes of InstanceCatalog used below are defined in\n",
      "\n",
      "sims_catUtils/python/lsst/sims/catUtils/exampleCatalogDefinitions/refCatalogExamples.py\n",
      "\n",
      "This portion of the script will result in two output files\n",
      "\n",
      "star_example.txt\n",
      "\n",
      "galaxy_example.txt\n",
      "\n",
      "being written to the current working directory (the one contains only stars; the other\n",
      "contains only galaxies)"
     ]
    },
    {
     "cell_type": "code",
     "collapsed": false,
     "input": [
      "from lsst.sims.catUtils.exampleCatalogDefinitions import RefCatalogGalaxyBase, \\\n",
      "                                                  RefCatalogStarBase\n",
      "\n",
      "myStarCat = RefCatalogStarBase(myStarDB, obs_metadata=obs_metadata)\n",
      "myStarCat.write_catalog('star_example.txt')\n",
      "\n",
      "myGalaxyCat = RefCatalogGalaxyBase(myGalaxyDB, obs_metadata=obs_metadata)\n",
      "myGalaxyCat.write_catalog('galaxy_example.txt')"
     ],
     "language": "python",
     "metadata": {},
     "outputs": []
    },
    {
     "cell_type": "markdown",
     "metadata": {},
     "source": [
      "<b>Alternate ObservationMetaData</b>\n",
      "\n",
      "Above we used an ObservationMetaData object with a circular bound on the field of view.\n",
      "Below we try a square field of view, just so you can see that the results actually\n",
      "come out as advertised.\n",
      "\n",
      "This portion of the script will write\n",
      "\n",
      "star_example_square.txt\n",
      "\n",
      "to the current working directory"
     ]
    },
    {
     "cell_type": "code",
     "collapsed": false,
     "input": [
      "squareObsMetadata = ObservationMetaData(unrefractedRA = 220.0,\n",
      "                                       unrefractedDec = 19.0,\n",
      "                                       boundType = 'box',\n",
      "                                       boundLength = 0.3,\n",
      "                                       mjd = 52000.0)\n",
      "\n",
      "myStarCat = RefCatalogStarBase(myStarDB, obs_metadata=squareObsMetadata)\n",
      "myStarCat.write_catalog('star_example_square.txt')"
     ],
     "language": "python",
     "metadata": {},
     "outputs": []
    }
   ],
   "metadata": {}
  }
 ]
}