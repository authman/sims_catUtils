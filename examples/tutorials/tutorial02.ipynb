{
 "cells": [
  {
   "cell_type": "markdown",
   "metadata": {},
   "source": [
    "This tutorial will introduce how we use mixins to compartmentalize <b>InstanceCatalog</b> functionality.\n",
    "\n",
    "Not every <b>InstanceCatalog</b> will have the same outputs.  Even those that do have the same outputs may require different getters (one example that comes to mind is doing photometry on stars and galaxies; for galaxies, one must consider flux from the bulge, the disk, and the agn, all of which are stored separately in the database; for stars there is only one source of flux to consider). Therefore, we try as much as possible to define commonly used getters in mixins.  Mixins are classes that define methods explicitly for the purpose of being inherited by other classes (though, occasionally you will find a mixin with classmethods that are meant to be called independently).  Thus mixins should not have an `__init__()`.  They will rely on <b>InstanceCatalog</b>'s `__init__()`.  When writing an <b>InstanceCatalog</b> daughter class, the user can simple inherit from the required mixins and ignore all other mixins.\n",
    "\n",
    "Below, we show an example of a mixin and how it interacts with an example <b>InstanceCatalog</b>.\n",
    "The class `TutorialCatalog` calls for the columns `raPlusOneRadian`, `sum`, and `difference`.\n",
    "These columns do not exist in the database and `TutorialCatalog` does not contain getters defining\n",
    "them.  The class `ExampleMixin` does contain getters defining these columns.  By making\n",
    "`TutorialCatalog` inherit from `ExampleMixin`, we pass these getters on to `TutorialCatalog` and\n",
    "thus allow it to compute the desired columns.\n",
    "\n",
    "Two other bits of functionality are introduced below:\n",
    "\n",
    "1) Transformations: Sometimes you will want to define a unit transformation so the data in your written catalog is in different units than the data being manipulated by the code.  The most obvious example is that CatSim policy is to store all angles in radians while they are being manipulated.  However, RA and Dec are stored in degrees in most databases.  Therefore, RA and Dec are converted into radians when they are passed into the code (that will be discussed in tutorial04), manipulated as radians, and then converted back to degrees before being written out to a catalog.\n",
    "\n",
    "Transformations of this sort can be handled by the <b>InstanceCatalog</b> member variable `transformations`. `transformations` is a dict.  The keys of this dict are the names of columns to be converted. The values of this dict are methods to be called on those columns.  For example, if your <b>InstanceCatalog</b> class has\n",
    "\n",
    "    transformations = {'raJ2000':numpy.degrees}\n",
    "\n",
    "Then, the values in `raJ2000` will be passed through `numpy.degrees()` before being written to the\n",
    "catalog.  We illustrate this method by converting all of the columns in `TutorialCatalog` to degrees\n",
    "and by additionally writing out the contrived case of `raInArcsec`, which prints the value of\n",
    "`raJ2000` into arc seconds.\n",
    "\n",
    "2) `CatalogDBObject.getCatalog()`  The second piece of functionality introduced below is the method `CatalogDBObject.getCatalog()`.  Analogous to `CatalogDBObject.from_objid()` (see tutorial00 and tutorial04), `CatalogDBObject.getCatalog()` allows the user to take a <b>CatalogDBObject</b> and immediately convert it into a catalog.  This is accomplished by\n",
    "\n",
    "    cat = CatalogDBobject.getCatalog(catalogType)\n",
    "\n",
    "where `catalogType` is a string corresponding to the value of the member variable `catalog_type` in\n",
    "the desired <b>InstanceCatalog</b> daughter class."
   ]
  },
  {
   "cell_type": "code",
   "execution_count": 1,
   "metadata": {
    "collapsed": false
   },
   "outputs": [
    {
     "name": "stderr",
     "output_type": "stream",
     "text": [
      "/Users/danielsf/physics/lsst_160212/DarwinX86/miniconda2/3.19.0/lib/python2.7/site-packages/matplotlib/font_manager.py:273: UserWarning: Matplotlib is building the font cache using fc-list. This may take a moment.\n",
      "  warnings.warn('Matplotlib is building the font cache using fc-list. This may take a moment.')\n",
      "/Users/danielsf/physics/lsst_160212/Development/sims_catalogs/python/lsst/sims/catalogs/db/dbConnection.py:438: UserWarning: Duplicate object type id 25 specified: \n",
      "Output object ids may not be unique.\n",
      "This may not be a problem if you do not want globally unique id values\n",
      "  'want globally unique id values')\n",
      "/Users/danielsf/physics/lsst_160212/Development/sims_catalogs/python/lsst/sims/catalogs/db/dbConnection.py:438: UserWarning: Duplicate object type id 40 specified: \n",
      "Output object ids may not be unique.\n",
      "This may not be a problem if you do not want globally unique id values\n",
      "  'want globally unique id values')\n"
     ]
    }
   ],
   "source": [
    "import numpy\n",
    "from lsst.sims.catalogs.db import CatalogDBObject\n",
    "from lsst.sims.utils import ObservationMetaData\n",
    "from lsst.sims.catUtils.baseCatalogModels import *\n",
    "from lsst.sims.catalogs.definitions import InstanceCatalog\n",
    "from lsst.sims.catalogs.decorators import cached, compound\n",
    "\n",
    "def radiansToArcsec(value):\n",
    "    \"\"\"\n",
    "    An example unit transformation that converts radians into arc seconds\n",
    "    \"\"\"\n",
    "    return 3600.0*numpy.degrees(value)\n",
    "\n",
    "class ExampleMixin(object):\n",
    "    \"\"\"\n",
    "    An example mixin that provides getters to TutorialCatalog\n",
    "    \"\"\"\n",
    "\n",
    "    def get_raInArcsec(self):\n",
    "        \"\"\"\n",
    "        Returns RA in radians.  Will be converted to arcseconds by transformations = {}\n",
    "        \"\"\"\n",
    "        return self.column_by_name('raJ2000')\n",
    "\n",
    "    @cached\n",
    "    def get_raPlusOneRadian(self):\n",
    "        rr = self.column_by_name('raJ2000')\n",
    "        return rr+1.0\n",
    "\n",
    "    @compound('sum', 'difference')\n",
    "    def get_math(self):\n",
    "        rr = self.column_by_name('raJ2000')\n",
    "        dd = self.column_by_name('decJ2000')\n",
    "        return numpy.array([rr+dd, rr-dd])"
   ]
  },
  {
   "cell_type": "markdown",
   "metadata": {},
   "source": [
    "Now that we have declared our mixin, let's add it to TutorialCatalog.  <b>Again, running these cells more than once without restarting the kernel will cause an error; it won't disrupt any functionality, but it will look ugly.</b>"
   ]
  },
  {
   "cell_type": "code",
   "execution_count": 2,
   "metadata": {
    "collapsed": false
   },
   "outputs": [],
   "source": [
    "class TutorialCatalog(InstanceCatalog, ExampleMixin):\n",
    "    \"\"\"\n",
    "    An example InstanceCatalog that relies on ExampleMixin to provide getters for some\n",
    "    of its columns\n",
    "    \"\"\"\n",
    "    column_outputs = ['raJ2000', 'decJ2000', 'raPlusOneRadian', 'sum', 'difference',\n",
    "                     'raInArcsec']\n",
    "\n",
    "    #Recall that all angles are manipulated as radians inside the code.\n",
    "    #Therefore, to get outputs in degrees, we must define transformations\n",
    "    #for the columns we want to transform.\n",
    "    #\n",
    "    #Note that 'raPlusOneRadian' is not converted and will thus be written\n",
    "    #in radians.\n",
    "    transformations = {'raJ2000':numpy.degrees, 'decJ2000':numpy.degrees,\n",
    "                       'sum':numpy.degrees, 'difference':numpy.degrees,\n",
    "                       'raInArcSec':radiansToArcsec}\n",
    "\n",
    "    #This is the key value that needs to be passed to CatalogDBObject.getCatalog()\n",
    "    #in order to instantiate a TutorialCatalog\n",
    "    catalog_type = 'tutorial_catalog'\n"
   ]
  },
  {
   "cell_type": "markdown",
   "metadata": {},
   "source": [
    "Now let's write a catalog."
   ]
  },
  {
   "cell_type": "code",
   "execution_count": 3,
   "metadata": {
    "collapsed": false
   },
   "outputs": [],
   "source": [
    "myDB = CatalogDBObject.from_objid('allstars')\n",
    "obs_metadata = ObservationMetaData(pointingRA=220.0, pointingDec=19.0,\n",
    "                                   boundType='circle', boundLength=0.1,\n",
    "                                   mjd=52000.0)\n",
    "\n",
    "#First just write a catalog the way we are used to\n",
    "cat = TutorialCatalog(myDB, obs_metadata=obs_metadata)\n",
    "cat.write_catalog('tutorial_mixin_catalog.txt')"
   ]
  },
  {
   "cell_type": "markdown",
   "metadata": {},
   "source": [
    "Now use `CatalogDBObject.getCatalog()` to write a catalog (using a different\n",
    "<b>ObservationMetaData</b>)"
   ]
  },
  {
   "cell_type": "code",
   "execution_count": null,
   "metadata": {
    "collapsed": false
   },
   "outputs": [],
   "source": [
    "obs_metadata = ObservationMetaData(pointingRA=120.0, pointingDec=-5.0,\n",
    "                                   boundType='circle', boundLength=0.1,\n",
    "                                   mjd=52000.0)\n",
    "\n",
    "cat = myDB.getCatalog('tutorial_catalog', obs_metadata=obs_metadata)\n",
    "cat.write_catalog('tutorial_mixin_get_catalog.txt')"
   ]
  }
 ],
 "metadata": {
  "kernelspec": {
   "display_name": "Python 2",
   "language": "python",
   "name": "python2"
  },
  "language_info": {
   "codemirror_mode": {
    "name": "ipython",
    "version": 2
   },
   "file_extension": ".py",
   "mimetype": "text/x-python",
   "name": "python",
   "nbconvert_exporter": "python",
   "pygments_lexer": "ipython2",
   "version": "2.7.12"
  }
 },
 "nbformat": 4,
 "nbformat_minor": 0
}
