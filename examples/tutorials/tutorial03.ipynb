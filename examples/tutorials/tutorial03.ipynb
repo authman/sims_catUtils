{
 "metadata": {
  "name": "",
  "signature": "sha256:f877094f955ae8610df5e7844a606762ab589e439a670d0f2d5630c334256617"
 },
 "nbformat": 3,
 "nbformat_minor": 0,
 "worksheets": [
  {
   "cells": [
    {
     "cell_type": "markdown",
     "metadata": {},
     "source": [
      "Here we demonstrate using actual mixins that have already been defined\n",
      "to calculate physically real values.\n",
      "\n",
      "Many mixins exist throughout the stack.  The biggest collections of them\n",
      "are in\n",
      "\n",
      "* sims_coordUtils/python/lsst/sims/coordUtils/Astrometry.py  -- astrometry-related code\n",
      "\n",
      "* sims_photUtils/python/lsst/sims/photUtils/Photometry.py -- photometry-related code\n",
      "\n",
      "* sims_photUtils/python/lsst/sims/photUtils/EBV.py -- dust-related code\n",
      "\n",
      "* sims_photUtils/python/lsst/sims/photUtils/Variability.py -- variability-related code\n",
      "\n",
      "Below, we demonstrate an <b>InstanceCatalog</b> class that uses the photometry\n",
      "and astrometry mixins to calculate physically meaningful column values"
     ]
    },
    {
     "cell_type": "code",
     "collapsed": false,
     "input": [
      "import numpy\n",
      "from lsst.sims.catalogs.generation.db import CatalogDBObject, ObservationMetaData, haversine\n",
      "from lsst.sims.catUtils.baseCatalogModels import *\n",
      "from lsst.sims.catalogs.measures.instance import InstanceCatalog, cached\n",
      "from lsst.sims.coordUtils import AstrometryStars\n",
      "from lsst.sims.photUtils import PhotometryStars\n",
      "\n",
      "class TutorialCatalog(InstanceCatalog, AstrometryStars, PhotometryStars):\n",
      "\n",
      "    column_outputs = ['raJ2000', 'decJ2000', 'lsst_u', 'raObserved', 'decObserved',\n",
      "                      'shift']\n",
      "    #to see where lsst_u comes from, see the PhotometryStars class in\n",
      "    #sims_photUtils/python/lsst/sims/photUtils/Photometry.py\n",
      "    #\n",
      "    #to see where raObserved and decObserved come from, see the AstrometryStars class in\n",
      "    #sims_coordUtils/python/lsst/sims/coordUtils/Astrometry.py\n",
      "\n",
      "\n",
      "    #transform all of the angles into degrees\n",
      "    transformations = {'raJ2000':numpy.degrees, 'decJ2000':numpy.degrees,\n",
      "                      'raObserved':numpy.degrees, 'decObserved':numpy.degrees,\n",
      "                       'shift':numpy.degrees}\n",
      "\n",
      "\n",
      "    #a handle to be passed to CatalogDBObject.getCatalog() (see tutorial02)\n",
      "    catalog_type = 'tutorial_catalog'\n",
      "\n",
      "\n",
      "    @cached\n",
      "    def get_shift(self):\n",
      "        \"\"\"\n",
      "        A getter for the angular distance between the unrefracted raJ2000, decJ2000\n",
      "        and the corrected raObserved, decObserved\n",
      "\n",
      "        Note that because all angles are handled inside of the stack as radians,\n",
      "        the returned angular distance will also be in radians (though the InstanceCatalog\n",
      "        daughter class converts it to degrees with the self.transformations dict)\n",
      "        \"\"\"\n",
      "        r0 = self.column_by_name('raJ2000')\n",
      "        d0 = self.column_by_name('decJ2000')\n",
      "        r1 = self.column_by_name('raObserved')\n",
      "        d1 = self.column_by_name('decObserved')\n",
      "\n",
      "        return haversine(r0, d0, r1, d1)"
     ],
     "language": "python",
     "metadata": {},
     "outputs": []
    },
    {
     "cell_type": "markdown",
     "metadata": {},
     "source": [
      "Now write the catalog (remember: <b>do not run the cell above more than once; it will throw an ugly-looking error</b>)"
     ]
    },
    {
     "cell_type": "code",
     "collapsed": false,
     "input": [
      "myDB = CatalogDBObject.from_objid('allstars')\n",
      "obs_metadata = ObservationMetaData(unrefractedRA=220.0, unrefractedDec=19.0,\n",
      "                                   boundType='circle', boundLength=0.1,\n",
      "                                   mjd=52000.0)\n",
      "\n",
      "cat = TutorialCatalog(myDB, obs_metadata=obs_metadata)\n",
      "cat.write_catalog('tutorial_astrometry_photometry.txt')"
     ],
     "language": "python",
     "metadata": {},
     "outputs": []
    },
    {
     "cell_type": "markdown",
     "metadata": {},
     "source": [
      "And, just for kicks, use `CatalogDBObject.getCatalog()`."
     ]
    },
    {
     "cell_type": "code",
     "collapsed": false,
     "input": [
      "obs_metadata = ObservationMetaData(unrefractedRA=120.0, unrefractedDec=-5.0,\n",
      "                                   boundType='circle', boundLength=0.1,\n",
      "                                   mjd=52000.0)\n",
      "\n",
      "cat = myDB.getCatalog('tutorial_catalog', obs_metadata=obs_metadata)\n",
      "cat.write_catalog('tutorial_astrometry_photometry_get.txt')"
     ],
     "language": "python",
     "metadata": {},
     "outputs": []
    }
   ],
   "metadata": {}
  }
 ]
}