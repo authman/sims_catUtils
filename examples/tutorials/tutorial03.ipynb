{
 "cells": [
  {
   "cell_type": "markdown",
   "metadata": {},
   "source": [
    "Here we demonstrate using actual mixins that have already been defined\n",
    "to calculate physically real values.\n",
    "\n",
    "Many mixins exist throughout the stack.  They can be found in the directory\n",
    "\n",
    "    `sims_catUtils/python/lsst/sims/catUtils/mixins/\n",
    "\n",
    "There you will find the files\n",
    "\n",
    "* AstrometryMixin.py  -- mixins to calculate and transform objects' positions on both the sky and the camera\n",
    "\n",
    "* PhotometryMixin.py -- mixins to calculate the magnitudes of point and extended sources\n",
    "\n",
    "* EBVmixin.py -- mixin that interfaces with the SFD dust maps\n",
    "\n",
    "* VariabilityMixin.py -- mixin encoding photometric variability of sources\n",
    "\n",
    "* CosmologyMixin.py -- mixin to calculate the cosmologial distance modulus\n",
    "\n",
    "Below, we demonstrate an <b>InstanceCatalog</b> class that uses the photometry\n",
    "and astrometry mixins to calculate physically meaningful column values"
   ]
  },
  {
   "cell_type": "code",
   "execution_count": null,
   "metadata": {
    "collapsed": false
   },
   "outputs": [],
   "source": [
    "import numpy\n",
    "from lsst.sims.catalogs.generation.db import CatalogDBObject\n",
    "from lsst.sims.utils import ObservationMetaData\n",
    "from lsst.sims.utils import haversine\n",
    "from lsst.sims.catUtils.baseCatalogModels import *\n",
    "from lsst.sims.catalogs.measures.instance import InstanceCatalog, cached\n",
    "from lsst.sims.catUtils.mixins import AstrometryStars, PhotometryStars\n",
    "\n",
    "class TutorialCatalog(InstanceCatalog, AstrometryStars, PhotometryStars):\n",
    "\n",
    "    column_outputs = ['raJ2000', 'decJ2000', 'lsst_u', 'raObserved', 'decObserved',\n",
    "                      'shift']\n",
    "    #to see where lsst_u comes from, see the PhotometryStars class in\n",
    "    #sims_photUtils/python/lsst/sims/photUtils/Photometry.py\n",
    "    #\n",
    "    #to see where raObserved and decObserved come from, see the AstrometryStars class in\n",
    "    #sims_coordUtils/python/lsst/sims/coordUtils/Astrometry.py\n",
    "\n",
    "\n",
    "    #transform all of the angles into degrees\n",
    "    transformations = {'raJ2000':numpy.degrees, 'decJ2000':numpy.degrees,\n",
    "                      'raObserved':numpy.degrees, 'decObserved':numpy.degrees,\n",
    "                       'shift':numpy.degrees}\n",
    "\n",
    "\n",
    "    #a handle to be passed to CatalogDBObject.getCatalog() (see tutorial02)\n",
    "    catalog_type = 'tutorial_catalog'\n",
    "\n",
    "\n",
    "    @cached\n",
    "    def get_shift(self):\n",
    "        \"\"\"\n",
    "        A getter for the angular distance between the unrefracted raJ2000, decJ2000\n",
    "        and the corrected raObserved, decObserved\n",
    "\n",
    "        Note that because all angles are handled inside of the stack as radians,\n",
    "        the returned angular distance will also be in radians (though the InstanceCatalog\n",
    "        daughter class converts it to degrees with the self.transformations dict)\n",
    "        \"\"\"\n",
    "        r0 = self.column_by_name('raJ2000')\n",
    "        d0 = self.column_by_name('decJ2000')\n",
    "        r1 = self.column_by_name('raObserved')\n",
    "        d1 = self.column_by_name('decObserved')\n",
    "\n",
    "        return haversine(r0, d0, r1, d1)"
   ]
  },
  {
   "cell_type": "markdown",
   "metadata": {},
   "source": [
    "Now write the catalog (remember: <b>do not run the cell above more than once without restarting the kernel; it will throw an ugly-looking error</b>)"
   ]
  },
  {
   "cell_type": "code",
   "execution_count": null,
   "metadata": {
    "collapsed": false
   },
   "outputs": [],
   "source": [
    "myDB = CatalogDBObject.from_objid('allstars')\n",
    "obs_metadata = ObservationMetaData(unrefractedRA=220.0, unrefractedDec=19.0,\n",
    "                                   boundType='circle', boundLength=0.1,\n",
    "                                   mjd=52000.0)\n",
    "\n",
    "cat = TutorialCatalog(myDB, obs_metadata=obs_metadata)\n",
    "cat.write_catalog('tutorial_astrometry_photometry.txt')"
   ]
  },
  {
   "cell_type": "markdown",
   "metadata": {},
   "source": [
    "And, just for kicks, use `CatalogDBObject.getCatalog()`."
   ]
  },
  {
   "cell_type": "code",
   "execution_count": null,
   "metadata": {
    "collapsed": false
   },
   "outputs": [],
   "source": [
    "obs_metadata = ObservationMetaData(unrefractedRA=120.0, unrefractedDec=-5.0,\n",
    "                                   boundType='circle', boundLength=0.1,\n",
    "                                   mjd=52000.0)\n",
    "\n",
    "cat = myDB.getCatalog('tutorial_catalog', obs_metadata=obs_metadata)\n",
    "cat.write_catalog('tutorial_astrometry_photometry_get.txt')"
   ]
  }
 ],
 "metadata": {
  "kernelspec": {
   "display_name": "Python 2",
   "language": "python",
   "name": "python2"
  },
  "language_info": {
   "codemirror_mode": {
    "name": "ipython",
    "version": 2
   },
   "file_extension": ".py",
   "mimetype": "text/x-python",
   "name": "python",
   "nbconvert_exporter": "python",
   "pygments_lexer": "ipython2",
   "version": "2.7.10"
  }
 },
 "nbformat": 4,
 "nbformat_minor": 0
}
