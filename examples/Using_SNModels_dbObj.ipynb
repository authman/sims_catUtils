{
 "cells": [
  {
   "cell_type": "code",
   "execution_count": 40,
   "metadata": {
    "collapsed": false
   },
   "outputs": [
    {
     "name": "stderr",
     "output_type": "stream",
     "text": [
      "axes.color_cycle is deprecated and replaced with axes.prop_cycle; please use the latter.\n",
      "axes.color_cycle is deprecated and replaced with axes.prop_cycle; please use the latter.\n"
     ]
    }
   ],
   "source": [
    "import os\n",
    "import numpy as np\n",
    "%matplotlib inline\n",
    "import matplotlib.pyplot as plt\n",
    "import pandas as pd\n",
    "import matplotlib.patches  as mpatches\n",
    "import seaborn as sns\n",
    "sns.set()"
   ]
  },
  {
   "cell_type": "code",
   "execution_count": 2,
   "metadata": {
    "collapsed": false
   },
   "outputs": [],
   "source": [
    "from lsst.sims.catalogs.generation.db import CatalogDBObject\n",
    "from lsst.sims.catalogs.generation.db import CatalogDBObject"
   ]
  },
  {
   "cell_type": "code",
   "execution_count": 3,
   "metadata": {
    "collapsed": false
   },
   "outputs": [
    {
     "name": "stderr",
     "output_type": "stream",
     "text": [
      "Duplicate object type id 25 specified: \n",
      "Output object ids may not be unique.\n",
      "This may not be a problem if you do not want globally unique id values\n",
      "Duplicate object type id 40 specified: \n",
      "Output object ids may not be unique.\n",
      "This may not be a problem if you do not want globally unique id values\n",
      "Duplicate object type id 40 specified: \n",
      "Output object ids may not be unique.\n",
      "This may not be a problem if you do not want globally unique id values\n",
      "Duplicate object type id 40 specified: \n",
      "Output object ids may not be unique.\n",
      "This may not be a problem if you do not want globally unique id values\n",
      "Duplicate object type id 40 specified: \n",
      "Output object ids may not be unique.\n",
      "This may not be a problem if you do not want globally unique id values\n"
     ]
    }
   ],
   "source": [
    "import lsst.sims.catUtils.baseCatalogModels as bcm\n",
    "from lsst.sims.catalogs.measures.instance import InstanceCatalog\n",
    "from lsst.sims.utils import ObservationMetaData"
   ]
  },
  {
   "cell_type": "code",
   "execution_count": 4,
   "metadata": {
    "collapsed": false
   },
   "outputs": [],
   "source": [
    "from lsst.sims.catUtils.baseCatalogModels import GalaxyTileObj, GalaxyDiskObj\n",
    "from lsst.sims.catUtils.baseCatalogModels import SNObj\n",
    "from lsst.sims.catUtils.mixins import FrozenSNCat"
   ]
  },
  {
   "cell_type": "code",
   "execution_count": 5,
   "metadata": {
    "collapsed": false
   },
   "outputs": [],
   "source": [
    "s  = SNObj()"
   ]
  },
  {
   "cell_type": "markdown",
   "metadata": {},
   "source": [
    "## ObsMetaData"
   ]
  },
  {
   "cell_type": "code",
   "execution_count": 6,
   "metadata": {
    "collapsed": true
   },
   "outputs": [],
   "source": [
    "from lsst.sims.catUtils.utils import ObservationMetaDataGenerator"
   ]
  },
  {
   "cell_type": "code",
   "execution_count": 7,
   "metadata": {
    "collapsed": false
   },
   "outputs": [],
   "source": [
    "degConv = np.array([1., 1./60., 1./3600.])\n",
    "raConv = degConv / 24.0 * 360.\n",
    "centralRA = np.dot(np.array([3., 32., 30]), raConv) #03h 32m 30s\n",
    "centralDec = np.dot(np.array([-28, 6., 0.]), degConv)\n",
    "patchRadius = 0.4 * np.sqrt(2) #np.dot(np.array([0.0, 10.0, 0.]), degConv)"
   ]
  },
  {
   "cell_type": "code",
   "execution_count": 8,
   "metadata": {
    "collapsed": true
   },
   "outputs": [],
   "source": [
    "opsimPath = os.path.join('/Users/rbiswas/data/LSST/OpSimData')\n",
    "opsimDB = os.path.join(opsimPath,'enigma_1189_sqlite.db')"
   ]
  },
  {
   "cell_type": "code",
   "execution_count": 9,
   "metadata": {
    "collapsed": true
   },
   "outputs": [],
   "source": [
    "generator = ObservationMetaDataGenerator(driver='sqlite', database=opsimDB) #database = opsimPath, driver='sqlite')\n",
    "obsMetaDataResults = generator.getObservationMetaData(limit=100,\n",
    "                                                      fieldRA=(centralRA - 2.0, centralRA + 2.0), \n",
    "                                                      fieldDec=(centralDec - 2.0, centralDec + 2.0),\n",
    "                                                      expMJD=(49500., 49690.),\n",
    "                                                      boundLength=0.05,\n",
    "                                                      boundType='circle')"
   ]
  },
  {
   "cell_type": "code",
   "execution_count": 10,
   "metadata": {
    "collapsed": true
   },
   "outputs": [],
   "source": [
    "TwinklesObsMetaDataSmall = obsMetaDataResults[35]"
   ]
  },
  {
   "cell_type": "code",
   "execution_count": 11,
   "metadata": {
    "collapsed": false
   },
   "outputs": [
    {
     "data": {
      "text/plain": [
       "53.009138473031555"
      ]
     },
     "execution_count": 11,
     "metadata": {},
     "output_type": "execute_result"
    }
   ],
   "source": [
    "TwinklesObsMetaDataSmall.pointingRA"
   ]
  },
  {
   "cell_type": "code",
   "execution_count": 12,
   "metadata": {
    "collapsed": true
   },
   "outputs": [],
   "source": [
    "class TSNCopy(InstanceCatalog):\n",
    "    \n",
    "    column_outputs = ['raJ2000', 'decJ2000', 'snid', 'Tgaltileid','Tt0', 'Tx0', 'Tx1', 'Tc', 'Tredshift', ]\n",
    "    override_formats = {'raJ2000': '%8e', 'decJ2000': '%8e', 'x0':'%8e'}"
   ]
  },
  {
   "cell_type": "code",
   "execution_count": 13,
   "metadata": {
    "collapsed": false
   },
   "outputs": [],
   "source": [
    "Ttsmall = TSNCopy(db_obj=s, obs_metadata=TwinklesObsMetaDataSmall)\n",
    "Ttsmall.write_catalog('TTwinklesSN.dat')"
   ]
  },
  {
   "cell_type": "code",
   "execution_count": 14,
   "metadata": {
    "collapsed": false
   },
   "outputs": [
    {
     "name": "stderr",
     "output_type": "stream",
     "text": [
      "/usr/local/manual/anaconda/lib/python2.7/site-packages/ipykernel/__main__.py:1: ParserWarning: Falling back to the 'python' engine because the 'c' engine does not support regex separators; you can avoid this warning by specifying engine='python'.\n",
      "  if __name__ == '__main__':\n"
     ]
    }
   ],
   "source": [
    "TTSNdf = pd.read_csv('TTwinklesSN.dat', sep=',\\s+')"
   ]
  },
  {
   "cell_type": "code",
   "execution_count": 15,
   "metadata": {
    "collapsed": false
   },
   "outputs": [
    {
     "data": {
      "image/png": "[encoded data removed]",
      "text/plain": [
       "<matplotlib.figure.Figure at 0x10a3aa7d0>"
      ]
     },
     "metadata": {},
     "output_type": "display_data"
    }
   ],
   "source": [
    "fig, ax = plt.subplots()\n",
    "ax.hexbin(TTSNdf['#raJ2000'], TTSNdf.decJ2000)\n",
    "ax.plot(np.radians(TwinklesObsMetaDataSmall.pointingRA), np.radians(TwinklesObsMetaDataSmall.pointingDec), \n",
    "         'ys', markersize=14)\n",
    "circ = mpatches.Circle((np.radians(TwinklesObsMetaDataSmall.pointingRA), np.radians(TwinklesObsMetaDataSmall.pointingDec)), \n",
    "         np.radians(0.05))\n",
    "circ.set(edgecolor='r', fill=False)\n",
    "#circ.set(face)\n",
    "ax.add_artist(circ)\n",
    "ax.set_aspect('equal')"
   ]
  },
  {
   "cell_type": "markdown",
   "metadata": {},
   "source": [
    "##  SN Instance Catalogs"
   ]
  },
  {
   "cell_type": "code",
   "execution_count": 16,
   "metadata": {
    "collapsed": false
   },
   "outputs": [
    {
     "name": "stdout",
     "output_type": "stream",
     "text": [
      "('badvalues ', nan)\n",
      "('mjd ', 49612.338296000002)\n",
      "('maxTime', 100.0)\n",
      "('number of cases ', 0)\n"
     ]
    }
   ],
   "source": [
    "sncatalog = FrozenSNCat(db_obj=s, obs_metadata=TwinklesObsMetaDataSmall, \n",
    "                         column_outputs=['snra', 'galtileid', 'sndec', 'snid', 'x0', 't0', 'flux', 'flux_err', 'mag', 'mag_err',\n",
    "                                         'TmagNorm', 'TsedFilepath', 'adu'])\n",
    "sncatalog.surveyStartDate = 49500.\n",
    "sncatalog.writeSedFile = False\n",
    "sncatalog.prefix = '/Users/rbiswas/tmp/'"
   ]
  },
  {
   "cell_type": "code",
   "execution_count": 17,
   "metadata": {
    "collapsed": false
   },
   "outputs": [],
   "source": [
    "sncatalog.suppressDimSN = True"
   ]
  },
  {
   "cell_type": "code",
   "execution_count": 18,
   "metadata": {
    "collapsed": false
   },
   "outputs": [
    {
     "name": "stdout",
     "output_type": "stream",
     "text": [
      "('badvalues ', nan)\n",
      "('mjd ', 49612.338296000002)\n",
      "('maxTime', 100.0)\n",
      "('number of cases ', 0)\n",
      "('badvalues ', nan)\n",
      "('mjd ', 49612.338296000002)\n",
      "('maxTime', 100.0)\n",
      "('number of cases ', 1879)\n",
      "('badvalues ', nan)\n",
      "('mjd ', 49612.338296000002)\n",
      "('maxTime', 100.0)\n",
      "('number of cases ', 1876)\n",
      "('badvalues ', nan)\n",
      "('mjd ', 49612.338296000002)\n",
      "('maxTime', 100.0)\n",
      "('number of cases ', 1897)\n",
      "('badvalues ', nan)\n",
      "('mjd ', 49612.338296000002)\n",
      "('maxTime', 100.0)\n",
      "('number of cases ', 675)\n"
     ]
    }
   ],
   "source": [
    "_ = sncatalog.write_catalog('newcat.dat', chunk_size=2000)"
   ]
  },
  {
   "cell_type": "code",
   "execution_count": 19,
   "metadata": {
    "collapsed": false
   },
   "outputs": [
    {
     "name": "stdout",
     "output_type": "stream",
     "text": [
      "     393 newcat.dat\r\n"
     ]
    }
   ],
   "source": [
    "!wc -l newcat.dat"
   ]
  },
  {
   "cell_type": "markdown",
   "metadata": {},
   "source": [
    "##  PhoSim Catalogs"
   ]
  },
  {
   "cell_type": "code",
   "execution_count": 20,
   "metadata": {
    "collapsed": true
   },
   "outputs": [],
   "source": [
    "from lsst.sims.catUtils.exampleCatalogDefinitions.phoSimCatalogExamples import PhoSimCatalogSN, PhoSimCatalogSersic2D"
   ]
  },
  {
   "cell_type": "code",
   "execution_count": 21,
   "metadata": {
    "collapsed": false
   },
   "outputs": [
    {
     "name": "stdout",
     "output_type": "stream",
     "text": [
      "('badvalues ', nan)\n",
      "('mjd ', 49612.338296000002)\n",
      "('maxTime', 100.0)\n",
      "('number of cases ', 0)\n",
      "('Type of return', <type 'numpy.ndarray'>, dtype('O'))\n",
      "()\n"
     ]
    }
   ],
   "source": [
    "pc = PhoSimCatalogSN(db_obj=s, obs_metadata=TwinklesObsMetaDataSmall, column_outputs=['EBV'])\n",
    "pc.writeSedFile = True\n",
    "pc.surveyStartDate = 49500\n",
    "pc.suppressDimSN = True"
   ]
  },
  {
   "cell_type": "code",
   "execution_count": 22,
   "metadata": {
    "collapsed": false
   },
   "outputs": [
    {
     "name": "stdout",
     "output_type": "stream",
     "text": [
      "('badvalues ', nan)\n",
      "('mjd ', 49612.338296000002)\n",
      "('maxTime', 100.0)\n",
      "('number of cases ', 0)\n",
      "('Type of return', <type 'numpy.ndarray'>, dtype('O'))\n",
      "()\n",
      "('badvalues ', nan)\n",
      "('mjd ', 49612.338296000002)\n",
      "('maxTime', 100.0)\n",
      "('number of cases ', 6327)\n",
      "('writing file to ', 'specFile_6000274614100_49612.3383_r.dat')\n",
      "('writing file to ', 'specFile_6000606050501_49612.3383_r.dat')\n",
      "('writing file to ', 'specFile_6000018451007_49612.3383_r.dat')\n",
      "('writing file to ', 'specFile_6000091709107_49612.3383_r.dat')\n",
      "('writing file to ', 'specFile_6000777478400_49612.3383_r.dat')\n",
      "('writing file to ', 'specFile_6000972229700_49612.3383_r.dat')\n",
      "('writing file to ', 'specFile_6000167058301_49612.3383_r.dat')\n",
      "('writing file to ', 'specFile_6000307465100_49612.3383_r.dat')\n",
      "('writing file to ', 'specFile_6000140140803_49612.3383_r.dat')\n",
      "('writing file to ', 'specFile_6000835291202_49612.3383_r.dat')\n",
      "('writing file to ', 'specFile_6000927114101_49612.3383_r.dat')\n",
      "('writing file to ', 'specFile_6000676754304_49612.3383_r.dat')\n",
      "('writing file to ', 'specFile_6000410542104_49612.3383_r.dat')\n",
      "('writing file to ', 'specFile_6000033906504_49612.3383_r.dat')\n",
      "('writing file to ', 'specFile_6000033906500_49612.3383_r.dat')\n",
      "('writing file to ', 'specFile_6000033906503_49612.3383_r.dat')\n",
      "('writing file to ', 'specFile_6000033906502_49612.3383_r.dat')\n",
      "('writing file to ', 'specFile_6000004967501_49612.3383_r.dat')\n",
      "('writing file to ', 'specFile_6000235329700_49612.3383_r.dat')\n",
      "('writing file to ', 'specFile_6000008189004_49612.3383_r.dat')\n",
      "('writing file to ', 'specFile_6001024562102_49612.3383_r.dat')\n",
      "('writing file to ', 'specFile_6000606308802_49612.3383_r.dat')\n",
      "('writing file to ', 'specFile_6000403797502_49612.3383_r.dat')\n",
      "('writing file to ', 'specFile_6000038455704_49612.3383_r.dat')\n",
      "('writing file to ', 'specFile_6000051869210_49612.3383_r.dat')\n",
      "('writing file to ', 'specFile_6000977162201_49612.3383_r.dat')\n",
      "('writing file to ', 'specFile_6000977162200_49612.3383_r.dat')\n",
      "('writing file to ', 'specFile_6000000545309_49612.3383_r.dat')\n",
      "('writing file to ', 'specFile_6000410400901_49612.3383_r.dat')\n",
      "('writing file to ', 'specFile_6000341735403_49612.3383_r.dat')\n",
      "('writing file to ', 'specFile_6000134534807_49612.3383_r.dat')\n",
      "('writing file to ', 'specFile_6000134534803_49612.3383_r.dat')\n",
      "('writing file to ', 'specFile_6000166844111_49612.3383_r.dat')\n",
      "('writing file to ', 'specFile_6000202198804_49612.3383_r.dat')\n",
      "('writing file to ', 'specFile_6000927990407_49612.3383_r.dat')\n",
      "('writing file to ', 'specFile_6000927990401_49612.3383_r.dat')\n",
      "('writing file to ', 'specFile_6000797293504_49612.3383_r.dat')\n",
      "('writing file to ', 'specFile_6000198918010_49612.3383_r.dat')\n",
      "('writing file to ', 'specFile_6001274264202_49612.3383_r.dat')\n",
      "('writing file to ', 'specFile_6000572776704_49612.3383_r.dat')\n",
      "('writing file to ', 'specFile_6000292033805_49612.3383_r.dat')\n",
      "('writing file to ', 'specFile_6000292033803_49612.3383_r.dat')\n",
      "('writing file to ', 'specFile_6000834875902_49612.3383_r.dat')\n",
      "('writing file to ', 'specFile_6000317475302_49612.3383_r.dat')\n",
      "('writing file to ', 'specFile_6000194993000_49612.3383_r.dat')\n",
      "('writing file to ', 'specFile_6000587029801_49612.3383_r.dat')\n",
      "('writing file to ', 'specFile_6000800453901_49612.3383_r.dat')\n",
      "('writing file to ', 'specFile_6000973485602_49612.3383_r.dat')\n",
      "('writing file to ', 'specFile_6000076927902_49612.3383_r.dat')\n",
      "('writing file to ', 'specFile_6000305397501_49612.3383_r.dat')\n",
      "('writing file to ', 'specFile_6000351116503_49612.3383_r.dat')\n",
      "('writing file to ', 'specFile_6001080913807_49612.3383_r.dat')\n",
      "('writing file to ', 'specFile_6000163765100_49612.3383_r.dat')\n",
      "('writing file to ', 'specFile_6000562083903_49612.3383_r.dat')\n",
      "('writing file to ', 'specFile_6000350025005_49612.3383_r.dat')\n",
      "('writing file to ', 'specFile_6001552130005_49612.3383_r.dat')\n",
      "('writing file to ', 'specFile_6000132061801_49612.3383_r.dat')\n",
      "('writing file to ', 'specFile_6001199321908_49612.3383_r.dat')\n",
      "('writing file to ', 'specFile_6000201952106_49612.3383_r.dat')\n",
      "('writing file to ', 'specFile_6000433495900_49612.3383_r.dat')\n",
      "('writing file to ', 'specFile_6000023249402_49612.3383_r.dat')\n",
      "('writing file to ', 'specFile_6000193812201_49612.3383_r.dat')\n",
      "('writing file to ', 'specFile_6000054794501_49612.3383_r.dat')\n",
      "('writing file to ', 'specFile_6001275441101_49612.3383_r.dat')\n",
      "('writing file to ', 'specFile_6000210509202_49612.3383_r.dat')\n",
      "('writing file to ', 'specFile_6000364581702_49612.3383_r.dat')\n",
      "('writing file to ', 'specFile_6001082682302_49612.3383_r.dat')\n",
      "('writing file to ', 'specFile_6000195497000_49612.3383_r.dat')\n",
      "('writing file to ', 'specFile_6001108358902_49612.3383_r.dat')\n",
      "('writing file to ', 'specFile_6000346719202_49612.3383_r.dat')\n",
      "('writing file to ', 'specFile_6000467678401_49612.3383_r.dat')\n",
      "('writing file to ', 'specFile_6000678379206_49612.3383_r.dat')\n",
      "('writing file to ', 'specFile_6000005422702_49612.3383_r.dat')\n",
      "('writing file to ', 'specFile_6000145656501_49612.3383_r.dat')\n",
      "('writing file to ', 'specFile_6000298986403_49612.3383_r.dat')\n",
      "('writing file to ', 'specFile_6000606321600_49612.3383_r.dat')\n",
      "('writing file to ', 'specFile_6000924498107_49612.3383_r.dat')\n",
      "('writing file to ', 'specFile_6001213289101_49612.3383_r.dat')\n",
      "('writing file to ', 'specFile_6000024404501_49612.3383_r.dat')\n",
      "('writing file to ', 'specFile_6000899560002_49612.3383_r.dat')\n",
      "('writing file to ', 'specFile_6000676473202_49612.3383_r.dat')\n",
      "('writing file to ', 'specFile_6000676473207_49612.3383_r.dat')\n",
      "('writing file to ', 'specFile_6000676473200_49612.3383_r.dat')\n",
      "('writing file to ', 'specFile_6000594143600_49612.3383_r.dat')\n",
      "('writing file to ', 'specFile_6000669150802_49612.3383_r.dat')\n",
      "('writing file to ', 'specFile_6001496264000_49612.3383_r.dat')\n",
      "('writing file to ', 'specFile_6000050506900_49612.3383_r.dat')\n",
      "('writing file to ', 'specFile_6001376540805_49612.3383_r.dat')\n",
      "('writing file to ', 'specFile_6001376540801_49612.3383_r.dat')\n",
      "('writing file to ', 'specFile_6001614647700_49612.3383_r.dat')\n",
      "('writing file to ', 'specFile_6000004116012_49612.3383_r.dat')\n",
      "('writing file to ', 'specFile_6001090682202_49612.3383_r.dat')\n",
      "('writing file to ', 'specFile_6000377360701_49612.3383_r.dat')\n",
      "('writing file to ', 'specFile_6000289463004_49612.3383_r.dat')\n",
      "('writing file to ', 'specFile_6000685739708_49612.3383_r.dat')\n",
      "('writing file to ', 'specFile_6001080932900_49612.3383_r.dat')\n",
      "('writing file to ', 'specFile_6000091522300_49612.3383_r.dat')\n",
      "('writing file to ', 'specFile_6000567535901_49612.3383_r.dat')\n",
      "('writing file to ', 'specFile_6000567535902_49612.3383_r.dat')\n",
      "('writing file to ', 'specFile_6001194751802_49612.3383_r.dat')\n",
      "('writing file to ', 'specFile_6000283711601_49612.3383_r.dat')\n",
      "('writing file to ', 'specFile_6000740499200_49612.3383_r.dat')\n",
      "('writing file to ', 'specFile_6000154757310_49612.3383_r.dat')\n",
      "('writing file to ', 'specFile_6001317431307_49612.3383_r.dat')\n",
      "('writing file to ', 'specFile_6000495366201_49612.3383_r.dat')\n",
      "('writing file to ', 'specFile_6001125679701_49612.3383_r.dat')\n",
      "('writing file to ', 'specFile_6000018457105_49612.3383_r.dat')\n",
      "('writing file to ', 'specFile_6000091687504_49612.3383_r.dat')\n",
      "('writing file to ', 'specFile_6000426899304_49612.3383_r.dat')\n",
      "('writing file to ', 'specFile_6000342757701_49612.3383_r.dat')\n",
      "('writing file to ', 'specFile_6000342757707_49612.3383_r.dat')\n",
      "('writing file to ', 'specFile_6000149516601_49612.3383_r.dat')\n",
      "('writing file to ', 'specFile_6000423254300_49612.3383_r.dat')\n",
      "('writing file to ', 'specFile_6000663799100_49612.3383_r.dat')\n",
      "('writing file to ', 'specFile_6000002425203_49612.3383_r.dat')\n",
      "('writing file to ', 'specFile_6000079851701_49612.3383_r.dat')\n",
      "('writing file to ', 'specFile_6000402455900_49612.3383_r.dat')\n",
      "('writing file to ', 'specFile_6000402455901_49612.3383_r.dat')\n",
      "('writing file to ', 'specFile_6000202566600_49612.3383_r.dat')\n",
      "('writing file to ', 'specFile_6000202566601_49612.3383_r.dat')\n",
      "('writing file to ', 'specFile_6000713742900_49612.3383_r.dat')\n",
      "('writing file to ', 'specFile_6000818813400_49612.3383_r.dat')\n",
      "('writing file to ', 'specFile_6001643721400_49612.3383_r.dat')\n",
      "('writing file to ', 'specFile_6000305015401_49612.3383_r.dat')\n",
      "('writing file to ', 'specFile_6000288586302_49612.3383_r.dat')\n",
      "('writing file to ', 'specFile_6000288586307_49612.3383_r.dat')\n",
      "('writing file to ', 'specFile_6000054225508_49612.3383_r.dat')\n",
      "('writing file to ', 'specFile_6000515368501_49612.3383_r.dat')\n",
      "('writing file to ', 'specFile_6000713497400_49612.3383_r.dat')\n",
      "('writing file to ', 'specFile_6001087469509_49612.3383_r.dat')\n",
      "('writing file to ', 'specFile_6000134408504_49612.3383_r.dat')\n",
      "('writing file to ', 'specFile_6000134408509_49612.3383_r.dat')\n",
      "('writing file to ', 'specFile_6000134408501_49612.3383_r.dat')\n",
      "('writing file to ', 'specFile_6000178785102_49612.3383_r.dat')\n",
      "('writing file to ', 'specFile_6001039437701_49612.3383_r.dat')\n",
      "('writing file to ', 'specFile_6001291338100_49612.3383_r.dat')\n",
      "('writing file to ', 'specFile_6001291338105_49612.3383_r.dat')\n",
      "('writing file to ', 'specFile_6001069743203_49612.3383_r.dat')\n",
      "('writing file to ', 'specFile_6000687033504_49612.3383_r.dat')\n",
      "('writing file to ', 'specFile_6000138701900_49612.3383_r.dat')\n",
      "('writing file to ', 'specFile_6001666672200_49612.3383_r.dat')\n",
      "('writing file to ', 'specFile_6001128400302_49612.3383_r.dat')\n",
      "('writing file to ', 'specFile_6001336009702_49612.3383_r.dat')\n",
      "('writing file to ', 'specFile_6000243925204_49612.3383_r.dat')\n",
      "('writing file to ', 'specFile_6001503517401_49612.3383_r.dat')\n",
      "('writing file to ', 'specFile_6000132752502_49612.3383_r.dat')\n",
      "('writing file to ', 'specFile_6001070123705_49612.3383_r.dat')\n",
      "('writing file to ', 'specFile_6001472253302_49612.3383_r.dat')\n",
      "('writing file to ', 'specFile_6000199413203_49612.3383_r.dat')\n",
      "('writing file to ', 'specFile_6000799122700_49612.3383_r.dat')\n",
      "('writing file to ', 'specFile_6000501078300_49612.3383_r.dat')\n",
      "('writing file to ', 'specFile_6000486665300_49612.3383_r.dat')\n",
      "('writing file to ', 'specFile_6000486665304_49612.3383_r.dat')\n",
      "('writing file to ', 'specFile_6000408462007_49612.3383_r.dat')\n",
      "('writing file to ', 'specFile_6001076716608_49612.3383_r.dat')\n",
      "('writing file to ', 'specFile_6001091071501_49612.3383_r.dat')\n",
      "('writing file to ', 'specFile_6000205974203_49612.3383_r.dat')\n",
      "('writing file to ', 'specFile_6000574726505_49612.3383_r.dat')\n",
      "('writing file to ', 'specFile_6000574726509_49612.3383_r.dat')\n",
      "('writing file to ', 'specFile_6000605816501_49612.3383_r.dat')\n",
      "('writing file to ', 'specFile_6000490746900_49612.3383_r.dat')\n",
      "('writing file to ', 'specFile_6000490746905_49612.3383_r.dat')\n",
      "('writing file to ', 'specFile_6000606168402_49612.3383_r.dat')\n",
      "('writing file to ', 'specFile_6000128273501_49612.3383_r.dat')\n",
      "('writing file to ', 'specFile_6000211814800_49612.3383_r.dat')\n",
      "('writing file to ', 'specFile_6000685581405_49612.3383_r.dat')\n",
      "('writing file to ', 'specFile_6000685581404_49612.3383_r.dat')\n",
      "('writing file to ', 'specFile_6000685581402_49612.3383_r.dat')\n",
      "('writing file to ', 'specFile_6000015342700_49612.3383_r.dat')\n",
      "('writing file to ', 'specFile_6000134531900_49612.3383_r.dat')\n",
      "('writing file to ', 'specFile_6000134531906_49612.3383_r.dat')\n",
      "('writing file to ', 'specFile_6000982135402_49612.3383_r.dat')\n",
      "('writing file to ', 'specFile_6000182213900_49612.3383_r.dat')\n",
      "('writing file to ', 'specFile_6001311567801_49612.3383_r.dat')\n",
      "('writing file to ', 'specFile_6000062948600_49612.3383_r.dat')\n",
      "('writing file to ', 'specFile_6000238813410_49612.3383_r.dat')\n",
      "('writing file to ', 'specFile_6000915021801_49612.3383_r.dat')\n",
      "('writing file to ', 'specFile_6001604892701_49612.3383_r.dat')\n",
      "('writing file to ', 'specFile_6001395868502_49612.3383_r.dat')\n",
      "('writing file to ', 'specFile_6000574434803_49612.3383_r.dat')\n",
      "('writing file to ', 'specFile_6000574434801_49612.3383_r.dat')\n",
      "('writing file to ', 'specFile_6000682382002_49612.3383_r.dat')\n",
      "('writing file to ', 'specFile_6000598081300_49612.3383_r.dat')\n",
      "('writing file to ', 'specFile_6001559163605_49612.3383_r.dat')\n",
      "('writing file to ', 'specFile_6000910859700_49612.3383_r.dat')\n",
      "('writing file to ', 'specFile_6001604892708_49612.3383_r.dat')\n",
      "('writing file to ', 'specFile_6001071398302_49612.3383_r.dat')\n",
      "('writing file to ', 'specFile_6001297841900_49612.3383_r.dat')\n",
      "('writing file to ', 'specFile_6000678071502_49612.3383_r.dat')\n",
      "('writing file to ', 'specFile_6000065239400_49612.3383_r.dat')\n",
      "('writing file to ', 'specFile_6000674876108_49612.3383_r.dat')\n",
      "('writing file to ', 'specFile_6000038529902_49612.3383_r.dat')\n",
      "('writing file to ', 'specFile_6000938291203_49612.3383_r.dat')\n",
      "('writing file to ', 'specFile_6000072717303_49612.3383_r.dat')\n",
      "('writing file to ', 'specFile_6000072717304_49612.3383_r.dat')\n",
      "('writing file to ', 'specFile_6000013319703_49612.3383_r.dat')\n",
      "('writing file to ', 'specFile_6000434779807_49612.3383_r.dat')\n",
      "('writing file to ', 'specFile_6001125632102_49612.3383_r.dat')\n",
      "('writing file to ', 'specFile_6000574987008_49612.3383_r.dat')\n",
      "('writing file to ', 'specFile_6000241453803_49612.3383_r.dat')\n",
      "('writing file to ', 'specFile_6000806620403_49612.3383_r.dat')\n",
      "('writing file to ', 'specFile_6000919447501_49612.3383_r.dat')\n",
      "('writing file to ', 'specFile_6000919447504_49612.3383_r.dat')\n",
      "('writing file to ', 'specFile_6000919447507_49612.3383_r.dat')\n",
      "('writing file to ', 'specFile_6001153289900_49612.3383_r.dat')\n",
      "('writing file to ', 'specFile_6001076289901_49612.3383_r.dat')\n",
      "('writing file to ', 'specFile_6001104359605_49612.3383_r.dat')\n",
      "('writing file to ', 'specFile_6000039790801_49612.3383_r.dat')\n",
      "('writing file to ', 'specFile_6001083089800_49612.3383_r.dat')\n",
      "('writing file to ', 'specFile_6000687138504_49612.3383_r.dat')\n",
      "('writing file to ', 'specFile_6001667630003_49612.3383_r.dat')\n",
      "('writing file to ', 'specFile_6001667630000_49612.3383_r.dat')\n",
      "('writing file to ', 'specFile_6000979649202_49612.3383_r.dat')\n",
      "('writing file to ', 'specFile_6000606651500_49612.3383_r.dat')\n",
      "('writing file to ', 'specFile_6001412554301_49612.3383_r.dat')\n",
      "('writing file to ', 'specFile_6001124969203_49612.3383_r.dat')\n",
      "('writing file to ', 'specFile_6000285849403_49612.3383_r.dat')\n",
      "('writing file to ', 'specFile_6000940023802_49612.3383_r.dat')\n",
      "('writing file to ', 'specFile_6001103506602_49612.3383_r.dat')\n",
      "('writing file to ', 'specFile_6000513884600_49612.3383_r.dat')\n",
      "('writing file to ', 'specFile_6000868317803_49612.3383_r.dat')\n",
      "('writing file to ', 'specFile_6000576347401_49612.3383_r.dat')\n",
      "('writing file to ', 'specFile_6000924272500_49612.3383_r.dat')\n",
      "('writing file to ', 'specFile_6000038657100_49612.3383_r.dat')\n",
      "('writing file to ', 'specFile_6000034708902_49612.3383_r.dat')\n",
      "('writing file to ', 'specFile_6001069328711_49612.3383_r.dat')\n",
      "('writing file to ', 'specFile_6000112524502_49612.3383_r.dat')\n",
      "('writing file to ', 'specFile_6000679622509_49612.3383_r.dat')\n",
      "('writing file to ', 'specFile_6001106441500_49612.3383_r.dat')\n",
      "('writing file to ', 'specFile_6000493388001_49612.3383_r.dat')\n",
      "('writing file to ', 'specFile_6000005211702_49612.3383_r.dat')\n",
      "('writing file to ', 'specFile_6000940460206_49612.3383_r.dat')\n",
      "('writing file to ', 'specFile_6001199135103_49612.3383_r.dat')\n",
      "('writing file to ', 'specFile_6000975739801_49612.3383_r.dat')\n",
      "('writing file to ', 'specFile_6000584863908_49612.3383_r.dat')\n",
      "('writing file to ', 'specFile_6000584863900_49612.3383_r.dat')\n",
      "('writing file to ', 'specFile_6000137165304_49612.3383_r.dat')\n",
      "('writing file to ', 'specFile_6000167068307_49612.3383_r.dat')\n",
      "('writing file to ', 'specFile_6000972570502_49612.3383_r.dat')\n",
      "('writing file to ', 'specFile_6000547510902_49612.3383_r.dat')\n",
      "('writing file to ', 'specFile_6000914784400_49612.3383_r.dat')\n",
      "('writing file to ', 'specFile_6000627936000_49612.3383_r.dat')\n",
      "('writing file to ', 'specFile_6000412210009_49612.3383_r.dat')\n",
      "('writing file to ', 'specFile_6000933188005_49612.3383_r.dat')\n",
      "('writing file to ', 'specFile_6000414005603_49612.3383_r.dat')\n",
      "('writing file to ', 'specFile_6000298458003_49612.3383_r.dat')\n",
      "('writing file to ', 'specFile_6000000549201_49612.3383_r.dat')\n",
      "('writing file to ', 'specFile_6000483325300_49612.3383_r.dat')\n",
      "('writing file to ', 'specFile_6001678759402_49612.3383_r.dat')\n",
      "('writing file to ', 'specFile_6000805062900_49612.3383_r.dat')\n",
      "('writing file to ', 'specFile_6000011378201_49612.3383_r.dat')\n",
      "('writing file to ', 'specFile_6000011378200_49612.3383_r.dat')\n",
      "('writing file to ', 'specFile_6000494647400_49612.3383_r.dat')\n",
      "('writing file to ', 'specFile_6000672110506_49612.3383_r.dat')\n",
      "('writing file to ', 'specFile_6000200218701_49612.3383_r.dat')\n",
      "('writing file to ', 'specFile_6000155180512_49612.3383_r.dat')\n",
      "('writing file to ', 'specFile_6001328142500_49612.3383_r.dat')\n",
      "('writing file to ', 'specFile_6001496220201_49612.3383_r.dat')\n",
      "('writing file to ', 'specFile_6000712989003_49612.3383_r.dat')\n",
      "('writing file to ', 'specFile_6000425656001_49612.3383_r.dat')\n",
      "('writing file to ', 'specFile_6000174319000_49612.3383_r.dat')\n",
      "('writing file to ', 'specFile_6001274283001_49612.3383_r.dat')\n",
      "('writing file to ', 'specFile_6000098302501_49612.3383_r.dat')\n",
      "('writing file to ', 'specFile_6000208929002_49612.3383_r.dat')\n",
      "('writing file to ', 'specFile_6001082730705_49612.3383_r.dat')\n",
      "('writing file to ', 'specFile_6001082730706_49612.3383_r.dat')\n",
      "('writing file to ', 'specFile_6000911426800_49612.3383_r.dat')\n",
      "('writing file to ', 'specFile_6000514333401_49612.3383_r.dat')\n",
      "('writing file to ', 'specFile_6000598139101_49612.3383_r.dat')\n",
      "('writing file to ', 'specFile_6000238091605_49612.3383_r.dat')\n",
      "('writing file to ', 'specFile_6000406986706_49612.3383_r.dat')\n",
      "('writing file to ', 'specFile_6000790009413_49612.3383_r.dat')\n",
      "('writing file to ', 'specFile_6000790009408_49612.3383_r.dat')\n",
      "('writing file to ', 'specFile_6000363986303_49612.3383_r.dat')\n",
      "('writing file to ', 'specFile_6001603288204_49612.3383_r.dat')\n",
      "('writing file to ', 'specFile_6001274662701_49612.3383_r.dat')\n",
      "('writing file to ', 'specFile_6000417413903_49612.3383_r.dat')\n",
      "('writing file to ', 'specFile_6000417413908_49612.3383_r.dat')\n",
      "('writing file to ', 'specFile_6001128462700_49612.3383_r.dat')\n",
      "('writing file to ', 'specFile_6001010489503_49612.3383_r.dat')\n",
      "('writing file to ', 'specFile_6000253613201_49612.3383_r.dat')\n",
      "('writing file to ', 'specFile_6001074720700_49612.3383_r.dat')\n",
      "('writing file to ', 'specFile_6000940515604_49612.3383_r.dat')\n",
      "('writing file to ', 'specFile_6000940515609_49612.3383_r.dat')\n",
      "('writing file to ', 'specFile_6000696782601_49612.3383_r.dat')\n",
      "('writing file to ', 'specFile_6000661681100_49612.3383_r.dat')\n",
      "('writing file to ', 'specFile_6000089632201_49612.3383_r.dat')\n",
      "('writing file to ', 'specFile_6000673914604_49612.3383_r.dat')\n",
      "('writing file to ', 'specFile_6001165215401_49612.3383_r.dat')\n",
      "('writing file to ', 'specFile_6001247820800_49612.3383_r.dat')\n",
      "('writing file to ', 'specFile_6001087797407_49612.3383_r.dat')\n",
      "('writing file to ', 'specFile_6000298852004_49612.3383_r.dat')\n",
      "('writing file to ', 'specFile_6000205278002_49612.3383_r.dat')\n",
      "('writing file to ', 'specFile_6000034399203_49612.3383_r.dat')\n",
      "('writing file to ', 'specFile_6000357541300_49612.3383_r.dat')\n",
      "('writing file to ', 'specFile_6001319426000_49612.3383_r.dat')\n",
      "('writing file to ', 'specFile_6001088840901_49612.3383_r.dat')\n",
      "('writing file to ', 'specFile_6001254769900_49612.3383_r.dat')\n",
      "('writing file to ', 'specFile_6000417459110_49612.3383_r.dat')\n",
      "('writing file to ', 'specFile_6000592973400_49612.3383_r.dat')\n",
      "('writing file to ', 'specFile_6000937552508_49612.3383_r.dat')\n",
      "('writing file to ', 'specFile_6000237922901_49612.3383_r.dat')\n",
      "('writing file to ', 'specFile_6000503794104_49612.3383_r.dat')\n",
      "('writing file to ', 'specFile_6000922505900_49612.3383_r.dat')\n",
      "('writing file to ', 'specFile_6000486286608_49612.3383_r.dat')\n",
      "('writing file to ', 'specFile_6000287566910_49612.3383_r.dat')\n",
      "('writing file to ', 'specFile_6000495200504_49612.3383_r.dat')\n",
      "('writing file to ', 'specFile_6000210456500_49612.3383_r.dat')\n",
      "('writing file to ', 'specFile_6000072730105_49612.3383_r.dat')\n",
      "('writing file to ', 'specFile_6001087134601_49612.3383_r.dat')\n",
      "('writing file to ', 'specFile_6000417371700_49612.3383_r.dat')\n",
      "('writing file to ', 'specFile_6000020379900_49612.3383_r.dat')\n",
      "('writing file to ', 'specFile_6000739472900_49612.3383_r.dat')\n",
      "('writing file to ', 'specFile_6000408172205_49612.3383_r.dat')\n",
      "('writing file to ', 'specFile_6001348158501_49612.3383_r.dat')\n",
      "('writing file to ', 'specFile_6000342158106_49612.3383_r.dat')\n",
      "('writing file to ', 'specFile_6000342158107_49612.3383_r.dat')\n",
      "('writing file to ', 'specFile_6000700584801_49612.3383_r.dat')\n",
      "('writing file to ', 'specFile_6000700584800_49612.3383_r.dat')\n",
      "('writing file to ', 'specFile_6000485812504_49612.3383_r.dat')\n",
      "('writing file to ', 'specFile_6000460779600_49612.3383_r.dat')\n",
      "('writing file to ', 'specFile_6000676624603_49612.3383_r.dat')\n",
      "('writing file to ', 'specFile_6000033446302_49612.3383_r.dat')\n",
      "('writing file to ', 'specFile_6001572970001_49612.3383_r.dat')\n",
      "('writing file to ', 'specFile_6001673117201_49612.3383_r.dat')\n",
      "('writing file to ', 'specFile_6000109692304_49612.3383_r.dat')\n",
      "('writing file to ', 'specFile_6001079149602_49612.3383_r.dat')\n",
      "('writing file to ', 'specFile_6001410750400_49612.3383_r.dat')\n",
      "('writing file to ', 'specFile_6000403163802_49612.3383_r.dat')\n",
      "('writing file to ', 'specFile_6000343197304_49612.3383_r.dat')\n",
      "('writing file to ', 'specFile_6000343197313_49612.3383_r.dat')\n",
      "('writing file to ', 'specFile_6000343197305_49612.3383_r.dat')\n",
      "('writing file to ', 'specFile_6001541975801_49612.3383_r.dat')\n",
      "('writing file to ', 'specFile_6000920296007_49612.3383_r.dat')\n",
      "('writing file to ', 'specFile_6000239255404_49612.3383_r.dat')\n",
      "('writing file to ', 'specFile_6000239255406_49612.3383_r.dat')\n",
      "('writing file to ', 'specFile_6000701770204_49612.3383_r.dat')\n",
      "('writing file to ', 'specFile_6000913860601_49612.3383_r.dat')\n",
      "('writing file to ', 'specFile_6000033688200_49612.3383_r.dat')\n",
      "('writing file to ', 'specFile_6000957456700_49612.3383_r.dat')\n",
      "('writing file to ', 'specFile_6001322240302_49612.3383_r.dat')\n",
      "('writing file to ', 'specFile_6001124561302_49612.3383_r.dat')\n",
      "('writing file to ', 'specFile_6000335531502_49612.3383_r.dat')\n",
      "('writing file to ', 'specFile_6000594091809_49612.3383_r.dat')\n",
      "('writing file to ', 'specFile_6000594091807_49612.3383_r.dat')\n",
      "('writing file to ', 'specFile_6000713667100_49612.3383_r.dat')\n",
      "('writing file to ', 'specFile_6000221014500_49612.3383_r.dat')\n",
      "('writing file to ', 'specFile_6000221014505_49612.3383_r.dat')\n",
      "('writing file to ', 'specFile_6000065481000_49612.3383_r.dat')\n",
      "('writing file to ', 'specFile_6000672859500_49612.3383_r.dat')\n",
      "('writing file to ', 'specFile_6000164499300_49612.3383_r.dat')\n",
      "('writing file to ', 'specFile_6001102028903_49612.3383_r.dat')\n",
      "('writing file to ', 'specFile_6000551716103_49612.3383_r.dat')\n",
      "('writing file to ', 'specFile_6000551716108_49612.3383_r.dat')\n",
      "('writing file to ', 'specFile_6000795457501_49612.3383_r.dat')\n",
      "('writing file to ', 'specFile_6001048987801_49612.3383_r.dat')\n",
      "('writing file to ', 'specFile_6000066364100_49612.3383_r.dat')\n",
      "('writing file to ', 'specFile_6001493935900_49612.3383_r.dat')\n",
      "('writing file to ', 'specFile_6000006905505_49612.3383_r.dat')\n",
      "('writing file to ', 'specFile_6000090056107_49612.3383_r.dat')\n",
      "('writing file to ', 'specFile_6000090056110_49612.3383_r.dat')\n",
      "('writing file to ', 'specFile_6000090021001_49612.3383_r.dat')\n",
      "('writing file to ', 'specFile_6001632556302_49612.3383_r.dat')\n",
      "('writing file to ', 'specFile_6000139428605_49612.3383_r.dat')\n",
      "('writing file to ', 'specFile_6000513104500_49612.3383_r.dat')\n",
      "('writing file to ', 'specFile_6000038522100_49612.3383_r.dat')\n",
      "('writing file to ', 'specFile_6000362915402_49612.3383_r.dat')\n",
      "('writing file to ', 'specFile_6000292499903_49612.3383_r.dat')\n",
      "('writing file to ', 'specFile_6000009259001_49612.3383_r.dat')\n",
      "('writing file to ', 'specFile_6000941475401_49612.3383_r.dat')\n",
      "('writing file to ', 'specFile_6000000189404_49612.3383_r.dat')\n",
      "('writing file to ', 'specFile_6000819964202_49612.3383_r.dat')\n",
      "('writing file to ', 'specFile_6001090082505_49612.3383_r.dat')\n",
      "('writing file to ', 'specFile_6000035343211_49612.3383_r.dat')\n",
      "('writing file to ', 'specFile_6000072916907_49612.3383_r.dat')\n",
      "('writing file to ', 'specFile_6000212556702_49612.3383_r.dat')\n",
      "('writing file to ', 'specFile_6000677662612_49612.3383_r.dat')\n",
      "('writing file to ', 'specFile_6000677662600_49612.3383_r.dat')\n",
      "('writing file to ', 'specFile_6000161407900_49612.3383_r.dat')\n",
      "('writing file to ', 'specFile_6000056399603_49612.3383_r.dat')\n",
      "('writing file to ', 'specFile_6001053399102_49612.3383_r.dat')\n",
      "('writing file to ', 'specFile_6000774895402_49612.3383_r.dat')\n",
      "('writing file to ', 'specFile_6000774895400_49612.3383_r.dat')\n",
      "('writing file to ', 'specFile_6000806204406_49612.3383_r.dat')\n",
      "('writing file to ', 'specFile_6000025771801_49612.3383_r.dat')\n",
      "('writing file to ', 'specFile_6000025771802_49612.3383_r.dat')\n",
      "('writing file to ', 'specFile_6000414475300_49612.3383_r.dat')\n",
      "('writing file to ', 'specFile_6000253984201_49612.3383_r.dat')\n",
      "('writing file to ', 'specFile_6000504962500_49612.3383_r.dat')\n",
      "('writing file to ', 'specFile_6000253627200_49612.3383_r.dat')\n",
      "('writing file to ', 'specFile_6000607219501_49612.3383_r.dat')\n",
      "('writing file to ', 'specFile_6000238396802_49612.3383_r.dat')\n",
      "('Type of return', <type 'numpy.ndarray'>, dtype('float64'))\n",
      "(6719,)\n"
     ]
    }
   ],
   "source": [
    "pc.write_catalog('SNOnlyPhoSimCatalog.dat')"
   ]
  },
  {
   "cell_type": "code",
   "execution_count": 25,
   "metadata": {
    "collapsed": false
   },
   "outputs": [
    {
     "name": "stderr",
     "output_type": "stream",
     "text": [
      "/usr/local/manual/anaconda/lib/python2.7/site-packages/ipykernel/__main__.py:1: ParserWarning: Falling back to the 'python' engine because the 'c' engine does not support regex separators; you can avoid this warning by specifying engine='python'.\n",
      "  if __name__ == '__main__':\n"
     ]
    },
    {
     "data": {
      "text/html": [
       "<div>\n",
       "<table border=\"1\" class=\"dataframe\">\n",
       "  <thead>\n",
       "    <tr style=\"text-align: right;\">\n",
       "      <th></th>\n",
       "      <th>snra</th>\n",
       "      <th>sndec</th>\n",
       "      <th>z</th>\n",
       "      <th>t0</th>\n",
       "      <th>c</th>\n",
       "      <th>x1</th>\n",
       "      <th>x0</th>\n",
       "      <th>galtileid</th>\n",
       "      <th>flux</th>\n",
       "      <th>flux_err</th>\n",
       "      <th>mag</th>\n",
       "      <th>mag_err</th>\n",
       "      <th>TmagNorm</th>\n",
       "      <th>TsedFilepath</th>\n",
       "      <th>adu</th>\n",
       "      <th>DeltaT</th>\n",
       "      <th>SNR</th>\n",
       "    </tr>\n",
       "    <tr>\n",
       "      <th>snid</th>\n",
       "      <th></th>\n",
       "      <th></th>\n",
       "      <th></th>\n",
       "      <th></th>\n",
       "      <th></th>\n",
       "      <th></th>\n",
       "      <th></th>\n",
       "      <th></th>\n",
       "      <th></th>\n",
       "      <th></th>\n",
       "      <th></th>\n",
       "      <th></th>\n",
       "      <th></th>\n",
       "      <th></th>\n",
       "      <th></th>\n",
       "      <th></th>\n",
       "      <th></th>\n",
       "    </tr>\n",
       "  </thead>\n",
       "  <tbody>\n",
       "    <tr>\n",
       "      <th>6000274614100</th>\n",
       "      <td>0.924854</td>\n",
       "      <td>-0.479609</td>\n",
       "      <td>0.8928</td>\n",
       "      <td>49548.8777</td>\n",
       "      <td>0.033894</td>\n",
       "      <td>1.4029</td>\n",
       "      <td>0.000003</td>\n",
       "      <td>60002746141</td>\n",
       "      <td>6.241729e-12</td>\n",
       "      <td>3.596256e-11</td>\n",
       "      <td>28.011700</td>\n",
       "      <td>2.075135</td>\n",
       "      <td>27.0441</td>\n",
       "      <td>specFile_6000274614100_49612.3383_r.dat</td>\n",
       "      <td>18.0798</td>\n",
       "      <td>63.460596</td>\n",
       "      <td>0.173562</td>\n",
       "    </tr>\n",
       "    <tr>\n",
       "      <th>6000606050501</th>\n",
       "      <td>0.924858</td>\n",
       "      <td>-0.479617</td>\n",
       "      <td>0.6129</td>\n",
       "      <td>49649.3653</td>\n",
       "      <td>0.101883</td>\n",
       "      <td>0.6835</td>\n",
       "      <td>0.000005</td>\n",
       "      <td>60006060505</td>\n",
       "      <td>0.000000e+00</td>\n",
       "      <td>NaN</td>\n",
       "      <td>inf</td>\n",
       "      <td>inf</td>\n",
       "      <td>50.2928</td>\n",
       "      <td>specFile_6000606050501_49612.3383_r.dat</td>\n",
       "      <td>0.0000</td>\n",
       "      <td>-37.027004</td>\n",
       "      <td>NaN</td>\n",
       "    </tr>\n",
       "    <tr>\n",
       "      <th>6000018451007</th>\n",
       "      <td>0.924901</td>\n",
       "      <td>-0.479572</td>\n",
       "      <td>0.0792</td>\n",
       "      <td>49663.7526</td>\n",
       "      <td>0.102872</td>\n",
       "      <td>-0.0847</td>\n",
       "      <td>0.000481</td>\n",
       "      <td>60000184510</td>\n",
       "      <td>0.000000e+00</td>\n",
       "      <td>NaN</td>\n",
       "      <td>inf</td>\n",
       "      <td>inf</td>\n",
       "      <td>45.9639</td>\n",
       "      <td>specFile_6000018451007_49612.3383_r.dat</td>\n",
       "      <td>0.0000</td>\n",
       "      <td>-51.414304</td>\n",
       "      <td>NaN</td>\n",
       "    </tr>\n",
       "    <tr>\n",
       "      <th>6000091709107</th>\n",
       "      <td>0.924818</td>\n",
       "      <td>-0.479540</td>\n",
       "      <td>0.8797</td>\n",
       "      <td>49571.7622</td>\n",
       "      <td>0.122812</td>\n",
       "      <td>0.3551</td>\n",
       "      <td>0.000002</td>\n",
       "      <td>60000917091</td>\n",
       "      <td>6.625628e-12</td>\n",
       "      <td>3.596336e-11</td>\n",
       "      <td>27.946900</td>\n",
       "      <td>2.020182</td>\n",
       "      <td>27.2687</td>\n",
       "      <td>specFile_6000091709107_49612.3383_r.dat</td>\n",
       "      <td>19.1918</td>\n",
       "      <td>40.576096</td>\n",
       "      <td>0.184233</td>\n",
       "    </tr>\n",
       "    <tr>\n",
       "      <th>6000777478400</th>\n",
       "      <td>0.924802</td>\n",
       "      <td>-0.479560</td>\n",
       "      <td>0.5110</td>\n",
       "      <td>49661.1437</td>\n",
       "      <td>-0.095341</td>\n",
       "      <td>2.4452</td>\n",
       "      <td>0.000019</td>\n",
       "      <td>60007774784</td>\n",
       "      <td>0.000000e+00</td>\n",
       "      <td>NaN</td>\n",
       "      <td>inf</td>\n",
       "      <td>inf</td>\n",
       "      <td>48.3956</td>\n",
       "      <td>specFile_6000777478400_49612.3383_r.dat</td>\n",
       "      <td>0.0000</td>\n",
       "      <td>-48.805404</td>\n",
       "      <td>NaN</td>\n",
       "    </tr>\n",
       "  </tbody>\n",
       "</table>\n",
       "</div>"
      ],
      "text/plain": [
       "                   snra     sndec       z          t0         c      x1  \\\n",
       "snid                                                                      \n",
       "6000274614100  0.924854 -0.479609  0.8928  49548.8777  0.033894  1.4029   \n",
       "6000606050501  0.924858 -0.479617  0.6129  49649.3653  0.101883  0.6835   \n",
       "6000018451007  0.924901 -0.479572  0.0792  49663.7526  0.102872 -0.0847   \n",
       "6000091709107  0.924818 -0.479540  0.8797  49571.7622  0.122812  0.3551   \n",
       "6000777478400  0.924802 -0.479560  0.5110  49661.1437 -0.095341  2.4452   \n",
       "\n",
       "                     x0    galtileid          flux      flux_err        mag  \\\n",
       "snid                                                                          \n",
       "6000274614100  0.000003  60002746141  6.241729e-12  3.596256e-11  28.011700   \n",
       "6000606050501  0.000005  60006060505  0.000000e+00           NaN        inf   \n",
       "6000018451007  0.000481  60000184510  0.000000e+00           NaN        inf   \n",
       "6000091709107  0.000002  60000917091  6.625628e-12  3.596336e-11  27.946900   \n",
       "6000777478400  0.000019  60007774784  0.000000e+00           NaN        inf   \n",
       "\n",
       "                mag_err  TmagNorm                             TsedFilepath  \\\n",
       "snid                                                                         \n",
       "6000274614100  2.075135   27.0441  specFile_6000274614100_49612.3383_r.dat   \n",
       "6000606050501       inf   50.2928  specFile_6000606050501_49612.3383_r.dat   \n",
       "6000018451007       inf   45.9639  specFile_6000018451007_49612.3383_r.dat   \n",
       "6000091709107  2.020182   27.2687  specFile_6000091709107_49612.3383_r.dat   \n",
       "6000777478400       inf   48.3956  specFile_6000777478400_49612.3383_r.dat   \n",
       "\n",
       "                   adu     DeltaT       SNR  \n",
       "snid                                         \n",
       "6000274614100  18.0798  63.460596  0.173562  \n",
       "6000606050501   0.0000 -37.027004       NaN  \n",
       "6000018451007   0.0000 -51.414304       NaN  \n",
       "6000091709107  19.1918  40.576096  0.184233  \n",
       "6000777478400   0.0000 -48.805404       NaN  "
      ]
     },
     "execution_count": 25,
     "metadata": {},
     "output_type": "execute_result"
    }
   ],
   "source": [
    "sncatdf = pd.read_csv('newcat.dat', sep=',\\s+')\n",
    "sncatdf.rename(columns={'#snid':'snid'}, inplace=True)\n",
    "sncatdf['snid'] = sncatdf.snid.astype(int)\n",
    "sncatdf.set_index('snid', inplace=True)\n",
    "sncatdf['DeltaT'] = sncatalog.mjdobs - sncatdf['t0']\n",
    "sncatdf['SNR'] = sncatdf.flux / sncatdf.flux_err\n",
    "sncatdf.head()"
   ]
  },
  {
   "cell_type": "code",
   "execution_count": 41,
   "metadata": {
    "collapsed": false
   },
   "outputs": [
    {
     "data": {
      "image/png": "[encoded data removed]",
      "text/plain": [
       "<matplotlib.figure.Figure at 0x1245925d0>"
      ]
     },
     "metadata": {},
     "output_type": "display_data"
    }
   ],
   "source": [
    "fig, ax = plt.subplots(nrows=1, ncols=2);\n",
    "_ = ax[0].hist(sncatdf.query('SNR > 5.').z, bins=np.arange(0., 1.2, 0.1), histtype='step', lw=2, color='k', normed=True,\n",
    "               label='highSNR')\n",
    "_ = ax[0].hist(sncatdf.query('SNR < 5. and SNR > 0.').z, bins=np.arange(0., 1.2, 0.1), histtype='step', lw=2, color='r', \n",
    "             normed=True, label='lowSNR')\n",
    "_ = ax[0].hist(sncatdf.query('SNR > 0.').z, bins=np.arange(0., 1.2, 0.1), histtype='step', lw=2, color='b', \n",
    "             normed=True, label='Active')\n",
    "ax[0].grid(True)\n",
    "_ = ax[1].hist(sncatdf.query('SNR > 5.').z, bins=np.arange(0., 1.2, 0.1), histtype='step', lw=2, color='k', normed=False, \n",
    "               cumulative=-1)\n",
    "_ = ax[1].hist(sncatdf.query('SNR < 5. and SNR > 0.').z, bins=np.arange(0., 1.2, 0.1), histtype='step', lw=2, color='r', \n",
    "               normed=False, cumulative=-1)\n",
    "_ = ax[1].grid(True)\n",
    "_ = ax[0].legend(loc='upper left')\n",
    "_ = ax[0].set_ylabel('PDF')\n",
    "_ = ax[1].set_ylabel('Num SN at z > ')\n",
    "_ = fig.suptitle('Redshift Distribution of SN')"
   ]
  },
  {
   "cell_type": "markdown",
   "metadata": {},
   "source": [
    "##  PhoSim Catalog For galaxy Disks"
   ]
  },
  {
   "cell_type": "code",
   "execution_count": null,
   "metadata": {
    "collapsed": false
   },
   "outputs": [],
   "source": [
    "from lsst.sims.catUtils.exampleCatalogDefinitions.phoSimCatalogExamples import PhoSimCatalogSN, PhoSimCatalogSersic2D"
   ]
  },
  {
   "cell_type": "code",
   "execution_count": null,
   "metadata": {
    "collapsed": true
   },
   "outputs": [],
   "source": [
    "from lsst.sims.catUtils.baseCatalogModels import GalaxyDiskObj"
   ]
  },
  {
   "cell_type": "code",
   "execution_count": null,
   "metadata": {
    "collapsed": false
   },
   "outputs": [],
   "source": [
    "gDisk = GalaxyDiskObj()"
   ]
  },
  {
   "cell_type": "code",
   "execution_count": null,
   "metadata": {
    "collapsed": false
   },
   "outputs": [],
   "source": [
    "gDisk.objectTypeId"
   ]
  },
  {
   "cell_type": "code",
   "execution_count": null,
   "metadata": {
    "collapsed": false
   },
   "outputs": [],
   "source": [
    "class GdiscCatalogClass(InstanceCatalog):\n",
    "    \n",
    "    column_outputs = ['raJ2000', 'decJ2000', 'galtileid', 'id', 'redshift']\n",
    "    override_formats = {'raJ2000': '%8e', 'decJ2000': '%8e', 'x0':'%8e'}"
   ]
  },
  {
   "cell_type": "code",
   "execution_count": null,
   "metadata": {
    "collapsed": false
   },
   "outputs": [],
   "source": [
    "\n",
    "gd = GdiscCatalogClass(db_obj=gDisk, obs_metadata=TwinklesObsMetaDataSmall)\n",
    "gd.write_catalog('GalaxyDisks.dat')"
   ]
  },
  {
   "cell_type": "code",
   "execution_count": null,
   "metadata": {
    "collapsed": false
   },
   "outputs": [],
   "source": [
    "phosimGals = PhoSimCatalogSersic2D(db_obj=gDisk, obs_metadata=TwinklesObsMetaDataSmall)"
   ]
  },
  {
   "cell_type": "code",
   "execution_count": null,
   "metadata": {
    "collapsed": true
   },
   "outputs": [],
   "source": [
    "phosimGals.write_catalog('GalDiskPhoSimCatalog.dat')\n",
    "phosimGals.write_catalog('SNPhoSimCatalog.dat', write_header=False, write_mode='a')"
   ]
  },
  {
   "cell_type": "markdown",
   "metadata": {},
   "source": [
    "## Keeping only hosts"
   ]
  },
  {
   "cell_type": "code",
   "execution_count": null,
   "metadata": {
    "collapsed": false
   },
   "outputs": [],
   "source": [
    "galD = pd.read_csv('GalaxyDisks.dat', sep=',\\s+');\n",
    "galD.rename(columns={'#raJ2000': 'raJ2000'}, inplace=True)\n",
    "galD.head()"
   ]
  },
  {
   "cell_type": "code",
   "execution_count": null,
   "metadata": {
    "collapsed": false
   },
   "outputs": [],
   "source": [
    "gg = galD.galtileid.copy(deep=True)\n",
    "gg.sort(inplace=True)\n",
    "sng = df.galtileid.copy(deep=True)\n",
    "sng.sort(inplace=True)"
   ]
  },
  {
   "cell_type": "code",
   "execution_count": null,
   "metadata": {
    "collapsed": false
   },
   "outputs": [],
   "source": [
    "sgg = set(gg.values); print (len(sgg))"
   ]
  },
  {
   "cell_type": "code",
   "execution_count": null,
   "metadata": {
    "collapsed": false
   },
   "outputs": [],
   "source": [
    "sngg = set(sng.values); print(len(sngg))"
   ]
  },
  {
   "cell_type": "code",
   "execution_count": null,
   "metadata": {
    "collapsed": false
   },
   "outputs": [],
   "source": [
    "galdiskids = np.left_shift(np.array(list(sgg.intersection(set(sng.values)))), 10) + 27"
   ]
  },
  {
   "cell_type": "code",
   "execution_count": null,
   "metadata": {
    "collapsed": false
   },
   "outputs": [],
   "source": [
    "len(sng.values)"
   ]
  },
  {
   "cell_type": "code",
   "execution_count": null,
   "metadata": {
    "collapsed": false
   },
   "outputs": [],
   "source": [
    "gals = pd.read_csv('SNGalDiskCatalog.dat', sep='\\s*', skiprows=410).values"
   ]
  },
  {
   "cell_type": "code",
   "execution_count": null,
   "metadata": {
    "collapsed": false
   },
   "outputs": [],
   "source": [
    "gdiskids = np.left_shift(df.galtileid, 10).values + 27"
   ]
  },
  {
   "cell_type": "code",
   "execution_count": null,
   "metadata": {
    "collapsed": false
   },
   "outputs": [],
   "source": [
    "gdiskids"
   ]
  },
  {
   "cell_type": "code",
   "execution_count": null,
   "metadata": {
    "collapsed": false
   },
   "outputs": [],
   "source": [
    "with open('SNGalDiskCatalog.dat') as f:\n",
    "    contents = f.read()\n",
    "\n",
    "lines = contents.split('\\n')\n",
    "lines.pop()\n",
    "# print len(contents)\n",
    "with open('SNHostFile.dat', 'w') as f:\n",
    "    for i, line in enumerate(lines):\n",
    "        if i < 410:\n",
    "            # print line\n",
    "            f.write(line+'\\n')\n",
    "        else:\n",
    "            objint = int(line.split()[1])\n",
    "            # print i, int(line.split()[1])\n",
    "            if objint in galdiskids:\n",
    "                f.write(line+'\\n')"
   ]
  },
  {
   "cell_type": "code",
   "execution_count": null,
   "metadata": {
    "collapsed": true
   },
   "outputs": [],
   "source": [
    "with open('SNGalDiskCatalog.dat') as f:\n",
    "    contents = f.read()"
   ]
  },
  {
   "cell_type": "code",
   "execution_count": null,
   "metadata": {
    "collapsed": false
   },
   "outputs": [],
   "source": [
    "contents.split('\\n').pop()"
   ]
  },
  {
   "cell_type": "code",
   "execution_count": null,
   "metadata": {
    "collapsed": false
   },
   "outputs": [],
   "source": [
    "contents.split('\\n').pop()"
   ]
  },
  {
   "cell_type": "code",
   "execution_count": null,
   "metadata": {
    "collapsed": false
   },
   "outputs": [],
   "source": [
    "gals[:, 1].astype(np.int).sort()"
   ]
  },
  {
   "cell_type": "code",
   "execution_count": null,
   "metadata": {
    "collapsed": false
   },
   "outputs": [],
   "source": [
    "61449608101915 in gals[:, 1]"
   ]
  },
  {
   "cell_type": "code",
   "execution_count": null,
   "metadata": {
    "collapsed": false
   },
   "outputs": [],
   "source": [
    "galdiskids"
   ]
  },
  {
   "cell_type": "code",
   "execution_count": null,
   "metadata": {
    "collapsed": false
   },
   "outputs": [],
   "source": [
    "np.left_shift(np.array(list(sgg.intersection(set(sng.values)))), 10) + 27"
   ]
  },
  {
   "cell_type": "code",
   "execution_count": null,
   "metadata": {
    "collapsed": true
   },
   "outputs": [],
   "source": [
    "SNgaltileIds = df.galtileid"
   ]
  },
  {
   "cell_type": "code",
   "execution_count": null,
   "metadata": {
    "collapsed": false
   },
   "outputs": [],
   "source": [
    "np.left_shift(SNgaltileIds, 10) + gdiskobjid"
   ]
  },
  {
   "cell_type": "code",
   "execution_count": null,
   "metadata": {
    "collapsed": false
   },
   "outputs": [],
   "source": [
    "len(phosimGals.column_outputs)"
   ]
  },
  {
   "cell_type": "code",
   "execution_count": null,
   "metadata": {
    "collapsed": false
   },
   "outputs": [],
   "source": [
    "len(pc.column_outputs)"
   ]
  },
  {
   "cell_type": "code",
   "execution_count": null,
   "metadata": {
    "collapsed": false,
    "scrolled": true
   },
   "outputs": [],
   "source": [
    "pc = PhoSimCatalogSN(db_obj=s, obs_metadata=TwinklesObsMetaDataSmall, column_outputs=['EBV'])\n",
    "pc.writeSedFile = True\n",
    "pc.surveyStartDate = 49500\n",
    "pc.suppressDimSN = True"
   ]
  },
  {
   "cell_type": "code",
   "execution_count": null,
   "metadata": {
    "collapsed": true
   },
   "outputs": [],
   "source": [
    "from copy import deepcopy"
   ]
  },
  {
   "cell_type": "code",
   "execution_count": null,
   "metadata": {
    "collapsed": false
   },
   "outputs": [],
   "source": [
    "len(pc.column_outputs)"
   ]
  },
  {
   "cell_type": "code",
   "execution_count": null,
   "metadata": {
    "collapsed": false
   },
   "outputs": [],
   "source": [
    "for col in phosimGals.column_outputs:\n",
    "    if not col in pc.column_outputs:\n",
    "        print col"
   ]
  },
  {
   "cell_type": "code",
   "execution_count": null,
   "metadata": {
    "collapsed": false
   },
   "outputs": [],
   "source": [
    "pc.write_catalog('SNPhoSimCatalog.dat')"
   ]
  },
  {
   "cell_type": "code",
   "execution_count": null,
   "metadata": {
    "collapsed": false
   },
   "outputs": [],
   "source": [
    "np.array([3.2, 1.2]) *1.2"
   ]
  },
  {
   "cell_type": "code",
   "execution_count": null,
   "metadata": {
    "collapsed": false
   },
   "outputs": [],
   "source": [
    "0.1/11.113"
   ]
  },
  {
   "cell_type": "code",
   "execution_count": null,
   "metadata": {
    "collapsed": false
   },
   "outputs": [],
   "source": [
    "!wc -l SNPhoSimCatalog.dat"
   ]
  },
  {
   "cell_type": "code",
   "execution_count": null,
   "metadata": {
    "collapsed": false
   },
   "outputs": [],
   "source": [
    "!head -22 SNPhoSimCatalog.dat"
   ]
  },
  {
   "cell_type": "code",
   "execution_count": null,
   "metadata": {
    "collapsed": false
   },
   "outputs": [],
   "source": [
    "phdf = pd.read_csv('SNPhoSimCatalog.dat', skiprows=18, sep='\\s*')"
   ]
  },
  {
   "cell_type": "code",
   "execution_count": null,
   "metadata": {
    "collapsed": false
   },
   "outputs": [],
   "source": [
    "phdf.rename(columns={})"
   ]
  },
  {
   "cell_type": "code",
   "execution_count": null,
   "metadata": {
    "collapsed": false
   },
   "outputs": [],
   "source": [
    "phdf.head()"
   ]
  },
  {
   "cell_type": "code",
   "execution_count": null,
   "metadata": {
    "collapsed": false
   },
   "outputs": [],
   "source": [
    "plt.hist(np.asarray(phdf)[:,1], log=True)"
   ]
  },
  {
   "cell_type": "code",
   "execution_count": null,
   "metadata": {
    "collapsed": true
   },
   "outputs": [],
   "source": [
    "def phosimOutDF(fname0, fname1):\n",
    "    \n",
    "    phosimOut0 = pd.read_csv(fname0, sep='\\s+')\n",
    "    phosimOut1 = pd.read_csv(fname1, sep='\\s+')\n",
    "    phosimOut0.Photons += phosimOut1.Photons\n",
    "    phosimOut0."
   ]
  },
  {
   "cell_type": "code",
   "execution_count": 29,
   "metadata": {
    "collapsed": false
   },
   "outputs": [],
   "source": [
    "phosimOuta = pd.read_csv('/Users/rbiswas/soft/phosim_release/output/centroid_lsst_e_203482_R22_S11_E000.txt', \n",
    "                         sep='\\s+')"
   ]
  },
  {
   "cell_type": "code",
   "execution_count": 30,
   "metadata": {
    "collapsed": true
   },
   "outputs": [],
   "source": [
    "phosimOutb = pd.read_csv('/Users/rbiswas/soft/phosim_release/output/centroid_lsst_e_203482_R22_S11_E001.txt', sep='\\s+')"
   ]
  },
  {
   "cell_type": "code",
   "execution_count": 31,
   "metadata": {
    "collapsed": true
   },
   "outputs": [],
   "source": [
    "phosimOuta.Photons = phosimOuta.Photons + phosimOutb.Photons"
   ]
  },
  {
   "cell_type": "code",
   "execution_count": 32,
   "metadata": {
    "collapsed": false
   },
   "outputs": [],
   "source": [
    "phosimOuta['SourceID'] = phosimOuta.SourceID.astype(int)"
   ]
  },
  {
   "cell_type": "code",
   "execution_count": 33,
   "metadata": {
    "collapsed": false
   },
   "outputs": [],
   "source": [
    "phosimOuta['snid'] = np.right_shift(phosimOuta['SourceID'], 10)"
   ]
  },
  {
   "cell_type": "code",
   "execution_count": 34,
   "metadata": {
    "collapsed": false
   },
   "outputs": [],
   "source": [
    "phosimOuta.set_index('snid', inplace=True)"
   ]
  },
  {
   "cell_type": "code",
   "execution_count": 36,
   "metadata": {
    "collapsed": false
   },
   "outputs": [
    {
     "data": {
      "text/plain": [
       "-31.282399999999999"
      ]
     },
     "execution_count": 36,
     "metadata": {},
     "output_type": "execute_result"
    }
   ],
   "source": [
    "sncatdf.adu.min()"
   ]
  },
  {
   "cell_type": "code",
   "execution_count": 37,
   "metadata": {
    "collapsed": false
   },
   "outputs": [],
   "source": [
    "sncatdf['ratio'] = sncatdf.adu / phosimOuta.Photons"
   ]
  },
  {
   "cell_type": "code",
   "execution_count": 38,
   "metadata": {
    "collapsed": true
   },
   "outputs": [],
   "source": [
    "sncatdf['Photons'] = phosimOuta.Photons"
   ]
  },
  {
   "cell_type": "code",
   "execution_count": null,
   "metadata": {
    "collapsed": false
   },
   "outputs": [],
   "source": [
    "sncatdf.query('ratio == 0.')"
   ]
  },
  {
   "cell_type": "code",
   "execution_count": 43,
   "metadata": {
    "collapsed": true
   },
   "outputs": [],
   "source": [
    "from scipy.stats import poisson"
   ]
  },
  {
   "cell_type": "code",
   "execution_count": 42,
   "metadata": {
    "collapsed": false
   },
   "outputs": [
    {
     "data": {
      "text/plain": [
       "<matplotlib.legend.Legend at 0x1245fbed0>"
      ]
     },
     "execution_count": 42,
     "metadata": {},
     "output_type": "execute_result"
    },
    {
     "data": {
      "image/png": "[encoded data removed]",
      "text/plain": [
       "<matplotlib.figure.Figure at 0x122bceed0>"
      ]
     },
     "metadata": {},
     "output_type": "display_data"
    }
   ],
   "source": [
    "fig, ax = plt.subplots()\n",
    "sns.distplot(sncatdf.ratio.replace([-np.inf, np.inf],np.nan).dropna(), bins=np.arange(0.0, 5., 0.05), \n",
    "             rug_kws=False,kde=False, norm_hist=False).set_xlim(0,)\n",
    "sns.distributions()\n",
    "#ax.hist(df.ratio.replace([-np.inf, np.inf],np.nan).dropna() ,bins=np.arange(0., 5, 0.05))\n",
    "ax.axvline(1./2.3, color='k', **{'label':'1/gain', 'linestyle':'dashed'})\n",
    "ax.set_xlabel('adu/Photons')\n",
    "ax.legend(loc='best')"
   ]
  },
  {
   "cell_type": "code",
   "execution_count": 50,
   "metadata": {
    "collapsed": true
   },
   "outputs": [],
   "source": [
    "rv = poisson(mu=1)"
   ]
  },
  {
   "cell_type": "code",
   "execution_count": 51,
   "metadata": {
    "collapsed": true
   },
   "outputs": [],
   "source": [
    "x = np.arange(0, 10)"
   ]
  },
  {
   "cell_type": "code",
   "execution_count": 55,
   "metadata": {
    "collapsed": false
   },
   "outputs": [
    {
     "data": {
      "text/plain": [
       "[<matplotlib.lines.Line2D at 0x11bf21190>]"
      ]
     },
     "execution_count": 55,
     "metadata": {},
     "output_type": "execute_result"
    },
    {
     "data": {
      "image/png": "[encoded data removed]",
      "text/plain": [
       "<matplotlib.figure.Figure at 0x12561d710>"
      ]
     },
     "metadata": {},
     "output_type": "display_data"
    }
   ],
   "source": [
    "plt.plot(x, rv.pmf(x), 'bo')"
   ]
  },
  {
   "cell_type": "code",
   "execution_count": 52,
   "metadata": {
    "collapsed": false
   },
   "outputs": [
    {
     "ename": "SyntaxError",
     "evalue": "invalid syntax (<ipython-input-52-7080adb9fa8c>, line 1)",
     "output_type": "error",
     "traceback": [
      "\u001b[0;36m  File \u001b[0;32m\"<ipython-input-52-7080adb9fa8c>\"\u001b[0;36m, line \u001b[0;32m1\u001b[0m\n\u001b[0;31m    )plt.hist(sncatdf.Photons / sncatdf.adu / 2.3, np.arange(-0.5,5.5), histtype='step')\u001b[0m\n\u001b[0m    ^\u001b[0m\n\u001b[0;31mSyntaxError\u001b[0m\u001b[0;31m:\u001b[0m invalid syntax\n"
     ]
    }
   ],
   "source": [
    "plt.hist(sncatdf.Photons / sncatdf.adu / 2.3, np.arange(-0.5,5.5), histtype='step')\n",
    "plt.plot()"
   ]
  },
  {
   "cell_type": "code",
   "execution_count": null,
   "metadata": {
    "collapsed": true
   },
   "outputs": [],
   "source": [
    "plt.plot(poisson.pmf)"
   ]
  },
  {
   "cell_type": "code",
   "execution_count": null,
   "metadata": {
    "collapsed": false
   },
   "outputs": [],
   "source": [
    "df.query('ratio > 1000.')[['adu', 'Photons', 'flux', 'DeltaT', 'mag', 'mag_err', 'flux_err']]"
   ]
  },
  {
   "cell_type": "code",
   "execution_count": null,
   "metadata": {
    "collapsed": false
   },
   "outputs": [],
   "source": [
    "x = df.query('ratio ==0.').Photons.copy(deep=True)"
   ]
  },
  {
   "cell_type": "code",
   "execution_count": null,
   "metadata": {
    "collapsed": false
   },
   "outputs": [],
   "source": [
    "x.sort(ascending=False); x"
   ]
  },
  {
   "cell_type": "code",
   "execution_count": null,
   "metadata": {
    "collapsed": true
   },
   "outputs": [],
   "source": [
    "fig.savefig('invGain.png')"
   ]
  },
  {
   "cell_type": "code",
   "execution_count": null,
   "metadata": {
    "collapsed": false
   },
   "outputs": [],
   "source": [
    "import seaborn as sns\n",
    "sns.set()"
   ]
  },
  {
   "cell_type": "code",
   "execution_count": null,
   "metadata": {
    "collapsed": false
   },
   "outputs": [],
   "source": [
    "print len(df.query('ratio > 10000')), df.query('ratio > 10000').ratio.unique()\n",
    "print len(df.query('ratio < -10000')), df.query('ratio < -10000').ratio.unique()"
   ]
  },
  {
   "cell_type": "code",
   "execution_count": null,
   "metadata": {
    "collapsed": false
   },
   "outputs": [],
   "source": [
    "df.query('ratio >500.').adu "
   ]
  },
  {
   "cell_type": "code",
   "execution_count": null,
   "metadata": {
    "collapsed": false
   },
   "outputs": [],
   "source": [
    "_df = df.query('ratio == 0.')\n",
    "_dff = df.query('ratio < 0.')\n",
    "_ = plt.hist(_df.DeltaT / (_df.z + 1.), bins=np.arange(-30, 70., 1.), histtype='step', color='b', alpha=1., lw=2.)\n",
    "_ = plt.hist(_dff.DeltaT / (_dff.z + 1.), bins=np.arange(-30, 70., 1.), histtype='step', color='r', alpha=1., lw=2.)\n",
    "plt.axvline(-20., color='k')\n",
    "plt.axvline(50., color='k')"
   ]
  },
  {
   "cell_type": "code",
   "execution_count": null,
   "metadata": {
    "collapsed": false
   },
   "outputs": [],
   "source": [
    "_df = df[['z', 'ratio']].replace([-np.inf, np.inf], [-20., 200.]).dropna()\n",
    "#sns.jointplot(_df.z, _df.ratio, kind='kde')\n",
    "plt.plot(_df.z, _df.ratio, 'o')"
   ]
  },
  {
   "cell_type": "code",
   "execution_count": null,
   "metadata": {
    "collapsed": false
   },
   "outputs": [],
   "source": [
    "adus = df.adu.dropna().sum()\n",
    "photons = phosimOuta.replace([np.inf],np.nan).Photons.dropna().sum()"
   ]
  },
  {
   "cell_type": "code",
   "execution_count": null,
   "metadata": {
    "collapsed": false
   },
   "outputs": [],
   "source": [
    "photons / adus"
   ]
  },
  {
   "cell_type": "code",
   "execution_count": null,
   "metadata": {
    "collapsed": false
   },
   "outputs": [],
   "source": [
    "active = df.query('SNR > 0.').replace([np.inf],np.nan).dropna().ratio\n",
    "bright = df.query('SNR > 5.').replace([np.inf],np.nan).dropna().ratio"
   ]
  },
  {
   "cell_type": "code",
   "execution_count": null,
   "metadata": {
    "collapsed": false
   },
   "outputs": [],
   "source": [
    "s = 0.05\n",
    "plt.hist(active, color='r', bins=np.arange(0., 25, s), histtype='step', label='SNR>0', lw=2)\n",
    "plt.hist(bright, color='k', bins=np.arange(0., 25, s), histtype='step', label='SNR>5', lw=2)\n",
    "plt.legend(loc='best')\n",
    "plt.axvline(1./2.3)\n",
    "plt.xlim(0, 5)"
   ]
  },
  {
   "cell_type": "code",
   "execution_count": null,
   "metadata": {
    "collapsed": true
   },
   "outputs": [],
   "source": [
    "import lsst.afw.image as afwi"
   ]
  },
  {
   "cell_type": "code",
   "execution_count": null,
   "metadata": {
    "collapsed": true
   },
   "outputs": [],
   "source": [
    "img0 = afwi.ImageF('/Users/rbiswas/soft/phosim_release/output/lsst_e_203482_f2_R22_S11_E000.fits.gz')\n",
    "img1 = afwi.ImageF('/Users/rbiswas/soft/phosim_release/output/lsst_e_203482_f2_R22_S11_E001.fits.gz')"
   ]
  },
  {
   "cell_type": "code",
   "execution_count": null,
   "metadata": {
    "collapsed": false
   },
   "outputs": [],
   "source": [
    "arr0 = img0.getArray()\n",
    "arr1 = img1.getArray()"
   ]
  },
  {
   "cell_type": "code",
   "execution_count": null,
   "metadata": {
    "collapsed": false
   },
   "outputs": [],
   "source": [
    "arr = arr0 + arr1\n",
    "electrons = arr.sum()"
   ]
  },
  {
   "cell_type": "code",
   "execution_count": null,
   "metadata": {
    "collapsed": false
   },
   "outputs": [],
   "source": [
    "adus  = df.adu.dropna().sum()"
   ]
  },
  {
   "cell_type": "code",
   "execution_count": null,
   "metadata": {
    "collapsed": false
   },
   "outputs": [],
   "source": [
    "2.3 / np.sqrt(2)"
   ]
  },
  {
   "cell_type": "code",
   "execution_count": null,
   "metadata": {
    "collapsed": false
   },
   "outputs": [],
   "source": [
    "electrons / adus"
   ]
  },
  {
   "cell_type": "code",
   "execution_count": null,
   "metadata": {
    "collapsed": false
   },
   "outputs": [],
   "source": [
    "x.replace([-np.inf, np.inf], np.nan, inplace=True)"
   ]
  },
  {
   "cell_type": "code",
   "execution_count": null,
   "metadata": {
    "collapsed": false
   },
   "outputs": [],
   "source": [
    "x.dropna().hist()"
   ]
  },
  {
   "cell_type": "code",
   "execution_count": null,
   "metadata": {
    "collapsed": true
   },
   "outputs": [],
   "source": []
  },
  {
   "cell_type": "code",
   "execution_count": null,
   "metadata": {
    "collapsed": false
   },
   "outputs": [],
   "source": [
    "df.set_index('snid', inplace=True)"
   ]
  },
  {
   "cell_type": "code",
   "execution_count": null,
   "metadata": {
    "collapsed": false
   },
   "outputs": [],
   "source": [
    "x.dropna()"
   ]
  },
  {
   "cell_type": "code",
   "execution_count": null,
   "metadata": {
    "collapsed": false
   },
   "outputs": [],
   "source": [
    "df.index.size"
   ]
  },
  {
   "cell_type": "code",
   "execution_count": null,
   "metadata": {
    "collapsed": false
   },
   "outputs": [],
   "source": [
    "phosimOuta.index.dtype"
   ]
  },
  {
   "cell_type": "code",
   "execution_count": null,
   "metadata": {
    "collapsed": false
   },
   "outputs": [],
   "source": [
    "6145532174336041 in df.index.values"
   ]
  },
  {
   "cell_type": "code",
   "execution_count": null,
   "metadata": {
    "collapsed": false
   },
   "outputs": [],
   "source": [
    "df.iat[6145532174336041]"
   ]
  },
  {
   "cell_type": "code",
   "execution_count": null,
   "metadata": {
    "collapsed": true
   },
   "outputs": [],
   "source": [
    "phosimOuta['snid']  = phosimOuta.index.values"
   ]
  },
  {
   "cell_type": "code",
   "execution_count": null,
   "metadata": {
    "collapsed": true
   },
   "outputs": [],
   "source": [
    "phosimOuta['snid'] = np.right_shift(phosimOuta['snid'], 10)"
   ]
  },
  {
   "cell_type": "code",
   "execution_count": null,
   "metadata": {
    "collapsed": true
   },
   "outputs": [],
   "source": [
    "phosimOuta.set_index('snid', inplace=True)"
   ]
  },
  {
   "cell_type": "code",
   "execution_count": null,
   "metadata": {
    "collapsed": false
   },
   "outputs": [],
   "source": [
    "phosimOuta['adu']/ phosimOuta['Photons']"
   ]
  },
  {
   "cell_type": "code",
   "execution_count": null,
   "metadata": {
    "collapsed": false
   },
   "outputs": [],
   "source": [
    "phosimOuta.head()"
   ]
  },
  {
   "cell_type": "code",
   "execution_count": null,
   "metadata": {
    "collapsed": false
   },
   "outputs": [],
   "source": [
    "df.index.min()"
   ]
  },
  {
   "cell_type": "code",
   "execution_count": null,
   "metadata": {
    "collapsed": false
   },
   "outputs": [],
   "source": [
    "phosimOuta.index.min()"
   ]
  },
  {
   "cell_type": "code",
   "execution_count": null,
   "metadata": {
    "collapsed": false
   },
   "outputs": [],
   "source": [
    "np.left_shift(6000000189404,10) < phosimOuta.index.min()"
   ]
  },
  {
   "cell_type": "code",
   "execution_count": null,
   "metadata": {
    "collapsed": false
   },
   "outputs": [],
   "source": [
    "np.right_shift(np.left_shift(6000000189404,10),10)"
   ]
  },
  {
   "cell_type": "code",
   "execution_count": null,
   "metadata": {
    "collapsed": false
   },
   "outputs": [],
   "source": [
    "id(None)"
   ]
  },
  {
   "cell_type": "code",
   "execution_count": null,
   "metadata": {
    "collapsed": false
   },
   "outputs": [],
   "source": [
    "x  = None"
   ]
  },
  {
   "cell_type": "code",
   "execution_count": null,
   "metadata": {
    "collapsed": false
   },
   "outputs": [],
   "source": [
    "id(x)"
   ]
  },
  {
   "cell_type": "code",
   "execution_count": null,
   "metadata": {
    "collapsed": true
   },
   "outputs": [],
   "source": [
    "y = None"
   ]
  },
  {
   "cell_type": "code",
   "execution_count": null,
   "metadata": {
    "collapsed": false
   },
   "outputs": [],
   "source": [
    "xx =3"
   ]
  },
  {
   "cell_type": "code",
   "execution_count": null,
   "metadata": {
    "collapsed": true
   },
   "outputs": [],
   "source": [
    "yy  = 3"
   ]
  },
  {
   "cell_type": "code",
   "execution_count": null,
   "metadata": {
    "collapsed": false
   },
   "outputs": [],
   "source": [
    " == y"
   ]
  },
  {
   "cell_type": "code",
   "execution_count": null,
   "metadata": {
    "collapsed": false
   },
   "outputs": [],
   "source": [
    "x is y"
   ]
  },
  {
   "cell_type": "code",
   "execution_count": null,
   "metadata": {
    "collapsed": false
   },
   "outputs": [],
   "source": [
    "id(xx)"
   ]
  },
  {
   "cell_type": "code",
   "execution_count": null,
   "metadata": {
    "collapsed": false
   },
   "outputs": [],
   "source": [
    "id(yy)"
   ]
  },
  {
   "cell_type": "markdown",
   "metadata": {},
   "source": [
    "# Scratch"
   ]
  },
  {
   "cell_type": "code",
   "execution_count": null,
   "metadata": {
    "collapsed": true
   },
   "outputs": [],
   "source": []
  },
  {
   "cell_type": "code",
   "execution_count": null,
   "metadata": {
    "collapsed": false
   },
   "outputs": [],
   "source": [
    "names = s.get_column_names()\n",
    "\n",
    "for key in names:\n",
    "    if 'snra' in names[key]:\n",
    "        print key\n",
    "\n",
    "print names['TwinkSN']"
   ]
  },
  {
   "cell_type": "code",
   "execution_count": null,
   "metadata": {
    "collapsed": false
   },
   "outputs": [],
   "source": [
    "class SNCopy(InstanceCatalog):\n",
    "    \n",
    "    column_outputs = ['raJ2000', 'decJ2000', 'snid', 'galtileid','t0', 'x0', 'x1', 'c', 'redshift', ]\n",
    "    override_formats = {'raJ2000': '%8e', 'decJ2000': '%8e', 'x0':'%8e'}\n",
    "                        #'x0':'%8e', 'x1':'%8e', 'c':'%8e', 't0':'%8e'}\n",
    "        \n"
   ]
  }
 ],
 "metadata": {
  "kernelspec": {
   "display_name": "Python 2",
   "language": "python",
   "name": "python2"
  },
  "language_info": {
   "codemirror_mode": {
    "name": "ipython",
    "version": 2
   },
   "file_extension": ".py",
   "mimetype": "text/x-python",
   "name": "python",
   "nbconvert_exporter": "python",
   "pygments_lexer": "ipython2",
   "version": "2.7.11"
  }
 },
 "nbformat": 4,
 "nbformat_minor": 0
}
