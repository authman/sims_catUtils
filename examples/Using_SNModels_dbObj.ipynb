{
 "cells": [
  {
   "cell_type": "code",
   "execution_count": 1,
   "metadata": {
    "collapsed": true
   },
   "outputs": [],
   "source": [
    "import numpy as np"
   ]
  },
  {
   "cell_type": "code",
   "execution_count": 2,
   "metadata": {
    "collapsed": false
   },
   "outputs": [],
   "source": [
    "from lsst.sims.catalogs.generation.db import CatalogDBObject\n",
    "from lsst.sims.catalogs.generation.db import CatalogDBObject"
   ]
  },
  {
   "cell_type": "code",
   "execution_count": 3,
   "metadata": {
    "collapsed": false
   },
   "outputs": [
    {
     "name": "stderr",
     "output_type": "stream",
     "text": [
      "/usr/local/manual/anaconda/lib/python2.7/site-packages/IPython/kernel/__init__.py:13: ShimWarning: The `IPython.kernel` package has been deprecated. You should import from ipykernel or jupyter_client instead.\n",
      "  \"You should import from ipykernel or jupyter_client instead.\", ShimWarning)\n",
      "Duplicate object type id 25 specified: \n",
      "Output object ids may not be unique.\n",
      "This may not be a problem if you do not want globally unique id values\n",
      "Duplicate object type id 40 specified: \n",
      "Output object ids may not be unique.\n",
      "This may not be a problem if you do not want globally unique id values\n",
      "Duplicate object type id 40 specified: \n",
      "Output object ids may not be unique.\n",
      "This may not be a problem if you do not want globally unique id values\n",
      "Duplicate object type id 40 specified: \n",
      "Output object ids may not be unique.\n",
      "This may not be a problem if you do not want globally unique id values\n",
      "Duplicate object type id 40 specified: \n",
      "Output object ids may not be unique.\n",
      "This may not be a problem if you do not want globally unique id values\n"
     ]
    }
   ],
   "source": [
    "import lsst.sims.catUtils.baseCatalogModels as bcm\n",
    "from lsst.sims.catUtils.baseCatalogModels import GalaxyTileObj\n",
    "from lsst.sims.catalogs.measures.instance import InstanceCatalog\n",
    "from lsst.sims.utils import ObservationMetaData\n",
    "\n"
   ]
  },
  {
   "cell_type": "code",
   "execution_count": 4,
   "metadata": {
    "collapsed": true
   },
   "outputs": [],
   "source": [
    "from lsst.sims.catUtils.baseCatalogModels import SNObj"
   ]
  },
  {
   "cell_type": "code",
   "execution_count": 5,
   "metadata": {
    "collapsed": false
   },
   "outputs": [],
   "source": [
    "s  = SNObj()"
   ]
  },
  {
   "cell_type": "code",
   "execution_count": 6,
   "metadata": {
    "collapsed": false
   },
   "outputs": [
    {
     "name": "stderr",
     "output_type": "stream",
     "text": [
      "/usr/local/manual/anaconda/lib/python2.7/site-packages/sqlalchemy/dialects/mssql/base.py:1294: SAWarning: Did not recognize type 'geography' of column 'geopoint'\n",
      "  return fn(*arg, **kw)\n",
      "/usr/local/manual/anaconda/lib/python2.7/site-packages/sqlalchemy/dialects/mssql/base.py:1294: SAWarning: Did not recognize type 'geography' of column 'geocenter'\n",
      "  return fn(*arg, **kw)\n",
      "/usr/local/manual/anaconda/lib/python2.7/site-packages/sqlalchemy/dialects/mssql/base.py:1294: SAWarning: Did not recognize type 'geography' of column 'geobox'\n",
      "  return fn(*arg, **kw)\n"
     ]
    }
   ],
   "source": [
    "names = s.get_column_names()"
   ]
  },
  {
   "cell_type": "code",
   "execution_count": 7,
   "metadata": {
    "collapsed": false
   },
   "outputs": [
    {
     "name": "stdout",
     "output_type": "stream",
     "text": [
      "TwinkSN\n"
     ]
    }
   ],
   "source": [
    "for key in names:\n",
    "    if 'snra' in names[key]:\n",
    "        print key"
   ]
  },
  {
   "cell_type": "code",
   "execution_count": 8,
   "metadata": {
    "collapsed": false
   },
   "outputs": [
    {
     "name": "stdout",
     "output_type": "stream",
     "text": [
      "['galtileid', 'htmid', 'snid', 't0', 'c', 'x1', 'x0', 'redshift', 'snra', 'sndec', 'cx', 'cy', 'cz']\n"
     ]
    }
   ],
   "source": [
    "print names['TwinkSN']"
   ]
  },
  {
   "cell_type": "code",
   "execution_count": 9,
   "metadata": {
    "collapsed": false
   },
   "outputs": [],
   "source": [
    "class SNCopy(InstanceCatalog):\n",
    "    \n",
    "    column_outputs = ['raJ2000', 'decJ2000', 'snid', 'galtileid','t0', 'x0', 'x1', 'c', 'redshift', ]\n",
    "    override_formats = {'raJ2000': '%8e', 'decJ2000': '%8e', 'x0':'%8e'}\n",
    "                        #'x0':'%8e', 'x1':'%8e', 'c':'%8e', 't0':'%8e'}\n",
    "        \n",
    "class TSNCopy(InstanceCatalog):\n",
    "    \n",
    "    column_outputs = ['raJ2000', 'decJ2000', 'Tsnid', 'Tgaltileid','Tt0', 'Tx0', 'Tx1', 'Tc', 'Tredshift', ]\n",
    "    override_formats = {'raJ2000': '%8e', 'decJ2000': '%8e', 'x0':'%8e'}\n",
    "\n"
   ]
  },
  {
   "cell_type": "code",
   "execution_count": 10,
   "metadata": {
    "collapsed": false
   },
   "outputs": [],
   "source": [
    "degConv = np.array([1., 1./60., 1./3600.])\n",
    "raConv = degConv / 24.0 * 360.\n",
    "centralRA = np.dot(np.array([3., 32., 30]), raConv) #03h 32m 30s\n",
    "centralDec = np.dot(np.array([-28, 6., 0.]), degConv)\n",
    "patchRadius = 0.4 * np.sqrt(2) #np.dot(np.array([0.0, 10.0, 0.]), degConv)"
   ]
  },
  {
   "cell_type": "code",
   "execution_count": 11,
   "metadata": {
    "collapsed": false
   },
   "outputs": [],
   "source": [
    "TwinklesObsMetaDataSmall = ObservationMetaData(boundType='box',pointingRA=centralRA,pointingDec=centralDec,\n",
    "                                          boundLength=0.167, mjd=49540.0)"
   ]
  },
  {
   "cell_type": "code",
   "execution_count": 12,
   "metadata": {
    "collapsed": false
   },
   "outputs": [],
   "source": [
    "tsmall = SNCopy(db_obj=s, obs_metadata=TwinklesObsMetaDataSmall)"
   ]
  },
  {
   "cell_type": "code",
   "execution_count": 13,
   "metadata": {
    "collapsed": false
   },
   "outputs": [],
   "source": [
    "tsmall.write_catalog('TwinklesSN.dat')"
   ]
  },
  {
   "cell_type": "code",
   "execution_count": 14,
   "metadata": {
    "collapsed": false
   },
   "outputs": [
    {
     "name": "stdout",
     "output_type": "stream",
     "text": [
      "   72780 TwinklesSN.dat\r\n"
     ]
    }
   ],
   "source": [
    "!wc -l TwinklesSN.dat"
   ]
  },
  {
   "cell_type": "code",
   "execution_count": 15,
   "metadata": {
    "collapsed": false
   },
   "outputs": [
    {
     "name": "stdout",
     "output_type": "stream",
     "text": [
      "#raJ2000, decJ2000, snid, galtileid, t0, x0, x1, c, redshift\r\n",
      "9.269085e-01, -4.856831e-01, 10000060005910006, 60005910006, 1425.8729, 2.355744e-05, 1.2825, -0.0531, 0.4431\r\n",
      "9.269473e-01, -4.856320e-01, 60007533372, 60007533372, 1963.3116, 3.970290e-05, 0.0223, -0.0405, 0.3152\r\n",
      "9.269600e-01, -4.856324e-01, 10000060001927699, 60001927699, 2480.8074, 1.279006e-05, -0.0907, -0.0035, 0.5018\r\n",
      "9.270875e-01, -4.855796e-01, 50000060011104673, 60011104673, 3241.1997, 4.146627e-06, -0.8420, -0.0544, 0.7593\r\n",
      "9.270841e-01, -4.856042e-01, 10000060002753007, 60002753007, 354.9295, 4.627642e-05, 0.4846, -0.0452, 0.2807\r\n",
      "9.270836e-01, -4.856044e-01, 60002753007, 60002753007, 1367.0083, 5.252348e-05, 0.6385, -0.1271, 0.2807\r\n",
      "9.270834e-01, -4.856046e-01, 20000060002753007, 60002753007, 1253.3522, 5.095395e-05, -1.0167, -0.0374, 0.2807\r\n",
      "9.270844e-01, -4.856597e-01, 10000060004184102, 60004184102, 97.8006, 1.946555e-06, 0.3060, 0.3451, 0.6812\r\n",
      "9.270857e-01, -4.856558e-01, 60004184102, 60004184102, 1924.5566, 4.596278e-06, 1.4710, 0.0581, 0.6812\r\n"
     ]
    }
   ],
   "source": [
    "!head TwinklesSN.dat"
   ]
  },
  {
   "cell_type": "code",
   "execution_count": 16,
   "metadata": {
    "collapsed": true
   },
   "outputs": [],
   "source": [
    "Ttsmall = TSNCopy(db_obj=s, obs_metadata=TwinklesObsMetaDataSmall)"
   ]
  },
  {
   "cell_type": "code",
   "execution_count": 17,
   "metadata": {
    "collapsed": true
   },
   "outputs": [],
   "source": [
    "Ttsmall.write_catalog('TTwinklesSN.dat')"
   ]
  },
  {
   "cell_type": "code",
   "execution_count": 18,
   "metadata": {
    "collapsed": false
   },
   "outputs": [
    {
     "name": "stdout",
     "output_type": "stream",
     "text": [
      "#raJ2000, decJ2000, Tsnid, Tgaltileid, Tt0, Tx0, Tx1, Tc, Tredshift\r\n",
      "9.298992e-01, -4.896770e-01, 10000060012474962.0000, 60012474962.0000, 1764.6602, 0.0000, -0.3410, 0.1591, 0.4787\r\n",
      "9.298971e-01, -4.896734e-01, 60012474962.0000, 60012474962.0000, 2709.2045, 0.0000, -0.9747, 0.0027, 0.4787\r\n",
      "9.298828e-01, -4.896600e-01, 10000060009211632.0000, 60009211631.0000, 2593.4016, 0.0000, 0.3908, -0.0649, 0.8841\r\n",
      "9.298838e-01, -4.896592e-01, 40000060009211632.0000, 60009211631.0000, 2373.3252, 0.0000, 0.0362, -0.0252, 0.8841\r\n",
      "9.298825e-01, -4.896583e-01, 50000060009211632.0000, 60009211631.0000, 2861.1323, 0.0000, 0.1765, 0.1162, 0.8841\r\n",
      "9.298836e-01, -4.896575e-01, 60009211631.0000, 60009211631.0000, 2975.8775, 0.0000, 0.4506, -0.2307, 0.8841\r\n",
      "9.298827e-01, -4.896580e-01, 20000060009211632.0000, 60009211631.0000, 2398.9219, 0.0000, -0.1636, 0.0885, 0.8841\r\n",
      "9.298836e-01, -4.896578e-01, 30000060009211632.0000, 60009211631.0000, 751.0811, 0.0000, -0.4205, -0.1069, 0.8841\r\n",
      "9.299065e-01, -4.896474e-01, 60004145387.0000, 60004145387.0000, 1189.6941, 0.0000, 1.3749, 0.0719, 0.7722\r\n"
     ]
    }
   ],
   "source": [
    "!head TTwinklesSN.dat"
   ]
  },
  {
   "cell_type": "code",
   "execution_count": 19,
   "metadata": {
    "collapsed": false
   },
   "outputs": [],
   "source": [
    "from lsst.sims.catUtils.mixins import SNIaCatalog"
   ]
  },
  {
   "cell_type": "code",
   "execution_count": 20,
   "metadata": {
    "collapsed": false
   },
   "outputs": [],
   "source": [
    "sncatalog = SNIaCatalog(db_obj=s, obs_metadata=TwinklesObsMetaDataSmall)"
   ]
  },
  {
   "cell_type": "code",
   "execution_count": null,
   "metadata": {
    "collapsed": true
   },
   "outputs": [],
   "source": []
  }
 ],
 "metadata": {
  "kernelspec": {
   "display_name": "Python 2",
   "language": "python",
   "name": "python2"
  },
  "language_info": {
   "codemirror_mode": {
    "name": "ipython",
    "version": 2
   },
   "file_extension": ".py",
   "mimetype": "text/x-python",
   "name": "python",
   "nbconvert_exporter": "python",
   "pygments_lexer": "ipython2",
   "version": "2.7.11"
  }
 },
 "nbformat": 4,
 "nbformat_minor": 0
}
