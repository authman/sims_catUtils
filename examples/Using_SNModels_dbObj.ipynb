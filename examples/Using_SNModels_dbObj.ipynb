{
 "cells": [
  {
   "cell_type": "code",
   "execution_count": 1,
   "metadata": {
    "collapsed": true
   },
   "outputs": [],
   "source": [
    "import numpy as np"
   ]
  },
  {
   "cell_type": "code",
   "execution_count": 2,
   "metadata": {
    "collapsed": false
   },
   "outputs": [],
   "source": [
    "from lsst.sims.catalogs.generation.db import CatalogDBObject\n",
    "from lsst.sims.catalogs.generation.db import CatalogDBObject"
   ]
  },
  {
   "cell_type": "code",
   "execution_count": 3,
   "metadata": {
    "collapsed": false
   },
   "outputs": [
    {
     "name": "stderr",
     "output_type": "stream",
     "text": [
      "/usr/local/manual/anaconda/lib/python2.7/site-packages/IPython/kernel/__init__.py:13: ShimWarning: The `IPython.kernel` package has been deprecated. You should import from ipykernel or jupyter_client instead.\n",
      "  \"You should import from ipykernel or jupyter_client instead.\", ShimWarning)\n",
      "Duplicate object type id 25 specified: \n",
      "Output object ids may not be unique.\n",
      "This may not be a problem if you do not want globally unique id values\n",
      "Duplicate object type id 40 specified: \n",
      "Output object ids may not be unique.\n",
      "This may not be a problem if you do not want globally unique id values\n",
      "Duplicate object type id 40 specified: \n",
      "Output object ids may not be unique.\n",
      "This may not be a problem if you do not want globally unique id values\n",
      "Duplicate object type id 40 specified: \n",
      "Output object ids may not be unique.\n",
      "This may not be a problem if you do not want globally unique id values\n",
      "Duplicate object type id 40 specified: \n",
      "Output object ids may not be unique.\n",
      "This may not be a problem if you do not want globally unique id values\n"
     ]
    }
   ],
   "source": [
    "import lsst.sims.catUtils.baseCatalogModels as bcm\n",
    "from lsst.sims.catUtils.baseCatalogModels import GalaxyTileObj\n",
    "from lsst.sims.catalogs.measures.instance import InstanceCatalog\n",
    "from lsst.sims.utils import ObservationMetaData\n",
    "\n"
   ]
  },
  {
   "cell_type": "code",
   "execution_count": 4,
   "metadata": {
    "collapsed": true
   },
   "outputs": [],
   "source": [
    "from lsst.sims.catUtils.baseCatalogModels import SNObj"
   ]
  },
  {
   "cell_type": "code",
   "execution_count": 5,
   "metadata": {
    "collapsed": false
   },
   "outputs": [],
   "source": [
    "s  = SNObj()"
   ]
  },
  {
   "cell_type": "code",
   "execution_count": 6,
   "metadata": {
    "collapsed": false
   },
   "outputs": [
    {
     "name": "stderr",
     "output_type": "stream",
     "text": [
      "/usr/local/manual/anaconda/lib/python2.7/site-packages/sqlalchemy/dialects/mssql/base.py:1294: SAWarning: Did not recognize type 'geography' of column 'geopoint'\n",
      "  return fn(*arg, **kw)\n",
      "/usr/local/manual/anaconda/lib/python2.7/site-packages/sqlalchemy/dialects/mssql/base.py:1294: SAWarning: Did not recognize type 'geography' of column 'geocenter'\n",
      "  return fn(*arg, **kw)\n",
      "/usr/local/manual/anaconda/lib/python2.7/site-packages/sqlalchemy/dialects/mssql/base.py:1294: SAWarning: Did not recognize type 'geography' of column 'geobox'\n",
      "  return fn(*arg, **kw)\n"
     ]
    }
   ],
   "source": [
    "names = s.get_column_names()"
   ]
  },
  {
   "cell_type": "code",
   "execution_count": 22,
   "metadata": {
    "collapsed": true
   },
   "outputs": [],
   "source": [
    "gTile = GalaxyTileObj()\n",
    "class GTileCopy(InstanceCatalog):\n",
    "    column_outputs = ['raJ2000', 'decJ2000', 'galtileid','redshift']\n",
    "    override_formats = {'raJ2000': '%8e', 'decJ2000': '%8e'}"
   ]
  },
  {
   "cell_type": "code",
   "execution_count": 7,
   "metadata": {
    "collapsed": false
   },
   "outputs": [
    {
     "name": "stdout",
     "output_type": "stream",
     "text": [
      "TwinkSN\n"
     ]
    }
   ],
   "source": [
    "for key in names:\n",
    "    if 'snra' in names[key]:\n",
    "        print key"
   ]
  },
  {
   "cell_type": "code",
   "execution_count": 8,
   "metadata": {
    "collapsed": false
   },
   "outputs": [
    {
     "name": "stdout",
     "output_type": "stream",
     "text": [
      "{'sfdAstromEasterEggs': ['ra', 'decl', 'gal_l', 'gal_b', 'versionid', 'mura', 'mudecl', 'vrad', 'parallax', 'distance', 'sedfilename', 'sedid', 'flux_scale', 'umag', 'gmag', 'rmag', 'imag', 'zmag', 'ymag', 'sdssu', 'sdssg', 'sdssr', 'sdssi', 'sdssz', 'absmr', 'newSDSSu', 'newSDSSg', 'newSDSSr', 'newSDSSi', 'newSDSSz', 'ebv', 'especid', 'pop', 'type', 't', 'feh', 'logg', 'vr', 'vphi', 'vz', 'ismultiple', 'isvar', 'timescale', 'varfluxpeak', 't0', 'x', 'y', 'z', 'cx', 'cy', 'cz', 'run', 'runobjid', 'geopoint', 'varParamStr', 'fieldid', 'magNorm', 'gizisId', 'filename', 'simobjid', 'htmID', 'varsimobjid'], 'stars_mlt_part_1180': ['htmid', 'simobjid', 'ra', 'decl', 'gal_l', 'gal_b', 'versionid', 'mura', 'mudecl', 'vrad', 'parallax', 'distance', 'sedfilename', 'sedid', 'flux_scale', 'umag', 'gmag', 'rmag', 'imag', 'zmag', 'ymag', 'sdssu', 'sdssg', 'sdssr', 'sdssi', 'sdssz', 'absmr', 'newSDSSu', 'newSDSSg', 'newSDSSr', 'newSDSSi', 'newSDSSz', 'ebv', 'especid', 'pop', 'type', 't', 'feh', 'logg', 'vr', 'vphi', 'vz', 'ismultiple', 'isvar', 'timescale', 'varfluxpeak', 't0', 'x', 'y', 'z', 'cx', 'cy', 'cz', 'run', 'runobjid', 'varParamStr', 'varsimobjid', 'randomVar', 'sedfiletype'], 'stars_mlt_part_1220': ['htmid', 'simobjid', 'ra', 'decl', 'gal_l', 'gal_b', 'versionid', 'mura', 'mudecl', 'vrad', 'parallax', 'distance', 'sedfilename', 'sedid', 'flux_scale', 'umag', 'gmag', 'rmag', 'imag', 'zmag', 'ymag', 'sdssu', 'sdssg', 'sdssr', 'sdssi', 'sdssz', 'absmr', 'newSDSSu', 'newSDSSg', 'newSDSSr', 'newSDSSi', 'newSDSSz', 'ebv', 'especid', 'pop', 'type', 't', 'feh', 'logg', 'vr', 'vphi', 'vz', 'ismultiple', 'isvar', 'timescale', 'varfluxpeak', 't0', 'x', 'y', 'z', 'cx', 'cy', 'cz', 'run', 'runobjid', 'varParamStr', 'varsimobjid', 'randomVar', 'sedfiletype'], 'image': ['id', 'dec', 'tau', 'redshift', 'av', 'lensid', 'rv', 'nimg', 'imgid', 'ra', 'extmodel', 'absimag', 'sfinf', 'magnorm_agn', 'g_ab', 'i_ab', 'r_ab', 'u_ab', 'sedname_agn', 'fluxnorm_agn', 'y_ab', 't_0', 'z_ab', 'htmID', 'galtileid', 'cx', 'cy', 'cz', 'rad_vel', 'varParamStr', 'varsimobjid'], 'stars_mlt_part_1160': ['htmID', 'simobjid', 'ra', 'decl', 'gal_l', 'gal_b', 'versionid', 'mura', 'mudecl', 'vrad', 'parallax', 'distance', 'sedfilename', 'sedid', 'flux_scale', 'umag', 'gmag', 'rmag', 'imag', 'zmag', 'ymag', 'sdssu', 'sdssg', 'sdssr', 'sdssi', 'sdssz', 'absmr', 'newSDSSu', 'newSDSSg', 'newSDSSr', 'newSDSSi', 'newSDSSz', 'ebv', 'especid', 'pop', 'type', 't', 'feh', 'logg', 'vr', 'vphi', 'vz', 'ismultiple', 'isvar', 'timescale', 'varfluxpeak', 't0', 'x', 'y', 'z', 'cx', 'cy', 'cz', 'run', 'runobjid', 'varParamStr', 'varsimobjid', 'randomVar', 'sedfiletype'], 'sfd_stars_partition_8700000000000_fit': ['htmid', 'simobjid', 'name', 'temp', 'logg', 'fluxnorm', 'u', 'g', 'r', 'i', 'z', 'y'], 'sfd_stars_partition_14000000000000_fit': ['htmid', 'simobjid', 'name', 'temp', 'logg', 'fluxnorm', 'u', 'g', 'r', 'i', 'z', 'y'], 'stars_mlt_part_1200': ['htmID', 'simobjid', 'ra', 'decl', 'gal_l', 'gal_b', 'versionid', 'mura', 'mudecl', 'vrad', 'parallax', 'distance', 'sedfilename', 'sedid', 'flux_scale', 'umag', 'gmag', 'rmag', 'imag', 'zmag', 'ymag', 'sdssu', 'sdssg', 'sdssr', 'sdssi', 'sdssz', 'absmr', 'newSDSSu', 'newSDSSg', 'newSDSSr', 'newSDSSi', 'newSDSSz', 'ebv', 'especid', 'pop', 'type', 't', 'feh', 'logg', 'vr', 'vphi', 'vz', 'ismultiple', 'isvar', 'timescale', 'varfluxpeak', 't0', 'x', 'y', 'z', 'cx', 'cy', 'cz', 'run', 'runobjid', 'varParamStr', 'varsimobjid', 'randomVar', 'sedfiletype'], 'easterEggsFit': ['htmID', 'simobjid', 'sedfilename', 'magNorm', 'flux_scale', 'umag', 'gmag', 'rmag', 'imag', 'zmag', 'ymag'], 'sfd_stars_partition_11800000000000_fit': ['htmid', 'simobjid', 'name', 'temp', 'logg', 'fluxnorm', 'u', 'g', 'r', 'i', 'z', 'y'], 'stars_mlt_part_1100': ['htmid', 'simobjid', 'ra', 'decl', 'gal_l', 'gal_b', 'versionid', 'mura', 'mudecl', 'vrad', 'parallax', 'distance', 'sedfilename', 'sedid', 'flux_scale', 'umag', 'gmag', 'rmag', 'imag', 'zmag', 'ymag', 'sdssu', 'sdssg', 'sdssr', 'sdssi', 'sdssz', 'absmr', 'newSDSSu', 'newSDSSg', 'newSDSSr', 'newSDSSi', 'newSDSSz', 'ebv', 'especid', 'pop', 'type', 't', 'feh', 'logg', 'vr', 'vphi', 'vz', 'ismultiple', 'isvar', 'timescale', 'varfluxpeak', 't0', 'x', 'y', 'z', 'cx', 'cy', 'cz', 'run', 'runobjid', 'varParamStr', 'varsimobjid', 'randomVar', 'sedfiletype'], 'stars_obafgk_part_1100': ['htmid', 'simobjid', 'ra', 'decl', 'gal_l', 'gal_b', 'versionid', 'mura', 'mudecl', 'vrad', 'parallax', 'distance', 'sedfilename', 'sedid', 'flux_scale', 'umag', 'gmag', 'rmag', 'imag', 'zmag', 'ymag', 'sdssu', 'sdssg', 'sdssr', 'sdssi', 'sdssz', 'absmr', 'newSDSSu', 'newSDSSg', 'newSDSSr', 'newSDSSi', 'newSDSSz', 'ebv', 'especid', 'pop', 'type', 't', 'feh', 'logg', 'vr', 'vphi', 'vz', 'ismultiple', 'isvar', 'timescale', 'varfluxpeak', 't0', 'x', 'y', 'z', 'cx', 'cy', 'cz', 'run', 'runobjid', 'varParamStr', 'varsimobjid', 'randomVar', 'sedfiletype'], 'galaxy': ['htmid', 'galid', 'ra', 'dec', 'redshift', 'rad_vel', 'u_ab', 'g_ab', 'r_ab', 'i_ab', 'z_ab', 'y_ab', 'sedid_bulge', 'sedid_disk', 'sedid_agn', 'av_b', 'rv_b', 'ext_model_b', 'av_d', 'rv_d', 'ext_model_d', 'glon', 'glat', 'pa_bulge', 'pa_disk', 'inc_bulge_deg', 'inc_disk_deg', 'a_b', 'b_b', 'bulge_n', 'bra', 'bdec', 'a_d', 'b_d', 'disk_n', 'dra', 'ddec', 'agnra', 'agndec', 'versionid', 'fluxnorm_bulge', 'fluxnorm_agn', 'absmag_r_total', 'gal_type', 'mass_stellar', 'mass_gas', 'mass_halo', 'ug_total_rest', 'gr_total_rest', 'ri_total_rest', 'iz_total_rest', 'zy_total_rest', 'isagn', 'agn_tau', 'agn_sfu', 'agn_sfg', 'agn_sfr', 'agn_sfi', 'agn_sfz', 'agn_sfy', 'fluxnorm_disk', 'magnorm_bulge', 'magnorm_disk', 'magnorm_agn', 'cx', 'cy', 'cz', 'geopoint', 'sedname_agn', 'sedname_bulge', 'sedname_disk', 'varsimobjid', 'varParamStr', 'type', 'mass_bulge', 'BulgeMinusDiskLSSTr', 'log10BulgeToTotLSSTrFlux', 'AbsiMag', 'AbsiMag0_1', 'z0_1umg', 'z0_1gmr', 'z0_1rmi', 'z0_1imz', 'z0_1zmy', 'ba_disk', 'ba_bulge', 'DiskHalfLightRadius', 'DiskLSSTu', 'DiskLSSTg', 'DiskLSSTr', 'DiskLSSTi', 'DiskLSSTz', 'DiskLSSTy', 'BulgeLSSTu', 'BulgeLSSTg', 'BulgeLSSTr', 'BulgeLSSTi', 'BulgeLSSTz', 'BulgeLSSTy', 'AGNID', 'BulgeHalfLightRadius', 't0_agn', 'id', 'myid'], 'sfd_stars_partition_11000000000000_fit': ['htmid', 'simobjid', 'name', 'temp', 'logg', 'flux', 'u', 'g', 'r', 'i', 'z', 'y'], 'AstromEasterEggs': ['ra', 'decl', 'gal_l', 'gal_b', 'versionid', 'mura', 'mudecl', 'vrad', 'parallax', 'distance', 'sedfilename', 'sedid', 'flux_scale', 'umag', 'gmag', 'rmag', 'imag', 'zmag', 'ymag', 'sdssu', 'sdssg', 'sdssr', 'sdssi', 'sdssz', 'absmr', 'newSDSSu', 'newSDSSg', 'newSDSSr', 'newSDSSi', 'newSDSSz', 'ebv', 'especid', 'pop', 'type', 't', 'feh', 'logg', 'vr', 'vphi', 'vz', 'ismultiple', 'isvar', 'timescale', 'varfluxpeak', 't0', 'x', 'y', 'z', 'cx', 'cy', 'cz', 'run', 'runobjid', 'geopoint', 'varParamStr', 'fieldid', 'magNorm', 'gizisId', 'filename', 'simobjid', 'htmID', 'varsimobjid'], 'stars_mlt_part_1400': ['htmid', 'simobjid', 'ra', 'decl', 'gal_l', 'gal_b', 'versionid', 'mura', 'mudecl', 'vrad', 'parallax', 'distance', 'sedfilename', 'sedid', 'flux_scale', 'umag', 'gmag', 'rmag', 'imag', 'zmag', 'ymag', 'sdssu', 'sdssg', 'sdssr', 'sdssi', 'sdssz', 'absmr', 'newSDSSu', 'newSDSSg', 'newSDSSr', 'newSDSSi', 'newSDSSz', 'ebv', 'especid', 'pop', 'type', 't', 'feh', 'logg', 'vr', 'vphi', 'vz', 'ismultiple', 'isvar', 'timescale', 'varfluxpeak', 't0', 'x', 'y', 'z', 'cx', 'cy', 'cz', 'run', 'runobjid', 'varParamStr', 'varsimobjid', 'randomVar', 'sedfiletype'], 'stars_obafgk_part_1180': ['htmID', 'simobjid', 'ra', 'decl', 'gal_l', 'gal_b', 'versionid', 'mura', 'mudecl', 'vrad', 'parallax', 'distance', 'sedfilename', 'sedid', 'flux_scale', 'umag', 'gmag', 'rmag', 'imag', 'zmag', 'ymag', 'sdssu', 'sdssg', 'sdssr', 'sdssi', 'sdssz', 'absmr', 'newSDSSu', 'newSDSSg', 'newSDSSr', 'newSDSSi', 'newSDSSz', 'ebv', 'especid', 'pop', 'type', 't', 'feh', 'logg', 'vr', 'vphi', 'vz', 'ismultiple', 'isvar', 'timescale', 'varfluxpeak', 't0', 'x', 'y', 'z', 'cx', 'cy', 'cz', 'run', 'runobjid', 'varParamStr', 'varsimobjid', 'randomVar', 'sedfiletype'], 'MLTlookup': ['name', 'u', 'g', 'r', 'i', 'z', 'norm'], 'stars_obafgk_part_1160': ['htmID', 'simobjid', 'ra', 'decl', 'gal_l', 'gal_b', 'versionid', 'mura', 'mudecl', 'vrad', 'parallax', 'distance', 'sedfilename', 'sedid', 'flux_scale', 'umag', 'gmag', 'rmag', 'imag', 'zmag', 'ymag', 'sdssu', 'sdssg', 'sdssr', 'sdssi', 'sdssz', 'absmr', 'newSDSSu', 'newSDSSg', 'newSDSSr', 'newSDSSi', 'newSDSSz', 'ebv', 'especid', 'pop', 'type', 't', 'feh', 'logg', 'vr', 'vphi', 'vz', 'ismultiple', 'isvar', 'timescale', 'varfluxpeak', 't0', 'x', 'y', 'z', 'cx', 'cy', 'cz', 'run', 'runobjid', 'varParamStr', 'varsimobjid', 'randomVar', 'sedfiletype'], 'stars_obafgk_part_1200': ['htmID', 'simobjid', 'ra', 'decl', 'gal_l', 'gal_b', 'versionid', 'mura', 'mudecl', 'vrad', 'parallax', 'distance', 'sedfilename', 'sedid', 'flux_scale', 'umag', 'gmag', 'rmag', 'imag', 'zmag', 'ymag', 'sdssu', 'sdssg', 'sdssr', 'sdssi', 'sdssz', 'absmr', 'newSDSSu', 'newSDSSg', 'newSDSSr', 'newSDSSi', 'newSDSSz', 'ebv', 'especid', 'pop', 'type', 't', 'feh', 'logg', 'vr', 'vphi', 'vz', 'ismultiple', 'isvar', 'timescale', 'varfluxpeak', 't0', 'x', 'y', 'z', 'cx', 'cy', 'cz', 'run', 'runobjid', 'varParamStr', 'varsimobjid', 'randomVar', 'sedfiletype'], 'sfd_stars_partition_11600000000000_fit': ['htmid', 'simobjid', 'name', 'temp', 'logg', 'fluxnorm', 'u', 'g', 'r', 'i', 'z', 'y'], 'stars_obafgk_part_1220': ['htmid', 'simobjid', 'ra', 'decl', 'gal_l', 'gal_b', 'versionid', 'mura', 'mudecl', 'vrad', 'parallax', 'distance', 'sedfilename', 'sedid', 'flux_scale', 'umag', 'gmag', 'rmag', 'imag', 'zmag', 'ymag', 'sdssu', 'sdssg', 'sdssr', 'sdssi', 'sdssz', 'absmr', 'newSDSSu', 'newSDSSg', 'newSDSSr', 'newSDSSi', 'newSDSSz', 'ebv', 'especid', 'pop', 'type', 't', 'feh', 'logg', 'vr', 'vphi', 'vz', 'ismultiple', 'isvar', 'timescale', 'varfluxpeak', 't0', 'x', 'y', 'z', 'cx', 'cy', 'cz', 'run', 'runobjid', 'varParamStr', 'varsimobjid', 'randomVar', 'sedfiletype'], 'variabilityMap': ['id', 'variability_name', 'table_name', 'varMethodName'], 'sfd_stars_partition_12200000000000_fit': ['htmid', 'simobjid', 'name', 'temp', 'logg', 'fluxNorm', 'u', 'g', 'r', 'i', 'z', 'y'], 'StarCepheid': ['htmID', 'ra', 'decl', 'gal_l', 'gal_b', 'versionid', 'mura', 'mudecl', 'vrad', 'parallax', 'distance', 'sedfilename', 'sedid', 'flux_scale', 'umag', 'gmag', 'rmag', 'imag', 'zmag', 'ymag', 'sdssu', 'sdssg', 'sdssr', 'sdssi', 'sdssz', 'absmr', 'newSDSSu', 'newSDSSg', 'newSDSSr', 'newSDSSi', 'newSDSSz', 'ebv', 'especid', 'pop', 'type', 't', 'feh', 'logg', 'vr', 'vphi', 'vz', 'ismultiple', 'isvar', 'timescale', 'varfluxpeak', 't0', 'x', 'y', 'z', 'cx', 'cy', 'cz', 'run', 'runobjid', 'geopoint', 'varParamStr', 'varsimobjid', 'randomVar', 'simobjid'], 'docColumnDescriptions': ['id', 'tableCategory', 'columnName', 'descriptionText'], 'starsCenteredp80m10': ['htmID', 'simobjid', 'ra', 'decl', 'gal_l', 'gal_b', 'versionid', 'mura', 'mudecl', 'vrad', 'parallax', 'distance', 'sedfilename', 'sedid', 'flux_scale', 'umag', 'gmag', 'rmag', 'imag', 'zmag', 'ymag', 'sdssu', 'sdssg', 'sdssr', 'sdssi', 'sdssz', 'absmr', 'newSDSSu', 'newSDSSg', 'newSDSSr', 'newSDSSi', 'newSDSSz', 'ebv', 'especid', 'pop', 'type', 't', 'feh', 'logg', 'vr', 'vphi', 'vz', 'ismultiple', 'isvar', 'timescale', 'varfluxpeak', 't0', 'x', 'y', 'z', 'cx', 'cy', 'cz', 'run', 'runobjid', 'geopoint', 'varParamStr', 'varsimobjid', 'randomVar'], 'sfd_stars_partition_12500000000000_fit': ['htmid', 'simobjid', 'name', 'temp', 'logg', 'fluxnorm', 'u', 'g', 'r', 'i', 'z', 'y'], 'sfd_stars_partition_8700000000000_circle80m10_fit': ['htmid', 'simobjid', 'name', 'temp', 'logg', 'fluxnorm', 'u', 'g', 'r', 'i', 'z', 'y'], 'galaxy_bulge': ['htmid', 'galid', 'ra', 'dec', 'redshift', 'rad_vel', 'u_ab', 'g_ab', 'r_ab', 'i_ab', 'z_ab', 'y_ab', 'sedid_bulge', 'sedid_disk', 'sedid_agn', 'av_b', 'rv_b', 'ext_model_b', 'av_d', 'rv_d', 'ext_model_d', 'glon', 'glat', 'pa_bulge', 'pa_disk', 'inc_bulge_deg', 'inc_disk_deg', 'a_b', 'b_b', 'bulge_n', 'bra', 'bdec', 'a_d', 'b_d', 'disk_n', 'dra', 'ddec', 'agnra', 'agndec', 'versionid', 'fluxnorm_bulge', 'fluxnorm_agn', 'absmag_r_total', 'gal_type', 'mass_stellar', 'mass_gas', 'mass_halo', 'ug_total_rest', 'gr_total_rest', 'ri_total_rest', 'iz_total_rest', 'zy_total_rest', 'isagn', 'agn_tau', 'agn_sfu', 'agn_sfg', 'agn_sfr', 'agn_sfi', 'agn_sfz', 'agn_sfy', 'fluxnorm_disk', 'magnorm_bulge', 'magnorm_disk', 'magnorm_agn', 'cx', 'cy', 'cz', 'geopoint', 'sedname_agn', 'sedname_bulge', 'sedname_disk', 'varsimobjid', 'varParamStr', 'type', 'mass_bulge', 'BulgeMinusDiskLSSTr', 'log10BulgeToTotLSSTrFlux', 'AbsiMag', 'AbsiMag0_1', 'z0_1umg', 'z0_1gmr', 'z0_1rmi', 'z0_1imz', 'z0_1zmy', 'ba_disk', 'ba_bulge', 'DiskHalfLightRadius', 'DiskLSSTu', 'DiskLSSTg', 'DiskLSSTr', 'DiskLSSTi', 'DiskLSSTz', 'DiskLSSTy', 'BulgeLSSTu', 'BulgeLSSTg', 'BulgeLSSTr', 'BulgeLSSTi', 'BulgeLSSTz', 'BulgeLSSTy', 'AGNID', 'BulgeHalfLightRadius', 't0_agn', 'myid', 'id'], 'stars_obafgk_part_0870': ['htmid', 'simobjid', 'ra', 'decl', 'gal_l', 'gal_b', 'versionid', 'mura', 'mudecl', 'vrad', 'parallax', 'distance', 'sedfilename', 'sedid', 'flux_scale', 'umag', 'gmag', 'rmag', 'imag', 'zmag', 'ymag', 'sdssu', 'sdssg', 'sdssr', 'sdssi', 'sdssz', 'absmr', 'newSDSSu', 'newSDSSg', 'newSDSSr', 'newSDSSi', 'newSDSSz', 'ebv', 'especid', 'pop', 'type', 't', 'feh', 'logg', 'vr', 'vphi', 'vz', 'ismultiple', 'isvar', 'timescale', 'varfluxpeak', 't0', 'x', 'y', 'z', 'cx', 'cy', 'cz', 'run', 'runobjid', 'varParamStr', 'varsimobjid', 'randomVar', 'sedfiletype'], 'galaxy_agn': ['htmid', 'galid', 'ra', 'dec', 'redshift', 'rad_vel', 'u_ab', 'g_ab', 'r_ab', 'i_ab', 'z_ab', 'y_ab', 'sedid_bulge', 'sedid_disk', 'sedid_agn', 'av_b', 'rv_b', 'ext_model_b', 'av_d', 'rv_d', 'ext_model_d', 'glon', 'glat', 'pa_bulge', 'pa_disk', 'inc_bulge_deg', 'inc_disk_deg', 'a_b', 'b_b', 'bulge_n', 'bra', 'bdec', 'a_d', 'b_d', 'disk_n', 'dra', 'ddec', 'agnra', 'agndec', 'versionid', 'fluxnorm_bulge', 'fluxnorm_agn', 'absmag_r_total', 'gal_type', 'mass_stellar', 'mass_gas', 'mass_halo', 'ug_total_rest', 'gr_total_rest', 'ri_total_rest', 'iz_total_rest', 'zy_total_rest', 'isagn', 'agn_tau', 'agn_sfu', 'agn_sfg', 'agn_sfr', 'agn_sfi', 'agn_sfz', 'agn_sfy', 'fluxnorm_disk', 'magnorm_bulge', 'magnorm_disk', 'magnorm_agn', 'cx', 'cy', 'cz', 'geopoint', 'sedname_agn', 'sedname_bulge', 'sedname_disk', 'varsimobjid', 'varParamStr', 'type', 'mass_bulge', 'BulgeMinusDiskLSSTr', 'log10BulgeToTotLSSTrFlux', 'AbsiMag', 'AbsiMag0_1', 'z0_1umg', 'z0_1gmr', 'z0_1rmi', 'z0_1imz', 'z0_1zmy', 'ba_disk', 'ba_bulge', 'DiskHalfLightRadius', 'DiskLSSTu', 'DiskLSSTg', 'DiskLSSTr', 'DiskLSSTi', 'DiskLSSTz', 'DiskLSSTy', 'BulgeLSSTu', 'BulgeLSSTg', 'BulgeLSSTr', 'BulgeLSSTi', 'BulgeLSSTz', 'BulgeLSSTy', 'AGNID', 'BulgeHalfLightRadius', 't0_agn', 'myid', 'id'], 'MLTfitTestTable': ['id', 'sedfilename', 'sdssu', 'sdssg', 'sdssr', 'sdssi', 'sdssz', 'flux_scale'], 'mltNameTable': ['name'], 'sysdiagrams': ['name', 'principal_id', 'diagram_id', 'version', 'definition'], 'stars_partition_8700000000000_circle80m10': ['htmID', 'simobjid', 'ra', 'decl', 'gal_l', 'gal_b', 'versionid', 'mura', 'mudecl', 'vrad', 'parallax', 'distance', 'sedfiletype', 'sedfilename', 'sedid', 'flux_scale', 'umag', 'gmag', 'rmag', 'imag', 'zmag', 'ymag', 'sdssu', 'sdssg', 'sdssr', 'sdssi', 'sdssz', 'absmr', 'newSDSSu', 'newSDSSg', 'newSDSSr', 'newSDSSi', 'newSDSSz', 'ebv', 'especid', 'pop', 'type', 't', 'feh', 'logg', 'vr', 'vphi', 'vz', 'ismultiple', 'isvar', 'timescale', 'varfluxpeak', 't0', 'x', 'y', 'z', 'cx', 'cy', 'cz', 'run', 'runobjid', 'varsimobjid', 'vart0', 'length', 'lcfilename'], 'StarBHB': ['htmID', 'simobjid', 'ra', 'decl', 'gal_l', 'gal_b', 'versionid', 'mura', 'mudecl', 'vrad', 'parallax', 'distance', 'sedfilename', 'sedid', 'flux_scale', 'umag', 'gmag', 'rmag', 'imag', 'zmag', 'ymag', 'sdssu', 'sdssg', 'sdssr', 'sdssi', 'sdssz', 'absmr', 'newSDSSu', 'newSDSSg', 'newSDSSr', 'newSDSSi', 'newSDSSz', 'ebv', 'especid', 'pop', 'type', 't', 'feh', 'logg', 'vr', 'vphi', 'vz', 'ismultiple', 'isvar', 'timescale', 'varfluxpeak', 't0', 'x', 'y', 'z', 'cx', 'cy', 'cz', 'run', 'runobjid', 'geopoint', 'varParamStr', 'varsimobjid'], 'lens': ['dec', 'ra_bulge', 'av_b', 'a_b', 'b_b', 'magnorm_bulge', 'rad_vel', 'redshift', 'sedname_bulge', 'ra', 'ext_model_b', 'dec_bulge', 'g_ab', 'i_ab', 'pa_bulge', 'r_ab', 'u_ab', 'y_ab', 'z_ab', 'rv_b', 'fluxnorm_bulge', 'htmID', 'galtileid', 'cx', 'cy', 'cz', 'bulge_n', 'varsimobjid', 'id'], 'TwinkSN': ['galtileid', 'htmid', 'snid', 't0', 'c', 'x1', 'x0', 'redshift', 'snra', 'sndec', 'cx', 'cy', 'cz'], 'stars_mlt_part_1250': ['htmid', 'simobjid', 'ra', 'decl', 'gal_l', 'gal_b', 'versionid', 'mura', 'mudecl', 'vrad', 'parallax', 'distance', 'sedfilename', 'sedid', 'flux_scale', 'umag', 'gmag', 'rmag', 'imag', 'zmag', 'ymag', 'sdssu', 'sdssg', 'sdssr', 'sdssi', 'sdssz', 'absmr', 'newSDSSu', 'newSDSSg', 'newSDSSr', 'newSDSSi', 'newSDSSz', 'ebv', 'especid', 'pop', 'type', 't', 'feh', 'logg', 'vr', 'vphi', 'vz', 'ismultiple', 'isvar', 'timescale', 'varfluxpeak', 't0', 'x', 'y', 'z', 'cx', 'cy', 'cz', 'run', 'runobjid', 'varParamStr', 'varsimobjid', 'randomVar', 'sedfiletype'], 'starsCenteredp80m10_lookup': ['htmid', 'simobjid', 'sedfilename', 'flux_scale', 'u', 'g', 'r', 'i', 'z', 'y'], 'galaxy_tiled_supernova_tmp': ['galtileid', 'htmid', 'id', 'redshift', 'mass_stellar', 'ra', 'dec'], 'gizisNameTable': ['name'], 'tiles': ['id', 'llx', 'lly', 'urx', 'ury', 'ramid', 'decmid', 'center', 'bbox', 'geocenter', 'geobox', 'htmpoly', 'corners', 'htmpolybin'], 'stars_obafgk_part_1250': ['htmid', 'simobjid', 'ra', 'decl', 'gal_l', 'gal_b', 'versionid', 'mura', 'mudecl', 'vrad', 'parallax', 'distance', 'sedfilename', 'sedid', 'flux_scale', 'umag', 'gmag', 'rmag', 'imag', 'zmag', 'ymag', 'sdssu', 'sdssg', 'sdssr', 'sdssi', 'sdssz', 'absmr', 'newSDSSu', 'newSDSSg', 'newSDSSr', 'newSDSSi', 'newSDSSz', 'ebv', 'especid', 'pop', 'type', 't', 'feh', 'logg', 'vr', 'vphi', 'vz', 'ismultiple', 'isvar', 'timescale', 'varfluxpeak', 't0', 'x', 'y', 'z', 'cx', 'cy', 'cz', 'run', 'runobjid', 'varParamStr', 'varsimobjid', 'randomVar', 'sedfiletype'], 'galaxy_disk': ['htmid', 'galid', 'ra', 'dec', 'redshift', 'rad_vel', 'u_ab', 'g_ab', 'r_ab', 'i_ab', 'z_ab', 'y_ab', 'sedid_bulge', 'sedid_disk', 'sedid_agn', 'av_b', 'rv_b', 'ext_model_b', 'av_d', 'rv_d', 'ext_model_d', 'glon', 'glat', 'pa_bulge', 'pa_disk', 'inc_bulge_deg', 'inc_disk_deg', 'a_b', 'b_b', 'bulge_n', 'bra', 'bdec', 'a_d', 'b_d', 'disk_n', 'dra', 'ddec', 'agnra', 'agndec', 'versionid', 'fluxnorm_bulge', 'fluxnorm_agn', 'absmag_r_total', 'gal_type', 'mass_stellar', 'mass_gas', 'mass_halo', 'ug_total_rest', 'gr_total_rest', 'ri_total_rest', 'iz_total_rest', 'zy_total_rest', 'isagn', 'agn_tau', 'agn_sfu', 'agn_sfg', 'agn_sfr', 'agn_sfi', 'agn_sfz', 'agn_sfy', 'fluxnorm_disk', 'magnorm_bulge', 'magnorm_disk', 'magnorm_agn', 'cx', 'cy', 'cz', 'geopoint', 'sedname_agn', 'sedname_bulge', 'sedname_disk', 'varsimobjid', 'varParamStr', 'type', 'mass_bulge', 'BulgeMinusDiskLSSTr', 'log10BulgeToTotLSSTrFlux', 'AbsiMag', 'AbsiMag0_1', 'z0_1umg', 'z0_1gmr', 'z0_1rmi', 'z0_1imz', 'z0_1zmy', 'ba_disk', 'ba_bulge', 'DiskHalfLightRadius', 'DiskLSSTu', 'DiskLSSTg', 'DiskLSSTr', 'DiskLSSTi', 'DiskLSSTz', 'DiskLSSTy', 'BulgeLSSTu', 'BulgeLSSTg', 'BulgeLSSTr', 'BulgeLSSTi', 'BulgeLSSTz', 'BulgeLSSTy', 'AGNID', 'BulgeHalfLightRadius', 't0_agn', 'id', 'myid'], 'stars_mlt_part_0870': ['htmid', 'simobjid', 'ra', 'decl', 'gal_l', 'gal_b', 'versionid', 'mura', 'mudecl', 'vrad', 'parallax', 'distance', 'sedfilename', 'sedid', 'flux_scale', 'umag', 'gmag', 'rmag', 'imag', 'zmag', 'ymag', 'sdssu', 'sdssg', 'sdssr', 'sdssi', 'sdssz', 'absmr', 'newSDSSu', 'newSDSSg', 'newSDSSr', 'newSDSSi', 'newSDSSz', 'ebv', 'especid', 'pop', 'type', 't', 'feh', 'logg', 'vr', 'vphi', 'vz', 'ismultiple', 'isvar', 'timescale', 'varfluxpeak', 't0', 'x', 'y', 'z', 'cx', 'cy', 'cz', 'run', 'runobjid', 'varParamStr', 'varsimobjid', 'randomVar', 'sedfiletype'], 'StarWhiteDwarf': ['htmID', 'simobjid', 'ra', 'decl', 'gal_l', 'gal_b', 'versionid', 'mura', 'mudecl', 'vrad', 'parallax', 'distance', 'sedfilename', 'sedid', 'flux_scale', 'umag', 'gmag', 'rmag', 'imag', 'zmag', 'ymag', 'sdssu', 'sdssg', 'sdssr', 'sdssi', 'sdssz', 'absmr', 'newSDSSu', 'newSDSSg', 'newSDSSr', 'newSDSSi', 'newSDSSz', 'ebv', 'especid', 'pop', 'type', 't', 'feh', 'logg', 'vr', 'vphi', 'vz', 'ismultiple', 'isvar', 'timescale', 'varfluxpeak', 't0', 'x', 'y', 'z', 'cx', 'cy', 'cz', 'run', 'runobjid', 'geopoint', 'varParamStr', 'varsimobjid'], 'StarRRLy': ['htmID', 'simobjid', 'ra', 'decl', 'gal_l', 'gal_b', 'versionid', 'mura', 'mudecl', 'vrad', 'parallax', 'distance', 'sedfilename', 'sedid', 'flux_scale', 'umag', 'gmag', 'rmag', 'imag', 'zmag', 'ymag', 'sdssu', 'sdssg', 'sdssr', 'sdssi', 'sdssz', 'absmr', 'newSDSSu', 'newSDSSg', 'newSDSSr', 'newSDSSi', 'newSDSSz', 'ebv', 'especid', 'pop', 'type', 't', 'feh', 'logg', 'vr', 'vphi', 'vz', 'ismultiple', 'isvar', 'timescale', 'varfluxpeak', 't0', 'x', 'y', 'z', 'cx', 'cy', 'cz', 'run', 'runobjid', 'geopoint', 'varParamStr', 'varsimobjid'], 'StarEclipsingBinary': ['htmID', 'ra', 'decl', 'gal_l', 'gal_b', 'versionid', 'mura', 'mudecl', 'vrad', 'parallax', 'distance', 'sedfilename', 'sedid', 'flux_scale', 'umag', 'gmag', 'rmag', 'imag', 'zmag', 'ymag', 'sdssu', 'sdssg', 'sdssr', 'sdssi', 'sdssz', 'absmr', 'newSDSSu', 'newSDSSg', 'newSDSSr', 'newSDSSi', 'newSDSSz', 'ebv', 'especid', 'pop', 'type', 't', 'feh', 'logg', 'vr', 'vphi', 'vz', 'ismultiple', 'isvar', 'timescale', 'varfluxpeak', 't0', 'x', 'y', 'z', 'cx', 'cy', 'cz', 'run', 'runobjid', 'geopoint', 'varParamStr', 'varsimobjid', 'simobjid'], 'docItems': ['id', 'itemName', 'objectType', 'columnType', 'description', 'docSection', 'docSectionSort'], 'StarDwarfGalaxy': ['simobjid', 'decl', 'ra', 'gal_l', 'gal_b', 'versionid', 'mura', 'mudecl', 'vrad', 'parallax', 'distance', 'sedfilename', 'sedid', 'flux_scale', 'umag', 'gmag', 'rmag', 'imag', 'zmag', 'ymag', 'sdssu', 'sdssg', 'sdssr', 'sdssi', 'sdssz', 'absmr', 'newSDSSu', 'newSDSSg', 'newSDSSr', 'newSDSSi', 'newSDSSz', 'ebv', 'especid', 'pop', 'type', 't', 'feh', 'logg', 'vr', 'vphi', 'vz', 'ismultiple', 'isvar', 'timescale', 'varfluxpeak', 't0', 'x', 'y', 'z', 'cx', 'cy', 'cz', 'htmID', 'run', 'runobjid', 'geopoint', 'varParamStr', 'varsimobjid'], 'sfd_stars_partition_12000000000000_fit': ['htmid', 'simobjid', 'name', 'temp', 'logg', 'fluxnorm', 'u', 'g', 'r', 'i', 'z', 'y'], 'starsrrlyvar': ['varsimobjid', 'filename', 'tStartMjd', 'varMethodName'], 'sedIdMap': ['id', 'sedname'], 'stars_obafgk_part_1400': ['htmid', 'simobjid', 'ra', 'decl', 'gal_l', 'gal_b', 'versionid', 'mura', 'mudecl', 'vrad', 'parallax', 'distance', 'sedfilename', 'sedid', 'flux_scale', 'umag', 'gmag', 'rmag', 'imag', 'zmag', 'ymag', 'sdssu', 'sdssg', 'sdssr', 'sdssi', 'sdssz', 'absmr', 'newSDSSu', 'newSDSSg', 'newSDSSr', 'newSDSSi', 'newSDSSz', 'ebv', 'especid', 'pop', 'type', 't', 'feh', 'logg', 'vr', 'vphi', 'vz', 'ismultiple', 'isvar', 'timescale', 'varfluxpeak', 't0', 'x', 'y', 'z', 'cx', 'cy', 'cz', 'run', 'runobjid', 'varParamStr', 'varsimobjid', 'randomVar', 'sedfiletype'], 'output_opsim3_61': ['obshistidorig', 'sessionid', 'propid', 'fieldid', 'filter', 'seqnnum', 'subseq', 'pairnum', 'expdate', 'expmjd', 'exptime', 'slewtime', 'slewdist', 'rotskypos', 'rottelpos', 'fldvisits', 'fldint', 'fldfltrint', 'proprank', 'finrank', 'maxseeing', 'rawseeing', 'seeing', 'xparency', 'cldseeing', 'airmass', 'vskybright', 'filtsky', 'fieldra', 'fielddec', 'lst', 'altitude', 'azimuth', 'dist2moon', 'moonra', 'moondec', 'moonalt', 'moonphase', 'sunalt', 'sunaz', 'phaseangle', 'rscatter', 'miescatter', 'moonillum', 'moonbright', 'darkbright', 'm5sigma', 'perry_skybrightness', 'm5sigma_ps', 'night', 'hexdithra', 'hexdithdec', 'vertex', 'l_ec', 'b_ec', 'fieldradeg', 'fielddecdeg', 'hexdithdecdeg', 'hexdithradeg', 'obshistid']}\n"
     ]
    }
   ],
   "source": [
    "print names"
   ]
  },
  {
   "cell_type": "code",
   "execution_count": 16,
   "metadata": {
    "collapsed": false
   },
   "outputs": [],
   "source": [
    "class galCopy1(InstanceCatalog):\n",
    "    \n",
    "    column_outputs = ['raJ2000', 'decJ2000', 'snid', 'galtileid','t0', 'x0', 'x1', 'c', 'redshift', ]\n",
    "    override_formats = {'raJ2000': '%8e', 'decJ2000': '%8e', 'x0':'%8e'}\n",
    "                        #'x0':'%8e', 'x1':'%8e', 'c':'%8e', 't0':'%8e'}"
   ]
  },
  {
   "cell_type": "code",
   "execution_count": 10,
   "metadata": {
    "collapsed": false
   },
   "outputs": [],
   "source": [
    "degConv = np.array([1., 1./60., 1./3600.])\n",
    "raConv = degConv / 24.0 * 360.\n",
    "centralRA = np.dot(np.array([3., 32., 30]), raConv) #03h 32m 30s\n",
    "centralDec = np.dot(np.array([-28, 6., 0.]), degConv)\n",
    "patchRadius = 0.4 * np.sqrt(2) #np.dot(np.array([0.0, 10.0, 0.]), degConv)"
   ]
  },
  {
   "cell_type": "code",
   "execution_count": 11,
   "metadata": {
    "collapsed": false
   },
   "outputs": [],
   "source": [
    "TwinklesObsMetaDataSmall = ObservationMetaData(boundType='box',pointingRA=centralRA,pointingDec=centralDec,\n",
    "                                          boundLength=0.167, mjd=49540.0)"
   ]
  },
  {
   "cell_type": "code",
   "execution_count": 17,
   "metadata": {
    "collapsed": false
   },
   "outputs": [],
   "source": [
    "tsmall = galCopy(db_obj=s, obs_metadata=TwinklesObsMetaDataSmall)"
   ]
  },
  {
   "cell_type": "code",
   "execution_count": 18,
   "metadata": {
    "collapsed": false
   },
   "outputs": [],
   "source": [
    "tsmall.write_catalog('TwinklesSN.dat')"
   ]
  },
  {
   "cell_type": "code",
   "execution_count": 19,
   "metadata": {
    "collapsed": false
   },
   "outputs": [
    {
     "name": "stdout",
     "output_type": "stream",
     "text": [
      "   72780 TwinklesSN.dat\r\n"
     ]
    }
   ],
   "source": [
    "!wc -l TwinklesSN.dat"
   ]
  },
  {
   "cell_type": "code",
   "execution_count": 20,
   "metadata": {
    "collapsed": false
   },
   "outputs": [
    {
     "name": "stdout",
     "output_type": "stream",
     "text": [
      "#raJ2000, decJ2000, snid, galtileid, t0, x0, x1, c, redshift\r\n",
      "9.268218e-01, -4.856720e-01, 10000060017065964, 60017065964, 1411.2391, 1.407584e-05, 0.0295, 0.2257, 0.3758\r\n",
      "9.268878e-01, -4.855599e-01, 20000060005969546, 60005969546, 1435.7223, 3.749880e-06, 0.6676, 0.0428, 0.7170\r\n",
      "9.268903e-01, -4.855595e-01, 60005969546, 60005969546, 3565.6371, 5.852821e-06, 1.7729, -0.0086, 0.7170\r\n",
      "9.268899e-01, -4.855593e-01, 10000060005969546, 60005969546, 814.2388, 6.643831e-06, 0.8840, -0.1400, 0.7170\r\n",
      "9.268669e-01, -4.856174e-01, 60001136957, 60001136957, 3265.2190, 1.454223e-05, -0.6587, -0.0267, 0.4383\r\n",
      "9.268499e-01, -4.855875e-01, 60002107287, 60002107287, 3534.2897, 1.120626e-05, -0.4971, -0.1220, 0.6374\r\n",
      "9.268275e-01, -4.855740e-01, 60000604100, 60000604100, 1372.0648, 2.843585e-06, -1.8810, 0.1141, 0.6501\r\n",
      "9.268242e-01, -4.855792e-01, 10000060000604100, 60000604100, 1804.9731, 8.206371e-06, -0.1808, -0.0332, 0.6501\r\n",
      "9.268235e-01, -4.855779e-01, 30000060000604100, 60000604100, 1342.9544, 9.895945e-06, -0.6426, -0.2507, 0.6501\r\n"
     ]
    }
   ],
   "source": [
    "!head TwinklesSN.dat"
   ]
  },
  {
   "cell_type": "code",
   "execution_count": 21,
   "metadata": {
    "collapsed": false
   },
   "outputs": [
    {
     "data": {
      "text/plain": [
       "0.92682176218538093"
      ]
     },
     "execution_count": 21,
     "metadata": {},
     "output_type": "execute_result"
    }
   ],
   "source": [
    "np.radians(53.1029753341)"
   ]
  },
  {
   "cell_type": "code",
   "execution_count": 25,
   "metadata": {
    "collapsed": true
   },
   "outputs": [],
   "source": [
    "gsmall = GTileCopy(db_obj=gTile, obs_metadata=TwinklesObsMetaDataSmall)"
   ]
  },
  {
   "cell_type": "code",
   "execution_count": 26,
   "metadata": {
    "collapsed": false
   },
   "outputs": [],
   "source": [
    "gsmall.write_catalog('gsmall.cat')"
   ]
  },
  {
   "cell_type": "code",
   "execution_count": 27,
   "metadata": {
    "collapsed": false
   },
   "outputs": [
    {
     "data": {
      "text/plain": [
       "0.016176032648065813"
      ]
     },
     "execution_count": 27,
     "metadata": {},
     "output_type": "execute_result"
    }
   ],
   "source": [
    "9.268184e-01"
   ]
  },
  {
   "cell_type": "code",
   "execution_count": 28,
   "metadata": {
    "collapsed": false
   },
   "outputs": [
    {
     "data": {
      "text/plain": [
       "0.92681840000056304"
      ]
     },
     "execution_count": 28,
     "metadata": {},
     "output_type": "execute_result"
    }
   ],
   "source": [
    "np.radians(53.1027826951)"
   ]
  },
  {
   "cell_type": "code",
   "execution_count": null,
   "metadata": {
    "collapsed": true
   },
   "outputs": [],
   "source": []
  }
 ],
 "metadata": {
  "kernelspec": {
   "display_name": "Python 2",
   "language": "python",
   "name": "python2"
  },
  "language_info": {
   "codemirror_mode": {
    "name": "ipython",
    "version": 2
   },
   "file_extension": ".py",
   "mimetype": "text/x-python",
   "name": "python",
   "nbconvert_exporter": "python",
   "pygments_lexer": "ipython2",
   "version": "2.7.11"
  }
 },
 "nbformat": 4,
 "nbformat_minor": 0
}
