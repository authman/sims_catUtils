{
 "cells": [
  {
   "cell_type": "code",
   "execution_count": 1,
   "metadata": {
    "collapsed": false
   },
   "outputs": [
    {
     "name": "stderr",
     "output_type": "stream",
     "text": [
      "/usr/local/manual/anaconda/lib/python2.7/site-packages/matplotlib/__init__.py:872: UserWarning: axes.color_cycle is deprecated and replaced with axes.prop_cycle; please use the latter.\n",
      "  warnings.warn(self.msg_depr % (key, alt_key))\n"
     ]
    }
   ],
   "source": [
    "import os\n",
    "import numpy as np\n",
    "%matplotlib inline\n",
    "import matplotlib.pyplot as plt\n",
    "import pandas as pd\n",
    "import matplotlib.patches  as mpatches\n",
    "import seaborn as sns\n",
    "sns.set()"
   ]
  },
  {
   "cell_type": "code",
   "execution_count": 2,
   "metadata": {
    "collapsed": false
   },
   "outputs": [],
   "source": [
    "from lsst.sims.catalogs.generation.db import CatalogDBObject\n",
    "from lsst.sims.catalogs.generation.db import CatalogDBObject"
   ]
  },
  {
   "cell_type": "code",
   "execution_count": 3,
   "metadata": {
    "collapsed": false
   },
   "outputs": [
    {
     "name": "stderr",
     "output_type": "stream",
     "text": [
      "/usr/local/manual/anaconda/lib/python2.7/site-packages/IPython/kernel/__init__.py:13: ShimWarning: The `IPython.kernel` package has been deprecated. You should import from ipykernel or jupyter_client instead.\n",
      "  \"You should import from ipykernel or jupyter_client instead.\", ShimWarning)\n",
      "Duplicate object type id 25 specified: \n",
      "Output object ids may not be unique.\n",
      "This may not be a problem if you do not want globally unique id values\n",
      "Duplicate object type id 40 specified: \n",
      "Output object ids may not be unique.\n",
      "This may not be a problem if you do not want globally unique id values\n",
      "Duplicate object type id 40 specified: \n",
      "Output object ids may not be unique.\n",
      "This may not be a problem if you do not want globally unique id values\n",
      "Duplicate object type id 40 specified: \n",
      "Output object ids may not be unique.\n",
      "This may not be a problem if you do not want globally unique id values\n",
      "Duplicate object type id 40 specified: \n",
      "Output object ids may not be unique.\n",
      "This may not be a problem if you do not want globally unique id values\n"
     ]
    }
   ],
   "source": [
    "import lsst.sims.catUtils.baseCatalogModels as bcm\n",
    "from lsst.sims.catalogs.measures.instance import InstanceCatalog\n",
    "from lsst.sims.utils import ObservationMetaData"
   ]
  },
  {
   "cell_type": "code",
   "execution_count": 4,
   "metadata": {
    "collapsed": false
   },
   "outputs": [],
   "source": [
    "from lsst.sims.catUtils.baseCatalogModels import GalaxyTileObj, GalaxyDiskObj\n",
    "from lsst.sims.catUtils.baseCatalogModels import SNObj\n",
    "from lsst.sims.catUtils.mixins import FrozenSNCat"
   ]
  },
  {
   "cell_type": "code",
   "execution_count": 5,
   "metadata": {
    "collapsed": false
   },
   "outputs": [],
   "source": [
    "s  = SNObj()"
   ]
  },
  {
   "cell_type": "markdown",
   "metadata": {},
   "source": [
    "## ObsMetaData"
   ]
  },
  {
   "cell_type": "code",
   "execution_count": 6,
   "metadata": {
    "collapsed": true
   },
   "outputs": [],
   "source": [
    "from lsst.sims.catUtils.utils import ObservationMetaDataGenerator"
   ]
  },
  {
   "cell_type": "code",
   "execution_count": 7,
   "metadata": {
    "collapsed": false
   },
   "outputs": [],
   "source": [
    "degConv = np.array([1., 1./60., 1./3600.])\n",
    "raConv = degConv / 24.0 * 360.\n",
    "centralRA = np.dot(np.array([3., 32., 30]), raConv) #03h 32m 30s\n",
    "centralDec = np.dot(np.array([-28, 6., 0.]), degConv)\n",
    "patchRadius = 0.4 * np.sqrt(2) #np.dot(np.array([0.0, 10.0, 0.]), degConv)"
   ]
  },
  {
   "cell_type": "code",
   "execution_count": 8,
   "metadata": {
    "collapsed": true
   },
   "outputs": [],
   "source": [
    "opsimPath = os.path.join('/Users/rbiswas/data/LSST/OpSimData')\n",
    "opsimDB = os.path.join(opsimPath,'enigma_1189_sqlite.db')"
   ]
  },
  {
   "cell_type": "code",
   "execution_count": 9,
   "metadata": {
    "collapsed": true
   },
   "outputs": [],
   "source": [
    "generator = ObservationMetaDataGenerator(driver='sqlite', database=opsimDB) #database = opsimPath, driver='sqlite')\n",
    "obsMetaDataResults = generator.getObservationMetaData(limit=100,\n",
    "                                                      fieldRA=(centralRA - 2.0, centralRA + 2.0), \n",
    "                                                      fieldDec=(centralDec - 2.0, centralDec + 2.0),\n",
    "                                                      expMJD=(49500., 49690.),\n",
    "                                                      boundLength=0.05,\n",
    "                                                      boundType='circle')"
   ]
  },
  {
   "cell_type": "code",
   "execution_count": 10,
   "metadata": {
    "collapsed": true
   },
   "outputs": [],
   "source": [
    "TwinklesObsMetaDataSmall = obsMetaDataResults[35]"
   ]
  },
  {
   "cell_type": "code",
   "execution_count": 11,
   "metadata": {
    "collapsed": false
   },
   "outputs": [
    {
     "data": {
      "text/plain": [
       "53.009138473031555"
      ]
     },
     "execution_count": 11,
     "metadata": {},
     "output_type": "execute_result"
    }
   ],
   "source": [
    "TwinklesObsMetaDataSmall.pointingRA"
   ]
  },
  {
   "cell_type": "code",
   "execution_count": 12,
   "metadata": {
    "collapsed": true
   },
   "outputs": [],
   "source": [
    "class TSNCopy(InstanceCatalog):\n",
    "    \n",
    "    column_outputs = ['raJ2000', 'decJ2000', 'snid', 'Tgaltileid','Tt0', 'Tx0', 'Tx1', 'Tc', 'Tredshift', ]\n",
    "    override_formats = {'raJ2000': '%8e', 'decJ2000': '%8e', 'x0':'%8e'}"
   ]
  },
  {
   "cell_type": "code",
   "execution_count": 13,
   "metadata": {
    "collapsed": false
   },
   "outputs": [],
   "source": [
    "Ttsmall = TSNCopy(db_obj=s, obs_metadata=TwinklesObsMetaDataSmall)\n",
    "Ttsmall.write_catalog('TTwinklesSN.dat')"
   ]
  },
  {
   "cell_type": "code",
   "execution_count": 14,
   "metadata": {
    "collapsed": false
   },
   "outputs": [
    {
     "name": "stderr",
     "output_type": "stream",
     "text": [
      "/usr/local/manual/anaconda/lib/python2.7/site-packages/ipykernel/__main__.py:1: ParserWarning: Falling back to the 'python' engine because the 'c' engine does not support regex separators; you can avoid this warning by specifying engine='python'.\n",
      "  if __name__ == '__main__':\n"
     ]
    }
   ],
   "source": [
    "TTSNdf = pd.read_csv('TTwinklesSN.dat', sep=',\\s+')"
   ]
  },
  {
   "cell_type": "code",
   "execution_count": 15,
   "metadata": {
    "collapsed": false
   },
   "outputs": [
    {
     "data": {
      "image/png": "iVBORw0KGgoAAAANSUhEUgAAAZMAAAFRCAYAAACxPEDeAAAABHNCSVQICAgIfAhkiAAAAAlwSFlz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\n",
      "text/plain": [
       "<matplotlib.figure.Figure at 0x10ac751d0>"
      ]
     },
     "metadata": {},
     "output_type": "display_data"
    }
   ],
   "source": [
    "fig, ax = plt.subplots()\n",
    "ax.hexbin(TTSNdf['#raJ2000'], TTSNdf.decJ2000)\n",
    "ax.plot(np.radians(TwinklesObsMetaDataSmall.pointingRA), np.radians(TwinklesObsMetaDataSmall.pointingDec), \n",
    "         'ys', markersize=14)\n",
    "circ = mpatches.Circle((np.radians(TwinklesObsMetaDataSmall.pointingRA), np.radians(TwinklesObsMetaDataSmall.pointingDec)), \n",
    "         np.radians(0.05))\n",
    "circ.set(edgecolor='r', fill=False)\n",
    "#circ.set(face)\n",
    "ax.add_artist(circ)\n",
    "ax.set_aspect('equal')"
   ]
  },
  {
   "cell_type": "markdown",
   "metadata": {},
   "source": [
    "##  SN Instance Catalogs"
   ]
  },
  {
   "cell_type": "code",
   "execution_count": 16,
   "metadata": {
    "collapsed": false
   },
   "outputs": [
    {
     "name": "stdout",
     "output_type": "stream",
     "text": [
      "('badvalues ', nan)\n",
      "('mjd ', 49612.338296000002)\n",
      "('maxTime', 100.0)\n",
      "('number of cases ', 0)\n"
     ]
    }
   ],
   "source": [
    "sncatalog = FrozenSNCat(db_obj=s, obs_metadata=TwinklesObsMetaDataSmall, \n",
    "                         column_outputs=['snra', 'galtileid', 'sndec', 'snid', 'x0', 't0', 'flux', 'flux_err', 'mag', 'mag_err',\n",
    "                                         'TmagNorm', 'TsedFilepath', 'adu'])\n",
    "sncatalog.surveyStartDate = 49500.\n",
    "sncatalog.writeSedFile = False\n",
    "sncatalog.prefix = '/Users/rbiswas/tmp/'"
   ]
  },
  {
   "cell_type": "code",
   "execution_count": 17,
   "metadata": {
    "collapsed": false
   },
   "outputs": [],
   "source": [
    "sncatalog.suppressDimSN = True"
   ]
  },
  {
   "cell_type": "code",
   "execution_count": 18,
   "metadata": {
    "collapsed": false
   },
   "outputs": [
    {
     "name": "stdout",
     "output_type": "stream",
     "text": [
      "('badvalues ', nan)\n",
      "('mjd ', 49612.338296000002)\n",
      "('maxTime', 100.0)\n",
      "('number of cases ', 0)\n",
      "('badvalues ', nan)\n",
      "('mjd ', 49612.338296000002)\n",
      "('maxTime', 100.0)\n",
      "('number of cases ', 1882)\n",
      "('badvalues ', nan)\n",
      "('mjd ', 49612.338296000002)\n",
      "('maxTime', 100.0)\n",
      "('number of cases ', 1892)\n",
      "('badvalues ', nan)\n",
      "('mjd ', 49612.338296000002)\n",
      "('maxTime', 100.0)\n",
      "('number of cases ', 1887)\n",
      "('badvalues ', nan)\n",
      "('mjd ', 49612.338296000002)\n",
      "('maxTime', 100.0)\n",
      "('number of cases ', 666)\n"
     ]
    }
   ],
   "source": [
    "_ = sncatalog.write_catalog('newcat.dat', chunk_size=2000)"
   ]
  },
  {
   "cell_type": "code",
   "execution_count": 19,
   "metadata": {
    "collapsed": false
   },
   "outputs": [
    {
     "name": "stdout",
     "output_type": "stream",
     "text": [
      "     393 newcat.dat\r\n"
     ]
    }
   ],
   "source": [
    "!wc -l newcat.dat"
   ]
  },
  {
   "cell_type": "markdown",
   "metadata": {},
   "source": [
    "##  PhoSim Catalogs"
   ]
  },
  {
   "cell_type": "code",
   "execution_count": 20,
   "metadata": {
    "collapsed": true
   },
   "outputs": [],
   "source": [
    "from lsst.sims.catUtils.exampleCatalogDefinitions.phoSimCatalogExamples import PhoSimCatalogSN, PhoSimCatalogSersic2D"
   ]
  },
  {
   "cell_type": "code",
   "execution_count": 21,
   "metadata": {
    "collapsed": false
   },
   "outputs": [
    {
     "name": "stdout",
     "output_type": "stream",
     "text": [
<<<<<<< HEAD
      "#raJ2000, decJ2000, snid, Tgaltileid, Tt0, Tx0, Tx1, Tc, Tredshift\r\n",
      "9.248542e-01, -4.796086e-01, 70000060002746141, 60002746141.0000, 334.7973, 0.0000, 0.6498, 0.0267, 0.8928\r\n",
      "9.248540e-01, -4.796087e-01, 110000060002746141, 60002746141.0000, 1247.8401, 0.0000, -1.7545, 0.0271, 0.8928\r\n",
      "9.248529e-01, -4.796095e-01, 40000060002746141, 60002746141.0000, 1829.9147, 0.0000, -0.0453, 0.0032, 0.8928\r\n",
      "9.248538e-01, -4.796086e-01, 60002746141, 60002746141.0000, 48.8777, 0.0000, 1.4029, 0.0339, 0.8928\r\n",
      "9.248534e-01, -4.796089e-01, 20000060002746141, 60002746141.0000, 2718.1500, 0.0000, -0.1613, 0.0428, 0.8928\r\n",
      "9.248540e-01, -4.796088e-01, 120000060002746141, 60002746141.0000, 3049.3672, 0.0000, -0.2035, 0.0507, 0.8928\r\n",
      "9.248551e-01, -4.796070e-01, 10000060002746141, 60002746141.0000, 722.5567, 0.0000, 0.3985, 0.0111, 0.8928\r\n",
      "9.248543e-01, -4.796073e-01, 30000060002746141, 60002746141.0000, 3445.2848, 0.0000, 0.2358, 0.0516, 0.8928\r\n",
      "9.248537e-01, -4.796080e-01, 50000060002746141, 60002746141.0000, 389.9466, 0.0000, -1.2119, -0.0357, 0.8928\r\n"
=======
      "('badvalues ', nan)\n",
      "('mjd ', 49612.338296000002)\n",
      "('maxTime', 100.0)\n",
      "('number of cases ', 0)\n",
      "('Type of return', <type 'numpy.ndarray'>, dtype('O'))\n",
      "()\n"
>>>>>>> Added galacticRV to galaxy phosim catalog in phoSimCatlogExamples.py
     ]
    }
   ],
   "source": [
    "pc = PhoSimCatalogSN(db_obj=s, obs_metadata=TwinklesObsMetaDataSmall, column_outputs=['EBV'])\n",
    "pc.writeSedFile = True\n",
    "pc.surveyStartDate = 49500\n",
    "pc.suppressDimSN = True"
   ]
  },
  {
   "cell_type": "code",
<<<<<<< HEAD
   "execution_count": 27,
   "metadata": {
    "collapsed": false
   },
   "outputs": [
    {
     "name": "stderr",
     "output_type": "stream",
     "text": [
      "/usr/local/manual/anaconda/lib/python2.7/site-packages/ipykernel/__main__.py:2: ParserWarning: Falling back to the 'python' engine because the 'c' engine does not support regex separators; you can avoid this warning by specifying engine='python'.\n",
      "  from ipykernel import kernelapp as app\n"
     ]
    }
   ],
   "source": [
    "import pandas as pd\n",
    "TTSNdf = pd.read_csv('TTwinklesSN.dat', sep=',\\s+')"
   ]
  },
  {
   "cell_type": "code",
   "execution_count": 28,
   "metadata": {
    "collapsed": false
   },
   "outputs": [
    {
     "data": {
      "image/png": "iVBORw0KGgoAAAANSUhEUgAAAXcAAAEACAYAAABI5zaHAAAABHNCSVQICAgIfAhkiAAAAAlwSFlz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\nYII=\n",
      "text/plain": [
       "<matplotlib.figure.Figure at 0x11508b710>"
      ]
     },
     "metadata": {},
     "output_type": "display_data"
    }
   ],
   "source": [
    "_ = plt.hist(TTSNdf.Tt0, np.arange(0., 500., 10.))"
   ]
  },
  {
   "cell_type": "code",
   "execution_count": 29,
   "metadata": {
    "collapsed": false
   },
   "outputs": [
    {
     "data": {
      "text/plain": [
       "<matplotlib.axes._subplots.AxesSubplot at 0x1151dc450>"
      ]
     },
     "execution_count": 29,
     "metadata": {},
     "output_type": "execute_result"
    },
    {
     "data": {
      "image/png": "iVBORw0KGgoAAAANSUhEUgAAAZsAAAEPCAYAAACUb2mtAAAABHNCSVQICAgIfAhkiAAAAAlwSFlz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\nXAIPAAAAAElFTkSuQmCC\n",
      "text/plain": [
       "<matplotlib.figure.Figure at 0x11533ce90>"
      ]
     },
     "metadata": {},
     "output_type": "display_data"
    }
   ],
   "source": [
    "fig, corr_ax = plt.subplots(1, 2)\n",
    "TTSNdf.plot.hexbin(x='Tt0', y='#raJ2000', ax=corr_ax[0])\n",
    "#corr_ax[0].plot(centralRA, centralDec, 'ks')\n",
    "TTSNdf.plot.hexbin(x='Tt0', y='decJ2000', ax=corr_ax[1])"
   ]
  },
  {
   "cell_type": "code",
   "execution_count": 30,
   "metadata": {
    "collapsed": false
   },
   "outputs": [
    {
     "data": {
      "text/plain": [
       "53.009138473031555"
      ]
     },
     "execution_count": 30,
     "metadata": {},
     "output_type": "execute_result"
    }
   ],
   "source": [
    "TwinklesObsMetaDataSmall.pointingRA"
   ]
  },
  {
   "cell_type": "code",
   "execution_count": 31,
   "metadata": {
    "collapsed": true
   },
   "outputs": [],
   "source": [
    "import matplotlib.patches  as mpatches"
   ]
  },
  {
   "cell_type": "code",
   "execution_count": 32,
   "metadata": {
    "collapsed": false
   },
   "outputs": [
    {
     "data": {
      "text/plain": [
       "<matplotlib.patches.Circle at 0x113ef9810>"
      ]
     },
     "execution_count": 32,
     "metadata": {},
     "output_type": "execute_result"
    },
    {
     "data": {
      "image/png": "iVBORw0KGgoAAAANSUhEUgAAAYwAAAD7CAYAAAB5aaOHAAAABHNCSVQICAgIfAhkiAAAAAlwSFlz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\nsgL5FKOIGgAAAABJRU5ErkJggg==\n",
      "text/plain": [
       "<matplotlib.figure.Figure at 0x105e6f550>"
      ]
     },
     "metadata": {},
     "output_type": "display_data"
    }
   ],
   "source": [
    "fig, ax = plt.subplots()\n",
    "ax.hexbin(TTSNdf['#raJ2000'], TTSNdf.decJ2000)\n",
    "ax.plot(np.radians(TwinklesObsMetaDataSmall.pointingRA), np.radians(TwinklesObsMetaDataSmall.pointingDec), \n",
    "         'ks')\n",
    "circ = mpatches.Circle((np.radians(TwinklesObsMetaDataSmall.pointingRA), np.radians(TwinklesObsMetaDataSmall.pointingDec)), \n",
    "         np.radians(0.05))\n",
    "circ.set(edgecolor='r')\n",
    "#circ.set(face)\n",
    "ax.add_artist(circ)"
   ]
  },
  {
   "cell_type": "code",
   "execution_count": 33,
   "metadata": {
    "collapsed": false
   },
   "outputs": [
    {
     "name": "stdout",
     "output_type": "stream",
     "text": [
      "('badvalues ', nan)\n",
      "('mjd ', 49612.338296000002)\n",
      "('maxTime', 100.0)\n",
      "('number of cases ', 0)\n"
     ]
    }
   ],
   "source": [
    "sncatalog = FrozenSNCat(db_obj=s, obs_metadata=TwinklesObsMetaDataSmall, \n",
    "                         column_outputs=['snra', 'sndec', 'snid', 'x0', 't0', 'flux', 'flux_err', 'mag', 'mag_err',\n",
    "                                         'TmagNorm', 'TsedFilepath'])\n",
    "sncatalog.surveyStartDate = 49500.\n",
    "sncatalog.writeSedFile = False\n",
    "sncatalog.prefix = '/Users/rbiswas/tmp/'"
   ]
  },
  {
   "cell_type": "code",
   "execution_count": 34,
   "metadata": {
    "collapsed": false
   },
   "outputs": [],
   "source": [
    "sncatalog.suppressDimSN = True"
   ]
  },
  {
   "cell_type": "code",
   "execution_count": 35,
=======
   "execution_count": 22,
>>>>>>> Added galacticRV to galaxy phosim catalog in phoSimCatlogExamples.py
   "metadata": {
    "collapsed": false
   },
   "outputs": [
    {
     "name": "stdout",
     "output_type": "stream",
     "text": [
      "('badvalues ', nan)\n",
      "('mjd ', 49612.338296000002)\n",
      "('maxTime', 100.0)\n",
      "('number of cases ', 0)\n",
<<<<<<< HEAD
      "('badvalues ', nan)\n",
      "('mjd ', 49612.338296000002)\n",
      "('maxTime', 100.0)\n",
      "('number of cases ', 1886)\n",
      "('badvalues ', nan)\n",
      "('mjd ', 49612.338296000002)\n",
      "('maxTime', 100.0)\n",
      "('number of cases ', 1872)\n",
      "('badvalues ', nan)\n",
      "('mjd ', 49612.338296000002)\n",
      "('maxTime', 100.0)\n",
      "('number of cases ', 1884)\n",
      "('badvalues ', nan)\n",
      "('mjd ', 49612.338296000002)\n",
      "('maxTime', 100.0)\n",
      "('number of cases ', 685)\n"
     ]
    }
   ],
   "source": [
    "_ = sncatalog.write_catalog('newcat.dat', chunk_size=2000)"
   ]
  },
  {
   "cell_type": "code",
   "execution_count": 36,
   "metadata": {
    "collapsed": false
   },
   "outputs": [
    {
     "name": "stdout",
     "output_type": "stream",
     "text": [
      "     393 newcat.dat\r\n"
     ]
    }
   ],
   "source": [
    "!wc -l newcat.dat"
   ]
  },
  {
   "cell_type": "code",
   "execution_count": 37,
   "metadata": {
    "collapsed": true
   },
   "outputs": [],
   "source": [
    "import pandas as pd"
   ]
  },
  {
   "cell_type": "code",
   "execution_count": 38,
   "metadata": {
    "collapsed": false
   },
   "outputs": [
    {
     "name": "stderr",
     "output_type": "stream",
     "text": [
      "/usr/local/manual/anaconda/lib/python2.7/site-packages/ipykernel/__main__.py:1: ParserWarning: Falling back to the 'python' engine because the 'c' engine does not support regex separators; you can avoid this warning by specifying engine='python'.\n",
      "  if __name__ == '__main__':\n"
     ]
    }
   ],
   "source": [
    "df = pd.read_csv('newcat.dat', sep=',\\s+')\n",
    "df.rename(columns={'#snid':'snid'}, inplace=True)"
   ]
  },
  {
   "cell_type": "code",
   "execution_count": 39,
   "metadata": {
    "collapsed": false
   },
   "outputs": [
    {
     "data": {
      "text/plain": [
       "49612.338296000002"
      ]
     },
     "execution_count": 39,
     "metadata": {},
     "output_type": "execute_result"
    }
   ],
   "source": [
    "sncatalog.mjdobs"
   ]
  },
  {
   "cell_type": "code",
   "execution_count": 40,
   "metadata": {
    "collapsed": false
   },
   "outputs": [],
   "source": [
    "#df.t0.hist(bins=4000)"
   ]
  },
  {
   "cell_type": "code",
   "execution_count": 41,
   "metadata": {
    "collapsed": false
   },
   "outputs": [
    {
     "data": {
      "text/plain": [
       "392"
      ]
     },
     "execution_count": 41,
     "metadata": {},
     "output_type": "execute_result"
    }
   ],
   "source": [
    "len(df)"
   ]
  },
  {
   "cell_type": "code",
   "execution_count": 42,
   "metadata": {
    "collapsed": false
   },
   "outputs": [
    {
     "data": {
      "text/html": [
       "<div>\n",
       "<table border=\"1\" class=\"dataframe\">\n",
       "  <thead>\n",
       "    <tr style=\"text-align: right;\">\n",
       "      <th></th>\n",
       "      <th>snid</th>\n",
       "      <th>snra</th>\n",
       "      <th>sndec</th>\n",
       "      <th>z</th>\n",
       "      <th>t0</th>\n",
       "      <th>c</th>\n",
       "      <th>x1</th>\n",
       "      <th>x0</th>\n",
       "      <th>flux</th>\n",
       "      <th>flux_err</th>\n",
       "      <th>mag</th>\n",
       "      <th>mag_err</th>\n",
       "      <th>TmagNorm</th>\n",
       "      <th>TsedFilepath</th>\n",
       "      <th>DeltaT</th>\n",
       "      <th>SNR</th>\n",
       "    </tr>\n",
       "  </thead>\n",
       "  <tbody>\n",
       "    <tr>\n",
       "      <th>0</th>\n",
       "      <td>70000060001345348</td>\n",
       "      <td>0.924901</td>\n",
       "      <td>-0.479660</td>\n",
       "      <td>0.8308</td>\n",
       "      <td>49634.4989</td>\n",
       "      <td>-0.004487</td>\n",
       "      <td>0.4750</td>\n",
       "      <td>0.000003</td>\n",
       "      <td>3.573111e-11</td>\n",
       "      <td>3.602404e-11</td>\n",
       "      <td>26.1174</td>\n",
       "      <td>0.757033</td>\n",
       "      <td>51.2035</td>\n",
       "      <td>/Users/rbiswas/tmp/specFile_70000060001345348_...</td>\n",
       "      <td>-22.160604</td>\n",
       "      <td>0.991868</td>\n",
       "    </tr>\n",
       "    <tr>\n",
       "      <th>1</th>\n",
       "      <td>30000060001345348</td>\n",
       "      <td>0.924900</td>\n",
       "      <td>-0.479660</td>\n",
       "      <td>0.8308</td>\n",
       "      <td>49622.7228</td>\n",
       "      <td>0.142884</td>\n",
       "      <td>-1.3618</td>\n",
       "      <td>0.000002</td>\n",
       "      <td>4.205507e-11</td>\n",
       "      <td>3.603722e-11</td>\n",
       "      <td>25.9405</td>\n",
       "      <td>0.671993</td>\n",
       "      <td>26.3066</td>\n",
       "      <td>/Users/rbiswas/tmp/specFile_30000060001345348_...</td>\n",
       "      <td>-10.384504</td>\n",
       "      <td>1.166990</td>\n",
       "    </tr>\n",
       "    <tr>\n",
       "      <th>2</th>\n",
       "      <td>110000060001668441</td>\n",
       "      <td>0.924963</td>\n",
       "      <td>-0.479732</td>\n",
       "      <td>0.8669</td>\n",
       "      <td>49575.7365</td>\n",
       "      <td>-0.003971</td>\n",
       "      <td>-0.7924</td>\n",
       "      <td>0.000003</td>\n",
       "      <td>1.391120e-11</td>\n",
       "      <td>3.597856e-11</td>\n",
       "      <td>27.1416</td>\n",
       "      <td>1.386626</td>\n",
       "      <td>27.1689</td>\n",
       "      <td>/Users/rbiswas/tmp/specFile_110000060001668441...</td>\n",
       "      <td>36.601796</td>\n",
       "      <td>0.386652</td>\n",
       "    </tr>\n",
       "    <tr>\n",
       "      <th>3</th>\n",
       "      <td>40000060002021988</td>\n",
       "      <td>0.925073</td>\n",
       "      <td>-0.479665</td>\n",
       "      <td>0.8573</td>\n",
       "      <td>49583.0608</td>\n",
       "      <td>0.055133</td>\n",
       "      <td>-0.5496</td>\n",
       "      <td>0.000002</td>\n",
       "      <td>1.411514e-11</td>\n",
       "      <td>3.597898e-11</td>\n",
       "      <td>27.1258</td>\n",
       "      <td>1.375263</td>\n",
       "      <td>26.8265</td>\n",
       "      <td>/Users/rbiswas/tmp/specFile_40000060002021988_...</td>\n",
       "      <td>29.277496</td>\n",
       "      <td>0.392316</td>\n",
       "    </tr>\n",
       "    <tr>\n",
       "      <th>4</th>\n",
       "      <td>70000060010809138</td>\n",
       "      <td>0.925130</td>\n",
       "      <td>-0.479707</td>\n",
       "      <td>0.7744</td>\n",
       "      <td>49531.5629</td>\n",
       "      <td>0.152381</td>\n",
       "      <td>1.8306</td>\n",
       "      <td>0.000003</td>\n",
       "      <td>5.325459e-12</td>\n",
       "      <td>3.596064e-11</td>\n",
       "      <td>28.1841</td>\n",
       "      <td>2.223623</td>\n",
       "      <td>26.9168</td>\n",
       "      <td>/Users/rbiswas/tmp/specFile_70000060010809138_...</td>\n",
       "      <td>80.775396</td>\n",
       "      <td>0.148091</td>\n",
       "    </tr>\n",
       "  </tbody>\n",
       "</table>\n",
       "</div>"
      ],
      "text/plain": [
       "                 snid      snra     sndec       z          t0         c  \\\n",
       "0   70000060001345348  0.924901 -0.479660  0.8308  49634.4989 -0.004487   \n",
       "1   30000060001345348  0.924900 -0.479660  0.8308  49622.7228  0.142884   \n",
       "2  110000060001668441  0.924963 -0.479732  0.8669  49575.7365 -0.003971   \n",
       "3   40000060002021988  0.925073 -0.479665  0.8573  49583.0608  0.055133   \n",
       "4   70000060010809138  0.925130 -0.479707  0.7744  49531.5629  0.152381   \n",
       "\n",
       "       x1        x0          flux      flux_err      mag   mag_err  TmagNorm  \\\n",
       "0  0.4750  0.000003  3.573111e-11  3.602404e-11  26.1174  0.757033   51.2035   \n",
       "1 -1.3618  0.000002  4.205507e-11  3.603722e-11  25.9405  0.671993   26.3066   \n",
       "2 -0.7924  0.000003  1.391120e-11  3.597856e-11  27.1416  1.386626   27.1689   \n",
       "3 -0.5496  0.000002  1.411514e-11  3.597898e-11  27.1258  1.375263   26.8265   \n",
       "4  1.8306  0.000003  5.325459e-12  3.596064e-11  28.1841  2.223623   26.9168   \n",
       "\n",
       "                                        TsedFilepath     DeltaT       SNR  \n",
       "0  /Users/rbiswas/tmp/specFile_70000060001345348_... -22.160604  0.991868  \n",
       "1  /Users/rbiswas/tmp/specFile_30000060001345348_... -10.384504  1.166990  \n",
       "2  /Users/rbiswas/tmp/specFile_110000060001668441...  36.601796  0.386652  \n",
       "3  /Users/rbiswas/tmp/specFile_40000060002021988_...  29.277496  0.392316  \n",
       "4  /Users/rbiswas/tmp/specFile_70000060010809138_...  80.775396  0.148091  "
      ]
     },
     "execution_count": 42,
     "metadata": {},
     "output_type": "execute_result"
    }
   ],
   "source": [
    "df['DeltaT'] = sncatalog.mjdobs - df['t0']\n",
    "df['SNR'] = df.flux / df.flux_err\n",
    "df.head()"
   ]
  },
  {
   "cell_type": "code",
   "execution_count": 43,
   "metadata": {
    "collapsed": false
   },
   "outputs": [
    {
     "data": {
      "image/png": "iVBORw0KGgoAAAANSUhEUgAAAX4AAAEACAYAAAC08h1NAAAABHNCSVQICAgIfAhkiAAAAAlwSFlz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\nYRhGhvH/Ac93WLvzkXUBAAAAAElFTkSuQmCC\n",
      "text/plain": [
       "<matplotlib.figure.Figure at 0x103cd6850>"
      ]
     },
     "metadata": {},
     "output_type": "display_data"
    }
   ],
   "source": [
    "fig, ax = plt.subplots(nrows=1, ncols=2);\n",
    "_ = ax[0].hist(df.query('SNR > 5.').z, bins=np.arange(0., 1.2, 0.1), histtype='step', lw=2, color='k', normed=True,\n",
    "               label='highSNR')\n",
    "_ = ax[0].hist(df.query('SNR < 5. and SNR > 0.').z, bins=np.arange(0., 1.2, 0.1), histtype='step', lw=2, color='r', \n",
    "             normed=True, label='lowSNR')\n",
    "_ = ax[0].hist(df.query('SNR > 0.').z, bins=np.arange(0., 1.2, 0.1), histtype='step', lw=2, color='b', \n",
    "             normed=True, label='Active')\n",
    "ax[0].grid(True)\n",
    "_ = ax[1].hist(df.query('SNR > 5.').z, bins=np.arange(0., 1.2, 0.1), histtype='step', lw=2, color='k', normed=False, \n",
    "               cumulative=-1)\n",
    "_ = ax[1].hist(df.query('SNR < 5. and SNR > 0.').z, bins=np.arange(0., 1.2, 0.1), histtype='step', lw=2, color='r', \n",
    "               normed=False, cumulative=-1)\n",
    "_ = ax[1].grid(True)\n",
    "_ = ax[0].legend(loc='upper left')\n",
    "_ = ax[0].set_ylabel('PDF')\n",
    "_ = ax[0].set_ylabel('Num SN at z > ')"
   ]
  },
  {
   "cell_type": "code",
   "execution_count": 44,
   "metadata": {
    "collapsed": false
   },
   "outputs": [],
   "source": [
    "from lsst.sims.catUtils.exampleCatalogDefinitions.phoSimCatalogExamples import PhoSimCatalogSN"
   ]
  },
  {
   "cell_type": "code",
   "execution_count": 45,
   "metadata": {
    "collapsed": false,
    "scrolled": true
   },
   "outputs": [
    {
     "name": "stdout",
     "output_type": "stream",
     "text": [
      "('badvalues ', nan)\n",
      "('mjd ', 49612.338296000002)\n",
      "('maxTime', 100.0)\n",
      "('number of cases ', 0)\n"
     ]
    }
   ],
   "source": [
    "pc = PhoSimCatalogSN(db_obj=s, obs_metadata=TwinklesObsMetaDataSmall)\n",
    "pc.writeSedFile = True\n",
    "pc.surveyStartDate = 49500\n",
    "pc.suppressDimSN = True"
   ]
  },
  {
   "cell_type": "code",
   "execution_count": 46,
   "metadata": {
    "collapsed": false
   },
   "outputs": [
    {
     "name": "stdout",
     "output_type": "stream",
     "text": [
      "('badvalues ', nan)\n",
      "('mjd ', 49612.338296000002)\n",
      "('maxTime', 100.0)\n",
      "('number of cases ', 0)\n",
=======
      "('Type of return', <type 'numpy.ndarray'>, dtype('O'))\n",
      "()\n",
>>>>>>> Added galacticRV to galaxy phosim catalog in phoSimCatlogExamples.py
      "('badvalues ', nan)\n",
      "('mjd ', 49612.338296000002)\n",
      "('maxTime', 100.0)\n",
      "('number of cases ', 6327)\n",
<<<<<<< HEAD
<<<<<<< HEAD
      "('writing file to ', 'specFile_60002746141_49612.3383_r.dat')\n",
      "('writing file to ', 'specFile_10000060006060505_49612.3383_r.dat')\n",
      "('writing file to ', 'specFile_70000060000184510_49612.3383_r.dat')\n",
      "('writing file to ', 'specFile_70000060000917091_49612.3383_r.dat')\n",
      "('writing file to ', 'specFile_60007774784_49612.3383_r.dat')\n",
      "('writing file to ', 'specFile_60009722297_49612.3383_r.dat')\n",
      "('writing file to ', 'specFile_10000060001670583_49612.3383_r.dat')\n",
      "('writing file to ', 'specFile_70000060001345348_49612.3383_r.dat')\n",
      "('writing file to ', 'specFile_30000060001345348_49612.3383_r.dat')\n",
      "('writing file to ', 'specFile_110000060001668441_49612.3383_r.dat')\n",
      "('writing file to ', 'specFile_40000060002021988_49612.3383_r.dat')\n",
      "('writing file to ', 'specFile_40000060000384557_49612.3383_r.dat')\n",
      "('writing file to ', 'specFile_100000060000518692_49612.3383_r.dat')\n",
      "('writing file to ', 'specFile_10000060009771622_49612.3383_r.dat')\n",
      "('writing file to ', 'specFile_60009771622_49612.3383_r.dat')\n",
      "('writing file to ', 'specFile_60003074651_49612.3383_r.dat')\n",
      "('writing file to ', 'specFile_30000060001401408_49612.3383_r.dat')\n",
      "('writing file to ', 'specFile_50000060002920338_49612.3383_r.dat')\n",
      "('writing file to ', 'specFile_30000060002920338_49612.3383_r.dat')\n",
      "('writing file to ', 'specFile_20000060008348759_49612.3383_r.dat')\n",
      "('writing file to ', 'specFile_20000060003174753_49612.3383_r.dat')\n",
      "('writing file to ', 'specFile_60001949930_49612.3383_r.dat')\n",
      "('writing file to ', 'specFile_10000060005870298_49612.3383_r.dat')\n",
      "('writing file to ', 'specFile_20000060008352912_49612.3383_r.dat')\n",
      "('writing file to ', 'specFile_10000060009271141_49612.3383_r.dat')\n",
      "('writing file to ', 'specFile_70000060010809138_49612.3383_r.dat')\n",
      "('writing file to ', 'specFile_60001637651_49612.3383_r.dat')\n",
      "('writing file to ', 'specFile_30000060005620839_49612.3383_r.dat')\n",
      "('writing file to ', 'specFile_50000060003500250_49612.3383_r.dat')\n",
      "('writing file to ', 'specFile_50000060015521300_49612.3383_r.dat')\n",
      "('writing file to ', 'specFile_10000060001320618_49612.3383_r.dat')\n",
      "('writing file to ', 'specFile_40000060006767543_49612.3383_r.dat')\n",
      "('writing file to ', 'specFile_40000060004105421_49612.3383_r.dat')\n",
      "('writing file to ', 'specFile_40000060000339065_49612.3383_r.dat')\n",
      "('writing file to ', 'specFile_60000339065_49612.3383_r.dat')\n",
      "('writing file to ', 'specFile_30000060000339065_49612.3383_r.dat')\n",
      "('writing file to ', 'specFile_20000060000339065_49612.3383_r.dat')\n",
      "('writing file to ', 'specFile_10000060000049675_49612.3383_r.dat')\n",
      "('writing file to ', 'specFile_60002353297_49612.3383_r.dat')\n",
      "('writing file to ', 'specFile_10000060000547945_49612.3383_r.dat')\n",
      "('writing file to ', 'specFile_10000060012754411_49612.3383_r.dat')\n",
      "('writing file to ', 'specFile_20000060002105092_49612.3383_r.dat')\n",
      "('writing file to ', 'specFile_20000060003645817_49612.3383_r.dat')\n",
      "('writing file to ', 'specFile_20000060010826823_49612.3383_r.dat')\n",
      "('writing file to ', 'specFile_40000060000081890_49612.3383_r.dat')\n",
      "('writing file to ', 'specFile_20000060010245621_49612.3383_r.dat')\n",
      "('writing file to ', 'specFile_20000060006063088_49612.3383_r.dat')\n",
      "('writing file to ', 'specFile_20000060004037975_49612.3383_r.dat')\n",
      "('writing file to ', 'specFile_20000060003467192_49612.3383_r.dat')\n",
      "('writing file to ', 'specFile_10000060004676784_49612.3383_r.dat')\n",
      "('writing file to ', 'specFile_60000060006783792_49612.3383_r.dat')\n",
      "('writing file to ', 'specFile_20000060000054227_49612.3383_r.dat')\n",
      "('writing file to ', 'specFile_10000060001456565_49612.3383_r.dat')\n",
      "('writing file to ', 'specFile_90000060000005453_49612.3383_r.dat')\n",
      "('writing file to ', 'specFile_10000060004104009_49612.3383_r.dat')\n",
      "('writing file to ', 'specFile_30000060003417354_49612.3383_r.dat')\n",
      "('writing file to ', 'specFile_60010809329_49612.3383_r.dat')\n",
      "('writing file to ', 'specFile_60000915223_49612.3383_r.dat')\n",
      "('writing file to ', 'specFile_10000060005675359_49612.3383_r.dat')\n",
      "('writing file to ', 'specFile_20000060005675359_49612.3383_r.dat')\n",
      "('writing file to ', 'specFile_20000060011947518_49612.3383_r.dat')\n",
      "('writing file to ', 'specFile_70000060009279904_49612.3383_r.dat')\n",
      "('writing file to ', 'specFile_10000060009279904_49612.3383_r.dat')\n",
      "('writing file to ', 'specFile_40000060007972935_49612.3383_r.dat')\n",
      "('writing file to ', 'specFile_100000060001989180_49612.3383_r.dat')\n",
      "('writing file to ', 'specFile_20000060012742642_49612.3383_r.dat')\n",
      "('writing file to ', 'specFile_40000060005727767_49612.3383_r.dat')\n",
      "('writing file to ', 'specFile_10000060008004539_49612.3383_r.dat')\n",
      "('writing file to ', 'specFile_20000060009734856_49612.3383_r.dat')\n",
      "('writing file to ', 'specFile_20000060000769279_49612.3383_r.dat')\n",
      "('writing file to ', 'specFile_10000060003053975_49612.3383_r.dat')\n",
      "('writing file to ', 'specFile_30000060003511165_49612.3383_r.dat')\n",
      "('writing file to ', 'specFile_40000060000916875_49612.3383_r.dat')\n",
      "('writing file to ', 'specFile_40000060004268993_49612.3383_r.dat')\n",
      "('writing file to ', 'specFile_10000060003427577_49612.3383_r.dat')\n",
      "('writing file to ', 'specFile_70000060003427577_49612.3383_r.dat')\n",
      "('writing file to ', 'specFile_10000060001495166_49612.3383_r.dat')\n",
      "('writing file to ', 'specFile_60004232543_49612.3383_r.dat')\n",
      "('writing file to ', 'specFile_80000060011993219_49612.3383_r.dat')\n",
      "('writing file to ', 'specFile_60000060002019521_49612.3383_r.dat')\n",
      "('writing file to ', 'specFile_60004334959_49612.3383_r.dat')\n",
      "('writing file to ', 'specFile_20000060000232494_49612.3383_r.dat')\n",
      "('writing file to ', 'specFile_10000060001938122_49612.3383_r.dat')\n",
      "('writing file to ', 'specFile_10000060003050154_49612.3383_r.dat')\n",
      "('writing file to ', 'specFile_30000060002989864_49612.3383_r.dat')\n",
      "('writing file to ', 'specFile_60006063216_49612.3383_r.dat')\n",
      "('writing file to ', 'specFile_70000060009244981_49612.3383_r.dat')\n",
      "('writing file to ', 'specFile_10000060012132891_49612.3383_r.dat')\n",
      "('writing file to ', 'specFile_10000060000244045_49612.3383_r.dat')\n",
      "('writing file to ', 'specFile_20000060008995600_49612.3383_r.dat')\n",
      "('writing file to ', 'specFile_20000060006764732_49612.3383_r.dat')\n",
      "('writing file to ', 'specFile_70000060006764732_49612.3383_r.dat')\n",
      "('writing file to ', 'specFile_60006764732_49612.3383_r.dat')\n",
      "('writing file to ', 'specFile_60005941436_49612.3383_r.dat')\n",
      "('writing file to ', 'specFile_20000060006691508_49612.3383_r.dat')\n",
      "('writing file to ', 'specFile_60014962640_49612.3383_r.dat')\n",
      "('writing file to ', 'specFile_60000505069_49612.3383_r.dat')\n",
      "('writing file to ', 'specFile_50000060013765408_49612.3383_r.dat')\n",
      "('writing file to ', 'specFile_10000060013765408_49612.3383_r.dat')\n",
      "('writing file to ', 'specFile_60016146477_49612.3383_r.dat')\n",
      "('writing file to ', 'specFile_120000060000041160_49612.3383_r.dat')\n",
      "('writing file to ', 'specFile_20000060010906822_49612.3383_r.dat')\n",
      "('writing file to ', 'specFile_10000060003773607_49612.3383_r.dat')\n",
      "('writing file to ', 'specFile_40000060002894630_49612.3383_r.dat')\n",
      "('writing file to ', 'specFile_80000060006857397_49612.3383_r.dat')\n",
      "('writing file to ', 'specFile_10000060002837116_49612.3383_r.dat')\n",
      "('writing file to ', 'specFile_60007404992_49612.3383_r.dat')\n",
      "('writing file to ', 'specFile_100000060001547573_49612.3383_r.dat')\n",
      "('writing file to ', 'specFile_70000060013174313_49612.3383_r.dat')\n",
      "('writing file to ', 'specFile_10000060004953662_49612.3383_r.dat')\n",
      "('writing file to ', 'specFile_10000060011256797_49612.3383_r.dat')\n",
      "('writing file to ', 'specFile_50000060000184571_49612.3383_r.dat')\n",
      "('writing file to ', 'specFile_60006637991_49612.3383_r.dat')\n",
      "('writing file to ', 'specFile_30000060000024252_49612.3383_r.dat')\n",
      "('writing file to ', 'specFile_10000060000798517_49612.3383_r.dat')\n",
      "('writing file to ', 'specFile_60004024559_49612.3383_r.dat')\n",
      "('writing file to ', 'specFile_10000060004024559_49612.3383_r.dat')\n",
      "('writing file to ', 'specFile_60002025666_49612.3383_r.dat')\n",
      "('writing file to ', 'specFile_10000060002025666_49612.3383_r.dat')\n",
      "('writing file to ', 'specFile_60007137429_49612.3383_r.dat')\n",
      "('writing file to ', 'specFile_60008188134_49612.3383_r.dat')\n",
      "('writing file to ', 'specFile_60016437214_49612.3383_r.dat')\n",
      "('writing file to ', 'specFile_20000060013360097_49612.3383_r.dat')\n",
      "('writing file to ', 'specFile_40000060002439252_49612.3383_r.dat')\n",
      "('writing file to ', 'specFile_10000060015035174_49612.3383_r.dat')\n",
      "('writing file to ', 'specFile_20000060006061684_49612.3383_r.dat')\n",
      "('writing file to ', 'specFile_10000060001282735_49612.3383_r.dat')\n",
      "('writing file to ', 'specFile_60002118148_49612.3383_r.dat')\n",
      "('writing file to ', 'specFile_50000060006855814_49612.3383_r.dat')\n",
      "('writing file to ', 'specFile_40000060006855814_49612.3383_r.dat')\n",
      "('writing file to ', 'specFile_20000060006855814_49612.3383_r.dat')\n",
      "('writing file to ', 'specFile_60000153427_49612.3383_r.dat')\n",
      "('writing file to ', 'specFile_20000060002885863_49612.3383_r.dat')\n",
      "('writing file to ', 'specFile_70000060002885863_49612.3383_r.dat')\n",
      "('writing file to ', 'specFile_80000060000542255_49612.3383_r.dat')\n",
      "('writing file to ', 'specFile_10000060005153685_49612.3383_r.dat')\n",
      "('writing file to ', 'specFile_60007134974_49612.3383_r.dat')\n",
      "('writing file to ', 'specFile_60001345319_49612.3383_r.dat')\n",
      "('writing file to ', 'specFile_60000060001345319_49612.3383_r.dat')\n",
      "('writing file to ', 'specFile_20000060009821354_49612.3383_r.dat')\n",
      "('writing file to ', 'specFile_60001822139_49612.3383_r.dat')\n",
      "('writing file to ', 'specFile_90000060010874695_49612.3383_r.dat')\n",
      "('writing file to ', 'specFile_40000060001344085_49612.3383_r.dat')\n",
      "('writing file to ', 'specFile_90000060001344085_49612.3383_r.dat')\n",
      "('writing file to ', 'specFile_10000060001344085_49612.3383_r.dat')\n",
      "('writing file to ', 'specFile_20000060001787851_49612.3383_r.dat')\n",
      "('writing file to ', 'specFile_60007991227_49612.3383_r.dat')\n",
      "('writing file to ', 'specFile_60005010783_49612.3383_r.dat')\n",
      "('writing file to ', 'specFile_60004866653_49612.3383_r.dat')\n",
      "('writing file to ', 'specFile_40000060004866653_49612.3383_r.dat')\n",
      "('writing file to ', 'specFile_70000060004084620_49612.3383_r.dat')\n",
      "('writing file to ', 'specFile_80000060010767166_49612.3383_r.dat')\n",
      "('writing file to ', 'specFile_10000060010910715_49612.3383_r.dat')\n",
      "('writing file to ', 'specFile_30000060002059742_49612.3383_r.dat')\n",
      "('writing file to ', 'specFile_10000060010394377_49612.3383_r.dat')\n",
      "('writing file to ', 'specFile_60012913381_49612.3383_r.dat')\n",
      "('writing file to ', 'specFile_50000060012913381_49612.3383_r.dat')\n",
      "('writing file to ', 'specFile_100000060002388134_49612.3383_r.dat')\n",
      "('writing file to ', 'specFile_10000060009150218_49612.3383_r.dat')\n",
      "('writing file to ', 'specFile_10000060016048927_49612.3383_r.dat')\n",
      "('writing file to ', 'specFile_60001954970_49612.3383_r.dat')\n",
      "('writing file to ', 'specFile_20000060011083589_49612.3383_r.dat')\n",
      "('writing file to ', 'specFile_30000060010697432_49612.3383_r.dat')\n",
      "('writing file to ', 'specFile_40000060006870335_49612.3383_r.dat')\n",
      "('writing file to ', 'specFile_60001387019_49612.3383_r.dat')\n",
      "('writing file to ', 'specFile_60016666722_49612.3383_r.dat')\n",
      "('writing file to ', 'specFile_20000060011284003_49612.3383_r.dat')\n",
      "('writing file to ', 'specFile_80000060016048927_49612.3383_r.dat')\n",
      "('writing file to ', 'specFile_20000060010713983_49612.3383_r.dat')\n",
      "('writing file to ', 'specFile_60012978419_49612.3383_r.dat')\n",
      "('writing file to ', 'specFile_20000060006780715_49612.3383_r.dat')\n",
      "('writing file to ', 'specFile_60000652394_49612.3383_r.dat')\n",
      "('writing file to ', 'specFile_80000060006748761_49612.3383_r.dat')\n",
      "('writing file to ', 'specFile_20000060001327525_49612.3383_r.dat')\n",
      "('writing file to ', 'specFile_50000060010701237_49612.3383_r.dat')\n",
      "('writing file to ', 'specFile_20000060014722533_49612.3383_r.dat')\n",
      "('writing file to ', 'specFile_30000060001994132_49612.3383_r.dat')\n",
      "('writing file to ', 'specFile_50000060005747265_49612.3383_r.dat')\n",
      "('writing file to ', 'specFile_90000060005747265_49612.3383_r.dat')\n",
      "('writing file to ', 'specFile_10000060006058165_49612.3383_r.dat')\n",
      "('writing file to ', 'specFile_60004907469_49612.3383_r.dat')\n",
      "('writing file to ', 'specFile_50000060004907469_49612.3383_r.dat')\n",
      "('writing file to ', 'specFile_30000060016676300_49612.3383_r.dat')\n",
      "('writing file to ', 'specFile_60016676300_49612.3383_r.dat')\n",
      "('writing file to ', 'specFile_10000060013115678_49612.3383_r.dat')\n",
      "('writing file to ', 'specFile_60000629486_49612.3383_r.dat')\n",
      "('writing file to ', 'specFile_20000060013958685_49612.3383_r.dat')\n",
      "('writing file to ', 'specFile_30000060005744348_49612.3383_r.dat')\n",
      "('writing file to ', 'specFile_10000060005744348_49612.3383_r.dat')\n",
      "('writing file to ', 'specFile_20000060006823820_49612.3383_r.dat')\n",
      "('writing file to ', 'specFile_60005980813_49612.3383_r.dat')\n",
      "('writing file to ', 'specFile_50000060015591636_49612.3383_r.dat')\n",
      "('writing file to ', 'specFile_60009108597_49612.3383_r.dat')\n",
      "('writing file to ', 'specFile_30000060008683178_49612.3383_r.dat')\n",
      "('writing file to ', 'specFile_10000060005763474_49612.3383_r.dat')\n",
      "('writing file to ', 'specFile_60009242725_49612.3383_r.dat')\n",
      "('writing file to ', 'specFile_60000386571_49612.3383_r.dat')\n",
      "('writing file to ', 'specFile_20000060000385299_49612.3383_r.dat')\n",
      "('writing file to ', 'specFile_30000060009382912_49612.3383_r.dat')\n",
      "('writing file to ', 'specFile_30000060000727173_49612.3383_r.dat')\n",
      "('writing file to ', 'specFile_40000060000727173_49612.3383_r.dat')\n",
      "('writing file to ', 'specFile_20000060000052117_49612.3383_r.dat')\n",
      "('writing file to ', 'specFile_60000060009404602_49612.3383_r.dat')\n",
      "('writing file to ', 'specFile_30000060011991351_49612.3383_r.dat')\n",
      "('writing file to ', 'specFile_10000060009757398_49612.3383_r.dat')\n",
      "('writing file to ', 'specFile_80000060005848639_49612.3383_r.dat')\n",
      "('writing file to ', 'specFile_60005848639_49612.3383_r.dat')\n",
      "('writing file to ', 'specFile_40000060001371653_49612.3383_r.dat')\n",
      "('writing file to ', 'specFile_70000060001670683_49612.3383_r.dat')\n",
      "('writing file to ', 'specFile_20000060009725705_49612.3383_r.dat')\n",
      "('writing file to ', 'specFile_80000060005749870_49612.3383_r.dat')\n",
      "('writing file to ', 'specFile_30000060002414538_49612.3383_r.dat')\n",
      "('writing file to ', 'specFile_30000060008066204_49612.3383_r.dat')\n",
      "('writing file to ', 'specFile_30000060000133197_49612.3383_r.dat')\n",
      "('writing file to ', 'specFile_70000060004347798_49612.3383_r.dat')\n",
      "('writing file to ', 'specFile_20000060011256321_49612.3383_r.dat')\n",
      "('writing file to ', 'specFile_60004833253_49612.3383_r.dat')\n",
      "('writing file to ', 'specFile_20000060016787594_49612.3383_r.dat')\n",
      "('writing file to ', 'specFile_60008050629_49612.3383_r.dat')\n",
      "('writing file to ', 'specFile_10000060000113782_49612.3383_r.dat')\n",
      "('writing file to ', 'specFile_60000113782_49612.3383_r.dat')\n",
      "('writing file to ', 'specFile_60004946474_49612.3383_r.dat')\n",
      "('writing file to ', 'specFile_60000060006721105_49612.3383_r.dat')\n",
      "('writing file to ', 'specFile_10000060002002187_49612.3383_r.dat')\n",
      "('writing file to ', 'specFile_10000060009194475_49612.3383_r.dat')\n",
      "('writing file to ', 'specFile_40000060009194475_49612.3383_r.dat')\n",
      "('writing file to ', 'specFile_70000060009194475_49612.3383_r.dat')\n",
      "('writing file to ', 'specFile_60011532899_49612.3383_r.dat')\n",
      "('writing file to ', 'specFile_10000060010762899_49612.3383_r.dat')\n",
      "('writing file to ', 'specFile_60013281425_49612.3383_r.dat')\n",
      "('writing file to ', 'specFile_10000060014962202_49612.3383_r.dat')\n",
      "('writing file to ', 'specFile_30000060007129890_49612.3383_r.dat')\n",
      "('writing file to ', 'specFile_10000060004256560_49612.3383_r.dat')\n",
      "('writing file to ', 'specFile_60001743190_49612.3383_r.dat')\n",
      "('writing file to ', 'specFile_10000060012742830_49612.3383_r.dat')\n",
      "('writing file to ', 'specFile_60000060004069867_49612.3383_r.dat')\n",
      "('writing file to ', 'specFile_130000060007900094_49612.3383_r.dat')\n",
      "('writing file to ', 'specFile_80000060007900094_49612.3383_r.dat')\n",
      "('writing file to ', 'specFile_30000060003639863_49612.3383_r.dat')\n",
      "('writing file to ', 'specFile_50000060011043596_49612.3383_r.dat')\n",
      "('writing file to ', 'specFile_10000060000397908_49612.3383_r.dat')\n",
      "('writing file to ', 'specFile_60010830898_49612.3383_r.dat')\n",
      "('writing file to ', 'specFile_40000060006871385_49612.3383_r.dat')\n",
      "('writing file to ', 'specFile_20000060009796492_49612.3383_r.dat')\n",
      "('writing file to ', 'specFile_60006066515_49612.3383_r.dat')\n",
      "('writing file to ', 'specFile_10000060014125543_49612.3383_r.dat')\n",
      "('writing file to ', 'specFile_10000060012746627_49612.3383_r.dat')\n",
      "('writing file to ', 'specFile_30000060004174139_49612.3383_r.dat')\n",
      "('writing file to ', 'specFile_80000060004174139_49612.3383_r.dat')\n",
      "('writing file to ', 'specFile_60011284627_49612.3383_r.dat')\n",
      "('writing file to ', 'specFile_30000060011249692_49612.3383_r.dat')\n",
      "('writing file to ', 'specFile_30000060002858494_49612.3383_r.dat')\n",
      "('writing file to ', 'specFile_20000060009400238_49612.3383_r.dat')\n",
      "('writing file to ', 'specFile_20000060011035066_49612.3383_r.dat')\n",
      "('writing file to ', 'specFile_60005138846_49612.3383_r.dat')\n",
      "('writing file to ', 'specFile_20000060000347089_49612.3383_r.dat')\n",
      "('writing file to ', 'specFile_110000060010693287_49612.3383_r.dat')\n",
      "('writing file to ', 'specFile_20000060001125245_49612.3383_r.dat')\n",
      "('writing file to ', 'specFile_30000060000343992_49612.3383_r.dat')\n",
      "('writing file to ', 'specFile_60003575413_49612.3383_r.dat')\n",
      "('writing file to ', 'specFile_60013194260_49612.3383_r.dat')\n",
      "('writing file to ', 'specFile_10000060010888409_49612.3383_r.dat')\n",
      "('writing file to ', 'specFile_60012547699_49612.3383_r.dat')\n",
      "('writing file to ', 'specFile_100000060004174591_49612.3383_r.dat')\n",
      "('writing file to ', 'specFile_60005929734_49612.3383_r.dat')\n",
      "('writing file to ', 'specFile_90000060006796225_49612.3383_r.dat')\n",
      "('writing file to ', 'specFile_60011064415_49612.3383_r.dat')\n",
      "('writing file to ', 'specFile_10000060004933880_49612.3383_r.dat')\n",
      "('writing file to ', 'specFile_80000060009375525_49612.3383_r.dat')\n",
      "('writing file to ', 'specFile_10000060002379229_49612.3383_r.dat')\n",
      "('writing file to ', 'specFile_40000060005037941_49612.3383_r.dat')\n",
      "('writing file to ', 'specFile_30000060004140056_49612.3383_r.dat')\n",
      "('writing file to ', 'specFile_30000060002984580_49612.3383_r.dat')\n",
      "('writing file to ', 'specFile_10000060000005492_49612.3383_r.dat')\n",
      "('writing file to ', 'specFile_20000060005475109_49612.3383_r.dat')\n",
      "('writing file to ', 'specFile_60009147844_49612.3383_r.dat')\n",
      "('writing file to ', 'specFile_60006279360_49612.3383_r.dat')\n",
      "('writing file to ', 'specFile_90000060004122100_49612.3383_r.dat')\n",
      "('writing file to ', 'specFile_50000060009331880_49612.3383_r.dat')\n",
      "('writing file to ', 'specFile_60009225059_49612.3383_r.dat')\n",
      "('writing file to ', 'specFile_80000060004862866_49612.3383_r.dat')\n",
      "('writing file to ', 'specFile_100000060002875669_49612.3383_r.dat')\n",
      "('writing file to ', 'specFile_40000060004952005_49612.3383_r.dat')\n",
      "('writing file to ', 'specFile_60002104565_49612.3383_r.dat')\n",
      "('writing file to ', 'specFile_10000060000983025_49612.3383_r.dat')\n",
      "('writing file to ', 'specFile_20000060002089290_49612.3383_r.dat')\n",
      "('writing file to ', 'specFile_50000060010827307_49612.3383_r.dat')\n",
      "('writing file to ', 'specFile_60000060010827307_49612.3383_r.dat')\n",
      "('writing file to ', 'specFile_60009114268_49612.3383_r.dat')\n",
      "('writing file to ', 'specFile_120000060001551805_49612.3383_r.dat')\n",
      "('writing file to ', 'specFile_60004173717_49612.3383_r.dat')\n",
      "('writing file to ', 'specFile_60000203799_49612.3383_r.dat')\n",
      "('writing file to ', 'specFile_60007394729_49612.3383_r.dat')\n",
      "('writing file to ', 'specFile_50000060004081722_49612.3383_r.dat')\n",
      "('writing file to ', 'specFile_10000060013481585_49612.3383_r.dat')\n",
      "('writing file to ', 'specFile_10000060005143334_49612.3383_r.dat')\n",
      "('writing file to ', 'specFile_10000060005981391_49612.3383_r.dat')\n",
      "('writing file to ', 'specFile_50000060002380916_49612.3383_r.dat')\n",
      "('writing file to ', 'specFile_20000060010791496_49612.3383_r.dat')\n",
      "('writing file to ', 'specFile_60014107504_49612.3383_r.dat')\n",
      "('writing file to ', 'specFile_20000060004031638_49612.3383_r.dat')\n",
      "('writing file to ', 'specFile_40000060003431973_49612.3383_r.dat')\n",
      "('writing file to ', 'specFile_130000060003431973_49612.3383_r.dat')\n",
      "('writing file to ', 'specFile_50000060003431973_49612.3383_r.dat')\n",
      "('writing file to ', 'specFile_10000060015419758_49612.3383_r.dat')\n",
      "('writing file to ', 'specFile_70000060009202960_49612.3383_r.dat')\n",
      "('writing file to ', 'specFile_40000060002392554_49612.3383_r.dat')\n",
      "('writing file to ', 'specFile_60000060002392554_49612.3383_r.dat')\n",
      "('writing file to ', 'specFile_40000060016032882_49612.3383_r.dat')\n",
      "('writing file to ', 'specFile_40000060009405156_49612.3383_r.dat')\n",
      "('writing file to ', 'specFile_90000060009405156_49612.3383_r.dat')\n",
      "('writing file to ', 'specFile_10000060006967826_49612.3383_r.dat')\n",
      "('writing file to ', 'specFile_60006616811_49612.3383_r.dat')\n",
      "('writing file to ', 'specFile_10000060000896322_49612.3383_r.dat')\n",
      "('writing file to ', 'specFile_40000060006739146_49612.3383_r.dat')\n",
      "('writing file to ', 'specFile_10000060011652154_49612.3383_r.dat')\n",
      "('writing file to ', 'specFile_60012478208_49612.3383_r.dat')\n",
      "('writing file to ', 'specFile_20000060003355315_49612.3383_r.dat')\n",
      "('writing file to ', 'specFile_90000060005940918_49612.3383_r.dat')\n",
      "('writing file to ', 'specFile_70000060005940918_49612.3383_r.dat')\n",
      "('writing file to ', 'specFile_60007136671_49612.3383_r.dat')\n",
      "('writing file to ', 'specFile_60002210145_49612.3383_r.dat')\n",
      "('writing file to ', 'specFile_50000060002210145_49612.3383_r.dat')\n",
      "('writing file to ', 'specFile_60000654810_49612.3383_r.dat')\n",
      "('writing file to ', 'specFile_60006728595_49612.3383_r.dat')\n",
      "('writing file to ', 'specFile_30000060010104895_49612.3383_r.dat')\n",
      "('writing file to ', 'specFile_10000060002536132_49612.3383_r.dat')\n",
      "('writing file to ', 'specFile_60010747207_49612.3383_r.dat')\n",
      "('writing file to ', 'specFile_40000060002988520_49612.3383_r.dat')\n",
      "('writing file to ', 'specFile_20000060002052780_49612.3383_r.dat')\n",
      "('writing file to ', 'specFile_60000663641_49612.3383_r.dat')\n",
      "('writing file to ', 'specFile_60014939359_49612.3383_r.dat')\n",
      "('writing file to ', 'specFile_50000060000069055_49612.3383_r.dat')\n",
      "('writing file to ', 'specFile_70000060000900561_49612.3383_r.dat')\n",
      "('writing file to ', 'specFile_100000060000900561_49612.3383_r.dat')\n",
      "('writing file to ', 'specFile_10000060000900210_49612.3383_r.dat')\n",
      "('writing file to ', 'specFile_70000060010877974_49612.3383_r.dat')\n",
      "('writing file to ', 'specFile_20000060016325563_49612.3383_r.dat')\n",
      "('writing file to ', 'specFile_50000060001394286_49612.3383_r.dat')\n",
      "('writing file to ', 'specFile_60005131045_49612.3383_r.dat')\n",
      "('writing file to ', 'specFile_60000385221_49612.3383_r.dat')\n",
      "('writing file to ', 'specFile_20000060003629154_49612.3383_r.dat')\n",
      "('writing file to ', 'specFile_30000060002924999_49612.3383_r.dat')\n",
      "('writing file to ', 'specFile_10000060000092590_49612.3383_r.dat')\n",
      "('writing file to ', 'specFile_10000060009414754_49612.3383_r.dat')\n",
      "('writing file to ', 'specFile_40000060000001894_49612.3383_r.dat')\n",
      "('writing file to ', 'specFile_20000060008199642_49612.3383_r.dat')\n",
      "('writing file to ', 'specFile_50000060010900825_49612.3383_r.dat')\n",
      "('writing file to ', 'specFile_110000060000353432_49612.3383_r.dat')\n",
      "('writing file to ', 'specFile_70000060000729169_49612.3383_r.dat')\n",
      "('writing file to ', 'specFile_20000060002125567_49612.3383_r.dat')\n",
      "('writing file to ', 'specFile_120000060006776626_49612.3383_r.dat')\n",
      "('writing file to ', 'specFile_60006776626_49612.3383_r.dat')\n",
      "('writing file to ', 'specFile_60001614079_49612.3383_r.dat')\n",
      "('writing file to ', 'specFile_30000060000563996_49612.3383_r.dat')\n",
      "('writing file to ', 'specFile_20000060010533991_49612.3383_r.dat')\n",
      "('writing file to ', 'specFile_20000060007748954_49612.3383_r.dat')\n",
      "('writing file to ', 'specFile_60007748954_49612.3383_r.dat')\n",
      "('writing file to ', 'specFile_60000060008062044_49612.3383_r.dat')\n",
      "('writing file to ', 'specFile_10000060000257718_49612.3383_r.dat')\n",
      "('writing file to ', 'specFile_20000060000257718_49612.3383_r.dat')\n",
      "('writing file to ', 'specFile_60004144753_49612.3383_r.dat')\n",
      "('writing file to ', 'specFile_10000060002539842_49612.3383_r.dat')\n",
      "('writing file to ', 'specFile_60005049625_49612.3383_r.dat')\n",
      "('writing file to ', 'specFile_60002536272_49612.3383_r.dat')\n",
      "('writing file to ', 'specFile_10000060006072195_49612.3383_r.dat')\n",
      "('writing file to ', 'specFile_20000060002383968_49612.3383_r.dat')\n",
      "('writing file to ', 'specFile_50000060000727301_49612.3383_r.dat')\n",
      "('writing file to ', 'specFile_10000060010871346_49612.3383_r.dat')\n",
      "('writing file to ', 'specFile_60000060003421581_49612.3383_r.dat')\n",
      "('writing file to ', 'specFile_70000060003421581_49612.3383_r.dat')\n",
      "('writing file to ', 'specFile_10000060007005848_49612.3383_r.dat')\n",
      "('writing file to ', 'specFile_60007005848_49612.3383_r.dat')\n",
      "('writing file to ', 'specFile_40000060004858125_49612.3383_r.dat')\n",
      "('writing file to ', 'specFile_60004607796_49612.3383_r.dat')\n",
      "('writing file to ', 'specFile_30000060006766246_49612.3383_r.dat')\n",
      "('writing file to ', 'specFile_20000060000334463_49612.3383_r.dat')\n",
      "('writing file to ', 'specFile_10000060015729700_49612.3383_r.dat')\n",
      "('writing file to ', 'specFile_10000060016731172_49612.3383_r.dat')\n",
      "('writing file to ', 'specFile_40000060001096923_49612.3383_r.dat')\n",
      "('writing file to ', 'specFile_40000060007017702_49612.3383_r.dat')\n",
      "('writing file to ', 'specFile_10000060009138606_49612.3383_r.dat')\n",
      "('writing file to ', 'specFile_60000336882_49612.3383_r.dat')\n",
      "('writing file to ', 'specFile_60009574567_49612.3383_r.dat')\n",
      "('writing file to ', 'specFile_20000060013222403_49612.3383_r.dat')\n",
      "('writing file to ', 'specFile_20000060011245613_49612.3383_r.dat')\n",
      "('writing file to ', 'specFile_60001644993_49612.3383_r.dat')\n",
      "('writing file to ', 'specFile_30000060011020289_49612.3383_r.dat')\n",
      "('writing file to ', 'specFile_30000060005517161_49612.3383_r.dat')\n",
      "('writing file to ', 'specFile_80000060005517161_49612.3383_r.dat')\n",
      "('writing file to ', 'specFile_10000060007954575_49612.3383_r.dat')\n",
      "('writing file to ', 'specFile_10000060010489878_49612.3383_r.dat')\n"
=======
=======
      "('writing file to ', 'specFile_6000134534807_49612.3383_r.dat')\n",
      "('writing file to ', 'specFile_6000134534803_49612.3383_r.dat')\n",
      "('writing file to ', 'specFile_6000166844111_49612.3383_r.dat')\n",
      "('writing file to ', 'specFile_6000202198804_49612.3383_r.dat')\n",
      "('writing file to ', 'specFile_6001080913807_49612.3383_r.dat')\n",
      "('writing file to ', 'specFile_6000163765100_49612.3383_r.dat')\n",
      "('writing file to ', 'specFile_6000562083903_49612.3383_r.dat')\n",
      "('writing file to ', 'specFile_6000350025005_49612.3383_r.dat')\n",
      "('writing file to ', 'specFile_6001552130005_49612.3383_r.dat')\n",
      "('writing file to ', 'specFile_6000132061801_49612.3383_r.dat')\n",
      "('writing file to ', 'specFile_6000054794501_49612.3383_r.dat')\n",
      "('writing file to ', 'specFile_6001275441101_49612.3383_r.dat')\n",
      "('writing file to ', 'specFile_6000210509202_49612.3383_r.dat')\n",
      "('writing file to ', 'specFile_6000364581702_49612.3383_r.dat')\n",
      "('writing file to ', 'specFile_6001082682302_49612.3383_r.dat')\n",
      "('writing file to ', 'specFile_6001080932900_49612.3383_r.dat')\n",
      "('writing file to ', 'specFile_6000091522300_49612.3383_r.dat')\n",
      "('writing file to ', 'specFile_6000567535901_49612.3383_r.dat')\n",
      "('writing file to ', 'specFile_6000567535902_49612.3383_r.dat')\n",
      "('writing file to ', 'specFile_6001194751802_49612.3383_r.dat')\n",
      "('writing file to ', 'specFile_6000669150802_49612.3383_r.dat')\n",
      "('writing file to ', 'specFile_6001496264000_49612.3383_r.dat')\n",
      "('writing file to ', 'specFile_6000050506900_49612.3383_r.dat')\n",
      "('writing file to ', 'specFile_6001376540805_49612.3383_r.dat')\n",
      "('writing file to ', 'specFile_6001376540801_49612.3383_r.dat')\n",
      "('writing file to ', 'specFile_6001614647700_49612.3383_r.dat')\n",
>>>>>>> changing sncat to match new pr
      "('writing file to ', 'specFile_6000274614100_49612.3383_r.dat')\n",
      "('writing file to ', 'specFile_6000606050501_49612.3383_r.dat')\n",
      "('writing file to ', 'specFile_6000018451007_49612.3383_r.dat')\n",
      "('writing file to ', 'specFile_6000091709107_49612.3383_r.dat')\n",
      "('writing file to ', 'specFile_6000777478400_49612.3383_r.dat')\n",
      "('writing file to ', 'specFile_6000972229700_49612.3383_r.dat')\n",
      "('writing file to ', 'specFile_6000167058301_49612.3383_r.dat')\n",
      "('writing file to ', 'specFile_6000307465100_49612.3383_r.dat')\n",
      "('writing file to ', 'specFile_6000140140803_49612.3383_r.dat')\n",
      "('writing file to ', 'specFile_6000283711601_49612.3383_r.dat')\n",
      "('writing file to ', 'specFile_6000740499200_49612.3383_r.dat')\n",
      "('writing file to ', 'specFile_6000154757310_49612.3383_r.dat')\n",
      "('writing file to ', 'specFile_6000195497000_49612.3383_r.dat')\n",
      "('writing file to ', 'specFile_6001108358902_49612.3383_r.dat')\n",
      "('writing file to ', 'specFile_6000038455704_49612.3383_r.dat')\n",
      "('writing file to ', 'specFile_6000051869210_49612.3383_r.dat')\n",
      "('writing file to ', 'specFile_6000977162201_49612.3383_r.dat')\n",
      "('writing file to ', 'specFile_6000977162200_49612.3383_r.dat')\n",
      "('writing file to ', 'specFile_6000835291202_49612.3383_r.dat')\n",
      "('writing file to ', 'specFile_6000927114101_49612.3383_r.dat')\n",
      "('writing file to ', 'specFile_6000663799100_49612.3383_r.dat')\n",
      "('writing file to ', 'specFile_6000292033805_49612.3383_r.dat')\n",
      "('writing file to ', 'specFile_6000292033803_49612.3383_r.dat')\n",
      "('writing file to ', 'specFile_6000834875902_49612.3383_r.dat')\n",
      "('writing file to ', 'specFile_6000317475302_49612.3383_r.dat')\n",
      "('writing file to ', 'specFile_6000194993000_49612.3383_r.dat')\n",
      "('writing file to ', 'specFile_6000587029801_49612.3383_r.dat')\n",
      "('writing file to ', 'specFile_6000676754304_49612.3383_r.dat')\n",
      "('writing file to ', 'specFile_6000410542104_49612.3383_r.dat')\n",
      "('writing file to ', 'specFile_6000033906504_49612.3383_r.dat')\n",
      "('writing file to ', 'specFile_6000033906500_49612.3383_r.dat')\n",
      "('writing file to ', 'specFile_6000033906503_49612.3383_r.dat')\n",
      "('writing file to ', 'specFile_6000033906502_49612.3383_r.dat')\n",
      "('writing file to ', 'specFile_6000004967501_49612.3383_r.dat')\n",
      "('writing file to ', 'specFile_6000235329700_49612.3383_r.dat')\n",
      "('writing file to ', 'specFile_6000288586302_49612.3383_r.dat')\n",
      "('writing file to ', 'specFile_6000288586307_49612.3383_r.dat')\n",
      "('writing file to ', 'specFile_6000054225508_49612.3383_r.dat')\n",
      "('writing file to ', 'specFile_6000515368501_49612.3383_r.dat')\n",
      "('writing file to ', 'specFile_6000713497400_49612.3383_r.dat')\n",
      "('writing file to ', 'specFile_6000008189004_49612.3383_r.dat')\n",
      "('writing file to ', 'specFile_6001024562102_49612.3383_r.dat')\n",
      "('writing file to ', 'specFile_6000606308802_49612.3383_r.dat')\n",
      "('writing file to ', 'specFile_6000403797502_49612.3383_r.dat')\n",
      "('writing file to ', 'specFile_6001039437701_49612.3383_r.dat')\n",
      "('writing file to ', 'specFile_6001291338100_49612.3383_r.dat')\n",
      "('writing file to ', 'specFile_6001291338105_49612.3383_r.dat')\n",
      "('writing file to ', 'specFile_6000000545309_49612.3383_r.dat')\n",
      "('writing file to ', 'specFile_6000410400901_49612.3383_r.dat')\n",
      "('writing file to ', 'specFile_6000341735403_49612.3383_r.dat')\n",
      "('writing file to ', 'specFile_6000346719202_49612.3383_r.dat')\n",
      "('writing file to ', 'specFile_6000467678401_49612.3383_r.dat')\n",
      "('writing file to ', 'specFile_6000678379206_49612.3383_r.dat')\n",
      "('writing file to ', 'specFile_6000005422702_49612.3383_r.dat')\n",
      "('writing file to ', 'specFile_6000145656501_49612.3383_r.dat')\n",
      "('writing file to ', 'specFile_6000927990407_49612.3383_r.dat')\n",
      "('writing file to ', 'specFile_6000927990401_49612.3383_r.dat')\n",
      "('writing file to ', 'specFile_6000797293504_49612.3383_r.dat')\n",
      "('writing file to ', 'specFile_6000198918010_49612.3383_r.dat')\n",
      "('writing file to ', 'specFile_6001274264202_49612.3383_r.dat')\n",
      "('writing file to ', 'specFile_6000572776704_49612.3383_r.dat')\n",
      "('writing file to ', 'specFile_6001336009702_49612.3383_r.dat')\n",
      "('writing file to ', 'specFile_6000243925204_49612.3383_r.dat')\n",
      "('writing file to ', 'specFile_6001503517401_49612.3383_r.dat')\n",
      "('writing file to ', 'specFile_6000091687504_49612.3383_r.dat')\n",
      "('writing file to ', 'specFile_6000426899304_49612.3383_r.dat')\n",
      "('writing file to ', 'specFile_6000342757701_49612.3383_r.dat')\n",
      "('writing file to ', 'specFile_6000342757707_49612.3383_r.dat')\n",
      "('writing file to ', 'specFile_6000149516601_49612.3383_r.dat')\n",
      "('writing file to ', 'specFile_6000423254300_49612.3383_r.dat')\n",
      "('writing file to ', 'specFile_6000800453901_49612.3383_r.dat')\n",
      "('writing file to ', 'specFile_6000973485602_49612.3383_r.dat')\n",
      "('writing file to ', 'specFile_6000076927902_49612.3383_r.dat')\n",
      "('writing file to ', 'specFile_6000305397501_49612.3383_r.dat')\n",
      "('writing file to ', 'specFile_6000351116503_49612.3383_r.dat')\n",
      "('writing file to ', 'specFile_6000606168402_49612.3383_r.dat')\n",
      "('writing file to ', 'specFile_6000128273501_49612.3383_r.dat')\n",
      "('writing file to ', 'specFile_6000211814800_49612.3383_r.dat')\n",
      "('writing file to ', 'specFile_6000685581405_49612.3383_r.dat')\n",
      "('writing file to ', 'specFile_6000685581404_49612.3383_r.dat')\n",
      "('writing file to ', 'specFile_6000685581402_49612.3383_r.dat')\n",
      "('writing file to ', 'specFile_6000015342700_49612.3383_r.dat')\n",
      "('writing file to ', 'specFile_6000799122700_49612.3383_r.dat')\n",
      "('writing file to ', 'specFile_6000501078300_49612.3383_r.dat')\n",
      "('writing file to ', 'specFile_6000486665300_49612.3383_r.dat')\n",
      "('writing file to ', 'specFile_6000486665304_49612.3383_r.dat')\n",
      "('writing file to ', 'specFile_6000408462007_49612.3383_r.dat')\n",
      "('writing file to ', 'specFile_6001076716608_49612.3383_r.dat')\n",
      "('writing file to ', 'specFile_6001091071501_49612.3383_r.dat')\n",
      "('writing file to ', 'specFile_6000205974203_49612.3383_r.dat')\n",
      "('writing file to ', 'specFile_6000305015401_49612.3383_r.dat')\n",
      "('writing file to ', 'specFile_6000676473202_49612.3383_r.dat')\n",
      "('writing file to ', 'specFile_6000676473207_49612.3383_r.dat')\n",
      "('writing file to ', 'specFile_6000676473200_49612.3383_r.dat')\n",
      "('writing file to ', 'specFile_6000594143600_49612.3383_r.dat')\n",
      "('writing file to ', 'specFile_6001199321908_49612.3383_r.dat')\n",
      "('writing file to ', 'specFile_6000201952106_49612.3383_r.dat')\n",
      "('writing file to ', 'specFile_6000433495900_49612.3383_r.dat')\n",
      "('writing file to ', 'specFile_6000023249402_49612.3383_r.dat')\n",
      "('writing file to ', 'specFile_6000193812201_49612.3383_r.dat')\n",
      "('writing file to ', 'specFile_6000134531900_49612.3383_r.dat')\n",
      "('writing file to ', 'specFile_6000134531906_49612.3383_r.dat')\n",
      "('writing file to ', 'specFile_6000982135402_49612.3383_r.dat')\n",
      "('writing file to ', 'specFile_6000182213900_49612.3383_r.dat')\n",
      "('writing file to ', 'specFile_6000298986403_49612.3383_r.dat')\n",
      "('writing file to ', 'specFile_6000606321600_49612.3383_r.dat')\n",
      "('writing file to ', 'specFile_6000924498107_49612.3383_r.dat')\n",
      "('writing file to ', 'specFile_6001213289101_49612.3383_r.dat')\n",
      "('writing file to ', 'specFile_6000024404501_49612.3383_r.dat')\n",
      "('writing file to ', 'specFile_6000899560002_49612.3383_r.dat')\n",
      "('writing file to ', 'specFile_6000238813410_49612.3383_r.dat')\n",
      "('writing file to ', 'specFile_6000915021801_49612.3383_r.dat')\n",
      "('writing file to ', 'specFile_6001604892701_49612.3383_r.dat')\n",
      "('writing file to ', 'specFile_6000004116012_49612.3383_r.dat')\n",
      "('writing file to ', 'specFile_6001090682202_49612.3383_r.dat')\n",
      "('writing file to ', 'specFile_6000377360701_49612.3383_r.dat')\n",
      "('writing file to ', 'specFile_6000289463004_49612.3383_r.dat')\n",
      "('writing file to ', 'specFile_6000685739708_49612.3383_r.dat')\n",
      "('writing file to ', 'specFile_6001317431307_49612.3383_r.dat')\n",
      "('writing file to ', 'specFile_6000495366201_49612.3383_r.dat')\n",
      "('writing file to ', 'specFile_6001125679701_49612.3383_r.dat')\n",
      "('writing file to ', 'specFile_6000018457105_49612.3383_r.dat')\n",
      "('writing file to ', 'specFile_6001604892708_49612.3383_r.dat')\n",
      "('writing file to ', 'specFile_6001071398302_49612.3383_r.dat')\n",
      "('writing file to ', 'specFile_6001297841900_49612.3383_r.dat')\n",
      "('writing file to ', 'specFile_6000678071502_49612.3383_r.dat')\n",
      "('writing file to ', 'specFile_6000065239400_49612.3383_r.dat')\n",
      "('writing file to ', 'specFile_6000674876108_49612.3383_r.dat')\n",
      "('writing file to ', 'specFile_6000574987008_49612.3383_r.dat')\n",
      "('writing file to ', 'specFile_6000241453803_49612.3383_r.dat')\n",
      "('writing file to ', 'specFile_6000806620403_49612.3383_r.dat')\n",
      "('writing file to ', 'specFile_6000002425203_49612.3383_r.dat')\n",
      "('writing file to ', 'specFile_6000079851701_49612.3383_r.dat')\n",
      "('writing file to ', 'specFile_6000402455900_49612.3383_r.dat')\n",
      "('writing file to ', 'specFile_6000402455901_49612.3383_r.dat')\n",
      "('writing file to ', 'specFile_6000202566600_49612.3383_r.dat')\n",
      "('writing file to ', 'specFile_6000202566601_49612.3383_r.dat')\n",
      "('writing file to ', 'specFile_6000713742900_49612.3383_r.dat')\n",
      "('writing file to ', 'specFile_6000818813400_49612.3383_r.dat')\n",
      "('writing file to ', 'specFile_6001643721400_49612.3383_r.dat')\n",
      "('writing file to ', 'specFile_6000919447501_49612.3383_r.dat')\n",
      "('writing file to ', 'specFile_6000919447504_49612.3383_r.dat')\n",
      "('writing file to ', 'specFile_6000919447507_49612.3383_r.dat')\n",
      "('writing file to ', 'specFile_6001153289900_49612.3383_r.dat')\n",
      "('writing file to ', 'specFile_6001076289901_49612.3383_r.dat')\n",
      "('writing file to ', 'specFile_6001087469509_49612.3383_r.dat')\n",
      "('writing file to ', 'specFile_6000134408504_49612.3383_r.dat')\n",
      "('writing file to ', 'specFile_6000134408509_49612.3383_r.dat')\n",
      "('writing file to ', 'specFile_6000134408501_49612.3383_r.dat')\n",
      "('writing file to ', 'specFile_6000178785102_49612.3383_r.dat')\n",
      "('writing file to ', 'specFile_6000868317803_49612.3383_r.dat')\n",
      "('writing file to ', 'specFile_6000576347401_49612.3383_r.dat')\n",
      "('writing file to ', 'specFile_6000924272500_49612.3383_r.dat')\n",
      "('writing file to ', 'specFile_6000038657100_49612.3383_r.dat')\n",
      "('writing file to ', 'specFile_6000979649202_49612.3383_r.dat')\n",
      "('writing file to ', 'specFile_6000606651500_49612.3383_r.dat')\n",
      "('writing file to ', 'specFile_6001412554301_49612.3383_r.dat')\n",
      "('writing file to ', 'specFile_6001069743203_49612.3383_r.dat')\n",
      "('writing file to ', 'specFile_6000687033504_49612.3383_r.dat')\n",
      "('writing file to ', 'specFile_6000138701900_49612.3383_r.dat')\n",
      "('writing file to ', 'specFile_6001666672200_49612.3383_r.dat')\n",
      "('writing file to ', 'specFile_6001128400302_49612.3383_r.dat')\n",
      "('writing file to ', 'specFile_6000034708902_49612.3383_r.dat')\n",
      "('writing file to ', 'specFile_6001069328711_49612.3383_r.dat')\n",
      "('writing file to ', 'specFile_6000112524502_49612.3383_r.dat')\n",
      "('writing file to ', 'specFile_6000132752502_49612.3383_r.dat')\n",
      "('writing file to ', 'specFile_6001070123705_49612.3383_r.dat')\n",
      "('writing file to ', 'specFile_6001472253302_49612.3383_r.dat')\n",
      "('writing file to ', 'specFile_6000199413203_49612.3383_r.dat')\n",
      "('writing file to ', 'specFile_6000574726505_49612.3383_r.dat')\n",
      "('writing file to ', 'specFile_6000574726509_49612.3383_r.dat')\n",
      "('writing file to ', 'specFile_6000605816501_49612.3383_r.dat')\n",
      "('writing file to ', 'specFile_6000490746900_49612.3383_r.dat')\n",
      "('writing file to ', 'specFile_6000490746905_49612.3383_r.dat')\n",
      "('writing file to ', 'specFile_6000679622509_49612.3383_r.dat')\n",
      "('writing file to ', 'specFile_6001106441500_49612.3383_r.dat')\n",
      "('writing file to ', 'specFile_6000493388001_49612.3383_r.dat')\n",
      "('writing file to ', 'specFile_6001667630003_49612.3383_r.dat')\n",
      "('writing file to ', 'specFile_6001667630000_49612.3383_r.dat')\n",
      "('writing file to ', 'specFile_6000005211702_49612.3383_r.dat')\n",
      "('writing file to ', 'specFile_6000940460206_49612.3383_r.dat')\n",
      "('writing file to ', 'specFile_6001199135103_49612.3383_r.dat')\n",
      "('writing file to ', 'specFile_6000975739801_49612.3383_r.dat')\n",
      "('writing file to ', 'specFile_6000584863908_49612.3383_r.dat')\n",
      "('writing file to ', 'specFile_6000584863900_49612.3383_r.dat')\n",
      "('writing file to ', 'specFile_6000137165304_49612.3383_r.dat')\n",
      "('writing file to ', 'specFile_6000167068307_49612.3383_r.dat')\n",
      "('writing file to ', 'specFile_6000972570502_49612.3383_r.dat')\n",
      "('writing file to ', 'specFile_6001311567801_49612.3383_r.dat')\n",
      "('writing file to ', 'specFile_6000062948600_49612.3383_r.dat')\n",
      "('writing file to ', 'specFile_6000414005603_49612.3383_r.dat')\n",
      "('writing file to ', 'specFile_6000298458003_49612.3383_r.dat')\n",
      "('writing file to ', 'specFile_6000000549201_49612.3383_r.dat')\n",
      "('writing file to ', 'specFile_6000483325300_49612.3383_r.dat')\n",
      "('writing file to ', 'specFile_6001678759402_49612.3383_r.dat')\n",
      "('writing file to ', 'specFile_6000805062900_49612.3383_r.dat')\n",
      "('writing file to ', 'specFile_6000011378201_49612.3383_r.dat')\n",
      "('writing file to ', 'specFile_6000011378200_49612.3383_r.dat')\n",
      "('writing file to ', 'specFile_6000494647400_49612.3383_r.dat')\n",
      "('writing file to ', 'specFile_6000672110506_49612.3383_r.dat')\n",
      "('writing file to ', 'specFile_6000200218701_49612.3383_r.dat')\n",
      "('writing file to ', 'specFile_6000098302501_49612.3383_r.dat')\n",
      "('writing file to ', 'specFile_6000208929002_49612.3383_r.dat')\n",
      "('writing file to ', 'specFile_6001082730705_49612.3383_r.dat')\n",
      "('writing file to ', 'specFile_6001082730706_49612.3383_r.dat')\n",
      "('writing file to ', 'specFile_6000911426800_49612.3383_r.dat')\n",
      "('writing file to ', 'specFile_6001395868502_49612.3383_r.dat')\n",
      "('writing file to ', 'specFile_6000574434803_49612.3383_r.dat')\n",
      "('writing file to ', 'specFile_6000574434801_49612.3383_r.dat')\n",
      "('writing file to ', 'specFile_6001328142500_49612.3383_r.dat')\n",
      "('writing file to ', 'specFile_6001496220201_49612.3383_r.dat')\n",
      "('writing file to ', 'specFile_6000712989003_49612.3383_r.dat')\n",
      "('writing file to ', 'specFile_6000425656001_49612.3383_r.dat')\n",
      "('writing file to ', 'specFile_6000174319000_49612.3383_r.dat')\n",
      "('writing file to ', 'specFile_6001274283001_49612.3383_r.dat')\n",
      "('writing file to ', 'specFile_6000682382002_49612.3383_r.dat')\n",
      "('writing file to ', 'specFile_6000598081300_49612.3383_r.dat')\n",
      "('writing file to ', 'specFile_6001559163605_49612.3383_r.dat')\n",
      "('writing file to ', 'specFile_6000910859700_49612.3383_r.dat')\n",
      "('writing file to ', 'specFile_6000406986706_49612.3383_r.dat')\n",
      "('writing file to ', 'specFile_6000790009413_49612.3383_r.dat')\n",
      "('writing file to ', 'specFile_6000790009408_49612.3383_r.dat')\n",
      "('writing file to ', 'specFile_6000363986303_49612.3383_r.dat')\n",
      "('writing file to ', 'specFile_6000038529902_49612.3383_r.dat')\n",
      "('writing file to ', 'specFile_6000938291203_49612.3383_r.dat')\n",
      "('writing file to ', 'specFile_6000072717303_49612.3383_r.dat')\n",
      "('writing file to ', 'specFile_6000072717304_49612.3383_r.dat')\n",
      "('writing file to ', 'specFile_6000940515604_49612.3383_r.dat')\n",
      "('writing file to ', 'specFile_6000940515609_49612.3383_r.dat')\n",
      "('writing file to ', 'specFile_6000696782601_49612.3383_r.dat')\n",
      "('writing file to ', 'specFile_6000661681100_49612.3383_r.dat')\n",
      "('writing file to ', 'specFile_6000089632201_49612.3383_r.dat')\n",
      "('writing file to ', 'specFile_6000673914604_49612.3383_r.dat')\n",
      "('writing file to ', 'specFile_6001165215401_49612.3383_r.dat')\n",
      "('writing file to ', 'specFile_6001247820800_49612.3383_r.dat')\n",
      "('writing file to ', 'specFile_6001274662701_49612.3383_r.dat')\n",
      "('writing file to ', 'specFile_6000417413903_49612.3383_r.dat')\n",
      "('writing file to ', 'specFile_6000417413908_49612.3383_r.dat')\n",
      "('writing file to ', 'specFile_6001128462700_49612.3383_r.dat')\n",
      "('writing file to ', 'specFile_6000013319703_49612.3383_r.dat')\n",
      "('writing file to ', 'specFile_6000434779807_49612.3383_r.dat')\n",
      "('writing file to ', 'specFile_6001125632102_49612.3383_r.dat')\n",
      "('writing file to ', 'specFile_6000298852004_49612.3383_r.dat')\n",
      "('writing file to ', 'specFile_6000205278002_49612.3383_r.dat')\n",
      "('writing file to ', 'specFile_6001104359605_49612.3383_r.dat')\n",
      "('writing file to ', 'specFile_6000039790801_49612.3383_r.dat')\n",
      "('writing file to ', 'specFile_6001083089800_49612.3383_r.dat')\n",
      "('writing file to ', 'specFile_6000687138504_49612.3383_r.dat')\n",
      "('writing file to ', 'specFile_6000034399203_49612.3383_r.dat')\n",
      "('writing file to ', 'specFile_6000357541300_49612.3383_r.dat')\n",
      "('writing file to ', 'specFile_6001319426000_49612.3383_r.dat')\n",
      "('writing file to ', 'specFile_6001088840901_49612.3383_r.dat')\n",
      "('writing file to ', 'specFile_6001124969203_49612.3383_r.dat')\n",
      "('writing file to ', 'specFile_6000285849403_49612.3383_r.dat')\n",
      "('writing file to ', 'specFile_6000940023802_49612.3383_r.dat')\n",
      "('writing file to ', 'specFile_6001103506602_49612.3383_r.dat')\n",
      "('writing file to ', 'specFile_6000513884600_49612.3383_r.dat')\n",
      "('writing file to ', 'specFile_6001254769900_49612.3383_r.dat')\n",
      "('writing file to ', 'specFile_6000417459110_49612.3383_r.dat')\n",
      "('writing file to ', 'specFile_6000592973400_49612.3383_r.dat')\n",
      "('writing file to ', 'specFile_6000937552508_49612.3383_r.dat')\n",
      "('writing file to ', 'specFile_6000237922901_49612.3383_r.dat')\n",
      "('writing file to ', 'specFile_6000503794104_49612.3383_r.dat')\n",
      "('writing file to ', 'specFile_6000547510902_49612.3383_r.dat')\n",
      "('writing file to ', 'specFile_6000914784400_49612.3383_r.dat')\n",
      "('writing file to ', 'specFile_6000627936000_49612.3383_r.dat')\n",
      "('writing file to ', 'specFile_6000412210009_49612.3383_r.dat')\n",
      "('writing file to ', 'specFile_6000933188005_49612.3383_r.dat')\n",
      "('writing file to ', 'specFile_6000922505900_49612.3383_r.dat')\n",
      "('writing file to ', 'specFile_6000486286608_49612.3383_r.dat')\n",
      "('writing file to ', 'specFile_6000287566910_49612.3383_r.dat')\n",
      "('writing file to ', 'specFile_6000495200504_49612.3383_r.dat')\n",
      "('writing file to ', 'specFile_6000210456500_49612.3383_r.dat')\n",
      "('writing file to ', 'specFile_6000155180512_49612.3383_r.dat')\n",
      "('writing file to ', 'specFile_6000514333401_49612.3383_r.dat')\n",
      "('writing file to ', 'specFile_6000598139101_49612.3383_r.dat')\n",
      "('writing file to ', 'specFile_6000238091605_49612.3383_r.dat')\n",
      "('writing file to ', 'specFile_6000417371700_49612.3383_r.dat')\n",
      "('writing file to ', 'specFile_6000020379900_49612.3383_r.dat')\n",
      "('writing file to ', 'specFile_6000739472900_49612.3383_r.dat')\n",
      "('writing file to ', 'specFile_6000408172205_49612.3383_r.dat')\n",
      "('writing file to ', 'specFile_6001348158501_49612.3383_r.dat')\n",
      "('writing file to ', 'specFile_6001603288204_49612.3383_r.dat')\n",
      "('writing file to ', 'specFile_6001079149602_49612.3383_r.dat')\n",
      "('writing file to ', 'specFile_6001410750400_49612.3383_r.dat')\n",
      "('writing file to ', 'specFile_6000403163802_49612.3383_r.dat')\n",
      "('writing file to ', 'specFile_6000343197304_49612.3383_r.dat')\n",
      "('writing file to ', 'specFile_6001010489503_49612.3383_r.dat')\n",
      "('writing file to ', 'specFile_6000253613201_49612.3383_r.dat')\n",
      "('writing file to ', 'specFile_6001074720700_49612.3383_r.dat')\n",
      "('writing file to ', 'specFile_6000343197313_49612.3383_r.dat')\n",
      "('writing file to ', 'specFile_6000343197305_49612.3383_r.dat')\n",
      "('writing file to ', 'specFile_6001541975801_49612.3383_r.dat')\n",
      "('writing file to ', 'specFile_6000920296007_49612.3383_r.dat')\n",
      "('writing file to ', 'specFile_6000239255404_49612.3383_r.dat')\n",
      "('writing file to ', 'specFile_6000239255406_49612.3383_r.dat')\n",
      "('writing file to ', 'specFile_6001087797407_49612.3383_r.dat')\n",
      "('writing file to ', 'specFile_6000335531502_49612.3383_r.dat')\n",
      "('writing file to ', 'specFile_6000594091809_49612.3383_r.dat')\n",
      "('writing file to ', 'specFile_6000594091807_49612.3383_r.dat')\n",
      "('writing file to ', 'specFile_6000713667100_49612.3383_r.dat')\n",
      "('writing file to ', 'specFile_6000221014500_49612.3383_r.dat')\n",
      "('writing file to ', 'specFile_6000221014505_49612.3383_r.dat')\n",
      "('writing file to ', 'specFile_6000065481000_49612.3383_r.dat')\n",
      "('writing file to ', 'specFile_6000672859500_49612.3383_r.dat')\n",
      "('writing file to ', 'specFile_6000066364100_49612.3383_r.dat')\n",
      "('writing file to ', 'specFile_6001493935900_49612.3383_r.dat')\n",
      "('writing file to ', 'specFile_6000006905505_49612.3383_r.dat')\n",
      "('writing file to ', 'specFile_6000090056107_49612.3383_r.dat')\n",
      "('writing file to ', 'specFile_6000090056110_49612.3383_r.dat')\n",
      "('writing file to ', 'specFile_6000090021001_49612.3383_r.dat')\n",
      "('writing file to ', 'specFile_6001632556302_49612.3383_r.dat')\n",
      "('writing file to ', 'specFile_6000139428605_49612.3383_r.dat')\n",
      "('writing file to ', 'specFile_6000513104500_49612.3383_r.dat')\n",
      "('writing file to ', 'specFile_6000038522100_49612.3383_r.dat')\n",
      "('writing file to ', 'specFile_6000362915402_49612.3383_r.dat')\n",
      "('writing file to ', 'specFile_6000292499903_49612.3383_r.dat')\n",
      "('writing file to ', 'specFile_6000009259001_49612.3383_r.dat')\n",
      "('writing file to ', 'specFile_6000941475401_49612.3383_r.dat')\n",
      "('writing file to ', 'specFile_6000000189404_49612.3383_r.dat')\n",
      "('writing file to ', 'specFile_6000819964202_49612.3383_r.dat')\n",
      "('writing file to ', 'specFile_6001090082505_49612.3383_r.dat')\n",
      "('writing file to ', 'specFile_6000035343211_49612.3383_r.dat')\n",
      "('writing file to ', 'specFile_6000072916907_49612.3383_r.dat')\n",
      "('writing file to ', 'specFile_6000212556702_49612.3383_r.dat')\n",
      "('writing file to ', 'specFile_6000677662612_49612.3383_r.dat')\n",
      "('writing file to ', 'specFile_6000677662600_49612.3383_r.dat')\n",
      "('writing file to ', 'specFile_6000161407900_49612.3383_r.dat')\n",
      "('writing file to ', 'specFile_6000056399603_49612.3383_r.dat')\n",
      "('writing file to ', 'specFile_6001053399102_49612.3383_r.dat')\n",
      "('writing file to ', 'specFile_6000774895402_49612.3383_r.dat')\n",
      "('writing file to ', 'specFile_6000774895400_49612.3383_r.dat')\n",
      "('writing file to ', 'specFile_6000806204406_49612.3383_r.dat')\n",
      "('writing file to ', 'specFile_6000025771801_49612.3383_r.dat')\n",
      "('writing file to ', 'specFile_6000025771802_49612.3383_r.dat')\n",
      "('writing file to ', 'specFile_6000414475300_49612.3383_r.dat')\n",
      "('writing file to ', 'specFile_6000072730105_49612.3383_r.dat')\n",
      "('writing file to ', 'specFile_6001087134601_49612.3383_r.dat')\n",
      "('writing file to ', 'specFile_6000253984201_49612.3383_r.dat')\n",
      "('writing file to ', 'specFile_6000504962500_49612.3383_r.dat')\n",
      "('writing file to ', 'specFile_6000253627200_49612.3383_r.dat')\n",
      "('writing file to ', 'specFile_6000607219501_49612.3383_r.dat')\n",
      "('writing file to ', 'specFile_6000238396802_49612.3383_r.dat')\n",
      "('writing file to ', 'specFile_6000342158106_49612.3383_r.dat')\n",
      "('writing file to ', 'specFile_6000342158107_49612.3383_r.dat')\n",
      "('writing file to ', 'specFile_6000700584801_49612.3383_r.dat')\n",
      "('writing file to ', 'specFile_6000700584800_49612.3383_r.dat')\n",
      "('writing file to ', 'specFile_6000485812504_49612.3383_r.dat')\n",
      "('writing file to ', 'specFile_6000460779600_49612.3383_r.dat')\n",
      "('writing file to ', 'specFile_6000676624603_49612.3383_r.dat')\n",
      "('writing file to ', 'specFile_6000033446302_49612.3383_r.dat')\n",
      "('writing file to ', 'specFile_6001572970001_49612.3383_r.dat')\n",
      "('writing file to ', 'specFile_6001673117201_49612.3383_r.dat')\n",
      "('writing file to ', 'specFile_6000109692304_49612.3383_r.dat')\n",
      "('writing file to ', 'specFile_6000701770204_49612.3383_r.dat')\n",
      "('writing file to ', 'specFile_6000913860601_49612.3383_r.dat')\n",
      "('writing file to ', 'specFile_6000033688200_49612.3383_r.dat')\n",
      "('writing file to ', 'specFile_6000957456700_49612.3383_r.dat')\n",
      "('writing file to ', 'specFile_6001322240302_49612.3383_r.dat')\n",
      "('writing file to ', 'specFile_6001124561302_49612.3383_r.dat')\n",
      "('writing file to ', 'specFile_6000164499300_49612.3383_r.dat')\n",
      "('writing file to ', 'specFile_6001102028903_49612.3383_r.dat')\n",
      "('writing file to ', 'specFile_6000551716103_49612.3383_r.dat')\n",
      "('writing file to ', 'specFile_6000551716108_49612.3383_r.dat')\n",
      "('writing file to ', 'specFile_6000795457501_49612.3383_r.dat')\n",
      "('writing file to ', 'specFile_6001048987801_49612.3383_r.dat')\n",
      "('Type of return', <type 'numpy.ndarray'>, dtype('float64'))\n",
      "(6719,)\n"
>>>>>>> Added galacticRV to galaxy phosim catalog in phoSimCatlogExamples.py
     ]
    }
   ],
   "source": [
<<<<<<< HEAD
    "pc.write_catalog('SNPhoSimCatalog.dat')"
=======
    "pc.write_catalog('SNOnlyPhoSimCatalog.dat')"
>>>>>>> Added galacticRV to galaxy phosim catalog in phoSimCatlogExamples.py
   ]
  },
  {
   "cell_type": "code",
<<<<<<< HEAD
   "execution_count": 47,
=======
   "execution_count": 25,
>>>>>>> Added galacticRV to galaxy phosim catalog in phoSimCatlogExamples.py
   "metadata": {
    "collapsed": false
   },
   "outputs": [
    {
<<<<<<< HEAD
     "name": "stdout",
     "output_type": "stream",
     "text": [
      "Opsim_obshistid 203482\r\n",
      "SIM_SEED 22406828\r\n",
      "Unrefracted_RA 53.0091385\r\n",
      "Unrefracted_Dec -27.4389488\r\n",
      "Opsim_moonra 324.684411\r\n",
      "Opsim_moondec -8.00760085\r\n",
      "Opsim_rotskypos 113.221044\r\n",
      "Opsim_filter 2\r\n",
      "Opsim_rawseeing 0.453714\r\n",
      "Opsim_sunalt -33.7055601\r\n"
     ]
    }
   ],
   "source": [
    "!head SNPhoSimCatalog.dat"
=======
     "name": "stderr",
     "output_type": "stream",
     "text": [
      "/usr/local/manual/anaconda/lib/python2.7/site-packages/ipykernel/__main__.py:1: ParserWarning: Falling back to the 'python' engine because the 'c' engine does not support regex separators; you can avoid this warning by specifying engine='python'.\n",
      "  if __name__ == '__main__':\n"
     ]
    },
    {
     "data": {
      "text/html": [
       "<div>\n",
       "<table border=\"1\" class=\"dataframe\">\n",
       "  <thead>\n",
       "    <tr style=\"text-align: right;\">\n",
       "      <th></th>\n",
       "      <th>snra</th>\n",
       "      <th>sndec</th>\n",
       "      <th>z</th>\n",
       "      <th>t0</th>\n",
       "      <th>c</th>\n",
       "      <th>x1</th>\n",
       "      <th>x0</th>\n",
       "      <th>galtileid</th>\n",
       "      <th>flux</th>\n",
       "      <th>flux_err</th>\n",
       "      <th>mag</th>\n",
       "      <th>mag_err</th>\n",
       "      <th>TmagNorm</th>\n",
       "      <th>TsedFilepath</th>\n",
       "      <th>adu</th>\n",
       "      <th>DeltaT</th>\n",
       "      <th>SNR</th>\n",
       "    </tr>\n",
       "    <tr>\n",
       "      <th>snid</th>\n",
       "      <th></th>\n",
       "      <th></th>\n",
       "      <th></th>\n",
       "      <th></th>\n",
       "      <th></th>\n",
       "      <th></th>\n",
       "      <th></th>\n",
       "      <th></th>\n",
       "      <th></th>\n",
       "      <th></th>\n",
       "      <th></th>\n",
       "      <th></th>\n",
       "      <th></th>\n",
       "      <th></th>\n",
       "      <th></th>\n",
       "      <th></th>\n",
       "      <th></th>\n",
       "    </tr>\n",
       "  </thead>\n",
       "  <tbody>\n",
       "    <tr>\n",
       "      <th>6000274614100</th>\n",
       "      <td>0.924854</td>\n",
       "      <td>-0.479609</td>\n",
       "      <td>0.8928</td>\n",
       "      <td>49548.8777</td>\n",
       "      <td>0.033894</td>\n",
       "      <td>1.4029</td>\n",
       "      <td>0.000003</td>\n",
       "      <td>60002746141</td>\n",
       "      <td>6.241729e-12</td>\n",
       "      <td>3.596256e-11</td>\n",
       "      <td>28.011700</td>\n",
       "      <td>2.075135</td>\n",
       "      <td>27.0441</td>\n",
       "      <td>specFile_6000274614100_49612.3383_r.dat</td>\n",
       "      <td>18.0798</td>\n",
       "      <td>63.460596</td>\n",
       "      <td>0.173562</td>\n",
       "    </tr>\n",
       "    <tr>\n",
       "      <th>6000606050501</th>\n",
       "      <td>0.924858</td>\n",
       "      <td>-0.479617</td>\n",
       "      <td>0.6129</td>\n",
       "      <td>49649.3653</td>\n",
       "      <td>0.101883</td>\n",
       "      <td>0.6835</td>\n",
       "      <td>0.000005</td>\n",
       "      <td>60006060505</td>\n",
       "      <td>0.000000e+00</td>\n",
       "      <td>NaN</td>\n",
       "      <td>inf</td>\n",
       "      <td>inf</td>\n",
       "      <td>50.2928</td>\n",
       "      <td>specFile_6000606050501_49612.3383_r.dat</td>\n",
       "      <td>0.0000</td>\n",
       "      <td>-37.027004</td>\n",
       "      <td>NaN</td>\n",
       "    </tr>\n",
       "    <tr>\n",
       "      <th>6000018451007</th>\n",
       "      <td>0.924901</td>\n",
       "      <td>-0.479572</td>\n",
       "      <td>0.0792</td>\n",
       "      <td>49663.7526</td>\n",
       "      <td>0.102872</td>\n",
       "      <td>-0.0847</td>\n",
       "      <td>0.000481</td>\n",
       "      <td>60000184510</td>\n",
       "      <td>0.000000e+00</td>\n",
       "      <td>NaN</td>\n",
       "      <td>inf</td>\n",
       "      <td>inf</td>\n",
       "      <td>45.9639</td>\n",
       "      <td>specFile_6000018451007_49612.3383_r.dat</td>\n",
       "      <td>0.0000</td>\n",
       "      <td>-51.414304</td>\n",
       "      <td>NaN</td>\n",
       "    </tr>\n",
       "    <tr>\n",
       "      <th>6000091709107</th>\n",
       "      <td>0.924818</td>\n",
       "      <td>-0.479540</td>\n",
       "      <td>0.8797</td>\n",
       "      <td>49571.7622</td>\n",
       "      <td>0.122812</td>\n",
       "      <td>0.3551</td>\n",
       "      <td>0.000002</td>\n",
       "      <td>60000917091</td>\n",
       "      <td>6.625628e-12</td>\n",
       "      <td>3.596336e-11</td>\n",
       "      <td>27.946900</td>\n",
       "      <td>2.020182</td>\n",
       "      <td>27.2687</td>\n",
       "      <td>specFile_6000091709107_49612.3383_r.dat</td>\n",
       "      <td>19.1918</td>\n",
       "      <td>40.576096</td>\n",
       "      <td>0.184233</td>\n",
       "    </tr>\n",
       "    <tr>\n",
       "      <th>6000777478400</th>\n",
       "      <td>0.924802</td>\n",
       "      <td>-0.479560</td>\n",
       "      <td>0.5110</td>\n",
       "      <td>49661.1437</td>\n",
       "      <td>-0.095341</td>\n",
       "      <td>2.4452</td>\n",
       "      <td>0.000019</td>\n",
       "      <td>60007774784</td>\n",
       "      <td>0.000000e+00</td>\n",
       "      <td>NaN</td>\n",
       "      <td>inf</td>\n",
       "      <td>inf</td>\n",
       "      <td>48.3956</td>\n",
       "      <td>specFile_6000777478400_49612.3383_r.dat</td>\n",
       "      <td>0.0000</td>\n",
       "      <td>-48.805404</td>\n",
       "      <td>NaN</td>\n",
       "    </tr>\n",
       "  </tbody>\n",
       "</table>\n",
       "</div>"
      ],
      "text/plain": [
       "                   snra     sndec       z          t0         c      x1  \\\n",
       "snid                                                                      \n",
       "6000274614100  0.924854 -0.479609  0.8928  49548.8777  0.033894  1.4029   \n",
       "6000606050501  0.924858 -0.479617  0.6129  49649.3653  0.101883  0.6835   \n",
       "6000018451007  0.924901 -0.479572  0.0792  49663.7526  0.102872 -0.0847   \n",
       "6000091709107  0.924818 -0.479540  0.8797  49571.7622  0.122812  0.3551   \n",
       "6000777478400  0.924802 -0.479560  0.5110  49661.1437 -0.095341  2.4452   \n",
       "\n",
       "                     x0    galtileid          flux      flux_err        mag  \\\n",
       "snid                                                                          \n",
       "6000274614100  0.000003  60002746141  6.241729e-12  3.596256e-11  28.011700   \n",
       "6000606050501  0.000005  60006060505  0.000000e+00           NaN        inf   \n",
       "6000018451007  0.000481  60000184510  0.000000e+00           NaN        inf   \n",
       "6000091709107  0.000002  60000917091  6.625628e-12  3.596336e-11  27.946900   \n",
       "6000777478400  0.000019  60007774784  0.000000e+00           NaN        inf   \n",
       "\n",
       "                mag_err  TmagNorm                             TsedFilepath  \\\n",
       "snid                                                                         \n",
       "6000274614100  2.075135   27.0441  specFile_6000274614100_49612.3383_r.dat   \n",
       "6000606050501       inf   50.2928  specFile_6000606050501_49612.3383_r.dat   \n",
       "6000018451007       inf   45.9639  specFile_6000018451007_49612.3383_r.dat   \n",
       "6000091709107  2.020182   27.2687  specFile_6000091709107_49612.3383_r.dat   \n",
       "6000777478400       inf   48.3956  specFile_6000777478400_49612.3383_r.dat   \n",
       "\n",
       "                   adu     DeltaT       SNR  \n",
       "snid                                         \n",
       "6000274614100  18.0798  63.460596  0.173562  \n",
       "6000606050501   0.0000 -37.027004       NaN  \n",
       "6000018451007   0.0000 -51.414304       NaN  \n",
       "6000091709107  19.1918  40.576096  0.184233  \n",
       "6000777478400   0.0000 -48.805404       NaN  "
      ]
     },
     "execution_count": 25,
     "metadata": {},
     "output_type": "execute_result"
    }
   ],
   "source": [
    "sncatdf = pd.read_csv('newcat.dat', sep=',\\s+')\n",
    "sncatdf.rename(columns={'#snid':'snid'}, inplace=True)\n",
    "sncatdf['snid'] = sncatdf.snid.astype(int)\n",
    "sncatdf.set_index('snid', inplace=True)\n",
    "sncatdf['DeltaT'] = sncatalog.mjdobs - sncatdf['t0']\n",
    "sncatdf['SNR'] = sncatdf.flux / sncatdf.flux_err\n",
    "sncatdf.head()"
   ]
  },
  {
   "cell_type": "code",
   "execution_count": 26,
   "metadata": {
    "collapsed": false
   },
   "outputs": [
    {
     "data": {
      "image/png": "iVBORw0KGgoAAAANSUhEUgAAAe8AAAFwCAYAAACRufNbAAAABHNCSVQICAgIfAhkiAAAAAlwSFlz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\nYII=\n",
      "text/plain": [
       "<matplotlib.figure.Figure at 0x11d028f10>"
      ]
     },
     "metadata": {},
     "output_type": "display_data"
    }
   ],
   "source": [
    "fig, ax = plt.subplots(nrows=1, ncols=2);\n",
    "_ = ax[0].hist(sncatdf.query('SNR > 5.').z, bins=np.arange(0., 1.2, 0.1), histtype='step', lw=2, color='k', normed=True,\n",
    "               label='highSNR')\n",
    "_ = ax[0].hist(sncatdf.query('SNR < 5. and SNR > 0.').z, bins=np.arange(0., 1.2, 0.1), histtype='step', lw=2, color='r', \n",
    "             normed=True, label='lowSNR')\n",
    "_ = ax[0].hist(sncatdf.query('SNR > 0.').z, bins=np.arange(0., 1.2, 0.1), histtype='step', lw=2, color='b', \n",
    "             normed=True, label='Active')\n",
    "ax[0].grid(True)\n",
    "_ = ax[1].hist(sncatdf.query('SNR > 5.').z, bins=np.arange(0., 1.2, 0.1), histtype='step', lw=2, color='k', normed=False, \n",
    "               cumulative=-1)\n",
    "_ = ax[1].hist(sncatdf.query('SNR < 5. and SNR > 0.').z, bins=np.arange(0., 1.2, 0.1), histtype='step', lw=2, color='r', \n",
    "               normed=False, cumulative=-1)\n",
    "_ = ax[1].grid(True)\n",
    "_ = ax[0].legend(loc='upper left')\n",
    "_ = ax[0].set_ylabel('PDF')\n",
    "_ = ax[1].set_ylabel('Num SN at z > ')\n",
    "_ = fig.suptitle('Redshift Distribution of SN')"
   ]
  },
  {
   "cell_type": "markdown",
   "metadata": {},
   "source": [
    "##  PhoSim Catalog For galaxy Disks"
   ]
  },
  {
   "cell_type": "code",
   "execution_count": null,
   "metadata": {
    "collapsed": false
   },
   "outputs": [],
   "source": [
    "from lsst.sims.catUtils.exampleCatalogDefinitions.phoSimCatalogExamples import PhoSimCatalogSN, PhoSimCatalogSersic2D"
   ]
  },
  {
   "cell_type": "code",
   "execution_count": null,
   "metadata": {
    "collapsed": true
   },
   "outputs": [],
   "source": [
    "from lsst.sims.catUtils.baseCatalogModels import GalaxyDiskObj"
   ]
  },
  {
   "cell_type": "code",
   "execution_count": null,
   "metadata": {
    "collapsed": false
   },
   "outputs": [],
   "source": [
    "gDisk = GalaxyDiskObj()"
   ]
  },
  {
   "cell_type": "code",
   "execution_count": null,
   "metadata": {
    "collapsed": false
   },
   "outputs": [],
   "source": [
    "gDisk.objectTypeId"
   ]
  },
  {
   "cell_type": "code",
   "execution_count": null,
   "metadata": {
    "collapsed": false
   },
   "outputs": [],
   "source": [
    "class GdiscCatalogClass(InstanceCatalog):\n",
    "    \n",
    "    column_outputs = ['raJ2000', 'decJ2000', 'galtileid', 'id', 'redshift']\n",
    "    override_formats = {'raJ2000': '%8e', 'decJ2000': '%8e', 'x0':'%8e'}"
   ]
  },
  {
   "cell_type": "code",
   "execution_count": null,
   "metadata": {
    "collapsed": false
   },
   "outputs": [],
   "source": [
    "\n",
    "gd = GdiscCatalogClass(db_obj=gDisk, obs_metadata=TwinklesObsMetaDataSmall)\n",
    "gd.write_catalog('GalaxyDisks.dat')"
   ]
  },
  {
   "cell_type": "code",
   "execution_count": null,
   "metadata": {
    "collapsed": false
   },
   "outputs": [],
   "source": [
    "phosimGals = PhoSimCatalogSersic2D(db_obj=gDisk, obs_metadata=TwinklesObsMetaDataSmall)"
   ]
  },
  {
   "cell_type": "code",
   "execution_count": null,
   "metadata": {
    "collapsed": true
   },
   "outputs": [],
   "source": [
    "phosimGals.write_catalog('GalDiskPhoSimCatalog.dat')\n",
    "phosimGals.write_catalog('SNPhoSimCatalog.dat', write_header=False, write_mode='a')"
   ]
  },
  {
   "cell_type": "markdown",
   "metadata": {},
   "source": [
    "## Keeping only hosts"
   ]
  },
  {
   "cell_type": "code",
   "execution_count": null,
   "metadata": {
    "collapsed": false
   },
   "outputs": [],
   "source": [
    "galD = pd.read_csv('GalaxyDisks.dat', sep=',\\s+');\n",
    "galD.rename(columns={'#raJ2000': 'raJ2000'}, inplace=True)\n",
    "galD.head()"
   ]
  },
  {
   "cell_type": "code",
   "execution_count": null,
   "metadata": {
    "collapsed": false
   },
   "outputs": [],
   "source": [
    "gg = galD.galtileid.copy(deep=True)\n",
    "gg.sort(inplace=True)\n",
    "sng = df.galtileid.copy(deep=True)\n",
    "sng.sort(inplace=True)"
   ]
  },
  {
   "cell_type": "code",
   "execution_count": null,
   "metadata": {
    "collapsed": false
   },
   "outputs": [],
   "source": [
    "sgg = set(gg.values); print (len(sgg))"
   ]
  },
  {
   "cell_type": "code",
   "execution_count": null,
   "metadata": {
    "collapsed": false
   },
   "outputs": [],
   "source": [
    "sngg = set(sng.values); print(len(sngg))"
   ]
  },
  {
   "cell_type": "code",
   "execution_count": null,
   "metadata": {
    "collapsed": false
   },
   "outputs": [],
   "source": [
    "galdiskids = np.left_shift(np.array(list(sgg.intersection(set(sng.values)))), 10) + 27"
   ]
  },
  {
   "cell_type": "code",
   "execution_count": null,
   "metadata": {
    "collapsed": false
   },
   "outputs": [],
   "source": [
    "len(sng.values)"
   ]
  },
  {
   "cell_type": "code",
   "execution_count": null,
   "metadata": {
    "collapsed": false
   },
   "outputs": [],
   "source": [
    "gals = pd.read_csv('SNGalDiskCatalog.dat', sep='\\s*', skiprows=410).values"
   ]
  },
  {
   "cell_type": "code",
   "execution_count": null,
   "metadata": {
    "collapsed": false
   },
   "outputs": [],
   "source": [
    "gdiskids = np.left_shift(df.galtileid, 10).values + 27"
   ]
  },
  {
   "cell_type": "code",
   "execution_count": null,
   "metadata": {
    "collapsed": false
   },
   "outputs": [],
   "source": [
    "gdiskids"
   ]
  },
  {
   "cell_type": "code",
   "execution_count": null,
   "metadata": {
    "collapsed": false
   },
   "outputs": [],
   "source": [
    "with open('SNGalDiskCatalog.dat') as f:\n",
    "    contents = f.read()\n",
    "\n",
    "lines = contents.split('\\n')\n",
    "lines.pop()\n",
    "# print len(contents)\n",
    "with open('SNHostFile.dat', 'w') as f:\n",
    "    for i, line in enumerate(lines):\n",
    "        if i < 410:\n",
    "            # print line\n",
    "            f.write(line+'\\n')\n",
    "        else:\n",
    "            objint = int(line.split()[1])\n",
    "            # print i, int(line.split()[1])\n",
    "            if objint in galdiskids:\n",
    "                f.write(line+'\\n')"
   ]
  },
  {
   "cell_type": "code",
   "execution_count": null,
   "metadata": {
    "collapsed": true
   },
   "outputs": [],
   "source": [
    "with open('SNGalDiskCatalog.dat') as f:\n",
    "    contents = f.read()"
   ]
  },
  {
   "cell_type": "code",
   "execution_count": null,
   "metadata": {
    "collapsed": false
   },
   "outputs": [],
   "source": [
    "contents.split('\\n').pop()"
   ]
  },
  {
   "cell_type": "code",
   "execution_count": null,
   "metadata": {
    "collapsed": false
   },
   "outputs": [],
   "source": [
    "contents.split('\\n').pop()"
   ]
  },
  {
   "cell_type": "code",
   "execution_count": null,
   "metadata": {
    "collapsed": false
   },
   "outputs": [],
   "source": [
    "gals[:, 1].astype(np.int).sort()"
   ]
  },
  {
   "cell_type": "code",
   "execution_count": null,
   "metadata": {
    "collapsed": false
   },
   "outputs": [],
   "source": [
    "61449608101915 in gals[:, 1]"
   ]
  },
  {
   "cell_type": "code",
   "execution_count": null,
   "metadata": {
    "collapsed": false
   },
   "outputs": [],
   "source": [
    "galdiskids"
   ]
  },
  {
   "cell_type": "code",
   "execution_count": null,
   "metadata": {
    "collapsed": false
   },
   "outputs": [],
   "source": [
    "np.left_shift(np.array(list(sgg.intersection(set(sng.values)))), 10) + 27"
   ]
  },
  {
   "cell_type": "code",
   "execution_count": null,
   "metadata": {
    "collapsed": true
   },
   "outputs": [],
   "source": [
    "SNgaltileIds = df.galtileid"
   ]
  },
  {
   "cell_type": "code",
   "execution_count": null,
   "metadata": {
    "collapsed": false
   },
   "outputs": [],
   "source": [
    "np.left_shift(SNgaltileIds, 10) + gdiskobjid"
   ]
  },
  {
   "cell_type": "code",
   "execution_count": null,
   "metadata": {
    "collapsed": false
   },
   "outputs": [],
   "source": [
    "len(phosimGals.column_outputs)"
   ]
  },
  {
   "cell_type": "code",
   "execution_count": null,
   "metadata": {
    "collapsed": false
   },
   "outputs": [],
   "source": [
    "len(pc.column_outputs)"
   ]
  },
  {
   "cell_type": "code",
   "execution_count": null,
   "metadata": {
    "collapsed": false,
    "scrolled": true
   },
   "outputs": [],
   "source": [
    "pc = PhoSimCatalogSN(db_obj=s, obs_metadata=TwinklesObsMetaDataSmall, column_outputs=['EBV'])\n",
    "pc.writeSedFile = True\n",
    "pc.surveyStartDate = 49500\n",
    "pc.suppressDimSN = True"
   ]
  },
  {
   "cell_type": "code",
   "execution_count": null,
   "metadata": {
    "collapsed": true
   },
   "outputs": [],
   "source": [
    "from copy import deepcopy"
   ]
  },
  {
   "cell_type": "code",
   "execution_count": null,
   "metadata": {
    "collapsed": false
   },
   "outputs": [],
   "source": [
    "len(pc.column_outputs)"
   ]
  },
  {
   "cell_type": "code",
   "execution_count": null,
   "metadata": {
    "collapsed": false
   },
   "outputs": [],
   "source": [
    "for col in phosimGals.column_outputs:\n",
    "    if not col in pc.column_outputs:\n",
    "        print col"
   ]
  },
  {
   "cell_type": "code",
   "execution_count": null,
   "metadata": {
    "collapsed": false
   },
   "outputs": [],
   "source": [
    "pc.write_catalog('SNPhoSimCatalog.dat')"
   ]
  },
  {
   "cell_type": "code",
   "execution_count": null,
   "metadata": {
    "collapsed": false
   },
   "outputs": [],
   "source": [
    "np.array([3.2, 1.2]) *1.2"
   ]
  },
  {
   "cell_type": "code",
   "execution_count": null,
   "metadata": {
    "collapsed": false
   },
   "outputs": [],
   "source": [
    "0.1/11.113"
   ]
  },
  {
   "cell_type": "code",
   "execution_count": null,
   "metadata": {
    "collapsed": false
   },
   "outputs": [],
   "source": [
    "!wc -l SNPhoSimCatalog.dat"
   ]
  },
  {
   "cell_type": "code",
   "execution_count": null,
   "metadata": {
    "collapsed": false
   },
   "outputs": [],
   "source": [
    "!head -22 SNPhoSimCatalog.dat"
   ]
  },
  {
   "cell_type": "code",
   "execution_count": null,
   "metadata": {
    "collapsed": false
   },
   "outputs": [],
   "source": [
    "phdf = pd.read_csv('SNPhoSimCatalog.dat', skiprows=18, sep='\\s*')"
   ]
  },
  {
   "cell_type": "code",
   "execution_count": null,
   "metadata": {
    "collapsed": false
   },
   "outputs": [],
   "source": [
    "phdf.rename(columns={})"
   ]
  },
  {
   "cell_type": "code",
   "execution_count": null,
   "metadata": {
    "collapsed": false
   },
   "outputs": [],
   "source": [
    "phdf.head()"
   ]
  },
  {
   "cell_type": "code",
   "execution_count": null,
   "metadata": {
    "collapsed": false
   },
   "outputs": [],
   "source": [
    "plt.hist(np.asarray(phdf)[:,1], log=True)"
   ]
  },
  {
   "cell_type": "code",
   "execution_count": null,
   "metadata": {
    "collapsed": true
   },
   "outputs": [],
   "source": [
    "def phosimOutDF(fname0, fname1):\n",
    "    \n",
    "    phosimOut0 = pd.read_csv(fname0, sep='\\s+')\n",
    "    phosimOut1 = pd.read_csv(fname1, sep='\\s+')\n",
    "    phosimOut0.Photons += phosimOut1.Photons\n",
    "    phosimOut0."
   ]
  },
  {
   "cell_type": "code",
   "execution_count": 29,
   "metadata": {
    "collapsed": false
   },
   "outputs": [],
   "source": [
    "phosimOuta = pd.read_csv('/Users/rbiswas/soft/phosim_release/output/centroid_lsst_e_203482_R22_S11_E000.txt', \n",
    "                         sep='\\s+')"
   ]
  },
  {
   "cell_type": "code",
   "execution_count": 30,
   "metadata": {
    "collapsed": true
   },
   "outputs": [],
   "source": [
    "phosimOutb = pd.read_csv('/Users/rbiswas/soft/phosim_release/output/centroid_lsst_e_203482_R22_S11_E001.txt', sep='\\s+')"
   ]
  },
  {
   "cell_type": "code",
   "execution_count": 31,
   "metadata": {
    "collapsed": true
   },
   "outputs": [],
   "source": [
    "phosimOuta.Photons = phosimOuta.Photons + phosimOutb.Photons"
   ]
  },
  {
   "cell_type": "code",
   "execution_count": 32,
   "metadata": {
    "collapsed": false
   },
   "outputs": [],
   "source": [
    "phosimOuta['SourceID'] = phosimOuta.SourceID.astype(int)"
   ]
  },
  {
   "cell_type": "code",
   "execution_count": 33,
   "metadata": {
    "collapsed": false
   },
   "outputs": [],
   "source": [
    "phosimOuta['snid'] = np.right_shift(phosimOuta['SourceID'], 10)"
   ]
  },
  {
   "cell_type": "code",
   "execution_count": 34,
   "metadata": {
    "collapsed": false
   },
   "outputs": [],
   "source": [
    "phosimOuta.set_index('snid', inplace=True)"
   ]
  },
  {
   "cell_type": "code",
   "execution_count": 36,
   "metadata": {
    "collapsed": false
   },
   "outputs": [
    {
     "data": {
      "text/plain": [
       "-31.282399999999999"
      ]
     },
     "execution_count": 36,
     "metadata": {},
     "output_type": "execute_result"
    }
   ],
   "source": [
    "sncatdf.adu.min()"
   ]
  },
  {
   "cell_type": "code",
   "execution_count": 37,
   "metadata": {
    "collapsed": false
   },
   "outputs": [],
   "source": [
    "sncatdf['ratio'] = sncatdf.adu / phosimOuta.Photons"
   ]
  },
  {
   "cell_type": "code",
   "execution_count": 38,
   "metadata": {
    "collapsed": true
   },
   "outputs": [],
   "source": [
    "sncatdf['Photons'] = phosimOuta.Photons"
   ]
  },
  {
   "cell_type": "code",
   "execution_count": null,
   "metadata": {
    "collapsed": false
   },
   "outputs": [],
   "source": [
    "sncatdf.query('ratio == 0.')"
   ]
  },
  {
   "cell_type": "code",
   "execution_count": 43,
   "metadata": {
    "collapsed": true
   },
   "outputs": [],
   "source": [
    "from scipy.stats import poisson"
   ]
  },
  {
   "cell_type": "code",
   "execution_count": 42,
   "metadata": {
    "collapsed": false
   },
   "outputs": [
    {
     "data": {
      "text/plain": [
       "<matplotlib.legend.Legend at 0x1245fbed0>"
      ]
     },
     "execution_count": 42,
     "metadata": {},
     "output_type": "execute_result"
    },
    {
     "data": {
      "image/png": "iVBORw0KGgoAAAANSUhEUgAAAeMAAAFmCAYAAABeCvJTAAAABHNCSVQICAgIfAhkiAAAAAlwSFlz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\nJUkqzDCWJKmw/w/vd08ZFGt8wwAAAABJRU5ErkJggg==\n",
      "text/plain": [
       "<matplotlib.figure.Figure at 0x122bceed0>"
      ]
     },
     "metadata": {},
     "output_type": "display_data"
    }
   ],
   "source": [
    "fig, ax = plt.subplots()\n",
    "sns.distplot(sncatdf.ratio.replace([-np.inf, np.inf],np.nan).dropna(), bins=np.arange(0.0, 5., 0.05), \n",
    "             rug_kws=False,kde=False, norm_hist=False).set_xlim(0,)\n",
    "sns.distributions()\n",
    "#ax.hist(df.ratio.replace([-np.inf, np.inf],np.nan).dropna() ,bins=np.arange(0., 5, 0.05))\n",
    "ax.axvline(1./2.3, color='k', **{'label':'1/gain', 'linestyle':'dashed'})\n",
    "ax.set_xlabel('adu/Photons')\n",
    "ax.legend(loc='best')"
   ]
  },
  {
   "cell_type": "code",
   "execution_count": 50,
   "metadata": {
    "collapsed": true
   },
   "outputs": [],
   "source": [
    "rv = poisson(mu=1)"
   ]
  },
  {
   "cell_type": "code",
   "execution_count": 51,
   "metadata": {
    "collapsed": true
   },
   "outputs": [],
   "source": [
    "x = np.arange(0, 10)"
   ]
  },
  {
   "cell_type": "code",
   "execution_count": 55,
   "metadata": {
    "collapsed": false
   },
   "outputs": [
    {
     "data": {
      "text/plain": [
       "[<matplotlib.lines.Line2D at 0x11bf21190>]"
      ]
     },
     "execution_count": 55,
     "metadata": {},
     "output_type": "execute_result"
    },
    {
     "data": {
      "image/png": "iVBORw0KGgoAAAANSUhEUgAAAe0AAAFXCAYAAACP5RboAAAABHNCSVQICAgIfAhkiAAAAAlwSFlz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\nW5KkQhjakiQV4v8DGIvvM/VcIHYAAAAASUVORK5CYII=\n",
      "text/plain": [
       "<matplotlib.figure.Figure at 0x12561d710>"
      ]
     },
     "metadata": {},
     "output_type": "display_data"
    }
   ],
   "source": [
    "plt.plot(x, rv.pmf(x), 'bo')"
   ]
  },
  {
   "cell_type": "code",
   "execution_count": 52,
   "metadata": {
    "collapsed": false
   },
   "outputs": [
    {
     "ename": "SyntaxError",
     "evalue": "invalid syntax (<ipython-input-52-7080adb9fa8c>, line 1)",
     "output_type": "error",
     "traceback": [
      "\u001b[0;36m  File \u001b[0;32m\"<ipython-input-52-7080adb9fa8c>\"\u001b[0;36m, line \u001b[0;32m1\u001b[0m\n\u001b[0;31m    )plt.hist(sncatdf.Photons / sncatdf.adu / 2.3, np.arange(-0.5,5.5), histtype='step')\u001b[0m\n\u001b[0m    ^\u001b[0m\n\u001b[0;31mSyntaxError\u001b[0m\u001b[0;31m:\u001b[0m invalid syntax\n"
     ]
    }
   ],
   "source": [
    "plt.hist(sncatdf.Photons / sncatdf.adu / 2.3, np.arange(-0.5,5.5), histtype='step')\n",
    "plt.plot()"
   ]
  },
  {
   "cell_type": "code",
   "execution_count": null,
   "metadata": {
    "collapsed": true
   },
   "outputs": [],
   "source": [
    "plt.plot(poisson.pmf)"
   ]
  },
  {
   "cell_type": "code",
   "execution_count": null,
   "metadata": {
    "collapsed": false
   },
   "outputs": [],
   "source": [
    "df.query('ratio > 1000.')[['adu', 'Photons', 'flux', 'DeltaT', 'mag', 'mag_err', 'flux_err']]"
   ]
  },
  {
   "cell_type": "code",
   "execution_count": null,
   "metadata": {
    "collapsed": false
   },
   "outputs": [],
   "source": [
    "x = df.query('ratio ==0.').Photons.copy(deep=True)"
   ]
  },
  {
   "cell_type": "code",
   "execution_count": null,
   "metadata": {
    "collapsed": false
   },
   "outputs": [],
   "source": [
    "x.sort(ascending=False); x"
   ]
  },
  {
   "cell_type": "code",
   "execution_count": null,
   "metadata": {
    "collapsed": true
   },
   "outputs": [],
   "source": [
    "fig.savefig('invGain.png')"
   ]
  },
  {
   "cell_type": "code",
   "execution_count": null,
   "metadata": {
    "collapsed": false
   },
   "outputs": [],
   "source": [
    "import seaborn as sns\n",
    "sns.set()"
   ]
  },
  {
   "cell_type": "code",
   "execution_count": null,
   "metadata": {
    "collapsed": false
   },
   "outputs": [],
   "source": [
    "print len(df.query('ratio > 10000')), df.query('ratio > 10000').ratio.unique()\n",
    "print len(df.query('ratio < -10000')), df.query('ratio < -10000').ratio.unique()"
   ]
  },
  {
   "cell_type": "code",
   "execution_count": null,
   "metadata": {
    "collapsed": false
   },
   "outputs": [],
   "source": [
    "df.query('ratio >500.').adu "
   ]
  },
  {
   "cell_type": "code",
   "execution_count": null,
   "metadata": {
    "collapsed": false
   },
   "outputs": [],
   "source": [
    "_df = df.query('ratio == 0.')\n",
    "_dff = df.query('ratio < 0.')\n",
    "_ = plt.hist(_df.DeltaT / (_df.z + 1.), bins=np.arange(-30, 70., 1.), histtype='step', color='b', alpha=1., lw=2.)\n",
    "_ = plt.hist(_dff.DeltaT / (_dff.z + 1.), bins=np.arange(-30, 70., 1.), histtype='step', color='r', alpha=1., lw=2.)\n",
    "plt.axvline(-20., color='k')\n",
    "plt.axvline(50., color='k')"
   ]
  },
  {
   "cell_type": "code",
   "execution_count": null,
   "metadata": {
    "collapsed": false
   },
   "outputs": [],
   "source": [
    "_df = df[['z', 'ratio']].replace([-np.inf, np.inf], [-20., 200.]).dropna()\n",
    "#sns.jointplot(_df.z, _df.ratio, kind='kde')\n",
    "plt.plot(_df.z, _df.ratio, 'o')"
   ]
  },
  {
   "cell_type": "code",
   "execution_count": null,
   "metadata": {
    "collapsed": false
   },
   "outputs": [],
   "source": [
    "adus = df.adu.dropna().sum()\n",
    "photons = phosimOuta.replace([np.inf],np.nan).Photons.dropna().sum()"
   ]
  },
  {
   "cell_type": "code",
   "execution_count": null,
   "metadata": {
    "collapsed": false
   },
   "outputs": [],
   "source": [
    "photons / adus"
   ]
  },
  {
   "cell_type": "code",
   "execution_count": null,
   "metadata": {
    "collapsed": false
   },
   "outputs": [],
   "source": [
    "active = df.query('SNR > 0.').replace([np.inf],np.nan).dropna().ratio\n",
    "bright = df.query('SNR > 5.').replace([np.inf],np.nan).dropna().ratio"
   ]
  },
  {
   "cell_type": "code",
   "execution_count": null,
   "metadata": {
    "collapsed": false
   },
   "outputs": [],
   "source": [
    "s = 0.05\n",
    "plt.hist(active, color='r', bins=np.arange(0., 25, s), histtype='step', label='SNR>0', lw=2)\n",
    "plt.hist(bright, color='k', bins=np.arange(0., 25, s), histtype='step', label='SNR>5', lw=2)\n",
    "plt.legend(loc='best')\n",
    "plt.axvline(1./2.3)\n",
    "plt.xlim(0, 5)"
   ]
  },
  {
   "cell_type": "code",
   "execution_count": null,
   "metadata": {
    "collapsed": true
   },
   "outputs": [],
   "source": [
    "import lsst.afw.image as afwi"
   ]
  },
  {
   "cell_type": "code",
   "execution_count": null,
   "metadata": {
    "collapsed": true
   },
   "outputs": [],
   "source": [
    "img0 = afwi.ImageF('/Users/rbiswas/soft/phosim_release/output/lsst_e_203482_f2_R22_S11_E000.fits.gz')\n",
    "img1 = afwi.ImageF('/Users/rbiswas/soft/phosim_release/output/lsst_e_203482_f2_R22_S11_E001.fits.gz')"
   ]
  },
  {
   "cell_type": "code",
   "execution_count": null,
   "metadata": {
    "collapsed": false
   },
   "outputs": [],
   "source": [
    "arr0 = img0.getArray()\n",
    "arr1 = img1.getArray()"
   ]
  },
  {
   "cell_type": "code",
   "execution_count": null,
   "metadata": {
    "collapsed": false
   },
   "outputs": [],
   "source": [
    "arr = arr0 + arr1\n",
    "electrons = arr.sum()"
   ]
  },
  {
   "cell_type": "code",
   "execution_count": null,
   "metadata": {
    "collapsed": false
   },
   "outputs": [],
   "source": [
    "adus  = df.adu.dropna().sum()"
   ]
  },
  {
   "cell_type": "code",
   "execution_count": null,
   "metadata": {
    "collapsed": false
   },
   "outputs": [],
   "source": [
    "2.3 / np.sqrt(2)"
   ]
  },
  {
   "cell_type": "code",
   "execution_count": null,
   "metadata": {
    "collapsed": false
   },
   "outputs": [],
   "source": [
    "electrons / adus"
   ]
  },
  {
   "cell_type": "code",
   "execution_count": null,
   "metadata": {
    "collapsed": false
   },
   "outputs": [],
   "source": [
    "x.replace([-np.inf, np.inf], np.nan, inplace=True)"
   ]
  },
  {
   "cell_type": "code",
   "execution_count": null,
   "metadata": {
    "collapsed": false
   },
   "outputs": [],
   "source": [
    "x.dropna().hist()"
   ]
  },
  {
   "cell_type": "code",
   "execution_count": null,
   "metadata": {
    "collapsed": true
   },
   "outputs": [],
   "source": []
  },
  {
   "cell_type": "code",
   "execution_count": null,
   "metadata": {
    "collapsed": false
   },
   "outputs": [],
   "source": [
    "df.set_index('snid', inplace=True)"
   ]
  },
  {
   "cell_type": "code",
   "execution_count": null,
   "metadata": {
    "collapsed": false
   },
   "outputs": [],
   "source": [
    "x.dropna()"
   ]
  },
  {
   "cell_type": "code",
   "execution_count": null,
   "metadata": {
    "collapsed": false
   },
   "outputs": [],
   "source": [
    "df.index.size"
   ]
  },
  {
   "cell_type": "code",
   "execution_count": null,
   "metadata": {
    "collapsed": false
   },
   "outputs": [],
   "source": [
    "phosimOuta.index.dtype"
   ]
  },
  {
   "cell_type": "code",
   "execution_count": null,
   "metadata": {
    "collapsed": false
   },
   "outputs": [],
   "source": [
    "6145532174336041 in df.index.values"
   ]
  },
  {
   "cell_type": "code",
   "execution_count": null,
   "metadata": {
    "collapsed": false
   },
   "outputs": [],
   "source": [
    "df.iat[6145532174336041]"
   ]
  },
  {
   "cell_type": "code",
   "execution_count": null,
   "metadata": {
    "collapsed": true
   },
   "outputs": [],
   "source": [
    "phosimOuta['snid']  = phosimOuta.index.values"
   ]
  },
  {
   "cell_type": "code",
   "execution_count": null,
   "metadata": {
    "collapsed": true
   },
   "outputs": [],
   "source": [
    "phosimOuta['snid'] = np.right_shift(phosimOuta['snid'], 10)"
   ]
  },
  {
   "cell_type": "code",
   "execution_count": null,
   "metadata": {
    "collapsed": true
   },
   "outputs": [],
   "source": [
    "phosimOuta.set_index('snid', inplace=True)"
   ]
  },
  {
   "cell_type": "code",
   "execution_count": null,
   "metadata": {
    "collapsed": false
   },
   "outputs": [],
   "source": [
    "phosimOuta['adu']/ phosimOuta['Photons']"
   ]
  },
  {
   "cell_type": "code",
   "execution_count": null,
   "metadata": {
    "collapsed": false
   },
   "outputs": [],
   "source": [
    "phosimOuta.head()"
   ]
  },
  {
   "cell_type": "code",
   "execution_count": null,
   "metadata": {
    "collapsed": false
   },
   "outputs": [],
   "source": [
    "df.index.min()"
   ]
  },
  {
   "cell_type": "code",
   "execution_count": null,
   "metadata": {
    "collapsed": false
   },
   "outputs": [],
   "source": [
    "phosimOuta.index.min()"
   ]
  },
  {
   "cell_type": "code",
   "execution_count": null,
   "metadata": {
    "collapsed": false
   },
   "outputs": [],
   "source": [
    "np.left_shift(6000000189404,10) < phosimOuta.index.min()"
   ]
  },
  {
   "cell_type": "code",
   "execution_count": null,
   "metadata": {
    "collapsed": false
   },
   "outputs": [],
   "source": [
    "np.right_shift(np.left_shift(6000000189404,10),10)"
   ]
  },
  {
   "cell_type": "code",
   "execution_count": null,
   "metadata": {
    "collapsed": false
   },
   "outputs": [],
   "source": [
    "id(None)"
   ]
  },
  {
   "cell_type": "code",
   "execution_count": null,
   "metadata": {
    "collapsed": false
   },
   "outputs": [],
   "source": [
    "x  = None"
   ]
  },
  {
   "cell_type": "code",
   "execution_count": null,
   "metadata": {
    "collapsed": false
   },
   "outputs": [],
   "source": [
    "id(x)"
   ]
  },
  {
   "cell_type": "code",
   "execution_count": null,
   "metadata": {
    "collapsed": true
   },
   "outputs": [],
   "source": [
    "y = None"
   ]
  },
  {
   "cell_type": "code",
   "execution_count": null,
   "metadata": {
    "collapsed": false
   },
   "outputs": [],
   "source": [
    "xx =3"
   ]
  },
  {
   "cell_type": "code",
   "execution_count": null,
   "metadata": {
    "collapsed": true
   },
   "outputs": [],
   "source": [
    "yy  = 3"
   ]
  },
  {
   "cell_type": "code",
   "execution_count": null,
   "metadata": {
    "collapsed": false
   },
   "outputs": [],
   "source": [
    " == y"
   ]
  },
  {
   "cell_type": "code",
   "execution_count": null,
   "metadata": {
    "collapsed": false
   },
   "outputs": [],
   "source": [
    "x is y"
   ]
  },
  {
   "cell_type": "code",
   "execution_count": null,
   "metadata": {
    "collapsed": false
   },
   "outputs": [],
   "source": [
    "id(xx)"
   ]
  },
  {
   "cell_type": "code",
   "execution_count": null,
   "metadata": {
    "collapsed": false
   },
   "outputs": [],
   "source": [
    "id(yy)"
>>>>>>> Added galacticRV to galaxy phosim catalog in phoSimCatlogExamples.py
   ]
  },
  {
   "cell_type": "markdown",
   "metadata": {},
   "source": [
    "# Scratch"
   ]
  },
  {
   "cell_type": "code",
   "execution_count": null,
   "metadata": {
    "collapsed": true
   },
   "outputs": [],
   "source": []
  },
  {
   "cell_type": "code",
   "execution_count": null,
   "metadata": {
    "collapsed": false
   },
   "outputs": [],
   "source": [
    "names = s.get_column_names()\n",
    "\n",
    "for key in names:\n",
    "    if 'snra' in names[key]:\n",
    "        print key\n",
    "\n",
    "print names['TwinkSN']"
   ]
  },
  {
   "cell_type": "code",
   "execution_count": null,
   "metadata": {
    "collapsed": false
   },
   "outputs": [],
   "source": [
    "class SNCopy(InstanceCatalog):\n",
    "    \n",
    "    column_outputs = ['raJ2000', 'decJ2000', 'snid', 'galtileid','t0', 'x0', 'x1', 'c', 'redshift', ]\n",
    "    override_formats = {'raJ2000': '%8e', 'decJ2000': '%8e', 'x0':'%8e'}\n",
    "                        #'x0':'%8e', 'x1':'%8e', 'c':'%8e', 't0':'%8e'}\n",
    "        \n"
   ]
  }
 ],
 "metadata": {
  "kernelspec": {
   "display_name": "Python 2",
   "language": "python",
   "name": "python2"
  },
  "language_info": {
   "codemirror_mode": {
    "name": "ipython",
    "version": 2
   },
   "file_extension": ".py",
   "mimetype": "text/x-python",
   "name": "python",
   "nbconvert_exporter": "python",
   "pygments_lexer": "ipython2",
   "version": "2.7.11"
  }
 },
 "nbformat": 4,
 "nbformat_minor": 0
}
