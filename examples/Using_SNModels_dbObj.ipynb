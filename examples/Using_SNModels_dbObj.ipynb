{
 "cells": [
  {
   "cell_type": "code",
   "execution_count": 1,
   "metadata": {
    "collapsed": false
   },
   "outputs": [],
   "source": [
    "import numpy as np\n",
    "%matplotlib inline\n",
    "import matplotlib.pyplot as plt"
   ]
  },
  {
   "cell_type": "code",
   "execution_count": 2,
   "metadata": {
    "collapsed": false
   },
   "outputs": [],
   "source": [
    "from lsst.sims.catalogs.generation.db import CatalogDBObject\n",
    "from lsst.sims.catalogs.generation.db import CatalogDBObject"
   ]
  },
  {
   "cell_type": "code",
   "execution_count": 3,
   "metadata": {
    "collapsed": false
   },
   "outputs": [
    {
     "name": "stderr",
     "output_type": "stream",
     "text": [
      "/usr/local/manual/anaconda/lib/python2.7/site-packages/IPython/kernel/__init__.py:13: ShimWarning: The `IPython.kernel` package has been deprecated. You should import from ipykernel or jupyter_client instead.\n",
      "  \"You should import from ipykernel or jupyter_client instead.\", ShimWarning)\n",
      "Duplicate object type id 25 specified: \n",
      "Output object ids may not be unique.\n",
      "This may not be a problem if you do not want globally unique id values\n",
      "Duplicate object type id 40 specified: \n",
      "Output object ids may not be unique.\n",
      "This may not be a problem if you do not want globally unique id values\n",
      "Duplicate object type id 40 specified: \n",
      "Output object ids may not be unique.\n",
      "This may not be a problem if you do not want globally unique id values\n",
      "Duplicate object type id 40 specified: \n",
      "Output object ids may not be unique.\n",
      "This may not be a problem if you do not want globally unique id values\n",
      "Duplicate object type id 40 specified: \n",
      "Output object ids may not be unique.\n",
      "This may not be a problem if you do not want globally unique id values\n"
     ]
    }
   ],
   "source": [
    "import lsst.sims.catUtils.baseCatalogModels as bcm\n",
    "from lsst.sims.catUtils.baseCatalogModels import GalaxyTileObj\n",
    "from lsst.sims.catalogs.measures.instance import InstanceCatalog\n",
    "from lsst.sims.utils import ObservationMetaData\n",
    "\n"
   ]
  },
  {
   "cell_type": "code",
   "execution_count": 4,
   "metadata": {
    "collapsed": false
   },
   "outputs": [],
   "source": [
    "from lsst.sims.catUtils.baseCatalogModels import SNObj"
   ]
  },
  {
   "cell_type": "code",
   "execution_count": 5,
   "metadata": {
    "collapsed": false
   },
   "outputs": [],
   "source": [
    "s  = SNObj()"
   ]
  },
  {
   "cell_type": "code",
   "execution_count": 6,
   "metadata": {
    "collapsed": false
   },
   "outputs": [
    {
     "name": "stderr",
     "output_type": "stream",
     "text": [
      "/usr/local/manual/anaconda/lib/python2.7/site-packages/sqlalchemy/dialects/mssql/base.py:1294: SAWarning: Did not recognize type 'geography' of column 'geopoint'\n",
      "  return fn(*arg, **kw)\n",
      "/usr/local/manual/anaconda/lib/python2.7/site-packages/sqlalchemy/dialects/mssql/base.py:1294: SAWarning: Did not recognize type 'geography' of column 'geocenter'\n",
      "  return fn(*arg, **kw)\n",
      "/usr/local/manual/anaconda/lib/python2.7/site-packages/sqlalchemy/dialects/mssql/base.py:1294: SAWarning: Did not recognize type 'geography' of column 'geobox'\n",
      "  return fn(*arg, **kw)\n"
     ]
    }
   ],
   "source": [
    "names = s.get_column_names()"
   ]
  },
  {
   "cell_type": "code",
   "execution_count": 7,
   "metadata": {
    "collapsed": false
   },
   "outputs": [
    {
     "name": "stdout",
     "output_type": "stream",
     "text": [
      "TwinkSN\n"
     ]
    }
   ],
   "source": [
    "for key in names:\n",
    "    if 'snra' in names[key]:\n",
    "        print key"
   ]
  },
  {
   "cell_type": "code",
   "execution_count": 8,
   "metadata": {
    "collapsed": false
   },
   "outputs": [
    {
     "name": "stdout",
     "output_type": "stream",
     "text": [
      "['galtileid', 'htmid', 'snid', 't0', 'c', 'x1', 'x0', 'redshift', 'snra', 'sndec', 'cx', 'cy', 'cz']\n"
     ]
    }
   ],
   "source": [
    "print names['TwinkSN']"
   ]
  },
  {
   "cell_type": "code",
   "execution_count": 9,
   "metadata": {
    "collapsed": false
   },
   "outputs": [],
   "source": [
    "class SNCopy(InstanceCatalog):\n",
    "    \n",
    "    column_outputs = ['raJ2000', 'decJ2000', 'snid', 'galtileid','t0', 'x0', 'x1', 'c', 'redshift', ]\n",
    "    override_formats = {'raJ2000': '%8e', 'decJ2000': '%8e', 'x0':'%8e'}\n",
    "                        #'x0':'%8e', 'x1':'%8e', 'c':'%8e', 't0':'%8e'}\n",
    "        \n",
    "class TSNCopy(InstanceCatalog):\n",
    "    \n",
    "    column_outputs = ['raJ2000', 'decJ2000', 'Tsnid', 'Tgaltileid','Tt0', 'Tx0', 'Tx1', 'Tc', 'Tredshift', ]\n",
    "    override_formats = {'raJ2000': '%8e', 'decJ2000': '%8e', 'x0':'%8e'}\n",
    "\n"
   ]
  },
  {
   "cell_type": "code",
   "execution_count": 10,
   "metadata": {
    "collapsed": false
   },
   "outputs": [],
   "source": [
    "degConv = np.array([1., 1./60., 1./3600.])\n",
    "raConv = degConv / 24.0 * 360.\n",
    "centralRA = np.dot(np.array([3., 32., 30]), raConv) #03h 32m 30s\n",
    "centralDec = np.dot(np.array([-28, 6., 0.]), degConv)\n",
    "patchRadius = 0.4 * np.sqrt(2) #np.dot(np.array([0.0, 10.0, 0.]), degConv)"
   ]
  },
  {
   "cell_type": "code",
   "execution_count": 11,
   "metadata": {
    "collapsed": false
   },
   "outputs": [],
   "source": [
    "TwinklesObsMetaDataSmall = ObservationMetaData(boundType='circle',pointingRA=centralRA,pointingDec=centralDec,\n",
    "                                          boundLength=0.15, mjd=60703.0, bandpassName='r', m5=23.)"
   ]
  },
  {
   "cell_type": "code",
   "execution_count": 12,
   "metadata": {
    "collapsed": false
   },
   "outputs": [
    {
     "data": {
      "text/plain": [
       "'r'"
      ]
     },
     "execution_count": 12,
     "metadata": {},
     "output_type": "execute_result"
    }
   ],
   "source": [
    "TwinklesObsMetaDataSmall.bandpass"
   ]
  },
  {
   "cell_type": "code",
   "execution_count": 13,
   "metadata": {
    "collapsed": false
   },
   "outputs": [],
   "source": [
    "#tsmall = SNCopy(db_obj=s, obs_metadata=TwinklesObsMetaDataSmall)"
   ]
  },
  {
   "cell_type": "code",
   "execution_count": 14,
   "metadata": {
    "collapsed": false
   },
   "outputs": [],
   "source": [
    "#tsmall.write_catalog('TwinklesSN.dat')"
   ]
  },
  {
   "cell_type": "code",
   "execution_count": 15,
   "metadata": {
    "collapsed": false
   },
   "outputs": [],
   "source": [
    "#!wc -l TwinklesSN.dat"
   ]
  },
  {
   "cell_type": "code",
   "execution_count": 16,
   "metadata": {
    "collapsed": false
   },
   "outputs": [],
   "source": [
    "#!head TwinklesSN.dat"
   ]
  },
  {
   "cell_type": "code",
   "execution_count": 17,
   "metadata": {
    "collapsed": true
   },
   "outputs": [],
   "source": [
    "#Ttsmall = TSNCopy(db_obj=s, obs_metadata=TwinklesObsMetaDataSmall)"
   ]
  },
  {
   "cell_type": "code",
   "execution_count": 18,
   "metadata": {
    "collapsed": true
   },
   "outputs": [],
   "source": [
    "#Ttsmall.write_catalog('TTwinklesSN.dat')"
   ]
  },
  {
   "cell_type": "code",
   "execution_count": 19,
   "metadata": {
    "collapsed": false
   },
   "outputs": [],
   "source": [
    "#!head TTwinklesSN.dat"
   ]
  },
  {
   "cell_type": "code",
   "execution_count": 20,
   "metadata": {
    "collapsed": false
   },
   "outputs": [],
   "source": [
    "from lsst.sims.catUtils.mixins import TwinkSNCat"
   ]
  },
  {
   "cell_type": "code",
   "execution_count": 21,
   "metadata": {
    "collapsed": false
   },
   "outputs": [
    {
     "data": {
      "text/plain": [
       "'r'"
      ]
     },
     "execution_count": 21,
     "metadata": {},
     "output_type": "execute_result"
    }
   ],
   "source": [
    "TwinklesObsMetaDataSmall.bandpass"
   ]
  },
  {
   "cell_type": "code",
   "execution_count": 22,
   "metadata": {
    "collapsed": false
   },
   "outputs": [
    {
     "name": "stdout",
     "output_type": "stream",
     "text": [
      "('badvalues ', nan)\n",
      "('mjd ', 60703.0)\n",
      "('maxTime', 100.0)\n",
      "('number of cases ', 0)\n"
     ]
    }
   ],
   "source": [
    "sncatalog = TwinkSNCat(db_obj=s, obs_metadata=TwinklesObsMetaDataSmall, \n",
    "                         column_outputs=['snra', 'sndec', 'Tsnid', 'Tx0', 'Tt0', 'flux', 'flux_err', 'mag', 'mag_err'])"
   ]
  },
  {
   "cell_type": "code",
   "execution_count": 23,
   "metadata": {
    "collapsed": false
   },
   "outputs": [
    {
     "data": {
      "text/plain": [
       "True"
      ]
     },
     "execution_count": 23,
     "metadata": {},
     "output_type": "execute_result"
    }
   ],
   "source": [
    "sncatalog.suppressDimSN "
   ]
  },
  {
   "cell_type": "code",
   "execution_count": 24,
   "metadata": {
    "collapsed": false
   },
   "outputs": [
    {
     "name": "stdout",
     "output_type": "stream",
     "text": [
      "('badvalues ', nan)\n",
      "('mjd ', 60703.0)\n",
      "('maxTime', 100.0)\n",
      "('number of cases ', 0)\n",
      "('badvalues ', nan)"
     ]
    },
    {
     "name": "stderr",
     "output_type": "stream",
     "text": [
      "/Users/rbiswas/src/LSST/sims_catutils/python/lsst/sims/catUtils/supernovae/snObject.py:548: RuntimeWarning: divide by zero encountered in log10\n",
      "  return -2.5 * np.log10(fluxinMaggies)\n",
      "/Users/rbiswas/src/LSST/sims_photutils/python/lsst/sims/photUtils/SignalToNoise.py:356: RuntimeWarning: divide by zero encountered in double_scalars\n",
      "  fluxRatio = m5Flux/sourceFlux\n",
      "/Users/rbiswas/src/LSST/sims_catutils/python/lsst/sims/catUtils/supernovae/snObject.py:592: RuntimeWarning: invalid value encountered in double_scalars\n",
      "  return fluxinMaggies / SNR\n",
      "/Users/rbiswas/src/LSST/sims_photutils/python/lsst/sims/photUtils/SignalToNoise.py:258: RuntimeWarning: divide by zero encountered in double_scalars\n",
      "  return 2.5*numpy.log10(1.0+1.0/snr)\n",
      "/Users/rbiswas/src/LSST/sims_catutils/python/lsst/sims/catUtils/supernovae/snObject.py:548: RuntimeWarning: invalid value encountered in log10\n",
      "  return -2.5 * np.log10(fluxinMaggies)\n"
     ]
    },
    {
     "name": "stdout",
     "output_type": "stream",
     "text": [
      "\n",
      "('mjd ', 60703.0)\n",
      "('maxTime', 100.0)\n",
      "('number of cases ', 48186)\n"
     ]
    }
   ],
   "source": [
    "sncatalog.write_catalog('newcat.dat')"
   ]
  },
  {
   "cell_type": "code",
   "execution_count": 25,
   "metadata": {
    "collapsed": false
   },
   "outputs": [
    {
     "name": "stdout",
     "output_type": "stream",
     "text": [
      "    2738 newcat.dat\r\n"
     ]
    }
   ],
   "source": [
    "!wc -l newcat.dat"
   ]
  },
  {
   "cell_type": "code",
   "execution_count": 26,
   "metadata": {
    "collapsed": true
   },
   "outputs": [],
   "source": [
    "import pandas as pd"
   ]
  },
  {
   "cell_type": "code",
   "execution_count": 27,
   "metadata": {
    "collapsed": false
   },
   "outputs": [
    {
     "name": "stderr",
     "output_type": "stream",
     "text": [
      "/usr/local/manual/anaconda/lib/python2.7/site-packages/ipykernel/__main__.py:1: ParserWarning: Falling back to the 'python' engine because the 'c' engine does not support regex separators; you can avoid this warning by specifying engine='python'.\n",
      "  if __name__ == '__main__':\n"
     ]
    }
   ],
   "source": [
    "df = pd.read_csv('newcat.dat', sep=',\\s+')\n",
    "df.rename(columns={'#snid':'snid'}, inplace=True)"
   ]
  },
  {
   "cell_type": "code",
   "execution_count": 28,
   "metadata": {
    "collapsed": false
   },
   "outputs": [
    {
     "data": {
      "text/plain": [
       "60703.0"
      ]
     },
     "execution_count": 28,
     "metadata": {},
     "output_type": "execute_result"
    }
   ],
   "source": [
    "sncatalog.mjdobs"
   ]
  },
  {
   "cell_type": "code",
   "execution_count": 29,
   "metadata": {
    "collapsed": false
   },
   "outputs": [
    {
     "data": {
      "text/plain": [
       "<matplotlib.axes._subplots.AxesSubplot at 0x1150605d0>"
      ]
     },
     "execution_count": 29,
     "metadata": {},
     "output_type": "execute_result"
    },
    {
     "data": {
      "image/png": "[encoded data removed]",
      "text/plain": [
       "<matplotlib.figure.Figure at 0x115060f50>"
      ]
     },
     "metadata": {},
     "output_type": "display_data"
    }
   ],
   "source": [
    "df.t0.hist(bins=4000)"
   ]
  },
  {
   "cell_type": "code",
   "execution_count": 30,
   "metadata": {
    "collapsed": false
   },
   "outputs": [
    {
     "data": {
      "text/html": [
       "<div>\n",
       "<table border=\"1\" class=\"dataframe\">\n",
       "  <thead>\n",
       "    <tr style=\"text-align: right;\">\n",
       "      <th></th>\n",
       "      <th>snid</th>\n",
       "      <th>snra</th>\n",
       "      <th>sndec</th>\n",
       "      <th>z</th>\n",
       "      <th>t0</th>\n",
       "      <th>c</th>\n",
       "      <th>x1</th>\n",
       "      <th>x0</th>\n",
       "      <th>Tsnid</th>\n",
       "      <th>Tx0</th>\n",
       "      <th>Tt0</th>\n",
       "      <th>flux</th>\n",
       "      <th>flux_err</th>\n",
       "      <th>mag</th>\n",
       "      <th>mag_err</th>\n",
       "      <th>DeltaT</th>\n",
       "      <th>SNR</th>\n",
       "    </tr>\n",
       "  </thead>\n",
       "  <tbody>\n",
       "    <tr>\n",
       "      <th>0</th>\n",
       "      <td>6.000015e+10</td>\n",
       "      <td>0.927020</td>\n",
       "      <td>-0.485500</td>\n",
       "      <td>0.6332</td>\n",
       "      <td>60611.8773</td>\n",
       "      <td>-0.178086</td>\n",
       "      <td>-1.1921</td>\n",
       "      <td>0.000009</td>\n",
       "      <td>6.000015e+10</td>\n",
       "      <td>0.0000</td>\n",
       "      <td>1031.8773</td>\n",
       "      <td>0.000000e+00</td>\n",
       "      <td>NaN</td>\n",
       "      <td>inf</td>\n",
       "      <td>inf</td>\n",
       "      <td>91.1227</td>\n",
       "      <td>NaN</td>\n",
       "    </tr>\n",
       "    <tr>\n",
       "      <th>1</th>\n",
       "      <td>1.000006e+16</td>\n",
       "      <td>0.926962</td>\n",
       "      <td>-0.485504</td>\n",
       "      <td>0.4054</td>\n",
       "      <td>60621.6185</td>\n",
       "      <td>-0.009385</td>\n",
       "      <td>0.6193</td>\n",
       "      <td>0.000021</td>\n",
       "      <td>1.000006e+16</td>\n",
       "      <td>0.0000</td>\n",
       "      <td>1041.6185</td>\n",
       "      <td>0.000000e+00</td>\n",
       "      <td>NaN</td>\n",
       "      <td>inf</td>\n",
       "      <td>inf</td>\n",
       "      <td>81.3815</td>\n",
       "      <td>NaN</td>\n",
       "    </tr>\n",
       "    <tr>\n",
       "      <th>2</th>\n",
       "      <td>6.001344e+10</td>\n",
       "      <td>0.927382</td>\n",
       "      <td>-0.485643</td>\n",
       "      <td>0.2033</td>\n",
       "      <td>60757.6829</td>\n",
       "      <td>0.039469</td>\n",
       "      <td>1.2090</td>\n",
       "      <td>0.000092</td>\n",
       "      <td>6.001344e+10</td>\n",
       "      <td>0.0001</td>\n",
       "      <td>1177.6829</td>\n",
       "      <td>0.000000e+00</td>\n",
       "      <td>NaN</td>\n",
       "      <td>inf</td>\n",
       "      <td>inf</td>\n",
       "      <td>-54.6829</td>\n",
       "      <td>NaN</td>\n",
       "    </tr>\n",
       "    <tr>\n",
       "      <th>3</th>\n",
       "      <td>2.000006e+16</td>\n",
       "      <td>0.927277</td>\n",
       "      <td>-0.485492</td>\n",
       "      <td>0.5229</td>\n",
       "      <td>60713.6143</td>\n",
       "      <td>0.007213</td>\n",
       "      <td>-1.0857</td>\n",
       "      <td>0.000011</td>\n",
       "      <td>2.000006e+16</td>\n",
       "      <td>0.0000</td>\n",
       "      <td>1133.6143</td>\n",
       "      <td>5.663650e-10</td>\n",
       "      <td>1.261530e-10</td>\n",
       "      <td>23.117300</td>\n",
       "      <td>0.218394</td>\n",
       "      <td>-10.6143</td>\n",
       "      <td>4.489509</td>\n",
       "    </tr>\n",
       "    <tr>\n",
       "      <th>4</th>\n",
       "      <td>2.000006e+16</td>\n",
       "      <td>0.927289</td>\n",
       "      <td>-0.485549</td>\n",
       "      <td>0.7205</td>\n",
       "      <td>60629.1945</td>\n",
       "      <td>-0.030405</td>\n",
       "      <td>0.8010</td>\n",
       "      <td>0.000004</td>\n",
       "      <td>2.000006e+16</td>\n",
       "      <td>0.0000</td>\n",
       "      <td>1049.1945</td>\n",
       "      <td>1.139955e-11</td>\n",
       "      <td>1.258225e-10</td>\n",
       "      <td>27.357800</td>\n",
       "      <td>2.701345</td>\n",
       "      <td>73.8055</td>\n",
       "      <td>0.090600</td>\n",
       "    </tr>\n",
       "  </tbody>\n",
       "</table>\n",
       "</div>"
      ],
      "text/plain": [
       "           snid      snra     sndec       z          t0         c      x1  \\\n",
       "0  6.000015e+10  0.927020 -0.485500  0.6332  60611.8773 -0.178086 -1.1921   \n",
       "1  1.000006e+16  0.926962 -0.485504  0.4054  60621.6185 -0.009385  0.6193   \n",
       "2  6.001344e+10  0.927382 -0.485643  0.2033  60757.6829  0.039469  1.2090   \n",
       "3  2.000006e+16  0.927277 -0.485492  0.5229  60713.6143  0.007213 -1.0857   \n",
       "4  2.000006e+16  0.927289 -0.485549  0.7205  60629.1945 -0.030405  0.8010   \n",
       "\n",
       "         x0         Tsnid     Tx0        Tt0          flux      flux_err  \\\n",
       "0  0.000009  6.000015e+10  0.0000  1031.8773  0.000000e+00           NaN   \n",
       "1  0.000021  1.000006e+16  0.0000  1041.6185  0.000000e+00           NaN   \n",
       "2  0.000092  6.001344e+10  0.0001  1177.6829  0.000000e+00           NaN   \n",
       "3  0.000011  2.000006e+16  0.0000  1133.6143  5.663650e-10  1.261530e-10   \n",
       "4  0.000004  2.000006e+16  0.0000  1049.1945  1.139955e-11  1.258225e-10   \n",
       "\n",
       "         mag   mag_err   DeltaT       SNR  \n",
       "0        inf       inf  91.1227       NaN  \n",
       "1        inf       inf  81.3815       NaN  \n",
       "2        inf       inf -54.6829       NaN  \n",
       "3  23.117300  0.218394 -10.6143  4.489509  \n",
       "4  27.357800  2.701345  73.8055  0.090600  "
      ]
     },
     "execution_count": 30,
     "metadata": {},
     "output_type": "execute_result"
    }
   ],
   "source": [
    "df['DeltaT'] = sncatalog.mjdobs - df['t0']\n",
    "df['SNR'] = df.flux / df.flux_err\n",
    "df.head()"
   ]
  },
  {
   "cell_type": "code",
   "execution_count": 31,
   "metadata": {
    "collapsed": false
   },
   "outputs": [
    {
     "data": {
      "text/plain": [
       "153"
      ]
     },
     "execution_count": 31,
     "metadata": {},
     "output_type": "execute_result"
    }
   ],
   "source": [
    "df.query('SNR > 5.').SNR.size"
   ]
  },
  {
   "cell_type": "code",
   "execution_count": 67,
   "metadata": {
    "collapsed": false
   },
   "outputs": [
    {
     "data": {
      "image/png": "[encoded data removed]",
      "text/plain": [
       "<matplotlib.figure.Figure at 0x1236ddf50>"
      ]
     },
     "metadata": {},
     "output_type": "display_data"
    }
   ],
   "source": [
    "fig, ax = plt.subplots(nrows=1, ncols=2);\n",
    "_ = ax[0].hist(df.query('SNR > 5.').z, bins=np.arange(0., 1.2, 0.1), histtype='step', lw=2, color='k', normed=True,\n",
    "               label='highSNR')\n",
    "_ = ax[0].hist(df.query('SNR < 5. and SNR > 0.').z, bins=np.arange(0., 1.2, 0.1), histtype='step', lw=2, color='r', \n",
    "             normed=True, label='lowSNR')\n",
    "_ = ax[0].hist(df.query('SNR > 0.').z, bins=np.arange(0., 1.2, 0.1), histtype='step', lw=2, color='b', \n",
    "             normed=True, label='Active')\n",
    "ax[0].grid(True)\n",
    "_ = ax[1].hist(df.query('SNR > 5.').z, bins=np.arange(0., 1.2, 0.1), histtype='step', lw=2, color='k', normed=False, \n",
    "               cumulative=-1)\n",
    "_ = ax[1].hist(df.query('SNR < 5. and SNR > 0.').z, bins=np.arange(0., 1.2, 0.1), histtype='step', lw=2, color='r', \n",
    "               normed=False, cumulative=-1)\n",
    "_ = ax[1].grid(True)\n",
    "_ = ax[0].legend(loc='upper left')\n",
    "_ = ax[0].set_ylabel('PDF')\n",
    "_ = ax[0].set_ylabel('Num SN at z > ')\n",
    "ax[1].set_y"
   ]
  },
  {
   "cell_type": "code",
   "execution_count": 66,
   "metadata": {
    "collapsed": false
   },
   "outputs": [
    {
     "data": {
      "text/plain": [
       "array([ 1.2,  1.1,  1. ,  0.9,  0.8,  0.7,  0.6,  0.5,  0.4,  0.3,  0.2,\n",
       "        0.1])"
      ]
     },
     "execution_count": 66,
     "metadata": {},
     "output_type": "execute_result"
    }
   ],
   "source": [
    "np.arange(1.2, 0., -0.1)"
   ]
  },
  {
   "cell_type": "code",
   "execution_count": 100,
   "metadata": {
    "collapsed": false
   },
   "outputs": [],
   "source": [
    "x = [\"{:.4f}\".format(elem) for elem in np.random.uniform(0., 10., size=10)]"
   ]
  },
  {
   "cell_type": "code",
   "execution_count": 101,
   "metadata": {
    "collapsed": false
   },
   "outputs": [
    {
     "data": {
      "text/plain": [
       "['9.6708',\n",
       " '2.5299',\n",
       " '3.7739',\n",
       " '1.6766',\n",
       " '6.2631',\n",
       " '3.7246',\n",
       " '7.3926',\n",
       " '7.2217',\n",
       " '1.2430',\n",
       " '5.6297']"
      ]
     },
     "execution_count": 101,
     "metadata": {},
     "output_type": "execute_result"
    }
   ],
   "source": [
    "x"
   ]
  },
  {
   "cell_type": "code",
   "execution_count": 69,
   "metadata": {
    "collapsed": true
   },
   "outputs": [],
   "source": [
    "import string"
   ]
  },
  {
   "cell_type": "code",
   "execution_count": 70,
   "metadata": {
    "collapsed": true
   },
   "outputs": [],
   "source": [
    "a = list(string.ascii_lowercase[:10])"
   ]
  },
  {
   "cell_type": "code",
   "execution_count": 75,
   "metadata": {
    "collapsed": true
   },
   "outputs": [],
   "source": [
    "A = list(string.ascii_uppercase[:10])"
   ]
  },
  {
   "cell_type": "code",
   "execution_count": 84,
   "metadata": {
    "collapsed": false
   },
   "outputs": [
    {
     "data": {
      "text/plain": [
       "['a_0_A',\n",
       " 'b_1_B',\n",
       " 'c_2_C',\n",
       " 'd_3_D',\n",
       " 'e_4_E',\n",
       " 'f_5_F',\n",
       " 'g_6_G',\n",
       " 'h_7_H',\n",
       " 'i_8_I',\n",
       " 'j_9_J']"
      ]
     },
     "execution_count": 84,
     "metadata": {},
     "output_type": "execute_result"
    }
   ],
   "source": [
    "['_'.join(y) for y in zip(a, x, A)]"
   ]
  },
  {
   "cell_type": "code",
   "execution_count": 103,
   "metadata": {
    "collapsed": true
   },
   "outputs": [],
   "source": [
    "import sncosmo\n",
    "model = sncosmo.Model(source='salt2')"
   ]
  },
  {
   "cell_type": "code",
   "execution_count": 104,
   "metadata": {
    "collapsed": true
   },
   "outputs": [],
   "source": [
    "source = model.source"
   ]
  },
  {
   "cell_type": "code",
   "execution_count": 106,
   "metadata": {
    "collapsed": false
   },
   "outputs": [
    {
     "data": {
      "text/plain": [
       "sncosmo.models.SALT2Source"
      ]
     },
     "execution_count": 106,
     "metadata": {},
     "output_type": "execute_result"
    }
   ],
   "source": [
    "type(source)"
   ]
  },
  {
   "cell_type": "code",
   "execution_count": 107,
   "metadata": {
    "collapsed": true
   },
   "outputs": [],
   "source": [
    "wave = np.arange(3000., 8000., 100.)"
   ]
  },
  {
   "cell_type": "code",
   "execution_count": 109,
   "metadata": {
    "collapsed": false
   },
   "outputs": [
    {
     "data": {
      "text/plain": [
       "array([  1.51821643e-13,   2.01121812e-13,   2.08427421e-13,\n",
       "         1.95659443e-13,   2.50164794e-13,   3.39228571e-13,\n",
       "         4.16126150e-13,   2.33985154e-13,   2.32739993e-13,\n",
       "         5.00998988e-13,   4.54198223e-13,   5.17432334e-13,\n",
       "         4.15730334e-13,   2.67473169e-13,   3.29565220e-13,\n",
       "         3.98363952e-13,   3.71345748e-13,   2.75218901e-13,\n",
       "         2.40343084e-13,   2.13815708e-13,   2.14282382e-13,\n",
       "         2.78209140e-13,   2.64562402e-13,   1.82683517e-13,\n",
       "         1.92838318e-13,   1.92384176e-13,   2.29275147e-13,\n",
       "         2.12807132e-13,   2.00713495e-13,   2.04812238e-13,\n",
       "         1.83106060e-13,   8.40483761e-14,   1.28253665e-13,\n",
       "         1.70731679e-13,   1.61128578e-13,   1.37107479e-13,\n",
       "         1.22545391e-13,   1.05738111e-13,   9.69410068e-14,\n",
       "         8.71713998e-14,   7.99252119e-14,   7.72159089e-14,\n",
       "         7.21523350e-14,   6.30115948e-14,   5.47933681e-14,\n",
       "         4.29502791e-14,   4.63174125e-14,   5.72376526e-14,\n",
       "         6.04039835e-14,   5.91708893e-14])"
      ]
     },
     "execution_count": 109,
     "metadata": {},
     "output_type": "execute_result"
    }
   ],
   "source": [
    "source.flux(phase=0., wave=wave)"
   ]
  },
  {
   "cell_type": "code",
   "execution_count": 112,
   "metadata": {
    "collapsed": false
   },
   "outputs": [
    {
     "data": {
      "text/plain": [
       "0.0"
      ]
     },
     "execution_count": 112,
     "metadata": {},
     "output_type": "execute_result"
    }
   ],
   "source": [
    "model.get('t0')"
   ]
  },
  {
   "cell_type": "code",
   "execution_count": 115,
   "metadata": {
    "collapsed": false
   },
   "outputs": [
    {
     "data": {
      "text/plain": [
       "array([ -5.59590492e-34,   1.22304172e-16,   4.90344194e-16,\n",
       "         1.10581086e-15,   1.97039423e-15,   3.08578354e-15,\n",
       "         4.45366706e-15,   6.04207885e-15,   7.37450842e-15,\n",
       "         8.29384844e-15,   8.79731243e-15,   8.88211620e-15,\n",
       "         8.54547803e-15,   7.78461891e-15,   6.82209030e-15,\n",
       "         6.23760896e-15,   6.06309582e-15,   6.30121393e-15,\n",
       "         6.95462290e-15,   8.02597866e-15,   9.49674615e-15,\n",
       "         1.08841598e-14,   1.19851867e-14,   1.27980009e-14,\n",
       "         1.33207796e-14,   1.35517032e-14,   1.34889553e-14,\n",
       "         1.32990714e-14,   1.32820392e-14,   1.34448263e-14,\n",
       "         1.37885235e-14,   1.43142191e-14,   1.50229987e-14,\n",
       "         1.58596743e-14,   1.65159039e-14,   1.69435788e-14,\n",
       "         1.71413446e-14,   1.71078503e-14,   1.68417489e-14,\n",
       "         1.63598385e-14,   1.59831755e-14,   1.58310814e-14,\n",
       "         1.59048386e-14,   1.62057258e-14,   1.67350174e-14,\n",
       "         1.74909768e-14,   1.81945829e-14,   1.86619239e-14,\n",
       "         1.88916910e-14,   1.88825802e-14,   1.86332924e-14,\n",
       "         1.81425881e-14,   1.76488574e-14,   1.73780798e-14,\n",
       "         1.73314434e-14,   1.75101310e-14,   1.79153207e-14,\n",
       "         1.85481852e-14,   1.93204989e-14,   2.01370231e-14,\n",
       "         2.09979415e-14,   2.19034650e-14,   2.28538032e-14,\n",
       "         2.38491907e-14,   2.50891717e-14,   2.67656803e-14,\n",
       "         2.88808310e-14,   3.14367266e-14,   3.44354585e-14,\n",
       "         3.78757080e-14,   4.13481680e-14,   4.45688193e-14,\n",
       "         4.75364252e-14,   5.02497558e-14,   5.27075886e-14,\n",
       "         5.49184251e-14,   5.71104052e-14,   5.93803557e-14,\n",
       "         6.17285912e-14,   6.41554241e-14,   6.66611644e-14,\n",
       "         6.94316503e-14,   7.39368824e-14,   8.04999052e-14,\n",
       "         8.91294503e-14,   9.98341835e-14,   1.12622704e-13,\n",
       "         1.26648191e-13,   1.39223980e-13,   1.50147614e-13,\n",
       "         1.59412177e-13,   1.67010809e-13,   1.72936707e-13,\n",
       "         1.76911634e-13,   1.78615016e-13,   1.78037567e-13,\n",
       "         1.75170459e-13,   1.70004944e-13,   1.62716010e-13,\n",
       "         1.56300886e-13,   1.51821643e-13,   1.49285508e-13,\n",
       "         1.48699634e-13,   1.50071106e-13,   1.53285077e-13,\n",
       "         1.57948598e-13,   1.64035574e-13,   1.71550879e-13,\n",
       "         1.80499331e-13,   1.90878501e-13,   2.01121812e-13,\n",
       "         2.10034032e-13,   2.17610630e-13,   2.23847129e-13,\n",
       "         2.28739106e-13,   2.32098760e-13,   2.32880625e-13,\n",
       "         2.30912840e-13,   2.26186932e-13,   2.18694541e-13,\n",
       "         2.08427421e-13,   1.97717441e-13,   1.89009402e-13,\n",
       "         1.82309539e-13,   1.77623717e-13,   1.74957718e-13,\n",
       "         1.74359793e-13,   1.76097757e-13,   1.80222789e-13,\n",
       "         1.86741262e-13,   1.95659443e-13,   2.06981886e-13,\n",
       "         2.18207682e-13,   2.27071056e-13,   2.33565957e-13,\n",
       "         2.37686439e-13,   2.39426658e-13,   2.39513926e-13,\n",
       "         2.41143534e-13,   2.44692374e-13,   2.50164794e-13,\n",
       "         2.57565058e-13,   2.66865120e-13,   2.76553423e-13,\n",
       "         2.85800841e-13,   2.94606322e-13,   3.02968833e-13,\n",
       "         3.10887365e-13,   3.18917786e-13,   3.28346810e-13,\n",
       "         3.39228571e-13,   3.51565665e-13,   3.65360622e-13,\n",
       "         3.80309544e-13,   3.93410067e-13,   4.03895288e-13,\n",
       "         4.11760626e-13,   4.17001619e-13,   4.19613799e-13,\n",
       "         4.19385807e-13,   4.16126150e-13,   4.09830278e-13,\n",
       "         4.00493786e-13,   3.88112414e-13,   3.72785618e-13,\n",
       "         3.54832048e-13,   3.34271569e-13,   3.11101075e-13,\n",
       "         2.85317590e-13,   2.57450895e-13,   2.33985154e-13,\n",
       "         2.16840360e-13,   2.06023714e-13,   2.01542110e-13,\n",
       "         2.03400471e-13,   2.08236171e-13,   2.12969773e-13,\n",
       "         2.17601122e-13,   2.22130072e-13,   2.26556478e-13,\n",
       "         2.32739993e-13,   2.45906949e-13,   2.66375286e-13,\n",
       "         2.94149809e-13,   3.29234962e-13,   3.70565355e-13,\n",
       "         4.08384568e-13,   4.40340688e-13,   4.66430346e-13,\n",
       "         4.86650465e-13,   5.00998988e-13,   5.09556110e-13,\n",
       "         5.12376003e-13,   5.09456803e-13,   5.00796932e-13,\n",
       "         4.86395099e-13,   4.69783982e-13,   4.58133339e-13,\n",
       "         4.51651831e-13,   4.50340023e-13,   4.54198223e-13,\n",
       "         4.62616344e-13,   4.72065181e-13,   4.81977830e-13,\n",
       "         4.92354125e-13,   5.03193874e-13,   5.14376446e-13,\n",
       "         5.22371496e-13,   5.25544910e-13,   5.23898004e-13,\n",
       "         5.17432334e-13,   5.06149698e-13,   4.92743047e-13,\n",
       "         4.80918061e-13,   4.70696969e-13,   4.62079089e-13,\n",
       "         4.55063656e-13,   4.48861997e-13,   4.40393752e-13,\n",
       "         4.29349223e-13,   4.15730334e-13,   3.99539135e-13,\n",
       "         3.80923022e-13,   3.62086094e-13,   3.43771576e-13,\n",
       "         3.25979237e-13,   3.08708824e-13,   2.91960058e-13,\n",
       "         2.78220442e-13,   2.70060032e-13,   2.67473169e-13,\n",
       "         2.70453734e-13,   2.78995337e-13,   2.91387967e-13,\n",
       "         3.02096007e-13,   3.10696516e-13,   3.17192100e-13,\n",
       "         3.21585471e-13,   3.24028266e-13,   3.26485239e-13,\n",
       "         3.29565220e-13,   3.33267247e-13,   3.37590334e-13,\n",
       "         3.42533462e-13,   3.48279224e-13,   3.55023888e-13,\n",
       "         3.62765775e-13,   3.71503091e-13,   3.81233997e-13,\n",
       "         3.91184714e-13,   3.98363952e-13,   4.02478087e-13,\n",
       "         4.03532834e-13,   4.01534048e-13,   3.96586383e-13,\n",
       "         3.91139305e-13,   3.86248116e-13,   3.81911733e-13,\n",
       "         3.78129046e-13,   3.74898923e-13,   3.71345748e-13,\n",
       "         3.65857651e-13,   3.58403690e-13,   3.48988459e-13,\n",
       "         3.37616638e-13,   3.24561153e-13,   3.12199202e-13,\n",
       "         3.01086963e-13,   2.91221501e-13,   2.82599828e-13,\n",
       "         2.75218901e-13,   2.69108100e-13,   2.64301755e-13,\n",
       "         2.60796522e-13,   2.58588956e-13,   2.57675555e-13,\n",
       "         2.57669861e-13,   2.56177833e-13,   2.52789025e-13,\n",
       "         2.47508921e-13,   2.40343084e-13,   2.31297153e-13,\n",
       "         2.22368885e-13,   2.15636369e-13,   2.11093256e-13,\n",
       "         2.08732861e-13,   2.08548413e-13,   2.10258314e-13,\n",
       "         2.11897907e-13,   2.13083217e-13,   2.13815708e-13,\n",
       "         2.14096862e-13,   2.13928179e-13,   2.13474711e-13,\n",
       "         2.12980555e-13,   2.12448150e-13,   2.11877637e-13,\n",
       "         2.11269159e-13,   2.10706661e-13,   2.11553348e-13,\n",
       "         2.14282382e-13,   2.18886854e-13,   2.25359786e-13,\n",
       "         2.33694133e-13,   2.43236497e-13,   2.51819287e-13,\n",
       "         2.59271671e-13,   2.65597899e-13,   2.70802263e-13,\n",
       "         2.74889093e-13,   2.78209140e-13,   2.81139094e-13,\n",
       "         2.83680623e-13,   2.85835266e-13,   2.87604580e-13,\n",
       "         2.88927090e-13,   2.88513349e-13,   2.85860439e-13,\n",
       "         2.80977895e-13,   2.73875324e-13,   2.64562402e-13,\n",
       "         2.53362550e-13,   2.42216091e-13,   2.31453387e-13,\n",
       "         2.21072900e-13,   2.11073084e-13,   2.01452377e-13,\n",
       "         1.92753092e-13,   1.86671800e-13,   1.83319486e-13,\n",
       "         1.82683517e-13,   1.84751184e-13,   1.89509703e-13,\n",
       "         1.95509771e-13,   1.99881866e-13,   2.02554470e-13,\n",
       "         2.03535783e-13,   2.02834046e-13,   2.00457548e-13,\n",
       "         1.96884401e-13,   1.92838318e-13,   1.88329464e-13,\n",
       "         1.83360251e-13,   1.77933101e-13,   1.72050449e-13,\n",
       "         1.67253372e-13,   1.65742121e-13,   1.67516883e-13,\n",
       "         1.72560387e-13,   1.80855289e-13,   1.92384176e-13,\n",
       "         2.05042680e-13,   2.15321757e-13,   2.23178396e-13,\n",
       "         2.28625642e-13,   2.31676591e-13,   2.32344384e-13,\n",
       "         2.31356935e-13,   2.30476496e-13,   2.29782913e-13,\n",
       "         2.29275147e-13,   2.28952153e-13,   2.28812883e-13,\n",
       "         2.28729900e-13,   2.28118532e-13,   2.26908619e-13,\n",
       "         2.25103671e-13,   2.22707206e-13,   2.19722750e-13,\n",
       "         2.16199285e-13,   2.12807132e-13,   2.09766245e-13,\n",
       "         2.07074568e-13,   2.04730040e-13,   2.02730595e-13,\n",
       "         2.01074162e-13,   1.99869403e-13,   1.99234445e-13,\n",
       "         1.99165827e-13,   1.99660022e-13,   2.00713495e-13,\n",
       "         2.02322707e-13,   2.04319302e-13,   2.05914861e-13,\n",
       "         2.07009739e-13,   2.07607127e-13,   2.07710219e-13,\n",
       "         2.07322215e-13,   2.06447329e-13,   2.05498911e-13,\n",
       "         2.04812238e-13,   2.04385596e-13,   2.04217272e-13,\n",
       "         2.04305549e-13,   2.04648709e-13,   2.05045260e-13,\n",
       "         2.04029393e-13,   2.01315931e-13,   1.96916479e-13,\n",
       "         1.90842650e-13,   1.83106060e-13,   1.73718328e-13,\n",
       "         1.63156845e-13,   1.52565500e-13,   1.41996178e-13,\n",
       "         1.31448943e-13,   1.20923858e-13,   1.10420986e-13,\n",
       "         9.99403891e-14,   9.06635354e-14,   8.40483761e-14,\n",
       "         8.00801849e-14,   7.87399573e-14,   8.00086950e-14,\n",
       "         8.38674080e-14,   9.02963792e-14,   9.79325298e-14,\n",
       "         1.05546333e-13,   1.13137789e-13,   1.20706899e-13,\n",
       "         1.28253665e-13,   1.35778090e-13,   1.43280177e-13,\n",
       "         1.50263790e-13,   1.56207451e-13,   1.61118794e-13,\n",
       "         1.65005559e-13,   1.67875482e-13,   1.69736285e-13,\n",
       "         1.70595684e-13,   1.70731679e-13,   1.70671308e-13,\n",
       "         1.70429265e-13,   1.70006973e-13,   1.69405850e-13,\n",
       "         1.68627316e-13,   1.67672784e-13,   1.66521992e-13,\n",
       "         1.65055363e-13,   1.63256661e-13,   1.61128578e-13,\n",
       "         1.58673803e-13,   1.55895017e-13,   1.52794898e-13,\n",
       "         1.49378196e-13,   1.46108144e-13,   1.43333363e-13,\n",
       "         1.41049873e-13,   1.39253703e-13,   1.37940890e-13,\n",
       "         1.37107479e-13,   1.36749526e-13,   1.36761978e-13,\n",
       "         1.36462367e-13,   1.35727052e-13,   1.34559700e-13,\n",
       "         1.32963968e-13,   1.30943505e-13,   1.28501948e-13,\n",
       "         1.25642926e-13,   1.22545391e-13,   1.19705524e-13,\n",
       "         1.17151031e-13,   1.14879526e-13,   1.12888633e-13,\n",
       "         1.11175980e-13,   1.09739204e-13,   1.08575946e-13,\n",
       "         1.07609182e-13,   1.06665573e-13,   1.05738111e-13,\n",
       "         1.04826678e-13,   1.03931155e-13,   1.03051426e-13,\n",
       "         1.02187372e-13,   1.01338878e-13,   1.00498442e-13,\n",
       "         9.96396513e-14,   9.87603440e-14,   9.78607272e-14,\n",
       "         9.69410068e-14,   9.60013881e-14,   9.50420753e-14,\n",
       "         9.40632720e-14,   9.30663685e-14,   9.20693389e-14,\n",
       "         9.10781596e-14,   9.00928033e-14,   8.91132428e-14,\n",
       "         8.81394507e-14,   8.71713998e-14,   8.62090631e-14,\n",
       "         8.52524132e-14,   8.43222654e-14,   8.34674497e-14,\n",
       "         8.26893459e-14,   8.19872569e-14,   8.13604889e-14,\n",
       "         8.08083505e-14,   8.03301533e-14,   7.99252119e-14,\n",
       "         7.95928434e-14,   7.93014267e-14,   7.90169857e-14,\n",
       "         7.87394467e-14,   7.84687515e-14,   7.82048421e-14,\n",
       "         7.79476605e-14,   7.76971493e-14,   7.74532511e-14,\n",
       "         7.72159089e-14,   7.69568451e-14,   7.66413420e-14,\n",
       "         7.62698583e-14,   7.58429504e-14,   7.53611724e-14,\n",
       "         7.48250753e-14,   7.42352078e-14,   7.35921158e-14,\n",
       "         7.28963425e-14,   7.21523350e-14,   7.13746813e-14,\n",
       "         7.05650105e-14,   6.97236641e-14,   6.88509823e-14,\n",
       "         6.79473034e-14,   6.70129638e-14,   6.60482981e-14,\n",
       "         6.50536394e-14,   6.40293524e-14,   6.30115948e-14,\n",
       "         6.20318939e-14,   6.10898933e-14,   6.01852385e-14,\n",
       "         5.93175768e-14,   5.84865572e-14,   5.76918306e-14,\n",
       "         5.69330499e-14,   5.62098695e-14,   5.55212647e-14,\n",
       "         5.47933681e-14,   5.39771418e-14,   5.30735223e-14,\n",
       "         5.20834407e-14,   5.10078230e-14,   4.98475899e-14,\n",
       "         4.86036566e-14,   4.72769334e-14,   4.58683250e-14,\n",
       "         4.43787308e-14,   4.29502791e-14,   4.18479859e-14,\n",
       "         4.10746836e-14,   4.06269319e-14,   4.05013101e-14,\n",
       "         4.06944178e-14,   4.12028749e-14,   4.20233210e-14,\n",
       "         4.31524161e-14,   4.45868402e-14,   4.63174125e-14,\n",
       "         4.80567036e-14,   4.96481100e-14,   5.10931658e-14,\n",
       "         5.23933958e-14,   5.35503153e-14,   5.45654308e-14,\n",
       "         5.54402391e-14,   5.61762280e-14,   5.67748761e-14,\n",
       "         5.72376526e-14,   5.75664133e-14,   5.78436237e-14,\n",
       "         5.81306210e-14,   5.84272891e-14,   5.87335128e-14,\n",
       "         5.90491775e-14,   5.93741695e-14,   5.97083759e-14,\n",
       "         6.00516844e-14,   6.04039835e-14,   6.07651626e-14,\n",
       "         6.11351117e-14,   6.14881089e-14,   6.16826239e-14,\n",
       "         6.16986751e-14,   6.15382447e-14,   6.12033018e-14,\n",
       "         6.06958021e-14,   6.00176881e-14,   5.91708893e-14,\n",
       "         5.81573218e-14,   5.69788889e-14,   5.56374805e-14,\n",
       "         5.41349737e-14,   5.25024116e-14,   5.09590329e-14,\n",
       "         4.95483228e-14,   4.82688294e-14,   4.71191105e-14,\n",
       "         4.60977343e-14,   4.52032787e-14,   4.44343314e-14,\n",
       "         4.37894903e-14,   4.32673628e-14,   4.28665662e-14,\n",
       "         4.25857278e-14,   4.24234844e-14,   4.23300278e-14,\n",
       "         4.22037923e-14,   4.20420166e-14,   4.18451151e-14,\n",
       "         4.16134994e-14,   4.13475779e-14,   4.10477560e-14,\n",
       "         4.07144362e-14,   4.03480179e-14,   3.99488977e-14,\n",
       "         3.95174692e-14,   3.90541230e-14,   3.85592468e-14,\n",
       "         3.80563734e-14,   3.76844655e-14,   3.74651419e-14,\n",
       "         3.73966259e-14,   3.74771543e-14,   3.77049769e-14,\n",
       "         3.80783569e-14,   3.85955704e-14,   3.92549070e-14,\n",
       "         4.00546690e-14,   4.09931717e-14,   4.20687435e-14,\n",
       "         4.32797257e-14,   4.46244721e-14,   4.60707439e-14,\n",
       "         4.74121667e-14,   4.86119126e-14,   4.96716228e-14,\n",
       "         5.05929255e-14,   5.13774365e-14,   5.20267593e-14,\n",
       "         5.25424846e-14,   5.29261910e-14,   5.31794446e-14,\n",
       "         5.33037991e-14,   5.33007963e-14,   5.31719654e-14,\n",
       "         5.29188239e-14,   5.25428770e-14,   5.20818560e-14,\n",
       "         5.16771978e-14,   5.13422722e-14,   5.10762488e-14,\n",
       "         5.08783038e-14,   5.07476202e-14,   5.06833873e-14,\n",
       "         5.06848011e-14,   5.07510640e-14,   5.08813851e-14,\n",
       "         5.10749796e-14,   5.13310694e-14,   5.16488825e-14,\n",
       "         5.20276536e-14,   5.24666232e-14,   5.29650386e-14,\n",
       "         5.34812398e-14,   5.39334634e-14,   5.43202121e-14,\n",
       "         5.46422757e-14,   5.49004372e-14,   5.50954732e-14,\n",
       "         5.52281538e-14,   5.52992428e-14,   5.53094977e-14,\n",
       "         5.52596694e-14,   5.51505027e-14,   5.49827362e-14,\n",
       "         5.47571021e-14,   5.44743266e-14,   5.41351295e-14,\n",
       "         5.37402247e-14,   5.32903200e-14,   5.28296436e-14,\n",
       "         5.24207142e-14,   5.20633951e-14,   5.17570561e-14,\n",
       "         5.15010725e-14,   5.12948247e-14,   5.11376985e-14,\n",
       "         5.10290848e-14,   5.09683800e-14,   5.09549854e-14,\n",
       "         5.09883077e-14,   5.10677586e-14,   5.11927549e-14,\n",
       "         5.13627186e-14,   5.15770765e-14,   5.18352605e-14,\n",
       "         5.21367078e-14,   5.24808599e-14,   5.28654838e-14,\n",
       "         5.32854138e-14,   5.37399163e-14,   5.42285355e-14,\n",
       "         5.47508196e-14,   5.53063206e-14,   5.58945950e-14,\n",
       "         5.65152027e-14,   5.71677081e-14,   5.78516792e-14,\n",
       "         5.85666879e-14,   5.93123103e-14,   6.00881260e-14,\n",
       "         6.08937186e-14,   6.17286754e-14,   6.25925877e-14,\n",
       "         6.34850504e-14,   6.44056620e-14,   6.53540251e-14,\n",
       "         6.63297455e-14])"
      ]
     },
     "execution_count": 115,
     "metadata": {},
     "output_type": "execute_result"
    }
   ],
   "source": [
    "source.flux(phase=0, wave=source._wave)"
   ]
  },
  {
   "cell_type": "code",
   "execution_count": null,
   "metadata": {
    "collapsed": true
   },
   "outputs": [],
   "source": []
  }
 ],
 "metadata": {
  "kernelspec": {
   "display_name": "Python 2",
   "language": "python",
   "name": "python2"
  },
  "language_info": {
   "codemirror_mode": {
    "name": "ipython",
    "version": 2
   },
   "file_extension": ".py",
   "mimetype": "text/x-python",
   "name": "python",
   "nbconvert_exporter": "python",
   "pygments_lexer": "ipython2",
   "version": "2.7.11"
  }
 },
 "nbformat": 4,
 "nbformat_minor": 0
}
