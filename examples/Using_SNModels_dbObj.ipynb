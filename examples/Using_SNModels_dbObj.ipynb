{
 "cells": [
  {
   "cell_type": "markdown",
   "metadata": {},
   "source": [
    "This notebook illustrates the use of a subclass of `CatalogDBObject` for accessing tables of SN parameters on the fatboy database."
   ]
  },
  {
   "cell_type": "code",
   "execution_count": 1,
   "metadata": {
    "collapsed": false
   },
   "outputs": [
    {
     "name": "stderr",
     "output_type": "stream",
     "text": [
      "/usr/local/miniconda/lib/python2.7/site-packages/IPython/html.py:14: ShimWarning: The `IPython.html` package has been deprecated. You should import from `notebook` instead. `IPython.html.widgets` has moved to `ipywidgets`.\n",
      "  \"`IPython.html.widgets` has moved to `ipywidgets`.\", ShimWarning)\n"
     ]
    }
   ],
   "source": [
    "# generic python imports\n",
    "import os\n",
    "import numpy as np\n",
    "%matplotlib inline\n",
    "import matplotlib.pyplot as plt\n",
    "import pandas as pd\n",
    "import matplotlib.patches  as mpatches\n",
    "import matplotlib\n",
    "# Used to make plots a little nicer but not really required\n",
    "import seaborn as sns\n",
    "sns.set()"
   ]
  },
  {
   "cell_type": "code",
   "execution_count": 2,
   "metadata": {
    "collapsed": false
   },
   "outputs": [],
   "source": [
    "from lsst.sims.catalogs.db import CatalogDBObject"
   ]
  },
  {
   "cell_type": "code",
   "execution_count": 3,
   "metadata": {
    "collapsed": false
   },
   "outputs": [
    {
     "name": "stderr",
     "output_type": "stream",
     "text": [
      "/Users/rbiswas/src/LSST_el_Capitan/sims_catalogs/python/lsst/sims/catalogs/db/dbConnection.py:439: UserWarning: Duplicate object type id 25 specified: \n",
      "Output object ids may not be unique.\n",
      "This may not be a problem if you do not want globally unique id values\n",
      "  'want globally unique id values')\n",
      "/Users/rbiswas/src/LSST_el_Capitan/sims_catalogs/python/lsst/sims/catalogs/db/dbConnection.py:439: UserWarning: Duplicate object type id 40 specified: \n",
      "Output object ids may not be unique.\n",
      "This may not be a problem if you do not want globally unique id values\n",
      "  'want globally unique id values')\n"
     ]
    }
   ],
   "source": [
    "import lsst.sims.catUtils.baseCatalogModels as bcm\n",
    "from lsst.sims.catalogs.definitions import InstanceCatalog\n",
    "from lsst.sims.utils import ObservationMetaData"
   ]
  },
  {
   "cell_type": "code",
   "execution_count": 4,
   "metadata": {
    "collapsed": false
   },
   "outputs": [],
   "source": [
    "#from lsst.sims.catUtils.baseCatalogModels import GalaxyTileObj, GalaxyDiskObj\n",
    "#from lsst.sims.catUtils.baseCatalogModels import SNObj\n",
    "#from lsst.sims.catUtils.mixins import FrozenSNCat"
   ]
  },
  {
   "cell_type": "code",
   "execution_count": 5,
   "metadata": {
    "collapsed": false
   },
   "outputs": [],
   "source": [
    "from lsst.sims.catUtils.baseCatalogModels import SNDBObj\n",
    "from lsst.sims.catUtils.mixins import FrozenSNCat"
   ]
  },
  {
   "cell_type": "code",
   "execution_count": 6,
   "metadata": {
    "collapsed": false
   },
   "outputs": [],
   "source": [
    "s = SNDBObj(table='TwinkSN')"
   ]
  },
  {
   "cell_type": "code",
   "execution_count": 7,
   "metadata": {
    "collapsed": false
   },
   "outputs": [
    {
     "data": {
      "text/plain": [
       "lsst.sims.catUtils.baseCatalogModels.snModels.SNDBObj"
      ]
     },
     "execution_count": 7,
     "metadata": {},
     "output_type": "execute_result"
    }
   ],
   "source": [
    "type(s)"
   ]
  },
  {
   "cell_type": "code",
   "execution_count": 8,
   "metadata": {
    "collapsed": false
   },
   "outputs": [
    {
     "data": {
      "text/plain": [
       "True"
      ]
     },
     "execution_count": 8,
     "metadata": {},
     "output_type": "execute_result"
    }
   ],
   "source": [
    "issubclass(SNDBObj, CatalogDBObject)"
   ]
  },
  {
   "cell_type": "code",
   "execution_count": 9,
   "metadata": {
    "collapsed": false
   },
   "outputs": [
    {
     "data": {
      "text/plain": [
       "True"
      ]
     },
     "execution_count": 9,
     "metadata": {},
     "output_type": "execute_result"
    }
   ],
   "source": [
    "isinstance(s, CatalogDBObject)"
   ]
  },
  {
   "cell_type": "markdown",
   "metadata": {},
   "source": [
    "Thus we can examine the columns of `s` like any other `CatalogDBObject` instance"
   ]
  },
  {
   "cell_type": "code",
   "execution_count": 10,
   "metadata": {
    "collapsed": false
   },
   "outputs": [
    {
     "data": {
      "text/plain": [
       "[('raJ2000', 'snra*PI()/180.'),\n",
       " ('decJ2000', 'sndec*PI()/180.'),\n",
       " ('Tt0', 't0'),\n",
       " ('Tx0', 'x0'),\n",
       " ('Tx1', 'x1'),\n",
       " ('Tc', 'c'),\n",
       " ('Tsnid', 'id'),\n",
       " ('Tredshift', 'redshift'),\n",
       " ('Tgaltileid', 'galtileid'),\n",
       " ('galtileid', 'galtileid', int),\n",
       " ('htmid', 'htmid', int),\n",
       " ('id', 'id', int),\n",
       " ('t0', 't0', float),\n",
       " ('c', 'c', float),\n",
       " ('x1', 'x1', float),\n",
       " ('x0', 'x0', float),\n",
       " ('redshift', 'redshift', float),\n",
       " ('snra', 'snra', float),\n",
       " ('sndec', 'sndec', float),\n",
       " ('cx', 'cx', float),\n",
       " ('cy', 'cy', float),\n",
       " ('cz', 'cz', float)]"
      ]
     },
     "execution_count": 10,
     "metadata": {},
     "output_type": "execute_result"
    }
   ],
   "source": [
    "s.columns"
   ]
  },
  {
   "cell_type": "code",
   "execution_count": 11,
   "metadata": {
    "collapsed": false
   },
   "outputs": [
    {
     "name": "stdout",
     "output_type": "stream",
     "text": [
      "['raJ2000', 'decJ2000', 'Tt0', 'Tx0', 'Tx1', 'Tc', 'Tsnid', 'Tredshift', 'Tgaltileid', 'galtileid', 'htmid', 'id', 't0', 'c', 'x1', 'x0', 'redshift', 'snra', 'sndec', 'cx', 'cy', 'cz']\n"
     ]
    }
   ],
   "source": [
    "possible_aliases = list(t[0] for t in s.columns)\n",
    "print(possible_aliases)"
   ]
  },
  {
   "cell_type": "markdown",
   "metadata": {},
   "source": [
    "This list contains pairs of tuples. The first elements of each tuple collected in `possible_aliases` above are variables that may be accessed from each instance of `SNObj`"
   ]
  },
  {
   "cell_type": "code",
   "execution_count": 12,
   "metadata": {
    "collapsed": false
   },
   "outputs": [
    {
     "name": "stdout",
     "output_type": "stream",
     "text": [
      "['snra', 'c', 'sndec*PI()/180.', 'redshift', 'snra*PI()/180.', 'galtileid', 't0', 'cz', 'cy', 'cx', 'sndec', 'htmid', 'x0', 'x1', 'id']\n"
     ]
    }
   ],
   "source": [
    "fatboy_columns = set(t[1] for t in s.columns)\n",
    "print(list(fatboy_columns))"
   ]
  },
  {
   "cell_type": "markdown",
   "metadata": {},
   "source": [
    "This list consists of column names on fatboy"
   ]
  },
  {
   "cell_type": "code",
   "execution_count": 13,
   "metadata": {
    "collapsed": false
   },
   "outputs": [],
   "source": [
    "s2  = SNDBObj(table='TwinkSNKraken')"
   ]
  },
  {
   "cell_type": "code",
   "execution_count": 14,
   "metadata": {
    "collapsed": false
   },
   "outputs": [
    {
     "data": {
      "text/plain": [
       "[('raJ2000', 'snra*PI()/180.'),\n",
       " ('decJ2000', 'sndec*PI()/180.'),\n",
       " ('Tt0', 't0'),\n",
       " ('Tx0', 'x0'),\n",
       " ('Tx1', 'x1'),\n",
       " ('Tc', 'c'),\n",
       " ('Tsnid', 'id'),\n",
       " ('Tredshift', 'redshift'),\n",
       " ('Tgaltileid', 'galtileid'),\n",
       " ('galtileid', 'galtileid', int),\n",
       " ('htmid', 'htmid', int),\n",
       " ('id', 'id', int),\n",
       " ('t0', 't0', float),\n",
       " ('c', 'c', float),\n",
       " ('x1', 'x1', float),\n",
       " ('x0', 'x0', float),\n",
       " ('redshift', 'redshift', float),\n",
       " ('snra', 'snra', float),\n",
       " ('sndec', 'sndec', float),\n",
       " ('cx', 'cx', float),\n",
       " ('cy', 'cy', float),\n",
       " ('cz', 'cz', float)]"
      ]
     },
     "execution_count": 14,
     "metadata": {},
     "output_type": "execute_result"
    }
   ],
   "source": [
    "s2.columns"
   ]
  },
  {
   "cell_type": "markdown",
   "metadata": {},
   "source": [
    "## Instance Catalogs with SNObj"
   ]
  },
  {
   "cell_type": "code",
   "execution_count": 15,
   "metadata": {
    "collapsed": true
   },
   "outputs": [],
   "source": [
    "from lsst.sims.catUtils.utils import ObservationMetaDataGenerator"
   ]
  },
  {
   "cell_type": "code",
   "execution_count": 16,
   "metadata": {
    "collapsed": false
   },
   "outputs": [],
   "source": [
    "degConv = np.array([1., 1./60., 1./3600.])\n",
    "raConv = degConv / 24.0 * 360.\n",
    "centralRA = np.dot(np.array([3., 32., 30]), raConv) #03h 32m 30s\n",
    "centralDec = np.dot(np.array([-28, 6., 0.]), degConv)\n",
    "patchRadius = 0.4 * np.sqrt(2) #np.dot(np.array([0.0, 10.0, 0.]), degConv)"
   ]
  },
  {
   "cell_type": "code",
   "execution_count": 17,
   "metadata": {
    "collapsed": true
   },
   "outputs": [],
   "source": [
    "opsimPath = os.path.join('/Users/rbiswas/data/LSST/OpSimData')\n",
    "opsimDB = os.path.join(opsimPath,'enigma_1189_sqlite.db')"
   ]
  },
  {
   "cell_type": "code",
   "execution_count": 18,
   "metadata": {
    "collapsed": false
   },
   "outputs": [],
   "source": [
    "generator = ObservationMetaDataGenerator(driver='sqlite', database=opsimDB) #database = opsimPath, driver='sqlite')\n",
    "obsMetaDataResults = generator.getObservationMetaData(limit=1000,\n",
    "                                                      fieldRA=(centralRA - 2.0, centralRA + 2.0), \n",
    "                                                      fieldDec=(centralDec - 2.0, centralDec + 2.0),\n",
    "                                                      expMJD=(49500., 49690.),\n",
    "                                                      boundLength=0.05,\n",
    "                                                      boundType='circle')"
   ]
  },
  {
   "cell_type": "code",
   "execution_count": 19,
   "metadata": {
    "collapsed": false
   },
   "outputs": [
    {
     "data": {
      "text/plain": [
       "[(25, 49612.338296000002),\n",
       " (26, 49612.338712999997),\n",
       " (27, 49612.339129),\n",
       " (28, 49612.339546000003),\n",
       " (29, 49612.339962999999),\n",
       " (30, 49612.340379000001),\n",
       " (31, 49612.340795999997),\n",
       " (32, 49612.341213),\n",
       " (33, 49612.341629000002),\n",
       " (34, 49612.342045999998),\n",
       " (35, 49612.342463000001),\n",
       " (36, 49612.342879000003),\n",
       " (37, 49612.343295999999),\n",
       " (38, 49612.343713000002),\n",
       " (39, 49612.344128999997),\n",
       " (40, 49612.344546),\n",
       " (41, 49612.344963000003),\n",
       " (42, 49612.345378999999),\n",
       " (43, 49612.345796000001),\n",
       " (44, 49612.363574000003),\n",
       " (121, 49623.236642000003),\n",
       " (122, 49623.237057999999),\n",
       " (123, 49623.237475000002),\n",
       " (124, 49623.237891999997),\n",
       " (125, 49623.238308),\n",
       " (126, 49623.238725000003),\n",
       " (127, 49623.239141999999),\n",
       " (128, 49623.239558000001),\n",
       " (129, 49623.239974999997),\n",
       " (130, 49623.240392),\n",
       " (131, 49623.240808000002),\n",
       " (132, 49623.241224999998),\n",
       " (133, 49623.241642000001),\n",
       " (134, 49623.242058000003),\n",
       " (135, 49623.242474999999),\n",
       " (136, 49623.242892000002),\n",
       " (137, 49623.243307999997),\n",
       " (138, 49623.243725),\n",
       " (139, 49623.244142000003),\n",
       " (140, 49623.244557999999),\n",
       " (219, 49626.164643999997),\n",
       " (220, 49626.165072000003),\n",
       " (221, 49626.165500000003),\n",
       " (222, 49626.165929000003),\n",
       " (223, 49626.166357000002),\n",
       " (224, 49626.166785000001),\n",
       " (225, 49626.167213000001),\n",
       " (226, 49626.167642),\n",
       " (227, 49626.16807),\n",
       " (228, 49626.168497999999),\n",
       " (229, 49626.168925999998),\n",
       " (230, 49626.169343000001),\n",
       " (231, 49626.169759999997),\n",
       " (232, 49626.170176),\n",
       " (233, 49626.170593000003),\n",
       " (234, 49626.171009999998),\n",
       " (235, 49626.171426000001),\n",
       " (236, 49626.171842999996),\n",
       " (237, 49626.172259999999),\n",
       " (238, 49626.172676000002),\n",
       " (337, 49638.301306000001),\n",
       " (338, 49638.301721999997),\n",
       " (339, 49638.302138999999),\n",
       " (340, 49638.302556000002),\n",
       " (341, 49638.302971999998),\n",
       " (342, 49638.303389000001),\n",
       " (343, 49638.303806000004),\n",
       " (344, 49638.304221999999),\n",
       " (345, 49638.304639000002),\n",
       " (346, 49638.305055999997),\n",
       " (347, 49638.305472),\n",
       " (348, 49638.305889000003),\n",
       " (349, 49638.306305999999),\n",
       " (350, 49638.306722000001),\n",
       " (351, 49638.307138999997),\n",
       " (352, 49638.307556),\n",
       " (353, 49638.307972000002),\n",
       " (354, 49638.308388999998),\n",
       " (355, 49638.308806000001),\n",
       " (356, 49638.309222000004),\n",
       " (435, 49638.351698999999),\n",
       " (436, 49641.188814000001),\n",
       " (437, 49641.189230999997),\n",
       " (438, 49641.189648),\n",
       " (439, 49641.190064000002),\n",
       " (440, 49641.190480999998),\n",
       " (441, 49641.190898000001),\n",
       " (442, 49641.191314000003),\n",
       " (443, 49641.191730999999),\n",
       " (444, 49641.192148000002),\n",
       " (445, 49641.192563999997),\n",
       " (446, 49641.192981),\n",
       " (447, 49641.193398000003),\n",
       " (448, 49641.193813999998),\n",
       " (449, 49641.194231000001),\n",
       " (450, 49641.194647999997),\n",
       " (451, 49641.195064),\n",
       " (452, 49641.195481000002),\n",
       " (453, 49641.195897999998),\n",
       " (454, 49641.196314000001),\n",
       " (455, 49641.196731000004),\n",
       " (534, 49654.169666000002),\n",
       " (535, 49654.170082999997),\n",
       " (536, 49654.1705),\n",
       " (537, 49654.170916000003),\n",
       " (538, 49654.171332999998),\n",
       " (539, 49654.171750000001),\n",
       " (540, 49654.172165999997),\n",
       " (541, 49654.172583),\n",
       " (542, 49654.173000000003),\n",
       " (543, 49654.173415999998),\n",
       " (544, 49654.173833000001),\n",
       " (545, 49654.174249999996),\n",
       " (546, 49654.174665999999),\n",
       " (547, 49654.175083000002),\n",
       " (548, 49654.175499999998),\n",
       " (549, 49654.175916),\n",
       " (550, 49654.176333000003),\n",
       " (551, 49654.176749999999),\n",
       " (552, 49654.177166000001),\n",
       " (553, 49654.177582999997),\n",
       " (712, 49677.035702000001),\n",
       " (713, 49677.036118000004),\n",
       " (714, 49677.036534999999),\n",
       " (715, 49677.036952000002),\n",
       " (716, 49677.037367999998),\n",
       " (717, 49677.037785),\n",
       " (718, 49677.038202000003),\n",
       " (719, 49677.038617999999),\n",
       " (720, 49677.039035000002),\n",
       " (721, 49677.039451999997),\n",
       " (722, 49677.039868),\n",
       " (723, 49677.040285000003),\n",
       " (724, 49677.040701999998),\n",
       " (725, 49677.041118000001),\n",
       " (726, 49677.041534999997),\n",
       " (727, 49677.041952),\n",
       " (728, 49677.042368000002),\n",
       " (729, 49677.042784999998),\n",
       " (730, 49677.043202000001),\n",
       " (731, 49677.043618000003),\n",
       " (810, 49680.042701999999),\n",
       " (811, 49680.043118000001),\n",
       " (812, 49680.043534999997),\n",
       " (813, 49680.043952),\n",
       " (814, 49680.044368000003),\n",
       " (815, 49680.044784999998),\n",
       " (816, 49680.045202000001),\n",
       " (817, 49680.045617999996),\n",
       " (818, 49680.046034999999),\n",
       " (819, 49680.046452000002),\n",
       " (820, 49680.046867999998),\n",
       " (821, 49680.047285000001),\n",
       " (822, 49680.047702000003),\n",
       " (823, 49680.048117999999),\n",
       " (824, 49680.048535000002),\n",
       " (825, 49680.048951999997),\n",
       " (826, 49680.049368),\n",
       " (827, 49680.049785000003),\n",
       " (828, 49680.050201999999),\n",
       " (829, 49680.050618000001),\n",
       " (908, 49683.044687000001),\n",
       " (909, 49683.045103999997),\n",
       " (910, 49683.04552),\n",
       " (911, 49683.045937000003),\n",
       " (912, 49683.046353999998),\n",
       " (913, 49683.046770000001),\n",
       " (914, 49683.047186999996),\n",
       " (915, 49683.047603999999),\n",
       " (916, 49683.048020000002),\n",
       " (917, 49683.048436999998),\n",
       " (918, 49683.048854000001),\n",
       " (919, 49683.049270000003),\n",
       " (920, 49683.049686999999),\n",
       " (921, 49683.050104000002),\n",
       " (922, 49683.050519999997),\n",
       " (923, 49683.050937),\n",
       " (924, 49683.051354000003),\n",
       " (925, 49683.051769999998),\n",
       " (926, 49683.052187000001),\n",
       " (927, 49683.052603999997)]"
      ]
     },
     "execution_count": 19,
     "metadata": {},
     "output_type": "execute_result"
    }
   ],
   "source": [
    "[(obsMetaDataResults.index(x), x.mjd.TAI) for x in obsMetaDataResults if x.bandpass == 'r']"
   ]
  },
  {
   "cell_type": "code",
   "execution_count": 20,
   "metadata": {
    "collapsed": true
   },
   "outputs": [],
   "source": [
    "TwinklesObsMetaDataSmall = obsMetaDataResults[35]\n",
    "TwinklesObsMetaDataSmall2 = obsMetaDataResults[145]\n",
    "TwinklesObsMetaDataSmall3 = obsMetaDataResults[390]"
   ]
  },
  {
   "cell_type": "code",
   "execution_count": 21,
   "metadata": {
    "collapsed": false
   },
   "outputs": [
    {
     "name": "stdout",
     "output_type": "stream",
     "text": [
      "(53.009138473031555, 53.009138473031555, 53.009138473031555)\n"
     ]
    }
   ],
   "source": [
    "print (TwinklesObsMetaDataSmall.pointingRA, TwinklesObsMetaDataSmall2.pointingRA, TwinklesObsMetaDataSmall3.pointingRA)"
   ]
  },
  {
   "cell_type": "markdown",
   "metadata": {},
   "source": [
    "####  Instance Catalogs Showing the tables on the Database"
   ]
  },
  {
   "cell_type": "code",
   "execution_count": 22,
   "metadata": {
    "collapsed": false
   },
   "outputs": [],
   "source": [
    "class TSNCopy(InstanceCatalog):\n",
    "    \n",
    "    column_outputs = ['raJ2000', 'decJ2000', 'id', 'Tgaltileid','Tt0', 'Tx0', 'Tx1', 'Tc', 'Tredshift', ]\n",
    "    override_formats = {'raJ2000': '%8e', 'decJ2000': '%8e', 'x0':'%8e'}"
   ]
  },
  {
   "cell_type": "code",
   "execution_count": 23,
   "metadata": {
    "collapsed": false
   },
   "outputs": [],
   "source": [
    "Ttsmall = TSNCopy(db_obj=s, obs_metadata=TwinklesObsMetaDataSmall)\n",
    "Ttsmall.write_catalog('TTwinklesSN.dat')"
   ]
  },
  {
   "cell_type": "code",
   "execution_count": 24,
   "metadata": {
    "collapsed": false
   },
   "outputs": [
    {
     "name": "stderr",
     "output_type": "stream",
     "text": [
      "/usr/local/miniconda/lib/python2.7/site-packages/ipykernel/__main__.py:1: ParserWarning: Falling back to the 'python' engine because the 'c' engine does not support regex separators (separators > 1 char and different from '\\s+' are interpreted as regex); you can avoid this warning by specifying engine='python'.\n",
      "  if __name__ == '__main__':\n"
     ]
    }
   ],
   "source": [
    "TTSNdf = pd.read_csv('TTwinklesSN.dat', sep=',\\s+')"
   ]
  },
  {
   "cell_type": "code",
   "execution_count": 25,
   "metadata": {
    "collapsed": false
   },
   "outputs": [
    {
     "data": {
      "text/html": [
       "<div>\n",
       "<table border=\"1\" class=\"dataframe\">\n",
       "  <thead>\n",
       "    <tr style=\"text-align: right;\">\n",
       "      <th></th>\n",
       "      <th>#raJ2000</th>\n",
       "      <th>decJ2000</th>\n",
       "      <th>id</th>\n",
       "      <th>Tgaltileid</th>\n",
       "      <th>Tt0</th>\n",
       "      <th>Tx0</th>\n",
       "      <th>Tx1</th>\n",
       "      <th>Tc</th>\n",
       "      <th>Tredshift</th>\n",
       "    </tr>\n",
       "  </thead>\n",
       "  <tbody>\n",
       "    <tr>\n",
       "      <th>0</th>\n",
       "      <td>0.924869</td>\n",
       "      <td>-0.479665</td>\n",
       "      <td>6000005211701</td>\n",
       "      <td>6.000005e+10</td>\n",
       "      <td>1458.2762</td>\n",
       "      <td>0.0</td>\n",
       "      <td>0.2415</td>\n",
       "      <td>-0.0370</td>\n",
       "      <td>0.7080</td>\n",
       "    </tr>\n",
       "    <tr>\n",
       "      <th>1</th>\n",
       "      <td>0.924917</td>\n",
       "      <td>-0.479692</td>\n",
       "      <td>6000035145300</td>\n",
       "      <td>6.000035e+10</td>\n",
       "      <td>3497.6771</td>\n",
       "      <td>0.0</td>\n",
       "      <td>0.0199</td>\n",
       "      <td>0.0572</td>\n",
       "      <td>0.8491</td>\n",
       "    </tr>\n",
       "    <tr>\n",
       "      <th>2</th>\n",
       "      <td>0.924917</td>\n",
       "      <td>-0.479693</td>\n",
       "      <td>6000035145315</td>\n",
       "      <td>6.000035e+10</td>\n",
       "      <td>11.8677</td>\n",
       "      <td>0.0</td>\n",
       "      <td>-0.3470</td>\n",
       "      <td>-0.0993</td>\n",
       "      <td>0.8491</td>\n",
       "    </tr>\n",
       "    <tr>\n",
       "      <th>3</th>\n",
       "      <td>0.924917</td>\n",
       "      <td>-0.479698</td>\n",
       "      <td>6000035145310</td>\n",
       "      <td>6.000035e+10</td>\n",
       "      <td>3156.4636</td>\n",
       "      <td>0.0</td>\n",
       "      <td>-0.7167</td>\n",
       "      <td>-0.1043</td>\n",
       "      <td>0.8491</td>\n",
       "    </tr>\n",
       "    <tr>\n",
       "      <th>4</th>\n",
       "      <td>0.924915</td>\n",
       "      <td>-0.479698</td>\n",
       "      <td>6000035145308</td>\n",
       "      <td>6.000035e+10</td>\n",
       "      <td>1377.2543</td>\n",
       "      <td>0.0</td>\n",
       "      <td>-0.6872</td>\n",
       "      <td>0.0519</td>\n",
       "      <td>0.8491</td>\n",
       "    </tr>\n",
       "  </tbody>\n",
       "</table>\n",
       "</div>"
      ],
      "text/plain": [
       "   #raJ2000  decJ2000             id    Tgaltileid        Tt0  Tx0     Tx1  \\\n",
       "0  0.924869 -0.479665  6000005211701  6.000005e+10  1458.2762  0.0  0.2415   \n",
       "1  0.924917 -0.479692  6000035145300  6.000035e+10  3497.6771  0.0  0.0199   \n",
       "2  0.924917 -0.479693  6000035145315  6.000035e+10    11.8677  0.0 -0.3470   \n",
       "3  0.924917 -0.479698  6000035145310  6.000035e+10  3156.4636  0.0 -0.7167   \n",
       "4  0.924915 -0.479698  6000035145308  6.000035e+10  1377.2543  0.0 -0.6872   \n",
       "\n",
       "       Tc  Tredshift  \n",
       "0 -0.0370     0.7080  \n",
       "1  0.0572     0.8491  \n",
       "2 -0.0993     0.8491  \n",
       "3 -0.1043     0.8491  \n",
       "4  0.0519     0.8491  "
      ]
     },
     "execution_count": 25,
     "metadata": {},
     "output_type": "execute_result"
    }
   ],
   "source": [
    "TTSNdf.head()"
   ]
  },
  {
   "cell_type": "code",
   "execution_count": 26,
   "metadata": {
    "collapsed": false
   },
   "outputs": [
    {
     "data": {
      "image/png": "[encoded data removed]",
      "text/plain": [
       "<matplotlib.figure.Figure at 0x120e0f6d0>"
      ]
     },
     "metadata": {},
     "output_type": "display_data"
    }
   ],
   "source": [
    "fig, ax = plt.subplots()\n",
    "ax.hexbin(np.degrees(TTSNdf['#raJ2000']), np.degrees(TTSNdf.decJ2000))\n",
    "ax.plot(TwinklesObsMetaDataSmall.pointingRA, TwinklesObsMetaDataSmall.pointingDec, \n",
    "         'ys', markersize=14)\n",
    "circ = mpatches.Circle((TwinklesObsMetaDataSmall.pointingRA, TwinklesObsMetaDataSmall.pointingDec), \n",
    "         0.05)\n",
    "circ.set(edgecolor='r', fill=False, lw=2)\n",
    "#circ.set(face)\n",
    "ax.add_artist(circ)\n",
    "ax.set_aspect('equal')\n",
    "y_formatter = matplotlib.ticker.ScalarFormatter(useOffset=False)\n",
    "ax.yaxis.set_major_formatter(y_formatter)\n",
    "#sns.despine()"
   ]
  },
  {
   "cell_type": "code",
   "execution_count": 27,
   "metadata": {
    "collapsed": false
   },
   "outputs": [
    {
     "data": {
      "image/png": "[encoded data removed]",
      "text/plain": [
       "<matplotlib.figure.Figure at 0x120e0f490>"
      ]
     },
     "metadata": {},
     "output_type": "display_data"
    }
   ],
   "source": [
    "fig, ax = plt.subplots()\n",
    "ax.hexbin(TTSNdf['#raJ2000'], TTSNdf.decJ2000)\n",
    "ax.plot(np.radians(TwinklesObsMetaDataSmall.pointingRA), np.radians(TwinklesObsMetaDataSmall.pointingDec), \n",
    "         'ys', markersize=14)\n",
    "circ = mpatches.Circle((np.radians(TwinklesObsMetaDataSmall.pointingRA), np.radians(TwinklesObsMetaDataSmall.pointingDec)), \n",
    "         np.radians(0.05))\n",
    "circ.set(edgecolor='r', fill=False, lw=2)\n",
    "#circ.set(face)\n",
    "ax.add_artist(circ)\n",
    "ax.set_aspect('equal')"
   ]
  },
  {
   "cell_type": "markdown",
   "metadata": {},
   "source": [
    "##  SN Instance Catalogs"
   ]
  },
  {
   "cell_type": "code",
   "execution_count": 28,
   "metadata": {
    "collapsed": false
   },
   "outputs": [
    {
     "data": {
      "text/plain": [
       "['galtileid',\n",
       " 'htmid',\n",
       " 'id',\n",
       " 't0',\n",
       " 'c',\n",
       " 'x1',\n",
       " 'x0',\n",
       " 'redshift',\n",
       " 'snra',\n",
       " 'sndec',\n",
       " 'cx',\n",
       " 'cy',\n",
       " 'cz']"
      ]
     },
     "execution_count": 28,
     "metadata": {},
     "output_type": "execute_result"
    }
   ],
   "source": [
    "s.get_column_names('TwinkSN')"
   ]
  },
  {
   "cell_type": "code",
   "execution_count": 29,
   "metadata": {
    "collapsed": false
   },
   "outputs": [
    {
     "data": {
      "text/plain": [
       "['galtileid',\n",
       " 'htmid',\n",
       " 'id',\n",
       " 't0',\n",
       " 'c',\n",
       " 'x1',\n",
       " 'x0',\n",
       " 'redshift',\n",
       " 'snra',\n",
       " 'sndec',\n",
       " 'cx',\n",
       " 'cy',\n",
       " 'cz']"
      ]
     },
     "execution_count": 29,
     "metadata": {},
     "output_type": "execute_result"
    }
   ],
   "source": [
    "s.get_column_names('TwinkSNKraken')"
   ]
  },
  {
   "cell_type": "code",
   "execution_count": 30,
   "metadata": {
    "collapsed": false
   },
   "outputs": [
    {
     "data": {
      "text/plain": [
       "'id'"
      ]
     },
     "execution_count": 30,
     "metadata": {},
     "output_type": "execute_result"
    }
   ],
   "source": [
    "s.getIdColKey()"
   ]
  },
  {
   "cell_type": "code",
   "execution_count": 31,
   "metadata": {
    "collapsed": false
   },
   "outputs": [
    {
     "name": "stdout",
     "output_type": "stream",
     "text": [
      "galtileid -- BIGINT\n",
      "htmid -- BIGINT\n",
      "id -- BIGINT\n",
      "t0 -- FLOAT\n",
      "c -- FLOAT\n",
      "x1 -- FLOAT\n",
      "x0 -- FLOAT\n",
      "redshift -- FLOAT\n",
      "snra -- FLOAT\n",
      "sndec -- FLOAT\n",
      "cx -- FLOAT\n",
      "cy -- FLOAT\n",
      "cz -- FLOAT\n"
     ]
    }
   ],
   "source": [
    "s.show_db_columns()"
   ]
  },
  {
   "cell_type": "code",
   "execution_count": 32,
   "metadata": {
    "collapsed": false
   },
   "outputs": [],
   "source": [
    "sncatalog = FrozenSNCat(db_obj=s, obs_metadata=TwinklesObsMetaDataSmall, \n",
    "                         column_outputs=['snra', 'galtileid', 'sndec', 'snid', 'x0', 't0', 'flux', 'flux_err', 'mag', 'mag_err',\n",
    "                                         'TmagNorm', 'TsedFilepath', 'adu'])\n",
    "sncatalog.surveyStartDate = 49500.\n",
    "sncatalog.writeSedFile = True\n",
    "sncatalog.prefix = '/tmp/phosim_cat_'"
   ]
  },
  {
   "cell_type": "code",
   "execution_count": 33,
   "metadata": {
    "collapsed": false
   },
   "outputs": [
    {
     "data": {
      "text/plain": [
       "True"
      ]
     },
     "execution_count": 33,
     "metadata": {},
     "output_type": "execute_result"
    }
   ],
   "source": [
    "sncatalog.suppressDimSN"
   ]
  },
  {
   "cell_type": "code",
   "execution_count": 34,
   "metadata": {
    "collapsed": false
   },
   "outputs": [
    {
     "data": {
      "text/plain": [
       "True"
      ]
     },
     "execution_count": 34,
     "metadata": {},
     "output_type": "execute_result"
    }
   ],
   "source": [
    "sncatalog.suppressHighzSN"
   ]
  },
  {
   "cell_type": "code",
   "execution_count": 35,
   "metadata": {
    "collapsed": true
   },
   "outputs": [],
   "source": [
    "sncatalog.write_catalog('/tmp/sncat.dat')"
   ]
  },
  {
   "cell_type": "code",
   "execution_count": 36,
   "metadata": {
    "collapsed": false
   },
   "outputs": [
    {
     "name": "stdout",
     "output_type": "stream",
     "text": [
      "#snid, snra, sndec, z, t0, c, x1, x0, galtileid, flux, flux_err, mag, mag_err, TmagNorm, TsedFilepath, adu\r\n",
      "6000134534807.0000, 9.249009e-01, -4.796603e-01, 0.8308, 49634.4989, -4.487114e-03, 0.4750, 2.808300e-06, 60001345348, 3.873175e-11, 3.681015e-11, 26.0298, 7.253192e-01, 25.8191, /tmp/phosim_cat_specFile_6000134534807_49612.3425_r.dat, 90.0223\r\n",
      "6000134534803.0000, 9.249005e-01, -4.796599e-01, 0.8308, 49622.7228, 1.428843e-01, -1.3618, 1.618702e-06, 60001345348, 4.591798e-11, 3.682841e-11, 25.8450, 6.394352e-01, 25.3560, /tmp/phosim_cat_specFile_6000134534803_49612.3425_r.dat, 106.7249\r\n",
      "6000166844111.0000, 9.249629e-01, -4.797319e-01, 0.8669, 49575.7365, -3.970874e-03, -0.7924, 3.259538e-06, 60001668441, 1.504787e-11, 3.674992e-11, 27.0563, 1.342100e+00, 25.7384, /tmp/phosim_cat_specFile_6000166844111_49612.3425_r.dat, 34.9750\r\n",
      "6000038455704.0000, 9.247567e-01, -4.796392e-01, 0.6390, 49552.2699, -1.247955e-01, -0.4213, 8.927580e-06, 60000384557, 3.525994e-11, 3.680133e-11, 26.1318, 7.760669e-01, 25.9550, /tmp/phosim_cat_specFile_6000038455704_49612.3425_r.dat, 81.9530\r\n",
      "6000051869210.0000, 9.247350e-01, -4.796036e-01, 0.8944, 49515.4154, -1.165152e-02, -0.2010, 2.828544e-06, 60000518692, 0.000000e+00,      nan, inf,      inf, 1000.0000, None, 0.0000\r\n",
      "6000977162201.0000, 9.246883e-01, -4.794422e-01, 0.4733, 49674.4225, -4.125256e-02, -0.6860, 1.478684e-05, 60009771622, 0.000000e+00,      nan, inf,      inf, 1000.0000, None, 0.0000\r\n",
      "6000977162200.0000, 9.246858e-01, -4.794407e-01, 0.4733, 49682.6384, -1.688737e-01, 0.7260, 2.349310e-05, 60009771622, 0.000000e+00,      nan, inf,      inf, 1000.0000, None, 0.0000\r\n",
      "6000669150802.0000, 9.254766e-01, -4.785755e-01, 0.5669, 49663.8262, -2.262857e-02, -0.3684, 1.119497e-05, 60006691508, 0.000000e+00,      nan, inf,      inf, 1000.0000, None, 0.0000\r\n",
      "6001496264000.0000, 9.256164e-01, -4.785366e-01, 0.8932, 49568.6342, 3.714686e-02, 0.5711, 2.148406e-06, 60014962640, 7.221241e-12, 3.673000e-11, 27.8535, 1.960905e+00, 26.2651, /tmp/phosim_cat_specFile_6001496264000_49612.3425_r.dat, 16.7840\r\n"
     ]
    }
   ],
   "source": [
    "!head /tmp/sncat.dat"
   ]
  },
  {
   "cell_type": "code",
   "execution_count": 37,
   "metadata": {
    "collapsed": false
   },
   "outputs": [
    {
     "name": "stdout",
     "output_type": "stream",
     "text": [
      "\u001b[34mcom.apple.launchd.ZOEawwYZib\u001b[m\u001b[m\r\n",
      "\u001b[34mcom.apple.launchd.pbsi3RvQie\u001b[m\u001b[m\r\n",
      "\u001b[34mcom.apple.launchd.uHMJWQpR7i\u001b[m\u001b[m\r\n",
      "ct.shutdown\r\n",
      "phosim_cat_specFile_6000000549201_49612.3425_r.dat\r\n",
      "phosim_cat_specFile_6000002425203_49612.3425_r.dat\r\n",
      "phosim_cat_specFile_6000005422702_49612.3425_r.dat\r\n",
      "phosim_cat_specFile_6000008189004_49612.3425_r.dat\r\n",
      "phosim_cat_specFile_6000009259001_49612.3425_r.dat\r\n",
      "phosim_cat_specFile_6000011378201_49612.3425_r.dat\r\n",
      "phosim_cat_specFile_6000013319703_49612.3425_r.dat\r\n",
      "phosim_cat_specFile_6000015342700_49612.3425_r.dat\r\n",
      "phosim_cat_specFile_6000018457105_49612.3425_r.dat\r\n",
      "phosim_cat_specFile_6000020379900_49612.3425_r.dat\r\n",
      "phosim_cat_specFile_6000024404501_49612.3425_r.dat\r\n",
      "phosim_cat_specFile_6000025771801_49612.3425_r.dat\r\n",
      "phosim_cat_specFile_6000033688200_49612.3425_r.dat\r\n",
      "phosim_cat_specFile_6000033906500_49612.3425_r.dat\r\n",
      "phosim_cat_specFile_6000033906502_49612.3425_r.dat\r\n",
      "phosim_cat_specFile_6000033906503_49612.3425_r.dat\r\n",
      "phosim_cat_specFile_6000033906504_49612.3425_r.dat\r\n",
      "phosim_cat_specFile_6000038455704_49612.3425_r.dat\r\n",
      "phosim_cat_specFile_6000038657100_49612.3425_r.dat\r\n",
      "phosim_cat_specFile_6000039790801_49612.3425_r.dat\r\n",
      "phosim_cat_specFile_6000050506900_49612.3425_r.dat\r\n",
      "phosim_cat_specFile_6000054225508_49612.3425_r.dat\r\n",
      "phosim_cat_specFile_6000065239400_49612.3425_r.dat\r\n",
      "phosim_cat_specFile_6000066364100_49612.3425_r.dat\r\n",
      "phosim_cat_specFile_6000072717303_49612.3425_r.dat\r\n",
      "phosim_cat_specFile_6000072730105_49612.3425_r.dat\r\n",
      "phosim_cat_specFile_6000076927902_49612.3425_r.dat\r\n",
      "phosim_cat_specFile_6000089632201_49612.3425_r.dat\r\n",
      "phosim_cat_specFile_6000090021001_49612.3425_r.dat\r\n",
      "phosim_cat_specFile_6000090056107_49612.3425_r.dat\r\n",
      "phosim_cat_specFile_6000090056110_49612.3425_r.dat\r\n",
      "phosim_cat_specFile_6000091522300_49612.3425_r.dat\r\n",
      "phosim_cat_specFile_6000091687504_49612.3425_r.dat\r\n",
      "phosim_cat_specFile_6000091709107_49612.3425_r.dat\r\n",
      "phosim_cat_specFile_6000109692304_49612.3425_r.dat\r\n",
      "phosim_cat_specFile_6000128273501_49612.3425_r.dat\r\n",
      "phosim_cat_specFile_6000132752502_49612.3425_r.dat\r\n",
      "phosim_cat_specFile_6000134408504_49612.3425_r.dat\r\n",
      "phosim_cat_specFile_6000134531900_49612.3425_r.dat\r\n",
      "phosim_cat_specFile_6000134534803_49612.3425_r.dat\r\n",
      "phosim_cat_specFile_6000134534807_49612.3425_r.dat\r\n",
      "phosim_cat_specFile_6000137165304_49612.3425_r.dat\r\n",
      "phosim_cat_specFile_6000139428605_49612.3425_r.dat\r\n",
      "phosim_cat_specFile_6000140140803_49612.3425_r.dat\r\n",
      "phosim_cat_specFile_6000163765100_49612.3425_r.dat\r\n",
      "phosim_cat_specFile_6000164499300_49612.3425_r.dat\r\n",
      "phosim_cat_specFile_6000166844111_49612.3425_r.dat\r\n",
      "phosim_cat_specFile_6000167058301_49612.3425_r.dat\r\n",
      "phosim_cat_specFile_6000167068307_49612.3425_r.dat\r\n",
      "phosim_cat_specFile_6000182213900_49612.3425_r.dat\r\n",
      "phosim_cat_specFile_6000194993000_49612.3425_r.dat\r\n",
      "phosim_cat_specFile_6000195497000_49612.3425_r.dat\r\n",
      "phosim_cat_specFile_6000198918010_49612.3425_r.dat\r\n",
      "phosim_cat_specFile_6000202198804_49612.3425_r.dat\r\n",
      "phosim_cat_specFile_6000202566600_49612.3425_r.dat\r\n",
      "phosim_cat_specFile_6000202566601_49612.3425_r.dat\r\n",
      "phosim_cat_specFile_6000210456500_49612.3425_r.dat\r\n",
      "phosim_cat_specFile_6000211814800_49612.3425_r.dat\r\n",
      "phosim_cat_specFile_6000221014505_49612.3425_r.dat\r\n",
      "phosim_cat_specFile_6000237922901_49612.3425_r.dat\r\n",
      "phosim_cat_specFile_6000238091605_49612.3425_r.dat\r\n",
      "phosim_cat_specFile_6000238396802_49612.3425_r.dat\r\n",
      "phosim_cat_specFile_6000238813410_49612.3425_r.dat\r\n",
      "phosim_cat_specFile_6000239255406_49612.3425_r.dat\r\n",
      "phosim_cat_specFile_6000241453803_49612.3425_r.dat\r\n",
      "phosim_cat_specFile_6000243925204_49612.3425_r.dat\r\n",
      "phosim_cat_specFile_6000253613201_49612.3425_r.dat\r\n",
      "phosim_cat_specFile_6000274614100_49612.3425_r.dat\r\n",
      "phosim_cat_specFile_6000285849403_49612.3425_r.dat\r\n",
      "phosim_cat_specFile_6000287566910_49612.3425_r.dat\r\n",
      "phosim_cat_specFile_6000288586307_49612.3425_r.dat\r\n",
      "phosim_cat_specFile_6000289463004_49612.3425_r.dat\r\n",
      "phosim_cat_specFile_6000292499903_49612.3425_r.dat\r\n",
      "phosim_cat_specFile_6000298458003_49612.3425_r.dat\r\n",
      "phosim_cat_specFile_6000298852004_49612.3425_r.dat\r\n",
      "phosim_cat_specFile_6000335531502_49612.3425_r.dat\r\n",
      "phosim_cat_specFile_6000341735403_49612.3425_r.dat\r\n",
      "phosim_cat_specFile_6000342158106_49612.3425_r.dat\r\n",
      "phosim_cat_specFile_6000342158107_49612.3425_r.dat\r\n",
      "phosim_cat_specFile_6000342757701_49612.3425_r.dat\r\n",
      "phosim_cat_specFile_6000343197304_49612.3425_r.dat\r\n",
      "phosim_cat_specFile_6000343197305_49612.3425_r.dat\r\n",
      "phosim_cat_specFile_6000343197313_49612.3425_r.dat\r\n",
      "phosim_cat_specFile_6000351116503_49612.3425_r.dat\r\n",
      "phosim_cat_specFile_6000357541300_49612.3425_r.dat\r\n",
      "phosim_cat_specFile_6000362915402_49612.3425_r.dat\r\n",
      "phosim_cat_specFile_6000363986303_49612.3425_r.dat\r\n",
      "phosim_cat_specFile_6000364581702_49612.3425_r.dat\r\n",
      "phosim_cat_specFile_6000402455901_49612.3425_r.dat\r\n",
      "phosim_cat_specFile_6000403163802_49612.3425_r.dat\r\n",
      "phosim_cat_specFile_6000406986706_49612.3425_r.dat\r\n",
      "phosim_cat_specFile_6000408172205_49612.3425_r.dat\r\n",
      "phosim_cat_specFile_6000408462007_49612.3425_r.dat\r\n",
      "phosim_cat_specFile_6000410400901_49612.3425_r.dat\r\n",
      "phosim_cat_specFile_6000410542104_49612.3425_r.dat\r\n",
      "phosim_cat_specFile_6000412210009_49612.3425_r.dat\r\n",
      "phosim_cat_specFile_6000414005603_49612.3425_r.dat\r\n",
      "phosim_cat_specFile_6000414475300_49612.3425_r.dat\r\n",
      "phosim_cat_specFile_6000417413903_49612.3425_r.dat\r\n",
      "phosim_cat_specFile_6000417413908_49612.3425_r.dat\r\n",
      "phosim_cat_specFile_6000425656001_49612.3425_r.dat\r\n",
      "phosim_cat_specFile_6000433495900_49612.3425_r.dat\r\n",
      "phosim_cat_specFile_6000483325300_49612.3425_r.dat\r\n",
      "phosim_cat_specFile_6000486286608_49612.3425_r.dat\r\n",
      "phosim_cat_specFile_6000486665300_49612.3425_r.dat\r\n",
      "phosim_cat_specFile_6000490746900_49612.3425_r.dat\r\n",
      "phosim_cat_specFile_6000494647400_49612.3425_r.dat\r\n",
      "phosim_cat_specFile_6000495200504_49612.3425_r.dat\r\n",
      "phosim_cat_specFile_6000495366201_49612.3425_r.dat\r\n",
      "phosim_cat_specFile_6000501078300_49612.3425_r.dat\r\n",
      "phosim_cat_specFile_6000504962500_49612.3425_r.dat\r\n",
      "phosim_cat_specFile_6000513104500_49612.3425_r.dat\r\n",
      "phosim_cat_specFile_6000515368501_49612.3425_r.dat\r\n",
      "phosim_cat_specFile_6000551716103_49612.3425_r.dat\r\n",
      "phosim_cat_specFile_6000551716108_49612.3425_r.dat\r\n",
      "phosim_cat_specFile_6000562083903_49612.3425_r.dat\r\n",
      "phosim_cat_specFile_6000572776704_49612.3425_r.dat\r\n",
      "phosim_cat_specFile_6000574434803_49612.3425_r.dat\r\n",
      "phosim_cat_specFile_6000574726505_49612.3425_r.dat\r\n",
      "phosim_cat_specFile_6000574726509_49612.3425_r.dat\r\n",
      "phosim_cat_specFile_6000576347401_49612.3425_r.dat\r\n",
      "phosim_cat_specFile_6000594091807_49612.3425_r.dat\r\n",
      "phosim_cat_specFile_6000594143600_49612.3425_r.dat\r\n",
      "phosim_cat_specFile_6000598081300_49612.3425_r.dat\r\n",
      "phosim_cat_specFile_6000598139101_49612.3425_r.dat\r\n",
      "phosim_cat_specFile_6000605816501_49612.3425_r.dat\r\n",
      "phosim_cat_specFile_6000606308802_49612.3425_r.dat\r\n",
      "phosim_cat_specFile_6000606321600_49612.3425_r.dat\r\n",
      "phosim_cat_specFile_6000606651500_49612.3425_r.dat\r\n",
      "phosim_cat_specFile_6000607219501_49612.3425_r.dat\r\n",
      "phosim_cat_specFile_6000627936000_49612.3425_r.dat\r\n",
      "phosim_cat_specFile_6000661681100_49612.3425_r.dat\r\n",
      "phosim_cat_specFile_6000672110506_49612.3425_r.dat\r\n",
      "phosim_cat_specFile_6000672859500_49612.3425_r.dat\r\n",
      "phosim_cat_specFile_6000676473200_49612.3425_r.dat\r\n",
      "phosim_cat_specFile_6000676624603_49612.3425_r.dat\r\n",
      "phosim_cat_specFile_6000676754304_49612.3425_r.dat\r\n",
      "phosim_cat_specFile_6000677662600_49612.3425_r.dat\r\n",
      "phosim_cat_specFile_6000677662612_49612.3425_r.dat\r\n",
      "phosim_cat_specFile_6000678071502_49612.3425_r.dat\r\n",
      "phosim_cat_specFile_6000685581404_49612.3425_r.dat\r\n",
      "phosim_cat_specFile_6000685581405_49612.3425_r.dat\r\n",
      "phosim_cat_specFile_6000685739708_49612.3425_r.dat\r\n",
      "phosim_cat_specFile_6000687033504_49612.3425_r.dat\r\n",
      "phosim_cat_specFile_6000687138504_49612.3425_r.dat\r\n",
      "phosim_cat_specFile_6000700584801_49612.3425_r.dat\r\n",
      "phosim_cat_specFile_6000713497400_49612.3425_r.dat\r\n",
      "phosim_cat_specFile_6000713667100_49612.3425_r.dat\r\n",
      "phosim_cat_specFile_6000713742900_49612.3425_r.dat\r\n",
      "phosim_cat_specFile_6000740499200_49612.3425_r.dat\r\n",
      "phosim_cat_specFile_6000774895400_49612.3425_r.dat\r\n",
      "phosim_cat_specFile_6000774895402_49612.3425_r.dat\r\n",
      "phosim_cat_specFile_6000790009408_49612.3425_r.dat\r\n",
      "phosim_cat_specFile_6000790009413_49612.3425_r.dat\r\n",
      "phosim_cat_specFile_6000795457501_49612.3425_r.dat\r\n",
      "phosim_cat_specFile_6000797293504_49612.3425_r.dat\r\n",
      "phosim_cat_specFile_6000799122700_49612.3425_r.dat\r\n",
      "phosim_cat_specFile_6000805062900_49612.3425_r.dat\r\n",
      "phosim_cat_specFile_6000806204406_49612.3425_r.dat\r\n",
      "phosim_cat_specFile_6000806620403_49612.3425_r.dat\r\n",
      "phosim_cat_specFile_6000818813400_49612.3425_r.dat\r\n",
      "phosim_cat_specFile_6000834875902_49612.3425_r.dat\r\n",
      "phosim_cat_specFile_6000899560002_49612.3425_r.dat\r\n",
      "phosim_cat_specFile_6000911426800_49612.3425_r.dat\r\n",
      "phosim_cat_specFile_6000919447501_49612.3425_r.dat\r\n",
      "phosim_cat_specFile_6000919447504_49612.3425_r.dat\r\n",
      "phosim_cat_specFile_6000924272500_49612.3425_r.dat\r\n",
      "phosim_cat_specFile_6000938291203_49612.3425_r.dat\r\n",
      "phosim_cat_specFile_6000940023802_49612.3425_r.dat\r\n",
      "phosim_cat_specFile_6000940515609_49612.3425_r.dat\r\n",
      "phosim_cat_specFile_6000941475401_49612.3425_r.dat\r\n",
      "phosim_cat_specFile_6000957456700_49612.3425_r.dat\r\n",
      "phosim_cat_specFile_6000972229700_49612.3425_r.dat\r\n",
      "phosim_cat_specFile_6000972570502_49612.3425_r.dat\r\n",
      "phosim_cat_specFile_6000982135402_49612.3425_r.dat\r\n",
      "phosim_cat_specFile_6001010489503_49612.3425_r.dat\r\n",
      "phosim_cat_specFile_6001024562102_49612.3425_r.dat\r\n",
      "phosim_cat_specFile_6001048987801_49612.3425_r.dat\r\n",
      "phosim_cat_specFile_6001071398302_49612.3425_r.dat\r\n",
      "phosim_cat_specFile_6001076289901_49612.3425_r.dat\r\n",
      "phosim_cat_specFile_6001076716608_49612.3425_r.dat\r\n",
      "phosim_cat_specFile_6001080913807_49612.3425_r.dat\r\n",
      "phosim_cat_specFile_6001082682302_49612.3425_r.dat\r\n",
      "phosim_cat_specFile_6001082730705_49612.3425_r.dat\r\n",
      "phosim_cat_specFile_6001083089800_49612.3425_r.dat\r\n",
      "phosim_cat_specFile_6001090082505_49612.3425_r.dat\r\n",
      "phosim_cat_specFile_6001090682202_49612.3425_r.dat\r\n",
      "phosim_cat_specFile_6001103506602_49612.3425_r.dat\r\n",
      "phosim_cat_specFile_6001104359605_49612.3425_r.dat\r\n",
      "phosim_cat_specFile_6001106441500_49612.3425_r.dat\r\n",
      "phosim_cat_specFile_6001124561302_49612.3425_r.dat\r\n",
      "phosim_cat_specFile_6001125632102_49612.3425_r.dat\r\n",
      "phosim_cat_specFile_6001128400302_49612.3425_r.dat\r\n",
      "phosim_cat_specFile_6001194751802_49612.3425_r.dat\r\n",
      "phosim_cat_specFile_6001199135103_49612.3425_r.dat\r\n",
      "phosim_cat_specFile_6001199321908_49612.3425_r.dat\r\n",
      "phosim_cat_specFile_6001213289101_49612.3425_r.dat\r\n",
      "phosim_cat_specFile_6001274662701_49612.3425_r.dat\r\n",
      "phosim_cat_specFile_6001275441101_49612.3425_r.dat\r\n",
      "phosim_cat_specFile_6001291338100_49612.3425_r.dat\r\n",
      "phosim_cat_specFile_6001317431307_49612.3425_r.dat\r\n",
      "phosim_cat_specFile_6001319426000_49612.3425_r.dat\r\n",
      "phosim_cat_specFile_6001322240302_49612.3425_r.dat\r\n",
      "phosim_cat_specFile_6001348158501_49612.3425_r.dat\r\n",
      "phosim_cat_specFile_6001376540801_49612.3425_r.dat\r\n",
      "phosim_cat_specFile_6001376540805_49612.3425_r.dat\r\n",
      "phosim_cat_specFile_6001410750400_49612.3425_r.dat\r\n",
      "phosim_cat_specFile_6001493935900_49612.3425_r.dat\r\n",
      "phosim_cat_specFile_6001496264000_49612.3425_r.dat\r\n",
      "phosim_cat_specFile_6001541975801_49612.3425_r.dat\r\n",
      "phosim_cat_specFile_6001552130005_49612.3425_r.dat\r\n",
      "phosim_cat_specFile_6001603288204_49612.3425_r.dat\r\n",
      "phosim_cat_specFile_6001604892701_49612.3425_r.dat\r\n",
      "phosim_cat_specFile_6001604892708_49612.3425_r.dat\r\n",
      "phosim_cat_specFile_6001614647700_49612.3425_r.dat\r\n",
      "phosim_cat_specFile_6001632556302_49612.3425_r.dat\r\n",
      "phosim_cat_specFile_6001666672200_49612.3425_r.dat\r\n",
      "phosim_cat_specFile_6001678759402_49612.3425_r.dat\r\n",
      "phosim_catspecFile_6000000549201_49612.3425_r.dat\r\n",
      "phosim_catspecFile_6000002425203_49612.3425_r.dat\r\n",
      "phosim_catspecFile_6000005422702_49612.3425_r.dat\r\n",
      "phosim_catspecFile_6000008189004_49612.3425_r.dat\r\n",
      "phosim_catspecFile_6000009259001_49612.3425_r.dat\r\n",
      "phosim_catspecFile_6000011378201_49612.3425_r.dat\r\n",
      "phosim_catspecFile_6000013319703_49612.3425_r.dat\r\n",
      "phosim_catspecFile_6000015342700_49612.3425_r.dat\r\n",
      "phosim_catspecFile_6000018457105_49612.3425_r.dat\r\n",
      "phosim_catspecFile_6000020379900_49612.3425_r.dat\r\n",
      "phosim_catspecFile_6000024404501_49612.3425_r.dat\r\n",
      "phosim_catspecFile_6000025771801_49612.3425_r.dat\r\n",
      "phosim_catspecFile_6000033688200_49612.3425_r.dat\r\n",
      "phosim_catspecFile_6000033906500_49612.3425_r.dat\r\n",
      "phosim_catspecFile_6000033906502_49612.3425_r.dat\r\n",
      "phosim_catspecFile_6000033906503_49612.3425_r.dat\r\n",
      "phosim_catspecFile_6000033906504_49612.3425_r.dat\r\n",
      "phosim_catspecFile_6000038455704_49612.3425_r.dat\r\n",
      "phosim_catspecFile_6000038657100_49612.3425_r.dat\r\n",
      "phosim_catspecFile_6000039790801_49612.3425_r.dat\r\n",
      "phosim_catspecFile_6000050506900_49612.3425_r.dat\r\n",
      "phosim_catspecFile_6000054225508_49612.3425_r.dat\r\n",
      "phosim_catspecFile_6000065239400_49612.3425_r.dat\r\n",
      "phosim_catspecFile_6000066364100_49612.3425_r.dat\r\n",
      "phosim_catspecFile_6000072717303_49612.3425_r.dat\r\n",
      "phosim_catspecFile_6000072730105_49612.3425_r.dat\r\n",
      "phosim_catspecFile_6000076927902_49612.3425_r.dat\r\n",
      "phosim_catspecFile_6000089632201_49612.3425_r.dat\r\n",
      "phosim_catspecFile_6000090021001_49612.3425_r.dat\r\n",
      "phosim_catspecFile_6000090056107_49612.3425_r.dat\r\n",
      "phosim_catspecFile_6000090056110_49612.3425_r.dat\r\n",
      "phosim_catspecFile_6000091522300_49612.3425_r.dat\r\n",
      "phosim_catspecFile_6000091687504_49612.3425_r.dat\r\n",
      "phosim_catspecFile_6000091709107_49612.3425_r.dat\r\n",
      "phosim_catspecFile_6000109692304_49612.3425_r.dat\r\n",
      "phosim_catspecFile_6000128273501_49612.3425_r.dat\r\n",
      "phosim_catspecFile_6000132752502_49612.3425_r.dat\r\n",
      "phosim_catspecFile_6000134408504_49612.3425_r.dat\r\n",
      "phosim_catspecFile_6000134531900_49612.3425_r.dat\r\n",
      "phosim_catspecFile_6000134534803_49612.3425_r.dat\r\n",
      "phosim_catspecFile_6000134534807_49612.3425_r.dat\r\n",
      "phosim_catspecFile_6000137165304_49612.3425_r.dat\r\n",
      "phosim_catspecFile_6000139428605_49612.3425_r.dat\r\n",
      "phosim_catspecFile_6000140140803_49612.3425_r.dat\r\n",
      "phosim_catspecFile_6000163765100_49612.3425_r.dat\r\n",
      "phosim_catspecFile_6000164499300_49612.3425_r.dat\r\n",
      "phosim_catspecFile_6000166844111_49612.3425_r.dat\r\n",
      "phosim_catspecFile_6000167058301_49612.3425_r.dat\r\n",
      "phosim_catspecFile_6000167068307_49612.3425_r.dat\r\n",
      "phosim_catspecFile_6000182213900_49612.3425_r.dat\r\n",
      "phosim_catspecFile_6000194993000_49612.3425_r.dat\r\n",
      "phosim_catspecFile_6000195497000_49612.3425_r.dat\r\n",
      "phosim_catspecFile_6000198918010_49612.3425_r.dat\r\n",
      "phosim_catspecFile_6000202198804_49612.3425_r.dat\r\n",
      "phosim_catspecFile_6000202566600_49612.3425_r.dat\r\n",
      "phosim_catspecFile_6000202566601_49612.3425_r.dat\r\n",
      "phosim_catspecFile_6000210456500_49612.3425_r.dat\r\n",
      "phosim_catspecFile_6000211814800_49612.3425_r.dat\r\n",
      "phosim_catspecFile_6000221014505_49612.3425_r.dat\r\n",
      "phosim_catspecFile_6000237922901_49612.3425_r.dat\r\n",
      "phosim_catspecFile_6000238091605_49612.3425_r.dat\r\n",
      "phosim_catspecFile_6000238396802_49612.3425_r.dat\r\n",
      "phosim_catspecFile_6000238813410_49612.3425_r.dat\r\n",
      "phosim_catspecFile_6000239255406_49612.3425_r.dat\r\n",
      "phosim_catspecFile_6000241453803_49612.3425_r.dat\r\n",
      "phosim_catspecFile_6000243925204_49612.3425_r.dat\r\n",
      "phosim_catspecFile_6000253613201_49612.3425_r.dat\r\n",
      "phosim_catspecFile_6000274614100_49612.3425_r.dat\r\n",
      "phosim_catspecFile_6000285849403_49612.3425_r.dat\r\n",
      "phosim_catspecFile_6000287566910_49612.3425_r.dat\r\n",
      "phosim_catspecFile_6000288586307_49612.3425_r.dat\r\n",
      "phosim_catspecFile_6000289463004_49612.3425_r.dat\r\n",
      "phosim_catspecFile_6000292499903_49612.3425_r.dat\r\n",
      "phosim_catspecFile_6000298458003_49612.3425_r.dat\r\n",
      "phosim_catspecFile_6000298852004_49612.3425_r.dat\r\n",
      "phosim_catspecFile_6000335531502_49612.3425_r.dat\r\n",
      "phosim_catspecFile_6000341735403_49612.3425_r.dat\r\n",
      "phosim_catspecFile_6000342158106_49612.3425_r.dat\r\n",
      "phosim_catspecFile_6000342158107_49612.3425_r.dat\r\n",
      "phosim_catspecFile_6000342757701_49612.3425_r.dat\r\n",
      "phosim_catspecFile_6000343197304_49612.3425_r.dat\r\n",
      "phosim_catspecFile_6000343197305_49612.3425_r.dat\r\n",
      "phosim_catspecFile_6000343197313_49612.3425_r.dat\r\n",
      "phosim_catspecFile_6000351116503_49612.3425_r.dat\r\n",
      "phosim_catspecFile_6000357541300_49612.3425_r.dat\r\n",
      "phosim_catspecFile_6000362915402_49612.3425_r.dat\r\n",
      "phosim_catspecFile_6000363986303_49612.3425_r.dat\r\n",
      "phosim_catspecFile_6000364581702_49612.3425_r.dat\r\n",
      "phosim_catspecFile_6000402455901_49612.3425_r.dat\r\n",
      "phosim_catspecFile_6000403163802_49612.3425_r.dat\r\n",
      "phosim_catspecFile_6000406986706_49612.3425_r.dat\r\n",
      "phosim_catspecFile_6000408172205_49612.3425_r.dat\r\n",
      "phosim_catspecFile_6000408462007_49612.3425_r.dat\r\n",
      "phosim_catspecFile_6000410400901_49612.3425_r.dat\r\n",
      "phosim_catspecFile_6000410542104_49612.3425_r.dat\r\n",
      "phosim_catspecFile_6000412210009_49612.3425_r.dat\r\n",
      "phosim_catspecFile_6000414005603_49612.3425_r.dat\r\n",
      "phosim_catspecFile_6000414475300_49612.3425_r.dat\r\n",
      "phosim_catspecFile_6000417413903_49612.3425_r.dat\r\n",
      "phosim_catspecFile_6000417413908_49612.3425_r.dat\r\n",
      "phosim_catspecFile_6000425656001_49612.3425_r.dat\r\n",
      "phosim_catspecFile_6000433495900_49612.3425_r.dat\r\n",
      "phosim_catspecFile_6000483325300_49612.3425_r.dat\r\n",
      "phosim_catspecFile_6000486286608_49612.3425_r.dat\r\n",
      "phosim_catspecFile_6000486665300_49612.3425_r.dat\r\n",
      "phosim_catspecFile_6000490746900_49612.3425_r.dat\r\n",
      "phosim_catspecFile_6000494647400_49612.3425_r.dat\r\n",
      "phosim_catspecFile_6000495200504_49612.3425_r.dat\r\n",
      "phosim_catspecFile_6000495366201_49612.3425_r.dat\r\n",
      "phosim_catspecFile_6000501078300_49612.3425_r.dat\r\n",
      "phosim_catspecFile_6000504962500_49612.3425_r.dat\r\n",
      "phosim_catspecFile_6000513104500_49612.3425_r.dat\r\n",
      "phosim_catspecFile_6000515368501_49612.3425_r.dat\r\n",
      "phosim_catspecFile_6000551716103_49612.3425_r.dat\r\n",
      "phosim_catspecFile_6000551716108_49612.3425_r.dat\r\n",
      "phosim_catspecFile_6000562083903_49612.3425_r.dat\r\n",
      "phosim_catspecFile_6000572776704_49612.3425_r.dat\r\n",
      "phosim_catspecFile_6000574434803_49612.3425_r.dat\r\n",
      "phosim_catspecFile_6000574726505_49612.3425_r.dat\r\n",
      "phosim_catspecFile_6000574726509_49612.3425_r.dat\r\n",
      "phosim_catspecFile_6000576347401_49612.3425_r.dat\r\n",
      "phosim_catspecFile_6000594091807_49612.3425_r.dat\r\n",
      "phosim_catspecFile_6000594143600_49612.3425_r.dat\r\n",
      "phosim_catspecFile_6000598081300_49612.3425_r.dat\r\n",
      "phosim_catspecFile_6000598139101_49612.3425_r.dat\r\n",
      "phosim_catspecFile_6000605816501_49612.3425_r.dat\r\n",
      "phosim_catspecFile_6000606308802_49612.3425_r.dat\r\n",
      "phosim_catspecFile_6000606321600_49612.3425_r.dat\r\n",
      "phosim_catspecFile_6000606651500_49612.3425_r.dat\r\n",
      "phosim_catspecFile_6000607219501_49612.3425_r.dat\r\n",
      "phosim_catspecFile_6000627936000_49612.3425_r.dat\r\n",
      "phosim_catspecFile_6000661681100_49612.3425_r.dat\r\n",
      "phosim_catspecFile_6000672110506_49612.3425_r.dat\r\n",
      "phosim_catspecFile_6000672859500_49612.3425_r.dat\r\n",
      "phosim_catspecFile_6000676473200_49612.3425_r.dat\r\n",
      "phosim_catspecFile_6000676624603_49612.3425_r.dat\r\n",
      "phosim_catspecFile_6000676754304_49612.3425_r.dat\r\n",
      "phosim_catspecFile_6000677662600_49612.3425_r.dat\r\n",
      "phosim_catspecFile_6000677662612_49612.3425_r.dat\r\n",
      "phosim_catspecFile_6000678071502_49612.3425_r.dat\r\n",
      "phosim_catspecFile_6000685581404_49612.3425_r.dat\r\n",
      "phosim_catspecFile_6000685581405_49612.3425_r.dat\r\n",
      "phosim_catspecFile_6000685739708_49612.3425_r.dat\r\n",
      "phosim_catspecFile_6000687033504_49612.3425_r.dat\r\n",
      "phosim_catspecFile_6000687138504_49612.3425_r.dat\r\n",
      "phosim_catspecFile_6000700584801_49612.3425_r.dat\r\n",
      "phosim_catspecFile_6000713497400_49612.3425_r.dat\r\n",
      "phosim_catspecFile_6000713667100_49612.3425_r.dat\r\n",
      "phosim_catspecFile_6000713742900_49612.3425_r.dat\r\n",
      "phosim_catspecFile_6000740499200_49612.3425_r.dat\r\n",
      "phosim_catspecFile_6000774895400_49612.3425_r.dat\r\n",
      "phosim_catspecFile_6000774895402_49612.3425_r.dat\r\n",
      "phosim_catspecFile_6000790009408_49612.3425_r.dat\r\n",
      "phosim_catspecFile_6000790009413_49612.3425_r.dat\r\n",
      "phosim_catspecFile_6000795457501_49612.3425_r.dat\r\n",
      "phosim_catspecFile_6000797293504_49612.3425_r.dat\r\n",
      "phosim_catspecFile_6000799122700_49612.3425_r.dat\r\n",
      "phosim_catspecFile_6000805062900_49612.3425_r.dat\r\n",
      "phosim_catspecFile_6000806204406_49612.3425_r.dat\r\n",
      "phosim_catspecFile_6000806620403_49612.3425_r.dat\r\n",
      "phosim_catspecFile_6000818813400_49612.3425_r.dat\r\n",
      "phosim_catspecFile_6000834875902_49612.3425_r.dat\r\n",
      "phosim_catspecFile_6000899560002_49612.3425_r.dat\r\n",
      "phosim_catspecFile_6000911426800_49612.3425_r.dat\r\n",
      "phosim_catspecFile_6000919447501_49612.3425_r.dat\r\n",
      "phosim_catspecFile_6000919447504_49612.3425_r.dat\r\n",
      "phosim_catspecFile_6000924272500_49612.3425_r.dat\r\n",
      "phosim_catspecFile_6000938291203_49612.3425_r.dat\r\n",
      "phosim_catspecFile_6000940023802_49612.3425_r.dat\r\n",
      "phosim_catspecFile_6000940515609_49612.3425_r.dat\r\n",
      "phosim_catspecFile_6000941475401_49612.3425_r.dat\r\n",
      "phosim_catspecFile_6000957456700_49612.3425_r.dat\r\n",
      "phosim_catspecFile_6000972229700_49612.3425_r.dat\r\n",
      "phosim_catspecFile_6000972570502_49612.3425_r.dat\r\n",
      "phosim_catspecFile_6000982135402_49612.3425_r.dat\r\n",
      "phosim_catspecFile_6001010489503_49612.3425_r.dat\r\n",
      "phosim_catspecFile_6001024562102_49612.3425_r.dat\r\n",
      "phosim_catspecFile_6001048987801_49612.3425_r.dat\r\n",
      "phosim_catspecFile_6001071398302_49612.3425_r.dat\r\n",
      "phosim_catspecFile_6001076289901_49612.3425_r.dat\r\n",
      "phosim_catspecFile_6001076716608_49612.3425_r.dat\r\n",
      "phosim_catspecFile_6001080913807_49612.3425_r.dat\r\n",
      "phosim_catspecFile_6001082682302_49612.3425_r.dat\r\n",
      "phosim_catspecFile_6001082730705_49612.3425_r.dat\r\n",
      "phosim_catspecFile_6001083089800_49612.3425_r.dat\r\n",
      "phosim_catspecFile_6001090082505_49612.3425_r.dat\r\n",
      "phosim_catspecFile_6001090682202_49612.3425_r.dat\r\n",
      "phosim_catspecFile_6001103506602_49612.3425_r.dat\r\n",
      "phosim_catspecFile_6001104359605_49612.3425_r.dat\r\n",
      "phosim_catspecFile_6001106441500_49612.3425_r.dat\r\n",
      "phosim_catspecFile_6001124561302_49612.3425_r.dat\r\n",
      "phosim_catspecFile_6001125632102_49612.3425_r.dat\r\n",
      "phosim_catspecFile_6001128400302_49612.3425_r.dat\r\n",
      "phosim_catspecFile_6001194751802_49612.3425_r.dat\r\n",
      "phosim_catspecFile_6001199135103_49612.3425_r.dat\r\n",
      "phosim_catspecFile_6001199321908_49612.3425_r.dat\r\n",
      "phosim_catspecFile_6001213289101_49612.3425_r.dat\r\n",
      "phosim_catspecFile_6001274662701_49612.3425_r.dat\r\n",
      "phosim_catspecFile_6001275441101_49612.3425_r.dat\r\n",
      "phosim_catspecFile_6001291338100_49612.3425_r.dat\r\n",
      "phosim_catspecFile_6001317431307_49612.3425_r.dat\r\n",
      "phosim_catspecFile_6001319426000_49612.3425_r.dat\r\n",
      "phosim_catspecFile_6001322240302_49612.3425_r.dat\r\n",
      "phosim_catspecFile_6001348158501_49612.3425_r.dat\r\n",
      "phosim_catspecFile_6001376540801_49612.3425_r.dat\r\n",
      "phosim_catspecFile_6001376540805_49612.3425_r.dat\r\n",
      "phosim_catspecFile_6001410750400_49612.3425_r.dat\r\n",
      "phosim_catspecFile_6001493935900_49612.3425_r.dat\r\n",
      "phosim_catspecFile_6001496264000_49612.3425_r.dat\r\n",
      "phosim_catspecFile_6001541975801_49612.3425_r.dat\r\n",
      "phosim_catspecFile_6001552130005_49612.3425_r.dat\r\n",
      "phosim_catspecFile_6001603288204_49612.3425_r.dat\r\n",
      "phosim_catspecFile_6001604892701_49612.3425_r.dat\r\n",
      "phosim_catspecFile_6001604892708_49612.3425_r.dat\r\n",
      "phosim_catspecFile_6001614647700_49612.3425_r.dat\r\n",
      "phosim_catspecFile_6001632556302_49612.3425_r.dat\r\n",
      "phosim_catspecFile_6001666672200_49612.3425_r.dat\r\n",
      "phosim_catspecFile_6001678759402_49612.3425_r.dat\r\n",
      "\u001b[34mphosim_ticket\u001b[m\u001b[m\r\n",
      "sncat.dat\r\n"
     ]
    }
   ],
   "source": [
    "!ls /tmp/"
   ]
  },
  {
   "cell_type": "code",
   "execution_count": 38,
   "metadata": {
    "collapsed": false
   },
   "outputs": [],
   "source": [
    "df = pd.DataFrame(np.genfromtxt('/tmp/phosim_cat_specFile_6000000549201_49612.3425_r.dat', names=True))"
   ]
  },
  {
   "cell_type": "code",
   "execution_count": 39,
   "metadata": {
    "collapsed": false
   },
   "outputs": [
    {
     "data": {
      "text/plain": [
       "[<matplotlib.lines.Line2D at 0x120d23750>]"
      ]
     },
     "execution_count": 39,
     "metadata": {},
     "output_type": "execute_result"
    },
    {
     "data": {
      "image/png": "[encoded data removed]",
      "text/plain": [
       "<matplotlib.figure.Figure at 0x120c8cb10>"
      ]
     },
     "metadata": {},
     "output_type": "display_data"
    }
   ],
   "source": [
    "plt.plot(df.Wavelengthnm, df.Flambdaergscmssnm)"
   ]
  },
  {
   "cell_type": "markdown",
   "metadata": {},
   "source": [
    "##  PhoSim Catalogs"
   ]
  },
  {
   "cell_type": "code",
   "execution_count": 40,
   "metadata": {
    "collapsed": false
   },
   "outputs": [],
   "source": [
    "from lsst.sims.catUtils.exampleCatalogDefinitions.phoSimCatalogExamples import PhoSimCatalogSN, PhoSimCatalogSersic2D, DefaultPhoSimHeaderMap"
   ]
  },
  {
   "cell_type": "code",
   "execution_count": 53,
   "metadata": {
    "collapsed": false
   },
   "outputs": [],
   "source": [
    "pc = PhoSimCatalogSN(db_obj=s, obs_metadata=TwinklesObsMetaDataSmall)\n",
    "pc.phoSimHeaderMap = DefaultPhoSimHeaderMap\n",
    "pc.writeSedFile = True\n",
    "pc.surveyStartDate = 49500\n",
    "pc.suppressDimSN = True"
   ]
  },
  {
   "cell_type": "code",
   "execution_count": 54,
   "metadata": {
    "collapsed": false
   },
   "outputs": [],
   "source": [
    "pc.write_catalog('SNOnlyPhoSimCatalog.dat')"
   ]
  },
  {
   "cell_type": "code",
   "execution_count": 62,
   "metadata": {
    "collapsed": false
   },
   "outputs": [
    {
     "name": "stdout",
     "output_type": "stream",
     "text": [
      "rightascension 53.0091385\r\n",
      "declination -27.4389488\r\n",
      "mjd 49612.3426540\r\n",
      "altitude 85.1694000\r\n",
      "azimuth 55.8104932\r\n",
      "filter 2\r\n",
      "rotskypos 104.5218831\r\n",
      "dist2moon 84.8086399\r\n",
      "moonalt 9.1349526\r\n",
      "moondec -7.9876619\r\n",
      "moonphase 93.3973720\r\n",
      "moonra 324.7335707\r\n",
      "nsnap 2\r\n",
      "obshistid 203492\r\n",
      "seed 203492\r\n",
      "seeing 0.4847630\r\n",
      "sunalt -31.9914423\r\n",
      "vistime 33.0000000\r\n",
      "object 6144281204838442 52.9902617 -27.4795586 26.3389007 specFile_6000274614100_49612.3425_r.dat 0.8928 0 0 0 0 0 point none CCM 0.0268207575 3.1\r\n",
      "object 6144093910125610 52.988212 -27.4756134 26.1765682 specFile_6000091709107_49612.3425_r.dat 0.8797 0 0 0 0 0 point none CCM 0.0281195858 3.1\r\n"
     ]
    }
   ],
   "source": [
    "!head -n 20 SNOnlyPhoSimCatalog.dat"
   ]
  },
  {
   "cell_type": "code",
   "execution_count": 56,
   "metadata": {
    "collapsed": false
   },
   "outputs": [
    {
     "data": {
      "text/plain": [
       "['trash', 'uniqueId', 'ra', 'dec', 'magNorm', 'specFileName', 'z']"
      ]
     },
     "execution_count": 56,
     "metadata": {},
     "output_type": "execute_result"
    }
   ],
   "source": [
    "['trash', 'uniqueId', 'ra', 'dec', 'magNorm', 'specFileName', 'z']"
   ]
  },
  {
   "cell_type": "code",
   "execution_count": 71,
   "metadata": {
    "collapsed": false
   },
   "outputs": [
    {
     "name": "stdout",
     "output_type": "stream",
     "text": [
      "Help on function read_csv in module pandas.io.parsers:\n",
      "\n",
      "read_csv(filepath_or_buffer, sep=',', delimiter=None, header='infer', names=None, index_col=None, usecols=None, squeeze=False, prefix=None, mangle_dupe_cols=True, dtype=None, engine=None, converters=None, true_values=None, false_values=None, skipinitialspace=False, skiprows=None, skipfooter=None, nrows=None, na_values=None, keep_default_na=True, na_filter=True, verbose=False, skip_blank_lines=True, parse_dates=False, infer_datetime_format=False, keep_date_col=False, date_parser=None, dayfirst=False, iterator=False, chunksize=None, compression='infer', thousands=None, decimal='.', lineterminator=None, quotechar='\"', quoting=0, escapechar=None, comment=None, encoding=None, dialect=None, tupleize_cols=False, error_bad_lines=True, warn_bad_lines=True, skip_footer=0, doublequote=True, delim_whitespace=False, as_recarray=False, compact_ints=False, use_unsigned=False, low_memory=True, buffer_lines=None, memory_map=False, float_precision=None)\n",
      "    Read CSV (comma-separated) file into DataFrame\n",
      "    \n",
      "    Also supports optionally iterating or breaking of the file\n",
      "    into chunks.\n",
      "    \n",
      "    Additional help can be found in the `online docs for IO Tools\n",
      "    <http://pandas.pydata.org/pandas-docs/stable/io.html>`_.\n",
      "    \n",
      "    Parameters\n",
      "    ----------\n",
      "    filepath_or_buffer : str, pathlib.Path, py._path.local.LocalPath or any object with a read() method (such as a file handle or StringIO)\n",
      "        The string could be a URL. Valid URL schemes include http, ftp, s3, and\n",
      "        file. For file URLs, a host is expected. For instance, a local file could\n",
      "        be file ://localhost/path/to/table.csv\n",
      "    sep : str, default ','\n",
      "        Delimiter to use. If sep is None, will try to automatically determine\n",
      "        this. Separators longer than 1 character and different from '\\s+' will be\n",
      "        interpreted as regular expressions, will force use of the python parsing\n",
      "        engine and will ignore quotes in the data. Regex example: '\\r\\t'\n",
      "    delimiter : str, default ``None``\n",
      "        Alternative argument name for sep.\n",
      "    delim_whitespace : boolean, default False\n",
      "        Specifies whether or not whitespace (e.g. ``' '`` or ``'    '``) will be\n",
      "        used as the sep. Equivalent to setting ``sep='\\+s'``. If this option\n",
      "        is set to True, nothing should be passed in for the ``delimiter``\n",
      "        parameter.\n",
      "    \n",
      "        .. versionadded:: 0.18.1 support for the Python parser.\n",
      "    \n",
      "    header : int or list of ints, default 'infer'\n",
      "        Row number(s) to use as the column names, and the start of the data.\n",
      "        Default behavior is as if set to 0 if no ``names`` passed, otherwise\n",
      "        ``None``. Explicitly pass ``header=0`` to be able to replace existing\n",
      "        names. The header can be a list of integers that specify row locations for\n",
      "        a multi-index on the columns e.g. [0,1,3]. Intervening rows that are not\n",
      "        specified will be skipped (e.g. 2 in this example is skipped). Note that\n",
      "        this parameter ignores commented lines and empty lines if\n",
      "        ``skip_blank_lines=True``, so header=0 denotes the first line of data\n",
      "        rather than the first line of the file.\n",
      "    names : array-like, default None\n",
      "        List of column names to use. If file contains no header row, then you\n",
      "        should explicitly pass header=None\n",
      "    index_col : int or sequence or False, default None\n",
      "        Column to use as the row labels of the DataFrame. If a sequence is given, a\n",
      "        MultiIndex is used. If you have a malformed file with delimiters at the end\n",
      "        of each line, you might consider index_col=False to force pandas to _not_\n",
      "        use the first column as the index (row names)\n",
      "    usecols : array-like, default None\n",
      "        Return a subset of the columns. All elements in this array must either\n",
      "        be positional (i.e. integer indices into the document columns) or strings\n",
      "        that correspond to column names provided either by the user in `names` or\n",
      "        inferred from the document header row(s). For example, a valid `usecols`\n",
      "        parameter would be [0, 1, 2] or ['foo', 'bar', 'baz']. Using this parameter\n",
      "        results in much faster parsing time and lower memory usage.\n",
      "    squeeze : boolean, default False\n",
      "        If the parsed data only contains one column then return a Series\n",
      "    prefix : str, default None\n",
      "        Prefix to add to column numbers when no header, e.g. 'X' for X0, X1, ...\n",
      "    mangle_dupe_cols : boolean, default True\n",
      "        Duplicate columns will be specified as 'X.0'...'X.N', rather than 'X'...'X'\n",
      "    dtype : Type name or dict of column -> type, default None\n",
      "        Data type for data or columns. E.g. {'a': np.float64, 'b': np.int32}\n",
      "        (Unsupported with engine='python'). Use `str` or `object` to preserve and\n",
      "        not interpret dtype.\n",
      "    engine : {'c', 'python'}, optional\n",
      "        Parser engine to use. The C engine is faster while the python engine is\n",
      "        currently more feature-complete.\n",
      "    converters : dict, default None\n",
      "        Dict of functions for converting values in certain columns. Keys can either\n",
      "        be integers or column labels\n",
      "    true_values : list, default None\n",
      "        Values to consider as True\n",
      "    false_values : list, default None\n",
      "        Values to consider as False\n",
      "    skipinitialspace : boolean, default False\n",
      "        Skip spaces after delimiter.\n",
      "    skiprows : list-like or integer, default None\n",
      "        Line numbers to skip (0-indexed) or number of lines to skip (int)\n",
      "        at the start of the file\n",
      "    skipfooter : int, default 0\n",
      "        Number of lines at bottom of file to skip (Unsupported with engine='c')\n",
      "    nrows : int, default None\n",
      "        Number of rows of file to read. Useful for reading pieces of large files\n",
      "    na_values : str or list-like or dict, default None\n",
      "        Additional strings to recognize as NA/NaN. If dict passed, specific\n",
      "        per-column NA values.  By default the following values are interpreted as\n",
      "        NaN: `''`, `'#N/A'`, `'#N/A N/A'`, `'#NA'`, `'-1.#IND'`, `'-1.#QNAN'`, `'-NaN'`, `'-nan'`, `'1.#IND'`, `'1.#QNAN'`, `'N/A'`, `'NA'`, `'NULL'`, `'NaN'`, `'nan'`.\n",
      "    keep_default_na : bool, default True\n",
      "        If na_values are specified and keep_default_na is False the default NaN\n",
      "        values are overridden, otherwise they're appended to.\n",
      "    na_filter : boolean, default True\n",
      "        Detect missing value markers (empty strings and the value of na_values). In\n",
      "        data without any NAs, passing na_filter=False can improve the performance\n",
      "        of reading a large file\n",
      "    verbose : boolean, default False\n",
      "        Indicate number of NA values placed in non-numeric columns\n",
      "    skip_blank_lines : boolean, default True\n",
      "        If True, skip over blank lines rather than interpreting as NaN values\n",
      "    parse_dates : boolean or list of ints or names or list of lists or dict, default False\n",
      "    \n",
      "        * boolean. If True -> try parsing the index.\n",
      "        * list of ints or names. e.g. If [1, 2, 3] -> try parsing columns 1, 2, 3\n",
      "          each as a separate date column.\n",
      "        * list of lists. e.g.  If [[1, 3]] -> combine columns 1 and 3 and parse as\n",
      "            a single date column.\n",
      "        * dict, e.g. {'foo' : [1, 3]} -> parse columns 1, 3 as date and call result\n",
      "          'foo'\n",
      "    \n",
      "        Note: A fast-path exists for iso8601-formatted dates.\n",
      "    infer_datetime_format : boolean, default False\n",
      "        If True and parse_dates is enabled, pandas will attempt to infer the format\n",
      "        of the datetime strings in the columns, and if it can be inferred, switch\n",
      "        to a faster method of parsing them. In some cases this can increase the\n",
      "        parsing speed by ~5-10x.\n",
      "    keep_date_col : boolean, default False\n",
      "        If True and parse_dates specifies combining multiple columns then\n",
      "        keep the original columns.\n",
      "    date_parser : function, default None\n",
      "        Function to use for converting a sequence of string columns to an array of\n",
      "        datetime instances. The default uses ``dateutil.parser.parser`` to do the\n",
      "        conversion. Pandas will try to call date_parser in three different ways,\n",
      "        advancing to the next if an exception occurs: 1) Pass one or more arrays\n",
      "        (as defined by parse_dates) as arguments; 2) concatenate (row-wise) the\n",
      "        string values from the columns defined by parse_dates into a single array\n",
      "        and pass that; and 3) call date_parser once for each row using one or more\n",
      "        strings (corresponding to the columns defined by parse_dates) as arguments.\n",
      "    dayfirst : boolean, default False\n",
      "        DD/MM format dates, international and European format\n",
      "    iterator : boolean, default False\n",
      "        Return TextFileReader object for iteration or getting chunks with\n",
      "        ``get_chunk()``.\n",
      "    chunksize : int, default None\n",
      "        Return TextFileReader object for iteration. `See IO Tools docs for more\n",
      "        information\n",
      "        <http://pandas.pydata.org/pandas-docs/stable/io.html#io-chunking>`_ on\n",
      "        ``iterator`` and ``chunksize``.\n",
      "    compression : {'infer', 'gzip', 'bz2', 'zip', 'xz', None}, default 'infer'\n",
      "        For on-the-fly decompression of on-disk data. If 'infer', then use gzip,\n",
      "        bz2, zip or xz if filepath_or_buffer is a string ending in '.gz', '.bz2',\n",
      "        '.zip', or 'xz', respectively, and no decompression otherwise. If using\n",
      "        'zip', the ZIP file must contain only one data file to be read in.\n",
      "        Set to None for no decompression.\n",
      "    \n",
      "        .. versionadded:: 0.18.1 support for 'zip' and 'xz' compression.\n",
      "    \n",
      "    thousands : str, default None\n",
      "        Thousands separator\n",
      "    decimal : str, default '.'\n",
      "        Character to recognize as decimal point (e.g. use ',' for European data).\n",
      "    lineterminator : str (length 1), default None\n",
      "        Character to break file into lines. Only valid with C parser.\n",
      "    quotechar : str (length 1), optional\n",
      "        The character used to denote the start and end of a quoted item. Quoted\n",
      "        items can include the delimiter and it will be ignored.\n",
      "    quoting : int or csv.QUOTE_* instance, default None\n",
      "        Control field quoting behavior per ``csv.QUOTE_*`` constants. Use one of\n",
      "        QUOTE_MINIMAL (0), QUOTE_ALL (1), QUOTE_NONNUMERIC (2) or QUOTE_NONE (3).\n",
      "        Default (None) results in QUOTE_MINIMAL behavior.\n",
      "    escapechar : str (length 1), default None\n",
      "        One-character string used to escape delimiter when quoting is QUOTE_NONE.\n",
      "    comment : str, default None\n",
      "        Indicates remainder of line should not be parsed. If found at the beginning\n",
      "        of a line, the line will be ignored altogether. This parameter must be a\n",
      "        single character. Like empty lines (as long as ``skip_blank_lines=True``),\n",
      "        fully commented lines are ignored by the parameter `header` but not by\n",
      "        `skiprows`. For example, if comment='#', parsing '#empty\\na,b,c\\n1,2,3'\n",
      "        with `header=0` will result in 'a,b,c' being\n",
      "        treated as the header.\n",
      "    encoding : str, default None\n",
      "        Encoding to use for UTF when reading/writing (ex. 'utf-8'). `List of Python\n",
      "        standard encodings\n",
      "        <https://docs.python.org/3/library/codecs.html#standard-encodings>`_\n",
      "    dialect : str or csv.Dialect instance, default None\n",
      "        If None defaults to Excel dialect. Ignored if sep longer than 1 char\n",
      "        See csv.Dialect documentation for more details\n",
      "    tupleize_cols : boolean, default False\n",
      "        Leave a list of tuples on columns as is (default is to convert to\n",
      "        a Multi Index on the columns)\n",
      "    error_bad_lines : boolean, default True\n",
      "        Lines with too many fields (e.g. a csv line with too many commas) will by\n",
      "        default cause an exception to be raised, and no DataFrame will be returned.\n",
      "        If False, then these \"bad lines\" will dropped from the DataFrame that is\n",
      "        returned. (Only valid with C parser)\n",
      "    warn_bad_lines : boolean, default True\n",
      "        If error_bad_lines is False, and warn_bad_lines is True, a warning for each\n",
      "        \"bad line\" will be output. (Only valid with C parser).\n",
      "    \n",
      "    Returns\n",
      "    -------\n",
      "    result : DataFrame or TextParser\n",
      "\n"
     ]
    }
   ],
   "source": [
    "help(pd.read_csv)"
   ]
  },
  {
   "cell_type": "code",
   "execution_count": 79,
   "metadata": {
    "collapsed": false
   },
   "outputs": [
    {
     "ename": "ValueError",
     "evalue": "Only length-1 comment characters supported",
     "output_type": "error",
     "traceback": [
      "\u001b[0;31m---------------------------------------------------------------------------\u001b[0m",
      "\u001b[0;31mValueError\u001b[0m                                Traceback (most recent call last)",
      "\u001b[0;32m<ipython-input-79-327a56d0115f>\u001b[0m in \u001b[0;36m<module>\u001b[0;34m()\u001b[0m\n\u001b[0;32m----> 1\u001b[0;31m \u001b[0mdf\u001b[0m \u001b[0;34m=\u001b[0m \u001b[0mpd\u001b[0m\u001b[0;34m.\u001b[0m\u001b[0mread_csv\u001b[0m\u001b[0;34m(\u001b[0m\u001b[0;34m'SNOnlyPhoSimCatalog.dat'\u001b[0m\u001b[0;34m,\u001b[0m \u001b[0mcomment\u001b[0m\u001b[0;34m=\u001b[0m\u001b[0;34m'object'\u001b[0m\u001b[0;34m)\u001b[0m\u001b[0;34m\u001b[0m\u001b[0m\n\u001b[0m",
      "\u001b[0;32m/usr/local/miniconda/lib/python2.7/site-packages/pandas/io/parsers.pyc\u001b[0m in \u001b[0;36mparser_f\u001b[0;34m(filepath_or_buffer, sep, delimiter, header, names, index_col, usecols, squeeze, prefix, mangle_dupe_cols, dtype, engine, converters, true_values, false_values, skipinitialspace, skiprows, skipfooter, nrows, na_values, keep_default_na, na_filter, verbose, skip_blank_lines, parse_dates, infer_datetime_format, keep_date_col, date_parser, dayfirst, iterator, chunksize, compression, thousands, decimal, lineterminator, quotechar, quoting, escapechar, comment, encoding, dialect, tupleize_cols, error_bad_lines, warn_bad_lines, skip_footer, doublequote, delim_whitespace, as_recarray, compact_ints, use_unsigned, low_memory, buffer_lines, memory_map, float_precision)\u001b[0m\n\u001b[1;32m    560\u001b[0m                     skip_blank_lines=skip_blank_lines)\n\u001b[1;32m    561\u001b[0m \u001b[0;34m\u001b[0m\u001b[0m\n\u001b[0;32m--> 562\u001b[0;31m         \u001b[0;32mreturn\u001b[0m \u001b[0m_read\u001b[0m\u001b[0;34m(\u001b[0m\u001b[0mfilepath_or_buffer\u001b[0m\u001b[0;34m,\u001b[0m \u001b[0mkwds\u001b[0m\u001b[0;34m)\u001b[0m\u001b[0;34m\u001b[0m\u001b[0m\n\u001b[0m\u001b[1;32m    563\u001b[0m \u001b[0;34m\u001b[0m\u001b[0m\n\u001b[1;32m    564\u001b[0m     \u001b[0mparser_f\u001b[0m\u001b[0;34m.\u001b[0m\u001b[0m__name__\u001b[0m \u001b[0;34m=\u001b[0m \u001b[0mname\u001b[0m\u001b[0;34m\u001b[0m\u001b[0m\n",
      "\u001b[0;32m/usr/local/miniconda/lib/python2.7/site-packages/pandas/io/parsers.pyc\u001b[0m in \u001b[0;36m_read\u001b[0;34m(filepath_or_buffer, kwds)\u001b[0m\n\u001b[1;32m    313\u001b[0m \u001b[0;34m\u001b[0m\u001b[0m\n\u001b[1;32m    314\u001b[0m     \u001b[0;31m# Create the parser.\u001b[0m\u001b[0;34m\u001b[0m\u001b[0;34m\u001b[0m\u001b[0m\n\u001b[0;32m--> 315\u001b[0;31m     \u001b[0mparser\u001b[0m \u001b[0;34m=\u001b[0m \u001b[0mTextFileReader\u001b[0m\u001b[0;34m(\u001b[0m\u001b[0mfilepath_or_buffer\u001b[0m\u001b[0;34m,\u001b[0m \u001b[0;34m**\u001b[0m\u001b[0mkwds\u001b[0m\u001b[0;34m)\u001b[0m\u001b[0;34m\u001b[0m\u001b[0m\n\u001b[0m\u001b[1;32m    316\u001b[0m \u001b[0;34m\u001b[0m\u001b[0m\n\u001b[1;32m    317\u001b[0m     \u001b[0;32mif\u001b[0m \u001b[0;34m(\u001b[0m\u001b[0mnrows\u001b[0m \u001b[0;32mis\u001b[0m \u001b[0;32mnot\u001b[0m \u001b[0mNone\u001b[0m\u001b[0;34m)\u001b[0m \u001b[0;32mand\u001b[0m \u001b[0;34m(\u001b[0m\u001b[0mchunksize\u001b[0m \u001b[0;32mis\u001b[0m \u001b[0;32mnot\u001b[0m \u001b[0mNone\u001b[0m\u001b[0;34m)\u001b[0m\u001b[0;34m:\u001b[0m\u001b[0;34m\u001b[0m\u001b[0m\n",
      "\u001b[0;32m/usr/local/miniconda/lib/python2.7/site-packages/pandas/io/parsers.pyc\u001b[0m in \u001b[0;36m__init__\u001b[0;34m(self, f, engine, **kwds)\u001b[0m\n\u001b[1;32m    643\u001b[0m             \u001b[0mself\u001b[0m\u001b[0;34m.\u001b[0m\u001b[0moptions\u001b[0m\u001b[0;34m[\u001b[0m\u001b[0;34m'has_index_names'\u001b[0m\u001b[0;34m]\u001b[0m \u001b[0;34m=\u001b[0m \u001b[0mkwds\u001b[0m\u001b[0;34m[\u001b[0m\u001b[0;34m'has_index_names'\u001b[0m\u001b[0;34m]\u001b[0m\u001b[0;34m\u001b[0m\u001b[0m\n\u001b[1;32m    644\u001b[0m \u001b[0;34m\u001b[0m\u001b[0m\n\u001b[0;32m--> 645\u001b[0;31m         \u001b[0mself\u001b[0m\u001b[0;34m.\u001b[0m\u001b[0m_make_engine\u001b[0m\u001b[0;34m(\u001b[0m\u001b[0mself\u001b[0m\u001b[0;34m.\u001b[0m\u001b[0mengine\u001b[0m\u001b[0;34m)\u001b[0m\u001b[0;34m\u001b[0m\u001b[0m\n\u001b[0m\u001b[1;32m    646\u001b[0m \u001b[0;34m\u001b[0m\u001b[0m\n\u001b[1;32m    647\u001b[0m     \u001b[0;32mdef\u001b[0m \u001b[0mclose\u001b[0m\u001b[0;34m(\u001b[0m\u001b[0mself\u001b[0m\u001b[0;34m)\u001b[0m\u001b[0;34m:\u001b[0m\u001b[0;34m\u001b[0m\u001b[0m\n",
      "\u001b[0;32m/usr/local/miniconda/lib/python2.7/site-packages/pandas/io/parsers.pyc\u001b[0m in \u001b[0;36m_make_engine\u001b[0;34m(self, engine)\u001b[0m\n\u001b[1;32m    797\u001b[0m     \u001b[0;32mdef\u001b[0m \u001b[0m_make_engine\u001b[0m\u001b[0;34m(\u001b[0m\u001b[0mself\u001b[0m\u001b[0;34m,\u001b[0m \u001b[0mengine\u001b[0m\u001b[0;34m=\u001b[0m\u001b[0;34m'c'\u001b[0m\u001b[0;34m)\u001b[0m\u001b[0;34m:\u001b[0m\u001b[0;34m\u001b[0m\u001b[0m\n\u001b[1;32m    798\u001b[0m         \u001b[0;32mif\u001b[0m \u001b[0mengine\u001b[0m \u001b[0;34m==\u001b[0m \u001b[0;34m'c'\u001b[0m\u001b[0;34m:\u001b[0m\u001b[0;34m\u001b[0m\u001b[0m\n\u001b[0;32m--> 799\u001b[0;31m             \u001b[0mself\u001b[0m\u001b[0;34m.\u001b[0m\u001b[0m_engine\u001b[0m \u001b[0;34m=\u001b[0m \u001b[0mCParserWrapper\u001b[0m\u001b[0;34m(\u001b[0m\u001b[0mself\u001b[0m\u001b[0;34m.\u001b[0m\u001b[0mf\u001b[0m\u001b[0;34m,\u001b[0m \u001b[0;34m**\u001b[0m\u001b[0mself\u001b[0m\u001b[0;34m.\u001b[0m\u001b[0moptions\u001b[0m\u001b[0;34m)\u001b[0m\u001b[0;34m\u001b[0m\u001b[0m\n\u001b[0m\u001b[1;32m    800\u001b[0m         \u001b[0;32melse\u001b[0m\u001b[0;34m:\u001b[0m\u001b[0;34m\u001b[0m\u001b[0m\n\u001b[1;32m    801\u001b[0m             \u001b[0;32mif\u001b[0m \u001b[0mengine\u001b[0m \u001b[0;34m==\u001b[0m \u001b[0;34m'python'\u001b[0m\u001b[0;34m:\u001b[0m\u001b[0;34m\u001b[0m\u001b[0m\n",
      "\u001b[0;32m/usr/local/miniconda/lib/python2.7/site-packages/pandas/io/parsers.pyc\u001b[0m in \u001b[0;36m__init__\u001b[0;34m(self, src, **kwds)\u001b[0m\n\u001b[1;32m   1211\u001b[0m         \u001b[0mkwds\u001b[0m\u001b[0;34m[\u001b[0m\u001b[0;34m'allow_leading_cols'\u001b[0m\u001b[0;34m]\u001b[0m \u001b[0;34m=\u001b[0m \u001b[0mself\u001b[0m\u001b[0;34m.\u001b[0m\u001b[0mindex_col\u001b[0m \u001b[0;32mis\u001b[0m \u001b[0;32mnot\u001b[0m \u001b[0mFalse\u001b[0m\u001b[0;34m\u001b[0m\u001b[0m\n\u001b[1;32m   1212\u001b[0m \u001b[0;34m\u001b[0m\u001b[0m\n\u001b[0;32m-> 1213\u001b[0;31m         \u001b[0mself\u001b[0m\u001b[0;34m.\u001b[0m\u001b[0m_reader\u001b[0m \u001b[0;34m=\u001b[0m \u001b[0m_parser\u001b[0m\u001b[0;34m.\u001b[0m\u001b[0mTextReader\u001b[0m\u001b[0;34m(\u001b[0m\u001b[0msrc\u001b[0m\u001b[0;34m,\u001b[0m \u001b[0;34m**\u001b[0m\u001b[0mkwds\u001b[0m\u001b[0;34m)\u001b[0m\u001b[0;34m\u001b[0m\u001b[0m\n\u001b[0m\u001b[1;32m   1214\u001b[0m \u001b[0;34m\u001b[0m\u001b[0m\n\u001b[1;32m   1215\u001b[0m         \u001b[0;31m# XXX\u001b[0m\u001b[0;34m\u001b[0m\u001b[0;34m\u001b[0m\u001b[0m\n",
      "\u001b[0;32mpandas/parser.pyx\u001b[0m in \u001b[0;36mpandas.parser.TextReader.__cinit__ (pandas/parser.c:3840)\u001b[0;34m()\u001b[0m\n",
      "\u001b[0;31mValueError\u001b[0m: Only length-1 comment characters supported"
     ]
    }
   ],
   "source": [
    "df = pd.read_csv('SNOnlyPhoSimCatalog.dat', comment='object')"
   ]
  },
  {
   "cell_type": "code",
   "execution_count": 88,
   "metadata": {
    "collapsed": true
   },
   "outputs": [],
   "source": [
    "from itertools import islice"
   ]
  },
  {
   "cell_type": "code",
   "execution_count": 97,
   "metadata": {
    "collapsed": false
   },
   "outputs": [
    {
     "data": {
      "text/plain": [
       "{'dist2moon': ('dist2Moon', <ufunc 'degrees'>),\n",
       " 'moonalt': ('moonAlt', <ufunc 'degrees'>),\n",
       " 'moondec': ('moonDec', <ufunc 'degrees'>),\n",
       " 'moonphase': ('moonPhase', None),\n",
       " 'moonra': ('moonRA', <ufunc 'degrees'>),\n",
       " 'nsnap': 2,\n",
       " 'obshistid': ('obsHistID', None),\n",
       " 'rottelpos': ('rotTelPos', <ufunc 'degrees'>),\n",
       " 'seed': ('obsHistID', None),\n",
       " 'seeing': ('rawSeeing', None),\n",
       " 'sunalt': ('sunAlt', <ufunc 'degrees'>),\n",
       " 'vistime': ('visitExpTime',\n",
       "  <function lsst.sims.catUtils.exampleCatalogDefinitions.phoSimCatalogExamples.<lambda>>)}"
      ]
     },
     "execution_count": 97,
     "metadata": {},
     "output_type": "execute_result"
    }
   ],
   "source": [
    "DefaultPhoSimHeaderMap"
   ]
  },
  {
   "cell_type": "code",
   "execution_count": 104,
   "metadata": {
    "collapsed": true
   },
   "outputs": [],
   "source": [
    "\n",
    "from numbers import Number"
   ]
  },
  {
   "cell_type": "code",
   "execution_count": 111,
   "metadata": {
    "collapsed": true
   },
   "outputs": [],
   "source": [
    "from collections import OrderedDict as odict"
   ]
  },
  {
   "cell_type": "code",
   "execution_count": 112,
   "metadata": {
    "collapsed": false
   },
   "outputs": [],
   "source": [
    "def metadataForPhoSimCatalog(phosimcatalogFile):\n",
    "    \n",
    "    with open(phosimcatalogFile, 'r') as f:\n",
    "        metadata = odict(next(f)[:-1].split() for _ in range(18))\n",
    "        for key in metadata:\n",
    "            val = metadata[key]\n",
    "            try:\n",
    "                metadata[key] = int(val)\n",
    "            except:\n",
    "                metadata[key] = float(val)\n",
    "        return (metadata['obshistid'], metadata)"
   ]
  },
  {
   "cell_type": "code",
   "execution_count": 113,
   "metadata": {
    "collapsed": false
   },
   "outputs": [
    {
     "data": {
      "text/plain": [
       "(203492,\n",
       " OrderedDict([('rightascension', 53.0091385),\n",
       "              ('declination', -27.4389488),\n",
       "              ('mjd', 49612.342654),\n",
       "              ('altitude', 85.1694),\n",
       "              ('azimuth', 55.8104932),\n",
       "              ('filter', 2),\n",
       "              ('rotskypos', 104.5218831),\n",
       "              ('dist2moon', 84.8086399),\n",
       "              ('moonalt', 9.1349526),\n",
       "              ('moondec', -7.9876619),\n",
       "              ('moonphase', 93.397372),\n",
       "              ('moonra', 324.7335707),\n",
       "              ('nsnap', 2),\n",
       "              ('obshistid', 203492),\n",
       "              ('seed', 203492),\n",
       "              ('seeing', 0.484763),\n",
       "              ('sunalt', -31.9914423),\n",
       "              ('vistime', 33.0)]))"
      ]
     },
     "execution_count": 113,
     "metadata": {},
     "output_type": "execute_result"
    }
   ],
   "source": [
    "\n",
    "metadataForPhoSimCatalog('SNOnlyPhoSimCatalog.dat')"
   ]
  },
  {
   "cell_type": "code",
   "execution_count": 86,
   "metadata": {
    "collapsed": false
   },
   "outputs": [
    {
     "data": {
      "text/plain": [
       "['rightascension 53.0091385\\n',\n",
       " 'declination -27.4389488\\n',\n",
       " 'mjd 49612.3426540\\n',\n",
       " 'altitude 85.1694000\\n',\n",
       " 'azimuth 55.8104932\\n',\n",
       " 'filter 2\\n',\n",
       " 'rotskypos 104.5218831\\n',\n",
       " 'dist2moon 84.8086399\\n',\n",
       " 'moonalt 9.1349526\\n',\n",
       " 'moondec -7.9876619\\n',\n",
       " 'moonphase 93.3973720\\n',\n",
       " 'moonra 324.7335707\\n',\n",
       " 'nsnap 2\\n',\n",
       " 'obshistid 203492\\n',\n",
       " 'seed 203492\\n',\n",
       " 'seeing 0.4847630\\n',\n",
       " 'sunalt -31.9914423\\n',\n",
       " 'vistime 33.0000000\\n',\n",
       " 'object 6144281204838442 52.9902617 -27.4795586 26.3389007 specFile_6000274614100_49612.3425_r.dat 0.8928 0 0 0 0 0 point none CCM 0.0268207575 3.1\\n',\n",
       " 'object 6144093910125610 52.988212 -27.4756134 26.1765682 specFile_6000091709107_49612.3425_r.dat 0.8797 0 0 0 0 0 point none CCM 0.0281195858 3.1\\n',\n",
       " 'object 6144995563212842 52.9959883 -27.4702341 23.517131 specFile_6000972229700_49612.3425_r.dat 0.6213 0 0 0 0 0 point none CCM 0.0281195858 3.1\\n',\n",
       " 'object 6144171067700266 52.9939513 -27.473566 26.2112335 specFile_6000167058301_49612.3425_r.dat 0.849 0 0 0 0 0 point none CCM 0.0279505202 3.1\\n',\n",
       " 'object 6145532174336042 53.0338941 -27.4181115 26.2650987 specFile_6001496264000_49612.3425_r.dat 0.8932 0 0 0 0 0 point none CCM 0.0277679977 3.1\\n',\n",
       " 'object 6144051719065642 53.0343511 -27.419727 25.7798523 specFile_6000050506900_49612.3425_r.dat 0.6092 0 0 0 0 0 point none CCM 0.0277679977 3.1\\n',\n",
       " 'object 6145409577784362 53.0298886 -27.4161529 25.2943314 specFile_6001376540805_49612.3425_r.dat 0.873 0 0 0 0 0 point none CCM 0.0277679977 3.1\\n',\n",
       " 'object 6145409577780266 53.0299446 -27.4161585 26.2110868 specFile_6001376540801_49612.3425_r.dat 0.873 0 0 0 0 0 point none CCM 0.0277679977 3.1\\n',\n",
       " 'object 6145653399244842 53.0528561 -27.4160895 25.0451504 specFile_6001614647700_49612.3425_r.dat 0.4061 0 0 0 0 0 point none CCM 0.0247382259 3.1\\n',\n",
       " 'object 6144039378640938 52.984698 -27.481321 25.9550103 specFile_6000038455704_49612.3425_r.dat 0.639 0 0 0 0 0 point none CCM 0.0281631204 3.1\\n',\n",
       " 'object 6144137763642410 52.9929591 -27.4825223 25.8191009 specFile_6000134534807_49612.3425_r.dat 0.8308 0 0 0 0 0 point none CCM 0.0268207575 3.1\\n',\n",
       " 'object 6144137763638314 52.9929351 -27.4824983 25.3560182 specFile_6000134534803_49612.3425_r.dat 0.8308 0 0 0 0 0 point none CCM 0.0268207575 3.1\\n',\n",
       " 'object 6144170848369706 52.9965143 -27.4866214 25.7383634 specFile_6000166844111_49612.3425_r.dat 0.8669 0 0 0 0 0 point none CCM 0.0268207575 3.1\\n',\n",
       " 'object 6144207051575338 53.0027962 -27.4827989 25.7462839 specFile_6000202198804_49612.3425_r.dat 0.8573 0 0 0 0 0 point none CCM 0.0279505202 3.1\\n',\n",
       " 'object 6144854912923690 52.9770746 -27.4799821 26.3182581 specFile_6000834875902_49612.3425_r.dat 0.6202 0 0 0 0 0 point none CCM 0.0281631204 3.1\\n',\n",
       " 'object 6144199672832042 52.9800935 -27.4781364 24.3727858 specFile_6000194993000_49612.3425_r.dat 0.6049 0 0 0 0 0 point none CCM 0.0281631204 3.1\\n',\n",
       " 'object 6145106855738410 53.0060585 -27.4851736 26.8546362 specFile_6001080913807_49612.3425_r.dat 0.7744 0 0 0 0 0 point none CCM 0.0279505202 3.1\\n',\n",
       " 'object 6144167695462442 53.0224243 -27.4819621 25.1628763 specFile_6000163765100_49612.3425_r.dat 0.8242 0 0 0 0 0 point none CCM 0.0279505202 3.1\\n',\n",
       " 'object 6144575573916714 53.0248545 -27.4843522 23.0761694 specFile_6000562083903_49612.3425_r.dat 0.48 0 0 0 0 0 point none CCM 0.0279505202 3.1\\n',\n",
       " 'object 6145589381125162 53.0245923 -27.4860984 24.2431191 specFile_6001552130005_49612.3425_r.dat 0.8889 0 0 0 0 0 point none CCM 0.0279505202 3.1\\n',\n",
       " 'object 6144143504182314 53.0046136 -27.4528287 24.6236074 specFile_6000140140803_49612.3425_r.dat 0.7253 0 0 0 0 0 point none CCM 0.0281195858 3.1\\n',\n",
       " 'object 6144758271180842 53.0446139 -27.4184732 1000 specFile_6000740499200_49612.3425_r.dat 0.3587 0 0 0 0 0 point none CCM 0.0277679977 3.1\\n',\n",
       " 'object 6145306051687466 53.0150619 -27.4864154 24.5173405 specFile_6001275441101_49612.3425_r.dat 0.652 0 0 0 0 0 point none CCM 0.0279505202 3.1\\n',\n",
       " 'object 6144373331662890 53.020064 -27.4870319 25.0736399 specFile_6000364581702_49612.3425_r.dat 0.6519 0 0 0 0 0 point none CCM 0.0279505202 3.1\\n',\n",
       " 'object 6145108666677290 53.0184919 -27.4832255 26.397863 specFile_6001082682302_49612.3425_r.dat 0.7639 0 0 0 0 0 point none CCM 0.0279505202 3.1\\n',\n",
       " 'object 6144005552846890 52.9723171 -27.4627532 33.1657758 specFile_6000005422702_49612.3425_r.dat 0.6138 0 0 0 0 0 point none CCM 0.0281195858 3.1\\n',\n",
       " 'object 6144093718835242 53.0086727 -27.4885738 26.6851864 specFile_6000091522300_49612.3425_r.dat 0.848 0 0 0 0 0 point none CCM 0.0279505202 3.1\\n',\n",
       " 'object 6145223425845290 53.0101521 -27.486659 26.61087 specFile_6001194751802_49612.3425_r.dat 0.8003 0 0 0 0 0 point none CCM 0.0279505202 3.1\\n',\n",
       " 'object 6144692996407338 52.9974546 -27.4559738 25.8793585 specFile_6000676754304_49612.3425_r.dat 0.8034 0 0 0 0 0 point none CCM 0.0281195858 3.1\\n',\n",
       " 'object 6144420395114538 52.9989714 -27.4567148 24.8224162 specFile_6000410542104_49612.3425_r.dat 0.7709 0 0 0 0 0 point none CCM 0.0281195858 3.1\\n',\n",
       " 'object 6144034720260138 52.9966662 -27.4583469 26.7959916 specFile_6000033906504_49612.3425_r.dat 0.7708 0 0 0 0 0 point none CCM 0.0281195858 3.1\\n',\n",
       " 'object 6144034720256042 52.9965523 -27.4583817 26.8314406 specFile_6000033906500_49612.3425_r.dat 0.7708 0 0 0 0 0 point none CCM 0.0281195858 3.1\\n',\n",
       " 'object 6144034720259114 52.9967928 -27.4583299 25.6175921 specFile_6000033906503_49612.3425_r.dat 0.7708 0 0 0 0 0 point none CCM 0.0281195858 3.1\\n',\n",
       " 'object 6144034720258090 52.9969086 -27.4583359 26.5009683 specFile_6000033906502_49612.3425_r.dat 0.7708 0 0 0 0 0 point none CCM 0.0281195858 3.1\\n',\n",
       " 'object 6144249779408938 53.0539553 -27.4627571 26.4046118 specFile_6000243925204_49612.3425_r.dat 0.8555 0 0 0 0 0 point none CCM 0.0268441084 3.1\\n',\n",
       " 'object 6144200188928042 52.9652491 -27.4569328 24.2551433 specFile_6000195497000_49612.3425_r.dat 0.6027 0 0 0 0 0 point none CCM 0.0281195858 3.1\\n',\n",
       " 'object 6144295512378410 53.0386355 -27.4011134 27.6857787 specFile_6000288586307_49612.3425_r.dat 0.8013 0 0 0 0 0 point none CCM 0.0251816729 3.1\\n',\n",
       " 'object 6144055526920234 53.041995 -27.4085064 27.5324655 specFile_6000054225508_49612.3425_r.dat 0.879 0 0 0 0 0 point none CCM 0.0251816729 3.1\\n',\n",
       " 'object 6144527737345066 53.0437589 -27.4075642 26.8337098 specFile_6000515368501_49612.3425_r.dat 0.6491 0 0 0 0 0 point none CCM 0.0251816729 3.1\\n',\n",
       " 'object 6144730621337642 53.0304201 -27.4088614 24.2965188 specFile_6000713497400_49612.3425_r.dat 0.6378 0 0 0 0 0 point none CCM 0.0277679977 3.1\\n',\n",
       " 'object 6144008385540138 52.9756001 -27.4570438 27.0125574 specFile_6000008189004_49612.3425_r.dat 0.8175 0 0 0 0 0 point none CCM 0.0281195858 3.1\\n',\n",
       " 'object 6145049151592490 52.9856971 -27.4551815 23.4024572 specFile_6001024562102_49612.3425_r.dat 0.3268 0 0 0 0 0 point none CCM 0.0281195858 3.1\\n',\n",
       " 'object 6144620860213290 52.9815718 -27.4553499 24.9835952 specFile_6000606308802_49612.3425_r.dat 0.6331 0 0 0 0 0 point none CCM 0.0281195858 3.1\\n',\n",
       " 'object 6144420250522666 52.9903081 -27.4589124 25.8802649 specFile_6000410400901_49612.3425_r.dat 0.7708 0 0 0 0 0 point none CCM 0.0281195858 3.1\\n',\n",
       " 'object 6144349937052714 52.9855902 -27.4676309 25.4615233 specFile_6000341735403_49612.3425_r.dat 0.8983 0 0 0 0 0 point none CCM 0.0281195858 3.1\\n',\n",
       " 'object 6144093888004138 52.970525 -27.4698154 24.7711423 specFile_6000091687504_49612.3425_r.dat 0.8527 0 0 0 0 0 point none CCM 0.0281631204 3.1\\n',\n",
       " 'object 6144350983885866 52.9620121 -27.4455236 24.6743674 specFile_6000342757701_49612.3425_r.dat 0.8989 0 0 0 0 0 point none CCM 0.0281195858 3.1\\n',\n",
       " 'object 6144818301644842 53.060849 -27.4510477 24.2648716 specFile_6000799122700_49612.3425_r.dat 0.7599 0 0 0 0 0 point none CCM 0.0268441084 3.1\\n',\n",
       " 'object 6144513104179242 53.0578313 -27.4501353 24.2831502 specFile_6000501078300_49612.3425_r.dat 0.464 0 0 0 0 0 point none CCM 0.0268441084 3.1\\n',\n",
       " 'object 6144498345267242 53.0563567 -27.4524542 26.8059039 specFile_6000486665300_49612.3425_r.dat 0.825 0 0 0 0 0 point none CCM 0.0268441084 3.1\\n',\n",
       " 'object 6144418265095210 53.050348 -27.4560505 24.4897448 specFile_6000408462007_49612.3425_r.dat 0.8795 0 0 0 0 0 point none CCM 0.0268441084 3.1\\n',\n",
       " 'object 6145102557806634 53.0539347 -27.4545513 25.0878746 specFile_6001076716608_49612.3425_r.dat 0.8015 0 0 0 0 0 point none CCM 0.0268441084 3.1\\n',\n",
       " 'object 6144816428548138 52.9897642 -27.4674657 27.0177727 specFile_6000797293504_49612.3425_r.dat 0.7967 0 0 0 0 0 point none CCM 0.0281195858 3.1\\n',\n",
       " 'object 6144203692042282 52.990006 -27.4672671 24.411036 specFile_6000198918010_49612.3425_r.dat 0.802 0 0 0 0 0 point none CCM 0.0281195858 3.1\\n',\n",
       " 'object 6144586523344938 53.0185585 -27.4276841 24.2331337 specFile_6000572776704_49612.3425_r.dat 0.893 0 0 0 0 0 point none CCM 0.0277679977 3.1\\n',\n",
       " 'object 6145322330214442 53.0342394 -27.4071668 25.5528504 specFile_6001291338100_49612.3425_r.dat 0.8788 0 0 0 0 0 point none CCM 0.0251816729 3.1\\n',\n",
       " 'object 6144078774171690 53.0137231 -27.4333297 24.6195313 specFile_6000076927902_49612.3425_r.dat 0.6532 0 0 0 0 0 point none CCM 0.0277679977 3.1\\n',\n",
       " 'object 6144359543299114 53.0141834 -27.4281914 24.9966582 specFile_6000351116503_49612.3425_r.dat 0.8738 0 0 0 0 0 point none CCM 0.0277679977 3.1\\n',\n",
       " 'object 6144692708556842 53.0357774 -27.4822857 27.1505736 specFile_6000676473200_49612.3425_r.dat 0.8224 0 0 0 0 0 point none CCM 0.0279505202 3.1\\n',\n",
       " 'object 6144608403046442 53.0265547 -27.4856016 25.628756 specFile_6000594143600_49612.3425_r.dat 0.7462 0 0 0 0 0 point none CCM 0.0279505202 3.1\\n',\n",
       " 'object 6145228105633834 53.0130898 -27.428168 24.9344914 specFile_6001199321908_49612.3425_r.dat 0.8569 0 0 0 0 0 point none CCM 0.0277679977 3.1\\n',\n",
       " 'object 6144443899801642 52.9938698 -27.432391 26.2484225 specFile_6000433495900_49612.3425_r.dat 0.6301 0 0 0 0 0 point none CCM 0.0281195858 3.1\\n',\n",
       " 'object 6144131352065066 53.0291356 -27.3946603 24.1380643 specFile_6000128273501_49612.3425_r.dat 0.2918 0 0 0 0 0 point none CCM 0.0251816729 3.1\\n',\n",
       " 'object 6144216898355242 53.0256149 -27.4026666 25.2358186 specFile_6000211814800_49612.3425_r.dat 0.6505 0 0 0 0 0 point none CCM 0.0251816729 3.1\\n',\n",
       " 'object 6144702035358762 53.0260432 -27.4017534 25.5650975 specFile_6000685581405_49612.3425_r.dat 0.84 0 0 0 0 0 point none CCM 0.0251816729 3.1\\n',\n",
       " 'object 6144702035357738 53.0260723 -27.4017633 25.425048 specFile_6000685581404_49612.3425_r.dat 0.84 0 0 0 0 0 point none CCM 0.0251816729 3.1\\n',\n",
       " 'object 6144015710924842 53.0296808 -27.4024968 24.9059237 specFile_6000015342700_49612.3425_r.dat 0.6505 0 0 0 0 0 point none CCM 0.0251816729 3.1\\n',\n",
       " 'object 6144137760665642 53.0067524 -27.3965744 29.7742948 specFile_6000134531900_49612.3425_r.dat 0.8234 0 0 0 0 0 point none CCM 0.0287219475 3.1\\n',\n",
       " 'object 6145005706651690 53.0111681 -27.40554 20.0860213 specFile_6000982135402_49612.3425_r.dat 0.1495 0 0 0 0 0 point none CCM 0.0277679977 3.1\\n',\n",
       " 'object 6144186587033642 53.0140081 -27.3966416 22.1836235 specFile_6000182213900_49612.3425_r.dat 0.3688 0 0 0 0 0 point none CCM 0.0277679977 3.1\\n',\n",
       " 'object 6144620873318442 52.9958533 -27.4308743 26.0262514 specFile_6000606321600_49612.3425_r.dat 0.6301 0 0 0 0 0 point none CCM 0.0277679977 3.1\\n',\n",
       " 'object 6145242408039466 52.9913435 -27.4291782 23.8663709 specFile_6001213289101_49612.3425_r.dat 0.6301 0 0 0 0 0 point none CCM 0.0277679977 3.1\\n',\n",
       " 'object 6144024990209066 52.9942586 -27.4299392 23.9801601 specFile_6000024404501_49612.3425_r.dat 0.6301 0 0 0 0 0 point none CCM 0.0277679977 3.1\\n',\n",
       " 'object 6144921149442090 53.005838 -27.4452378 21.4124451 specFile_6000899560002_49612.3425_r.dat 0.2498 0 0 0 0 0 point none CCM 0.0281195858 3.1\\n',\n",
       " 'object 6144244544931882 53.0194391 -27.3980604 33.2534225 specFile_6000238813410_49612.3425_r.dat 0.8234 0 0 0 0 0 point none CCM 0.0251816729 3.1\\n',\n",
       " 'object 6145643410125866 53.0207223 -27.4033616 24.0644055 specFile_6001604892701_49612.3425_r.dat 0.8011 0 0 0 0 0 point none CCM 0.0277679977 3.1\\n',\n",
       " 'object 6145116858574890 53.0064061 -27.4483775 26.8338861 specFile_6001090682202_49612.3425_r.dat 0.8929 0 0 0 0 0 point none CCM 0.0281195858 3.1\\n',\n",
       " 'object 6144296410116138 52.99967 -27.4429128 24.9232868 specFile_6000289463004_49612.3425_r.dat 0.8012 0 0 0 0 0 point none CCM 0.0281195858 3.1\\n',\n",
       " 'object 6144702197461034 53.0065193 -27.4442989 24.6567427 specFile_6000685739708_49612.3425_r.dat 0.8406 0 0 0 0 0 point none CCM 0.0281195858 3.1\\n',\n",
       " 'object 6145643410133034 53.0207295 -27.4033899 26.5692444 specFile_6001604892708_49612.3425_r.dat 0.8011 0 0 0 0 0 point none CCM 0.0277679977 3.1\\n',\n",
       " 'object 6145097111861290 53.0018045 -27.3935605 27.0692974 specFile_6001071398302_49612.3425_r.dat 0.8817 0 0 0 0 0 point none CCM 0.0287219475 3.1\\n',\n",
       " 'object 6144694345218090 53.0028796 -27.3940675 26.7908861 specFile_6000678071502_49612.3425_r.dat 0.7998 0 0 0 0 0 point none CCM 0.0287219475 3.1\\n',\n",
       " 'object 6144066805145642 53.0130558 -27.3925734 22.6641577 specFile_6000065239400_49612.3425_r.dat 0.3688 0 0 0 0 0 point none CCM 0.0265365168 3.1\\n',\n",
       " 'object 6144247248694314 53.0254092 -27.4229976 25.3820663 specFile_6000241453803_49612.3425_r.dat 0.7795 0 0 0 0 0 point none CCM 0.0277679977 3.1\\n',\n",
       " 'object 6144825979292714 53.0316061 -27.4352923 27.9032296 specFile_6000806620403_49612.3425_r.dat 0.8671 0 0 0 0 0 point none CCM 0.0268441084 3.1\\n',\n",
       " 'object 6145349049658410 53.004922 -27.4443004 26.7761991 specFile_6001317431307_49612.3425_r.dat 0.795 0 0 0 0 0 point none CCM 0.0281195858 3.1\\n',\n",
       " 'object 6144507254989866 53.0018284 -27.4363953 24.0977362 specFile_6000495366201_49612.3425_r.dat 0.6886 0 0 0 0 0 point none CCM 0.0277679977 3.1\\n',\n",
       " 'object 6144018900075562 53.0087023 -27.4336728 20.6923355 specFile_6000018457105_49612.3425_r.dat 0.0791 0 0 0 0 0 point none CCM 0.0277679977 3.1\\n',\n",
       " 'object 6144941514241066 53.0320621 -27.428991 26.924653 specFile_6000919447501_49612.3425_r.dat 0.8587 0 0 0 0 0 point none CCM 0.0277679977 3.1\\n',\n",
       " 'object 6144941514244138 53.0320686 -27.4289911 24.6503661 specFile_6000919447504_49612.3425_r.dat 0.8587 0 0 0 0 0 point none CCM 0.0277679977 3.1\\n',\n",
       " 'object 6145102120858666 53.0284233 -27.426914 25.9654675 specFile_6001076289901_49612.3425_r.dat 0.8237 0 0 0 0 0 point none CCM 0.0277679977 3.1\\n',\n",
       " 'object 6144002483407914 53.0055554 -27.4282812 27.2364927 specFile_6000002425203_49612.3425_r.dat 0.8234 0 0 0 0 0 point none CCM 0.0277679977 3.1\\n',\n",
       " 'object 6144412114842666 53.004847 -27.4279522 24.0370864 specFile_6000402455901_49612.3425_r.dat 0.5265 0 0 0 0 0 point none CCM 0.0277679977 3.1\\n',\n",
       " 'object 6144207428198442 53.0016864 -27.4271569 36.4624685 specFile_6000202566600_49612.3425_r.dat 0.8704 0 0 0 0 0 point none CCM 0.0277679977 3.1\\n',\n",
       " 'object 6144207428199466 53.0017463 -27.4272553 25.5601753 specFile_6000202566601_49612.3425_r.dat 0.8704 0 0 0 0 0 point none CCM 0.0277679977 3.1\\n',\n",
       " 'object 6144730872729642 52.9604277 -27.4356598 24.4522828 specFile_6000713742900_49612.3425_r.dat 0.6243 0 0 0 0 0 point none CCM 0.0306038084 3.1\\n',\n",
       " 'object 6144838464921642 52.9589036 -27.4359895 26.1700598 specFile_6000818813400_49612.3425_r.dat 0.7318 0 0 0 0 0 point none CCM 0.0306038084 3.1\\n',\n",
       " 'object 6144621211136042 53.0544118 -27.4214703 23.9359391 specFile_6000606651500_49612.3425_r.dat 0.6215 0 0 0 0 0 point none CCM 0.0268441084 3.1\\n',\n",
       " 'object 6144137634308138 52.9682192 -27.4520537 27.3974587 specFile_6000134408504_49612.3425_r.dat 0.821 0 0 0 0 0 point none CCM 0.0281195858 3.1\\n',\n",
       " 'object 6144590179738666 53.0510304 -27.4072403 24.9988219 specFile_6000576347401_49612.3425_r.dat 0.7823 0 0 0 0 0 point none CCM 0.0251816729 3.1\\n',\n",
       " 'object 6144946455040042 53.055297 -27.4120615 24.5805974 specFile_6000924272500_49612.3425_r.dat 0.8017 0 0 0 0 0 point none CCM 0.0247382259 3.1\\n',\n",
       " 'object 6144039584870442 53.0484802 -27.404876 25.3814382 specFile_6000038657100_49612.3425_r.dat 0.6273 0 0 0 0 0 point none CCM 0.0251816729 3.1\\n',\n",
       " 'object 6145132996096042 53.0564 -27.4309952 24.5378017 specFile_6001106441500_49612.3425_r.dat 0.736 0 0 0 0 0 point none CCM 0.0268441084 3.1\\n',\n",
       " 'object 6144703522308138 52.9674146 -27.4266377 25.3476974 specFile_6000687033504_49612.3425_r.dat 0.8633 0 0 0 0 0 point none CCM 0.0306038084 3.1\\n',\n",
       " 'object 6145706672332842 52.9723427 -27.4256886 23.2535346 specFile_6001666672200_49612.3425_r.dat 0.2088 0 0 0 0 0 point none CCM 0.0306038084 3.1\\n',\n",
       " 'object 6145155481909290 52.9768529 -27.4387042 23.7649399 specFile_6001128400302_49612.3425_r.dat 0.6507 0 0 0 0 0 point none CCM 0.0281195858 3.1\\n',\n",
       " 'object 6144423941737514 53.0474915 -27.4487185 25.2438195 specFile_6000414005603_49612.3425_r.dat 0.7485 0 0 0 0 0 point none CCM 0.0268441084 3.1\\n',\n",
       " 'object 6144305620995114 53.060348 -27.4484206 23.6743452 specFile_6000298458003_49612.3425_r.dat 0.7401 0 0 0 0 0 point none CCM 0.0268441084 3.1\\n',\n",
       " 'object 6144000562381866 53.0605693 -27.4484502 19.3514238 specFile_6000000549201_49612.3425_r.dat 0.0791 0 0 0 0 0 point none CCM 0.0268441084 3.1\\n',\n",
       " 'object 6144135938562090 52.9764172 -27.4280176 23.9142838 specFile_6000132752502_49612.3425_r.dat 0.5468 0 0 0 0 0 point none CCM 0.0306038084 3.1\\n',\n",
       " 'object 6145227914345514 53.0069096 -27.4809689 27.7379308 specFile_6001199135103_49612.3425_r.dat 0.8633 0 0 0 0 0 point none CCM 0.0279505202 3.1\\n',\n",
       " 'object 6144140457271338 53.0021605 -27.4791516 25.0968236 specFile_6000137165304_49612.3425_r.dat 0.8603 0 0 0 0 0 point none CCM 0.0279505202 3.1\\n',\n",
       " 'object 6144171077946410 52.999512 -27.469669 26.1851413 specFile_6000167068307_49612.3425_r.dat 0.8472 0 0 0 0 0 point none CCM 0.0279505202 3.1\\n',\n",
       " 'object 6144995912194090 52.9963581 -27.4720582 26.0758051 specFile_6000972570502_49612.3425_r.dat 0.6372 0 0 0 0 0 point none CCM 0.0279505202 3.1\\n',\n",
       " 'object 6144494925107242 53.001896 -27.4742454 25.2696247 specFile_6000483325300_49612.3425_r.dat 0.8886 0 0 0 0 0 point none CCM 0.0279505202 3.1\\n',\n",
       " 'object 6145719049627690 53.0013996 -27.4734129 23.5012909 specFile_6001678759402_49612.3425_r.dat 0.2958 0 0 0 0 0 point none CCM 0.0279505202 3.1\\n',\n",
       " 'object 6144824384409642 53.0000477 -27.4811476 26.6115661 specFile_6000805062900_49612.3425_r.dat 0.849 0 0 0 0 0 point none CCM 0.0279505202 3.1\\n',\n",
       " 'object 6144011651277866 52.9979212 -27.4770875 21.7081389 specFile_6000011378201_49612.3425_r.dat 0.079 0 0 0 0 0 point none CCM 0.0279505202 3.1\\n',\n",
       " 'object 6144506518937642 53.0245006 -27.4804505 24.877535 specFile_6000494647400_49612.3425_r.dat 0.8482 0 0 0 0 0 point none CCM 0.0279505202 3.1\\n',\n",
       " 'object 6144688241158186 53.0239007 -27.4797607 25.8834806 specFile_6000672110506_49612.3425_r.dat 0.8667 0 0 0 0 0 point none CCM 0.0279505202 3.1\\n',\n",
       " 'object 6145108716241962 53.0524595 -27.4408583 25.6092267 specFile_6001082730705_49612.3425_r.dat 0.7517 0 0 0 0 0 point none CCM 0.0268441084 3.1\\n',\n",
       " 'object 6144933301043242 53.0493076 -27.4448413 23.6284585 specFile_6000911426800_49612.3425_r.dat 0.6051 0 0 0 0 0 point none CCM 0.0268441084 3.1\\n',\n",
       " 'object 6144588519941162 52.9681646 -27.438164 24.4527359 specFile_6000574726505_49612.3425_r.dat 0.8139 0 0 0 0 0 point none CCM 0.0306038084 3.1\\n',\n",
       " 'object 6144588519945258 52.9681986 -27.4382303 28.0357541 specFile_6000574726509_49612.3425_r.dat 0.8139 0 0 0 0 0 point none CCM 0.0306038084 3.1\\n',\n",
       " 'object 6144620356097066 52.9690351 -27.4369735 26.5820349 specFile_6000605816501_49612.3425_r.dat 0.6384 0 0 0 0 0 point none CCM 0.0306038084 3.1\\n',\n",
       " 'object 6144502524825642 52.9686367 -27.4365365 26.3028318 specFile_6000490746900_49612.3425_r.dat 0.753 0 0 0 0 0 point none CCM 0.0306038084 3.1\\n',\n",
       " 'object 6144435871745066 53.0168799 -27.4782417 29.8558268 specFile_6000425656001_49612.3425_r.dat 0.7012 0 0 0 0 0 point none CCM 0.0279505202 3.1\\n',\n",
       " 'object 6144416754386986 53.0052207 -27.4544903 25.2526483 specFile_6000406986706_49612.3425_r.dat 0.8653 0 0 0 0 0 point none CCM 0.0281195858 3.1\\n',\n",
       " 'object 6144808969638954 53.0076891 -27.4563646 25.5423299 specFile_6000790009413_49612.3425_r.dat 0.8583 0 0 0 0 0 point none CCM 0.0281195858 3.1\\n',\n",
       " 'object 6144808969633834 53.00758 -27.4564123 24.9652692 specFile_6000790009408_49612.3425_r.dat 0.8583 0 0 0 0 0 point none CCM 0.0281195858 3.1\\n',\n",
       " 'object 6144372721974314 53.0112123 -27.4675227 57.1937148 specFile_6000363986303_49612.3425_r.dat 0.633 0 0 0 0 0 point none CCM 0.0279505202 3.1\\n',\n",
       " 'object 6144588221238314 52.9763266 -27.4412708 27.4498016 specFile_6000574434803_49612.3425_r.dat 0.8066 0 0 0 0 0 point none CCM 0.0281195858 3.1\\n',\n",
       " 'object 6144963087983658 53.0541964 -27.4463649 26.3148442 specFile_6000940515609_49612.3425_r.dat 0.837 0 0 0 0 0 point none CCM 0.0268441084 3.1\\n',\n",
       " 'object 6144677561446442 53.0590162 -27.4442648 24.2129703 specFile_6000661681100_49612.3425_r.dat 0.4897 0 0 0 0 0 point none CCM 0.0268441084 3.1\\n',\n",
       " 'object 6144091783373866 53.0600941 -27.4438264 27.1375265 specFile_6000089632201_49612.3425_r.dat 0.8347 0 0 0 0 0 point none CCM 0.0268441084 3.1\\n',\n",
       " 'object 6145305254605866 53.0123351 -27.4700496 24.2084848 specFile_6001274662701_49612.3425_r.dat 0.6238 0 0 0 0 0 point none CCM 0.0279505202 3.1\\n',\n",
       " 'object 6144427431836714 53.0047944 -27.4722029 26.1840878 specFile_6000417413903_49612.3425_r.dat 0.849 0 0 0 0 0 point none CCM 0.0279505202 3.1\\n',\n",
       " 'object 6144427431841834 53.0047053 -27.4720587 25.0467395 specFile_6000417413908_49612.3425_r.dat 0.849 0 0 0 0 0 point none CCM 0.0279505202 3.1\\n',\n",
       " 'object 6144612435251242 52.9761696 -27.4503858 26.7680419 specFile_6000598081300_49612.3425_r.dat 0.7635 0 0 0 0 0 point none CCM 0.0281195858 3.1\\n',\n",
       " 'object 6144306024452138 53.0560399 -27.4411336 24.0894951 specFile_6000298852004_49612.3425_r.dat 0.7004 0 0 0 0 0 point none CCM 0.0268441084 3.1\\n',\n",
       " 'object 6144366122291242 53.0436714 -27.452899 24.8489509 specFile_6000357541300_49612.3425_r.dat 0.7165 0 0 0 0 0 point none CCM 0.0268441084 3.1\\n',\n",
       " 'object 6145351092224042 53.0424769 -27.4644097 24.8251846 specFile_6001319426000_49612.3425_r.dat 0.4705 0 0 0 0 0 point none CCM 0.0279505202 3.1\\n',\n",
       " 'object 6144960810191914 52.9922948 -27.4516037 25.6705041 specFile_6000938291203_49612.3425_r.dat 0.8566 0 0 0 0 0 point none CCM 0.0281195858 3.1\\n',\n",
       " 'object 6144074462518314 52.9998592 -27.4458437 24.9799881 specFile_6000072717303_49612.3425_r.dat 0.814 0 0 0 0 0 point none CCM 0.0281195858 3.1\\n',\n",
       " 'object 6144013639375914 52.9838603 -27.4480374 25.0416139 specFile_6000013319703_49612.3425_r.dat 0.8152 0 0 0 0 0 point none CCM 0.0281195858 3.1\\n',\n",
       " 'object 6145152647272490 52.9825423 -27.4448236 24.5036642 specFile_6001125632102_49612.3425_r.dat 0.6303 0 0 0 0 0 point none CCM 0.0281195858 3.1\\n',\n",
       " 'object 6145130864235562 52.9654913 -27.4246473 26.6375116 specFile_6001104359605_49612.3425_r.dat 0.7042 0 0 0 0 0 point none CCM 0.0306038084 3.1\\n',\n",
       " 'object 6144040745780266 52.9609499 -27.4210536 20.2082881 specFile_6000039790801_49612.3425_r.dat 0.1523 0 0 0 0 0 point none CCM 0.0306038084 3.1\\n',\n",
       " 'object 6145109083955242 52.959664 -27.4201898 25.740728 specFile_6001083089800_49612.3425_r.dat 0.7539 0 0 0 0 0 point none CCM 0.0306038084 3.1\\n',\n",
       " 'object 6144703629828138 52.9814703 -27.4241563 26.6131946 specFile_6000687138504_49612.3425_r.dat 0.8621 0 0 0 0 0 point none CCM 0.0306038084 3.1\\n',\n",
       " 'object 6144292709788714 52.9781012 -27.4221707 27.7705251 specFile_6000285849403_49612.3425_r.dat 0.8936 0 0 0 0 0 point none CCM 0.0306038084 3.1\\n',\n",
       " 'object 6144962584373290 52.9737002 -27.4159351 26.8302332 specFile_6000940023802_49612.3425_r.dat 0.8553 0 0 0 0 0 point none CCM 0.0287219475 3.1\\n',\n",
       " 'object 6145129990760490 52.9733365 -27.4223739 25.78075 specFile_6001103506602_49612.3425_r.dat 0.7285 0 0 0 0 0 point none CCM 0.0306038084 3.1\\n',\n",
       " 'object 6144243633050666 53.0407687 -27.4743404 24.9127578 specFile_6000237922901_49612.3425_r.dat 0.857 0 0 0 0 0 point none CCM 0.0279505202 3.1\\n',\n",
       " 'object 6144643006464042 52.9708868 -27.412637 26.1963266 specFile_6000627936000_49612.3425_r.dat 0.4459 0 0 0 0 0 point none CCM 0.0287219475 3.1\\n',\n",
       " 'object 6144422103049258 52.9623026 -27.411239 25.1335371 specFile_6000412210009_49612.3425_r.dat 0.8201 0 0 0 0 0 point none CCM 0.0287219475 3.1\\n',\n",
       " 'object 6144497957486634 53.0415117 -27.4653362 27.374136 specFile_6000486286608_49612.3425_r.dat 0.8016 0 0 0 0 0 point none CCM 0.0279505202 3.1\\n',\n",
       " 'object 6144294468515882 53.043259 -27.4671401 25.1941938 specFile_6000287566910_49612.3425_r.dat 0.8375 0 0 0 0 0 point none CCM 0.0279505202 3.1\\n',\n",
       " 'object 6144507085316138 53.0477152 -27.4748672 24.983462 specFile_6000495200504_49612.3425_r.dat 0.8755 0 0 0 0 0 point none CCM 0.0279505202 3.1\\n',\n",
       " 'object 6144215507456042 53.0414834 -27.4726446 25.9281648 specFile_6000210456500_49612.3425_r.dat 0.6309 0 0 0 0 0 point none CCM 0.0279505202 3.1\\n',\n",
       " 'object 6144612494439466 53.0135033 -27.418642 32.0255826 specFile_6000598139101_49612.3425_r.dat 0.7425 0 0 0 0 0 point none CCM 0.0277679977 3.1\\n',\n",
       " 'object 6144243805803562 52.998605 -27.4007441 25.3045785 specFile_6000238091605_49612.3425_r.dat 0.8845 0 0 0 0 0 point none CCM 0.0287219475 3.1\\n',\n",
       " 'object 6145641767120938 53.0082661 -27.4078959 25.915914 specFile_6001603288204_49612.3425_r.dat 0.8846 0 0 0 0 0 point none CCM 0.0277679977 3.1\\n',\n",
       " 'object 6144020869017642 53.0219494 -27.4243611 23.6732788 specFile_6000020379900_49612.3425_r.dat 0.5604 0 0 0 0 0 point none CCM 0.0277679977 3.1\\n',\n",
       " 'object 6144417968337962 53.0238124 -27.4354395 26.2011894 specFile_6000408172205_49612.3425_r.dat 0.8872 0 0 0 0 0 point none CCM 0.0277679977 3.1\\n',\n",
       " 'object 6145380514305066 53.024743 -27.4344968 24.8804778 specFile_6001348158501_49612.3425_r.dat 0.3987 0 0 0 0 0 point none CCM 0.0277679977 3.1\\n',\n",
       " 'object 6145034741251114 52.9960716 -27.4209059 27.3219126 specFile_6001010489503_49612.3425_r.dat 0.8753 0 0 0 0 0 point none CCM 0.0277679977 3.1\\n',\n",
       " 'object 6144259699917866 52.9940158 -27.4169437 23.4722371 specFile_6000253613201_49612.3425_r.dat 0.6252 0 0 0 0 0 point none CCM 0.0277679977 3.1\\n',\n",
       " 'object 6145444608409642 53.0223242 -27.4500002 23.6858835 specFile_6001410750400_49612.3425_r.dat 0.3558 0 0 0 0 0 point none CCM 0.0279505202 3.1\\n',\n",
       " 'object 6144412839733290 53.0178861 -27.4462182 25.5511279 specFile_6000403163802_49612.3425_r.dat 0.6076 0 0 0 0 0 point none CCM 0.0277679977 3.1\\n',\n",
       " 'object 6144351434039338 53.031796 -27.4376215 24.5735091 specFile_6000343197304_49612.3425_r.dat 0.8206 0 0 0 0 0 point none CCM 0.0268441084 3.1\\n',\n",
       " 'object 6144351434048554 53.0318091 -27.4376176 26.5734898 specFile_6000343197313_49612.3425_r.dat 0.8206 0 0 0 0 0 point none CCM 0.0268441084 3.1\\n',\n",
       " 'object 6144351434040362 53.0318518 -27.4375756 25.7676798 specFile_6000343197305_49612.3425_r.dat 0.8206 0 0 0 0 0 point none CCM 0.0268441084 3.1\\n',\n",
       " 'object 6145578983220266 53.0345179 -27.4417127 21.1034425 specFile_6001541975801_49612.3425_r.dat 0.2595 0 0 0 0 0 point none CCM 0.0268441084 3.1\\n',\n",
       " 'object 6144244997535786 53.0292943 -27.4506169 27.5333045 specFile_6000239255406_49612.3425_r.dat 0.828 0 0 0 0 0 point none CCM 0.0268441084 3.1\\n',\n",
       " 'object 6144343584258090 53.0335749 -27.4500031 27.9834017 specFile_6000335531502_49612.3425_r.dat 0.5002 0 0 0 0 0 point none CCM 0.0268441084 3.1\\n',\n",
       " 'object 6144608350010410 53.0337839 -27.4478853 25.6339706 specFile_6000594091807_49612.3425_r.dat 0.7336 0 0 0 0 0 point none CCM 0.0268441084 3.1\\n',\n",
       " 'object 6144730795110442 53.0324378 -27.4466322 24.7296256 specFile_6000713667100_49612.3425_r.dat 0.6248 0 0 0 0 0 point none CCM 0.0268441084 3.1\\n',\n",
       " 'object 6144226318853162 53.0245995 -27.4444937 25.6416654 specFile_6000221014505_49612.3425_r.dat 0.8841 0 0 0 0 0 point none CCM 0.0268441084 3.1\\n',\n",
       " 'object 6144689008128042 53.0259604 -27.4400325 25.8965978 specFile_6000672859500_49612.3425_r.dat 0.878 0 0 0 0 0 point none CCM 0.0268441084 3.1\\n',\n",
       " 'object 6144067956838442 53.0212374 -27.4375475 22.6567281 specFile_6000066364100_49612.3425_r.dat 0.4228 0 0 0 0 0 point none CCM 0.0277679977 3.1\\n',\n",
       " 'object 6145529790361642 53.0182004 -27.4375888 25.7004967 specFile_6001493935900_49612.3425_r.dat 0.5633 0 0 0 0 0 point none CCM 0.0277679977 3.1\\n',\n",
       " 'object 6144092217453610 53.026574 -27.441805 27.110178 specFile_6000090056107_49612.3425_r.dat 0.817 0 0 0 0 0 point none CCM 0.0268441084 3.1\\n',\n",
       " 'object 6144092217456682 53.0264868 -27.4418035 24.6491531 specFile_6000090056110_49612.3425_r.dat 0.817 0 0 0 0 0 point none CCM 0.0268441084 3.1\\n',\n",
       " 'object 6144092181505066 53.0295228 -27.4568625 27.1642171 specFile_6000090021001_49612.3425_r.dat 0.8043 0 0 0 0 0 point none CCM 0.0279505202 3.1\\n',\n",
       " 'object 6145671737653290 53.0305404 -27.4555118 23.4836708 specFile_6001632556302_49612.3425_r.dat 0.3469 0 0 0 0 0 point none CCM 0.0279505202 3.1\\n',\n",
       " 'object 6144142774891562 53.0349237 -27.4615783 25.6301115 specFile_6000139428605_49612.3425_r.dat 0.7111 0 0 0 0 0 point none CCM 0.0279505202 3.1\\n',\n",
       " 'object 6144525419008042 53.0119485 -27.4583489 24.7775288 specFile_6000513104500_49612.3425_r.dat 0.638 0 0 0 0 0 point none CCM 0.0279505202 3.1\\n',\n",
       " 'object 6144371625371690 53.011842 -27.4574856 27.8633827 specFile_6000362915402_49612.3425_r.dat 0.6087 0 0 0 0 0 point none CCM 0.0279505202 3.1\\n',\n",
       " 'object 6144299519900714 53.0167959 -27.4594148 25.4029984 specFile_6000292499903_49612.3425_r.dat 0.849 0 0 0 0 0 point none CCM 0.0279505202 3.1\\n',\n",
       " 'object 6144009481217066 53.0135838 -27.4593871 24.2570553 specFile_6000009259001_49612.3425_r.dat 0.6379 0 0 0 0 0 point none CCM 0.0279505202 3.1\\n',\n",
       " 'object 6144964070810666 53.0140111 -27.4618444 25.2059867 specFile_6000941475401_49612.3425_r.dat 0.8595 0 0 0 0 0 point none CCM 0.0279505202 3.1\\n',\n",
       " 'object 6145116244485162 53.0222206 -27.4535551 25.3154827 specFile_6001090082505_49612.3425_r.dat 0.8708 0 0 0 0 0 point none CCM 0.0279505202 3.1\\n',\n",
       " 'object 6144074475627562 53.0075124 -27.4087825 30.7983312 specFile_6000072730105_49612.3425_r.dat 0.8377 0 0 0 0 0 point none CCM 0.0277679977 3.1\\n',\n",
       " 'object 6144693926514730 53.029665 -27.4735305 25.6397267 specFile_6000677662612_49612.3425_r.dat 0.8112 0 0 0 0 0 point none CCM 0.0279505202 3.1\\n',\n",
       " 'object 6144693926502442 53.0297519 -27.4735412 25.8032794 specFile_6000677662600_49612.3425_r.dat 0.8112 0 0 0 0 0 point none CCM 0.0279505202 3.1\\n',\n",
       " 'object 6144350369900586 52.9925634 -27.3958047 24.8887781 specFile_6000342158106_49612.3425_r.dat 0.8972 0 0 0 0 0 point none CCM 0.0287219475 3.1\\n',\n",
       " 'object 6144350369901610 52.9925417 -27.3958627 25.1899374 specFile_6000342158107_49612.3425_r.dat 0.8972 0 0 0 0 0 point none CCM 0.0287219475 3.1\\n',\n",
       " 'object 6144717398836266 52.995948 -27.3968478 24.9611463 specFile_6000700584801_49612.3425_r.dat 0.7232 0 0 0 0 0 point none CCM 0.0287219475 3.1\\n',\n",
       " 'object 6144692863593514 52.9925652 -27.4036393 30.9223207 specFile_6000676624603_49612.3425_r.dat 0.8203 0 0 0 0 0 point none CCM 0.0287219475 3.1\\n',\n",
       " 'object 6144112324919338 52.9910331 -27.398733 30.9595235 specFile_6000109692304_49612.3425_r.dat 0.8816 0 0 0 0 0 point none CCM 0.0287219475 3.1\\n',\n",
       " 'object 6144793492891690 53.0265107 -27.4756152 23.3225585 specFile_6000774895402_49612.3425_r.dat 0.5019 0 0 0 0 0 point none CCM 0.0279505202 3.1\\n',\n",
       " 'object 6144793492889642 53.0266554 -27.475491 24.7258951 specFile_6000774895400_49612.3425_r.dat 0.5019 0 0 0 0 0 point none CCM 0.0279505202 3.1\\n',\n",
       " 'object 6144825553311786 53.0297975 -27.4661012 27.3887399 specFile_6000806204406_49612.3425_r.dat 0.8532 0 0 0 0 0 point none CCM 0.0279505202 3.1\\n',\n",
       " 'object 6144026390324266 53.0281394 -27.4671152 20.7405406 specFile_6000025771801_49612.3425_r.dat 0.1927 0 0 0 0 0 point none CCM 0.0279505202 3.1\\n',\n",
       " 'object 6144424422707242 53.0288391 -27.4707512 25.3394719 specFile_6000414475300_49612.3425_r.dat 0.4742 0 0 0 0 0 point none CCM 0.0279505202 3.1\\n',\n",
       " 'object 6144517081600042 53.0228976 -27.4628024 25.9761111 specFile_6000504962500_49612.3425_r.dat 0.7142 0 0 0 0 0 point none CCM 0.0279505202 3.1\\n',\n",
       " 'object 6144621792769066 53.0318673 -27.4610696 27.0163849 specFile_6000607219501_49612.3425_r.dat 0.6253 0 0 0 0 0 point none CCM 0.0279505202 3.1\\n',\n",
       " 'object 6144244118325290 53.0252991 -27.4548918 26.2046535 specFile_6000238396802_49612.3425_r.dat 0.899 0 0 0 0 0 point none CCM 0.0279505202 3.1\\n',\n",
       " 'object 6144034496716842 52.9782427 -27.4101556 25.3333412 specFile_6000033688200_49612.3425_r.dat 0.827 0 0 0 0 0 point none CCM 0.0287219475 3.1\\n',\n",
       " 'object 6144980435660842 52.9777965 -27.4117207 24.5676081 specFile_6000957456700_49612.3425_r.dat 0.7233 0 0 0 0 0 point none CCM 0.0287219475 3.1\\n',\n",
       " 'object 6145353974069290 52.9813344 -27.4168196 25.0594231 specFile_6001322240302_49612.3425_r.dat 0.8402 0 0 0 0 0 point none CCM 0.0287219475 3.1\\n',\n",
       " 'object 6145151550773290 52.9766135 -27.4064342 26.4565278 specFile_6001124561302_49612.3425_r.dat 0.6379 0 0 0 0 0 point none CCM 0.0287219475 3.1\\n',\n",
       " 'object 6144168447283242 52.9887772 -27.4078336 30.5867799 specFile_6000164499300_49612.3425_r.dat 0.764 0 0 0 0 0 point none CCM 0.0287219475 3.1\\n',\n",
       " 'object 6144564957289514 52.9801382 -27.4008487 28.7364811 specFile_6000551716103_49612.3425_r.dat 0.8834 0 0 0 0 0 point none CCM 0.0287219475 3.1\\n',\n",
       " 'object 6144564957294634 52.9801164 -27.4008514 26.2883161 specFile_6000551716108_49612.3425_r.dat 0.8834 0 0 0 0 0 point none CCM 0.0287219475 3.1\\n',\n",
       " 'object 6144814548481066 52.9851887 -27.4018953 24.8207121 specFile_6000795457501_49612.3425_r.dat 0.8171 0 0 0 0 0 point none CCM 0.0287219475 3.1\\n',\n",
       " 'object 6145074163508266 52.9812774 -27.399813 20.8696612 specFile_6001048987801_49612.3425_r.dat 0.2242 0 0 0 0 0 point none CCM 0.0287219475 3.1\\n']"
      ]
     },
     "execution_count": 86,
     "metadata": {},
     "output_type": "execute_result"
    }
   ],
   "source": [
    "lines"
   ]
  },
  {
   "cell_type": "code",
   "execution_count": null,
   "metadata": {
    "collapsed": true
   },
   "outputs": [],
   "source": []
  },
  {
   "cell_type": "code",
   "execution_count": 81,
   "metadata": {
    "collapsed": false
   },
   "outputs": [],
   "source": [
    "df = pd.read_csv('SNOnlyPhoSimCatalog.dat', skiprows=18, delim_whitespace=True, names=pc.column_outputs,\n",
    "                 float_precision='high')"
   ]
  },
  {
   "cell_type": "code",
   "execution_count": 115,
   "metadata": {
    "collapsed": false
   },
   "outputs": [
    {
     "data": {
      "text/plain": [
       "Index([u'prefix', u'uniqueId', u'raPhoSim', u'decPhoSim', u'phoSimMagNorm',\n",
       "       u'sedFilepath', u'redshift', u'shear1', u'shear2', u'kappa',\n",
       "       u'raOffset', u'decOffset', u'spatialmodel', u'internalExtinctionModel',\n",
       "       u'galacticExtinctionModel', u'galacticAv', u'galacticRv'],\n",
       "      dtype='object')"
      ]
     },
     "execution_count": 115,
     "metadata": {},
     "output_type": "execute_result"
    }
   ],
   "source": [
    "df.columns"
   ]
  },
  {
   "cell_type": "code",
   "execution_count": 118,
   "metadata": {
    "collapsed": false
   },
   "outputs": [
    {
     "data": {
      "text/plain": [
       "count     218.000000\n",
       "mean       30.198514\n",
       "std        66.052976\n",
       "min        19.351424\n",
       "25%        24.620550\n",
       "50%        25.443286\n",
       "75%        26.552175\n",
       "max      1000.000000\n",
       "Name: phoSimMagNorm, dtype: float64"
      ]
     },
     "execution_count": 118,
     "metadata": {},
     "output_type": "execute_result"
    }
   ],
   "source": [
    "df.phoSimMagNorm"
   ]
  },
  {
   "cell_type": "code",
   "execution_count": 116,
   "metadata": {
    "collapsed": false
   },
   "outputs": [
    {
     "data": {
      "text/html": [
       "<div>\n",
       "<table border=\"1\" class=\"dataframe\">\n",
       "  <thead>\n",
       "    <tr style=\"text-align: right;\">\n",
       "      <th></th>\n",
       "      <th>redshift</th>\n",
       "      <th>phoSimMagNorm</th>\n",
       "    </tr>\n",
       "  </thead>\n",
       "  <tbody>\n",
       "    <tr>\n",
       "      <th>0</th>\n",
       "      <td>0.8928</td>\n",
       "      <td>26.338901</td>\n",
       "    </tr>\n",
       "    <tr>\n",
       "      <th>1</th>\n",
       "      <td>0.8797</td>\n",
       "      <td>26.176568</td>\n",
       "    </tr>\n",
       "    <tr>\n",
       "      <th>2</th>\n",
       "      <td>0.6213</td>\n",
       "      <td>23.517131</td>\n",
       "    </tr>\n",
       "    <tr>\n",
       "      <th>3</th>\n",
       "      <td>0.8490</td>\n",
       "      <td>26.211233</td>\n",
       "    </tr>\n",
       "    <tr>\n",
       "      <th>4</th>\n",
       "      <td>0.8932</td>\n",
       "      <td>26.265099</td>\n",
       "    </tr>\n",
       "    <tr>\n",
       "      <th>5</th>\n",
       "      <td>0.6092</td>\n",
       "      <td>25.779852</td>\n",
       "    </tr>\n",
       "    <tr>\n",
       "      <th>6</th>\n",
       "      <td>0.8730</td>\n",
       "      <td>25.294331</td>\n",
       "    </tr>\n",
       "    <tr>\n",
       "      <th>7</th>\n",
       "      <td>0.8730</td>\n",
       "      <td>26.211087</td>\n",
       "    </tr>\n",
       "    <tr>\n",
       "      <th>8</th>\n",
       "      <td>0.4061</td>\n",
       "      <td>25.045150</td>\n",
       "    </tr>\n",
       "    <tr>\n",
       "      <th>9</th>\n",
       "      <td>0.6390</td>\n",
       "      <td>25.955010</td>\n",
       "    </tr>\n",
       "    <tr>\n",
       "      <th>10</th>\n",
       "      <td>0.8308</td>\n",
       "      <td>25.819101</td>\n",
       "    </tr>\n",
       "    <tr>\n",
       "      <th>11</th>\n",
       "      <td>0.8308</td>\n",
       "      <td>25.356018</td>\n",
       "    </tr>\n",
       "    <tr>\n",
       "      <th>12</th>\n",
       "      <td>0.8669</td>\n",
       "      <td>25.738363</td>\n",
       "    </tr>\n",
       "    <tr>\n",
       "      <th>13</th>\n",
       "      <td>0.8573</td>\n",
       "      <td>25.746284</td>\n",
       "    </tr>\n",
       "    <tr>\n",
       "      <th>14</th>\n",
       "      <td>0.6202</td>\n",
       "      <td>26.318258</td>\n",
       "    </tr>\n",
       "    <tr>\n",
       "      <th>15</th>\n",
       "      <td>0.6049</td>\n",
       "      <td>24.372786</td>\n",
       "    </tr>\n",
       "    <tr>\n",
       "      <th>16</th>\n",
       "      <td>0.7744</td>\n",
       "      <td>26.854636</td>\n",
       "    </tr>\n",
       "    <tr>\n",
       "      <th>17</th>\n",
       "      <td>0.8242</td>\n",
       "      <td>25.162876</td>\n",
       "    </tr>\n",
       "    <tr>\n",
       "      <th>18</th>\n",
       "      <td>0.4800</td>\n",
       "      <td>23.076169</td>\n",
       "    </tr>\n",
       "    <tr>\n",
       "      <th>19</th>\n",
       "      <td>0.8889</td>\n",
       "      <td>24.243119</td>\n",
       "    </tr>\n",
       "    <tr>\n",
       "      <th>20</th>\n",
       "      <td>0.7253</td>\n",
       "      <td>24.623607</td>\n",
       "    </tr>\n",
       "    <tr>\n",
       "      <th>21</th>\n",
       "      <td>0.3587</td>\n",
       "      <td>1000.000000</td>\n",
       "    </tr>\n",
       "    <tr>\n",
       "      <th>22</th>\n",
       "      <td>0.6520</td>\n",
       "      <td>24.517340</td>\n",
       "    </tr>\n",
       "    <tr>\n",
       "      <th>23</th>\n",
       "      <td>0.6519</td>\n",
       "      <td>25.073640</td>\n",
       "    </tr>\n",
       "    <tr>\n",
       "      <th>24</th>\n",
       "      <td>0.7639</td>\n",
       "      <td>26.397863</td>\n",
       "    </tr>\n",
       "    <tr>\n",
       "      <th>25</th>\n",
       "      <td>0.6138</td>\n",
       "      <td>33.165776</td>\n",
       "    </tr>\n",
       "    <tr>\n",
       "      <th>26</th>\n",
       "      <td>0.8480</td>\n",
       "      <td>26.685186</td>\n",
       "    </tr>\n",
       "    <tr>\n",
       "      <th>27</th>\n",
       "      <td>0.8003</td>\n",
       "      <td>26.610870</td>\n",
       "    </tr>\n",
       "    <tr>\n",
       "      <th>28</th>\n",
       "      <td>0.8034</td>\n",
       "      <td>25.879358</td>\n",
       "    </tr>\n",
       "    <tr>\n",
       "      <th>29</th>\n",
       "      <td>0.7709</td>\n",
       "      <td>24.822416</td>\n",
       "    </tr>\n",
       "    <tr>\n",
       "      <th>...</th>\n",
       "      <td>...</td>\n",
       "      <td>...</td>\n",
       "    </tr>\n",
       "    <tr>\n",
       "      <th>188</th>\n",
       "      <td>0.6087</td>\n",
       "      <td>27.863383</td>\n",
       "    </tr>\n",
       "    <tr>\n",
       "      <th>189</th>\n",
       "      <td>0.8490</td>\n",
       "      <td>25.402998</td>\n",
       "    </tr>\n",
       "    <tr>\n",
       "      <th>190</th>\n",
       "      <td>0.6379</td>\n",
       "      <td>24.257055</td>\n",
       "    </tr>\n",
       "    <tr>\n",
       "      <th>191</th>\n",
       "      <td>0.8595</td>\n",
       "      <td>25.205987</td>\n",
       "    </tr>\n",
       "    <tr>\n",
       "      <th>192</th>\n",
       "      <td>0.8708</td>\n",
       "      <td>25.315483</td>\n",
       "    </tr>\n",
       "    <tr>\n",
       "      <th>193</th>\n",
       "      <td>0.8377</td>\n",
       "      <td>30.798331</td>\n",
       "    </tr>\n",
       "    <tr>\n",
       "      <th>194</th>\n",
       "      <td>0.8112</td>\n",
       "      <td>25.639727</td>\n",
       "    </tr>\n",
       "    <tr>\n",
       "      <th>195</th>\n",
       "      <td>0.8112</td>\n",
       "      <td>25.803279</td>\n",
       "    </tr>\n",
       "    <tr>\n",
       "      <th>196</th>\n",
       "      <td>0.8972</td>\n",
       "      <td>24.888778</td>\n",
       "    </tr>\n",
       "    <tr>\n",
       "      <th>197</th>\n",
       "      <td>0.8972</td>\n",
       "      <td>25.189937</td>\n",
       "    </tr>\n",
       "    <tr>\n",
       "      <th>198</th>\n",
       "      <td>0.7232</td>\n",
       "      <td>24.961146</td>\n",
       "    </tr>\n",
       "    <tr>\n",
       "      <th>199</th>\n",
       "      <td>0.8203</td>\n",
       "      <td>30.922321</td>\n",
       "    </tr>\n",
       "    <tr>\n",
       "      <th>200</th>\n",
       "      <td>0.8816</td>\n",
       "      <td>30.959523</td>\n",
       "    </tr>\n",
       "    <tr>\n",
       "      <th>201</th>\n",
       "      <td>0.5019</td>\n",
       "      <td>23.322558</td>\n",
       "    </tr>\n",
       "    <tr>\n",
       "      <th>202</th>\n",
       "      <td>0.5019</td>\n",
       "      <td>24.725895</td>\n",
       "    </tr>\n",
       "    <tr>\n",
       "      <th>203</th>\n",
       "      <td>0.8532</td>\n",
       "      <td>27.388740</td>\n",
       "    </tr>\n",
       "    <tr>\n",
       "      <th>204</th>\n",
       "      <td>0.1927</td>\n",
       "      <td>20.740541</td>\n",
       "    </tr>\n",
       "    <tr>\n",
       "      <th>205</th>\n",
       "      <td>0.4742</td>\n",
       "      <td>25.339472</td>\n",
       "    </tr>\n",
       "    <tr>\n",
       "      <th>206</th>\n",
       "      <td>0.7142</td>\n",
       "      <td>25.976111</td>\n",
       "    </tr>\n",
       "    <tr>\n",
       "      <th>207</th>\n",
       "      <td>0.6253</td>\n",
       "      <td>27.016385</td>\n",
       "    </tr>\n",
       "    <tr>\n",
       "      <th>208</th>\n",
       "      <td>0.8990</td>\n",
       "      <td>26.204653</td>\n",
       "    </tr>\n",
       "    <tr>\n",
       "      <th>209</th>\n",
       "      <td>0.8270</td>\n",
       "      <td>25.333341</td>\n",
       "    </tr>\n",
       "    <tr>\n",
       "      <th>210</th>\n",
       "      <td>0.7233</td>\n",
       "      <td>24.567608</td>\n",
       "    </tr>\n",
       "    <tr>\n",
       "      <th>211</th>\n",
       "      <td>0.8402</td>\n",
       "      <td>25.059423</td>\n",
       "    </tr>\n",
       "    <tr>\n",
       "      <th>212</th>\n",
       "      <td>0.6379</td>\n",
       "      <td>26.456528</td>\n",
       "    </tr>\n",
       "    <tr>\n",
       "      <th>213</th>\n",
       "      <td>0.7640</td>\n",
       "      <td>30.586780</td>\n",
       "    </tr>\n",
       "    <tr>\n",
       "      <th>214</th>\n",
       "      <td>0.8834</td>\n",
       "      <td>28.736481</td>\n",
       "    </tr>\n",
       "    <tr>\n",
       "      <th>215</th>\n",
       "      <td>0.8834</td>\n",
       "      <td>26.288316</td>\n",
       "    </tr>\n",
       "    <tr>\n",
       "      <th>216</th>\n",
       "      <td>0.8171</td>\n",
       "      <td>24.820712</td>\n",
       "    </tr>\n",
       "    <tr>\n",
       "      <th>217</th>\n",
       "      <td>0.2242</td>\n",
       "      <td>20.869661</td>\n",
       "    </tr>\n",
       "  </tbody>\n",
       "</table>\n",
       "<p>218 rows × 2 columns</p>\n",
       "</div>"
      ],
      "text/plain": [
       "     redshift  phoSimMagNorm\n",
       "0      0.8928      26.338901\n",
       "1      0.8797      26.176568\n",
       "2      0.6213      23.517131\n",
       "3      0.8490      26.211233\n",
       "4      0.8932      26.265099\n",
       "5      0.6092      25.779852\n",
       "6      0.8730      25.294331\n",
       "7      0.8730      26.211087\n",
       "8      0.4061      25.045150\n",
       "9      0.6390      25.955010\n",
       "10     0.8308      25.819101\n",
       "11     0.8308      25.356018\n",
       "12     0.8669      25.738363\n",
       "13     0.8573      25.746284\n",
       "14     0.6202      26.318258\n",
       "15     0.6049      24.372786\n",
       "16     0.7744      26.854636\n",
       "17     0.8242      25.162876\n",
       "18     0.4800      23.076169\n",
       "19     0.8889      24.243119\n",
       "20     0.7253      24.623607\n",
       "21     0.3587    1000.000000\n",
       "22     0.6520      24.517340\n",
       "23     0.6519      25.073640\n",
       "24     0.7639      26.397863\n",
       "25     0.6138      33.165776\n",
       "26     0.8480      26.685186\n",
       "27     0.8003      26.610870\n",
       "28     0.8034      25.879358\n",
       "29     0.7709      24.822416\n",
       "..        ...            ...\n",
       "188    0.6087      27.863383\n",
       "189    0.8490      25.402998\n",
       "190    0.6379      24.257055\n",
       "191    0.8595      25.205987\n",
       "192    0.8708      25.315483\n",
       "193    0.8377      30.798331\n",
       "194    0.8112      25.639727\n",
       "195    0.8112      25.803279\n",
       "196    0.8972      24.888778\n",
       "197    0.8972      25.189937\n",
       "198    0.7232      24.961146\n",
       "199    0.8203      30.922321\n",
       "200    0.8816      30.959523\n",
       "201    0.5019      23.322558\n",
       "202    0.5019      24.725895\n",
       "203    0.8532      27.388740\n",
       "204    0.1927      20.740541\n",
       "205    0.4742      25.339472\n",
       "206    0.7142      25.976111\n",
       "207    0.6253      27.016385\n",
       "208    0.8990      26.204653\n",
       "209    0.8270      25.333341\n",
       "210    0.7233      24.567608\n",
       "211    0.8402      25.059423\n",
       "212    0.6379      26.456528\n",
       "213    0.7640      30.586780\n",
       "214    0.8834      28.736481\n",
       "215    0.8834      26.288316\n",
       "216    0.8171      24.820712\n",
       "217    0.2242      20.869661\n",
       "\n",
       "[218 rows x 2 columns]"
      ]
     },
     "execution_count": 116,
     "metadata": {},
     "output_type": "execute_result"
    }
   ],
   "source": [
    "df[['redshift', 'phoSimMagNorm']]"
   ]
  },
  {
   "cell_type": "code",
   "execution_count": 70,
   "metadata": {
    "collapsed": false
   },
   "outputs": [
    {
     "data": {
      "text/html": [
       "<div>\n",
       "<table border=\"1\" class=\"dataframe\">\n",
       "  <thead>\n",
       "    <tr style=\"text-align: right;\">\n",
       "      <th></th>\n",
       "      <th>prefix</th>\n",
       "      <th>uniqueId</th>\n",
       "      <th>raPhoSim</th>\n",
       "      <th>decPhoSim</th>\n",
       "      <th>phoSimMagNorm</th>\n",
       "      <th>sedFilepath</th>\n",
       "      <th>redshift</th>\n",
       "      <th>shear1</th>\n",
       "      <th>shear2</th>\n",
       "      <th>kappa</th>\n",
       "      <th>raOffset</th>\n",
       "      <th>decOffset</th>\n",
       "      <th>spatialmodel</th>\n",
       "      <th>internalExtinctionModel</th>\n",
       "      <th>galacticExtinctionModel</th>\n",
       "      <th>galacticAv</th>\n",
       "      <th>galacticRv</th>\n",
       "    </tr>\n",
       "  </thead>\n",
       "  <tbody>\n",
       "    <tr>\n",
       "      <th>0</th>\n",
       "      <td>object</td>\n",
       "      <td>6144281204838442</td>\n",
       "      <td>52.990262</td>\n",
       "      <td>-27.479559</td>\n",
       "      <td>26.338901</td>\n",
       "      <td>specFile_6000274614100_49612.3425_r.dat</td>\n",
       "      <td>0.8928</td>\n",
       "      <td>0</td>\n",
       "      <td>0</td>\n",
       "      <td>0</td>\n",
       "      <td>0</td>\n",
       "      <td>0</td>\n",
       "      <td>point</td>\n",
       "      <td>none</td>\n",
       "      <td>CCM</td>\n",
       "      <td>0.026821</td>\n",
       "      <td>3.1</td>\n",
       "    </tr>\n",
       "    <tr>\n",
       "      <th>1</th>\n",
       "      <td>object</td>\n",
       "      <td>6144093910125610</td>\n",
       "      <td>52.988212</td>\n",
       "      <td>-27.475613</td>\n",
       "      <td>26.176568</td>\n",
       "      <td>specFile_6000091709107_49612.3425_r.dat</td>\n",
       "      <td>0.8797</td>\n",
       "      <td>0</td>\n",
       "      <td>0</td>\n",
       "      <td>0</td>\n",
       "      <td>0</td>\n",
       "      <td>0</td>\n",
       "      <td>point</td>\n",
       "      <td>none</td>\n",
       "      <td>CCM</td>\n",
       "      <td>0.028120</td>\n",
       "      <td>3.1</td>\n",
       "    </tr>\n",
       "    <tr>\n",
       "      <th>2</th>\n",
       "      <td>object</td>\n",
       "      <td>6144995563212842</td>\n",
       "      <td>52.995988</td>\n",
       "      <td>-27.470234</td>\n",
       "      <td>23.517131</td>\n",
       "      <td>specFile_6000972229700_49612.3425_r.dat</td>\n",
       "      <td>0.6213</td>\n",
       "      <td>0</td>\n",
       "      <td>0</td>\n",
       "      <td>0</td>\n",
       "      <td>0</td>\n",
       "      <td>0</td>\n",
       "      <td>point</td>\n",
       "      <td>none</td>\n",
       "      <td>CCM</td>\n",
       "      <td>0.028120</td>\n",
       "      <td>3.1</td>\n",
       "    </tr>\n",
       "    <tr>\n",
       "      <th>3</th>\n",
       "      <td>object</td>\n",
       "      <td>6144171067700266</td>\n",
       "      <td>52.993951</td>\n",
       "      <td>-27.473566</td>\n",
       "      <td>26.211233</td>\n",
       "      <td>specFile_6000167058301_49612.3425_r.dat</td>\n",
       "      <td>0.8490</td>\n",
       "      <td>0</td>\n",
       "      <td>0</td>\n",
       "      <td>0</td>\n",
       "      <td>0</td>\n",
       "      <td>0</td>\n",
       "      <td>point</td>\n",
       "      <td>none</td>\n",
       "      <td>CCM</td>\n",
       "      <td>0.027951</td>\n",
       "      <td>3.1</td>\n",
       "    </tr>\n",
       "    <tr>\n",
       "      <th>4</th>\n",
       "      <td>object</td>\n",
       "      <td>6145532174336042</td>\n",
       "      <td>53.033894</td>\n",
       "      <td>-27.418111</td>\n",
       "      <td>26.265099</td>\n",
       "      <td>specFile_6001496264000_49612.3425_r.dat</td>\n",
       "      <td>0.8932</td>\n",
       "      <td>0</td>\n",
       "      <td>0</td>\n",
       "      <td>0</td>\n",
       "      <td>0</td>\n",
       "      <td>0</td>\n",
       "      <td>point</td>\n",
       "      <td>none</td>\n",
       "      <td>CCM</td>\n",
       "      <td>0.027768</td>\n",
       "      <td>3.1</td>\n",
       "    </tr>\n",
       "    <tr>\n",
       "      <th>5</th>\n",
       "      <td>object</td>\n",
       "      <td>6144051719065642</td>\n",
       "      <td>53.034351</td>\n",
       "      <td>-27.419727</td>\n",
       "      <td>25.779852</td>\n",
       "      <td>specFile_6000050506900_49612.3425_r.dat</td>\n",
       "      <td>0.6092</td>\n",
       "      <td>0</td>\n",
       "      <td>0</td>\n",
       "      <td>0</td>\n",
       "      <td>0</td>\n",
       "      <td>0</td>\n",
       "      <td>point</td>\n",
       "      <td>none</td>\n",
       "      <td>CCM</td>\n",
       "      <td>0.027768</td>\n",
       "      <td>3.1</td>\n",
       "    </tr>\n",
       "    <tr>\n",
       "      <th>6</th>\n",
       "      <td>object</td>\n",
       "      <td>6145409577784362</td>\n",
       "      <td>53.029889</td>\n",
       "      <td>-27.416153</td>\n",
       "      <td>25.294331</td>\n",
       "      <td>specFile_6001376540805_49612.3425_r.dat</td>\n",
       "      <td>0.8730</td>\n",
       "      <td>0</td>\n",
       "      <td>0</td>\n",
       "      <td>0</td>\n",
       "      <td>0</td>\n",
       "      <td>0</td>\n",
       "      <td>point</td>\n",
       "      <td>none</td>\n",
       "      <td>CCM</td>\n",
       "      <td>0.027768</td>\n",
       "      <td>3.1</td>\n",
       "    </tr>\n",
       "    <tr>\n",
       "      <th>7</th>\n",
       "      <td>object</td>\n",
       "      <td>6145409577780266</td>\n",
       "      <td>53.029945</td>\n",
       "      <td>-27.416159</td>\n",
       "      <td>26.211087</td>\n",
       "      <td>specFile_6001376540801_49612.3425_r.dat</td>\n",
       "      <td>0.8730</td>\n",
       "      <td>0</td>\n",
       "      <td>0</td>\n",
       "      <td>0</td>\n",
       "      <td>0</td>\n",
       "      <td>0</td>\n",
       "      <td>point</td>\n",
       "      <td>none</td>\n",
       "      <td>CCM</td>\n",
       "      <td>0.027768</td>\n",
       "      <td>3.1</td>\n",
       "    </tr>\n",
       "    <tr>\n",
       "      <th>8</th>\n",
       "      <td>object</td>\n",
       "      <td>6145653399244842</td>\n",
       "      <td>53.052856</td>\n",
       "      <td>-27.416090</td>\n",
       "      <td>25.045150</td>\n",
       "      <td>specFile_6001614647700_49612.3425_r.dat</td>\n",
       "      <td>0.4061</td>\n",
       "      <td>0</td>\n",
       "      <td>0</td>\n",
       "      <td>0</td>\n",
       "      <td>0</td>\n",
       "      <td>0</td>\n",
       "      <td>point</td>\n",
       "      <td>none</td>\n",
       "      <td>CCM</td>\n",
       "      <td>0.024738</td>\n",
       "      <td>3.1</td>\n",
       "    </tr>\n",
       "    <tr>\n",
       "      <th>9</th>\n",
       "      <td>object</td>\n",
       "      <td>6144039378640938</td>\n",
       "      <td>52.984698</td>\n",
       "      <td>-27.481321</td>\n",
       "      <td>25.955010</td>\n",
       "      <td>specFile_6000038455704_49612.3425_r.dat</td>\n",
       "      <td>0.6390</td>\n",
       "      <td>0</td>\n",
       "      <td>0</td>\n",
       "      <td>0</td>\n",
       "      <td>0</td>\n",
       "      <td>0</td>\n",
       "      <td>point</td>\n",
       "      <td>none</td>\n",
       "      <td>CCM</td>\n",
       "      <td>0.028163</td>\n",
       "      <td>3.1</td>\n",
       "    </tr>\n",
       "    <tr>\n",
       "      <th>10</th>\n",
       "      <td>object</td>\n",
       "      <td>6144137763642410</td>\n",
       "      <td>52.992959</td>\n",
       "      <td>-27.482522</td>\n",
       "      <td>25.819101</td>\n",
       "      <td>specFile_6000134534807_49612.3425_r.dat</td>\n",
       "      <td>0.8308</td>\n",
       "      <td>0</td>\n",
       "      <td>0</td>\n",
       "      <td>0</td>\n",
       "      <td>0</td>\n",
       "      <td>0</td>\n",
       "      <td>point</td>\n",
       "      <td>none</td>\n",
       "      <td>CCM</td>\n",
       "      <td>0.026821</td>\n",
       "      <td>3.1</td>\n",
       "    </tr>\n",
       "    <tr>\n",
       "      <th>11</th>\n",
       "      <td>object</td>\n",
       "      <td>6144137763638314</td>\n",
       "      <td>52.992935</td>\n",
       "      <td>-27.482498</td>\n",
       "      <td>25.356018</td>\n",
       "      <td>specFile_6000134534803_49612.3425_r.dat</td>\n",
       "      <td>0.8308</td>\n",
       "      <td>0</td>\n",
       "      <td>0</td>\n",
       "      <td>0</td>\n",
       "      <td>0</td>\n",
       "      <td>0</td>\n",
       "      <td>point</td>\n",
       "      <td>none</td>\n",
       "      <td>CCM</td>\n",
       "      <td>0.026821</td>\n",
       "      <td>3.1</td>\n",
       "    </tr>\n",
       "    <tr>\n",
       "      <th>12</th>\n",
       "      <td>object</td>\n",
       "      <td>6144170848369706</td>\n",
       "      <td>52.996514</td>\n",
       "      <td>-27.486621</td>\n",
       "      <td>25.738363</td>\n",
       "      <td>specFile_6000166844111_49612.3425_r.dat</td>\n",
       "      <td>0.8669</td>\n",
       "      <td>0</td>\n",
       "      <td>0</td>\n",
       "      <td>0</td>\n",
       "      <td>0</td>\n",
       "      <td>0</td>\n",
       "      <td>point</td>\n",
       "      <td>none</td>\n",
       "      <td>CCM</td>\n",
       "      <td>0.026821</td>\n",
       "      <td>3.1</td>\n",
       "    </tr>\n",
       "    <tr>\n",
       "      <th>13</th>\n",
       "      <td>object</td>\n",
       "      <td>6144207051575338</td>\n",
       "      <td>53.002796</td>\n",
       "      <td>-27.482799</td>\n",
       "      <td>25.746284</td>\n",
       "      <td>specFile_6000202198804_49612.3425_r.dat</td>\n",
       "      <td>0.8573</td>\n",
       "      <td>0</td>\n",
       "      <td>0</td>\n",
       "      <td>0</td>\n",
       "      <td>0</td>\n",
       "      <td>0</td>\n",
       "      <td>point</td>\n",
       "      <td>none</td>\n",
       "      <td>CCM</td>\n",
       "      <td>0.027951</td>\n",
       "      <td>3.1</td>\n",
       "    </tr>\n",
       "    <tr>\n",
       "      <th>14</th>\n",
       "      <td>object</td>\n",
       "      <td>6144854912923690</td>\n",
       "      <td>52.977075</td>\n",
       "      <td>-27.479982</td>\n",
       "      <td>26.318258</td>\n",
       "      <td>specFile_6000834875902_49612.3425_r.dat</td>\n",
       "      <td>0.6202</td>\n",
       "      <td>0</td>\n",
       "      <td>0</td>\n",
       "      <td>0</td>\n",
       "      <td>0</td>\n",
       "      <td>0</td>\n",
       "      <td>point</td>\n",
       "      <td>none</td>\n",
       "      <td>CCM</td>\n",
       "      <td>0.028163</td>\n",
       "      <td>3.1</td>\n",
       "    </tr>\n",
       "    <tr>\n",
       "      <th>15</th>\n",
       "      <td>object</td>\n",
       "      <td>6144199672832042</td>\n",
       "      <td>52.980094</td>\n",
       "      <td>-27.478136</td>\n",
       "      <td>24.372786</td>\n",
       "      <td>specFile_6000194993000_49612.3425_r.dat</td>\n",
       "      <td>0.6049</td>\n",
       "      <td>0</td>\n",
       "      <td>0</td>\n",
       "      <td>0</td>\n",
       "      <td>0</td>\n",
       "      <td>0</td>\n",
       "      <td>point</td>\n",
       "      <td>none</td>\n",
       "      <td>CCM</td>\n",
       "      <td>0.028163</td>\n",
       "      <td>3.1</td>\n",
       "    </tr>\n",
       "    <tr>\n",
       "      <th>16</th>\n",
       "      <td>object</td>\n",
       "      <td>6145106855738410</td>\n",
       "      <td>53.006058</td>\n",
       "      <td>-27.485174</td>\n",
       "      <td>26.854636</td>\n",
       "      <td>specFile_6001080913807_49612.3425_r.dat</td>\n",
       "      <td>0.7744</td>\n",
       "      <td>0</td>\n",
       "      <td>0</td>\n",
       "      <td>0</td>\n",
       "      <td>0</td>\n",
       "      <td>0</td>\n",
       "      <td>point</td>\n",
       "      <td>none</td>\n",
       "      <td>CCM</td>\n",
       "      <td>0.027951</td>\n",
       "      <td>3.1</td>\n",
       "    </tr>\n",
       "    <tr>\n",
       "      <th>17</th>\n",
       "      <td>object</td>\n",
       "      <td>6144167695462442</td>\n",
       "      <td>53.022424</td>\n",
       "      <td>-27.481962</td>\n",
       "      <td>25.162876</td>\n",
       "      <td>specFile_6000163765100_49612.3425_r.dat</td>\n",
       "      <td>0.8242</td>\n",
       "      <td>0</td>\n",
       "      <td>0</td>\n",
       "      <td>0</td>\n",
       "      <td>0</td>\n",
       "      <td>0</td>\n",
       "      <td>point</td>\n",
       "      <td>none</td>\n",
       "      <td>CCM</td>\n",
       "      <td>0.027951</td>\n",
       "      <td>3.1</td>\n",
       "    </tr>\n",
       "    <tr>\n",
       "      <th>18</th>\n",
       "      <td>object</td>\n",
       "      <td>6144575573916714</td>\n",
       "      <td>53.024855</td>\n",
       "      <td>-27.484352</td>\n",
       "      <td>23.076169</td>\n",
       "      <td>specFile_6000562083903_49612.3425_r.dat</td>\n",
       "      <td>0.4800</td>\n",
       "      <td>0</td>\n",
       "      <td>0</td>\n",
       "      <td>0</td>\n",
       "      <td>0</td>\n",
       "      <td>0</td>\n",
       "      <td>point</td>\n",
       "      <td>none</td>\n",
       "      <td>CCM</td>\n",
       "      <td>0.027951</td>\n",
       "      <td>3.1</td>\n",
       "    </tr>\n",
       "    <tr>\n",
       "      <th>19</th>\n",
       "      <td>object</td>\n",
       "      <td>6145589381125162</td>\n",
       "      <td>53.024592</td>\n",
       "      <td>-27.486098</td>\n",
       "      <td>24.243119</td>\n",
       "      <td>specFile_6001552130005_49612.3425_r.dat</td>\n",
       "      <td>0.8889</td>\n",
       "      <td>0</td>\n",
       "      <td>0</td>\n",
       "      <td>0</td>\n",
       "      <td>0</td>\n",
       "      <td>0</td>\n",
       "      <td>point</td>\n",
       "      <td>none</td>\n",
       "      <td>CCM</td>\n",
       "      <td>0.027951</td>\n",
       "      <td>3.1</td>\n",
       "    </tr>\n",
       "    <tr>\n",
       "      <th>20</th>\n",
       "      <td>object</td>\n",
       "      <td>6144143504182314</td>\n",
       "      <td>53.004614</td>\n",
       "      <td>-27.452829</td>\n",
       "      <td>24.623607</td>\n",
       "      <td>specFile_6000140140803_49612.3425_r.dat</td>\n",
       "      <td>0.7253</td>\n",
       "      <td>0</td>\n",
       "      <td>0</td>\n",
       "      <td>0</td>\n",
       "      <td>0</td>\n",
       "      <td>0</td>\n",
       "      <td>point</td>\n",
       "      <td>none</td>\n",
       "      <td>CCM</td>\n",
       "      <td>0.028120</td>\n",
       "      <td>3.1</td>\n",
       "    </tr>\n",
       "    <tr>\n",
       "      <th>21</th>\n",
       "      <td>object</td>\n",
       "      <td>6144758271180842</td>\n",
       "      <td>53.044614</td>\n",
       "      <td>-27.418473</td>\n",
       "      <td>1000.000000</td>\n",
       "      <td>specFile_6000740499200_49612.3425_r.dat</td>\n",
       "      <td>0.3587</td>\n",
       "      <td>0</td>\n",
       "      <td>0</td>\n",
       "      <td>0</td>\n",
       "      <td>0</td>\n",
       "      <td>0</td>\n",
       "      <td>point</td>\n",
       "      <td>none</td>\n",
       "      <td>CCM</td>\n",
       "      <td>0.027768</td>\n",
       "      <td>3.1</td>\n",
       "    </tr>\n",
       "    <tr>\n",
       "      <th>22</th>\n",
       "      <td>object</td>\n",
       "      <td>6145306051687466</td>\n",
       "      <td>53.015062</td>\n",
       "      <td>-27.486415</td>\n",
       "      <td>24.517340</td>\n",
       "      <td>specFile_6001275441101_49612.3425_r.dat</td>\n",
       "      <td>0.6520</td>\n",
       "      <td>0</td>\n",
       "      <td>0</td>\n",
       "      <td>0</td>\n",
       "      <td>0</td>\n",
       "      <td>0</td>\n",
       "      <td>point</td>\n",
       "      <td>none</td>\n",
       "      <td>CCM</td>\n",
       "      <td>0.027951</td>\n",
       "      <td>3.1</td>\n",
       "    </tr>\n",
       "    <tr>\n",
       "      <th>23</th>\n",
       "      <td>object</td>\n",
       "      <td>6144373331662890</td>\n",
       "      <td>53.020064</td>\n",
       "      <td>-27.487032</td>\n",
       "      <td>25.073640</td>\n",
       "      <td>specFile_6000364581702_49612.3425_r.dat</td>\n",
       "      <td>0.6519</td>\n",
       "      <td>0</td>\n",
       "      <td>0</td>\n",
       "      <td>0</td>\n",
       "      <td>0</td>\n",
       "      <td>0</td>\n",
       "      <td>point</td>\n",
       "      <td>none</td>\n",
       "      <td>CCM</td>\n",
       "      <td>0.027951</td>\n",
       "      <td>3.1</td>\n",
       "    </tr>\n",
       "    <tr>\n",
       "      <th>24</th>\n",
       "      <td>object</td>\n",
       "      <td>6145108666677290</td>\n",
       "      <td>53.018492</td>\n",
       "      <td>-27.483225</td>\n",
       "      <td>26.397863</td>\n",
       "      <td>specFile_6001082682302_49612.3425_r.dat</td>\n",
       "      <td>0.7639</td>\n",
       "      <td>0</td>\n",
       "      <td>0</td>\n",
       "      <td>0</td>\n",
       "      <td>0</td>\n",
       "      <td>0</td>\n",
       "      <td>point</td>\n",
       "      <td>none</td>\n",
       "      <td>CCM</td>\n",
       "      <td>0.027951</td>\n",
       "      <td>3.1</td>\n",
       "    </tr>\n",
       "    <tr>\n",
       "      <th>25</th>\n",
       "      <td>object</td>\n",
       "      <td>6144005552846890</td>\n",
       "      <td>52.972317</td>\n",
       "      <td>-27.462753</td>\n",
       "      <td>33.165776</td>\n",
       "      <td>specFile_6000005422702_49612.3425_r.dat</td>\n",
       "      <td>0.6138</td>\n",
       "      <td>0</td>\n",
       "      <td>0</td>\n",
       "      <td>0</td>\n",
       "      <td>0</td>\n",
       "      <td>0</td>\n",
       "      <td>point</td>\n",
       "      <td>none</td>\n",
       "      <td>CCM</td>\n",
       "      <td>0.028120</td>\n",
       "      <td>3.1</td>\n",
       "    </tr>\n",
       "    <tr>\n",
       "      <th>26</th>\n",
       "      <td>object</td>\n",
       "      <td>6144093718835242</td>\n",
       "      <td>53.008673</td>\n",
       "      <td>-27.488574</td>\n",
       "      <td>26.685186</td>\n",
       "      <td>specFile_6000091522300_49612.3425_r.dat</td>\n",
       "      <td>0.8480</td>\n",
       "      <td>0</td>\n",
       "      <td>0</td>\n",
       "      <td>0</td>\n",
       "      <td>0</td>\n",
       "      <td>0</td>\n",
       "      <td>point</td>\n",
       "      <td>none</td>\n",
       "      <td>CCM</td>\n",
       "      <td>0.027951</td>\n",
       "      <td>3.1</td>\n",
       "    </tr>\n",
       "    <tr>\n",
       "      <th>27</th>\n",
       "      <td>object</td>\n",
       "      <td>6145223425845290</td>\n",
       "      <td>53.010152</td>\n",
       "      <td>-27.486659</td>\n",
       "      <td>26.610870</td>\n",
       "      <td>specFile_6001194751802_49612.3425_r.dat</td>\n",
       "      <td>0.8003</td>\n",
       "      <td>0</td>\n",
       "      <td>0</td>\n",
       "      <td>0</td>\n",
       "      <td>0</td>\n",
       "      <td>0</td>\n",
       "      <td>point</td>\n",
       "      <td>none</td>\n",
       "      <td>CCM</td>\n",
       "      <td>0.027951</td>\n",
       "      <td>3.1</td>\n",
       "    </tr>\n",
       "    <tr>\n",
       "      <th>28</th>\n",
       "      <td>object</td>\n",
       "      <td>6144692996407338</td>\n",
       "      <td>52.997455</td>\n",
       "      <td>-27.455974</td>\n",
       "      <td>25.879358</td>\n",
       "      <td>specFile_6000676754304_49612.3425_r.dat</td>\n",
       "      <td>0.8034</td>\n",
       "      <td>0</td>\n",
       "      <td>0</td>\n",
       "      <td>0</td>\n",
       "      <td>0</td>\n",
       "      <td>0</td>\n",
       "      <td>point</td>\n",
       "      <td>none</td>\n",
       "      <td>CCM</td>\n",
       "      <td>0.028120</td>\n",
       "      <td>3.1</td>\n",
       "    </tr>\n",
       "    <tr>\n",
       "      <th>29</th>\n",
       "      <td>object</td>\n",
       "      <td>6144420395114538</td>\n",
       "      <td>52.998971</td>\n",
       "      <td>-27.456715</td>\n",
       "      <td>24.822416</td>\n",
       "      <td>specFile_6000410542104_49612.3425_r.dat</td>\n",
       "      <td>0.7709</td>\n",
       "      <td>0</td>\n",
       "      <td>0</td>\n",
       "      <td>0</td>\n",
       "      <td>0</td>\n",
       "      <td>0</td>\n",
       "      <td>point</td>\n",
       "      <td>none</td>\n",
       "      <td>CCM</td>\n",
       "      <td>0.028120</td>\n",
       "      <td>3.1</td>\n",
       "    </tr>\n",
       "    <tr>\n",
       "      <th>...</th>\n",
       "      <td>...</td>\n",
       "      <td>...</td>\n",
       "      <td>...</td>\n",
       "      <td>...</td>\n",
       "      <td>...</td>\n",
       "      <td>...</td>\n",
       "      <td>...</td>\n",
       "      <td>...</td>\n",
       "      <td>...</td>\n",
       "      <td>...</td>\n",
       "      <td>...</td>\n",
       "      <td>...</td>\n",
       "      <td>...</td>\n",
       "      <td>...</td>\n",
       "      <td>...</td>\n",
       "      <td>...</td>\n",
       "      <td>...</td>\n",
       "    </tr>\n",
       "    <tr>\n",
       "      <th>188</th>\n",
       "      <td>object</td>\n",
       "      <td>6144371625371690</td>\n",
       "      <td>53.011842</td>\n",
       "      <td>-27.457486</td>\n",
       "      <td>27.863383</td>\n",
       "      <td>specFile_6000362915402_49612.3425_r.dat</td>\n",
       "      <td>0.6087</td>\n",
       "      <td>0</td>\n",
       "      <td>0</td>\n",
       "      <td>0</td>\n",
       "      <td>0</td>\n",
       "      <td>0</td>\n",
       "      <td>point</td>\n",
       "      <td>none</td>\n",
       "      <td>CCM</td>\n",
       "      <td>0.027951</td>\n",
       "      <td>3.1</td>\n",
       "    </tr>\n",
       "    <tr>\n",
       "      <th>189</th>\n",
       "      <td>object</td>\n",
       "      <td>6144299519900714</td>\n",
       "      <td>53.016796</td>\n",
       "      <td>-27.459415</td>\n",
       "      <td>25.402998</td>\n",
       "      <td>specFile_6000292499903_49612.3425_r.dat</td>\n",
       "      <td>0.8490</td>\n",
       "      <td>0</td>\n",
       "      <td>0</td>\n",
       "      <td>0</td>\n",
       "      <td>0</td>\n",
       "      <td>0</td>\n",
       "      <td>point</td>\n",
       "      <td>none</td>\n",
       "      <td>CCM</td>\n",
       "      <td>0.027951</td>\n",
       "      <td>3.1</td>\n",
       "    </tr>\n",
       "    <tr>\n",
       "      <th>190</th>\n",
       "      <td>object</td>\n",
       "      <td>6144009481217066</td>\n",
       "      <td>53.013584</td>\n",
       "      <td>-27.459387</td>\n",
       "      <td>24.257055</td>\n",
       "      <td>specFile_6000009259001_49612.3425_r.dat</td>\n",
       "      <td>0.6379</td>\n",
       "      <td>0</td>\n",
       "      <td>0</td>\n",
       "      <td>0</td>\n",
       "      <td>0</td>\n",
       "      <td>0</td>\n",
       "      <td>point</td>\n",
       "      <td>none</td>\n",
       "      <td>CCM</td>\n",
       "      <td>0.027951</td>\n",
       "      <td>3.1</td>\n",
       "    </tr>\n",
       "    <tr>\n",
       "      <th>191</th>\n",
       "      <td>object</td>\n",
       "      <td>6144964070810666</td>\n",
       "      <td>53.014011</td>\n",
       "      <td>-27.461844</td>\n",
       "      <td>25.205987</td>\n",
       "      <td>specFile_6000941475401_49612.3425_r.dat</td>\n",
       "      <td>0.8595</td>\n",
       "      <td>0</td>\n",
       "      <td>0</td>\n",
       "      <td>0</td>\n",
       "      <td>0</td>\n",
       "      <td>0</td>\n",
       "      <td>point</td>\n",
       "      <td>none</td>\n",
       "      <td>CCM</td>\n",
       "      <td>0.027951</td>\n",
       "      <td>3.1</td>\n",
       "    </tr>\n",
       "    <tr>\n",
       "      <th>192</th>\n",
       "      <td>object</td>\n",
       "      <td>6145116244485162</td>\n",
       "      <td>53.022221</td>\n",
       "      <td>-27.453555</td>\n",
       "      <td>25.315483</td>\n",
       "      <td>specFile_6001090082505_49612.3425_r.dat</td>\n",
       "      <td>0.8708</td>\n",
       "      <td>0</td>\n",
       "      <td>0</td>\n",
       "      <td>0</td>\n",
       "      <td>0</td>\n",
       "      <td>0</td>\n",
       "      <td>point</td>\n",
       "      <td>none</td>\n",
       "      <td>CCM</td>\n",
       "      <td>0.027951</td>\n",
       "      <td>3.1</td>\n",
       "    </tr>\n",
       "    <tr>\n",
       "      <th>193</th>\n",
       "      <td>object</td>\n",
       "      <td>6144074475627562</td>\n",
       "      <td>53.007512</td>\n",
       "      <td>-27.408783</td>\n",
       "      <td>30.798331</td>\n",
       "      <td>specFile_6000072730105_49612.3425_r.dat</td>\n",
       "      <td>0.8377</td>\n",
       "      <td>0</td>\n",
       "      <td>0</td>\n",
       "      <td>0</td>\n",
       "      <td>0</td>\n",
       "      <td>0</td>\n",
       "      <td>point</td>\n",
       "      <td>none</td>\n",
       "      <td>CCM</td>\n",
       "      <td>0.027768</td>\n",
       "      <td>3.1</td>\n",
       "    </tr>\n",
       "    <tr>\n",
       "      <th>194</th>\n",
       "      <td>object</td>\n",
       "      <td>6144693926514730</td>\n",
       "      <td>53.029665</td>\n",
       "      <td>-27.473530</td>\n",
       "      <td>25.639727</td>\n",
       "      <td>specFile_6000677662612_49612.3425_r.dat</td>\n",
       "      <td>0.8112</td>\n",
       "      <td>0</td>\n",
       "      <td>0</td>\n",
       "      <td>0</td>\n",
       "      <td>0</td>\n",
       "      <td>0</td>\n",
       "      <td>point</td>\n",
       "      <td>none</td>\n",
       "      <td>CCM</td>\n",
       "      <td>0.027951</td>\n",
       "      <td>3.1</td>\n",
       "    </tr>\n",
       "    <tr>\n",
       "      <th>195</th>\n",
       "      <td>object</td>\n",
       "      <td>6144693926502442</td>\n",
       "      <td>53.029752</td>\n",
       "      <td>-27.473541</td>\n",
       "      <td>25.803279</td>\n",
       "      <td>specFile_6000677662600_49612.3425_r.dat</td>\n",
       "      <td>0.8112</td>\n",
       "      <td>0</td>\n",
       "      <td>0</td>\n",
       "      <td>0</td>\n",
       "      <td>0</td>\n",
       "      <td>0</td>\n",
       "      <td>point</td>\n",
       "      <td>none</td>\n",
       "      <td>CCM</td>\n",
       "      <td>0.027951</td>\n",
       "      <td>3.1</td>\n",
       "    </tr>\n",
       "    <tr>\n",
       "      <th>196</th>\n",
       "      <td>object</td>\n",
       "      <td>6144350369900586</td>\n",
       "      <td>52.992563</td>\n",
       "      <td>-27.395805</td>\n",
       "      <td>24.888778</td>\n",
       "      <td>specFile_6000342158106_49612.3425_r.dat</td>\n",
       "      <td>0.8972</td>\n",
       "      <td>0</td>\n",
       "      <td>0</td>\n",
       "      <td>0</td>\n",
       "      <td>0</td>\n",
       "      <td>0</td>\n",
       "      <td>point</td>\n",
       "      <td>none</td>\n",
       "      <td>CCM</td>\n",
       "      <td>0.028722</td>\n",
       "      <td>3.1</td>\n",
       "    </tr>\n",
       "    <tr>\n",
       "      <th>197</th>\n",
       "      <td>object</td>\n",
       "      <td>6144350369901610</td>\n",
       "      <td>52.992542</td>\n",
       "      <td>-27.395863</td>\n",
       "      <td>25.189937</td>\n",
       "      <td>specFile_6000342158107_49612.3425_r.dat</td>\n",
       "      <td>0.8972</td>\n",
       "      <td>0</td>\n",
       "      <td>0</td>\n",
       "      <td>0</td>\n",
       "      <td>0</td>\n",
       "      <td>0</td>\n",
       "      <td>point</td>\n",
       "      <td>none</td>\n",
       "      <td>CCM</td>\n",
       "      <td>0.028722</td>\n",
       "      <td>3.1</td>\n",
       "    </tr>\n",
       "    <tr>\n",
       "      <th>198</th>\n",
       "      <td>object</td>\n",
       "      <td>6144717398836266</td>\n",
       "      <td>52.995948</td>\n",
       "      <td>-27.396848</td>\n",
       "      <td>24.961146</td>\n",
       "      <td>specFile_6000700584801_49612.3425_r.dat</td>\n",
       "      <td>0.7232</td>\n",
       "      <td>0</td>\n",
       "      <td>0</td>\n",
       "      <td>0</td>\n",
       "      <td>0</td>\n",
       "      <td>0</td>\n",
       "      <td>point</td>\n",
       "      <td>none</td>\n",
       "      <td>CCM</td>\n",
       "      <td>0.028722</td>\n",
       "      <td>3.1</td>\n",
       "    </tr>\n",
       "    <tr>\n",
       "      <th>199</th>\n",
       "      <td>object</td>\n",
       "      <td>6144692863593514</td>\n",
       "      <td>52.992565</td>\n",
       "      <td>-27.403639</td>\n",
       "      <td>30.922321</td>\n",
       "      <td>specFile_6000676624603_49612.3425_r.dat</td>\n",
       "      <td>0.8203</td>\n",
       "      <td>0</td>\n",
       "      <td>0</td>\n",
       "      <td>0</td>\n",
       "      <td>0</td>\n",
       "      <td>0</td>\n",
       "      <td>point</td>\n",
       "      <td>none</td>\n",
       "      <td>CCM</td>\n",
       "      <td>0.028722</td>\n",
       "      <td>3.1</td>\n",
       "    </tr>\n",
       "    <tr>\n",
       "      <th>200</th>\n",
       "      <td>object</td>\n",
       "      <td>6144112324919338</td>\n",
       "      <td>52.991033</td>\n",
       "      <td>-27.398733</td>\n",
       "      <td>30.959523</td>\n",
       "      <td>specFile_6000109692304_49612.3425_r.dat</td>\n",
       "      <td>0.8816</td>\n",
       "      <td>0</td>\n",
       "      <td>0</td>\n",
       "      <td>0</td>\n",
       "      <td>0</td>\n",
       "      <td>0</td>\n",
       "      <td>point</td>\n",
       "      <td>none</td>\n",
       "      <td>CCM</td>\n",
       "      <td>0.028722</td>\n",
       "      <td>3.1</td>\n",
       "    </tr>\n",
       "    <tr>\n",
       "      <th>201</th>\n",
       "      <td>object</td>\n",
       "      <td>6144793492891690</td>\n",
       "      <td>53.026511</td>\n",
       "      <td>-27.475615</td>\n",
       "      <td>23.322558</td>\n",
       "      <td>specFile_6000774895402_49612.3425_r.dat</td>\n",
       "      <td>0.5019</td>\n",
       "      <td>0</td>\n",
       "      <td>0</td>\n",
       "      <td>0</td>\n",
       "      <td>0</td>\n",
       "      <td>0</td>\n",
       "      <td>point</td>\n",
       "      <td>none</td>\n",
       "      <td>CCM</td>\n",
       "      <td>0.027951</td>\n",
       "      <td>3.1</td>\n",
       "    </tr>\n",
       "    <tr>\n",
       "      <th>202</th>\n",
       "      <td>object</td>\n",
       "      <td>6144793492889642</td>\n",
       "      <td>53.026655</td>\n",
       "      <td>-27.475491</td>\n",
       "      <td>24.725895</td>\n",
       "      <td>specFile_6000774895400_49612.3425_r.dat</td>\n",
       "      <td>0.5019</td>\n",
       "      <td>0</td>\n",
       "      <td>0</td>\n",
       "      <td>0</td>\n",
       "      <td>0</td>\n",
       "      <td>0</td>\n",
       "      <td>point</td>\n",
       "      <td>none</td>\n",
       "      <td>CCM</td>\n",
       "      <td>0.027951</td>\n",
       "      <td>3.1</td>\n",
       "    </tr>\n",
       "    <tr>\n",
       "      <th>203</th>\n",
       "      <td>object</td>\n",
       "      <td>6144825553311786</td>\n",
       "      <td>53.029798</td>\n",
       "      <td>-27.466101</td>\n",
       "      <td>27.388740</td>\n",
       "      <td>specFile_6000806204406_49612.3425_r.dat</td>\n",
       "      <td>0.8532</td>\n",
       "      <td>0</td>\n",
       "      <td>0</td>\n",
       "      <td>0</td>\n",
       "      <td>0</td>\n",
       "      <td>0</td>\n",
       "      <td>point</td>\n",
       "      <td>none</td>\n",
       "      <td>CCM</td>\n",
       "      <td>0.027951</td>\n",
       "      <td>3.1</td>\n",
       "    </tr>\n",
       "    <tr>\n",
       "      <th>204</th>\n",
       "      <td>object</td>\n",
       "      <td>6144026390324266</td>\n",
       "      <td>53.028139</td>\n",
       "      <td>-27.467115</td>\n",
       "      <td>20.740541</td>\n",
       "      <td>specFile_6000025771801_49612.3425_r.dat</td>\n",
       "      <td>0.1927</td>\n",
       "      <td>0</td>\n",
       "      <td>0</td>\n",
       "      <td>0</td>\n",
       "      <td>0</td>\n",
       "      <td>0</td>\n",
       "      <td>point</td>\n",
       "      <td>none</td>\n",
       "      <td>CCM</td>\n",
       "      <td>0.027951</td>\n",
       "      <td>3.1</td>\n",
       "    </tr>\n",
       "    <tr>\n",
       "      <th>205</th>\n",
       "      <td>object</td>\n",
       "      <td>6144424422707242</td>\n",
       "      <td>53.028839</td>\n",
       "      <td>-27.470751</td>\n",
       "      <td>25.339472</td>\n",
       "      <td>specFile_6000414475300_49612.3425_r.dat</td>\n",
       "      <td>0.4742</td>\n",
       "      <td>0</td>\n",
       "      <td>0</td>\n",
       "      <td>0</td>\n",
       "      <td>0</td>\n",
       "      <td>0</td>\n",
       "      <td>point</td>\n",
       "      <td>none</td>\n",
       "      <td>CCM</td>\n",
       "      <td>0.027951</td>\n",
       "      <td>3.1</td>\n",
       "    </tr>\n",
       "    <tr>\n",
       "      <th>206</th>\n",
       "      <td>object</td>\n",
       "      <td>6144517081600042</td>\n",
       "      <td>53.022898</td>\n",
       "      <td>-27.462802</td>\n",
       "      <td>25.976111</td>\n",
       "      <td>specFile_6000504962500_49612.3425_r.dat</td>\n",
       "      <td>0.7142</td>\n",
       "      <td>0</td>\n",
       "      <td>0</td>\n",
       "      <td>0</td>\n",
       "      <td>0</td>\n",
       "      <td>0</td>\n",
       "      <td>point</td>\n",
       "      <td>none</td>\n",
       "      <td>CCM</td>\n",
       "      <td>0.027951</td>\n",
       "      <td>3.1</td>\n",
       "    </tr>\n",
       "    <tr>\n",
       "      <th>207</th>\n",
       "      <td>object</td>\n",
       "      <td>6144621792769066</td>\n",
       "      <td>53.031867</td>\n",
       "      <td>-27.461070</td>\n",
       "      <td>27.016385</td>\n",
       "      <td>specFile_6000607219501_49612.3425_r.dat</td>\n",
       "      <td>0.6253</td>\n",
       "      <td>0</td>\n",
       "      <td>0</td>\n",
       "      <td>0</td>\n",
       "      <td>0</td>\n",
       "      <td>0</td>\n",
       "      <td>point</td>\n",
       "      <td>none</td>\n",
       "      <td>CCM</td>\n",
       "      <td>0.027951</td>\n",
       "      <td>3.1</td>\n",
       "    </tr>\n",
       "    <tr>\n",
       "      <th>208</th>\n",
       "      <td>object</td>\n",
       "      <td>6144244118325290</td>\n",
       "      <td>53.025299</td>\n",
       "      <td>-27.454892</td>\n",
       "      <td>26.204653</td>\n",
       "      <td>specFile_6000238396802_49612.3425_r.dat</td>\n",
       "      <td>0.8990</td>\n",
       "      <td>0</td>\n",
       "      <td>0</td>\n",
       "      <td>0</td>\n",
       "      <td>0</td>\n",
       "      <td>0</td>\n",
       "      <td>point</td>\n",
       "      <td>none</td>\n",
       "      <td>CCM</td>\n",
       "      <td>0.027951</td>\n",
       "      <td>3.1</td>\n",
       "    </tr>\n",
       "    <tr>\n",
       "      <th>209</th>\n",
       "      <td>object</td>\n",
       "      <td>6144034496716842</td>\n",
       "      <td>52.978243</td>\n",
       "      <td>-27.410156</td>\n",
       "      <td>25.333341</td>\n",
       "      <td>specFile_6000033688200_49612.3425_r.dat</td>\n",
       "      <td>0.8270</td>\n",
       "      <td>0</td>\n",
       "      <td>0</td>\n",
       "      <td>0</td>\n",
       "      <td>0</td>\n",
       "      <td>0</td>\n",
       "      <td>point</td>\n",
       "      <td>none</td>\n",
       "      <td>CCM</td>\n",
       "      <td>0.028722</td>\n",
       "      <td>3.1</td>\n",
       "    </tr>\n",
       "    <tr>\n",
       "      <th>210</th>\n",
       "      <td>object</td>\n",
       "      <td>6144980435660842</td>\n",
       "      <td>52.977796</td>\n",
       "      <td>-27.411721</td>\n",
       "      <td>24.567608</td>\n",
       "      <td>specFile_6000957456700_49612.3425_r.dat</td>\n",
       "      <td>0.7233</td>\n",
       "      <td>0</td>\n",
       "      <td>0</td>\n",
       "      <td>0</td>\n",
       "      <td>0</td>\n",
       "      <td>0</td>\n",
       "      <td>point</td>\n",
       "      <td>none</td>\n",
       "      <td>CCM</td>\n",
       "      <td>0.028722</td>\n",
       "      <td>3.1</td>\n",
       "    </tr>\n",
       "    <tr>\n",
       "      <th>211</th>\n",
       "      <td>object</td>\n",
       "      <td>6145353974069290</td>\n",
       "      <td>52.981334</td>\n",
       "      <td>-27.416820</td>\n",
       "      <td>25.059423</td>\n",
       "      <td>specFile_6001322240302_49612.3425_r.dat</td>\n",
       "      <td>0.8402</td>\n",
       "      <td>0</td>\n",
       "      <td>0</td>\n",
       "      <td>0</td>\n",
       "      <td>0</td>\n",
       "      <td>0</td>\n",
       "      <td>point</td>\n",
       "      <td>none</td>\n",
       "      <td>CCM</td>\n",
       "      <td>0.028722</td>\n",
       "      <td>3.1</td>\n",
       "    </tr>\n",
       "    <tr>\n",
       "      <th>212</th>\n",
       "      <td>object</td>\n",
       "      <td>6145151550773290</td>\n",
       "      <td>52.976613</td>\n",
       "      <td>-27.406434</td>\n",
       "      <td>26.456528</td>\n",
       "      <td>specFile_6001124561302_49612.3425_r.dat</td>\n",
       "      <td>0.6379</td>\n",
       "      <td>0</td>\n",
       "      <td>0</td>\n",
       "      <td>0</td>\n",
       "      <td>0</td>\n",
       "      <td>0</td>\n",
       "      <td>point</td>\n",
       "      <td>none</td>\n",
       "      <td>CCM</td>\n",
       "      <td>0.028722</td>\n",
       "      <td>3.1</td>\n",
       "    </tr>\n",
       "    <tr>\n",
       "      <th>213</th>\n",
       "      <td>object</td>\n",
       "      <td>6144168447283242</td>\n",
       "      <td>52.988777</td>\n",
       "      <td>-27.407834</td>\n",
       "      <td>30.586780</td>\n",
       "      <td>specFile_6000164499300_49612.3425_r.dat</td>\n",
       "      <td>0.7640</td>\n",
       "      <td>0</td>\n",
       "      <td>0</td>\n",
       "      <td>0</td>\n",
       "      <td>0</td>\n",
       "      <td>0</td>\n",
       "      <td>point</td>\n",
       "      <td>none</td>\n",
       "      <td>CCM</td>\n",
       "      <td>0.028722</td>\n",
       "      <td>3.1</td>\n",
       "    </tr>\n",
       "    <tr>\n",
       "      <th>214</th>\n",
       "      <td>object</td>\n",
       "      <td>6144564957289514</td>\n",
       "      <td>52.980138</td>\n",
       "      <td>-27.400849</td>\n",
       "      <td>28.736481</td>\n",
       "      <td>specFile_6000551716103_49612.3425_r.dat</td>\n",
       "      <td>0.8834</td>\n",
       "      <td>0</td>\n",
       "      <td>0</td>\n",
       "      <td>0</td>\n",
       "      <td>0</td>\n",
       "      <td>0</td>\n",
       "      <td>point</td>\n",
       "      <td>none</td>\n",
       "      <td>CCM</td>\n",
       "      <td>0.028722</td>\n",
       "      <td>3.1</td>\n",
       "    </tr>\n",
       "    <tr>\n",
       "      <th>215</th>\n",
       "      <td>object</td>\n",
       "      <td>6144564957294634</td>\n",
       "      <td>52.980116</td>\n",
       "      <td>-27.400851</td>\n",
       "      <td>26.288316</td>\n",
       "      <td>specFile_6000551716108_49612.3425_r.dat</td>\n",
       "      <td>0.8834</td>\n",
       "      <td>0</td>\n",
       "      <td>0</td>\n",
       "      <td>0</td>\n",
       "      <td>0</td>\n",
       "      <td>0</td>\n",
       "      <td>point</td>\n",
       "      <td>none</td>\n",
       "      <td>CCM</td>\n",
       "      <td>0.028722</td>\n",
       "      <td>3.1</td>\n",
       "    </tr>\n",
       "    <tr>\n",
       "      <th>216</th>\n",
       "      <td>object</td>\n",
       "      <td>6144814548481066</td>\n",
       "      <td>52.985189</td>\n",
       "      <td>-27.401895</td>\n",
       "      <td>24.820712</td>\n",
       "      <td>specFile_6000795457501_49612.3425_r.dat</td>\n",
       "      <td>0.8171</td>\n",
       "      <td>0</td>\n",
       "      <td>0</td>\n",
       "      <td>0</td>\n",
       "      <td>0</td>\n",
       "      <td>0</td>\n",
       "      <td>point</td>\n",
       "      <td>none</td>\n",
       "      <td>CCM</td>\n",
       "      <td>0.028722</td>\n",
       "      <td>3.1</td>\n",
       "    </tr>\n",
       "    <tr>\n",
       "      <th>217</th>\n",
       "      <td>object</td>\n",
       "      <td>6145074163508266</td>\n",
       "      <td>52.981277</td>\n",
       "      <td>-27.399813</td>\n",
       "      <td>20.869661</td>\n",
       "      <td>specFile_6001048987801_49612.3425_r.dat</td>\n",
       "      <td>0.2242</td>\n",
       "      <td>0</td>\n",
       "      <td>0</td>\n",
       "      <td>0</td>\n",
       "      <td>0</td>\n",
       "      <td>0</td>\n",
       "      <td>point</td>\n",
       "      <td>none</td>\n",
       "      <td>CCM</td>\n",
       "      <td>0.028722</td>\n",
       "      <td>3.1</td>\n",
       "    </tr>\n",
       "  </tbody>\n",
       "</table>\n",
       "<p>218 rows × 17 columns</p>\n",
       "</div>"
      ],
      "text/plain": [
       "     prefix          uniqueId   raPhoSim  decPhoSim  phoSimMagNorm  \\\n",
       "0    object  6144281204838442  52.990262 -27.479559      26.338901   \n",
       "1    object  6144093910125610  52.988212 -27.475613      26.176568   \n",
       "2    object  6144995563212842  52.995988 -27.470234      23.517131   \n",
       "3    object  6144171067700266  52.993951 -27.473566      26.211233   \n",
       "4    object  6145532174336042  53.033894 -27.418111      26.265099   \n",
       "5    object  6144051719065642  53.034351 -27.419727      25.779852   \n",
       "6    object  6145409577784362  53.029889 -27.416153      25.294331   \n",
       "7    object  6145409577780266  53.029945 -27.416159      26.211087   \n",
       "8    object  6145653399244842  53.052856 -27.416090      25.045150   \n",
       "9    object  6144039378640938  52.984698 -27.481321      25.955010   \n",
       "10   object  6144137763642410  52.992959 -27.482522      25.819101   \n",
       "11   object  6144137763638314  52.992935 -27.482498      25.356018   \n",
       "12   object  6144170848369706  52.996514 -27.486621      25.738363   \n",
       "13   object  6144207051575338  53.002796 -27.482799      25.746284   \n",
       "14   object  6144854912923690  52.977075 -27.479982      26.318258   \n",
       "15   object  6144199672832042  52.980094 -27.478136      24.372786   \n",
       "16   object  6145106855738410  53.006058 -27.485174      26.854636   \n",
       "17   object  6144167695462442  53.022424 -27.481962      25.162876   \n",
       "18   object  6144575573916714  53.024855 -27.484352      23.076169   \n",
       "19   object  6145589381125162  53.024592 -27.486098      24.243119   \n",
       "20   object  6144143504182314  53.004614 -27.452829      24.623607   \n",
       "21   object  6144758271180842  53.044614 -27.418473    1000.000000   \n",
       "22   object  6145306051687466  53.015062 -27.486415      24.517340   \n",
       "23   object  6144373331662890  53.020064 -27.487032      25.073640   \n",
       "24   object  6145108666677290  53.018492 -27.483225      26.397863   \n",
       "25   object  6144005552846890  52.972317 -27.462753      33.165776   \n",
       "26   object  6144093718835242  53.008673 -27.488574      26.685186   \n",
       "27   object  6145223425845290  53.010152 -27.486659      26.610870   \n",
       "28   object  6144692996407338  52.997455 -27.455974      25.879358   \n",
       "29   object  6144420395114538  52.998971 -27.456715      24.822416   \n",
       "..      ...               ...        ...        ...            ...   \n",
       "188  object  6144371625371690  53.011842 -27.457486      27.863383   \n",
       "189  object  6144299519900714  53.016796 -27.459415      25.402998   \n",
       "190  object  6144009481217066  53.013584 -27.459387      24.257055   \n",
       "191  object  6144964070810666  53.014011 -27.461844      25.205987   \n",
       "192  object  6145116244485162  53.022221 -27.453555      25.315483   \n",
       "193  object  6144074475627562  53.007512 -27.408783      30.798331   \n",
       "194  object  6144693926514730  53.029665 -27.473530      25.639727   \n",
       "195  object  6144693926502442  53.029752 -27.473541      25.803279   \n",
       "196  object  6144350369900586  52.992563 -27.395805      24.888778   \n",
       "197  object  6144350369901610  52.992542 -27.395863      25.189937   \n",
       "198  object  6144717398836266  52.995948 -27.396848      24.961146   \n",
       "199  object  6144692863593514  52.992565 -27.403639      30.922321   \n",
       "200  object  6144112324919338  52.991033 -27.398733      30.959523   \n",
       "201  object  6144793492891690  53.026511 -27.475615      23.322558   \n",
       "202  object  6144793492889642  53.026655 -27.475491      24.725895   \n",
       "203  object  6144825553311786  53.029798 -27.466101      27.388740   \n",
       "204  object  6144026390324266  53.028139 -27.467115      20.740541   \n",
       "205  object  6144424422707242  53.028839 -27.470751      25.339472   \n",
       "206  object  6144517081600042  53.022898 -27.462802      25.976111   \n",
       "207  object  6144621792769066  53.031867 -27.461070      27.016385   \n",
       "208  object  6144244118325290  53.025299 -27.454892      26.204653   \n",
       "209  object  6144034496716842  52.978243 -27.410156      25.333341   \n",
       "210  object  6144980435660842  52.977796 -27.411721      24.567608   \n",
       "211  object  6145353974069290  52.981334 -27.416820      25.059423   \n",
       "212  object  6145151550773290  52.976613 -27.406434      26.456528   \n",
       "213  object  6144168447283242  52.988777 -27.407834      30.586780   \n",
       "214  object  6144564957289514  52.980138 -27.400849      28.736481   \n",
       "215  object  6144564957294634  52.980116 -27.400851      26.288316   \n",
       "216  object  6144814548481066  52.985189 -27.401895      24.820712   \n",
       "217  object  6145074163508266  52.981277 -27.399813      20.869661   \n",
       "\n",
       "                                 sedFilepath  redshift  shear1  shear2  kappa  \\\n",
       "0    specFile_6000274614100_49612.3425_r.dat    0.8928       0       0      0   \n",
       "1    specFile_6000091709107_49612.3425_r.dat    0.8797       0       0      0   \n",
       "2    specFile_6000972229700_49612.3425_r.dat    0.6213       0       0      0   \n",
       "3    specFile_6000167058301_49612.3425_r.dat    0.8490       0       0      0   \n",
       "4    specFile_6001496264000_49612.3425_r.dat    0.8932       0       0      0   \n",
       "5    specFile_6000050506900_49612.3425_r.dat    0.6092       0       0      0   \n",
       "6    specFile_6001376540805_49612.3425_r.dat    0.8730       0       0      0   \n",
       "7    specFile_6001376540801_49612.3425_r.dat    0.8730       0       0      0   \n",
       "8    specFile_6001614647700_49612.3425_r.dat    0.4061       0       0      0   \n",
       "9    specFile_6000038455704_49612.3425_r.dat    0.6390       0       0      0   \n",
       "10   specFile_6000134534807_49612.3425_r.dat    0.8308       0       0      0   \n",
       "11   specFile_6000134534803_49612.3425_r.dat    0.8308       0       0      0   \n",
       "12   specFile_6000166844111_49612.3425_r.dat    0.8669       0       0      0   \n",
       "13   specFile_6000202198804_49612.3425_r.dat    0.8573       0       0      0   \n",
       "14   specFile_6000834875902_49612.3425_r.dat    0.6202       0       0      0   \n",
       "15   specFile_6000194993000_49612.3425_r.dat    0.6049       0       0      0   \n",
       "16   specFile_6001080913807_49612.3425_r.dat    0.7744       0       0      0   \n",
       "17   specFile_6000163765100_49612.3425_r.dat    0.8242       0       0      0   \n",
       "18   specFile_6000562083903_49612.3425_r.dat    0.4800       0       0      0   \n",
       "19   specFile_6001552130005_49612.3425_r.dat    0.8889       0       0      0   \n",
       "20   specFile_6000140140803_49612.3425_r.dat    0.7253       0       0      0   \n",
       "21   specFile_6000740499200_49612.3425_r.dat    0.3587       0       0      0   \n",
       "22   specFile_6001275441101_49612.3425_r.dat    0.6520       0       0      0   \n",
       "23   specFile_6000364581702_49612.3425_r.dat    0.6519       0       0      0   \n",
       "24   specFile_6001082682302_49612.3425_r.dat    0.7639       0       0      0   \n",
       "25   specFile_6000005422702_49612.3425_r.dat    0.6138       0       0      0   \n",
       "26   specFile_6000091522300_49612.3425_r.dat    0.8480       0       0      0   \n",
       "27   specFile_6001194751802_49612.3425_r.dat    0.8003       0       0      0   \n",
       "28   specFile_6000676754304_49612.3425_r.dat    0.8034       0       0      0   \n",
       "29   specFile_6000410542104_49612.3425_r.dat    0.7709       0       0      0   \n",
       "..                                       ...       ...     ...     ...    ...   \n",
       "188  specFile_6000362915402_49612.3425_r.dat    0.6087       0       0      0   \n",
       "189  specFile_6000292499903_49612.3425_r.dat    0.8490       0       0      0   \n",
       "190  specFile_6000009259001_49612.3425_r.dat    0.6379       0       0      0   \n",
       "191  specFile_6000941475401_49612.3425_r.dat    0.8595       0       0      0   \n",
       "192  specFile_6001090082505_49612.3425_r.dat    0.8708       0       0      0   \n",
       "193  specFile_6000072730105_49612.3425_r.dat    0.8377       0       0      0   \n",
       "194  specFile_6000677662612_49612.3425_r.dat    0.8112       0       0      0   \n",
       "195  specFile_6000677662600_49612.3425_r.dat    0.8112       0       0      0   \n",
       "196  specFile_6000342158106_49612.3425_r.dat    0.8972       0       0      0   \n",
       "197  specFile_6000342158107_49612.3425_r.dat    0.8972       0       0      0   \n",
       "198  specFile_6000700584801_49612.3425_r.dat    0.7232       0       0      0   \n",
       "199  specFile_6000676624603_49612.3425_r.dat    0.8203       0       0      0   \n",
       "200  specFile_6000109692304_49612.3425_r.dat    0.8816       0       0      0   \n",
       "201  specFile_6000774895402_49612.3425_r.dat    0.5019       0       0      0   \n",
       "202  specFile_6000774895400_49612.3425_r.dat    0.5019       0       0      0   \n",
       "203  specFile_6000806204406_49612.3425_r.dat    0.8532       0       0      0   \n",
       "204  specFile_6000025771801_49612.3425_r.dat    0.1927       0       0      0   \n",
       "205  specFile_6000414475300_49612.3425_r.dat    0.4742       0       0      0   \n",
       "206  specFile_6000504962500_49612.3425_r.dat    0.7142       0       0      0   \n",
       "207  specFile_6000607219501_49612.3425_r.dat    0.6253       0       0      0   \n",
       "208  specFile_6000238396802_49612.3425_r.dat    0.8990       0       0      0   \n",
       "209  specFile_6000033688200_49612.3425_r.dat    0.8270       0       0      0   \n",
       "210  specFile_6000957456700_49612.3425_r.dat    0.7233       0       0      0   \n",
       "211  specFile_6001322240302_49612.3425_r.dat    0.8402       0       0      0   \n",
       "212  specFile_6001124561302_49612.3425_r.dat    0.6379       0       0      0   \n",
       "213  specFile_6000164499300_49612.3425_r.dat    0.7640       0       0      0   \n",
       "214  specFile_6000551716103_49612.3425_r.dat    0.8834       0       0      0   \n",
       "215  specFile_6000551716108_49612.3425_r.dat    0.8834       0       0      0   \n",
       "216  specFile_6000795457501_49612.3425_r.dat    0.8171       0       0      0   \n",
       "217  specFile_6001048987801_49612.3425_r.dat    0.2242       0       0      0   \n",
       "\n",
       "     raOffset  decOffset spatialmodel internalExtinctionModel  \\\n",
       "0           0          0        point                    none   \n",
       "1           0          0        point                    none   \n",
       "2           0          0        point                    none   \n",
       "3           0          0        point                    none   \n",
       "4           0          0        point                    none   \n",
       "5           0          0        point                    none   \n",
       "6           0          0        point                    none   \n",
       "7           0          0        point                    none   \n",
       "8           0          0        point                    none   \n",
       "9           0          0        point                    none   \n",
       "10          0          0        point                    none   \n",
       "11          0          0        point                    none   \n",
       "12          0          0        point                    none   \n",
       "13          0          0        point                    none   \n",
       "14          0          0        point                    none   \n",
       "15          0          0        point                    none   \n",
       "16          0          0        point                    none   \n",
       "17          0          0        point                    none   \n",
       "18          0          0        point                    none   \n",
       "19          0          0        point                    none   \n",
       "20          0          0        point                    none   \n",
       "21          0          0        point                    none   \n",
       "22          0          0        point                    none   \n",
       "23          0          0        point                    none   \n",
       "24          0          0        point                    none   \n",
       "25          0          0        point                    none   \n",
       "26          0          0        point                    none   \n",
       "27          0          0        point                    none   \n",
       "28          0          0        point                    none   \n",
       "29          0          0        point                    none   \n",
       "..        ...        ...          ...                     ...   \n",
       "188         0          0        point                    none   \n",
       "189         0          0        point                    none   \n",
       "190         0          0        point                    none   \n",
       "191         0          0        point                    none   \n",
       "192         0          0        point                    none   \n",
       "193         0          0        point                    none   \n",
       "194         0          0        point                    none   \n",
       "195         0          0        point                    none   \n",
       "196         0          0        point                    none   \n",
       "197         0          0        point                    none   \n",
       "198         0          0        point                    none   \n",
       "199         0          0        point                    none   \n",
       "200         0          0        point                    none   \n",
       "201         0          0        point                    none   \n",
       "202         0          0        point                    none   \n",
       "203         0          0        point                    none   \n",
       "204         0          0        point                    none   \n",
       "205         0          0        point                    none   \n",
       "206         0          0        point                    none   \n",
       "207         0          0        point                    none   \n",
       "208         0          0        point                    none   \n",
       "209         0          0        point                    none   \n",
       "210         0          0        point                    none   \n",
       "211         0          0        point                    none   \n",
       "212         0          0        point                    none   \n",
       "213         0          0        point                    none   \n",
       "214         0          0        point                    none   \n",
       "215         0          0        point                    none   \n",
       "216         0          0        point                    none   \n",
       "217         0          0        point                    none   \n",
       "\n",
       "    galacticExtinctionModel  galacticAv  galacticRv  \n",
       "0                       CCM    0.026821         3.1  \n",
       "1                       CCM    0.028120         3.1  \n",
       "2                       CCM    0.028120         3.1  \n",
       "3                       CCM    0.027951         3.1  \n",
       "4                       CCM    0.027768         3.1  \n",
       "5                       CCM    0.027768         3.1  \n",
       "6                       CCM    0.027768         3.1  \n",
       "7                       CCM    0.027768         3.1  \n",
       "8                       CCM    0.024738         3.1  \n",
       "9                       CCM    0.028163         3.1  \n",
       "10                      CCM    0.026821         3.1  \n",
       "11                      CCM    0.026821         3.1  \n",
       "12                      CCM    0.026821         3.1  \n",
       "13                      CCM    0.027951         3.1  \n",
       "14                      CCM    0.028163         3.1  \n",
       "15                      CCM    0.028163         3.1  \n",
       "16                      CCM    0.027951         3.1  \n",
       "17                      CCM    0.027951         3.1  \n",
       "18                      CCM    0.027951         3.1  \n",
       "19                      CCM    0.027951         3.1  \n",
       "20                      CCM    0.028120         3.1  \n",
       "21                      CCM    0.027768         3.1  \n",
       "22                      CCM    0.027951         3.1  \n",
       "23                      CCM    0.027951         3.1  \n",
       "24                      CCM    0.027951         3.1  \n",
       "25                      CCM    0.028120         3.1  \n",
       "26                      CCM    0.027951         3.1  \n",
       "27                      CCM    0.027951         3.1  \n",
       "28                      CCM    0.028120         3.1  \n",
       "29                      CCM    0.028120         3.1  \n",
       "..                      ...         ...         ...  \n",
       "188                     CCM    0.027951         3.1  \n",
       "189                     CCM    0.027951         3.1  \n",
       "190                     CCM    0.027951         3.1  \n",
       "191                     CCM    0.027951         3.1  \n",
       "192                     CCM    0.027951         3.1  \n",
       "193                     CCM    0.027768         3.1  \n",
       "194                     CCM    0.027951         3.1  \n",
       "195                     CCM    0.027951         3.1  \n",
       "196                     CCM    0.028722         3.1  \n",
       "197                     CCM    0.028722         3.1  \n",
       "198                     CCM    0.028722         3.1  \n",
       "199                     CCM    0.028722         3.1  \n",
       "200                     CCM    0.028722         3.1  \n",
       "201                     CCM    0.027951         3.1  \n",
       "202                     CCM    0.027951         3.1  \n",
       "203                     CCM    0.027951         3.1  \n",
       "204                     CCM    0.027951         3.1  \n",
       "205                     CCM    0.027951         3.1  \n",
       "206                     CCM    0.027951         3.1  \n",
       "207                     CCM    0.027951         3.1  \n",
       "208                     CCM    0.027951         3.1  \n",
       "209                     CCM    0.028722         3.1  \n",
       "210                     CCM    0.028722         3.1  \n",
       "211                     CCM    0.028722         3.1  \n",
       "212                     CCM    0.028722         3.1  \n",
       "213                     CCM    0.028722         3.1  \n",
       "214                     CCM    0.028722         3.1  \n",
       "215                     CCM    0.028722         3.1  \n",
       "216                     CCM    0.028722         3.1  \n",
       "217                     CCM    0.028722         3.1  \n",
       "\n",
       "[218 rows x 17 columns]"
      ]
     },
     "execution_count": 70,
     "metadata": {},
     "output_type": "execute_result"
    }
   ],
   "source": [
    "df"
   ]
  },
  {
   "cell_type": "code",
   "execution_count": null,
   "metadata": {
    "collapsed": false
   },
   "outputs": [],
   "source": [
    "sncatdf = pd.read_csv('newcat.dat', sep=',\\s+')\n",
    "sncatdf.rename(columns={'#snid':'snid'}, inplace=True)\n",
    "sncatdf['snid'] = sncatdf.snid.astype(int)\n",
    "sncatdf.set_index('snid', inplace=True)\n",
    "sncatdf['DeltaT'] = sncatalog.mjdobs - sncatdf['t0']\n",
    "sncatdf['SNR'] = sncatdf.flux / sncatdf.flux_err\n",
    "sncatdf.head()"
   ]
  },
  {
   "cell_type": "code",
   "execution_count": null,
   "metadata": {
    "collapsed": false
   },
   "outputs": [],
   "source": [
    "sncatdf.query('z < 0.1535 and z> 0.152')"
   ]
  },
  {
   "cell_type": "code",
   "execution_count": null,
   "metadata": {
    "collapsed": false
   },
   "outputs": [],
   "source": [
    "np.left_shift(6000039790801, 10) + 42"
   ]
  },
  {
   "cell_type": "code",
   "execution_count": null,
   "metadata": {
    "collapsed": false
   },
   "outputs": [],
   "source": [
    "pc2 = PhoSimCatalogSN(db_obj=s, obs_metadata=TwinklesObsMetaDataSmall2, column_outputs=['EBV'])\n",
    "pc2.writeSedFile = True\n",
    "pc2.surveyStartDate = 49500\n",
    "pc2.suppressDimSN = True"
   ]
  },
  {
   "cell_type": "code",
   "execution_count": null,
   "metadata": {
    "collapsed": false
   },
   "outputs": [],
   "source": [
    "pc2.surveyStartDate"
   ]
  },
  {
   "cell_type": "code",
   "execution_count": null,
   "metadata": {
    "collapsed": false
   },
   "outputs": [],
   "source": [
    "pc2.write_catalog('SNPhoSimCatalog2.dat')"
   ]
  },
  {
   "cell_type": "code",
   "execution_count": null,
   "metadata": {
    "collapsed": false
   },
   "outputs": [],
   "source": [
    "pc3 = PhoSimCatalogSN(db_obj=s, obs_metadata=TwinklesObsMetaDataSmall3, column_outputs=['EBV'])\n",
    "pc3.writeSedFile = True\n",
    "pc3.surveyStartDate = 49500\n",
    "pc3.suppressDimSN = True"
   ]
  },
  {
   "cell_type": "code",
   "execution_count": null,
   "metadata": {
    "collapsed": false
   },
   "outputs": [],
   "source": [
    "pc3.write_catalog('SNPhoSimCatalog3.dat')"
   ]
  },
  {
   "cell_type": "code",
   "execution_count": null,
   "metadata": {
    "collapsed": false
   },
   "outputs": [],
   "source": [
    "sncatdf.TmagNorm.min()"
   ]
  },
  {
   "cell_type": "code",
   "execution_count": null,
   "metadata": {
    "collapsed": false
   },
   "outputs": [],
   "source": [
    "sncatdf.adu.min()"
   ]
  },
  {
   "cell_type": "code",
   "execution_count": null,
   "metadata": {
    "collapsed": false
   },
   "outputs": [],
   "source": [
    "sncatdf.flux.min()"
   ]
  },
  {
   "cell_type": "code",
   "execution_count": null,
   "metadata": {
    "collapsed": false
   },
   "outputs": [],
   "source": [
    "sncatdf.flux_err.min()"
   ]
  },
  {
   "cell_type": "code",
   "execution_count": null,
   "metadata": {
    "collapsed": false
   },
   "outputs": [],
   "source": [
    "fig, ax = plt.subplots()\n",
    "sncatdf.SNR.hist(bins=np.arange(-0.5, 50., 1.), histtype='step', lw=2., alpha=1., ax=ax)\n",
    "ax.set_xlabel('SNR')"
   ]
  },
  {
   "cell_type": "code",
   "execution_count": null,
   "metadata": {
    "collapsed": false
   },
   "outputs": [],
   "source": [
    "fig, ax = plt.subplots()\n",
    "sncatdf.adu.apply(lambda x: x* 2.3).hist(bins=np.arange(-0.5, 5., 0.05), histtype='step', lw=2., alpha=1., ax=ax, norm)\n",
    "ax.set_xlabel('Photons')"
   ]
  },
  {
   "cell_type": "code",
   "execution_count": null,
   "metadata": {
    "collapsed": false
   },
   "outputs": [],
   "source": [
    "fig, ax = plt.subplots(nrows=1, ncols=2);\n",
    "_ = ax[0].hist(sncatdf.query('SNR > 5.').z, bins=np.arange(0., 1.2, 0.1), histtype='step', lw=2, color='k', normed=True,\n",
    "               label='highSNR')\n",
    "_ = ax[0].hist(sncatdf.query('SNR < 5. and SNR > 0.').z, bins=np.arange(0., 1.2, 0.1), histtype='step', lw=2, color='r', \n",
    "             normed=True, label='lowSNR')\n",
    "_ = ax[0].hist(sncatdf.query('SNR > 0.').z, bins=np.arange(0., 1.2, 0.1), histtype='step', lw=2, color='b', \n",
    "             normed=True, label='Active')\n",
    "ax[0].grid(True)\n",
    "_ = ax[1].hist(sncatdf.query('SNR > 5.').z, bins=np.arange(0., 1.2, 0.1), histtype='step', lw=2, color='k', normed=False, \n",
    "               cumulative=-1)\n",
    "_ = ax[1].hist(sncatdf.query('SNR < 5. and SNR > 0.').z, bins=np.arange(0., 1.2, 0.1), histtype='step', lw=2, color='r', \n",
    "               normed=False, cumulative=-1)\n",
    "_ = ax[1].grid(True)\n",
    "_ = ax[0].legend(loc='upper left')\n",
    "_ = ax[0].set_ylabel('PDF')\n",
    "_ = ax[1].set_ylabel('Num SN at z > ')\n",
    "_ = fig.suptitle('Redshift Distribution of SN')"
   ]
  },
  {
   "cell_type": "markdown",
   "metadata": {},
   "source": [
    "##  PhoSim Catalog For galaxy Disks"
   ]
  },
  {
   "cell_type": "code",
   "execution_count": null,
   "metadata": {
    "collapsed": false
   },
   "outputs": [],
   "source": [
    "from lsst.sims.catUtils.exampleCatalogDefinitions.phoSimCatalogExamples import PhoSimCatalogSN, PhoSimCatalogSersic2D"
   ]
  },
  {
   "cell_type": "code",
   "execution_count": null,
   "metadata": {
    "collapsed": true
   },
   "outputs": [],
   "source": [
    "from lsst.sims.catUtils.baseCatalogModels import GalaxyDiskObj"
   ]
  },
  {
   "cell_type": "code",
   "execution_count": null,
   "metadata": {
    "collapsed": false
   },
   "outputs": [],
   "source": [
    "gDisk = GalaxyDiskObj()"
   ]
  },
  {
   "cell_type": "code",
   "execution_count": null,
   "metadata": {
    "collapsed": false
   },
   "outputs": [],
   "source": [
    "gDisk.objectTypeId"
   ]
  },
  {
   "cell_type": "code",
   "execution_count": null,
   "metadata": {
    "collapsed": false
   },
   "outputs": [],
   "source": [
    "class GdiscCatalogClass(InstanceCatalog):\n",
    "    \n",
    "    column_outputs = ['raJ2000', 'decJ2000', 'galtileid', 'id', 'redshift']\n",
    "    override_formats = {'raJ2000': '%8e', 'decJ2000': '%8e', 'x0':'%8e'}"
   ]
  },
  {
   "cell_type": "code",
   "execution_count": null,
   "metadata": {
    "collapsed": false
   },
   "outputs": [],
   "source": [
    "\n",
    "gd = GdiscCatalogClass(db_obj=gDisk, obs_metadata=TwinklesObsMetaDataSmall)\n",
    "gd.write_catalog('GalaxyDisks.dat')"
   ]
  },
  {
   "cell_type": "code",
   "execution_count": null,
   "metadata": {
    "collapsed": false
   },
   "outputs": [],
   "source": [
    "phosimGals = PhoSimCatalogSersic2D(db_obj=gDisk, obs_metadata=TwinklesObsMetaDataSmall)"
   ]
  },
  {
   "cell_type": "code",
   "execution_count": null,
   "metadata": {
    "collapsed": true
   },
   "outputs": [],
   "source": [
    "phosimGals2 = PhoSimCatalogSersic2D(db_obj=gDisk, obs_metadata=TwinklesObsMetaDataSmall2)"
   ]
  },
  {
   "cell_type": "code",
   "execution_count": null,
   "metadata": {
    "collapsed": true
   },
   "outputs": [],
   "source": [
    "phosimGals3 = PhoSimCatalogSersic2D(db_obj=gDisk, obs_metadata=TwinklesObsMetaDataSmall3)"
   ]
  },
  {
   "cell_type": "code",
   "execution_count": null,
   "metadata": {
    "collapsed": false
   },
   "outputs": [],
   "source": [
    "phosimGals2.write_catalog('SNPhoSimCatalog2.dat', write_header=False, write_mode='a')"
   ]
  },
  {
   "cell_type": "code",
   "execution_count": null,
   "metadata": {
    "collapsed": false
   },
   "outputs": [],
   "source": [
    "phosimGals3.write_catalog('SNPhoSimCatalog3.dat', write_header=False, write_mode='a')"
   ]
  },
  {
   "cell_type": "code",
   "execution_count": null,
   "metadata": {
    "collapsed": true
   },
   "outputs": [],
   "source": [
    "phosimGals.write_catalog('GalDiskPhoSimCatalog.dat')\n",
    "phosimGals.write_catalog('SNPhoSimCatalog.dat', write_header=False, write_mode='a')"
   ]
  },
  {
   "cell_type": "markdown",
   "metadata": {},
   "source": [
    "## Keeping only hosts"
   ]
  },
  {
   "cell_type": "code",
   "execution_count": null,
   "metadata": {
    "collapsed": false
   },
   "outputs": [],
   "source": [
    "galD = pd.read_csv('GalaxyDisks.dat', sep=',\\s+');\n",
    "galD.rename(columns={'#raJ2000': 'raJ2000'}, inplace=True)\n",
    "galD.head()"
   ]
  },
  {
   "cell_type": "code",
   "execution_count": null,
   "metadata": {
    "collapsed": false
   },
   "outputs": [],
   "source": [
    "gg = galD.galtileid.copy(deep=True)\n",
    "gg.sort(inplace=True)\n",
    "sng = df.galtileid.copy(deep=True)\n",
    "sng.sort(inplace=True)"
   ]
  },
  {
   "cell_type": "code",
   "execution_count": null,
   "metadata": {
    "collapsed": false
   },
   "outputs": [],
   "source": [
    "sgg = set(gg.values); print (len(sgg))"
   ]
  },
  {
   "cell_type": "code",
   "execution_count": null,
   "metadata": {
    "collapsed": false
   },
   "outputs": [],
   "source": [
    "sngg = set(sng.values); print(len(sngg))"
   ]
  },
  {
   "cell_type": "code",
   "execution_count": null,
   "metadata": {
    "collapsed": false
   },
   "outputs": [],
   "source": [
    "galdiskids = np.left_shift(np.array(list(sgg.intersection(set(sng.values)))), 10) + 27"
   ]
  },
  {
   "cell_type": "code",
   "execution_count": null,
   "metadata": {
    "collapsed": false
   },
   "outputs": [],
   "source": [
    "len(sng.values)"
   ]
  },
  {
   "cell_type": "code",
   "execution_count": null,
   "metadata": {
    "collapsed": false
   },
   "outputs": [],
   "source": [
    "gals = pd.read_csv('SNGalDiskCatalog.dat', sep='\\s*', skiprows=410).values"
   ]
  },
  {
   "cell_type": "code",
   "execution_count": null,
   "metadata": {
    "collapsed": false
   },
   "outputs": [],
   "source": [
    "gdiskids = np.left_shift(df.galtileid, 10).values + 27"
   ]
  },
  {
   "cell_type": "code",
   "execution_count": null,
   "metadata": {
    "collapsed": false
   },
   "outputs": [],
   "source": [
    "gdiskids"
   ]
  },
  {
   "cell_type": "code",
   "execution_count": null,
   "metadata": {
    "collapsed": false
   },
   "outputs": [],
   "source": [
    "with open('SNGalDiskCatalog.dat') as f:\n",
    "    contents = f.read()\n",
    "\n",
    "lines = contents.split('\\n')\n",
    "lines.pop()\n",
    "# print len(contents)\n",
    "with open('SNHostFile.dat', 'w') as f:\n",
    "    for i, line in enumerate(lines):\n",
    "        if i < 410:\n",
    "            # print line\n",
    "            f.write(line+'\\n')\n",
    "        else:\n",
    "            objint = int(line.split()[1])\n",
    "            # print i, int(line.split()[1])\n",
    "            if objint in galdiskids:\n",
    "                f.write(line+'\\n')"
   ]
  },
  {
   "cell_type": "code",
   "execution_count": null,
   "metadata": {
    "collapsed": true
   },
   "outputs": [],
   "source": [
    "with open('SNGalDiskCatalog.dat') as f:\n",
    "    contents = f.read()"
   ]
  },
  {
   "cell_type": "code",
   "execution_count": null,
   "metadata": {
    "collapsed": false
   },
   "outputs": [],
   "source": [
    "contents.split('\\n').pop()"
   ]
  },
  {
   "cell_type": "code",
   "execution_count": null,
   "metadata": {
    "collapsed": false
   },
   "outputs": [],
   "source": [
    "contents.split('\\n').pop()"
   ]
  },
  {
   "cell_type": "code",
   "execution_count": null,
   "metadata": {
    "collapsed": false
   },
   "outputs": [],
   "source": [
    "gals[:, 1].astype(np.int).sort()"
   ]
  },
  {
   "cell_type": "code",
   "execution_count": null,
   "metadata": {
    "collapsed": false
   },
   "outputs": [],
   "source": [
    "61449608101915 in gals[:, 1]"
   ]
  },
  {
   "cell_type": "code",
   "execution_count": null,
   "metadata": {
    "collapsed": false
   },
   "outputs": [],
   "source": [
    "galdiskids"
   ]
  },
  {
   "cell_type": "code",
   "execution_count": null,
   "metadata": {
    "collapsed": false
   },
   "outputs": [],
   "source": [
    "np.left_shift(np.array(list(sgg.intersection(set(sng.values)))), 10) + 27"
   ]
  },
  {
   "cell_type": "code",
   "execution_count": null,
   "metadata": {
    "collapsed": true
   },
   "outputs": [],
   "source": [
    "SNgaltileIds = df.galtileid"
   ]
  },
  {
   "cell_type": "code",
   "execution_count": null,
   "metadata": {
    "collapsed": false
   },
   "outputs": [],
   "source": [
    "np.left_shift(SNgaltileIds, 10) + gdiskobjid"
   ]
  },
  {
   "cell_type": "code",
   "execution_count": null,
   "metadata": {
    "collapsed": false
   },
   "outputs": [],
   "source": [
    "len(phosimGals.column_outputs)"
   ]
  },
  {
   "cell_type": "code",
   "execution_count": null,
   "metadata": {
    "collapsed": false
   },
   "outputs": [],
   "source": [
    "len(pc.column_outputs)"
   ]
  },
  {
   "cell_type": "code",
   "execution_count": null,
   "metadata": {
    "collapsed": false,
    "scrolled": true
   },
   "outputs": [],
   "source": [
    "pc = PhoSimCatalogSN(db_obj=s, obs_metadata=TwinklesObsMetaDataSmall, column_outputs=['EBV'])\n",
    "pc.writeSedFile = True\n",
    "pc.surveyStartDate = 49500\n",
    "pc.suppressDimSN = True"
   ]
  },
  {
   "cell_type": "code",
   "execution_count": null,
   "metadata": {
    "collapsed": true
   },
   "outputs": [],
   "source": [
    "from copy import deepcopy"
   ]
  },
  {
   "cell_type": "code",
   "execution_count": null,
   "metadata": {
    "collapsed": false
   },
   "outputs": [],
   "source": [
    "len(pc.column_outputs)"
   ]
  },
  {
   "cell_type": "code",
   "execution_count": null,
   "metadata": {
    "collapsed": false
   },
   "outputs": [],
   "source": [
    "for col in phosimGals.column_outputs:\n",
    "    if not col in pc.column_outputs:\n",
    "        print col"
   ]
  },
  {
   "cell_type": "code",
   "execution_count": null,
   "metadata": {
    "collapsed": false
   },
   "outputs": [],
   "source": [
    "pc.write_catalog('SNPhoSimCatalog.dat')"
   ]
  },
  {
   "cell_type": "code",
   "execution_count": null,
   "metadata": {
    "collapsed": false
   },
   "outputs": [],
   "source": [
    "np.array([3.2, 1.2]) *1.2"
   ]
  },
  {
   "cell_type": "code",
   "execution_count": null,
   "metadata": {
    "collapsed": false
   },
   "outputs": [],
   "source": [
    "0.1/11.113"
   ]
  },
  {
   "cell_type": "code",
   "execution_count": null,
   "metadata": {
    "collapsed": false
   },
   "outputs": [],
   "source": [
    "!wc -l SNPhoSimCatalog.dat"
   ]
  },
  {
   "cell_type": "code",
   "execution_count": null,
   "metadata": {
    "collapsed": false
   },
   "outputs": [],
   "source": [
    "!head -22 SNPhoSimCatalog.dat"
   ]
  },
  {
   "cell_type": "code",
   "execution_count": null,
   "metadata": {
    "collapsed": false
   },
   "outputs": [],
   "source": [
    "phdf = pd.read_csv('SNPhoSimCatalog.dat', skiprows=18, sep='\\s*')"
   ]
  },
  {
   "cell_type": "code",
   "execution_count": null,
   "metadata": {
    "collapsed": false
   },
   "outputs": [],
   "source": [
    "phdf.rename(columns={})"
   ]
  },
  {
   "cell_type": "code",
   "execution_count": null,
   "metadata": {
    "collapsed": false
   },
   "outputs": [],
   "source": [
    "phdf.head()"
   ]
  },
  {
   "cell_type": "code",
   "execution_count": null,
   "metadata": {
    "collapsed": false
   },
   "outputs": [],
   "source": [
    "plt.hist(np.asarray(phdf)[:,1], log=True)"
   ]
  },
  {
   "cell_type": "code",
   "execution_count": null,
   "metadata": {
    "collapsed": true
   },
   "outputs": [],
   "source": [
    "def phosimOutDF(fname0, fname1):\n",
    "    \n",
    "    phosimOut0 = pd.read_csv(fname0, sep='\\s+')\n",
    "    phosimOut1 = pd.read_csv(fname1, sep='\\s+')\n",
    "    phosimOut0.Photons += phosimOut1.Photons\n",
    "    phosimOut0."
   ]
  },
  {
   "cell_type": "code",
   "execution_count": null,
   "metadata": {
    "collapsed": false
   },
   "outputs": [],
   "source": [
    "phosimOuta = pd.read_csv('/Users/rbiswas/soft/phosim_release/output/centroid_lsst_e_203482_R22_S11_E000.txt', \n",
    "                         sep='\\s+')"
   ]
  },
  {
   "cell_type": "code",
   "execution_count": null,
   "metadata": {
    "collapsed": true
   },
   "outputs": [],
   "source": [
    "phosimOutb = pd.read_csv('/Users/rbiswas/soft/phosim_release/output/centroid_lsst_e_203482_R22_S11_E001.txt', sep='\\s+')"
   ]
  },
  {
   "cell_type": "code",
   "execution_count": null,
   "metadata": {
    "collapsed": true
   },
   "outputs": [],
   "source": [
    "phosimOuta.Photons = phosimOuta.Photons + phosimOutb.Photons"
   ]
  },
  {
   "cell_type": "code",
   "execution_count": null,
   "metadata": {
    "collapsed": false
   },
   "outputs": [],
   "source": [
    "phosimOuta['SourceID'] = phosimOuta.SourceID.astype(int)"
   ]
  },
  {
   "cell_type": "code",
   "execution_count": null,
   "metadata": {
    "collapsed": false
   },
   "outputs": [],
   "source": [
    "phosimOuta['snid'] = np.right_shift(phosimOuta['SourceID'], 10)"
   ]
  },
  {
   "cell_type": "code",
   "execution_count": null,
   "metadata": {
    "collapsed": false
   },
   "outputs": [],
   "source": [
    "phosimOuta.set_index('snid', inplace=True)"
   ]
  },
  {
   "cell_type": "code",
   "execution_count": null,
   "metadata": {
    "collapsed": false
   },
   "outputs": [],
   "source": [
    "sncatdf.adu.min()"
   ]
  },
  {
   "cell_type": "code",
   "execution_count": null,
   "metadata": {
    "collapsed": false
   },
   "outputs": [],
   "source": [
    "sncatdf['ratio'] = sncatdf.adu / phosimOuta.Photons"
   ]
  },
  {
   "cell_type": "code",
   "execution_count": null,
   "metadata": {
    "collapsed": true
   },
   "outputs": [],
   "source": [
    "sncatdf['Photons'] = phosimOuta.Photons"
   ]
  },
  {
   "cell_type": "code",
   "execution_count": null,
   "metadata": {
    "collapsed": false
   },
   "outputs": [],
   "source": [
    "sncatdf.query('ratio == 0.')"
   ]
  },
  {
   "cell_type": "code",
   "execution_count": null,
   "metadata": {
    "collapsed": false
   },
   "outputs": [],
   "source": [
    "fig, ax = plt.subplots()\n",
    "sns.distplot(sncatdf.ratio.replace([-np.inf, np.inf],np.nan).dropna(), bins=np.arange(0.0, 5., 0.05), \n",
    "             rug_kws=False,kde=False, norm_hist=False).set_xlim(0,)\n",
    "sns.distributions()\n",
    "#ax.hist(df.ratio.replace([-np.inf, np.inf],np.nan).dropna() ,bins=np.arange(0., 5, 0.05))\n",
    "ax.axvline(1./2.3, color='k', **{'label':'1/gain', 'linestyle':'dashed'})\n",
    "ax.set_xlabel('adu/Photons')\n",
    "ax.legend(loc='best')"
   ]
  },
  {
   "cell_type": "code",
   "execution_count": null,
   "metadata": {
    "collapsed": true
   },
   "outputs": [],
   "source": [
    "rv = poisson(mu=1)"
   ]
  },
  {
   "cell_type": "code",
   "execution_count": null,
   "metadata": {
    "collapsed": true
   },
   "outputs": [],
   "source": [
    "x = np.arange(0, 10)"
   ]
  },
  {
   "cell_type": "code",
   "execution_count": null,
   "metadata": {
    "collapsed": false
   },
   "outputs": [],
   "source": [
    "plt.plot(x, rv.pmf(x), 'bo')"
   ]
  },
  {
   "cell_type": "code",
   "execution_count": null,
   "metadata": {
    "collapsed": false
   },
   "outputs": [],
   "source": [
    "plt.hist(sncatdf.Photons / sncatdf.adu / 2.3, np.arange(-0.5,5.5), histtype='step')\n",
    "plt.plot()"
   ]
  },
  {
   "cell_type": "code",
   "execution_count": null,
   "metadata": {
    "collapsed": true
   },
   "outputs": [],
   "source": [
    "plt.plot(poisson.pmf)"
   ]
  },
  {
   "cell_type": "code",
   "execution_count": null,
   "metadata": {
    "collapsed": false
   },
   "outputs": [],
   "source": [
    "df.query('ratio > 1000.')[['adu', 'Photons', 'flux', 'DeltaT', 'mag', 'mag_err', 'flux_err']]"
   ]
  },
  {
   "cell_type": "code",
   "execution_count": null,
   "metadata": {
    "collapsed": false
   },
   "outputs": [],
   "source": [
    "x = df.query('ratio ==0.').Photons.copy(deep=True)"
   ]
  },
  {
   "cell_type": "code",
   "execution_count": null,
   "metadata": {
    "collapsed": false
   },
   "outputs": [],
   "source": [
    "x.sort(ascending=False); x"
   ]
  },
  {
   "cell_type": "code",
   "execution_count": null,
   "metadata": {
    "collapsed": true
   },
   "outputs": [],
   "source": [
    "fig.savefig('invGain.png')"
   ]
  },
  {
   "cell_type": "code",
   "execution_count": null,
   "metadata": {
    "collapsed": false
   },
   "outputs": [],
   "source": [
    "import seaborn as sns\n",
    "sns.set()"
   ]
  },
  {
   "cell_type": "code",
   "execution_count": null,
   "metadata": {
    "collapsed": false
   },
   "outputs": [],
   "source": [
    "print len(df.query('ratio > 10000')), df.query('ratio > 10000').ratio.unique()\n",
    "print len(df.query('ratio < -10000')), df.query('ratio < -10000').ratio.unique()"
   ]
  },
  {
   "cell_type": "code",
   "execution_count": null,
   "metadata": {
    "collapsed": false
   },
   "outputs": [],
   "source": [
    "df.query('ratio >500.').adu "
   ]
  },
  {
   "cell_type": "code",
   "execution_count": null,
   "metadata": {
    "collapsed": false
   },
   "outputs": [],
   "source": [
    "_df = df.query('ratio == 0.')\n",
    "_dff = df.query('ratio < 0.')\n",
    "_ = plt.hist(_df.DeltaT / (_df.z + 1.), bins=np.arange(-30, 70., 1.), histtype='step', color='b', alpha=1., lw=2.)\n",
    "_ = plt.hist(_dff.DeltaT / (_dff.z + 1.), bins=np.arange(-30, 70., 1.), histtype='step', color='r', alpha=1., lw=2.)\n",
    "plt.axvline(-20., color='k')\n",
    "plt.axvline(50., color='k')"
   ]
  },
  {
   "cell_type": "code",
   "execution_count": null,
   "metadata": {
    "collapsed": false
   },
   "outputs": [],
   "source": [
    "_df = df[['z', 'ratio']].replace([-np.inf, np.inf], [-20., 200.]).dropna()\n",
    "#sns.jointplot(_df.z, _df.ratio, kind='kde')\n",
    "plt.plot(_df.z, _df.ratio, 'o')"
   ]
  },
  {
   "cell_type": "code",
   "execution_count": null,
   "metadata": {
    "collapsed": false
   },
   "outputs": [],
   "source": [
    "adus = df.adu.dropna().sum()\n",
    "photons = phosimOuta.replace([np.inf],np.nan).Photons.dropna().sum()"
   ]
  },
  {
   "cell_type": "code",
   "execution_count": null,
   "metadata": {
    "collapsed": false
   },
   "outputs": [],
   "source": [
    "photons / adus"
   ]
  },
  {
   "cell_type": "code",
   "execution_count": null,
   "metadata": {
    "collapsed": false
   },
   "outputs": [],
   "source": [
    "active = df.query('SNR > 0.').replace([np.inf],np.nan).dropna().ratio\n",
    "bright = df.query('SNR > 5.').replace([np.inf],np.nan).dropna().ratio"
   ]
  },
  {
   "cell_type": "code",
   "execution_count": null,
   "metadata": {
    "collapsed": false
   },
   "outputs": [],
   "source": [
    "s = 0.05\n",
    "plt.hist(active, color='r', bins=np.arange(0., 25, s), histtype='step', label='SNR>0', lw=2)\n",
    "plt.hist(bright, color='k', bins=np.arange(0., 25, s), histtype='step', label='SNR>5', lw=2)\n",
    "plt.legend(loc='best')\n",
    "plt.axvline(1./2.3)\n",
    "plt.xlim(0, 5)"
   ]
  },
  {
   "cell_type": "code",
   "execution_count": null,
   "metadata": {
    "collapsed": true
   },
   "outputs": [],
   "source": [
    "import lsst.afw.image as afwi"
   ]
  },
  {
   "cell_type": "code",
   "execution_count": null,
   "metadata": {
    "collapsed": true
   },
   "outputs": [],
   "source": [
    "img0 = afwi.ImageF('/Users/rbiswas/soft/phosim_release/output/lsst_e_203482_f2_R22_S11_E000.fits.gz')\n",
    "img1 = afwi.ImageF('/Users/rbiswas/soft/phosim_release/output/lsst_e_203482_f2_R22_S11_E001.fits.gz')"
   ]
  },
  {
   "cell_type": "code",
   "execution_count": null,
   "metadata": {
    "collapsed": false
   },
   "outputs": [],
   "source": [
    "arr0 = img0.getArray()\n",
    "arr1 = img1.getArray()"
   ]
  },
  {
   "cell_type": "code",
   "execution_count": null,
   "metadata": {
    "collapsed": false
   },
   "outputs": [],
   "source": [
    "arr = arr0 + arr1\n",
    "electrons = arr.sum()"
   ]
  },
  {
   "cell_type": "code",
   "execution_count": null,
   "metadata": {
    "collapsed": false
   },
   "outputs": [],
   "source": [
    "adus  = df.adu.dropna().sum()"
   ]
  },
  {
   "cell_type": "code",
   "execution_count": null,
   "metadata": {
    "collapsed": false
   },
   "outputs": [],
   "source": [
    "2.3 / np.sqrt(2)"
   ]
  },
  {
   "cell_type": "code",
   "execution_count": null,
   "metadata": {
    "collapsed": false
   },
   "outputs": [],
   "source": [
    "electrons / adus"
   ]
  },
  {
   "cell_type": "code",
   "execution_count": null,
   "metadata": {
    "collapsed": false
   },
   "outputs": [],
   "source": [
    "x.replace([-np.inf, np.inf], np.nan, inplace=True)"
   ]
  },
  {
   "cell_type": "code",
   "execution_count": null,
   "metadata": {
    "collapsed": false
   },
   "outputs": [],
   "source": [
    "x.dropna().hist()"
   ]
  },
  {
   "cell_type": "code",
   "execution_count": null,
   "metadata": {
    "collapsed": true
   },
   "outputs": [],
   "source": []
  },
  {
   "cell_type": "code",
   "execution_count": null,
   "metadata": {
    "collapsed": false
   },
   "outputs": [],
   "source": [
    "df.set_index('snid', inplace=True)"
   ]
  },
  {
   "cell_type": "code",
   "execution_count": null,
   "metadata": {
    "collapsed": false
   },
   "outputs": [],
   "source": [
    "x.dropna()"
   ]
  },
  {
   "cell_type": "code",
   "execution_count": null,
   "metadata": {
    "collapsed": false
   },
   "outputs": [],
   "source": [
    "df.index.size"
   ]
  },
  {
   "cell_type": "code",
   "execution_count": null,
   "metadata": {
    "collapsed": false
   },
   "outputs": [],
   "source": [
    "phosimOuta.index.dtype"
   ]
  },
  {
   "cell_type": "code",
   "execution_count": null,
   "metadata": {
    "collapsed": false
   },
   "outputs": [],
   "source": [
    "6145532174336041 in df.index.values"
   ]
  },
  {
   "cell_type": "code",
   "execution_count": null,
   "metadata": {
    "collapsed": false
   },
   "outputs": [],
   "source": [
    "df.iat[6145532174336041]"
   ]
  },
  {
   "cell_type": "code",
   "execution_count": null,
   "metadata": {
    "collapsed": true
   },
   "outputs": [],
   "source": [
    "phosimOuta['snid']  = phosimOuta.index.values"
   ]
  },
  {
   "cell_type": "code",
   "execution_count": null,
   "metadata": {
    "collapsed": true
   },
   "outputs": [],
   "source": [
    "phosimOuta['snid'] = np.right_shift(phosimOuta['snid'], 10)"
   ]
  },
  {
   "cell_type": "code",
   "execution_count": null,
   "metadata": {
    "collapsed": true
   },
   "outputs": [],
   "source": [
    "phosimOuta.set_index('snid', inplace=True)"
   ]
  },
  {
   "cell_type": "code",
   "execution_count": null,
   "metadata": {
    "collapsed": false
   },
   "outputs": [],
   "source": [
    "phosimOuta['adu']/ phosimOuta['Photons']"
   ]
  },
  {
   "cell_type": "code",
   "execution_count": null,
   "metadata": {
    "collapsed": false
   },
   "outputs": [],
   "source": [
    "phosimOuta.head()"
   ]
  },
  {
   "cell_type": "code",
   "execution_count": null,
   "metadata": {
    "collapsed": false
   },
   "outputs": [],
   "source": [
    "df.index.min()"
   ]
  },
  {
   "cell_type": "code",
   "execution_count": null,
   "metadata": {
    "collapsed": false
   },
   "outputs": [],
   "source": [
    "phosimOuta.index.min()"
   ]
  },
  {
   "cell_type": "code",
   "execution_count": null,
   "metadata": {
    "collapsed": false
   },
   "outputs": [],
   "source": [
    "np.left_shift(6000000189404,10) < phosimOuta.index.min()"
   ]
  },
  {
   "cell_type": "code",
   "execution_count": null,
   "metadata": {
    "collapsed": false
   },
   "outputs": [],
   "source": [
    "np.right_shift(np.left_shift(6000000189404,10),10)"
   ]
  },
  {
   "cell_type": "code",
   "execution_count": null,
   "metadata": {
    "collapsed": false
   },
   "outputs": [],
   "source": [
    "id(None)"
   ]
  },
  {
   "cell_type": "code",
   "execution_count": null,
   "metadata": {
    "collapsed": false
   },
   "outputs": [],
   "source": [
    "x  = None"
   ]
  },
  {
   "cell_type": "code",
   "execution_count": null,
   "metadata": {
    "collapsed": false
   },
   "outputs": [],
   "source": [
    "id(x)"
   ]
  },
  {
   "cell_type": "code",
   "execution_count": null,
   "metadata": {
    "collapsed": true
   },
   "outputs": [],
   "source": [
    "y = None"
   ]
  },
  {
   "cell_type": "code",
   "execution_count": null,
   "metadata": {
    "collapsed": false
   },
   "outputs": [],
   "source": [
    "xx =3"
   ]
  },
  {
   "cell_type": "code",
   "execution_count": null,
   "metadata": {
    "collapsed": true
   },
   "outputs": [],
   "source": [
    "yy  = 3"
   ]
  },
  {
   "cell_type": "code",
   "execution_count": null,
   "metadata": {
    "collapsed": false
   },
   "outputs": [],
   "source": [
    " == y"
   ]
  },
  {
   "cell_type": "code",
   "execution_count": null,
   "metadata": {
    "collapsed": false
   },
   "outputs": [],
   "source": [
    "x is y"
   ]
  },
  {
   "cell_type": "code",
   "execution_count": null,
   "metadata": {
    "collapsed": false
   },
   "outputs": [],
   "source": [
    "id(xx)"
   ]
  },
  {
   "cell_type": "code",
   "execution_count": null,
   "metadata": {
    "collapsed": false
   },
   "outputs": [],
   "source": [
    "id(yy)"
   ]
  },
  {
   "cell_type": "markdown",
   "metadata": {},
   "source": [
    "# Scratch"
   ]
  },
  {
   "cell_type": "code",
   "execution_count": null,
   "metadata": {
    "collapsed": true
   },
   "outputs": [],
   "source": []
  },
  {
   "cell_type": "code",
   "execution_count": null,
   "metadata": {
    "collapsed": false
   },
   "outputs": [],
   "source": [
    "names = s.get_column_names()\n",
    "\n",
    "for key in names:\n",
    "    if 'snra' in names[key]:\n",
    "        print key\n",
    "\n",
    "print names['TwinkSN']"
   ]
  },
  {
   "cell_type": "code",
   "execution_count": null,
   "metadata": {
    "collapsed": false
   },
   "outputs": [],
   "source": [
    "class SNCopy(InstanceCatalog):\n",
    "    \n",
    "    column_outputs = ['raJ2000', 'decJ2000', 'snid', 'galtileid','t0', 'x0', 'x1', 'c', 'redshift', ]\n",
    "    override_formats = {'raJ2000': '%8e', 'decJ2000': '%8e', 'x0':'%8e'}\n",
    "                        #'x0':'%8e', 'x1':'%8e', 'c':'%8e', 't0':'%8e'}\n",
    "        \n"
   ]
  }
 ],
 "metadata": {
  "anaconda-cloud": {},
  "kernelspec": {
   "display_name": "Python [default]",
   "language": "python",
   "name": "python2"
  },
  "language_info": {
   "codemirror_mode": {
    "name": "ipython",
    "version": 2
   },
   "file_extension": ".py",
   "mimetype": "text/x-python",
   "name": "python",
   "nbconvert_exporter": "python",
   "pygments_lexer": "ipython2",
   "version": "2.7.12"
  }
 },
 "nbformat": 4,
 "nbformat_minor": 0
}
