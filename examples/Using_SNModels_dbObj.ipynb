{
 "cells": [
  {
   "cell_type": "code",
   "execution_count": 1,
   "metadata": {
    "collapsed": false
   },
   "outputs": [],
   "source": [
    "import os\n",
    "import numpy as np\n",
    "%matplotlib inline\n",
    "import matplotlib.pyplot as plt"
   ]
  },
  {
   "cell_type": "code",
   "execution_count": 2,
   "metadata": {
    "collapsed": false
   },
   "outputs": [],
   "source": [
    "from lsst.sims.catalogs.generation.db import CatalogDBObject\n",
    "from lsst.sims.catalogs.generation.db import CatalogDBObject"
   ]
  },
  {
   "cell_type": "code",
   "execution_count": 3,
   "metadata": {
    "collapsed": false
   },
   "outputs": [
    {
     "name": "stderr",
     "output_type": "stream",
     "text": [
      "/usr/local/manual/anaconda/lib/python2.7/site-packages/IPython/kernel/__init__.py:13: ShimWarning: The `IPython.kernel` package has been deprecated. You should import from ipykernel or jupyter_client instead.\n",
      "  \"You should import from ipykernel or jupyter_client instead.\", ShimWarning)\n",
      "Duplicate object type id 25 specified: \n",
      "Output object ids may not be unique.\n",
      "This may not be a problem if you do not want globally unique id values\n",
      "Duplicate object type id 40 specified: \n",
      "Output object ids may not be unique.\n",
      "This may not be a problem if you do not want globally unique id values\n",
      "Duplicate object type id 40 specified: \n",
      "Output object ids may not be unique.\n",
      "This may not be a problem if you do not want globally unique id values\n",
      "Duplicate object type id 40 specified: \n",
      "Output object ids may not be unique.\n",
      "This may not be a problem if you do not want globally unique id values\n",
      "Duplicate object type id 40 specified: \n",
      "Output object ids may not be unique.\n",
      "This may not be a problem if you do not want globally unique id values\n"
     ]
    }
   ],
   "source": [
    "import lsst.sims.catUtils.baseCatalogModels as bcm\n",
    "from lsst.sims.catUtils.baseCatalogModels import GalaxyTileObj\n",
    "from lsst.sims.catalogs.measures.instance import InstanceCatalog\n",
    "from lsst.sims.utils import ObservationMetaData\n",
    "\n"
   ]
  },
  {
   "cell_type": "code",
   "execution_count": 4,
   "metadata": {
    "collapsed": false
   },
   "outputs": [],
   "source": [
    "from lsst.sims.catUtils.baseCatalogModels import SNObj\n",
    "from lsst.sims.catUtils.mixins import FrozenSNCat"
   ]
  },
  {
   "cell_type": "code",
   "execution_count": 5,
   "metadata": {
    "collapsed": false
   },
   "outputs": [],
   "source": [
    "s  = SNObj()"
   ]
  },
  {
   "cell_type": "code",
   "execution_count": 6,
   "metadata": {
    "collapsed": false
   },
   "outputs": [
    {
     "name": "stderr",
     "output_type": "stream",
     "text": [
      "/usr/local/manual/anaconda/lib/python2.7/site-packages/sqlalchemy/dialects/mssql/base.py:1294: SAWarning: Did not recognize type 'geography' of column 'geopoint'\n",
      "  return fn(*arg, **kw)\n",
      "/usr/local/manual/anaconda/lib/python2.7/site-packages/sqlalchemy/dialects/mssql/base.py:1294: SAWarning: Did not recognize type 'geography' of column 'geocenter'\n",
      "  return fn(*arg, **kw)\n",
      "/usr/local/manual/anaconda/lib/python2.7/site-packages/sqlalchemy/dialects/mssql/base.py:1294: SAWarning: Did not recognize type 'geography' of column 'geobox'\n",
      "  return fn(*arg, **kw)\n"
     ]
    }
   ],
   "source": [
    "names = s.get_column_names()"
   ]
  },
  {
   "cell_type": "code",
   "execution_count": 7,
   "metadata": {
    "collapsed": false
   },
   "outputs": [
    {
     "name": "stdout",
     "output_type": "stream",
     "text": [
      "TwinkSN\n"
     ]
    }
   ],
   "source": [
    "for key in names:\n",
    "    if 'snra' in names[key]:\n",
    "        print key"
   ]
  },
  {
   "cell_type": "code",
   "execution_count": 8,
   "metadata": {
    "collapsed": false
   },
   "outputs": [
    {
     "name": "stdout",
     "output_type": "stream",
     "text": [
      "['galtileid', 'htmid', 'snid', 't0', 'c', 'x1', 'x0', 'redshift', 'snra', 'sndec', 'cx', 'cy', 'cz']\n"
     ]
    }
   ],
   "source": [
    "print names['TwinkSN']"
   ]
  },
  {
   "cell_type": "code",
   "execution_count": 9,
   "metadata": {
    "collapsed": false
   },
   "outputs": [],
   "source": [
    "class SNCopy(InstanceCatalog):\n",
    "    \n",
    "    column_outputs = ['raJ2000', 'decJ2000', 'snid', 'galtileid','t0', 'x0', 'x1', 'c', 'redshift', ]\n",
    "    override_formats = {'raJ2000': '%8e', 'decJ2000': '%8e', 'x0':'%8e'}\n",
    "                        #'x0':'%8e', 'x1':'%8e', 'c':'%8e', 't0':'%8e'}\n",
    "        \n",
    "class TSNCopy(InstanceCatalog):\n",
    "    \n",
    "    column_outputs = ['raJ2000', 'decJ2000', 'snid', 'Tgaltileid','Tt0', 'Tx0', 'Tx1', 'Tc', 'Tredshift', ]\n",
    "    override_formats = {'raJ2000': '%8e', 'decJ2000': '%8e', 'x0':'%8e'}\n",
    "\n"
   ]
  },
  {
   "cell_type": "code",
   "execution_count": 10,
   "metadata": {
    "collapsed": false
   },
   "outputs": [],
   "source": [
    "degConv = np.array([1., 1./60., 1./3600.])\n",
    "raConv = degConv / 24.0 * 360.\n",
    "centralRA = np.dot(np.array([3., 32., 30]), raConv) #03h 32m 30s\n",
    "centralDec = np.dot(np.array([-28, 6., 0.]), degConv)\n",
    "patchRadius = 0.4 * np.sqrt(2) #np.dot(np.array([0.0, 10.0, 0.]), degConv)"
   ]
  },
  {
   "cell_type": "code",
   "execution_count": 11,
   "metadata": {
    "collapsed": true
   },
   "outputs": [],
   "source": [
    "opsimPath = os.path.join('/Users/rbiswas/data/LSST/OpSimData')\n",
    "opsimDB = os.path.join(opsimPath,'enigma_1189_sqlite.db')"
   ]
  },
  {
   "cell_type": "code",
   "execution_count": 12,
   "metadata": {
    "collapsed": true
   },
   "outputs": [],
   "source": [
    "from lsst.sims.catUtils.utils import ObservationMetaDataGenerator"
   ]
  },
  {
   "cell_type": "code",
   "execution_count": 13,
   "metadata": {
    "collapsed": true
   },
   "outputs": [],
   "source": [
    "generator = ObservationMetaDataGenerator(driver='sqlite', database=opsimDB) #database = opsimPath, driver='sqlite')\n",
    "obsMetaDataResults = generator.getObservationMetaData(limit=100,\n",
    "                                                      fieldRA=(centralRA - 2.0, centralRA + 2.0), \n",
    "                                                      fieldDec=(centralDec - 2.0, centralDec + 2.0),\n",
    "                                                      expMJD=(49500., 49690.),\n",
    "                                                      boundLength=0.05,\n",
    "                                                      boundType='circle')"
   ]
  },
  {
   "cell_type": "code",
   "execution_count": 14,
   "metadata": {
    "collapsed": false
   },
   "outputs": [
    {
     "data": {
      "text/plain": [
       "100"
      ]
     },
     "execution_count": 14,
     "metadata": {},
     "output_type": "execute_result"
    }
   ],
   "source": [
    "len(obsMetaDataResults)"
   ]
  },
  {
   "cell_type": "code",
   "execution_count": 15,
   "metadata": {
    "collapsed": false
   },
   "outputs": [],
   "source": [
    "TwinklesObsMetaDataSmall = ObservationMetaData(boundType='circle',pointingRA=centralRA,pointingDec=centralDec,\n",
    "                                          boundLength=0.05, mjd=60703.0, bandpassName='r', m5=23.)"
   ]
  },
  {
   "cell_type": "code",
   "execution_count": 16,
   "metadata": {
    "collapsed": false
   },
   "outputs": [
    {
     "data": {
      "text/plain": [
       "49612.338296000002"
      ]
     },
     "execution_count": 16,
     "metadata": {},
     "output_type": "execute_result"
    }
   ],
   "source": [
    "obsMetaDataResults[35].mjd.TAI"
   ]
  },
  {
   "cell_type": "code",
   "execution_count": 17,
   "metadata": {
    "collapsed": true
   },
   "outputs": [],
   "source": [
    "TwinklesObsMetaDataSmall = obsMetaDataResults[35]"
   ]
  },
  {
   "cell_type": "code",
   "execution_count": 18,
   "metadata": {
    "collapsed": false
   },
   "outputs": [
    {
     "data": {
      "text/plain": [
       "49612.338296000002"
      ]
     },
     "execution_count": 18,
     "metadata": {},
     "output_type": "execute_result"
    }
   ],
   "source": [
    "obsMetaDataResults[35].mjd.TAI"
   ]
  },
  {
   "cell_type": "code",
   "execution_count": 19,
   "metadata": {
    "collapsed": false
   },
   "outputs": [
    {
     "data": {
      "text/plain": [
       "'r'"
      ]
     },
     "execution_count": 19,
     "metadata": {},
     "output_type": "execute_result"
    }
   ],
   "source": [
    "TwinklesObsMetaDataSmall.bandpass"
   ]
  },
  {
   "cell_type": "code",
   "execution_count": 20,
   "metadata": {
    "collapsed": false
   },
   "outputs": [],
   "source": [
    "#tsmall = SNCopy(db_obj=s, obs_metadata=TwinklesObsMetaDataSmall)"
   ]
  },
  {
   "cell_type": "code",
   "execution_count": 21,
   "metadata": {
    "collapsed": false
   },
   "outputs": [],
   "source": [
    "#tsmall.write_catalog('TwinklesSN.dat')"
   ]
  },
  {
   "cell_type": "code",
   "execution_count": 22,
   "metadata": {
    "collapsed": false
   },
   "outputs": [],
   "source": [
    "#!wc -l TwinklesSN.dat"
   ]
  },
  {
   "cell_type": "code",
   "execution_count": 23,
   "metadata": {
    "collapsed": false
   },
   "outputs": [],
   "source": [
    "#!head TwinklesSN.dat"
   ]
  },
  {
   "cell_type": "code",
   "execution_count": 24,
   "metadata": {
    "collapsed": false
   },
   "outputs": [],
   "source": [
    "Ttsmall = TSNCopy(db_obj=s, obs_metadata=TwinklesObsMetaDataSmall)"
   ]
  },
  {
   "cell_type": "code",
   "execution_count": 25,
   "metadata": {
    "collapsed": false
   },
   "outputs": [],
   "source": [
    "Ttsmall.write_catalog('TTwinklesSN.dat')"
   ]
  },
  {
   "cell_type": "code",
   "execution_count": 26,
   "metadata": {
    "collapsed": false
   },
   "outputs": [
    {
     "name": "stdout",
     "output_type": "stream",
     "text": [
      "#raJ2000, decJ2000, snid, Tgaltileid, Tt0, Tx0, Tx1, Tc, Tredshift\r\n",
      "9.248542e-01, -4.796086e-01, 70000060002746141, 60002746141.0000, 334.7973, 0.0000, 0.6498, 0.0267, 0.8928\r\n",
      "9.248540e-01, -4.796087e-01, 110000060002746141, 60002746141.0000, 1247.8401, 0.0000, -1.7545, 0.0271, 0.8928\r\n",
      "9.248529e-01, -4.796095e-01, 40000060002746141, 60002746141.0000, 1829.9147, 0.0000, -0.0453, 0.0032, 0.8928\r\n",
      "9.248538e-01, -4.796086e-01, 60002746141, 60002746141.0000, 48.8777, 0.0000, 1.4029, 0.0339, 0.8928\r\n",
      "9.248534e-01, -4.796089e-01, 20000060002746141, 60002746141.0000, 2718.1500, 0.0000, -0.1613, 0.0428, 0.8928\r\n",
      "9.248540e-01, -4.796088e-01, 120000060002746141, 60002746141.0000, 3049.3672, 0.0000, -0.2035, 0.0507, 0.8928\r\n",
      "9.248551e-01, -4.796070e-01, 10000060002746141, 60002746141.0000, 722.5567, 0.0000, 0.3985, 0.0111, 0.8928\r\n",
      "9.248543e-01, -4.796073e-01, 30000060002746141, 60002746141.0000, 3445.2848, 0.0000, 0.2358, 0.0516, 0.8928\r\n",
      "9.248537e-01, -4.796080e-01, 50000060002746141, 60002746141.0000, 389.9466, 0.0000, -1.2119, -0.0357, 0.8928\r\n"
     ]
    }
   ],
   "source": [
    "!head TTwinklesSN.dat"
   ]
  },
  {
   "cell_type": "code",
   "execution_count": 27,
   "metadata": {
    "collapsed": false
   },
   "outputs": [
    {
     "name": "stderr",
     "output_type": "stream",
     "text": [
      "/usr/local/manual/anaconda/lib/python2.7/site-packages/ipykernel/__main__.py:2: ParserWarning: Falling back to the 'python' engine because the 'c' engine does not support regex separators; you can avoid this warning by specifying engine='python'.\n",
      "  from ipykernel import kernelapp as app\n"
     ]
    }
   ],
   "source": [
    "import pandas as pd\n",
    "TTSNdf = pd.read_csv('TTwinklesSN.dat', sep=',\\s+')"
   ]
  },
  {
   "cell_type": "code",
   "execution_count": 28,
   "metadata": {
    "collapsed": false
   },
   "outputs": [
    {
     "data": {
      "image/png": "[encoded data removed]",
      "text/plain": [
       "<matplotlib.figure.Figure at 0x11508b710>"
      ]
     },
     "metadata": {},
     "output_type": "display_data"
    }
   ],
   "source": [
    "_ = plt.hist(TTSNdf.Tt0, np.arange(0., 500., 10.))"
   ]
  },
  {
   "cell_type": "code",
   "execution_count": 29,
   "metadata": {
    "collapsed": false
   },
   "outputs": [
    {
     "data": {
      "text/plain": [
       "<matplotlib.axes._subplots.AxesSubplot at 0x1151dc450>"
      ]
     },
     "execution_count": 29,
     "metadata": {},
     "output_type": "execute_result"
    },
    {
     "data": {
      "image/png": "[encoded data removed]",
      "text/plain": [
       "<matplotlib.figure.Figure at 0x11533ce90>"
      ]
     },
     "metadata": {},
     "output_type": "display_data"
    }
   ],
   "source": [
    "fig, corr_ax = plt.subplots(1, 2)\n",
    "TTSNdf.plot.hexbin(x='Tt0', y='#raJ2000', ax=corr_ax[0])\n",
    "#corr_ax[0].plot(centralRA, centralDec, 'ks')\n",
    "TTSNdf.plot.hexbin(x='Tt0', y='decJ2000', ax=corr_ax[1])"
   ]
  },
  {
   "cell_type": "code",
   "execution_count": 30,
   "metadata": {
    "collapsed": false
   },
   "outputs": [
    {
     "data": {
      "text/plain": [
       "53.009138473031555"
      ]
     },
     "execution_count": 30,
     "metadata": {},
     "output_type": "execute_result"
    }
   ],
   "source": [
    "TwinklesObsMetaDataSmall.pointingRA"
   ]
  },
  {
   "cell_type": "code",
   "execution_count": 31,
   "metadata": {
    "collapsed": true
   },
   "outputs": [],
   "source": [
    "import matplotlib.patches  as mpatches"
   ]
  },
  {
   "cell_type": "code",
   "execution_count": 32,
   "metadata": {
    "collapsed": false
   },
   "outputs": [
    {
     "data": {
      "text/plain": [
       "<matplotlib.patches.Circle at 0x113ef9810>"
      ]
     },
     "execution_count": 32,
     "metadata": {},
     "output_type": "execute_result"
    },
    {
     "data": {
      "image/png": "[encoded data removed]",
      "text/plain": [
       "<matplotlib.figure.Figure at 0x105e6f550>"
      ]
     },
     "metadata": {},
     "output_type": "display_data"
    }
   ],
   "source": [
    "fig, ax = plt.subplots()\n",
    "ax.hexbin(TTSNdf['#raJ2000'], TTSNdf.decJ2000)\n",
    "ax.plot(np.radians(TwinklesObsMetaDataSmall.pointingRA), np.radians(TwinklesObsMetaDataSmall.pointingDec), \n",
    "         'ks')\n",
    "circ = mpatches.Circle((np.radians(TwinklesObsMetaDataSmall.pointingRA), np.radians(TwinklesObsMetaDataSmall.pointingDec)), \n",
    "         np.radians(0.05))\n",
    "circ.set(edgecolor='r')\n",
    "#circ.set(face)\n",
    "ax.add_artist(circ)"
   ]
  },
  {
   "cell_type": "code",
   "execution_count": 33,
   "metadata": {
    "collapsed": false
   },
   "outputs": [
    {
     "name": "stdout",
     "output_type": "stream",
     "text": [
      "('badvalues ', nan)\n",
      "('mjd ', 49612.338296000002)\n",
      "('maxTime', 100.0)\n",
      "('number of cases ', 0)\n"
     ]
    }
   ],
   "source": [
    "sncatalog = FrozenSNCat(db_obj=s, obs_metadata=TwinklesObsMetaDataSmall, \n",
    "                         column_outputs=['snra', 'sndec', 'snid', 'x0', 't0', 'flux', 'flux_err', 'mag', 'mag_err',\n",
    "                                         'TmagNorm', 'TsedFilepath'])\n",
    "sncatalog.surveyStartDate = 49500.\n",
    "sncatalog.writeSedFile = False\n",
    "sncatalog.prefix = '/Users/rbiswas/tmp/'"
   ]
  },
  {
   "cell_type": "code",
   "execution_count": 34,
   "metadata": {
    "collapsed": false
   },
   "outputs": [],
   "source": [
    "sncatalog.suppressDimSN = True"
   ]
  },
  {
   "cell_type": "code",
   "execution_count": 35,
   "metadata": {
    "collapsed": false
   },
   "outputs": [
    {
     "name": "stdout",
     "output_type": "stream",
     "text": [
      "('badvalues ', nan)\n",
      "('mjd ', 49612.338296000002)\n",
      "('maxTime', 100.0)\n",
      "('number of cases ', 0)\n",
      "('badvalues ', nan)\n",
      "('mjd ', 49612.338296000002)\n",
      "('maxTime', 100.0)\n",
      "('number of cases ', 1886)\n",
      "('badvalues ', nan)\n",
      "('mjd ', 49612.338296000002)\n",
      "('maxTime', 100.0)\n",
      "('number of cases ', 1872)\n",
      "('badvalues ', nan)\n",
      "('mjd ', 49612.338296000002)\n",
      "('maxTime', 100.0)\n",
      "('number of cases ', 1884)\n",
      "('badvalues ', nan)\n",
      "('mjd ', 49612.338296000002)\n",
      "('maxTime', 100.0)\n",
      "('number of cases ', 685)\n"
     ]
    }
   ],
   "source": [
    "_ = sncatalog.write_catalog('newcat.dat', chunk_size=2000)"
   ]
  },
  {
   "cell_type": "code",
   "execution_count": 36,
   "metadata": {
    "collapsed": false
   },
   "outputs": [
    {
     "name": "stdout",
     "output_type": "stream",
     "text": [
      "     393 newcat.dat\r\n"
     ]
    }
   ],
   "source": [
    "!wc -l newcat.dat"
   ]
  },
  {
   "cell_type": "code",
   "execution_count": 37,
   "metadata": {
    "collapsed": true
   },
   "outputs": [],
   "source": [
    "import pandas as pd"
   ]
  },
  {
   "cell_type": "code",
   "execution_count": 38,
   "metadata": {
    "collapsed": false
   },
   "outputs": [
    {
     "name": "stderr",
     "output_type": "stream",
     "text": [
      "/usr/local/manual/anaconda/lib/python2.7/site-packages/ipykernel/__main__.py:1: ParserWarning: Falling back to the 'python' engine because the 'c' engine does not support regex separators; you can avoid this warning by specifying engine='python'.\n",
      "  if __name__ == '__main__':\n"
     ]
    }
   ],
   "source": [
    "df = pd.read_csv('newcat.dat', sep=',\\s+')\n",
    "df.rename(columns={'#snid':'snid'}, inplace=True)"
   ]
  },
  {
   "cell_type": "code",
   "execution_count": 39,
   "metadata": {
    "collapsed": false
   },
   "outputs": [
    {
     "data": {
      "text/plain": [
       "49612.338296000002"
      ]
     },
     "execution_count": 39,
     "metadata": {},
     "output_type": "execute_result"
    }
   ],
   "source": [
    "sncatalog.mjdobs"
   ]
  },
  {
   "cell_type": "code",
   "execution_count": 40,
   "metadata": {
    "collapsed": false
   },
   "outputs": [],
   "source": [
    "#df.t0.hist(bins=4000)"
   ]
  },
  {
   "cell_type": "code",
   "execution_count": 41,
   "metadata": {
    "collapsed": false
   },
   "outputs": [
    {
     "data": {
      "text/plain": [
       "392"
      ]
     },
     "execution_count": 41,
     "metadata": {},
     "output_type": "execute_result"
    }
   ],
   "source": [
    "len(df)"
   ]
  },
  {
   "cell_type": "code",
   "execution_count": 42,
   "metadata": {
    "collapsed": false
   },
   "outputs": [
    {
     "data": {
      "text/html": [
       "<div>\n",
       "<table border=\"1\" class=\"dataframe\">\n",
       "  <thead>\n",
       "    <tr style=\"text-align: right;\">\n",
       "      <th></th>\n",
       "      <th>snid</th>\n",
       "      <th>snra</th>\n",
       "      <th>sndec</th>\n",
       "      <th>z</th>\n",
       "      <th>t0</th>\n",
       "      <th>c</th>\n",
       "      <th>x1</th>\n",
       "      <th>x0</th>\n",
       "      <th>flux</th>\n",
       "      <th>flux_err</th>\n",
       "      <th>mag</th>\n",
       "      <th>mag_err</th>\n",
       "      <th>TmagNorm</th>\n",
       "      <th>TsedFilepath</th>\n",
       "      <th>DeltaT</th>\n",
       "      <th>SNR</th>\n",
       "    </tr>\n",
       "  </thead>\n",
       "  <tbody>\n",
       "    <tr>\n",
       "      <th>0</th>\n",
       "      <td>70000060001345348</td>\n",
       "      <td>0.924901</td>\n",
       "      <td>-0.479660</td>\n",
       "      <td>0.8308</td>\n",
       "      <td>49634.4989</td>\n",
       "      <td>-0.004487</td>\n",
       "      <td>0.4750</td>\n",
       "      <td>0.000003</td>\n",
       "      <td>3.573111e-11</td>\n",
       "      <td>3.602404e-11</td>\n",
       "      <td>26.1174</td>\n",
       "      <td>0.757033</td>\n",
       "      <td>51.2035</td>\n",
       "      <td>/Users/rbiswas/tmp/specFile_70000060001345348_...</td>\n",
       "      <td>-22.160604</td>\n",
       "      <td>0.991868</td>\n",
       "    </tr>\n",
       "    <tr>\n",
       "      <th>1</th>\n",
       "      <td>30000060001345348</td>\n",
       "      <td>0.924900</td>\n",
       "      <td>-0.479660</td>\n",
       "      <td>0.8308</td>\n",
       "      <td>49622.7228</td>\n",
       "      <td>0.142884</td>\n",
       "      <td>-1.3618</td>\n",
       "      <td>0.000002</td>\n",
       "      <td>4.205507e-11</td>\n",
       "      <td>3.603722e-11</td>\n",
       "      <td>25.9405</td>\n",
       "      <td>0.671993</td>\n",
       "      <td>26.3066</td>\n",
       "      <td>/Users/rbiswas/tmp/specFile_30000060001345348_...</td>\n",
       "      <td>-10.384504</td>\n",
       "      <td>1.166990</td>\n",
       "    </tr>\n",
       "    <tr>\n",
       "      <th>2</th>\n",
       "      <td>110000060001668441</td>\n",
       "      <td>0.924963</td>\n",
       "      <td>-0.479732</td>\n",
       "      <td>0.8669</td>\n",
       "      <td>49575.7365</td>\n",
       "      <td>-0.003971</td>\n",
       "      <td>-0.7924</td>\n",
       "      <td>0.000003</td>\n",
       "      <td>1.391120e-11</td>\n",
       "      <td>3.597856e-11</td>\n",
       "      <td>27.1416</td>\n",
       "      <td>1.386626</td>\n",
       "      <td>27.1689</td>\n",
       "      <td>/Users/rbiswas/tmp/specFile_110000060001668441...</td>\n",
       "      <td>36.601796</td>\n",
       "      <td>0.386652</td>\n",
       "    </tr>\n",
       "    <tr>\n",
       "      <th>3</th>\n",
       "      <td>40000060002021988</td>\n",
       "      <td>0.925073</td>\n",
       "      <td>-0.479665</td>\n",
       "      <td>0.8573</td>\n",
       "      <td>49583.0608</td>\n",
       "      <td>0.055133</td>\n",
       "      <td>-0.5496</td>\n",
       "      <td>0.000002</td>\n",
       "      <td>1.411514e-11</td>\n",
       "      <td>3.597898e-11</td>\n",
       "      <td>27.1258</td>\n",
       "      <td>1.375263</td>\n",
       "      <td>26.8265</td>\n",
       "      <td>/Users/rbiswas/tmp/specFile_40000060002021988_...</td>\n",
       "      <td>29.277496</td>\n",
       "      <td>0.392316</td>\n",
       "    </tr>\n",
       "    <tr>\n",
       "      <th>4</th>\n",
       "      <td>70000060010809138</td>\n",
       "      <td>0.925130</td>\n",
       "      <td>-0.479707</td>\n",
       "      <td>0.7744</td>\n",
       "      <td>49531.5629</td>\n",
       "      <td>0.152381</td>\n",
       "      <td>1.8306</td>\n",
       "      <td>0.000003</td>\n",
       "      <td>5.325459e-12</td>\n",
       "      <td>3.596064e-11</td>\n",
       "      <td>28.1841</td>\n",
       "      <td>2.223623</td>\n",
       "      <td>26.9168</td>\n",
       "      <td>/Users/rbiswas/tmp/specFile_70000060010809138_...</td>\n",
       "      <td>80.775396</td>\n",
       "      <td>0.148091</td>\n",
       "    </tr>\n",
       "  </tbody>\n",
       "</table>\n",
       "</div>"
      ],
      "text/plain": [
       "                 snid      snra     sndec       z          t0         c  \\\n",
       "0   70000060001345348  0.924901 -0.479660  0.8308  49634.4989 -0.004487   \n",
       "1   30000060001345348  0.924900 -0.479660  0.8308  49622.7228  0.142884   \n",
       "2  110000060001668441  0.924963 -0.479732  0.8669  49575.7365 -0.003971   \n",
       "3   40000060002021988  0.925073 -0.479665  0.8573  49583.0608  0.055133   \n",
       "4   70000060010809138  0.925130 -0.479707  0.7744  49531.5629  0.152381   \n",
       "\n",
       "       x1        x0          flux      flux_err      mag   mag_err  TmagNorm  \\\n",
       "0  0.4750  0.000003  3.573111e-11  3.602404e-11  26.1174  0.757033   51.2035   \n",
       "1 -1.3618  0.000002  4.205507e-11  3.603722e-11  25.9405  0.671993   26.3066   \n",
       "2 -0.7924  0.000003  1.391120e-11  3.597856e-11  27.1416  1.386626   27.1689   \n",
       "3 -0.5496  0.000002  1.411514e-11  3.597898e-11  27.1258  1.375263   26.8265   \n",
       "4  1.8306  0.000003  5.325459e-12  3.596064e-11  28.1841  2.223623   26.9168   \n",
       "\n",
       "                                        TsedFilepath     DeltaT       SNR  \n",
       "0  /Users/rbiswas/tmp/specFile_70000060001345348_... -22.160604  0.991868  \n",
       "1  /Users/rbiswas/tmp/specFile_30000060001345348_... -10.384504  1.166990  \n",
       "2  /Users/rbiswas/tmp/specFile_110000060001668441...  36.601796  0.386652  \n",
       "3  /Users/rbiswas/tmp/specFile_40000060002021988_...  29.277496  0.392316  \n",
       "4  /Users/rbiswas/tmp/specFile_70000060010809138_...  80.775396  0.148091  "
      ]
     },
     "execution_count": 42,
     "metadata": {},
     "output_type": "execute_result"
    }
   ],
   "source": [
    "df['DeltaT'] = sncatalog.mjdobs - df['t0']\n",
    "df['SNR'] = df.flux / df.flux_err\n",
    "df.head()"
   ]
  },
  {
   "cell_type": "code",
   "execution_count": 43,
   "metadata": {
    "collapsed": false
   },
   "outputs": [
    {
     "data": {
      "image/png": "[encoded data removed]",
      "text/plain": [
       "<matplotlib.figure.Figure at 0x103cd6850>"
      ]
     },
     "metadata": {},
     "output_type": "display_data"
    }
   ],
   "source": [
    "fig, ax = plt.subplots(nrows=1, ncols=2);\n",
    "_ = ax[0].hist(df.query('SNR > 5.').z, bins=np.arange(0., 1.2, 0.1), histtype='step', lw=2, color='k', normed=True,\n",
    "               label='highSNR')\n",
    "_ = ax[0].hist(df.query('SNR < 5. and SNR > 0.').z, bins=np.arange(0., 1.2, 0.1), histtype='step', lw=2, color='r', \n",
    "             normed=True, label='lowSNR')\n",
    "_ = ax[0].hist(df.query('SNR > 0.').z, bins=np.arange(0., 1.2, 0.1), histtype='step', lw=2, color='b', \n",
    "             normed=True, label='Active')\n",
    "ax[0].grid(True)\n",
    "_ = ax[1].hist(df.query('SNR > 5.').z, bins=np.arange(0., 1.2, 0.1), histtype='step', lw=2, color='k', normed=False, \n",
    "               cumulative=-1)\n",
    "_ = ax[1].hist(df.query('SNR < 5. and SNR > 0.').z, bins=np.arange(0., 1.2, 0.1), histtype='step', lw=2, color='r', \n",
    "               normed=False, cumulative=-1)\n",
    "_ = ax[1].grid(True)\n",
    "_ = ax[0].legend(loc='upper left')\n",
    "_ = ax[0].set_ylabel('PDF')\n",
    "_ = ax[0].set_ylabel('Num SN at z > ')"
   ]
  },
  {
   "cell_type": "code",
   "execution_count": 44,
   "metadata": {
    "collapsed": false
   },
   "outputs": [],
   "source": [
    "from lsst.sims.catUtils.exampleCatalogDefinitions.phoSimCatalogExamples import PhoSimCatalogSN"
   ]
  },
  {
   "cell_type": "code",
   "execution_count": 45,
   "metadata": {
    "collapsed": false,
    "scrolled": true
   },
   "outputs": [
    {
     "name": "stdout",
     "output_type": "stream",
     "text": [
      "('badvalues ', nan)\n",
      "('mjd ', 49612.338296000002)\n",
      "('maxTime', 100.0)\n",
      "('number of cases ', 0)\n"
     ]
    }
   ],
   "source": [
    "pc = PhoSimCatalogSN(db_obj=s, obs_metadata=TwinklesObsMetaDataSmall)\n",
    "pc.writeSedFile = True\n",
    "pc.surveyStartDate = 49500\n",
    "pc.suppressDimSN = True"
   ]
  },
  {
   "cell_type": "code",
   "execution_count": 46,
   "metadata": {
    "collapsed": false
   },
   "outputs": [
    {
     "name": "stdout",
     "output_type": "stream",
     "text": [
      "('badvalues ', nan)\n",
      "('mjd ', 49612.338296000002)\n",
      "('maxTime', 100.0)\n",
      "('number of cases ', 0)\n",
      "('badvalues ', nan)\n",
      "('mjd ', 49612.338296000002)\n",
      "('maxTime', 100.0)\n",
      "('number of cases ', 6327)\n",
      "('writing file to ', 'specFile_60002746141_49612.3383_r.dat')\n",
      "('writing file to ', 'specFile_10000060006060505_49612.3383_r.dat')\n",
      "('writing file to ', 'specFile_70000060000184510_49612.3383_r.dat')\n",
      "('writing file to ', 'specFile_70000060000917091_49612.3383_r.dat')\n",
      "('writing file to ', 'specFile_60007774784_49612.3383_r.dat')\n",
      "('writing file to ', 'specFile_60009722297_49612.3383_r.dat')\n",
      "('writing file to ', 'specFile_10000060001670583_49612.3383_r.dat')\n",
      "('writing file to ', 'specFile_70000060001345348_49612.3383_r.dat')\n",
      "('writing file to ', 'specFile_30000060001345348_49612.3383_r.dat')\n",
      "('writing file to ', 'specFile_110000060001668441_49612.3383_r.dat')\n",
      "('writing file to ', 'specFile_40000060002021988_49612.3383_r.dat')\n",
      "('writing file to ', 'specFile_40000060000384557_49612.3383_r.dat')\n",
      "('writing file to ', 'specFile_100000060000518692_49612.3383_r.dat')\n",
      "('writing file to ', 'specFile_10000060009771622_49612.3383_r.dat')\n",
      "('writing file to ', 'specFile_60009771622_49612.3383_r.dat')\n",
      "('writing file to ', 'specFile_60003074651_49612.3383_r.dat')\n",
      "('writing file to ', 'specFile_30000060001401408_49612.3383_r.dat')\n",
      "('writing file to ', 'specFile_50000060002920338_49612.3383_r.dat')\n",
      "('writing file to ', 'specFile_30000060002920338_49612.3383_r.dat')\n",
      "('writing file to ', 'specFile_20000060008348759_49612.3383_r.dat')\n",
      "('writing file to ', 'specFile_20000060003174753_49612.3383_r.dat')\n",
      "('writing file to ', 'specFile_60001949930_49612.3383_r.dat')\n",
      "('writing file to ', 'specFile_10000060005870298_49612.3383_r.dat')\n",
      "('writing file to ', 'specFile_20000060008352912_49612.3383_r.dat')\n",
      "('writing file to ', 'specFile_10000060009271141_49612.3383_r.dat')\n",
      "('writing file to ', 'specFile_70000060010809138_49612.3383_r.dat')\n",
      "('writing file to ', 'specFile_60001637651_49612.3383_r.dat')\n",
      "('writing file to ', 'specFile_30000060005620839_49612.3383_r.dat')\n",
      "('writing file to ', 'specFile_50000060003500250_49612.3383_r.dat')\n",
      "('writing file to ', 'specFile_50000060015521300_49612.3383_r.dat')\n",
      "('writing file to ', 'specFile_10000060001320618_49612.3383_r.dat')\n",
      "('writing file to ', 'specFile_40000060006767543_49612.3383_r.dat')\n",
      "('writing file to ', 'specFile_40000060004105421_49612.3383_r.dat')\n",
      "('writing file to ', 'specFile_40000060000339065_49612.3383_r.dat')\n",
      "('writing file to ', 'specFile_60000339065_49612.3383_r.dat')\n",
      "('writing file to ', 'specFile_30000060000339065_49612.3383_r.dat')\n",
      "('writing file to ', 'specFile_20000060000339065_49612.3383_r.dat')\n",
      "('writing file to ', 'specFile_10000060000049675_49612.3383_r.dat')\n",
      "('writing file to ', 'specFile_60002353297_49612.3383_r.dat')\n",
      "('writing file to ', 'specFile_10000060000547945_49612.3383_r.dat')\n",
      "('writing file to ', 'specFile_10000060012754411_49612.3383_r.dat')\n",
      "('writing file to ', 'specFile_20000060002105092_49612.3383_r.dat')\n",
      "('writing file to ', 'specFile_20000060003645817_49612.3383_r.dat')\n",
      "('writing file to ', 'specFile_20000060010826823_49612.3383_r.dat')\n",
      "('writing file to ', 'specFile_40000060000081890_49612.3383_r.dat')\n",
      "('writing file to ', 'specFile_20000060010245621_49612.3383_r.dat')\n",
      "('writing file to ', 'specFile_20000060006063088_49612.3383_r.dat')\n",
      "('writing file to ', 'specFile_20000060004037975_49612.3383_r.dat')\n",
      "('writing file to ', 'specFile_20000060003467192_49612.3383_r.dat')\n",
      "('writing file to ', 'specFile_10000060004676784_49612.3383_r.dat')\n",
      "('writing file to ', 'specFile_60000060006783792_49612.3383_r.dat')\n",
      "('writing file to ', 'specFile_20000060000054227_49612.3383_r.dat')\n",
      "('writing file to ', 'specFile_10000060001456565_49612.3383_r.dat')\n",
      "('writing file to ', 'specFile_90000060000005453_49612.3383_r.dat')\n",
      "('writing file to ', 'specFile_10000060004104009_49612.3383_r.dat')\n",
      "('writing file to ', 'specFile_30000060003417354_49612.3383_r.dat')\n",
      "('writing file to ', 'specFile_60010809329_49612.3383_r.dat')\n",
      "('writing file to ', 'specFile_60000915223_49612.3383_r.dat')\n",
      "('writing file to ', 'specFile_10000060005675359_49612.3383_r.dat')\n",
      "('writing file to ', 'specFile_20000060005675359_49612.3383_r.dat')\n",
      "('writing file to ', 'specFile_20000060011947518_49612.3383_r.dat')\n",
      "('writing file to ', 'specFile_70000060009279904_49612.3383_r.dat')\n",
      "('writing file to ', 'specFile_10000060009279904_49612.3383_r.dat')\n",
      "('writing file to ', 'specFile_40000060007972935_49612.3383_r.dat')\n",
      "('writing file to ', 'specFile_100000060001989180_49612.3383_r.dat')\n",
      "('writing file to ', 'specFile_20000060012742642_49612.3383_r.dat')\n",
      "('writing file to ', 'specFile_40000060005727767_49612.3383_r.dat')\n",
      "('writing file to ', 'specFile_10000060008004539_49612.3383_r.dat')\n",
      "('writing file to ', 'specFile_20000060009734856_49612.3383_r.dat')\n",
      "('writing file to ', 'specFile_20000060000769279_49612.3383_r.dat')\n",
      "('writing file to ', 'specFile_10000060003053975_49612.3383_r.dat')\n",
      "('writing file to ', 'specFile_30000060003511165_49612.3383_r.dat')\n",
      "('writing file to ', 'specFile_40000060000916875_49612.3383_r.dat')\n",
      "('writing file to ', 'specFile_40000060004268993_49612.3383_r.dat')\n",
      "('writing file to ', 'specFile_10000060003427577_49612.3383_r.dat')\n",
      "('writing file to ', 'specFile_70000060003427577_49612.3383_r.dat')\n",
      "('writing file to ', 'specFile_10000060001495166_49612.3383_r.dat')\n",
      "('writing file to ', 'specFile_60004232543_49612.3383_r.dat')\n",
      "('writing file to ', 'specFile_80000060011993219_49612.3383_r.dat')\n",
      "('writing file to ', 'specFile_60000060002019521_49612.3383_r.dat')\n",
      "('writing file to ', 'specFile_60004334959_49612.3383_r.dat')\n",
      "('writing file to ', 'specFile_20000060000232494_49612.3383_r.dat')\n",
      "('writing file to ', 'specFile_10000060001938122_49612.3383_r.dat')\n",
      "('writing file to ', 'specFile_10000060003050154_49612.3383_r.dat')\n",
      "('writing file to ', 'specFile_30000060002989864_49612.3383_r.dat')\n",
      "('writing file to ', 'specFile_60006063216_49612.3383_r.dat')\n",
      "('writing file to ', 'specFile_70000060009244981_49612.3383_r.dat')\n",
      "('writing file to ', 'specFile_10000060012132891_49612.3383_r.dat')\n",
      "('writing file to ', 'specFile_10000060000244045_49612.3383_r.dat')\n",
      "('writing file to ', 'specFile_20000060008995600_49612.3383_r.dat')\n",
      "('writing file to ', 'specFile_20000060006764732_49612.3383_r.dat')\n",
      "('writing file to ', 'specFile_70000060006764732_49612.3383_r.dat')\n",
      "('writing file to ', 'specFile_60006764732_49612.3383_r.dat')\n",
      "('writing file to ', 'specFile_60005941436_49612.3383_r.dat')\n",
      "('writing file to ', 'specFile_20000060006691508_49612.3383_r.dat')\n",
      "('writing file to ', 'specFile_60014962640_49612.3383_r.dat')\n",
      "('writing file to ', 'specFile_60000505069_49612.3383_r.dat')\n",
      "('writing file to ', 'specFile_50000060013765408_49612.3383_r.dat')\n",
      "('writing file to ', 'specFile_10000060013765408_49612.3383_r.dat')\n",
      "('writing file to ', 'specFile_60016146477_49612.3383_r.dat')\n",
      "('writing file to ', 'specFile_120000060000041160_49612.3383_r.dat')\n",
      "('writing file to ', 'specFile_20000060010906822_49612.3383_r.dat')\n",
      "('writing file to ', 'specFile_10000060003773607_49612.3383_r.dat')\n",
      "('writing file to ', 'specFile_40000060002894630_49612.3383_r.dat')\n",
      "('writing file to ', 'specFile_80000060006857397_49612.3383_r.dat')\n",
      "('writing file to ', 'specFile_10000060002837116_49612.3383_r.dat')\n",
      "('writing file to ', 'specFile_60007404992_49612.3383_r.dat')\n",
      "('writing file to ', 'specFile_100000060001547573_49612.3383_r.dat')\n",
      "('writing file to ', 'specFile_70000060013174313_49612.3383_r.dat')\n",
      "('writing file to ', 'specFile_10000060004953662_49612.3383_r.dat')\n",
      "('writing file to ', 'specFile_10000060011256797_49612.3383_r.dat')\n",
      "('writing file to ', 'specFile_50000060000184571_49612.3383_r.dat')\n",
      "('writing file to ', 'specFile_60006637991_49612.3383_r.dat')\n",
      "('writing file to ', 'specFile_30000060000024252_49612.3383_r.dat')\n",
      "('writing file to ', 'specFile_10000060000798517_49612.3383_r.dat')\n",
      "('writing file to ', 'specFile_60004024559_49612.3383_r.dat')\n",
      "('writing file to ', 'specFile_10000060004024559_49612.3383_r.dat')\n",
      "('writing file to ', 'specFile_60002025666_49612.3383_r.dat')\n",
      "('writing file to ', 'specFile_10000060002025666_49612.3383_r.dat')\n",
      "('writing file to ', 'specFile_60007137429_49612.3383_r.dat')\n",
      "('writing file to ', 'specFile_60008188134_49612.3383_r.dat')\n",
      "('writing file to ', 'specFile_60016437214_49612.3383_r.dat')\n",
      "('writing file to ', 'specFile_20000060013360097_49612.3383_r.dat')\n",
      "('writing file to ', 'specFile_40000060002439252_49612.3383_r.dat')\n",
      "('writing file to ', 'specFile_10000060015035174_49612.3383_r.dat')\n",
      "('writing file to ', 'specFile_20000060006061684_49612.3383_r.dat')\n",
      "('writing file to ', 'specFile_10000060001282735_49612.3383_r.dat')\n",
      "('writing file to ', 'specFile_60002118148_49612.3383_r.dat')\n",
      "('writing file to ', 'specFile_50000060006855814_49612.3383_r.dat')\n",
      "('writing file to ', 'specFile_40000060006855814_49612.3383_r.dat')\n",
      "('writing file to ', 'specFile_20000060006855814_49612.3383_r.dat')\n",
      "('writing file to ', 'specFile_60000153427_49612.3383_r.dat')\n",
      "('writing file to ', 'specFile_20000060002885863_49612.3383_r.dat')\n",
      "('writing file to ', 'specFile_70000060002885863_49612.3383_r.dat')\n",
      "('writing file to ', 'specFile_80000060000542255_49612.3383_r.dat')\n",
      "('writing file to ', 'specFile_10000060005153685_49612.3383_r.dat')\n",
      "('writing file to ', 'specFile_60007134974_49612.3383_r.dat')\n",
      "('writing file to ', 'specFile_60001345319_49612.3383_r.dat')\n",
      "('writing file to ', 'specFile_60000060001345319_49612.3383_r.dat')\n",
      "('writing file to ', 'specFile_20000060009821354_49612.3383_r.dat')\n",
      "('writing file to ', 'specFile_60001822139_49612.3383_r.dat')\n",
      "('writing file to ', 'specFile_90000060010874695_49612.3383_r.dat')\n",
      "('writing file to ', 'specFile_40000060001344085_49612.3383_r.dat')\n",
      "('writing file to ', 'specFile_90000060001344085_49612.3383_r.dat')\n",
      "('writing file to ', 'specFile_10000060001344085_49612.3383_r.dat')\n",
      "('writing file to ', 'specFile_20000060001787851_49612.3383_r.dat')\n",
      "('writing file to ', 'specFile_60007991227_49612.3383_r.dat')\n",
      "('writing file to ', 'specFile_60005010783_49612.3383_r.dat')\n",
      "('writing file to ', 'specFile_60004866653_49612.3383_r.dat')\n",
      "('writing file to ', 'specFile_40000060004866653_49612.3383_r.dat')\n",
      "('writing file to ', 'specFile_70000060004084620_49612.3383_r.dat')\n",
      "('writing file to ', 'specFile_80000060010767166_49612.3383_r.dat')\n",
      "('writing file to ', 'specFile_10000060010910715_49612.3383_r.dat')\n",
      "('writing file to ', 'specFile_30000060002059742_49612.3383_r.dat')\n",
      "('writing file to ', 'specFile_10000060010394377_49612.3383_r.dat')\n",
      "('writing file to ', 'specFile_60012913381_49612.3383_r.dat')\n",
      "('writing file to ', 'specFile_50000060012913381_49612.3383_r.dat')\n",
      "('writing file to ', 'specFile_100000060002388134_49612.3383_r.dat')\n",
      "('writing file to ', 'specFile_10000060009150218_49612.3383_r.dat')\n",
      "('writing file to ', 'specFile_10000060016048927_49612.3383_r.dat')\n",
      "('writing file to ', 'specFile_60001954970_49612.3383_r.dat')\n",
      "('writing file to ', 'specFile_20000060011083589_49612.3383_r.dat')\n",
      "('writing file to ', 'specFile_30000060010697432_49612.3383_r.dat')\n",
      "('writing file to ', 'specFile_40000060006870335_49612.3383_r.dat')\n",
      "('writing file to ', 'specFile_60001387019_49612.3383_r.dat')\n",
      "('writing file to ', 'specFile_60016666722_49612.3383_r.dat')\n",
      "('writing file to ', 'specFile_20000060011284003_49612.3383_r.dat')\n",
      "('writing file to ', 'specFile_80000060016048927_49612.3383_r.dat')\n",
      "('writing file to ', 'specFile_20000060010713983_49612.3383_r.dat')\n",
      "('writing file to ', 'specFile_60012978419_49612.3383_r.dat')\n",
      "('writing file to ', 'specFile_20000060006780715_49612.3383_r.dat')\n",
      "('writing file to ', 'specFile_60000652394_49612.3383_r.dat')\n",
      "('writing file to ', 'specFile_80000060006748761_49612.3383_r.dat')\n",
      "('writing file to ', 'specFile_20000060001327525_49612.3383_r.dat')\n",
      "('writing file to ', 'specFile_50000060010701237_49612.3383_r.dat')\n",
      "('writing file to ', 'specFile_20000060014722533_49612.3383_r.dat')\n",
      "('writing file to ', 'specFile_30000060001994132_49612.3383_r.dat')\n",
      "('writing file to ', 'specFile_50000060005747265_49612.3383_r.dat')\n",
      "('writing file to ', 'specFile_90000060005747265_49612.3383_r.dat')\n",
      "('writing file to ', 'specFile_10000060006058165_49612.3383_r.dat')\n",
      "('writing file to ', 'specFile_60004907469_49612.3383_r.dat')\n",
      "('writing file to ', 'specFile_50000060004907469_49612.3383_r.dat')\n",
      "('writing file to ', 'specFile_30000060016676300_49612.3383_r.dat')\n",
      "('writing file to ', 'specFile_60016676300_49612.3383_r.dat')\n",
      "('writing file to ', 'specFile_10000060013115678_49612.3383_r.dat')\n",
      "('writing file to ', 'specFile_60000629486_49612.3383_r.dat')\n",
      "('writing file to ', 'specFile_20000060013958685_49612.3383_r.dat')\n",
      "('writing file to ', 'specFile_30000060005744348_49612.3383_r.dat')\n",
      "('writing file to ', 'specFile_10000060005744348_49612.3383_r.dat')\n",
      "('writing file to ', 'specFile_20000060006823820_49612.3383_r.dat')\n",
      "('writing file to ', 'specFile_60005980813_49612.3383_r.dat')\n",
      "('writing file to ', 'specFile_50000060015591636_49612.3383_r.dat')\n",
      "('writing file to ', 'specFile_60009108597_49612.3383_r.dat')\n",
      "('writing file to ', 'specFile_30000060008683178_49612.3383_r.dat')\n",
      "('writing file to ', 'specFile_10000060005763474_49612.3383_r.dat')\n",
      "('writing file to ', 'specFile_60009242725_49612.3383_r.dat')\n",
      "('writing file to ', 'specFile_60000386571_49612.3383_r.dat')\n",
      "('writing file to ', 'specFile_20000060000385299_49612.3383_r.dat')\n",
      "('writing file to ', 'specFile_30000060009382912_49612.3383_r.dat')\n",
      "('writing file to ', 'specFile_30000060000727173_49612.3383_r.dat')\n",
      "('writing file to ', 'specFile_40000060000727173_49612.3383_r.dat')\n",
      "('writing file to ', 'specFile_20000060000052117_49612.3383_r.dat')\n",
      "('writing file to ', 'specFile_60000060009404602_49612.3383_r.dat')\n",
      "('writing file to ', 'specFile_30000060011991351_49612.3383_r.dat')\n",
      "('writing file to ', 'specFile_10000060009757398_49612.3383_r.dat')\n",
      "('writing file to ', 'specFile_80000060005848639_49612.3383_r.dat')\n",
      "('writing file to ', 'specFile_60005848639_49612.3383_r.dat')\n",
      "('writing file to ', 'specFile_40000060001371653_49612.3383_r.dat')\n",
      "('writing file to ', 'specFile_70000060001670683_49612.3383_r.dat')\n",
      "('writing file to ', 'specFile_20000060009725705_49612.3383_r.dat')\n",
      "('writing file to ', 'specFile_80000060005749870_49612.3383_r.dat')\n",
      "('writing file to ', 'specFile_30000060002414538_49612.3383_r.dat')\n",
      "('writing file to ', 'specFile_30000060008066204_49612.3383_r.dat')\n",
      "('writing file to ', 'specFile_30000060000133197_49612.3383_r.dat')\n",
      "('writing file to ', 'specFile_70000060004347798_49612.3383_r.dat')\n",
      "('writing file to ', 'specFile_20000060011256321_49612.3383_r.dat')\n",
      "('writing file to ', 'specFile_60004833253_49612.3383_r.dat')\n",
      "('writing file to ', 'specFile_20000060016787594_49612.3383_r.dat')\n",
      "('writing file to ', 'specFile_60008050629_49612.3383_r.dat')\n",
      "('writing file to ', 'specFile_10000060000113782_49612.3383_r.dat')\n",
      "('writing file to ', 'specFile_60000113782_49612.3383_r.dat')\n",
      "('writing file to ', 'specFile_60004946474_49612.3383_r.dat')\n",
      "('writing file to ', 'specFile_60000060006721105_49612.3383_r.dat')\n",
      "('writing file to ', 'specFile_10000060002002187_49612.3383_r.dat')\n",
      "('writing file to ', 'specFile_10000060009194475_49612.3383_r.dat')\n",
      "('writing file to ', 'specFile_40000060009194475_49612.3383_r.dat')\n",
      "('writing file to ', 'specFile_70000060009194475_49612.3383_r.dat')\n",
      "('writing file to ', 'specFile_60011532899_49612.3383_r.dat')\n",
      "('writing file to ', 'specFile_10000060010762899_49612.3383_r.dat')\n",
      "('writing file to ', 'specFile_60013281425_49612.3383_r.dat')\n",
      "('writing file to ', 'specFile_10000060014962202_49612.3383_r.dat')\n",
      "('writing file to ', 'specFile_30000060007129890_49612.3383_r.dat')\n",
      "('writing file to ', 'specFile_10000060004256560_49612.3383_r.dat')\n",
      "('writing file to ', 'specFile_60001743190_49612.3383_r.dat')\n",
      "('writing file to ', 'specFile_10000060012742830_49612.3383_r.dat')\n",
      "('writing file to ', 'specFile_60000060004069867_49612.3383_r.dat')\n",
      "('writing file to ', 'specFile_130000060007900094_49612.3383_r.dat')\n",
      "('writing file to ', 'specFile_80000060007900094_49612.3383_r.dat')\n",
      "('writing file to ', 'specFile_30000060003639863_49612.3383_r.dat')\n",
      "('writing file to ', 'specFile_50000060011043596_49612.3383_r.dat')\n",
      "('writing file to ', 'specFile_10000060000397908_49612.3383_r.dat')\n",
      "('writing file to ', 'specFile_60010830898_49612.3383_r.dat')\n",
      "('writing file to ', 'specFile_40000060006871385_49612.3383_r.dat')\n",
      "('writing file to ', 'specFile_20000060009796492_49612.3383_r.dat')\n",
      "('writing file to ', 'specFile_60006066515_49612.3383_r.dat')\n",
      "('writing file to ', 'specFile_10000060014125543_49612.3383_r.dat')\n",
      "('writing file to ', 'specFile_10000060012746627_49612.3383_r.dat')\n",
      "('writing file to ', 'specFile_30000060004174139_49612.3383_r.dat')\n",
      "('writing file to ', 'specFile_80000060004174139_49612.3383_r.dat')\n",
      "('writing file to ', 'specFile_60011284627_49612.3383_r.dat')\n",
      "('writing file to ', 'specFile_30000060011249692_49612.3383_r.dat')\n",
      "('writing file to ', 'specFile_30000060002858494_49612.3383_r.dat')\n",
      "('writing file to ', 'specFile_20000060009400238_49612.3383_r.dat')\n",
      "('writing file to ', 'specFile_20000060011035066_49612.3383_r.dat')\n",
      "('writing file to ', 'specFile_60005138846_49612.3383_r.dat')\n",
      "('writing file to ', 'specFile_20000060000347089_49612.3383_r.dat')\n",
      "('writing file to ', 'specFile_110000060010693287_49612.3383_r.dat')\n",
      "('writing file to ', 'specFile_20000060001125245_49612.3383_r.dat')\n",
      "('writing file to ', 'specFile_30000060000343992_49612.3383_r.dat')\n",
      "('writing file to ', 'specFile_60003575413_49612.3383_r.dat')\n",
      "('writing file to ', 'specFile_60013194260_49612.3383_r.dat')\n",
      "('writing file to ', 'specFile_10000060010888409_49612.3383_r.dat')\n",
      "('writing file to ', 'specFile_60012547699_49612.3383_r.dat')\n",
      "('writing file to ', 'specFile_100000060004174591_49612.3383_r.dat')\n",
      "('writing file to ', 'specFile_60005929734_49612.3383_r.dat')\n",
      "('writing file to ', 'specFile_90000060006796225_49612.3383_r.dat')\n",
      "('writing file to ', 'specFile_60011064415_49612.3383_r.dat')\n",
      "('writing file to ', 'specFile_10000060004933880_49612.3383_r.dat')\n",
      "('writing file to ', 'specFile_80000060009375525_49612.3383_r.dat')\n",
      "('writing file to ', 'specFile_10000060002379229_49612.3383_r.dat')\n",
      "('writing file to ', 'specFile_40000060005037941_49612.3383_r.dat')\n",
      "('writing file to ', 'specFile_30000060004140056_49612.3383_r.dat')\n",
      "('writing file to ', 'specFile_30000060002984580_49612.3383_r.dat')\n",
      "('writing file to ', 'specFile_10000060000005492_49612.3383_r.dat')\n",
      "('writing file to ', 'specFile_20000060005475109_49612.3383_r.dat')\n",
      "('writing file to ', 'specFile_60009147844_49612.3383_r.dat')\n",
      "('writing file to ', 'specFile_60006279360_49612.3383_r.dat')\n",
      "('writing file to ', 'specFile_90000060004122100_49612.3383_r.dat')\n",
      "('writing file to ', 'specFile_50000060009331880_49612.3383_r.dat')\n",
      "('writing file to ', 'specFile_60009225059_49612.3383_r.dat')\n",
      "('writing file to ', 'specFile_80000060004862866_49612.3383_r.dat')\n",
      "('writing file to ', 'specFile_100000060002875669_49612.3383_r.dat')\n",
      "('writing file to ', 'specFile_40000060004952005_49612.3383_r.dat')\n",
      "('writing file to ', 'specFile_60002104565_49612.3383_r.dat')\n",
      "('writing file to ', 'specFile_10000060000983025_49612.3383_r.dat')\n",
      "('writing file to ', 'specFile_20000060002089290_49612.3383_r.dat')\n",
      "('writing file to ', 'specFile_50000060010827307_49612.3383_r.dat')\n",
      "('writing file to ', 'specFile_60000060010827307_49612.3383_r.dat')\n",
      "('writing file to ', 'specFile_60009114268_49612.3383_r.dat')\n",
      "('writing file to ', 'specFile_120000060001551805_49612.3383_r.dat')\n",
      "('writing file to ', 'specFile_60004173717_49612.3383_r.dat')\n",
      "('writing file to ', 'specFile_60000203799_49612.3383_r.dat')\n",
      "('writing file to ', 'specFile_60007394729_49612.3383_r.dat')\n",
      "('writing file to ', 'specFile_50000060004081722_49612.3383_r.dat')\n",
      "('writing file to ', 'specFile_10000060013481585_49612.3383_r.dat')\n",
      "('writing file to ', 'specFile_10000060005143334_49612.3383_r.dat')\n",
      "('writing file to ', 'specFile_10000060005981391_49612.3383_r.dat')\n",
      "('writing file to ', 'specFile_50000060002380916_49612.3383_r.dat')\n",
      "('writing file to ', 'specFile_20000060010791496_49612.3383_r.dat')\n",
      "('writing file to ', 'specFile_60014107504_49612.3383_r.dat')\n",
      "('writing file to ', 'specFile_20000060004031638_49612.3383_r.dat')\n",
      "('writing file to ', 'specFile_40000060003431973_49612.3383_r.dat')\n",
      "('writing file to ', 'specFile_130000060003431973_49612.3383_r.dat')\n",
      "('writing file to ', 'specFile_50000060003431973_49612.3383_r.dat')\n",
      "('writing file to ', 'specFile_10000060015419758_49612.3383_r.dat')\n",
      "('writing file to ', 'specFile_70000060009202960_49612.3383_r.dat')\n",
      "('writing file to ', 'specFile_40000060002392554_49612.3383_r.dat')\n",
      "('writing file to ', 'specFile_60000060002392554_49612.3383_r.dat')\n",
      "('writing file to ', 'specFile_40000060016032882_49612.3383_r.dat')\n",
      "('writing file to ', 'specFile_40000060009405156_49612.3383_r.dat')\n",
      "('writing file to ', 'specFile_90000060009405156_49612.3383_r.dat')\n",
      "('writing file to ', 'specFile_10000060006967826_49612.3383_r.dat')\n",
      "('writing file to ', 'specFile_60006616811_49612.3383_r.dat')\n",
      "('writing file to ', 'specFile_10000060000896322_49612.3383_r.dat')\n",
      "('writing file to ', 'specFile_40000060006739146_49612.3383_r.dat')\n",
      "('writing file to ', 'specFile_10000060011652154_49612.3383_r.dat')\n",
      "('writing file to ', 'specFile_60012478208_49612.3383_r.dat')\n",
      "('writing file to ', 'specFile_20000060003355315_49612.3383_r.dat')\n",
      "('writing file to ', 'specFile_90000060005940918_49612.3383_r.dat')\n",
      "('writing file to ', 'specFile_70000060005940918_49612.3383_r.dat')\n",
      "('writing file to ', 'specFile_60007136671_49612.3383_r.dat')\n",
      "('writing file to ', 'specFile_60002210145_49612.3383_r.dat')\n",
      "('writing file to ', 'specFile_50000060002210145_49612.3383_r.dat')\n",
      "('writing file to ', 'specFile_60000654810_49612.3383_r.dat')\n",
      "('writing file to ', 'specFile_60006728595_49612.3383_r.dat')\n",
      "('writing file to ', 'specFile_30000060010104895_49612.3383_r.dat')\n",
      "('writing file to ', 'specFile_10000060002536132_49612.3383_r.dat')\n",
      "('writing file to ', 'specFile_60010747207_49612.3383_r.dat')\n",
      "('writing file to ', 'specFile_40000060002988520_49612.3383_r.dat')\n",
      "('writing file to ', 'specFile_20000060002052780_49612.3383_r.dat')\n",
      "('writing file to ', 'specFile_60000663641_49612.3383_r.dat')\n",
      "('writing file to ', 'specFile_60014939359_49612.3383_r.dat')\n",
      "('writing file to ', 'specFile_50000060000069055_49612.3383_r.dat')\n",
      "('writing file to ', 'specFile_70000060000900561_49612.3383_r.dat')\n",
      "('writing file to ', 'specFile_100000060000900561_49612.3383_r.dat')\n",
      "('writing file to ', 'specFile_10000060000900210_49612.3383_r.dat')\n",
      "('writing file to ', 'specFile_70000060010877974_49612.3383_r.dat')\n",
      "('writing file to ', 'specFile_20000060016325563_49612.3383_r.dat')\n",
      "('writing file to ', 'specFile_50000060001394286_49612.3383_r.dat')\n",
      "('writing file to ', 'specFile_60005131045_49612.3383_r.dat')\n",
      "('writing file to ', 'specFile_60000385221_49612.3383_r.dat')\n",
      "('writing file to ', 'specFile_20000060003629154_49612.3383_r.dat')\n",
      "('writing file to ', 'specFile_30000060002924999_49612.3383_r.dat')\n",
      "('writing file to ', 'specFile_10000060000092590_49612.3383_r.dat')\n",
      "('writing file to ', 'specFile_10000060009414754_49612.3383_r.dat')\n",
      "('writing file to ', 'specFile_40000060000001894_49612.3383_r.dat')\n",
      "('writing file to ', 'specFile_20000060008199642_49612.3383_r.dat')\n",
      "('writing file to ', 'specFile_50000060010900825_49612.3383_r.dat')\n",
      "('writing file to ', 'specFile_110000060000353432_49612.3383_r.dat')\n",
      "('writing file to ', 'specFile_70000060000729169_49612.3383_r.dat')\n",
      "('writing file to ', 'specFile_20000060002125567_49612.3383_r.dat')\n",
      "('writing file to ', 'specFile_120000060006776626_49612.3383_r.dat')\n",
      "('writing file to ', 'specFile_60006776626_49612.3383_r.dat')\n",
      "('writing file to ', 'specFile_60001614079_49612.3383_r.dat')\n",
      "('writing file to ', 'specFile_30000060000563996_49612.3383_r.dat')\n",
      "('writing file to ', 'specFile_20000060010533991_49612.3383_r.dat')\n",
      "('writing file to ', 'specFile_20000060007748954_49612.3383_r.dat')\n",
      "('writing file to ', 'specFile_60007748954_49612.3383_r.dat')\n",
      "('writing file to ', 'specFile_60000060008062044_49612.3383_r.dat')\n",
      "('writing file to ', 'specFile_10000060000257718_49612.3383_r.dat')\n",
      "('writing file to ', 'specFile_20000060000257718_49612.3383_r.dat')\n",
      "('writing file to ', 'specFile_60004144753_49612.3383_r.dat')\n",
      "('writing file to ', 'specFile_10000060002539842_49612.3383_r.dat')\n",
      "('writing file to ', 'specFile_60005049625_49612.3383_r.dat')\n",
      "('writing file to ', 'specFile_60002536272_49612.3383_r.dat')\n",
      "('writing file to ', 'specFile_10000060006072195_49612.3383_r.dat')\n",
      "('writing file to ', 'specFile_20000060002383968_49612.3383_r.dat')\n",
      "('writing file to ', 'specFile_50000060000727301_49612.3383_r.dat')\n",
      "('writing file to ', 'specFile_10000060010871346_49612.3383_r.dat')\n",
      "('writing file to ', 'specFile_60000060003421581_49612.3383_r.dat')\n",
      "('writing file to ', 'specFile_70000060003421581_49612.3383_r.dat')\n",
      "('writing file to ', 'specFile_10000060007005848_49612.3383_r.dat')\n",
      "('writing file to ', 'specFile_60007005848_49612.3383_r.dat')\n",
      "('writing file to ', 'specFile_40000060004858125_49612.3383_r.dat')\n",
      "('writing file to ', 'specFile_60004607796_49612.3383_r.dat')\n",
      "('writing file to ', 'specFile_30000060006766246_49612.3383_r.dat')\n",
      "('writing file to ', 'specFile_20000060000334463_49612.3383_r.dat')\n",
      "('writing file to ', 'specFile_10000060015729700_49612.3383_r.dat')\n",
      "('writing file to ', 'specFile_10000060016731172_49612.3383_r.dat')\n",
      "('writing file to ', 'specFile_40000060001096923_49612.3383_r.dat')\n",
      "('writing file to ', 'specFile_40000060007017702_49612.3383_r.dat')\n",
      "('writing file to ', 'specFile_10000060009138606_49612.3383_r.dat')\n",
      "('writing file to ', 'specFile_60000336882_49612.3383_r.dat')\n",
      "('writing file to ', 'specFile_60009574567_49612.3383_r.dat')\n",
      "('writing file to ', 'specFile_20000060013222403_49612.3383_r.dat')\n",
      "('writing file to ', 'specFile_20000060011245613_49612.3383_r.dat')\n",
      "('writing file to ', 'specFile_60001644993_49612.3383_r.dat')\n",
      "('writing file to ', 'specFile_30000060011020289_49612.3383_r.dat')\n",
      "('writing file to ', 'specFile_30000060005517161_49612.3383_r.dat')\n",
      "('writing file to ', 'specFile_80000060005517161_49612.3383_r.dat')\n",
      "('writing file to ', 'specFile_10000060007954575_49612.3383_r.dat')\n",
      "('writing file to ', 'specFile_10000060010489878_49612.3383_r.dat')\n"
     ]
    }
   ],
   "source": [
    "pc.write_catalog('SNPhoSimCatalog.dat')"
   ]
  },
  {
   "cell_type": "code",
   "execution_count": 47,
   "metadata": {
    "collapsed": false
   },
   "outputs": [
    {
     "name": "stdout",
     "output_type": "stream",
     "text": [
      "Opsim_obshistid 203482\r\n",
      "SIM_SEED 22406828\r\n",
      "Unrefracted_RA 53.0091385\r\n",
      "Unrefracted_Dec -27.4389488\r\n",
      "Opsim_moonra 324.684411\r\n",
      "Opsim_moondec -8.00760085\r\n",
      "Opsim_rotskypos 113.221044\r\n",
      "Opsim_filter 2\r\n",
      "Opsim_rawseeing 0.453714\r\n",
      "Opsim_sunalt -33.7055601\r\n"
     ]
    }
   ],
   "source": [
    "!head SNPhoSimCatalog.dat"
   ]
  },
  {
   "cell_type": "code",
   "execution_count": null,
   "metadata": {
    "collapsed": true
   },
   "outputs": [],
   "source": []
  }
 ],
 "metadata": {
  "kernelspec": {
   "display_name": "Python 2",
   "language": "python",
   "name": "python2"
  },
  "language_info": {
   "codemirror_mode": {
    "name": "ipython",
    "version": 2
   },
   "file_extension": ".py",
   "mimetype": "text/x-python",
   "name": "python",
   "nbconvert_exporter": "python",
   "pygments_lexer": "ipython2",
   "version": "2.7.11"
  }
 },
 "nbformat": 4,
 "nbformat_minor": 0
}
