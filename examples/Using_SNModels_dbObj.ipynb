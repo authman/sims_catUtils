{
 "cells": [
  {
   "cell_type": "code",
   "execution_count": 1,
   "metadata": {
    "collapsed": false
   },
   "outputs": [],
   "source": [
    "import numpy as np\n",
    "%matplotlib inline\n",
    "import matplotlib.pyplot as plt"
   ]
  },
  {
   "cell_type": "code",
   "execution_count": 2,
   "metadata": {
    "collapsed": false
   },
   "outputs": [],
   "source": [
    "from lsst.sims.catalogs.generation.db import CatalogDBObject\n",
    "from lsst.sims.catalogs.generation.db import CatalogDBObject"
   ]
  },
  {
   "cell_type": "code",
   "execution_count": 3,
   "metadata": {
    "collapsed": false
   },
   "outputs": [
    {
     "name": "stderr",
     "output_type": "stream",
     "text": [
      "/usr/local/manual/anaconda/lib/python2.7/site-packages/IPython/kernel/__init__.py:13: ShimWarning: The `IPython.kernel` package has been deprecated. You should import from ipykernel or jupyter_client instead.\n",
      "  \"You should import from ipykernel or jupyter_client instead.\", ShimWarning)\n",
      "Duplicate object type id 25 specified: \n",
      "Output object ids may not be unique.\n",
      "This may not be a problem if you do not want globally unique id values\n",
      "Duplicate object type id 40 specified: \n",
      "Output object ids may not be unique.\n",
      "This may not be a problem if you do not want globally unique id values\n",
      "Duplicate object type id 40 specified: \n",
      "Output object ids may not be unique.\n",
      "This may not be a problem if you do not want globally unique id values\n",
      "Duplicate object type id 40 specified: \n",
      "Output object ids may not be unique.\n",
      "This may not be a problem if you do not want globally unique id values\n",
      "Duplicate object type id 40 specified: \n",
      "Output object ids may not be unique.\n",
      "This may not be a problem if you do not want globally unique id values\n"
     ]
    }
   ],
   "source": [
    "import lsst.sims.catUtils.baseCatalogModels as bcm\n",
    "from lsst.sims.catUtils.baseCatalogModels import GalaxyTileObj\n",
    "from lsst.sims.catalogs.measures.instance import InstanceCatalog\n",
    "from lsst.sims.utils import ObservationMetaData\n",
    "\n"
   ]
  },
  {
   "cell_type": "code",
   "execution_count": 4,
   "metadata": {
    "collapsed": false
   },
   "outputs": [],
   "source": [
    "from lsst.sims.catUtils.baseCatalogModels import SNObj"
   ]
  },
  {
   "cell_type": "code",
   "execution_count": 5,
   "metadata": {
    "collapsed": false
   },
   "outputs": [],
   "source": [
    "s  = SNObj()"
   ]
  },
  {
   "cell_type": "code",
   "execution_count": 6,
   "metadata": {
    "collapsed": false
   },
   "outputs": [
    {
     "name": "stderr",
     "output_type": "stream",
     "text": [
      "/usr/local/manual/anaconda/lib/python2.7/site-packages/sqlalchemy/dialects/mssql/base.py:1294: SAWarning: Did not recognize type 'geography' of column 'geopoint'\n",
      "  return fn(*arg, **kw)\n",
      "/usr/local/manual/anaconda/lib/python2.7/site-packages/sqlalchemy/dialects/mssql/base.py:1294: SAWarning: Did not recognize type 'geography' of column 'geocenter'\n",
      "  return fn(*arg, **kw)\n",
      "/usr/local/manual/anaconda/lib/python2.7/site-packages/sqlalchemy/dialects/mssql/base.py:1294: SAWarning: Did not recognize type 'geography' of column 'geobox'\n",
      "  return fn(*arg, **kw)\n"
     ]
    }
   ],
   "source": [
    "names = s.get_column_names()"
   ]
  },
  {
   "cell_type": "code",
   "execution_count": 7,
   "metadata": {
    "collapsed": false
   },
   "outputs": [
    {
     "name": "stdout",
     "output_type": "stream",
     "text": [
      "TwinkSN\n"
     ]
    }
   ],
   "source": [
    "for key in names:\n",
    "    if 'snra' in names[key]:\n",
    "        print key"
   ]
  },
  {
   "cell_type": "code",
   "execution_count": 8,
   "metadata": {
    "collapsed": false
   },
   "outputs": [
    {
     "name": "stdout",
     "output_type": "stream",
     "text": [
      "['galtileid', 'htmid', 'snid', 't0', 'c', 'x1', 'x0', 'redshift', 'snra', 'sndec', 'cx', 'cy', 'cz']\n"
     ]
    }
   ],
   "source": [
    "print names['TwinkSN']"
   ]
  },
  {
   "cell_type": "code",
   "execution_count": 9,
   "metadata": {
    "collapsed": false
   },
   "outputs": [],
   "source": [
    "class SNCopy(InstanceCatalog):\n",
    "    \n",
    "    column_outputs = ['raJ2000', 'decJ2000', 'snid', 'galtileid','t0', 'x0', 'x1', 'c', 'redshift', ]\n",
    "    override_formats = {'raJ2000': '%8e', 'decJ2000': '%8e', 'x0':'%8e'}\n",
    "                        #'x0':'%8e', 'x1':'%8e', 'c':'%8e', 't0':'%8e'}\n",
    "        \n",
    "class TSNCopy(InstanceCatalog):\n",
    "    \n",
    "    column_outputs = ['raJ2000', 'decJ2000', 'Tsnid', 'Tgaltileid','Tt0', 'Tx0', 'Tx1', 'Tc', 'Tredshift', ]\n",
    "    override_formats = {'raJ2000': '%8e', 'decJ2000': '%8e', 'x0':'%8e'}\n",
    "\n"
   ]
  },
  {
   "cell_type": "code",
   "execution_count": 10,
   "metadata": {
    "collapsed": false
   },
   "outputs": [],
   "source": [
    "degConv = np.array([1., 1./60., 1./3600.])\n",
    "raConv = degConv / 24.0 * 360.\n",
    "centralRA = np.dot(np.array([3., 32., 30]), raConv) #03h 32m 30s\n",
    "centralDec = np.dot(np.array([-28, 6., 0.]), degConv)\n",
    "patchRadius = 0.4 * np.sqrt(2) #np.dot(np.array([0.0, 10.0, 0.]), degConv)"
   ]
  },
  {
   "cell_type": "code",
   "execution_count": 11,
   "metadata": {
    "collapsed": false
   },
   "outputs": [],
   "source": [
    "TwinklesObsMetaDataSmall = ObservationMetaData(boundType='circle',pointingRA=centralRA,pointingDec=centralDec,\n",
    "                                          boundLength=0.15, mjd=60703.0, bandpassName='r', m5=23.)"
   ]
  },
  {
   "cell_type": "code",
   "execution_count": 12,
   "metadata": {
    "collapsed": false
   },
   "outputs": [
    {
     "data": {
      "text/plain": [
       "'r'"
      ]
     },
     "execution_count": 12,
     "metadata": {},
     "output_type": "execute_result"
    }
   ],
   "source": [
    "TwinklesObsMetaDataSmall.bandpass"
   ]
  },
  {
   "cell_type": "code",
   "execution_count": 13,
   "metadata": {
    "collapsed": false
   },
   "outputs": [],
   "source": [
    "#tsmall = SNCopy(db_obj=s, obs_metadata=TwinklesObsMetaDataSmall)"
   ]
  },
  {
   "cell_type": "code",
   "execution_count": 14,
   "metadata": {
    "collapsed": false
   },
   "outputs": [],
   "source": [
    "#tsmall.write_catalog('TwinklesSN.dat')"
   ]
  },
  {
   "cell_type": "code",
   "execution_count": 15,
   "metadata": {
    "collapsed": false
   },
   "outputs": [],
   "source": [
    "#!wc -l TwinklesSN.dat"
   ]
  },
  {
   "cell_type": "code",
   "execution_count": 16,
   "metadata": {
    "collapsed": false
   },
   "outputs": [],
   "source": [
    "#!head TwinklesSN.dat"
   ]
  },
  {
   "cell_type": "code",
   "execution_count": 17,
   "metadata": {
    "collapsed": true
   },
   "outputs": [],
   "source": [
    "#Ttsmall = TSNCopy(db_obj=s, obs_metadata=TwinklesObsMetaDataSmall)"
   ]
  },
  {
   "cell_type": "code",
   "execution_count": 18,
   "metadata": {
    "collapsed": true
   },
   "outputs": [],
   "source": [
    "#Ttsmall.write_catalog('TTwinklesSN.dat')"
   ]
  },
  {
   "cell_type": "code",
   "execution_count": 19,
   "metadata": {
    "collapsed": false
   },
   "outputs": [],
   "source": [
    "#!head TTwinklesSN.dat"
   ]
  },
  {
   "cell_type": "code",
   "execution_count": 20,
   "metadata": {
    "collapsed": false
   },
   "outputs": [],
   "source": [
    "from lsst.sims.catUtils.mixins import TwinkSNCat"
   ]
  },
  {
   "cell_type": "code",
   "execution_count": 21,
   "metadata": {
    "collapsed": false
   },
   "outputs": [
    {
     "data": {
      "text/plain": [
       "'r'"
      ]
     },
     "execution_count": 21,
     "metadata": {},
     "output_type": "execute_result"
    }
   ],
   "source": [
    "TwinklesObsMetaDataSmall.bandpass"
   ]
  },
  {
   "cell_type": "code",
   "execution_count": 22,
   "metadata": {
    "collapsed": false
   },
   "outputs": [
    {
     "name": "stdout",
     "output_type": "stream",
     "text": [
      "('badvalues ', nan)\n",
      "('mjd ', 60703.0)\n",
      "('maxTime', 100.0)\n",
      "('number of cases ', 0)\n"
     ]
    }
   ],
   "source": [
    "sncatalog = TwinkSNCat(db_obj=s, obs_metadata=TwinklesObsMetaDataSmall, \n",
    "                         column_outputs=['snra', 'sndec', 'Tsnid', 'Tx0', 'Tt0', 'flux', 'flux_err', 'mag', 'mag_err'])"
   ]
  },
  {
   "cell_type": "code",
   "execution_count": 23,
   "metadata": {
    "collapsed": false
   },
   "outputs": [
    {
     "data": {
      "text/plain": [
       "True"
      ]
     },
     "execution_count": 23,
     "metadata": {},
     "output_type": "execute_result"
    }
   ],
   "source": [
    "sncatalog.suppressDimSN "
   ]
  },
  {
   "cell_type": "code",
   "execution_count": 24,
   "metadata": {
    "collapsed": false
   },
   "outputs": [
    {
     "name": "stdout",
     "output_type": "stream",
     "text": [
      "('badvalues ', nan)\n",
      "('mjd ', 60703.0)\n",
      "('maxTime', 100.0)\n",
      "('number of cases ', 0)\n",
      "('badvalues ', nan)"
     ]
    },
    {
     "name": "stderr",
     "output_type": "stream",
     "text": [
      "/Users/rbiswas/src/LSST/sims_catutils/python/lsst/sims/catUtils/supernovae/snObject.py:548: RuntimeWarning: divide by zero encountered in log10\n",
      "  return -2.5 * np.log10(fluxinMaggies)\n",
      "/Users/rbiswas/src/LSST/sims_photutils/python/lsst/sims/photUtils/SignalToNoise.py:356: RuntimeWarning: divide by zero encountered in double_scalars\n",
      "  fluxRatio = m5Flux/sourceFlux\n",
      "/Users/rbiswas/src/LSST/sims_catutils/python/lsst/sims/catUtils/supernovae/snObject.py:592: RuntimeWarning: invalid value encountered in double_scalars\n",
      "  return fluxinMaggies / SNR\n",
      "/Users/rbiswas/src/LSST/sims_photutils/python/lsst/sims/photUtils/SignalToNoise.py:258: RuntimeWarning: divide by zero encountered in double_scalars\n",
      "  return 2.5*numpy.log10(1.0+1.0/snr)\n",
      "/Users/rbiswas/src/LSST/sims_catutils/python/lsst/sims/catUtils/supernovae/snObject.py:548: RuntimeWarning: invalid value encountered in log10\n",
      "  return -2.5 * np.log10(fluxinMaggies)\n"
     ]
    },
    {
     "name": "stdout",
     "output_type": "stream",
     "text": [
      "\n",
      "('mjd ', 60703.0)\n",
      "('maxTime', 100.0)\n",
      "('number of cases ', 48186)\n"
     ]
    }
   ],
   "source": [
    "sncatalog.write_catalog('newcat.dat')"
   ]
  },
  {
   "cell_type": "code",
   "execution_count": 25,
   "metadata": {
    "collapsed": false
   },
   "outputs": [
    {
     "name": "stdout",
     "output_type": "stream",
     "text": [
      "    2738 newcat.dat\r\n"
     ]
    }
   ],
   "source": [
    "!wc -l newcat.dat"
   ]
  },
  {
   "cell_type": "code",
   "execution_count": 26,
   "metadata": {
    "collapsed": true
   },
   "outputs": [],
   "source": [
    "import pandas as pd"
   ]
  },
  {
   "cell_type": "code",
   "execution_count": 38,
   "metadata": {
    "collapsed": false
   },
   "outputs": [
    {
     "name": "stderr",
     "output_type": "stream",
     "text": [
      "/usr/local/manual/anaconda/lib/python2.7/site-packages/ipykernel/__main__.py:1: ParserWarning: Falling back to the 'python' engine because the 'c' engine does not support regex separators; you can avoid this warning by specifying engine='python'.\n",
      "  if __name__ == '__main__':\n"
     ]
    }
   ],
   "source": [
    "df = pd.read_csv('newcat.dat', sep=',\\s+')\n",
    "df.rename(columns={'#snid':'snid'}, inplace=True)"
   ]
  },
  {
   "cell_type": "code",
   "execution_count": 39,
   "metadata": {
    "collapsed": false
   },
   "outputs": [
    {
     "data": {
      "text/plain": [
       "60703.0"
      ]
     },
     "execution_count": 39,
     "metadata": {},
     "output_type": "execute_result"
    }
   ],
   "source": [
    "sncatalog.mjdobs"
   ]
  },
  {
   "cell_type": "code",
   "execution_count": 40,
   "metadata": {
    "collapsed": false
   },
   "outputs": [
    {
     "data": {
      "text/plain": [
       "<matplotlib.axes._subplots.AxesSubplot at 0x119682f50>"
      ]
     },
     "execution_count": 40,
     "metadata": {},
     "output_type": "execute_result"
    },
    {
     "data": {
      "image/png": "[encoded data removed]",
      "text/plain": [
       "<matplotlib.figure.Figure at 0x1151fd1d0>"
      ]
     },
     "metadata": {},
     "output_type": "display_data"
    }
   ],
   "source": [
    "df.Tt0.hist(bins=4000)"
   ]
  },
  {
   "cell_type": "code",
   "execution_count": 41,
   "metadata": {
    "collapsed": false
   },
   "outputs": [
    {
     "data": {
      "text/html": [
       "<div>\n",
       "<table border=\"1\" class=\"dataframe\">\n",
       "  <thead>\n",
       "    <tr style=\"text-align: right;\">\n",
       "      <th></th>\n",
       "      <th>snid</th>\n",
       "      <th>snra</th>\n",
       "      <th>sndec</th>\n",
       "      <th>z</th>\n",
       "      <th>t0</th>\n",
       "      <th>c</th>\n",
       "      <th>x1</th>\n",
       "      <th>x0</th>\n",
       "      <th>Tsnid</th>\n",
       "      <th>Tx0</th>\n",
       "      <th>Tt0</th>\n",
       "      <th>flux</th>\n",
       "      <th>flux_err</th>\n",
       "      <th>mag</th>\n",
       "      <th>mag_err</th>\n",
       "      <th>DeltaT</th>\n",
       "      <th>SNR</th>\n",
       "    </tr>\n",
       "  </thead>\n",
       "  <tbody>\n",
       "    <tr>\n",
       "      <th>0</th>\n",
       "      <td>6.000015e+10</td>\n",
       "      <td>0.927020</td>\n",
       "      <td>-0.485500</td>\n",
       "      <td>0.6332</td>\n",
       "      <td>60611.8773</td>\n",
       "      <td>-0.178086</td>\n",
       "      <td>-1.1921</td>\n",
       "      <td>0.000009</td>\n",
       "      <td>6.000015e+10</td>\n",
       "      <td>0.0000</td>\n",
       "      <td>1031.8773</td>\n",
       "      <td>0.000000e+00</td>\n",
       "      <td>NaN</td>\n",
       "      <td>inf</td>\n",
       "      <td>inf</td>\n",
       "      <td>91.1227</td>\n",
       "      <td>NaN</td>\n",
       "    </tr>\n",
       "    <tr>\n",
       "      <th>1</th>\n",
       "      <td>1.000006e+16</td>\n",
       "      <td>0.926962</td>\n",
       "      <td>-0.485504</td>\n",
       "      <td>0.4054</td>\n",
       "      <td>60621.6185</td>\n",
       "      <td>-0.009385</td>\n",
       "      <td>0.6193</td>\n",
       "      <td>0.000021</td>\n",
       "      <td>1.000006e+16</td>\n",
       "      <td>0.0000</td>\n",
       "      <td>1041.6185</td>\n",
       "      <td>0.000000e+00</td>\n",
       "      <td>NaN</td>\n",
       "      <td>inf</td>\n",
       "      <td>inf</td>\n",
       "      <td>81.3815</td>\n",
       "      <td>NaN</td>\n",
       "    </tr>\n",
       "    <tr>\n",
       "      <th>2</th>\n",
       "      <td>6.001344e+10</td>\n",
       "      <td>0.927382</td>\n",
       "      <td>-0.485643</td>\n",
       "      <td>0.2033</td>\n",
       "      <td>60757.6829</td>\n",
       "      <td>0.039469</td>\n",
       "      <td>1.2090</td>\n",
       "      <td>0.000092</td>\n",
       "      <td>6.001344e+10</td>\n",
       "      <td>0.0001</td>\n",
       "      <td>1177.6829</td>\n",
       "      <td>0.000000e+00</td>\n",
       "      <td>NaN</td>\n",
       "      <td>inf</td>\n",
       "      <td>inf</td>\n",
       "      <td>-54.6829</td>\n",
       "      <td>NaN</td>\n",
       "    </tr>\n",
       "    <tr>\n",
       "      <th>3</th>\n",
       "      <td>6.000609e+10</td>\n",
       "      <td>0.926946</td>\n",
       "      <td>-0.485451</td>\n",
       "      <td>0.6700</td>\n",
       "      <td>60667.7377</td>\n",
       "      <td>0.211799</td>\n",
       "      <td>-0.1918</td>\n",
       "      <td>0.000004</td>\n",
       "      <td>6.000609e+10</td>\n",
       "      <td>0.0000</td>\n",
       "      <td>1087.7377</td>\n",
       "      <td>2.601465e-11</td>\n",
       "      <td>1.258312e-10</td>\n",
       "      <td>26.462000</td>\n",
       "      <td>1.915469</td>\n",
       "      <td>35.2623</td>\n",
       "      <td>0.206742</td>\n",
       "    </tr>\n",
       "    <tr>\n",
       "      <th>4</th>\n",
       "      <td>1.000006e+16</td>\n",
       "      <td>0.926933</td>\n",
       "      <td>-0.485462</td>\n",
       "      <td>0.5364</td>\n",
       "      <td>60612.2410</td>\n",
       "      <td>-0.011081</td>\n",
       "      <td>-0.9979</td>\n",
       "      <td>0.000010</td>\n",
       "      <td>1.000006e+16</td>\n",
       "      <td>0.0000</td>\n",
       "      <td>1032.2410</td>\n",
       "      <td>0.000000e+00</td>\n",
       "      <td>NaN</td>\n",
       "      <td>inf</td>\n",
       "      <td>inf</td>\n",
       "      <td>90.7590</td>\n",
       "      <td>NaN</td>\n",
       "    </tr>\n",
       "  </tbody>\n",
       "</table>\n",
       "</div>"
      ],
      "text/plain": [
       "           snid      snra     sndec       z          t0         c      x1  \\\n",
       "0  6.000015e+10  0.927020 -0.485500  0.6332  60611.8773 -0.178086 -1.1921   \n",
       "1  1.000006e+16  0.926962 -0.485504  0.4054  60621.6185 -0.009385  0.6193   \n",
       "2  6.001344e+10  0.927382 -0.485643  0.2033  60757.6829  0.039469  1.2090   \n",
       "3  6.000609e+10  0.926946 -0.485451  0.6700  60667.7377  0.211799 -0.1918   \n",
       "4  1.000006e+16  0.926933 -0.485462  0.5364  60612.2410 -0.011081 -0.9979   \n",
       "\n",
       "         x0         Tsnid     Tx0        Tt0          flux      flux_err  \\\n",
       "0  0.000009  6.000015e+10  0.0000  1031.8773  0.000000e+00           NaN   \n",
       "1  0.000021  1.000006e+16  0.0000  1041.6185  0.000000e+00           NaN   \n",
       "2  0.000092  6.001344e+10  0.0001  1177.6829  0.000000e+00           NaN   \n",
       "3  0.000004  6.000609e+10  0.0000  1087.7377  2.601465e-11  1.258312e-10   \n",
       "4  0.000010  1.000006e+16  0.0000  1032.2410  0.000000e+00           NaN   \n",
       "\n",
       "         mag   mag_err   DeltaT       SNR  \n",
       "0        inf       inf  91.1227       NaN  \n",
       "1        inf       inf  81.3815       NaN  \n",
       "2        inf       inf -54.6829       NaN  \n",
       "3  26.462000  1.915469  35.2623  0.206742  \n",
       "4        inf       inf  90.7590       NaN  "
      ]
     },
     "execution_count": 41,
     "metadata": {},
     "output_type": "execute_result"
    }
   ],
   "source": [
    "df['DeltaT'] = sncatalog.mjdobs - df['t0']\n",
    "df['SNR'] = df.flux / df.flux_err\n",
    "df.head()"
   ]
  },
  {
   "cell_type": "code",
   "execution_count": 43,
   "metadata": {
    "collapsed": false
   },
   "outputs": [
    {
     "data": {
      "text/plain": [
       "153"
      ]
     },
     "execution_count": 43,
     "metadata": {},
     "output_type": "execute_result"
    }
   ],
   "source": [
    "df.query('SNR > 5.').SNR.size"
   ]
  }
 ],
 "metadata": {
  "kernelspec": {
   "display_name": "Python 2",
   "language": "python",
   "name": "python2"
  },
  "language_info": {
   "codemirror_mode": {
    "name": "ipython",
    "version": 2
   },
   "file_extension": ".py",
   "mimetype": "text/x-python",
   "name": "python",
   "nbconvert_exporter": "python",
   "pygments_lexer": "ipython2",
   "version": "2.7.11"
  }
 },
 "nbformat": 4,
 "nbformat_minor": 0
}
