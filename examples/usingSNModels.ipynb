{
 "cells": [
  {
   "cell_type": "code",
   "execution_count": 1,
   "metadata": {
    "collapsed": false
   },
   "outputs": [
    {
     "name": "stderr",
     "output_type": "stream",
     "text": [
      "/usr/local/manual/anaconda/lib/python2.7/site-packages/matplotlib/__init__.py:872: UserWarning: axes.color_cycle is deprecated and replaced with axes.prop_cycle; please use the latter.\n",
      "  warnings.warn(self.msg_depr % (key, alt_key))\n"
     ]
    }
   ],
   "source": [
    "import os\n",
    "import numpy as np\n",
    "import time\n",
    "%matplotlib inline\n",
    "import matplotlib.pyplot as plt\n",
    "import pandas as pd\n",
    "import matplotlib.patches  as mpatches\n",
    "import matplotlib\n",
    "import seaborn as sns\n",
    "sns.set()"
   ]
  },
  {
   "cell_type": "code",
   "execution_count": 2,
   "metadata": {
    "collapsed": false
   },
   "outputs": [],
   "source": [
    "from lsst.sims.catalogs.generation.db import CatalogDBObject\n",
    "from lsst.sims.catalogs.generation.db import CatalogDBObject"
   ]
  },
  {
   "cell_type": "code",
   "execution_count": 3,
   "metadata": {
    "collapsed": false
   },
   "outputs": [
    {
     "name": "stderr",
     "output_type": "stream",
     "text": [
      "Duplicate object type id 25 specified: \n",
      "Output object ids may not be unique.\n",
      "This may not be a problem if you do not want globally unique id values\n",
      "Duplicate object type id 40 specified: \n",
      "Output object ids may not be unique.\n",
      "This may not be a problem if you do not want globally unique id values\n",
      "Duplicate object type id 40 specified: \n",
      "Output object ids may not be unique.\n",
      "This may not be a problem if you do not want globally unique id values\n",
      "Duplicate object type id 40 specified: \n",
      "Output object ids may not be unique.\n",
      "This may not be a problem if you do not want globally unique id values\n",
      "Duplicate object type id 40 specified: \n",
      "Output object ids may not be unique.\n",
      "This may not be a problem if you do not want globally unique id values\n"
     ]
    }
   ],
   "source": [
    "import lsst.sims.catUtils.baseCatalogModels as bcm\n",
    "from lsst.sims.catalogs.measures.instance import InstanceCatalog\n",
    "from lsst.sims.utils import ObservationMetaData"
   ]
  },
  {
   "cell_type": "code",
   "execution_count": 4,
   "metadata": {
    "collapsed": false
   },
   "outputs": [],
   "source": [
    "from lsst.sims.catUtils.baseCatalogModels import GalaxyTileObj, GalaxyDiskObj\n",
    "from lsst.sims.catUtils.baseCatalogModels import SNObj\n",
    "from lsst.sims.catUtils.mixins import FrozenSNCat"
   ]
  },
  {
   "cell_type": "code",
   "execution_count": 7,
   "metadata": {
    "collapsed": false
   },
   "outputs": [],
   "source": [
    "s  = SNObj(table='TwinkSN')"
   ]
  },
  {
   "cell_type": "code",
   "execution_count": 20,
   "metadata": {
    "collapsed": true
   },
   "outputs": [],
   "source": [
    "sk  = SNObj(table='TwinkSNKraken')"
   ]
  },
  {
   "cell_type": "markdown",
   "metadata": {},
   "source": [
    "## ObsMetaData"
   ]
  },
  {
   "cell_type": "code",
   "execution_count": 21,
   "metadata": {
    "collapsed": true
   },
   "outputs": [],
   "source": [
    "from lsst.sims.catUtils.utils import ObservationMetaDataGenerator"
   ]
  },
  {
   "cell_type": "code",
   "execution_count": 22,
   "metadata": {
    "collapsed": false
   },
   "outputs": [],
   "source": [
    "degConv = np.array([1., 1./60., 1./3600.])\n",
    "raConv = degConv / 24.0 * 360.\n",
    "centralRA = np.dot(np.array([3., 32., 30]), raConv) #03h 32m 30s\n",
    "centralDec = np.dot(np.array([-28, 6., 0.]), degConv)\n",
    "patchRadius = 0.4 * np.sqrt(2) #np.dot(np.array([0.0, 10.0, 0.]), degConv)"
   ]
  },
  {
   "cell_type": "code",
   "execution_count": 23,
   "metadata": {
    "collapsed": true
   },
   "outputs": [],
   "source": [
    "opsimPath = os.path.join('/Users/rbiswas/data/LSST/OpSimData')\n",
    "opsimDB = os.path.join(opsimPath,'enigma_1189_sqlite.db')"
   ]
  },
  {
   "cell_type": "code",
   "execution_count": 24,
   "metadata": {
    "collapsed": true
   },
   "outputs": [],
   "source": [
    "generator = ObservationMetaDataGenerator(driver='sqlite', database=opsimDB) #database = opsimPath, driver='sqlite')\n",
    "obsMetaDataResults = generator.getObservationMetaData(limit=1000,\n",
    "                                                      fieldRA=(centralRA - 2.0, centralRA + 2.0), \n",
    "                                                      fieldDec=(centralDec - 2.0, centralDec + 2.0),\n",
    "                                                      expMJD=(49500., 49690.),\n",
    "                                                      boundLength=0.05,\n",
    "                                                      boundType='circle')"
   ]
  },
  {
   "cell_type": "code",
   "execution_count": 25,
   "metadata": {
    "collapsed": false
   },
   "outputs": [],
   "source": [
    "_ = [(obsMetaDataResults.index(x), x.mjd.TAI) for x in obsMetaDataResults if x.bandpass == 'r']"
   ]
  },
  {
   "cell_type": "code",
   "execution_count": 26,
   "metadata": {
    "collapsed": false
   },
   "outputs": [
    {
     "data": {
      "text/plain": [
       "['__class__',\n",
       " '__delattr__',\n",
       " '__dict__',\n",
       " '__doc__',\n",
       " '__format__',\n",
       " '__getattribute__',\n",
       " '__hash__',\n",
       " '__init__',\n",
       " '__module__',\n",
       " '__new__',\n",
       " '__reduce__',\n",
       " '__reduce_ex__',\n",
       " '__repr__',\n",
       " '__setattr__',\n",
       " '__sizeof__',\n",
       " '__slotnames__',\n",
       " '__str__',\n",
       " '__subclasshook__',\n",
       " '__weakref__',\n",
       " '_assignDictKeyedToBandpass',\n",
       " '_assignPhoSimMetaData',\n",
       " '_bandpass',\n",
       " '_boundLength',\n",
       " '_boundType',\n",
       " '_bounds',\n",
       " '_buildBounds',\n",
       " '_epoch',\n",
       " '_m5',\n",
       " '_mjd',\n",
       " '_phoSimMetaData',\n",
       " '_pointingDec',\n",
       " '_pointingRA',\n",
       " '_rotSkyPos',\n",
       " '_seeing',\n",
       " '_site',\n",
       " '_skyBrightness',\n",
       " 'bandpass',\n",
       " 'boundLength',\n",
       " 'boundType',\n",
       " 'bounds',\n",
       " 'm5',\n",
       " 'mjd',\n",
       " 'phoSimMetaData',\n",
       " 'pointingDec',\n",
       " 'pointingRA',\n",
       " 'rotSkyPos',\n",
       " 'seeing',\n",
       " 'setBandpassM5andSeeing',\n",
       " 'site',\n",
       " 'skyBrightness',\n",
       " 'summary']"
      ]
     },
     "execution_count": 26,
     "metadata": {},
     "output_type": "execute_result"
    }
   ],
   "source": [
    "dir(obsMetaDataResults[0])"
   ]
  },
  {
   "cell_type": "code",
   "execution_count": 14,
   "metadata": {
    "collapsed": true
   },
   "outputs": [],
   "source": [
    "TwinklesObsMetaDataSmall = obsMetaDataResults[35]\n",
    "TwinklesObsMetaDataSmall2 = obsMetaDataResults[145]\n",
    "TwinklesObsMetaDataSmall3 = obsMetaDataResults[390]"
   ]
  },
  {
   "cell_type": "code",
   "execution_count": 15,
   "metadata": {
    "collapsed": false
   },
   "outputs": [
    {
     "name": "stdout",
     "output_type": "stream",
     "text": [
      "(53.009138473031555, 53.009138473031555, 53.009138473031555)\n"
     ]
    }
   ],
   "source": [
    "print (TwinklesObsMetaDataSmall.pointingRA, TwinklesObsMetaDataSmall2.pointingRA, TwinklesObsMetaDataSmall3.pointingRA)"
   ]
  },
  {
   "cell_type": "code",
   "execution_count": 16,
   "metadata": {
    "collapsed": false
   },
   "outputs": [],
   "source": [
    "class TSNCopy(InstanceCatalog):\n",
    "    \n",
    "    column_outputs = ['raJ2000', 'decJ2000', 'snid', 'Tgaltileid','Tt0', 'Tx0', 'Tx1', 'Tc', 'Tredshift', ]\n",
    "    override_formats = {'raJ2000': '%8e', 'decJ2000': '%8e', 'x0':'%8e'}"
   ]
  },
  {
   "cell_type": "code",
   "execution_count": 17,
   "metadata": {
    "collapsed": false
   },
   "outputs": [],
   "source": [
    "Ttsmall = TSNCopy(db_obj=s, obs_metadata=TwinklesObsMetaDataSmall)\n",
    "Ttsmall.write_catalog('TTwinklesSN.dat')"
   ]
  },
  {
   "cell_type": "code",
   "execution_count": 28,
   "metadata": {
    "collapsed": true
   },
   "outputs": [],
   "source": [
    "Ttksmall = TSNCopy(db_obj=sk, obs_metadata=TwinklesObsMetaDataSmall)\n",
    "Ttksmall.write_catalog('TkTwinklesSN.dat')"
   ]
  },
  {
   "cell_type": "code",
   "execution_count": 34,
   "metadata": {
    "collapsed": false
   },
   "outputs": [
    {
     "name": "stderr",
     "output_type": "stream",
     "text": [
      "/usr/local/manual/anaconda/lib/python2.7/site-packages/ipykernel/__main__.py:1: ParserWarning: Falling back to the 'python' engine because the 'c' engine does not support regex separators; you can avoid this warning by specifying engine='python'.\n",
      "  if __name__ == '__main__':\n",
      "/usr/local/manual/anaconda/lib/python2.7/site-packages/ipykernel/__main__.py:2: ParserWarning: Falling back to the 'python' engine because the 'c' engine does not support regex separators; you can avoid this warning by specifying engine='python'.\n",
      "  from ipykernel import kernelapp as app\n"
     ]
    }
   ],
   "source": [
    "TTSNdf = pd.read_csv('TTwinklesSN.dat', sep=',\\s+')\n",
    "TkTSNdf = pd.read_csv('TkTwinklesSN.dat', sep=',\\s+')"
   ]
  },
  {
   "cell_type": "code",
   "execution_count": 36,
   "metadata": {
    "collapsed": false
   },
   "outputs": [
    {
     "data": {
      "text/html": [
       "<div>\n",
       "<table border=\"1\" class=\"dataframe\">\n",
       "  <thead>\n",
       "    <tr style=\"text-align: right;\">\n",
       "      <th></th>\n",
       "      <th>#raJ2000</th>\n",
       "      <th>decJ2000</th>\n",
       "      <th>snid</th>\n",
       "      <th>Tgaltileid</th>\n",
       "      <th>Tt0</th>\n",
       "      <th>Tx0</th>\n",
       "      <th>Tx1</th>\n",
       "      <th>Tc</th>\n",
       "      <th>Tredshift</th>\n",
       "    </tr>\n",
       "  </thead>\n",
       "  <tbody>\n",
       "    <tr>\n",
       "      <th>0</th>\n",
       "      <td>0.924864</td>\n",
       "      <td>-0.479661</td>\n",
       "      <td>6000005211700</td>\n",
       "      <td>60000052117</td>\n",
       "      <td>2923.3827</td>\n",
       "      <td>0</td>\n",
       "      <td>0.9056</td>\n",
       "      <td>-0.0474</td>\n",
       "      <td>0.7080</td>\n",
       "    </tr>\n",
       "    <tr>\n",
       "      <th>1</th>\n",
       "      <td>0.924882</td>\n",
       "      <td>-0.479686</td>\n",
       "      <td>6001680414301</td>\n",
       "      <td>60016804143</td>\n",
       "      <td>2118.2059</td>\n",
       "      <td>0</td>\n",
       "      <td>0.1844</td>\n",
       "      <td>-0.0584</td>\n",
       "      <td>0.4991</td>\n",
       "    </tr>\n",
       "    <tr>\n",
       "      <th>2</th>\n",
       "      <td>0.924912</td>\n",
       "      <td>-0.479704</td>\n",
       "      <td>6000054602800</td>\n",
       "      <td>60000546028</td>\n",
       "      <td>1264.0727</td>\n",
       "      <td>0</td>\n",
       "      <td>-1.7449</td>\n",
       "      <td>-0.0353</td>\n",
       "      <td>0.8491</td>\n",
       "    </tr>\n",
       "    <tr>\n",
       "      <th>3</th>\n",
       "      <td>0.924884</td>\n",
       "      <td>-0.479688</td>\n",
       "      <td>6001680414302</td>\n",
       "      <td>60016804143</td>\n",
       "      <td>1259.0984</td>\n",
       "      <td>0</td>\n",
       "      <td>-0.7003</td>\n",
       "      <td>-0.0709</td>\n",
       "      <td>0.4991</td>\n",
       "    </tr>\n",
       "    <tr>\n",
       "      <th>4</th>\n",
       "      <td>0.924959</td>\n",
       "      <td>-0.479727</td>\n",
       "      <td>6000166844101</td>\n",
       "      <td>60001668441</td>\n",
       "      <td>91.5972</td>\n",
       "      <td>0</td>\n",
       "      <td>0.7687</td>\n",
       "      <td>-0.1199</td>\n",
       "      <td>0.8669</td>\n",
       "    </tr>\n",
       "  </tbody>\n",
       "</table>\n",
       "</div>"
      ],
      "text/plain": [
       "   #raJ2000  decJ2000           snid   Tgaltileid        Tt0  Tx0     Tx1  \\\n",
       "0  0.924864 -0.479661  6000005211700  60000052117  2923.3827    0  0.9056   \n",
       "1  0.924882 -0.479686  6001680414301  60016804143  2118.2059    0  0.1844   \n",
       "2  0.924912 -0.479704  6000054602800  60000546028  1264.0727    0 -1.7449   \n",
       "3  0.924884 -0.479688  6001680414302  60016804143  1259.0984    0 -0.7003   \n",
       "4  0.924959 -0.479727  6000166844101  60001668441    91.5972    0  0.7687   \n",
       "\n",
       "       Tc  Tredshift  \n",
       "0 -0.0474     0.7080  \n",
       "1 -0.0584     0.4991  \n",
       "2 -0.0353     0.8491  \n",
       "3 -0.0709     0.4991  \n",
       "4 -0.1199     0.8669  "
      ]
     },
     "execution_count": 36,
     "metadata": {},
     "output_type": "execute_result"
    }
   ],
   "source": [
    "TkTSNdf.head()"
   ]
  },
  {
   "cell_type": "code",
   "execution_count": 37,
   "metadata": {
    "collapsed": false
   },
   "outputs": [
    {
     "data": {
      "text/html": [
       "<div>\n",
       "<table border=\"1\" class=\"dataframe\">\n",
       "  <thead>\n",
       "    <tr style=\"text-align: right;\">\n",
       "      <th></th>\n",
       "      <th>#raJ2000</th>\n",
       "      <th>decJ2000</th>\n",
       "      <th>snid</th>\n",
       "      <th>Tgaltileid</th>\n",
       "      <th>Tt0</th>\n",
       "      <th>Tx0</th>\n",
       "      <th>Tx1</th>\n",
       "      <th>Tc</th>\n",
       "      <th>Tredshift</th>\n",
       "    </tr>\n",
       "  </thead>\n",
       "  <tbody>\n",
       "    <tr>\n",
       "      <th>0</th>\n",
       "      <td>0.924869</td>\n",
       "      <td>-0.479665</td>\n",
       "      <td>6000005211701</td>\n",
       "      <td>60000052117</td>\n",
       "      <td>1458.2762</td>\n",
       "      <td>0</td>\n",
       "      <td>0.2415</td>\n",
       "      <td>-0.0370</td>\n",
       "      <td>0.7080</td>\n",
       "    </tr>\n",
       "    <tr>\n",
       "      <th>1</th>\n",
       "      <td>0.924917</td>\n",
       "      <td>-0.479692</td>\n",
       "      <td>6000035145300</td>\n",
       "      <td>60000351453</td>\n",
       "      <td>3497.6771</td>\n",
       "      <td>0</td>\n",
       "      <td>0.0199</td>\n",
       "      <td>0.0572</td>\n",
       "      <td>0.8491</td>\n",
       "    </tr>\n",
       "    <tr>\n",
       "      <th>2</th>\n",
       "      <td>0.924917</td>\n",
       "      <td>-0.479693</td>\n",
       "      <td>6000035145315</td>\n",
       "      <td>60000351453</td>\n",
       "      <td>11.8677</td>\n",
       "      <td>0</td>\n",
       "      <td>-0.3470</td>\n",
       "      <td>-0.0993</td>\n",
       "      <td>0.8491</td>\n",
       "    </tr>\n",
       "    <tr>\n",
       "      <th>3</th>\n",
       "      <td>0.924917</td>\n",
       "      <td>-0.479698</td>\n",
       "      <td>6000035145310</td>\n",
       "      <td>60000351453</td>\n",
       "      <td>3156.4636</td>\n",
       "      <td>0</td>\n",
       "      <td>-0.7167</td>\n",
       "      <td>-0.1043</td>\n",
       "      <td>0.8491</td>\n",
       "    </tr>\n",
       "    <tr>\n",
       "      <th>4</th>\n",
       "      <td>0.924915</td>\n",
       "      <td>-0.479698</td>\n",
       "      <td>6000035145308</td>\n",
       "      <td>60000351453</td>\n",
       "      <td>1377.2543</td>\n",
       "      <td>0</td>\n",
       "      <td>-0.6872</td>\n",
       "      <td>0.0519</td>\n",
       "      <td>0.8491</td>\n",
       "    </tr>\n",
       "  </tbody>\n",
       "</table>\n",
       "</div>"
      ],
      "text/plain": [
       "   #raJ2000  decJ2000           snid   Tgaltileid        Tt0  Tx0     Tx1  \\\n",
       "0  0.924869 -0.479665  6000005211701  60000052117  1458.2762    0  0.2415   \n",
       "1  0.924917 -0.479692  6000035145300  60000351453  3497.6771    0  0.0199   \n",
       "2  0.924917 -0.479693  6000035145315  60000351453    11.8677    0 -0.3470   \n",
       "3  0.924917 -0.479698  6000035145310  60000351453  3156.4636    0 -0.7167   \n",
       "4  0.924915 -0.479698  6000035145308  60000351453  1377.2543    0 -0.6872   \n",
       "\n",
       "       Tc  Tredshift  \n",
       "0 -0.0370     0.7080  \n",
       "1  0.0572     0.8491  \n",
       "2 -0.0993     0.8491  \n",
       "3 -0.1043     0.8491  \n",
       "4  0.0519     0.8491  "
      ]
     },
     "execution_count": 37,
     "metadata": {},
     "output_type": "execute_result"
    }
   ],
   "source": [
    "TTSNdf.head()"
   ]
  },
  {
   "cell_type": "code",
   "execution_count": 50,
   "metadata": {
    "collapsed": false
   },
   "outputs": [
    {
     "data": {
      "text/plain": [
       "<matplotlib.text.Text at 0x120cea490>"
      ]
     },
     "execution_count": 50,
     "metadata": {},
     "output_type": "execute_result"
    },
    {
     "data": {
      "image/png": "[encoded data removed]",
      "text/plain": [
       "<matplotlib.figure.Figure at 0x11ca947d0>"
      ]
     },
     "metadata": {},
     "output_type": "display_data"
    }
   ],
   "source": [
    "fig, ax = plt.subplots(1,2)\n",
    "ax[0].hexbin(np.degrees(TTSNdf['#raJ2000']), np.degrees(TTSNdf.decJ2000))\n",
    "ax[0].plot(TwinklesObsMetaDataSmall.pointingRA, TwinklesObsMetaDataSmall.pointingDec, \n",
    "         'ys', markersize=14)\n",
    "ax[1].hexbin(np.degrees(TkTSNdf['#raJ2000']), np.degrees(TkTSNdf.decJ2000))\n",
    "ax[1].plot(TwinklesObsMetaDataSmall.pointingRA, TwinklesObsMetaDataSmall.pointingDec, \n",
    "         'ys', markersize=14)\n",
    "circ = mpatches.Circle((TwinklesObsMetaDataSmall.pointingRA, TwinklesObsMetaDataSmall.pointingDec), \n",
    "         0.05)\n",
    "circ.set(edgecolor='r', fill=False, lw=2)\n",
    "#circ.set(face)\n",
    "ax[0].add_artist(circ)\n",
    "ax[0].set_aspect('equal')\n",
    "circ1 = mpatches.Circle((TwinklesObsMetaDataSmall.pointingRA, TwinklesObsMetaDataSmall.pointingDec), \n",
    "         0.05)\n",
    "circ1.set(edgecolor='r', fill=False, lw=2)\n",
    "ax[1].add_artist(circ1)\n",
    "ax[1].set_aspect('equal')\n",
    "y_formatter = matplotlib.ticker.ScalarFormatter(useOffset=False)\n",
    "ax[0].yaxis.set_major_formatter(y_formatter)\n",
    "ax[1].yaxis.set_major_formatter(y_formatter)\n",
    "ax[0].set_title('TwinkSN')\n",
    "ax[1].set_title('TwinkSNKraken')\n",
    "#sns.despine()"
   ]
  },
  {
   "cell_type": "code",
   "execution_count": 60,
   "metadata": {
    "collapsed": false
   },
   "outputs": [
    {
     "data": {
      "text/plain": [
       "<matplotlib.text.Text at 0x11cf1cc90>"
      ]
     },
     "execution_count": 60,
     "metadata": {},
     "output_type": "execute_result"
    },
    {
     "data": {
      "image/png": "[encoded data removed]",
      "text/plain": [
       "<matplotlib.figure.Figure at 0x11c721ed0>"
      ]
     },
     "metadata": {},
     "output_type": "display_data"
    }
   ],
   "source": [
    "fig, ax = plt.subplots()\n",
    "ax.hist(TTSNdf.Tredshift, bins=np.arange(0., 1.4, 0.1), histtype='step', lw=2., alpha=1, color='k', label='TwinkSN')\n",
    "ax.hist(TkTSNdf.Tredshift, bins=np.arange(0., 1.4, 0.1), histtype='step', lw=2., alpha=1, color='r', \n",
    "        label='TwinkSNKraken')\n",
    "ax.legend(loc='best')\n",
    "ax.set_ylabel('Numbers of SN')\n",
    "ax.set_xlabel('redshift')"
   ]
  },
  {
   "cell_type": "markdown",
   "metadata": {},
   "source": [
    "##  SN Instance Catalogs"
   ]
  },
  {
   "cell_type": "code",
   "execution_count": 61,
   "metadata": {
    "collapsed": true
   },
   "outputs": [],
   "source": [
    "TwinklesObsMetaDataSmall.boundLength = 0.3"
   ]
  },
  {
   "cell_type": "code",
   "execution_count": 62,
   "metadata": {
    "collapsed": false
   },
   "outputs": [],
   "source": [
    "sncatalog = FrozenSNCat(db_obj=s, obs_metadata=TwinklesObsMetaDataSmall, \n",
    "                         column_outputs=['snra', 'galtileid', 'sndec', 'snid', 'x0', 't0', 'flux', 'flux_err', 'mag', 'mag_err',\n",
    "                                         'TmagNorm', 'TsedFilepath', 'adu'])\n",
    "sncatalog.surveyStartDate = 49500.\n",
    "sncatalog.writeSedFile = False\n",
    "sncatalog.prefix = '/Users/rbiswas/tmp/'"
   ]
  },
  {
   "cell_type": "code",
   "execution_count": 63,
   "metadata": {
    "collapsed": false
   },
   "outputs": [],
   "source": [
    "sncatalog.suppressDimSN = True"
   ]
  },
  {
   "cell_type": "code",
   "execution_count": null,
   "metadata": {
    "collapsed": false
   },
   "outputs": [],
   "source": [
    "start = time.time()\n",
    "_ = sncatalog.write_catalog('newcat.dat', chunk_size=2000)\n",
    "end = time.time()\n",
    "print end -start"
   ]
  },
  {
   "cell_type": "code",
   "execution_count": 21,
   "metadata": {
    "collapsed": false
   },
   "outputs": [],
   "source": [
    "#NoCalcCat = FrozenSNCat(db_obj=s, obs_metadata=TwinklesObsMetaDataSmall, \n",
    "#                         column_outputs=['snra', 'galtileid', 'sndec', 'snid', 'x0', 't0'])\n",
    "#NoCalcCat.surveyStartDate = 49500.\n",
    "#NoCalcCat.writeSedFile = False\n",
    "#NoCalcCat.prefix = '/Users/rbiswas/tmp/'"
   ]
  },
  {
   "cell_type": "code",
   "execution_count": 22,
   "metadata": {
    "collapsed": false
   },
   "outputs": [],
   "source": [
    "#start = time.time()\n",
    "#_ = NoCalcCat.write_catalog('nocalculations.dat', chunk_size=2000)\n",
    "#end = time.time()\n",
    "#print end -start"
   ]
  },
  {
   "cell_type": "code",
   "execution_count": null,
   "metadata": {
    "collapsed": false
   },
   "outputs": [],
   "source": [
    "!wc -l newcat.dat\n",
    "#!wc -l newcat2.dat\n",
    "#!wc -l newcat3.dat"
   ]
  },
  {
   "cell_type": "code",
   "execution_count": 24,
   "metadata": {
    "collapsed": false
   },
   "outputs": [],
   "source": [
    "OnlyPhoSim = FrozenSNCat(db_obj=s, obs_metadata=TwinklesObsMetaDataSmall, \n",
    "                         column_outputs=['snra', 'galtileid', 'sndec', 'snid', 'x0', 't0',\n",
    "                                         'TmagNorm', 'TsedFilepath'])\n",
    "OnlyPhoSim.surveyStartDate = 49500.\n",
    "OnlyPhoSim.writeSedFile = False\n",
    "OnlyPhoSim.prefix = '/Users/rbiswas/tmp/'"
   ]
  },
  {
   "cell_type": "code",
   "execution_count": 25,
   "metadata": {
    "collapsed": false
   },
   "outputs": [
    {
     "name": "stdout",
     "output_type": "stream",
     "text": [
      "45.8671438694\n"
     ]
    }
   ],
   "source": [
    "start = time.time()\n",
    "_ = OnlyPhoSim.write_catalog('onlyPhosimCalcs.dat', chunk_size=2000)\n",
    "end = time.time()\n",
    "print end -start"
   ]
  },
  {
   "cell_type": "code",
   "execution_count": 26,
   "metadata": {
    "collapsed": false
   },
   "outputs": [
    {
     "name": "stdout",
     "output_type": "stream",
     "text": [
      "76.6342840195\n"
     ]
    }
   ],
   "source": [
    "OnlyPhoSim.writeSedFile = True\n",
    "start = time.time()\n",
    "_ = OnlyPhoSim.write_catalog('onlyPhosimCalcs.dat', chunk_size=2000)\n",
    "end = time.time()\n",
    "print end -start"
   ]
  },
  {
   "cell_type": "markdown",
   "metadata": {},
   "source": [
    "##  PhoSim Instance Catalogs"
   ]
  },
  {
   "cell_type": "code",
   "execution_count": 27,
   "metadata": {
    "collapsed": true
   },
   "outputs": [],
   "source": [
    "from lsst.sims.catUtils.exampleCatalogDefinitions.phoSimCatalogExamples import PhoSimCatalogSN, PhoSimCatalogSersic2D"
   ]
  },
  {
   "cell_type": "code",
   "execution_count": 28,
   "metadata": {
    "collapsed": false
   },
   "outputs": [],
   "source": [
    "pc = PhoSimCatalogSN(db_obj=s, obs_metadata=TwinklesObsMetaDataSmall, column_outputs=['EBV'])\n",
    "pc.writeSedFile = True\n",
    "pc.surveyStartDate = 49500\n",
    "pc.suppressDimSN = True"
   ]
  },
  {
   "cell_type": "code",
   "execution_count": 29,
   "metadata": {
    "collapsed": false
   },
   "outputs": [
    {
     "name": "stdout",
     "output_type": "stream",
     "text": [
      "91.4685590267\n"
     ]
    }
   ],
   "source": [
    "start = time.time()\n",
    "pc.write_catalog('SNOnlyPhoSimCatalog.dat')\n",
    "end = time.time()\n",
    "print end - start"
   ]
  },
  {
   "cell_type": "code",
   "execution_count": 30,
   "metadata": {
    "collapsed": false
   },
   "outputs": [
    {
     "ename": "AttributeError",
     "evalue": "'module' object has no attribute 'willstop'",
     "output_type": "error",
     "traceback": [
      "\u001b[0;31m---------------------------------------------------------------------------\u001b[0m",
      "\u001b[0;31mAttributeError\u001b[0m                            Traceback (most recent call last)",
      "\u001b[0;32m<ipython-input-30-c0a4088ee07a>\u001b[0m in \u001b[0;36m<module>\u001b[0;34m()\u001b[0m\n\u001b[0;32m----> 1\u001b[0;31m \u001b[0mnp\u001b[0m\u001b[0;34m.\u001b[0m\u001b[0mwillstop\u001b[0m\u001b[0;34m(\u001b[0m\u001b[0;34m)\u001b[0m\u001b[0;34m\u001b[0m\u001b[0m\n\u001b[0m",
      "\u001b[0;31mAttributeError\u001b[0m: 'module' object has no attribute 'willstop'"
     ]
    }
   ],
   "source": [
    "np.willstop()"
   ]
  },
  {
   "cell_type": "markdown",
   "metadata": {},
   "source": [
    "## Read in the SN instance Catalog"
   ]
  },
  {
   "cell_type": "code",
   "execution_count": null,
   "metadata": {
    "collapsed": false
   },
   "outputs": [],
   "source": [
    "sncatdf = pd.read_csv('newcat.dat', sep=',', float_precision='high')"
   ]
  },
  {
   "cell_type": "code",
   "execution_count": null,
   "metadata": {
    "collapsed": false
   },
   "outputs": [],
   "source": [
    "sncatdf.rename(columns={x:x.strip().strip('#') for x in sncatdf.columns}, inplace=True)"
   ]
  },
  {
   "cell_type": "code",
   "execution_count": null,
   "metadata": {
    "collapsed": false
   },
   "outputs": [],
   "source": [
    "sncatdf.head()"
   ]
  },
  {
   "cell_type": "code",
   "execution_count": 34,
   "metadata": {
    "collapsed": false
   },
   "outputs": [],
   "source": [
    "# Fix the types\n",
    "sncatdf['snid'] = sncatdf.snid.astype(int)\n",
    "#sncatdf.set_index('snid', inplace=True)\n",
    "names = [x for x in sncatdf.columns]; \n",
    "for name in ['snid', 'galtileid', 'TsedFilepath']:\n",
    "    names.remove(name)"
   ]
  },
  {
   "cell_type": "code",
   "execution_count": 35,
   "metadata": {
    "collapsed": true
   },
   "outputs": [],
   "source": [
    "sncatdf['DeltaT'] = sncatalog.mjdobs - sncatdf['t0']"
   ]
  },
  {
   "cell_type": "code",
   "execution_count": 36,
   "metadata": {
    "collapsed": false
   },
   "outputs": [],
   "source": [
    "sncatdf[names] = sncatdf[names].astype(np.float)"
   ]
  },
  {
   "cell_type": "code",
   "execution_count": 37,
   "metadata": {
    "collapsed": false
   },
   "outputs": [
    {
     "data": {
      "text/html": [
       "<div>\n",
       "<table border=\"1\" class=\"dataframe\">\n",
       "  <thead>\n",
       "    <tr style=\"text-align: right;\">\n",
       "      <th></th>\n",
       "      <th>snid</th>\n",
       "      <th>snra</th>\n",
       "      <th>sndec</th>\n",
       "      <th>z</th>\n",
       "      <th>t0</th>\n",
       "      <th>c</th>\n",
       "      <th>x1</th>\n",
       "      <th>x0</th>\n",
       "      <th>galtileid</th>\n",
       "      <th>flux</th>\n",
       "      <th>flux_err</th>\n",
       "      <th>mag</th>\n",
       "      <th>mag_err</th>\n",
       "      <th>TmagNorm</th>\n",
       "      <th>TsedFilepath</th>\n",
       "      <th>adu</th>\n",
       "      <th>DeltaT</th>\n",
       "      <th>SNR</th>\n",
       "    </tr>\n",
       "  </thead>\n",
       "  <tbody>\n",
       "    <tr>\n",
       "      <th>0</th>\n",
       "      <td>6001071595402</td>\n",
       "      <td>0.926196</td>\n",
       "      <td>-0.477528</td>\n",
       "      <td>0.8379</td>\n",
       "      <td>49637.2436</td>\n",
       "      <td>0.139800</td>\n",
       "      <td>-0.7083</td>\n",
       "      <td>0.000002</td>\n",
       "      <td>60010715954</td>\n",
       "      <td>4.261660e-12</td>\n",
       "      <td>3.595842e-11</td>\n",
       "      <td>28.426100</td>\n",
       "      <td>2.437166</td>\n",
       "      <td>52.8344</td>\n",
       "      <td>/Users/rbiswas/tmp/specFile_6001071595402_496...</td>\n",
       "      <td>12.3444</td>\n",
       "      <td>-24.905304</td>\n",
       "      <td>0.118516</td>\n",
       "    </tr>\n",
       "    <tr>\n",
       "      <th>1</th>\n",
       "      <td>6000972657300</td>\n",
       "      <td>0.926198</td>\n",
       "      <td>-0.477526</td>\n",
       "      <td>0.6382</td>\n",
       "      <td>49661.5219</td>\n",
       "      <td>-0.017082</td>\n",
       "      <td>0.6245</td>\n",
       "      <td>0.000007</td>\n",
       "      <td>60009726573</td>\n",
       "      <td>0.000000e+00</td>\n",
       "      <td>NaN</td>\n",
       "      <td>inf</td>\n",
       "      <td>inf</td>\n",
       "      <td>50.0762</td>\n",
       "      <td>/Users/rbiswas/tmp/specFile_6000972657300_496...</td>\n",
       "      <td>0.0000</td>\n",
       "      <td>-49.183604</td>\n",
       "      <td>NaN</td>\n",
       "    </tr>\n",
       "    <tr>\n",
       "      <th>2</th>\n",
       "      <td>6000017682402</td>\n",
       "      <td>0.926169</td>\n",
       "      <td>-0.477429</td>\n",
       "      <td>0.0558</td>\n",
       "      <td>49587.5575</td>\n",
       "      <td>0.109306</td>\n",
       "      <td>-0.4824</td>\n",
       "      <td>0.001197</td>\n",
       "      <td>60000176824</td>\n",
       "      <td>3.177180e-08</td>\n",
       "      <td>7.785457e-11</td>\n",
       "      <td>18.744900</td>\n",
       "      <td>0.005662</td>\n",
       "      <td>19.6331</td>\n",
       "      <td>/Users/rbiswas/tmp/specFile_6000017682402_496...</td>\n",
       "      <td>92030.4454</td>\n",
       "      <td>24.780796</td>\n",
       "      <td>408.091651</td>\n",
       "    </tr>\n",
       "    <tr>\n",
       "      <th>3</th>\n",
       "      <td>6000017682405</td>\n",
       "      <td>0.926172</td>\n",
       "      <td>-0.477448</td>\n",
       "      <td>0.0558</td>\n",
       "      <td>49540.5410</td>\n",
       "      <td>-0.009753</td>\n",
       "      <td>-0.0698</td>\n",
       "      <td>0.001456</td>\n",
       "      <td>60000176824</td>\n",
       "      <td>0.000000e+00</td>\n",
       "      <td>NaN</td>\n",
       "      <td>inf</td>\n",
       "      <td>inf</td>\n",
       "      <td>20.4170</td>\n",
       "      <td>/Users/rbiswas/tmp/specFile_6000017682405_496...</td>\n",
       "      <td>0.0000</td>\n",
       "      <td>71.797296</td>\n",
       "      <td>NaN</td>\n",
       "    </tr>\n",
       "    <tr>\n",
       "      <th>4</th>\n",
       "      <td>6000288237307</td>\n",
       "      <td>0.926118</td>\n",
       "      <td>-0.477535</td>\n",
       "      <td>0.8125</td>\n",
       "      <td>49673.9199</td>\n",
       "      <td>-0.013907</td>\n",
       "      <td>-0.7681</td>\n",
       "      <td>0.000004</td>\n",
       "      <td>60002882373</td>\n",
       "      <td>0.000000e+00</td>\n",
       "      <td>NaN</td>\n",
       "      <td>inf</td>\n",
       "      <td>inf</td>\n",
       "      <td>52.0033</td>\n",
       "      <td>/Users/rbiswas/tmp/specFile_6000288237307_496...</td>\n",
       "      <td>0.0000</td>\n",
       "      <td>-61.581604</td>\n",
       "      <td>NaN</td>\n",
       "    </tr>\n",
       "  </tbody>\n",
       "</table>\n",
       "</div>"
      ],
      "text/plain": [
       "            snid      snra     sndec       z          t0         c      x1  \\\n",
       "0  6001071595402  0.926196 -0.477528  0.8379  49637.2436  0.139800 -0.7083   \n",
       "1  6000972657300  0.926198 -0.477526  0.6382  49661.5219 -0.017082  0.6245   \n",
       "2  6000017682402  0.926169 -0.477429  0.0558  49587.5575  0.109306 -0.4824   \n",
       "3  6000017682405  0.926172 -0.477448  0.0558  49540.5410 -0.009753 -0.0698   \n",
       "4  6000288237307  0.926118 -0.477535  0.8125  49673.9199 -0.013907 -0.7681   \n",
       "\n",
       "         x0    galtileid          flux      flux_err        mag   mag_err  \\\n",
       "0  0.000002  60010715954  4.261660e-12  3.595842e-11  28.426100  2.437166   \n",
       "1  0.000007  60009726573  0.000000e+00           NaN        inf       inf   \n",
       "2  0.001197  60000176824  3.177180e-08  7.785457e-11  18.744900  0.005662   \n",
       "3  0.001456  60000176824  0.000000e+00           NaN        inf       inf   \n",
       "4  0.000004  60002882373  0.000000e+00           NaN        inf       inf   \n",
       "\n",
       "   TmagNorm                                       TsedFilepath         adu  \\\n",
       "0   52.8344   /Users/rbiswas/tmp/specFile_6001071595402_496...     12.3444   \n",
       "1   50.0762   /Users/rbiswas/tmp/specFile_6000972657300_496...      0.0000   \n",
       "2   19.6331   /Users/rbiswas/tmp/specFile_6000017682402_496...  92030.4454   \n",
       "3   20.4170   /Users/rbiswas/tmp/specFile_6000017682405_496...      0.0000   \n",
       "4   52.0033   /Users/rbiswas/tmp/specFile_6000288237307_496...      0.0000   \n",
       "\n",
       "      DeltaT         SNR  \n",
       "0 -24.905304    0.118516  \n",
       "1 -49.183604         NaN  \n",
       "2  24.780796  408.091651  \n",
       "3  71.797296         NaN  \n",
       "4 -61.581604         NaN  "
      ]
     },
     "execution_count": 37,
     "metadata": {},
     "output_type": "execute_result"
    }
   ],
   "source": [
    "sncatdf['SNR'] = sncatdf.flux / sncatdf.flux_err\n",
    "sncatdf.head()"
   ]
  },
  {
   "cell_type": "markdown",
   "metadata": {},
   "source": [
    "####  Some Sanity Checks"
   ]
  },
  {
   "cell_type": "code",
   "execution_count": 38,
   "metadata": {
    "collapsed": false
   },
   "outputs": [],
   "source": [
    "sncatdf['logaduByflux'] = np.log10(sncatdf.adu/sncatdf.flux)"
   ]
  },
  {
   "cell_type": "code",
   "execution_count": 39,
   "metadata": {
    "collapsed": false
   },
   "outputs": [],
   "source": [
    "brightobjects = sncatdf.query('SNR > 1')"
   ]
  },
  {
   "cell_type": "code",
   "execution_count": 40,
   "metadata": {
    "collapsed": false
   },
   "outputs": [
    {
     "name": "stderr",
     "output_type": "stream",
     "text": [
      "axes.color_cycle is deprecated and replaced with axes.prop_cycle; please use the latter.\n"
     ]
    },
    {
     "data": {
      "text/plain": [
       "<seaborn.axisgrid.FacetGrid at 0x11d71bf10>"
      ]
     },
     "execution_count": 40,
     "metadata": {},
     "output_type": "execute_result"
    },
    {
     "data": {
      "image/png": "[encoded data removed]",
      "text/plain": [
       "<matplotlib.figure.Figure at 0x11d6eff50>"
      ]
     },
     "metadata": {},
     "output_type": "display_data"
    }
   ],
   "source": [
    "sns.lmplot(\"z\", 'logaduByflux', data=brightobjects)"
   ]
  },
  {
   "cell_type": "code",
   "execution_count": 70,
   "metadata": {
    "collapsed": false
   },
   "outputs": [
    {
     "data": {
      "text/plain": [
       "<matplotlib.text.Text at 0x130de5a10>"
      ]
     },
     "execution_count": 41,
     "metadata": {},
     "output_type": "execute_result"
    },
    {
     "data": {
      "image/png": "[encoded data removed]",
      "text/plain": [
       "<matplotlib.figure.Figure at 0x1381bddd0>"
      ]
     },
     "metadata": {},
     "output_type": "display_data"
    }
   ],
   "source": [
    "fig, ax = plt.subplots()\n",
    "sncatdf.SNR.hist(bins=np.arange(0., 50., 1.), histtype='step', lw=2., alpha=1., ax=ax)\n",
    "ax.set_xlabel('SNR')"
   ]
  },
  {
   "cell_type": "code",
   "execution_count": 42,
   "metadata": {
    "collapsed": false
   },
   "outputs": [
    {
     "data": {
      "image/png": "[encoded data removed]",
      "text/plain": [
       "<matplotlib.figure.Figure at 0x1264110d0>"
      ]
     },
     "metadata": {},
     "output_type": "display_data"
    }
   ],
   "source": [
    "fig, ax = plt.subplots(nrows=1, ncols=2);\n",
    "_ = ax[0].hist(sncatdf.query('SNR > 5.').z, bins=np.arange(0., 1.2, 0.1), histtype='step', lw=2, color='k', normed=True,\n",
    "               label='highSNR')\n",
    "_ = ax[0].hist(sncatdf.query('SNR < 5. and SNR > 0.').z, bins=np.arange(0., 1.2, 0.1), histtype='step', lw=2, color='r', \n",
    "             normed=True, label='lowSNR')\n",
    "_ = ax[0].hist(sncatdf.query('SNR > 0.').z, bins=np.arange(0., 1.2, 0.1), histtype='step', lw=2, color='b', \n",
    "             normed=True, label='Active')\n",
    "ax[0].grid(True)\n",
    "_ = ax[1].hist(sncatdf.query('SNR > 5.').z, bins=np.arange(0., 1.2, 0.1), histtype='step', lw=2, color='k', normed=False, \n",
    "               cumulative=-1)\n",
    "_ = ax[1].hist(sncatdf.query('SNR < 5. and SNR > 0.').z, bins=np.arange(0., 1.2, 0.1), histtype='step', lw=2, color='r', \n",
    "               normed=False, cumulative=-1)\n",
    "_ = ax[1].grid(True)\n",
    "_ = ax[0].legend(loc='upper left')\n",
    "_ = ax[0].set_ylabel('PDF')\n",
    "_ = ax[1].set_ylabel('Num SN at z > ')\n",
    "_ = fig.suptitle('Redshift Distribution of SN')"
   ]
  },
  {
   "cell_type": "code",
   "execution_count": 43,
   "metadata": {
    "collapsed": false
   },
   "outputs": [
    {
     "data": {
      "image/png": "[encoded data removed]",
      "text/plain": [
       "<matplotlib.figure.Figure at 0x11d6efa10>"
      ]
     },
     "metadata": {},
     "output_type": "display_data"
    }
   ],
   "source": [
    "fig, ax = plt.subplots(1, 2, figsize=(16,6))\n",
    "_ = ax[0].hist(sncatdf.adu, bins=np.arange(0, 500, 5), histtype='step', alpha=1, lw=2., color='k')\n",
    "_ = ax[0].hist(sncatdf.adu.replace({0:np.nan}).dropna(), bins=np.arange(0, 5000, 5), histtype='step', \n",
    "               alpha=1, lw=2., color='r')\n",
    "_ = ax[1].hist(sncatdf.adu.replace({0:np.nan}).dropna(), bins=np.arange(0, 5, 0.1), histtype='step', \n",
    "               alpha=1, lw=2., color='r')"
   ]
  },
  {
   "cell_type": "code",
   "execution_count": 44,
   "metadata": {
    "collapsed": false
   },
   "outputs": [
    {
     "data": {
      "text/plain": [
       "<matplotlib.text.Text at 0x131a660d0>"
      ]
     },
     "execution_count": 44,
     "metadata": {},
     "output_type": "execute_result"
    },
    {
     "data": {
      "image/png": "[encoded data removed]",
      "text/plain": [
       "<matplotlib.figure.Figure at 0x130df9690>"
      ]
     },
     "metadata": {},
     "output_type": "display_data"
    }
   ],
   "source": [
    "fig, ax = plt.subplots()\n",
    "sncatdf.adu.apply(lambda x: x* 2.3).hist(bins=np.arange(-0.5, 5., 0.05), histtype='step', lw=2., alpha=1., ax=ax, \n",
    "                                         normed=1)\n",
    "ax.set_xlabel('Photons')"
   ]
  },
  {
   "cell_type": "markdown",
   "metadata": {},
   "source": [
    "### Read in the phosim Outputs"
   ]
  },
  {
   "cell_type": "code",
   "execution_count": 45,
   "metadata": {
    "collapsed": false
   },
   "outputs": [],
   "source": [
    "phosimOuta = pd.read_csv('/Users/rbiswas/soft/phosim_release/testout/centroid_lsst_e_203482_R22_S11_E000.txt', \n",
    "                         float_precision='high', sep='\\s+')\n",
    "phosimOutb = pd.read_csv('/Users/rbiswas/soft/phosim_release/testout/centroid_lsst_e_203482_R22_S11_E001.txt', \n",
    "                         float_precision='high', sep='\\s+')"
   ]
  },
  {
   "cell_type": "code",
   "execution_count": 46,
   "metadata": {
    "collapsed": false
   },
   "outputs": [],
   "source": [
    "phosimOuta.SourceID = phosimOuta.SourceID.astype('int')\n",
    "phosimOutb.SourceID = phosimOutb.SourceID.astype('int')\n",
    "phosimOuta.set_index('SourceID', inplace=True)\n",
    "phosimOutb.set_index('SourceID', inplace=True)\n",
    "phosimOuta.Photons += phosimOutb.Photons"
   ]
  },
  {
   "cell_type": "code",
   "execution_count": 47,
   "metadata": {
    "collapsed": false
   },
   "outputs": [
    {
     "data": {
      "text/html": [
       "<div>\n",
       "<table border=\"1\" class=\"dataframe\">\n",
       "  <thead>\n",
       "    <tr style=\"text-align: right;\">\n",
       "      <th></th>\n",
       "      <th>Photons</th>\n",
       "      <th>AvgX</th>\n",
       "      <th>AvgY</th>\n",
       "    </tr>\n",
       "    <tr>\n",
       "      <th>SourceID</th>\n",
       "      <th></th>\n",
       "      <th></th>\n",
       "      <th></th>\n",
       "    </tr>\n",
       "  </thead>\n",
       "  <tbody>\n",
       "    <tr>\n",
       "      <th>6144281204838442</th>\n",
       "      <td>10</td>\n",
       "      <td>1450.285714</td>\n",
       "      <td>2598.428571</td>\n",
       "    </tr>\n",
       "    <tr>\n",
       "      <th>6144620595713066</th>\n",
       "      <td>0</td>\n",
       "      <td>NaN</td>\n",
       "      <td>NaN</td>\n",
       "    </tr>\n",
       "    <tr>\n",
       "      <th>6144018893831210</th>\n",
       "      <td>0</td>\n",
       "      <td>NaN</td>\n",
       "      <td>NaN</td>\n",
       "    </tr>\n",
       "    <tr>\n",
       "      <th>6144093910125610</th>\n",
       "      <td>14</td>\n",
       "      <td>1533.250000</td>\n",
       "      <td>2602.875000</td>\n",
       "    </tr>\n",
       "    <tr>\n",
       "      <th>6144796137881642</th>\n",
       "      <td>0</td>\n",
       "      <td>NaN</td>\n",
       "      <td>NaN</td>\n",
       "    </tr>\n",
       "  </tbody>\n",
       "</table>\n",
       "</div>"
      ],
      "text/plain": [
       "                  Photons         AvgX         AvgY\n",
       "SourceID                                           \n",
       "6144281204838442       10  1450.285714  2598.428571\n",
       "6144620595713066        0          NaN          NaN\n",
       "6144018893831210        0          NaN          NaN\n",
       "6144093910125610       14  1533.250000  2602.875000\n",
       "6144796137881642        0          NaN          NaN"
      ]
     },
     "execution_count": 47,
     "metadata": {},
     "output_type": "execute_result"
    }
   ],
   "source": [
    "phosimOuta.head()"
   ]
  },
  {
   "cell_type": "markdown",
   "metadata": {},
   "source": [
    "Set the same index for sncatdf"
   ]
  },
  {
   "cell_type": "code",
   "execution_count": 48,
   "metadata": {
    "collapsed": false
   },
   "outputs": [],
   "source": [
    "sncatdf['SourceID'] = np.left_shift(sncatdf.snid, 10) + 42\n",
    "sncatdf.set_index('SourceID', inplace=True)"
   ]
  },
  {
   "cell_type": "code",
   "execution_count": 49,
   "metadata": {
    "collapsed": true
   },
   "outputs": [],
   "source": [
    "sncatdf['Photons'] = phosimOuta.Photons"
   ]
  },
  {
   "cell_type": "code",
   "execution_count": 50,
   "metadata": {
    "collapsed": false
   },
   "outputs": [
    {
     "data": {
      "text/html": [
       "<div>\n",
       "<table border=\"1\" class=\"dataframe\">\n",
       "  <thead>\n",
       "    <tr style=\"text-align: right;\">\n",
       "      <th></th>\n",
       "      <th>snid</th>\n",
       "      <th>snra</th>\n",
       "      <th>sndec</th>\n",
       "      <th>z</th>\n",
       "      <th>t0</th>\n",
       "      <th>c</th>\n",
       "      <th>x1</th>\n",
       "      <th>x0</th>\n",
       "      <th>galtileid</th>\n",
       "      <th>flux</th>\n",
       "      <th>flux_err</th>\n",
       "      <th>mag</th>\n",
       "      <th>mag_err</th>\n",
       "      <th>TmagNorm</th>\n",
       "      <th>TsedFilepath</th>\n",
       "      <th>adu</th>\n",
       "      <th>DeltaT</th>\n",
       "      <th>SNR</th>\n",
       "      <th>logaduByflux</th>\n",
       "      <th>Photons</th>\n",
       "    </tr>\n",
       "    <tr>\n",
       "      <th>SourceID</th>\n",
       "      <th></th>\n",
       "      <th></th>\n",
       "      <th></th>\n",
       "      <th></th>\n",
       "      <th></th>\n",
       "      <th></th>\n",
       "      <th></th>\n",
       "      <th></th>\n",
       "      <th></th>\n",
       "      <th></th>\n",
       "      <th></th>\n",
       "      <th></th>\n",
       "      <th></th>\n",
       "      <th></th>\n",
       "      <th></th>\n",
       "      <th></th>\n",
       "      <th></th>\n",
       "      <th></th>\n",
       "      <th></th>\n",
       "      <th></th>\n",
       "    </tr>\n",
       "  </thead>\n",
       "  <tbody>\n",
       "    <tr>\n",
       "      <th>6145097313691690</th>\n",
       "      <td>6001071595402</td>\n",
       "      <td>0.926196</td>\n",
       "      <td>-0.477528</td>\n",
       "      <td>0.8379</td>\n",
       "      <td>49637.2436</td>\n",
       "      <td>0.139800</td>\n",
       "      <td>-0.7083</td>\n",
       "      <td>0.000002</td>\n",
       "      <td>60010715954</td>\n",
       "      <td>4.261660e-12</td>\n",
       "      <td>3.595842e-11</td>\n",
       "      <td>28.426100</td>\n",
       "      <td>2.437166</td>\n",
       "      <td>52.8344</td>\n",
       "      <td>/Users/rbiswas/tmp/specFile_6001071595402_496...</td>\n",
       "      <td>12.3444</td>\n",
       "      <td>-24.905304</td>\n",
       "      <td>0.118516</td>\n",
       "      <td>12.461891</td>\n",
       "      <td>NaN</td>\n",
       "    </tr>\n",
       "    <tr>\n",
       "      <th>6144996001075242</th>\n",
       "      <td>6000972657300</td>\n",
       "      <td>0.926198</td>\n",
       "      <td>-0.477526</td>\n",
       "      <td>0.6382</td>\n",
       "      <td>49661.5219</td>\n",
       "      <td>-0.017082</td>\n",
       "      <td>0.6245</td>\n",
       "      <td>0.000007</td>\n",
       "      <td>60009726573</td>\n",
       "      <td>0.000000e+00</td>\n",
       "      <td>NaN</td>\n",
       "      <td>inf</td>\n",
       "      <td>inf</td>\n",
       "      <td>50.0762</td>\n",
       "      <td>/Users/rbiswas/tmp/specFile_6000972657300_496...</td>\n",
       "      <td>0.0000</td>\n",
       "      <td>-49.183604</td>\n",
       "      <td>NaN</td>\n",
       "      <td>NaN</td>\n",
       "      <td>NaN</td>\n",
       "    </tr>\n",
       "    <tr>\n",
       "      <th>6144018106779690</th>\n",
       "      <td>6000017682402</td>\n",
       "      <td>0.926169</td>\n",
       "      <td>-0.477429</td>\n",
       "      <td>0.0558</td>\n",
       "      <td>49587.5575</td>\n",
       "      <td>0.109306</td>\n",
       "      <td>-0.4824</td>\n",
       "      <td>0.001197</td>\n",
       "      <td>60000176824</td>\n",
       "      <td>3.177180e-08</td>\n",
       "      <td>7.785457e-11</td>\n",
       "      <td>18.744900</td>\n",
       "      <td>0.005662</td>\n",
       "      <td>19.6331</td>\n",
       "      <td>/Users/rbiswas/tmp/specFile_6000017682402_496...</td>\n",
       "      <td>92030.4454</td>\n",
       "      <td>24.780796</td>\n",
       "      <td>408.091651</td>\n",
       "      <td>12.461890</td>\n",
       "      <td>NaN</td>\n",
       "    </tr>\n",
       "    <tr>\n",
       "      <th>6144018106782762</th>\n",
       "      <td>6000017682405</td>\n",
       "      <td>0.926172</td>\n",
       "      <td>-0.477448</td>\n",
       "      <td>0.0558</td>\n",
       "      <td>49540.5410</td>\n",
       "      <td>-0.009753</td>\n",
       "      <td>-0.0698</td>\n",
       "      <td>0.001456</td>\n",
       "      <td>60000176824</td>\n",
       "      <td>0.000000e+00</td>\n",
       "      <td>NaN</td>\n",
       "      <td>inf</td>\n",
       "      <td>inf</td>\n",
       "      <td>20.4170</td>\n",
       "      <td>/Users/rbiswas/tmp/specFile_6000017682405_496...</td>\n",
       "      <td>0.0000</td>\n",
       "      <td>71.797296</td>\n",
       "      <td>NaN</td>\n",
       "      <td>NaN</td>\n",
       "      <td>NaN</td>\n",
       "    </tr>\n",
       "    <tr>\n",
       "      <th>6144295155002410</th>\n",
       "      <td>6000288237307</td>\n",
       "      <td>0.926118</td>\n",
       "      <td>-0.477535</td>\n",
       "      <td>0.8125</td>\n",
       "      <td>49673.9199</td>\n",
       "      <td>-0.013907</td>\n",
       "      <td>-0.7681</td>\n",
       "      <td>0.000004</td>\n",
       "      <td>60002882373</td>\n",
       "      <td>0.000000e+00</td>\n",
       "      <td>NaN</td>\n",
       "      <td>inf</td>\n",
       "      <td>inf</td>\n",
       "      <td>52.0033</td>\n",
       "      <td>/Users/rbiswas/tmp/specFile_6000288237307_496...</td>\n",
       "      <td>0.0000</td>\n",
       "      <td>-61.581604</td>\n",
       "      <td>NaN</td>\n",
       "      <td>NaN</td>\n",
       "      <td>NaN</td>\n",
       "    </tr>\n",
       "  </tbody>\n",
       "</table>\n",
       "</div>"
      ],
      "text/plain": [
       "                           snid      snra     sndec       z          t0  \\\n",
       "SourceID                                                                  \n",
       "6145097313691690  6001071595402  0.926196 -0.477528  0.8379  49637.2436   \n",
       "6144996001075242  6000972657300  0.926198 -0.477526  0.6382  49661.5219   \n",
       "6144018106779690  6000017682402  0.926169 -0.477429  0.0558  49587.5575   \n",
       "6144018106782762  6000017682405  0.926172 -0.477448  0.0558  49540.5410   \n",
       "6144295155002410  6000288237307  0.926118 -0.477535  0.8125  49673.9199   \n",
       "\n",
       "                         c      x1        x0    galtileid          flux  \\\n",
       "SourceID                                                                  \n",
       "6145097313691690  0.139800 -0.7083  0.000002  60010715954  4.261660e-12   \n",
       "6144996001075242 -0.017082  0.6245  0.000007  60009726573  0.000000e+00   \n",
       "6144018106779690  0.109306 -0.4824  0.001197  60000176824  3.177180e-08   \n",
       "6144018106782762 -0.009753 -0.0698  0.001456  60000176824  0.000000e+00   \n",
       "6144295155002410 -0.013907 -0.7681  0.000004  60002882373  0.000000e+00   \n",
       "\n",
       "                      flux_err        mag   mag_err  TmagNorm  \\\n",
       "SourceID                                                        \n",
       "6145097313691690  3.595842e-11  28.426100  2.437166   52.8344   \n",
       "6144996001075242           NaN        inf       inf   50.0762   \n",
       "6144018106779690  7.785457e-11  18.744900  0.005662   19.6331   \n",
       "6144018106782762           NaN        inf       inf   20.4170   \n",
       "6144295155002410           NaN        inf       inf   52.0033   \n",
       "\n",
       "                                                       TsedFilepath  \\\n",
       "SourceID                                                              \n",
       "6145097313691690   /Users/rbiswas/tmp/specFile_6001071595402_496...   \n",
       "6144996001075242   /Users/rbiswas/tmp/specFile_6000972657300_496...   \n",
       "6144018106779690   /Users/rbiswas/tmp/specFile_6000017682402_496...   \n",
       "6144018106782762   /Users/rbiswas/tmp/specFile_6000017682405_496...   \n",
       "6144295155002410   /Users/rbiswas/tmp/specFile_6000288237307_496...   \n",
       "\n",
       "                         adu     DeltaT         SNR  logaduByflux  Photons  \n",
       "SourceID                                                                    \n",
       "6145097313691690     12.3444 -24.905304    0.118516     12.461891      NaN  \n",
       "6144996001075242      0.0000 -49.183604         NaN           NaN      NaN  \n",
       "6144018106779690  92030.4454  24.780796  408.091651     12.461890      NaN  \n",
       "6144018106782762      0.0000  71.797296         NaN           NaN      NaN  \n",
       "6144295155002410      0.0000 -61.581604         NaN           NaN      NaN  "
      ]
     },
     "execution_count": 50,
     "metadata": {},
     "output_type": "execute_result"
    }
   ],
   "source": [
    "sncatdf.head()"
   ]
  },
  {
   "cell_type": "code",
   "execution_count": 51,
   "metadata": {
    "collapsed": false
   },
   "outputs": [],
   "source": [
    "sncatdf['ratio'] = sncatdf.adu / sncatdf['Photons']"
   ]
  },
  {
   "cell_type": "code",
   "execution_count": 52,
   "metadata": {
    "collapsed": false
   },
   "outputs": [
    {
     "data": {
      "text/html": [
       "<div>\n",
       "<table border=\"1\" class=\"dataframe\">\n",
       "  <thead>\n",
       "    <tr style=\"text-align: right;\">\n",
       "      <th></th>\n",
       "      <th>snid</th>\n",
       "      <th>snra</th>\n",
       "      <th>sndec</th>\n",
       "      <th>z</th>\n",
       "      <th>t0</th>\n",
       "      <th>c</th>\n",
       "      <th>x1</th>\n",
       "      <th>x0</th>\n",
       "      <th>galtileid</th>\n",
       "      <th>flux</th>\n",
       "      <th>...</th>\n",
       "      <th>mag</th>\n",
       "      <th>mag_err</th>\n",
       "      <th>TmagNorm</th>\n",
       "      <th>TsedFilepath</th>\n",
       "      <th>adu</th>\n",
       "      <th>DeltaT</th>\n",
       "      <th>SNR</th>\n",
       "      <th>logaduByflux</th>\n",
       "      <th>Photons</th>\n",
       "      <th>ratio</th>\n",
       "    </tr>\n",
       "    <tr>\n",
       "      <th>SourceID</th>\n",
       "      <th></th>\n",
       "      <th></th>\n",
       "      <th></th>\n",
       "      <th></th>\n",
       "      <th></th>\n",
       "      <th></th>\n",
       "      <th></th>\n",
       "      <th></th>\n",
       "      <th></th>\n",
       "      <th></th>\n",
       "      <th></th>\n",
       "      <th></th>\n",
       "      <th></th>\n",
       "      <th></th>\n",
       "      <th></th>\n",
       "      <th></th>\n",
       "      <th></th>\n",
       "      <th></th>\n",
       "      <th></th>\n",
       "      <th></th>\n",
       "      <th></th>\n",
       "    </tr>\n",
       "  </thead>\n",
       "  <tbody>\n",
       "    <tr>\n",
       "      <th>6145097313691690</th>\n",
       "      <td>6001071595402</td>\n",
       "      <td>0.926196</td>\n",
       "      <td>-0.477528</td>\n",
       "      <td>0.8379</td>\n",
       "      <td>49637.2436</td>\n",
       "      <td>0.139800</td>\n",
       "      <td>-0.7083</td>\n",
       "      <td>0.000002</td>\n",
       "      <td>60010715954</td>\n",
       "      <td>4.261660e-12</td>\n",
       "      <td>...</td>\n",
       "      <td>28.426100</td>\n",
       "      <td>2.437166</td>\n",
       "      <td>52.8344</td>\n",
       "      <td>/Users/rbiswas/tmp/specFile_6001071595402_496...</td>\n",
       "      <td>12.3444</td>\n",
       "      <td>-24.905304</td>\n",
       "      <td>0.118516</td>\n",
       "      <td>12.461891</td>\n",
       "      <td>NaN</td>\n",
       "      <td>NaN</td>\n",
       "    </tr>\n",
       "    <tr>\n",
       "      <th>6144996001075242</th>\n",
       "      <td>6000972657300</td>\n",
       "      <td>0.926198</td>\n",
       "      <td>-0.477526</td>\n",
       "      <td>0.6382</td>\n",
       "      <td>49661.5219</td>\n",
       "      <td>-0.017082</td>\n",
       "      <td>0.6245</td>\n",
       "      <td>0.000007</td>\n",
       "      <td>60009726573</td>\n",
       "      <td>0.000000e+00</td>\n",
       "      <td>...</td>\n",
       "      <td>inf</td>\n",
       "      <td>inf</td>\n",
       "      <td>50.0762</td>\n",
       "      <td>/Users/rbiswas/tmp/specFile_6000972657300_496...</td>\n",
       "      <td>0.0000</td>\n",
       "      <td>-49.183604</td>\n",
       "      <td>NaN</td>\n",
       "      <td>NaN</td>\n",
       "      <td>NaN</td>\n",
       "      <td>NaN</td>\n",
       "    </tr>\n",
       "    <tr>\n",
       "      <th>6144018106779690</th>\n",
       "      <td>6000017682402</td>\n",
       "      <td>0.926169</td>\n",
       "      <td>-0.477429</td>\n",
       "      <td>0.0558</td>\n",
       "      <td>49587.5575</td>\n",
       "      <td>0.109306</td>\n",
       "      <td>-0.4824</td>\n",
       "      <td>0.001197</td>\n",
       "      <td>60000176824</td>\n",
       "      <td>3.177180e-08</td>\n",
       "      <td>...</td>\n",
       "      <td>18.744900</td>\n",
       "      <td>0.005662</td>\n",
       "      <td>19.6331</td>\n",
       "      <td>/Users/rbiswas/tmp/specFile_6000017682402_496...</td>\n",
       "      <td>92030.4454</td>\n",
       "      <td>24.780796</td>\n",
       "      <td>408.091651</td>\n",
       "      <td>12.461890</td>\n",
       "      <td>NaN</td>\n",
       "      <td>NaN</td>\n",
       "    </tr>\n",
       "    <tr>\n",
       "      <th>6144018106782762</th>\n",
       "      <td>6000017682405</td>\n",
       "      <td>0.926172</td>\n",
       "      <td>-0.477448</td>\n",
       "      <td>0.0558</td>\n",
       "      <td>49540.5410</td>\n",
       "      <td>-0.009753</td>\n",
       "      <td>-0.0698</td>\n",
       "      <td>0.001456</td>\n",
       "      <td>60000176824</td>\n",
       "      <td>0.000000e+00</td>\n",
       "      <td>...</td>\n",
       "      <td>inf</td>\n",
       "      <td>inf</td>\n",
       "      <td>20.4170</td>\n",
       "      <td>/Users/rbiswas/tmp/specFile_6000017682405_496...</td>\n",
       "      <td>0.0000</td>\n",
       "      <td>71.797296</td>\n",
       "      <td>NaN</td>\n",
       "      <td>NaN</td>\n",
       "      <td>NaN</td>\n",
       "      <td>NaN</td>\n",
       "    </tr>\n",
       "    <tr>\n",
       "      <th>6144295155002410</th>\n",
       "      <td>6000288237307</td>\n",
       "      <td>0.926118</td>\n",
       "      <td>-0.477535</td>\n",
       "      <td>0.8125</td>\n",
       "      <td>49673.9199</td>\n",
       "      <td>-0.013907</td>\n",
       "      <td>-0.7681</td>\n",
       "      <td>0.000004</td>\n",
       "      <td>60002882373</td>\n",
       "      <td>0.000000e+00</td>\n",
       "      <td>...</td>\n",
       "      <td>inf</td>\n",
       "      <td>inf</td>\n",
       "      <td>52.0033</td>\n",
       "      <td>/Users/rbiswas/tmp/specFile_6000288237307_496...</td>\n",
       "      <td>0.0000</td>\n",
       "      <td>-61.581604</td>\n",
       "      <td>NaN</td>\n",
       "      <td>NaN</td>\n",
       "      <td>NaN</td>\n",
       "      <td>NaN</td>\n",
       "    </tr>\n",
       "  </tbody>\n",
       "</table>\n",
       "<p>5 rows × 21 columns</p>\n",
       "</div>"
      ],
      "text/plain": [
       "                           snid      snra     sndec       z          t0  \\\n",
       "SourceID                                                                  \n",
       "6145097313691690  6001071595402  0.926196 -0.477528  0.8379  49637.2436   \n",
       "6144996001075242  6000972657300  0.926198 -0.477526  0.6382  49661.5219   \n",
       "6144018106779690  6000017682402  0.926169 -0.477429  0.0558  49587.5575   \n",
       "6144018106782762  6000017682405  0.926172 -0.477448  0.0558  49540.5410   \n",
       "6144295155002410  6000288237307  0.926118 -0.477535  0.8125  49673.9199   \n",
       "\n",
       "                         c      x1        x0    galtileid          flux  \\\n",
       "SourceID                                                                  \n",
       "6145097313691690  0.139800 -0.7083  0.000002  60010715954  4.261660e-12   \n",
       "6144996001075242 -0.017082  0.6245  0.000007  60009726573  0.000000e+00   \n",
       "6144018106779690  0.109306 -0.4824  0.001197  60000176824  3.177180e-08   \n",
       "6144018106782762 -0.009753 -0.0698  0.001456  60000176824  0.000000e+00   \n",
       "6144295155002410 -0.013907 -0.7681  0.000004  60002882373  0.000000e+00   \n",
       "\n",
       "                  ...          mag   mag_err  TmagNorm  \\\n",
       "SourceID          ...                                    \n",
       "6145097313691690  ...    28.426100  2.437166   52.8344   \n",
       "6144996001075242  ...          inf       inf   50.0762   \n",
       "6144018106779690  ...    18.744900  0.005662   19.6331   \n",
       "6144018106782762  ...          inf       inf   20.4170   \n",
       "6144295155002410  ...          inf       inf   52.0033   \n",
       "\n",
       "                                                       TsedFilepath  \\\n",
       "SourceID                                                              \n",
       "6145097313691690   /Users/rbiswas/tmp/specFile_6001071595402_496...   \n",
       "6144996001075242   /Users/rbiswas/tmp/specFile_6000972657300_496...   \n",
       "6144018106779690   /Users/rbiswas/tmp/specFile_6000017682402_496...   \n",
       "6144018106782762   /Users/rbiswas/tmp/specFile_6000017682405_496...   \n",
       "6144295155002410   /Users/rbiswas/tmp/specFile_6000288237307_496...   \n",
       "\n",
       "                         adu     DeltaT         SNR  logaduByflux  Photons  \\\n",
       "SourceID                                                                     \n",
       "6145097313691690     12.3444 -24.905304    0.118516     12.461891      NaN   \n",
       "6144996001075242      0.0000 -49.183604         NaN           NaN      NaN   \n",
       "6144018106779690  92030.4454  24.780796  408.091651     12.461890      NaN   \n",
       "6144018106782762      0.0000  71.797296         NaN           NaN      NaN   \n",
       "6144295155002410      0.0000 -61.581604         NaN           NaN      NaN   \n",
       "\n",
       "                  ratio  \n",
       "SourceID                 \n",
       "6145097313691690    NaN  \n",
       "6144996001075242    NaN  \n",
       "6144018106779690    NaN  \n",
       "6144018106782762    NaN  \n",
       "6144295155002410    NaN  \n",
       "\n",
       "[5 rows x 21 columns]"
      ]
     },
     "execution_count": 52,
     "metadata": {},
     "output_type": "execute_result"
    }
   ],
   "source": [
    "sncatdf.head()"
   ]
  },
  {
   "cell_type": "code",
   "execution_count": 53,
   "metadata": {
    "collapsed": false
   },
   "outputs": [
    {
     "data": {
      "text/plain": [
       "nan"
      ]
     },
     "execution_count": 53,
     "metadata": {},
     "output_type": "execute_result"
    }
   ],
   "source": [
    "sncatdf.query('ratio == 0.').SNR.max()"
   ]
  },
  {
   "cell_type": "code",
   "execution_count": 54,
   "metadata": {
    "collapsed": false
   },
   "outputs": [
    {
     "data": {
      "image/png": "[encoded data removed]",
      "text/plain": [
       "<matplotlib.figure.Figure at 0x124e8b250>"
      ]
     },
     "metadata": {},
     "output_type": "display_data"
    }
   ],
   "source": [
    "sns.set_context('talk')\n",
    "#Talk Fig\n",
    "fig, ax = plt.subplots()\n",
    "_ = ax.hist(sncatdf.query('SNR>0.').ratio, bins=np.arange(0, 5., 0.05), histtype='step', lw=2., color='k', \n",
    "            label='adu/Photons')\n",
    "_ = ax.axvline(1/2.3, **{'color':'b', 'ls':'dashed', 'label':'invgain'})\n",
    "#_ = ax.legend(loc='best')\n",
    "_ = ax.text(0.5, 17, '1/gain', fontdict={'size':40, 'color': 'b', 'rotation': 90})\n",
    "_ = ax.set_xlabel('ADU / Photon')\n",
    "_ = ax.set_ylabel('Counts')\n",
    "fig.savefig('adu_photons.pdf')"
   ]
  },
  {
   "cell_type": "code",
   "execution_count": 55,
   "metadata": {
    "collapsed": false
   },
   "outputs": [],
   "source": [
    "def makeaComparisonPlot(sncatdf):\n",
    "    fig, ax = plt.subplots(2, 2, sharey=True, **{'figsize':(16,12)})\n",
    "    _ = ax[0,0].hist(sncatdf.ratio, bins=np.arange(0, 5., 0.05), histtype='step', lw=2., color='k', label='adu/Photons')\n",
    "    ax[0,0].axvline(1/2.3, **{'color':'b', 'ls':'dashed', 'label':'invgain'})\n",
    "    ax[0,0].legend(loc='best')\n",
    "    ax[0,1].hist(sncatdf.query('adu < 1.0e-10 and Photons > 0').Photons, histtype='step', normed=False, \n",
    "                 cumulative=True, lw=2., color='k', bins=np.arange(0., 200., 10))\n",
    "    ax[0,0].set_xlabel('Adu/Num Photons')\n",
    "    _ = ax[1,0].hist(sncatdf.Photons/sncatdf.adu, bins=np.arange(0, 5., 0.05), histtype='step', lw=2., color='k',\n",
    "                     label='Photons/adu')\n",
    "    ax[1,0].axvline(2.3, **{'color':'b', 'ls':'dashed', 'label':'gain'})\n",
    "    ax[1,0].legend(loc='best')\n",
    "    ax[1,0].set_xlabel('Num Photons/Adu')\n",
    "    \n",
    "    _ = ax[1,1].hist(sncatdf.query('adu > 1.0e-10 and Photons == 0').adu, histtype='step', normed=False, \n",
    "                     cumulative=True, lw=2., color='k', bins=np.arange(0., 200., 10))\n",
    "\n",
    "    return fig"
   ]
  },
  {
   "cell_type": "code",
   "execution_count": 56,
   "metadata": {
    "collapsed": false
   },
   "outputs": [
    {
     "data": {
      "image/png": "[encoded data removed]",
      "text/plain": [
       "<matplotlib.figure.Figure at 0x130df1d10>"
      ]
     },
     "metadata": {},
     "output_type": "display_data"
    }
   ],
   "source": [
    "_ = makeaComparisonPlot(sncatdf)"
   ]
  },
  {
   "cell_type": "code",
   "execution_count": 57,
   "metadata": {
    "collapsed": false
   },
   "outputs": [
    {
     "data": {
      "image/png": "[encoded data removed]",
      "text/plain": [
       "<matplotlib.figure.Figure at 0x1252dfc50>"
      ]
     },
     "metadata": {},
     "output_type": "display_data"
    }
   ],
   "source": [
    "_ = makeaComparisonPlot(sncatdf.query('SNR > 0.'))"
   ]
  },
  {
   "cell_type": "code",
   "execution_count": 58,
   "metadata": {
    "collapsed": false
   },
   "outputs": [
    {
     "name": "stderr",
     "output_type": "stream",
     "text": [
      "axes.color_cycle is deprecated and replaced with axes.prop_cycle; please use the latter.\n"
     ]
    },
    {
     "data": {
      "text/plain": [
       "<seaborn.axisgrid.FacetGrid at 0x1264c7fd0>"
      ]
     },
     "execution_count": 58,
     "metadata": {},
     "output_type": "execute_result"
    },
    {
     "data": {
      "image/png": "[encoded data removed]",
      "text/plain": [
       "<matplotlib.figure.Figure at 0x1253bc750>"
      ]
     },
     "metadata": {},
     "output_type": "display_data"
    }
   ],
   "source": [
    "sns.lmplot(\"adu\", 'Photons', data=sncatdf)"
   ]
  },
  {
   "cell_type": "code",
   "execution_count": 59,
   "metadata": {
    "collapsed": true
   },
   "outputs": [],
   "source": [
    "sncatdf['estimatedAdu'] = sncatdf.Photons / 2.3"
   ]
  },
  {
   "cell_type": "code",
   "execution_count": 60,
   "metadata": {
    "collapsed": true
   },
   "outputs": [],
   "source": [
    "sncatdf['residAdu'] = sncatdf.estimatedAdu - sncatdf.adu"
   ]
  },
  {
   "cell_type": "code",
   "execution_count": 67,
   "metadata": {
    "collapsed": false
   },
   "outputs": [
    {
     "data": {
      "text/plain": [
       "<matplotlib.collections.PathCollection at 0x12591e510>"
      ]
     },
     "execution_count": 67,
     "metadata": {},
     "output_type": "execute_result"
    },
    {
     "data": {
      "image/png": "[encoded data removed]",
      "text/plain": [
       "<matplotlib.figure.Figure at 0x12591e6d0>"
      ]
     },
     "metadata": {},
     "output_type": "display_data"
    }
   ],
   "source": [
    "aduthresh = 3.\n",
    "plt.scatter(sncatdf.query('Photons > 0')['snra'], sncatdf.query('Photons> 0')['sndec'], color='r')\n",
    "plt.scatter(sncatdf.query('Photons==0 and adu > @aduthresh')['snra'], sncatdf.query('Photons==0 and adu > @aduthresh')['sndec'])"
   ]
  },
  {
   "cell_type": "code",
   "execution_count": 62,
   "metadata": {
    "collapsed": false
   },
   "outputs": [
    {
     "data": {
      "text/plain": [
       "<matplotlib.axes._subplots.AxesSubplot at 0x126308fd0>"
      ]
     },
     "execution_count": 62,
     "metadata": {},
     "output_type": "execute_result"
    },
    {
     "data": {
      "image/png": "[encoded data removed]",
      "text/plain": [
       "<matplotlib.figure.Figure at 0x126f799d0>"
      ]
     },
     "metadata": {},
     "output_type": "display_data"
    }
   ],
   "source": [
    "sncatdf.query('adu < 0.0001 and Photons >0').DeltaT.hist(**{'color':'b', 'lw':2, 'histtype':'step', \n",
    "                                                                 'bins':np.arange(-50, 100, 5), 'cumulative':1 })\n",
    "sncatdf.query('adu < 0.0001 and Photons > 3').DeltaT.hist(**{'color':'r', 'lw':2, 'histtype':'step',\n",
    "                                                                  'bins':np.arange(-50, 100, 5) })\n",
    "sncatdf.dropna().query('adu <0.0001 and Photons > 30').DeltaT.hist(**{'color':'g', 'lw':2, 'histtype':'step',\n",
    "                                                                   'bins':np.arange(-50, 100, 5) })"
   ]
  },
  {
   "cell_type": "code",
   "execution_count": 63,
   "metadata": {
    "collapsed": false
   },
   "outputs": [
    {
     "data": {
      "text/plain": [
       "<matplotlib.axes._subplots.AxesSubplot at 0x1258b7d90>"
      ]
     },
     "execution_count": 63,
     "metadata": {},
     "output_type": "execute_result"
    },
    {
     "data": {
      "image/png": "[encoded data removed]",
      "text/plain": [
       "<matplotlib.figure.Figure at 0x12550ae50>"
      ]
     },
     "metadata": {},
     "output_type": "display_data"
    }
   ],
   "source": [
    "sncatdf.dropna().query('Photons ==0 and adu > 3').DeltaT.hist(**{'color':'b', 'lw':2, 'histtype':'step', \n",
    "                                                                 'bins':np.arange(-50, 100, 5) })\n",
    "sncatdf.dropna().query('Photons ==0 and adu > 30').DeltaT.hist(**{'color':'r', 'lw':2, 'histtype':'step',\n",
    "                                                                  'bins':np.arange(-50, 100, 5) })\n",
    "sncatdf.dropna().query('Photons ==0 and adu > 300').DeltaT.hist(**{'color':'g', 'lw':2, 'histtype':'step',\n",
    "                                                                   'bins':np.arange(-50, 100, 5) })"
   ]
  },
  {
   "cell_type": "code",
   "execution_count": 64,
   "metadata": {
    "collapsed": false
   },
   "outputs": [
    {
     "name": "stderr",
     "output_type": "stream",
     "text": [
      "axes.color_cycle is deprecated and replaced with axes.prop_cycle; please use the latter.\n"
     ]
    },
    {
     "data": {
      "text/plain": [
       "<seaborn.axisgrid.FacetGrid at 0x12551b1d0>"
      ]
     },
     "execution_count": 64,
     "metadata": {},
     "output_type": "execute_result"
    },
    {
     "data": {
      "image/png": "[encoded data removed]",
      "text/plain": [
       "<matplotlib.figure.Figure at 0x12530ced0>"
      ]
     },
     "metadata": {},
     "output_type": "display_data"
    }
   ],
   "source": [
    "sns.lmplot(\"z\", 'estimatedAdu', data=sncatdf, scatter_kws={\"s\": 80})"
   ]
  },
  {
   "cell_type": "code",
   "execution_count": 65,
   "metadata": {
    "collapsed": false
   },
   "outputs": [
    {
     "name": "stderr",
     "output_type": "stream",
     "text": [
      "axes.color_cycle is deprecated and replaced with axes.prop_cycle; please use the latter.\n"
     ]
    },
    {
     "data": {
      "text/plain": [
       "<seaborn.axisgrid.FacetGrid at 0x125366a50>"
      ]
     },
     "execution_count": 65,
     "metadata": {},
     "output_type": "execute_result"
    },
    {
     "data": {
      "image/png": "[encoded data removed]",
      "text/plain": [
       "<matplotlib.figure.Figure at 0x1259b0110>"
      ]
     },
     "metadata": {},
     "output_type": "display_data"
    }
   ],
   "source": [
    "sns.lmplot(\"z\", 'residAdu', data=sncatdf, scatter_kws={\"s\": 80})"
   ]
  },
  {
   "cell_type": "markdown",
   "metadata": {},
   "source": [
    "# Scratch"
   ]
  },
  {
   "cell_type": "code",
   "execution_count": 66,
   "metadata": {
    "collapsed": false
   },
   "outputs": [
    {
     "ename": "AttributeError",
     "evalue": "'DataFrame' object has no attribute 'SourceID'",
     "output_type": "error",
     "traceback": [
      "\u001b[0;31m---------------------------------------------------------------------------\u001b[0m",
      "\u001b[0;31mAttributeError\u001b[0m                            Traceback (most recent call last)",
      "\u001b[0;32m<ipython-input-66-a57a0ab8c0d7>\u001b[0m in \u001b[0;36m<module>\u001b[0;34m()\u001b[0m\n\u001b[0;32m----> 1\u001b[0;31m \u001b[0mphosimOuta\u001b[0m\u001b[0;34m.\u001b[0m\u001b[0mSourceID\u001b[0m\u001b[0;34m.\u001b[0m\u001b[0mmin\u001b[0m\u001b[0;34m(\u001b[0m\u001b[0;34m)\u001b[0m\u001b[0;34m\u001b[0m\u001b[0m\n\u001b[0m",
      "\u001b[0;32m/usr/local/manual/anaconda/lib/python2.7/site-packages/pandas/core/generic.pyc\u001b[0m in \u001b[0;36m__getattr__\u001b[0;34m(self, name)\u001b[0m\n\u001b[1;32m   2358\u001b[0m                 \u001b[0;32mreturn\u001b[0m \u001b[0mself\u001b[0m\u001b[0;34m[\u001b[0m\u001b[0mname\u001b[0m\u001b[0;34m]\u001b[0m\u001b[0;34m\u001b[0m\u001b[0m\n\u001b[1;32m   2359\u001b[0m             raise AttributeError(\"'%s' object has no attribute '%s'\" %\n\u001b[0;32m-> 2360\u001b[0;31m                                  (type(self).__name__, name))\n\u001b[0m\u001b[1;32m   2361\u001b[0m \u001b[0;34m\u001b[0m\u001b[0m\n\u001b[1;32m   2362\u001b[0m     \u001b[0;32mdef\u001b[0m \u001b[0m__setattr__\u001b[0m\u001b[0;34m(\u001b[0m\u001b[0mself\u001b[0m\u001b[0;34m,\u001b[0m \u001b[0mname\u001b[0m\u001b[0;34m,\u001b[0m \u001b[0mvalue\u001b[0m\u001b[0;34m)\u001b[0m\u001b[0;34m:\u001b[0m\u001b[0;34m\u001b[0m\u001b[0m\n",
      "\u001b[0;31mAttributeError\u001b[0m: 'DataFrame' object has no attribute 'SourceID'"
     ]
    }
   ],
   "source": [
    "phosimOuta.SourceID.min()"
   ]
  },
  {
   "cell_type": "code",
   "execution_count": null,
   "metadata": {
    "collapsed": true
   },
   "outputs": [],
   "source": [
    "phosimOutb = pd.read_csv('/Users/rbiswas/soft/phosim_release/output/centroid_lsst_e_203482_R22_S11_E001.txt', sep='\\s+')"
   ]
  },
  {
   "cell_type": "code",
   "execution_count": null,
   "metadata": {
    "collapsed": true
   },
   "outputs": [],
   "source": [
    "phosimOuta.Photons = phosimOuta.Photons + phosimOutb.Photons"
   ]
  },
  {
   "cell_type": "code",
   "execution_count": null,
   "metadata": {
    "collapsed": false
   },
   "outputs": [],
   "source": [
    "phosimOuta['SourceID'] = phosimOuta.SourceID.astype(int)"
   ]
  },
  {
   "cell_type": "code",
   "execution_count": null,
   "metadata": {
    "collapsed": false
   },
   "outputs": [],
   "source": [
    "phosimOuta['snid'] = np.right_shift(phosimOuta['SourceID'], 10)"
   ]
  },
  {
   "cell_type": "code",
   "execution_count": null,
   "metadata": {
    "collapsed": false
   },
   "outputs": [],
   "source": [
    "phosimOuta.set_index('snid', inplace=True)"
   ]
  },
  {
   "cell_type": "code",
   "execution_count": null,
   "metadata": {
    "collapsed": false
   },
   "outputs": [],
   "source": [
    "sncatdf.adu.min()"
   ]
  },
  {
   "cell_type": "code",
   "execution_count": null,
   "metadata": {
    "collapsed": false
   },
   "outputs": [],
   "source": [
    "sncatdf['ratio'] = sncatdf.adu / phosimOuta.Photons"
   ]
  },
  {
   "cell_type": "code",
   "execution_count": null,
   "metadata": {
    "collapsed": true
   },
   "outputs": [],
   "source": [
    "sncatdf['Photons'] = phosimOuta.Photons"
   ]
  },
  {
   "cell_type": "code",
   "execution_count": null,
   "metadata": {
    "collapsed": false
   },
   "outputs": [],
   "source": [
    "sncatdf.query('ratio == 0.')"
   ]
  },
  {
   "cell_type": "code",
   "execution_count": null,
   "metadata": {
    "collapsed": false
   },
   "outputs": [],
   "source": [
    "fig, ax = plt.subplots()\n",
    "sns.distplot(sncatdf.ratio.replace([-np.inf, np.inf],np.nan).dropna(), bins=np.arange(0.0, 5., 0.05), \n",
    "             rug_kws=False,kde=False, norm_hist=False).set_xlim(0,)\n",
    "sns.distributions()\n",
    "#ax.hist(df.ratio.replace([-np.inf, np.inf],np.nan).dropna() ,bins=np.arange(0., 5, 0.05))\n",
    "ax.axvline(1./2.3, color='k', **{'label':'1/gain', 'linestyle':'dashed'})\n",
    "ax.set_xlabel('adu/Photons')\n",
    "ax.legend(loc='best')"
   ]
  },
  {
   "cell_type": "code",
   "execution_count": null,
   "metadata": {
    "collapsed": true
   },
   "outputs": [],
   "source": [
    "rv = poisson(mu=1)"
   ]
  },
  {
   "cell_type": "code",
   "execution_count": null,
   "metadata": {
    "collapsed": true
   },
   "outputs": [],
   "source": [
    "x = np.arange(0, 10)"
   ]
  },
  {
   "cell_type": "code",
   "execution_count": null,
   "metadata": {
    "collapsed": false
   },
   "outputs": [],
   "source": [
    "plt.plot(x, rv.pmf(x), 'bo')"
   ]
  },
  {
   "cell_type": "code",
   "execution_count": null,
   "metadata": {
    "collapsed": false
   },
   "outputs": [],
   "source": [
    "plt.hist(sncatdf.Photons / sncatdf.adu / 2.3, np.arange(-0.5,5.5), histtype='step')\n",
    "plt.plot()"
   ]
  },
  {
   "cell_type": "code",
   "execution_count": null,
   "metadata": {
    "collapsed": true
   },
   "outputs": [],
   "source": [
    "plt.plot(poisson.pmf)"
   ]
  },
  {
   "cell_type": "code",
   "execution_count": null,
   "metadata": {
    "collapsed": false
   },
   "outputs": [],
   "source": [
    "df.query('ratio > 1000.')[['adu', 'Photons', 'flux', 'DeltaT', 'mag', 'mag_err', 'flux_err']]"
   ]
  },
  {
   "cell_type": "code",
   "execution_count": null,
   "metadata": {
    "collapsed": false
   },
   "outputs": [],
   "source": [
    "x = df.query('ratio ==0.').Photons.copy(deep=True)"
   ]
  },
  {
   "cell_type": "code",
   "execution_count": null,
   "metadata": {
    "collapsed": false
   },
   "outputs": [],
   "source": [
    "x.sort(ascending=False); x"
   ]
  },
  {
   "cell_type": "code",
   "execution_count": null,
   "metadata": {
    "collapsed": true
   },
   "outputs": [],
   "source": [
    "fig.savefig('invGain.png')"
   ]
  },
  {
   "cell_type": "code",
   "execution_count": null,
   "metadata": {
    "collapsed": false
   },
   "outputs": [],
   "source": [
    "import seaborn as sns\n",
    "sns.set()"
   ]
  },
  {
   "cell_type": "code",
   "execution_count": null,
   "metadata": {
    "collapsed": false
   },
   "outputs": [],
   "source": [
    "print len(df.query('ratio > 10000')), df.query('ratio > 10000').ratio.unique()\n",
    "print len(df.query('ratio < -10000')), df.query('ratio < -10000').ratio.unique()"
   ]
  },
  {
   "cell_type": "code",
   "execution_count": null,
   "metadata": {
    "collapsed": false
   },
   "outputs": [],
   "source": [
    "df.query('ratio >500.').adu "
   ]
  },
  {
   "cell_type": "code",
   "execution_count": null,
   "metadata": {
    "collapsed": false
   },
   "outputs": [],
   "source": [
    "_df = df.query('ratio == 0.')\n",
    "_dff = df.query('ratio < 0.')\n",
    "_ = plt.hist(_df.DeltaT / (_df.z + 1.), bins=np.arange(-30, 70., 1.), histtype='step', color='b', alpha=1., lw=2.)\n",
    "_ = plt.hist(_dff.DeltaT / (_dff.z + 1.), bins=np.arange(-30, 70., 1.), histtype='step', color='r', alpha=1., lw=2.)\n",
    "plt.axvline(-20., color='k')\n",
    "plt.axvline(50., color='k')"
   ]
  },
  {
   "cell_type": "code",
   "execution_count": null,
   "metadata": {
    "collapsed": false
   },
   "outputs": [],
   "source": [
    "_df = df[['z', 'ratio']].replace([-np.inf, np.inf], [-20., 200.]).dropna()\n",
    "#sns.jointplot(_df.z, _df.ratio, kind='kde')\n",
    "plt.plot(_df.z, _df.ratio, 'o')"
   ]
  },
  {
   "cell_type": "code",
   "execution_count": null,
   "metadata": {
    "collapsed": false
   },
   "outputs": [],
   "source": [
    "adus = df.adu.dropna().sum()\n",
    "photons = phosimOuta.replace([np.inf],np.nan).Photons.dropna().sum()"
   ]
  },
  {
   "cell_type": "code",
   "execution_count": null,
   "metadata": {
    "collapsed": false
   },
   "outputs": [],
   "source": [
    "photons / adus"
   ]
  },
  {
   "cell_type": "code",
   "execution_count": null,
   "metadata": {
    "collapsed": false
   },
   "outputs": [],
   "source": [
    "active = df.query('SNR > 0.').replace([np.inf],np.nan).dropna().ratio\n",
    "bright = df.query('SNR > 5.').replace([np.inf],np.nan).dropna().ratio"
   ]
  },
  {
   "cell_type": "code",
   "execution_count": null,
   "metadata": {
    "collapsed": false
   },
   "outputs": [],
   "source": [
    "s = 0.05\n",
    "plt.hist(active, color='r', bins=np.arange(0., 25, s), histtype='step', label='SNR>0', lw=2)\n",
    "plt.hist(bright, color='k', bins=np.arange(0., 25, s), histtype='step', label='SNR>5', lw=2)\n",
    "plt.legend(loc='best')\n",
    "plt.axvline(1./2.3)\n",
    "plt.xlim(0, 5)"
   ]
  },
  {
   "cell_type": "code",
   "execution_count": null,
   "metadata": {
    "collapsed": true
   },
   "outputs": [],
   "source": [
    "import lsst.afw.image as afwi"
   ]
  },
  {
   "cell_type": "code",
   "execution_count": null,
   "metadata": {
    "collapsed": true
   },
   "outputs": [],
   "source": [
    "img0 = afwi.ImageF('/Users/rbiswas/soft/phosim_release/output/lsst_e_203482_f2_R22_S11_E000.fits.gz')\n",
    "img1 = afwi.ImageF('/Users/rbiswas/soft/phosim_release/output/lsst_e_203482_f2_R22_S11_E001.fits.gz')"
   ]
  },
  {
   "cell_type": "code",
   "execution_count": null,
   "metadata": {
    "collapsed": false
   },
   "outputs": [],
   "source": [
    "arr0 = img0.getArray()\n",
    "arr1 = img1.getArray()"
   ]
  },
  {
   "cell_type": "code",
   "execution_count": null,
   "metadata": {
    "collapsed": false
   },
   "outputs": [],
   "source": [
    "arr = arr0 + arr1\n",
    "electrons = arr.sum()"
   ]
  },
  {
   "cell_type": "code",
   "execution_count": null,
   "metadata": {
    "collapsed": false
   },
   "outputs": [],
   "source": [
    "adus  = df.adu.dropna().sum()"
   ]
  },
  {
   "cell_type": "code",
   "execution_count": null,
   "metadata": {
    "collapsed": false
   },
   "outputs": [],
   "source": [
    "2.3 / np.sqrt(2)"
   ]
  },
  {
   "cell_type": "code",
   "execution_count": null,
   "metadata": {
    "collapsed": false
   },
   "outputs": [],
   "source": [
    "electrons / adus"
   ]
  },
  {
   "cell_type": "code",
   "execution_count": null,
   "metadata": {
    "collapsed": false
   },
   "outputs": [],
   "source": [
    "x.replace([-np.inf, np.inf], np.nan, inplace=True)"
   ]
  },
  {
   "cell_type": "code",
   "execution_count": null,
   "metadata": {
    "collapsed": false
   },
   "outputs": [],
   "source": [
    "x.dropna().hist()"
   ]
  },
  {
   "cell_type": "code",
   "execution_count": null,
   "metadata": {
    "collapsed": true
   },
   "outputs": [],
   "source": []
  },
  {
   "cell_type": "code",
   "execution_count": null,
   "metadata": {
    "collapsed": false
   },
   "outputs": [],
   "source": [
    "df.set_index('snid', inplace=True)"
   ]
  },
  {
   "cell_type": "code",
   "execution_count": null,
   "metadata": {
    "collapsed": false
   },
   "outputs": [],
   "source": [
    "x.dropna()"
   ]
  },
  {
   "cell_type": "code",
   "execution_count": null,
   "metadata": {
    "collapsed": false
   },
   "outputs": [],
   "source": [
    "df.index.size"
   ]
  },
  {
   "cell_type": "code",
   "execution_count": null,
   "metadata": {
    "collapsed": false
   },
   "outputs": [],
   "source": [
    "phosimOuta.index.dtype"
   ]
  },
  {
   "cell_type": "code",
   "execution_count": null,
   "metadata": {
    "collapsed": false
   },
   "outputs": [],
   "source": [
    "6145532174336041 in df.index.values"
   ]
  },
  {
   "cell_type": "code",
   "execution_count": null,
   "metadata": {
    "collapsed": false
   },
   "outputs": [],
   "source": [
    "df.iat[6145532174336041]"
   ]
  },
  {
   "cell_type": "code",
   "execution_count": null,
   "metadata": {
    "collapsed": false
   },
   "outputs": [],
   "source": [
    "phosimOuta['snid']  = phosimOuta.index.values"
   ]
  },
  {
   "cell_type": "code",
   "execution_count": null,
   "metadata": {
    "collapsed": false
   },
   "outputs": [],
   "source": [
    "phosimOuta['snid'] = np.right_shift(phosimOuta['snid'], 10)"
   ]
  },
  {
   "cell_type": "code",
   "execution_count": null,
   "metadata": {
    "collapsed": false
   },
   "outputs": [],
   "source": [
    "phosimOuta.set_index('snid', inplace=True)"
   ]
  },
  {
   "cell_type": "code",
   "execution_count": null,
   "metadata": {
    "collapsed": false
   },
   "outputs": [],
   "source": [
    "phosimOuta['adu']/ phosimOuta['Photons']"
   ]
  },
  {
   "cell_type": "code",
   "execution_count": null,
   "metadata": {
    "collapsed": false
   },
   "outputs": [],
   "source": [
    "phosimOuta.head()"
   ]
  },
  {
   "cell_type": "code",
   "execution_count": null,
   "metadata": {
    "collapsed": false
   },
   "outputs": [],
   "source": [
    "df.index.min()"
   ]
  },
  {
   "cell_type": "code",
   "execution_count": null,
   "metadata": {
    "collapsed": false
   },
   "outputs": [],
   "source": [
    "phosimOuta.index.min()"
   ]
  },
  {
   "cell_type": "code",
   "execution_count": null,
   "metadata": {
    "collapsed": false
   },
   "outputs": [],
   "source": [
    "np.left_shift(6000000189404,10) < phosimOuta.index.min()"
   ]
  },
  {
   "cell_type": "code",
   "execution_count": null,
   "metadata": {
    "collapsed": false
   },
   "outputs": [],
   "source": [
    "np.right_shift(np.left_shift(6000000189404,10),10)"
   ]
  },
  {
   "cell_type": "code",
   "execution_count": null,
   "metadata": {
    "collapsed": false
   },
   "outputs": [],
   "source": [
    "id(None)"
   ]
  },
  {
   "cell_type": "code",
   "execution_count": null,
   "metadata": {
    "collapsed": false
   },
   "outputs": [],
   "source": [
    "x  = None"
   ]
  },
  {
   "cell_type": "code",
   "execution_count": null,
   "metadata": {
    "collapsed": false
   },
   "outputs": [],
   "source": [
    "id(x)"
   ]
  },
  {
   "cell_type": "code",
   "execution_count": null,
   "metadata": {
    "collapsed": true
   },
   "outputs": [],
   "source": [
    "y = None"
   ]
  },
  {
   "cell_type": "code",
   "execution_count": null,
   "metadata": {
    "collapsed": false
   },
   "outputs": [],
   "source": [
    "xx =3"
   ]
  },
  {
   "cell_type": "code",
   "execution_count": null,
   "metadata": {
    "collapsed": true
   },
   "outputs": [],
   "source": [
    "yy  = 3"
   ]
  },
  {
   "cell_type": "code",
   "execution_count": null,
   "metadata": {
    "collapsed": false
   },
   "outputs": [],
   "source": [
    " == y"
   ]
  },
  {
   "cell_type": "code",
   "execution_count": null,
   "metadata": {
    "collapsed": false
   },
   "outputs": [],
   "source": [
    "x is y"
   ]
  },
  {
   "cell_type": "code",
   "execution_count": null,
   "metadata": {
    "collapsed": false
   },
   "outputs": [],
   "source": [
    "id(xx)"
   ]
  },
  {
   "cell_type": "code",
   "execution_count": null,
   "metadata": {
    "collapsed": false
   },
   "outputs": [],
   "source": [
    "id(yy)"
   ]
  },
  {
   "cell_type": "markdown",
   "metadata": {},
   "source": [
    "# Scratch"
   ]
  },
  {
   "cell_type": "code",
   "execution_count": null,
   "metadata": {
    "collapsed": true
   },
   "outputs": [],
   "source": []
  },
  {
   "cell_type": "code",
   "execution_count": null,
   "metadata": {
    "collapsed": false
   },
   "outputs": [],
   "source": [
    "names = s.get_column_names()\n",
    "\n",
    "for key in names:\n",
    "    if 'snra' in names[key]:\n",
    "        print key\n",
    "\n",
    "print names['TwinkSN']"
   ]
  },
  {
   "cell_type": "code",
   "execution_count": null,
   "metadata": {
    "collapsed": false
   },
   "outputs": [],
   "source": [
    "class SNCopy(InstanceCatalog):\n",
    "    \n",
    "    column_outputs = ['raJ2000', 'decJ2000', 'snid', 'galtileid','t0', 'x0', 'x1', 'c', 'redshift', ]\n",
    "    override_formats = {'raJ2000': '%8e', 'decJ2000': '%8e', 'x0':'%8e'}\n",
    "                        #'x0':'%8e', 'x1':'%8e', 'c':'%8e', 't0':'%8e'}\n",
    "        \n"
   ]
  }
 ],
 "metadata": {
  "kernelspec": {
   "display_name": "Python 2",
   "language": "python",
   "name": "python2"
  },
  "language_info": {
   "codemirror_mode": {
    "name": "ipython",
    "version": 2
   },
   "file_extension": ".py",
   "mimetype": "text/x-python",
   "name": "python",
   "nbconvert_exporter": "python",
   "pygments_lexer": "ipython2",
   "version": "2.7.10"
  }
 },
 "nbformat": 4,
 "nbformat_minor": 0
}
