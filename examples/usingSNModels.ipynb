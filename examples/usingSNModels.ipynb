{
 "cells": [
  {
   "cell_type": "code",
   "execution_count": 1,
   "metadata": {
    "collapsed": false
   },
   "outputs": [
    {
     "name": "stderr",
     "output_type": "stream",
     "text": [
      "/usr/local/manual/anaconda/lib/python2.7/site-packages/matplotlib/__init__.py:872: UserWarning: axes.color_cycle is deprecated and replaced with axes.prop_cycle; please use the latter.\n",
      "  warnings.warn(self.msg_depr % (key, alt_key))\n"
     ]
    }
   ],
   "source": [
    "import os\n",
    "import numpy as np\n",
    "import time\n",
    "%matplotlib inline\n",
    "import matplotlib.pyplot as plt\n",
    "import pandas as pd\n",
    "import matplotlib.patches  as mpatches\n",
    "import matplotlib\n",
    "import seaborn as sns\n",
    "sns.set()"
   ]
  },
  {
   "cell_type": "code",
   "execution_count": 2,
   "metadata": {
    "collapsed": false
   },
   "outputs": [],
   "source": [
    "from lsst.sims.catalogs.generation.db import CatalogDBObject\n",
    "from lsst.sims.catalogs.generation.db import CatalogDBObject"
   ]
  },
  {
   "cell_type": "code",
   "execution_count": 3,
   "metadata": {
    "collapsed": false
   },
   "outputs": [
    {
     "name": "stderr",
     "output_type": "stream",
     "text": [
      "Duplicate object type id 25 specified: \n",
      "Output object ids may not be unique.\n",
      "This may not be a problem if you do not want globally unique id values\n",
      "Duplicate object type id 40 specified: \n",
      "Output object ids may not be unique.\n",
      "This may not be a problem if you do not want globally unique id values\n",
      "Duplicate object type id 40 specified: \n",
      "Output object ids may not be unique.\n",
      "This may not be a problem if you do not want globally unique id values\n",
      "Duplicate object type id 40 specified: \n",
      "Output object ids may not be unique.\n",
      "This may not be a problem if you do not want globally unique id values\n",
      "Duplicate object type id 40 specified: \n",
      "Output object ids may not be unique.\n",
      "This may not be a problem if you do not want globally unique id values\n"
     ]
    }
   ],
   "source": [
    "import lsst.sims.catUtils.baseCatalogModels as bcm\n",
    "from lsst.sims.catalogs.measures.instance import InstanceCatalog\n",
    "from lsst.sims.utils import ObservationMetaData"
   ]
  },
  {
   "cell_type": "code",
   "execution_count": 4,
   "metadata": {
    "collapsed": false
   },
   "outputs": [],
   "source": [
    "from lsst.sims.catUtils.baseCatalogModels import GalaxyTileObj, GalaxyDiskObj\n",
    "from lsst.sims.catUtils.baseCatalogModels import SNObj\n",
    "from lsst.sims.catUtils.mixins import FrozenSNCat"
   ]
  },
  {
   "cell_type": "code",
   "execution_count": 5,
   "metadata": {
    "collapsed": false
   },
   "outputs": [],
   "source": [
    "s  = SNObj()"
   ]
  },
  {
   "cell_type": "markdown",
   "metadata": {},
   "source": [
    "## ObsMetaData"
   ]
  },
  {
   "cell_type": "code",
   "execution_count": 6,
   "metadata": {
    "collapsed": true
   },
   "outputs": [],
   "source": [
    "from lsst.sims.catUtils.utils import ObservationMetaDataGenerator"
   ]
  },
  {
   "cell_type": "code",
   "execution_count": 7,
   "metadata": {
    "collapsed": false
   },
   "outputs": [],
   "source": [
    "degConv = np.array([1., 1./60., 1./3600.])\n",
    "raConv = degConv / 24.0 * 360.\n",
    "centralRA = np.dot(np.array([3., 32., 30]), raConv) #03h 32m 30s\n",
    "centralDec = np.dot(np.array([-28, 6., 0.]), degConv)\n",
    "patchRadius = 0.4 * np.sqrt(2) #np.dot(np.array([0.0, 10.0, 0.]), degConv)"
   ]
  },
  {
   "cell_type": "code",
   "execution_count": 8,
   "metadata": {
    "collapsed": true
   },
   "outputs": [],
   "source": [
    "opsimPath = os.path.join('/Users/rbiswas/data/LSST/OpSimData')\n",
    "opsimDB = os.path.join(opsimPath,'enigma_1189_sqlite.db')"
   ]
  },
  {
   "cell_type": "code",
   "execution_count": 9,
   "metadata": {
    "collapsed": true
   },
   "outputs": [],
   "source": [
    "generator = ObservationMetaDataGenerator(driver='sqlite', database=opsimDB) #database = opsimPath, driver='sqlite')\n",
    "obsMetaDataResults = generator.getObservationMetaData(limit=1000,\n",
    "                                                      fieldRA=(centralRA - 2.0, centralRA + 2.0), \n",
    "                                                      fieldDec=(centralDec - 2.0, centralDec + 2.0),\n",
    "                                                      expMJD=(49500., 49690.),\n",
    "                                                      boundLength=0.05,\n",
    "                                                      boundType='circle')"
   ]
  },
  {
   "cell_type": "code",
   "execution_count": 10,
   "metadata": {
    "collapsed": false
   },
   "outputs": [],
   "source": [
    "_ = [(obsMetaDataResults.index(x), x.mjd.TAI) for x in obsMetaDataResults if x.bandpass == 'r']"
   ]
  },
  {
   "cell_type": "code",
   "execution_count": 11,
   "metadata": {
    "collapsed": true
   },
   "outputs": [],
   "source": [
    "TwinklesObsMetaDataSmall = obsMetaDataResults[35]\n",
    "TwinklesObsMetaDataSmall2 = obsMetaDataResults[145]\n",
    "TwinklesObsMetaDataSmall3 = obsMetaDataResults[390]"
   ]
  },
  {
   "cell_type": "code",
   "execution_count": 12,
   "metadata": {
    "collapsed": false
   },
   "outputs": [
    {
     "name": "stdout",
     "output_type": "stream",
     "text": [
      "(53.009138473031555, 53.009138473031555, 53.009138473031555)\n"
     ]
    }
   ],
   "source": [
    "print (TwinklesObsMetaDataSmall.pointingRA, TwinklesObsMetaDataSmall2.pointingRA, TwinklesObsMetaDataSmall3.pointingRA)"
   ]
  },
  {
   "cell_type": "code",
   "execution_count": 13,
   "metadata": {
    "collapsed": false
   },
   "outputs": [],
   "source": [
    "class TSNCopy(InstanceCatalog):\n",
    "    \n",
    "    column_outputs = ['raJ2000', 'decJ2000', 'snid', 'Tgaltileid','Tt0', 'Tx0', 'Tx1', 'Tc', 'Tredshift', ]\n",
    "    override_formats = {'raJ2000': '%8e', 'decJ2000': '%8e', 'x0':'%8e'}"
   ]
  },
  {
   "cell_type": "code",
   "execution_count": 14,
   "metadata": {
    "collapsed": false
   },
   "outputs": [],
   "source": [
    "Ttsmall = TSNCopy(db_obj=s, obs_metadata=TwinklesObsMetaDataSmall)\n",
    "Ttsmall.write_catalog('TTwinklesSN.dat')"
   ]
  },
  {
   "cell_type": "code",
   "execution_count": 15,
   "metadata": {
    "collapsed": false
   },
   "outputs": [
    {
     "name": "stderr",
     "output_type": "stream",
     "text": [
      "/usr/local/manual/anaconda/lib/python2.7/site-packages/ipykernel/__main__.py:1: ParserWarning: Falling back to the 'python' engine because the 'c' engine does not support regex separators; you can avoid this warning by specifying engine='python'.\n",
      "  if __name__ == '__main__':\n"
     ]
    }
   ],
   "source": [
    "TTSNdf = pd.read_csv('TTwinklesSN.dat', sep=',\\s+')"
   ]
  },
  {
   "cell_type": "code",
   "execution_count": 16,
   "metadata": {
    "collapsed": false
   },
   "outputs": [
    {
     "data": {
      "image/png": "[encoded data removed]",
      "text/plain": [
       "<matplotlib.figure.Figure at 0x11cf51b50>"
      ]
     },
     "metadata": {},
     "output_type": "display_data"
    }
   ],
   "source": [
    "fig, ax = plt.subplots()\n",
    "ax.hexbin(np.degrees(TTSNdf['#raJ2000']), np.degrees(TTSNdf.decJ2000))\n",
    "ax.plot(TwinklesObsMetaDataSmall.pointingRA, TwinklesObsMetaDataSmall.pointingDec, \n",
    "         'ys', markersize=14)\n",
    "circ = mpatches.Circle((TwinklesObsMetaDataSmall.pointingRA, TwinklesObsMetaDataSmall.pointingDec), \n",
    "         0.05)\n",
    "circ.set(edgecolor='r', fill=False, lw=2)\n",
    "#circ.set(face)\n",
    "ax.add_artist(circ)\n",
    "ax.set_aspect('equal')\n",
    "y_formatter = matplotlib.ticker.ScalarFormatter(useOffset=False)\n",
    "ax.yaxis.set_major_formatter(y_formatter)\n",
    "#sns.despine()"
   ]
  },
  {
   "cell_type": "markdown",
   "metadata": {},
   "source": [
    "##  SN Instance Catalogs"
   ]
  },
  {
   "cell_type": "code",
   "execution_count": 17,
   "metadata": {
    "collapsed": false
   },
   "outputs": [
    {
     "name": "stdout",
     "output_type": "stream",
     "text": [
      "('badvalues ', nan)\n",
      "('mjd ', 49612.338296000002)\n",
      "('maxTime', 100.0)\n",
      "('number of cases ', 0)\n"
     ]
    }
   ],
   "source": [
    "sncatalog = FrozenSNCat(db_obj=s, obs_metadata=TwinklesObsMetaDataSmall, \n",
    "                         column_outputs=['snra', 'galtileid', 'sndec', 'snid', 'x0', 't0', 'flux', 'flux_err', 'mag', 'mag_err',\n",
    "                                         'TmagNorm', 'TsedFilepath', 'adu'])\n",
    "sncatalog.surveyStartDate = 49500.\n",
    "sncatalog.writeSedFile = False\n",
    "sncatalog.prefix = '/Users/rbiswas/tmp/'"
   ]
  },
  {
   "cell_type": "code",
   "execution_count": 18,
   "metadata": {
    "collapsed": false
   },
   "outputs": [],
   "source": [
    "sncatalog.suppressDimSN = True"
   ]
  },
  {
   "cell_type": "code",
   "execution_count": 19,
   "metadata": {
    "collapsed": false
   },
   "outputs": [
    {
     "name": "stdout",
     "output_type": "stream",
     "text": [
      "('badvalues ', nan)\n",
      "('mjd ', 49612.338296000002)\n",
      "('maxTime', 100.0)\n",
      "('number of cases ', 0)\n",
      "('badvalues ', nan)\n",
      "('mjd ', 49612.338296000002)\n",
      "('maxTime', 100.0)\n",
      "('number of cases ', 1883)\n",
      "('badvalues ', nan)\n",
      "('mjd ', 49612.338296000002)\n",
      "('maxTime', 100.0)\n",
      "('number of cases ', 1879)\n",
      "('badvalues ', nan)\n",
      "('mjd ', 49612.338296000002)\n",
      "('maxTime', 100.0)\n",
      "('number of cases ', 1900)\n",
      "('badvalues ', nan)\n",
      "('mjd ', 49612.338296000002)\n",
      "('maxTime', 100.0)\n",
      "('number of cases ', 665)\n",
      "56.2388999462\n"
     ]
    }
   ],
   "source": [
    "start = time.time()\n",
    "_ = sncatalog.write_catalog('newcat.dat', chunk_size=2000)\n",
    "end = time.time()\n",
    "print end -start"
   ]
  },
  {
   "cell_type": "code",
   "execution_count": 20,
   "metadata": {
    "collapsed": false
   },
   "outputs": [
    {
     "name": "stdout",
     "output_type": "stream",
     "text": [
      "('badvalues ', nan)\n",
      "('mjd ', 49612.338296000002)\n",
      "('maxTime', 100.0)\n",
      "('number of cases ', 0)\n"
     ]
    }
   ],
   "source": [
    "NoCalcCat = FrozenSNCat(db_obj=s, obs_metadata=TwinklesObsMetaDataSmall, \n",
    "                         column_outputs=['snra', 'galtileid', 'sndec', 'snid', 'x0', 't0'])\n",
    "NoCalcCat.surveyStartDate = 49500.\n",
    "NoCalcCat.writeSedFile = False\n",
    "NoCalcCat.prefix = '/Users/rbiswas/tmp/'"
   ]
  },
  {
   "cell_type": "code",
   "execution_count": 21,
   "metadata": {
    "collapsed": false
   },
   "outputs": [
    {
     "name": "stdout",
     "output_type": "stream",
     "text": [
      "('badvalues ', nan)\n",
      "('mjd ', 49612.338296000002)\n",
      "('maxTime', 100.0)\n",
      "('number of cases ', 0)\n",
      "('badvalues ', nan)\n",
      "('mjd ', 49612.338296000002)\n",
      "('maxTime', 100.0)\n",
      "('number of cases ', 1874)\n",
      "('badvalues ', nan)\n",
      "('mjd ', 49612.338296000002)\n",
      "('maxTime', 100.0)\n",
      "('number of cases ', 1882)\n",
      "('badvalues ', nan)\n",
      "('mjd ', 49612.338296000002)\n",
      "('maxTime', 100.0)\n",
      "('number of cases ', 1902)\n",
      "('badvalues ', nan)\n",
      "('mjd ', 49612.338296000002)\n",
      "('maxTime', 100.0)\n",
      "('number of cases ', 669)\n",
      "6.52486109734\n"
     ]
    }
   ],
   "source": [
    "start = time.time()\n",
    "_ = NoCalcCat.write_catalog('nocalculations.dat', chunk_size=2000)\n",
    "end = time.time()\n",
    "print end -start"
   ]
  },
  {
   "cell_type": "code",
   "execution_count": 22,
   "metadata": {
    "collapsed": false
   },
   "outputs": [
    {
     "name": "stdout",
     "output_type": "stream",
     "text": [
      "     393 newcat.dat\r\n"
     ]
    }
   ],
   "source": [
    "!wc -l newcat.dat\n",
    "#!wc -l newcat2.dat\n",
    "#!wc -l newcat3.dat"
   ]
  },
  {
   "cell_type": "code",
   "execution_count": 23,
   "metadata": {
    "collapsed": false
   },
   "outputs": [
    {
     "name": "stdout",
     "output_type": "stream",
     "text": [
      "('badvalues ', nan)\n",
      "('mjd ', 49612.338296000002)\n",
      "('maxTime', 100.0)\n",
      "('number of cases ', 0)\n"
     ]
    }
   ],
   "source": [
    "OnlyPhoSim = FrozenSNCat(db_obj=s, obs_metadata=TwinklesObsMetaDataSmall, \n",
    "                         column_outputs=['snra', 'galtileid', 'sndec', 'snid', 'x0', 't0',\n",
    "                                         'TmagNorm', 'TsedFilepath'])\n",
    "OnlyPhoSim.surveyStartDate = 49500.\n",
    "OnlyPhoSim.writeSedFile = False\n",
    "OnlyPhoSim.prefix = '/Users/rbiswas/tmp/'"
   ]
  },
  {
   "cell_type": "code",
   "execution_count": 24,
   "metadata": {
    "collapsed": false
   },
   "outputs": [
    {
     "name": "stdout",
     "output_type": "stream",
     "text": [
      "('badvalues ', nan)\n",
      "('mjd ', 49612.338296000002)\n",
      "('maxTime', 100.0)\n",
      "('number of cases ', 0)\n",
      "('badvalues ', nan)\n",
      "('mjd ', 49612.338296000002)\n",
      "('maxTime', 100.0)\n",
      "('number of cases ', 1872)\n",
      "('badvalues ', nan)\n",
      "('mjd ', 49612.338296000002)\n",
      "('maxTime', 100.0)\n",
      "('number of cases ', 1890)\n",
      "('badvalues ', nan)\n",
      "('mjd ', 49612.338296000002)\n",
      "('maxTime', 100.0)\n",
      "('number of cases ', 1899)\n",
      "('badvalues ', nan)\n",
      "('mjd ', 49612.338296000002)\n",
      "('maxTime', 100.0)\n",
      "('number of cases ', 666)\n",
      "8.46256518364\n"
     ]
    }
   ],
   "source": [
    "start = time.time()\n",
    "_ = OnlyPhoSim.write_catalog('onlyPhosimCalcs.dat', chunk_size=2000)\n",
    "end = time.time()\n",
    "print end -start"
   ]
  },
  {
   "cell_type": "code",
   "execution_count": 25,
   "metadata": {
    "collapsed": false
   },
   "outputs": [
    {
     "name": "stdout",
     "output_type": "stream",
     "text": [
      "('badvalues ', nan)\n",
      "('mjd ', 49612.338296000002)\n",
      "('maxTime', 100.0)\n",
      "('number of cases ', 0)\n",
      "('badvalues ', nan)\n",
      "('mjd ', 49612.338296000002)\n",
      "('maxTime', 100.0)\n",
      "('number of cases ', 1871)\n",
      "('writing file to ', '/Users/rbiswas/tmp/specFile_6000274614100_49612.3383_r.dat')\n",
      "('writing file to ', '/Users/rbiswas/tmp/specFile_6000606050501_49612.3383_r.dat')\n",
      "('writing file to ', '/Users/rbiswas/tmp/specFile_6000018451007_49612.3383_r.dat')\n",
      "('writing file to ', '/Users/rbiswas/tmp/specFile_6000091709107_49612.3383_r.dat')\n",
      "('writing file to ', '/Users/rbiswas/tmp/specFile_6000777478400_49612.3383_r.dat')\n",
      "('writing file to ', '/Users/rbiswas/tmp/specFile_6000972229700_49612.3383_r.dat')\n",
      "('writing file to ', '/Users/rbiswas/tmp/specFile_6000167058301_49612.3383_r.dat')\n",
      "('writing file to ', '/Users/rbiswas/tmp/specFile_6000134534807_49612.3383_r.dat')\n",
      "('writing file to ', '/Users/rbiswas/tmp/specFile_6000134534803_49612.3383_r.dat')\n",
      "('writing file to ', '/Users/rbiswas/tmp/specFile_6000166844111_49612.3383_r.dat')\n",
      "('writing file to ', '/Users/rbiswas/tmp/specFile_6000307465100_49612.3383_r.dat')\n",
      "('writing file to ', '/Users/rbiswas/tmp/specFile_6000140140803_49612.3383_r.dat')\n",
      "('writing file to ', '/Users/rbiswas/tmp/specFile_6000202198804_49612.3383_r.dat')\n",
      "('writing file to ', '/Users/rbiswas/tmp/specFile_6001080913807_49612.3383_r.dat')\n",
      "('writing file to ', '/Users/rbiswas/tmp/specFile_6000163765100_49612.3383_r.dat')\n",
      "('writing file to ', '/Users/rbiswas/tmp/specFile_6000562083903_49612.3383_r.dat')\n",
      "('writing file to ', '/Users/rbiswas/tmp/specFile_6000350025005_49612.3383_r.dat')\n",
      "('writing file to ', '/Users/rbiswas/tmp/specFile_6001552130005_49612.3383_r.dat')\n",
      "('writing file to ', '/Users/rbiswas/tmp/specFile_6000835291202_49612.3383_r.dat')\n",
      "('writing file to ', '/Users/rbiswas/tmp/specFile_6000927114101_49612.3383_r.dat')\n",
      "('writing file to ', '/Users/rbiswas/tmp/specFile_6000676754304_49612.3383_r.dat')\n",
      "('writing file to ', '/Users/rbiswas/tmp/specFile_6000410542104_49612.3383_r.dat')\n",
      "('writing file to ', '/Users/rbiswas/tmp/specFile_6000033906504_49612.3383_r.dat')\n",
      "('writing file to ', '/Users/rbiswas/tmp/specFile_6000033906500_49612.3383_r.dat')\n",
      "('writing file to ', '/Users/rbiswas/tmp/specFile_6000033906503_49612.3383_r.dat')\n",
      "('writing file to ', '/Users/rbiswas/tmp/specFile_6000033906502_49612.3383_r.dat')\n",
      "('writing file to ', '/Users/rbiswas/tmp/specFile_6000004967501_49612.3383_r.dat')\n",
      "('writing file to ', '/Users/rbiswas/tmp/specFile_6000235329700_49612.3383_r.dat')\n",
      "('writing file to ', '/Users/rbiswas/tmp/specFile_6000008189004_49612.3383_r.dat')\n",
      "('writing file to ', '/Users/rbiswas/tmp/specFile_6000132061801_49612.3383_r.dat')\n",
      "('writing file to ', '/Users/rbiswas/tmp/specFile_6000054794501_49612.3383_r.dat')\n",
      "('writing file to ', '/Users/rbiswas/tmp/specFile_6001275441101_49612.3383_r.dat')\n",
      "('writing file to ', '/Users/rbiswas/tmp/specFile_6000210509202_49612.3383_r.dat')\n",
      "('writing file to ', '/Users/rbiswas/tmp/specFile_6001024562102_49612.3383_r.dat')\n",
      "('writing file to ', '/Users/rbiswas/tmp/specFile_6000606308802_49612.3383_r.dat')\n",
      "('writing file to ', '/Users/rbiswas/tmp/specFile_6000403797502_49612.3383_r.dat')\n",
      "('writing file to ', '/Users/rbiswas/tmp/specFile_6000364581702_49612.3383_r.dat')\n",
      "('writing file to ', '/Users/rbiswas/tmp/specFile_6001082682302_49612.3383_r.dat')\n",
      "('writing file to ', '/Users/rbiswas/tmp/specFile_6001080932900_49612.3383_r.dat')\n",
      "('writing file to ', '/Users/rbiswas/tmp/specFile_6000091522300_49612.3383_r.dat')\n",
      "('writing file to ', '/Users/rbiswas/tmp/specFile_6000038455704_49612.3383_r.dat')\n",
      "('writing file to ', '/Users/rbiswas/tmp/specFile_6000051869210_49612.3383_r.dat')\n",
      "('writing file to ', '/Users/rbiswas/tmp/specFile_6000977162201_49612.3383_r.dat')\n",
      "('writing file to ', '/Users/rbiswas/tmp/specFile_6000977162200_49612.3383_r.dat')\n",
      "('writing file to ', '/Users/rbiswas/tmp/specFile_6000000545309_49612.3383_r.dat')\n",
      "('writing file to ', '/Users/rbiswas/tmp/specFile_6000410400901_49612.3383_r.dat')\n",
      "('writing file to ', '/Users/rbiswas/tmp/specFile_6000341735403_49612.3383_r.dat')\n",
      "('writing file to ', '/Users/rbiswas/tmp/specFile_6000927990407_49612.3383_r.dat')\n",
      "('writing file to ', '/Users/rbiswas/tmp/specFile_6000927990401_49612.3383_r.dat')\n",
      "('writing file to ', '/Users/rbiswas/tmp/specFile_6000567535901_49612.3383_r.dat')\n",
      "('writing file to ', '/Users/rbiswas/tmp/specFile_6000567535902_49612.3383_r.dat')\n",
      "('writing file to ', '/Users/rbiswas/tmp/specFile_6001194751802_49612.3383_r.dat')\n",
      "('writing file to ', '/Users/rbiswas/tmp/specFile_6000797293504_49612.3383_r.dat')\n",
      "('writing file to ', '/Users/rbiswas/tmp/specFile_6000198918010_49612.3383_r.dat')\n",
      "('writing file to ', '/Users/rbiswas/tmp/specFile_6001274264202_49612.3383_r.dat')\n",
      "('writing file to ', '/Users/rbiswas/tmp/specFile_6000572776704_49612.3383_r.dat')\n",
      "('writing file to ', '/Users/rbiswas/tmp/specFile_6000292033805_49612.3383_r.dat')\n",
      "('writing file to ', '/Users/rbiswas/tmp/specFile_6000292033803_49612.3383_r.dat')\n",
      "('writing file to ', '/Users/rbiswas/tmp/specFile_6000834875902_49612.3383_r.dat')\n",
      "('writing file to ', '/Users/rbiswas/tmp/specFile_6000317475302_49612.3383_r.dat')\n",
      "('writing file to ', '/Users/rbiswas/tmp/specFile_6000194993000_49612.3383_r.dat')\n",
      "('writing file to ', '/Users/rbiswas/tmp/specFile_6000587029801_49612.3383_r.dat')\n",
      "('writing file to ', '/Users/rbiswas/tmp/specFile_6000800453901_49612.3383_r.dat')\n",
      "('writing file to ', '/Users/rbiswas/tmp/specFile_6000973485602_49612.3383_r.dat')\n",
      "('writing file to ', '/Users/rbiswas/tmp/specFile_6000076927902_49612.3383_r.dat')\n",
      "('writing file to ', '/Users/rbiswas/tmp/specFile_6000305397501_49612.3383_r.dat')\n",
      "('writing file to ', '/Users/rbiswas/tmp/specFile_6000351116503_49612.3383_r.dat')\n",
      "('writing file to ', '/Users/rbiswas/tmp/specFile_6001199321908_49612.3383_r.dat')\n",
      "('writing file to ', '/Users/rbiswas/tmp/specFile_6000201952106_49612.3383_r.dat')\n",
      "('writing file to ', '/Users/rbiswas/tmp/specFile_6000433495900_49612.3383_r.dat')\n",
      "('writing file to ', '/Users/rbiswas/tmp/specFile_6000023249402_49612.3383_r.dat')\n",
      "('writing file to ', '/Users/rbiswas/tmp/specFile_6000193812201_49612.3383_r.dat')\n",
      "('writing file to ', '/Users/rbiswas/tmp/specFile_6000346719202_49612.3383_r.dat')\n",
      "('writing file to ', '/Users/rbiswas/tmp/specFile_6000467678401_49612.3383_r.dat')\n",
      "('writing file to ', '/Users/rbiswas/tmp/specFile_6000678379206_49612.3383_r.dat')\n",
      "('writing file to ', '/Users/rbiswas/tmp/specFile_6000005422702_49612.3383_r.dat')\n",
      "('writing file to ', '/Users/rbiswas/tmp/specFile_6000145656501_49612.3383_r.dat')\n",
      "('writing file to ', '/Users/rbiswas/tmp/specFile_6000298986403_49612.3383_r.dat')\n",
      "('writing file to ', '/Users/rbiswas/tmp/specFile_6000606321600_49612.3383_r.dat')\n",
      "('writing file to ', '/Users/rbiswas/tmp/specFile_6000924498107_49612.3383_r.dat')\n",
      "('writing file to ', '/Users/rbiswas/tmp/specFile_6001213289101_49612.3383_r.dat')\n",
      "('writing file to ', '/Users/rbiswas/tmp/specFile_6000024404501_49612.3383_r.dat')\n",
      "('writing file to ', '/Users/rbiswas/tmp/specFile_6000899560002_49612.3383_r.dat')\n",
      "('writing file to ', '/Users/rbiswas/tmp/specFile_6000004116012_49612.3383_r.dat')\n",
      "('writing file to ', '/Users/rbiswas/tmp/specFile_6001090682202_49612.3383_r.dat')\n",
      "('writing file to ', '/Users/rbiswas/tmp/specFile_6000377360701_49612.3383_r.dat')\n",
      "('writing file to ', '/Users/rbiswas/tmp/specFile_6000289463004_49612.3383_r.dat')\n",
      "('writing file to ', '/Users/rbiswas/tmp/specFile_6000685739708_49612.3383_r.dat')\n",
      "('writing file to ', '/Users/rbiswas/tmp/specFile_6001317431307_49612.3383_r.dat')\n",
      "('writing file to ', '/Users/rbiswas/tmp/specFile_6000495366201_49612.3383_r.dat')\n",
      "('writing file to ', '/Users/rbiswas/tmp/specFile_6000091687504_49612.3383_r.dat')\n",
      "('writing file to ', '/Users/rbiswas/tmp/specFile_6000426899304_49612.3383_r.dat')\n",
      "('writing file to ', '/Users/rbiswas/tmp/specFile_6000342757701_49612.3383_r.dat')\n",
      "('writing file to ', '/Users/rbiswas/tmp/specFile_6001125679701_49612.3383_r.dat')\n",
      "('writing file to ', '/Users/rbiswas/tmp/specFile_6000018457105_49612.3383_r.dat')\n",
      "('writing file to ', '/Users/rbiswas/tmp/specFile_6000002425203_49612.3383_r.dat')\n",
      "('writing file to ', '/Users/rbiswas/tmp/specFile_6000079851701_49612.3383_r.dat')\n",
      "('writing file to ', '/Users/rbiswas/tmp/specFile_6000402455900_49612.3383_r.dat')\n",
      "('writing file to ', '/Users/rbiswas/tmp/specFile_6000402455901_49612.3383_r.dat')\n",
      "('writing file to ', '/Users/rbiswas/tmp/specFile_6000202566600_49612.3383_r.dat')\n",
      "('writing file to ', '/Users/rbiswas/tmp/specFile_6000202566601_49612.3383_r.dat')\n",
      "('writing file to ', '/Users/rbiswas/tmp/specFile_6000342757707_49612.3383_r.dat')\n",
      "('writing file to ', '/Users/rbiswas/tmp/specFile_6000149516601_49612.3383_r.dat')\n",
      "('writing file to ', '/Users/rbiswas/tmp/specFile_6000423254300_49612.3383_r.dat')\n",
      "('writing file to ', '/Users/rbiswas/tmp/specFile_6000305015401_49612.3383_r.dat')\n",
      "('writing file to ', '/Users/rbiswas/tmp/specFile_6000713742900_49612.3383_r.dat')\n",
      "('writing file to ', '/Users/rbiswas/tmp/specFile_6000818813400_49612.3383_r.dat')\n",
      "('writing file to ', '/Users/rbiswas/tmp/specFile_6001643721400_49612.3383_r.dat')\n",
      "('writing file to ', '/Users/rbiswas/tmp/specFile_6001087469509_49612.3383_r.dat')\n",
      "('writing file to ', '/Users/rbiswas/tmp/specFile_6000134408504_49612.3383_r.dat')\n",
      "('writing file to ', '/Users/rbiswas/tmp/specFile_6000134408509_49612.3383_r.dat')\n",
      "('writing file to ', '/Users/rbiswas/tmp/specFile_6000134408501_49612.3383_r.dat')\n",
      "('writing file to ', '/Users/rbiswas/tmp/specFile_6000195497000_49612.3383_r.dat')\n",
      "('writing file to ', '/Users/rbiswas/tmp/specFile_6001108358902_49612.3383_r.dat')\n",
      "('writing file to ', '/Users/rbiswas/tmp/specFile_6000178785102_49612.3383_r.dat')\n",
      "('writing file to ', '/Users/rbiswas/tmp/specFile_6000676473202_49612.3383_r.dat')\n",
      "('writing file to ', '/Users/rbiswas/tmp/specFile_6000676473207_49612.3383_r.dat')\n",
      "('writing file to ', '/Users/rbiswas/tmp/specFile_6000676473200_49612.3383_r.dat')\n",
      "('writing file to ', '/Users/rbiswas/tmp/specFile_6000594143600_49612.3383_r.dat')\n",
      "('writing file to ', '/Users/rbiswas/tmp/specFile_6000669150802_49612.3383_r.dat')\n",
      "('writing file to ', '/Users/rbiswas/tmp/specFile_6001496264000_49612.3383_r.dat')\n",
      "('writing file to ', '/Users/rbiswas/tmp/specFile_6000050506900_49612.3383_r.dat')\n",
      "('writing file to ', '/Users/rbiswas/tmp/specFile_6001376540805_49612.3383_r.dat')\n",
      "('writing file to ', '/Users/rbiswas/tmp/specFile_6001376540801_49612.3383_r.dat')\n",
      "('writing file to ', '/Users/rbiswas/tmp/specFile_6001069743203_49612.3383_r.dat')\n",
      "('writing file to ', '/Users/rbiswas/tmp/specFile_6000687033504_49612.3383_r.dat')\n",
      "('writing file to ', '/Users/rbiswas/tmp/specFile_6000138701900_49612.3383_r.dat')\n",
      "('writing file to ', '/Users/rbiswas/tmp/specFile_6001666672200_49612.3383_r.dat')\n",
      "('writing file to ', '/Users/rbiswas/tmp/specFile_6001128400302_49612.3383_r.dat')\n",
      "('badvalues ', nan)\n",
      "('mjd ', 49612.338296000002)\n",
      "('maxTime', 100.0)\n",
      "('number of cases ', 1887)\n",
      "('writing file to ', '/Users/rbiswas/tmp/specFile_6000132752502_49612.3383_r.dat')\n",
      "('writing file to ', '/Users/rbiswas/tmp/specFile_6001614647700_49612.3383_r.dat')\n",
      "('writing file to ', '/Users/rbiswas/tmp/specFile_6000283711601_49612.3383_r.dat')\n",
      "('writing file to ', '/Users/rbiswas/tmp/specFile_6000740499200_49612.3383_r.dat')\n",
      "('writing file to ', '/Users/rbiswas/tmp/specFile_6001070123705_49612.3383_r.dat')\n",
      "('writing file to ', '/Users/rbiswas/tmp/specFile_6001472253302_49612.3383_r.dat')\n",
      "('writing file to ', '/Users/rbiswas/tmp/specFile_6000199413203_49612.3383_r.dat')\n",
      "('writing file to ', '/Users/rbiswas/tmp/specFile_6000154757310_49612.3383_r.dat')\n",
      "('writing file to ', '/Users/rbiswas/tmp/specFile_6000663799100_49612.3383_r.dat')\n",
      "('writing file to ', '/Users/rbiswas/tmp/specFile_6000574726505_49612.3383_r.dat')\n",
      "('writing file to ', '/Users/rbiswas/tmp/specFile_6000574726509_49612.3383_r.dat')\n",
      "('writing file to ', '/Users/rbiswas/tmp/specFile_6000605816501_49612.3383_r.dat')\n",
      "('writing file to ', '/Users/rbiswas/tmp/specFile_6000490746900_49612.3383_r.dat')\n",
      "('writing file to ', '/Users/rbiswas/tmp/specFile_6000490746905_49612.3383_r.dat')\n",
      "('writing file to ', '/Users/rbiswas/tmp/specFile_6000288586302_49612.3383_r.dat')\n",
      "('writing file to ', '/Users/rbiswas/tmp/specFile_6000288586307_49612.3383_r.dat')\n",
      "('writing file to ', '/Users/rbiswas/tmp/specFile_6000054225508_49612.3383_r.dat')\n",
      "('writing file to ', '/Users/rbiswas/tmp/specFile_6000606168402_49612.3383_r.dat')\n",
      "('writing file to ', '/Users/rbiswas/tmp/specFile_6000128273501_49612.3383_r.dat')\n",
      "('writing file to ', '/Users/rbiswas/tmp/specFile_6000211814800_49612.3383_r.dat')\n",
      "('writing file to ', '/Users/rbiswas/tmp/specFile_6000685581405_49612.3383_r.dat')\n",
      "('writing file to ', '/Users/rbiswas/tmp/specFile_6000685581404_49612.3383_r.dat')\n",
      "('writing file to ', '/Users/rbiswas/tmp/specFile_6000685581402_49612.3383_r.dat')\n",
      "('writing file to ', '/Users/rbiswas/tmp/specFile_6001311567801_49612.3383_r.dat')\n",
      "('writing file to ', '/Users/rbiswas/tmp/specFile_6000062948600_49612.3383_r.dat')\n",
      "('writing file to ', '/Users/rbiswas/tmp/specFile_6001336009702_49612.3383_r.dat')\n",
      "('writing file to ', '/Users/rbiswas/tmp/specFile_6000243925204_49612.3383_r.dat')\n",
      "('writing file to ', '/Users/rbiswas/tmp/specFile_6001503517401_49612.3383_r.dat')\n",
      "('writing file to ', '/Users/rbiswas/tmp/specFile_6000015342700_49612.3383_r.dat')\n",
      "('writing file to ', '/Users/rbiswas/tmp/specFile_6000134531900_49612.3383_r.dat')\n",
      "('writing file to ', '/Users/rbiswas/tmp/specFile_6000134531906_49612.3383_r.dat')\n",
      "('writing file to ', '/Users/rbiswas/tmp/specFile_6000982135402_49612.3383_r.dat')\n",
      "('writing file to ', '/Users/rbiswas/tmp/specFile_6000182213900_49612.3383_r.dat')\n",
      "('writing file to ', '/Users/rbiswas/tmp/specFile_6000515368501_49612.3383_r.dat')\n",
      "('writing file to ', '/Users/rbiswas/tmp/specFile_6000713497400_49612.3383_r.dat')\n",
      "('writing file to ', '/Users/rbiswas/tmp/specFile_6001039437701_49612.3383_r.dat')\n",
      "('writing file to ', '/Users/rbiswas/tmp/specFile_6001291338100_49612.3383_r.dat')\n",
      "('writing file to ', '/Users/rbiswas/tmp/specFile_6001291338105_49612.3383_r.dat')\n",
      "('writing file to ', '/Users/rbiswas/tmp/specFile_6001395868502_49612.3383_r.dat')\n",
      "('writing file to ', '/Users/rbiswas/tmp/specFile_6000574434803_49612.3383_r.dat')\n",
      "('writing file to ', '/Users/rbiswas/tmp/specFile_6000574434801_49612.3383_r.dat')\n",
      "('writing file to ', '/Users/rbiswas/tmp/specFile_6000799122700_49612.3383_r.dat')\n",
      "('writing file to ', '/Users/rbiswas/tmp/specFile_6000501078300_49612.3383_r.dat')\n",
      "('writing file to ', '/Users/rbiswas/tmp/specFile_6000486665300_49612.3383_r.dat')\n",
      "('writing file to ', '/Users/rbiswas/tmp/specFile_6000486665304_49612.3383_r.dat')\n",
      "('writing file to ', '/Users/rbiswas/tmp/specFile_6000408462007_49612.3383_r.dat')\n",
      "('writing file to ', '/Users/rbiswas/tmp/specFile_6001076716608_49612.3383_r.dat')\n",
      "('writing file to ', '/Users/rbiswas/tmp/specFile_6000238813410_49612.3383_r.dat')\n",
      "('writing file to ', '/Users/rbiswas/tmp/specFile_6000915021801_49612.3383_r.dat')\n",
      "('writing file to ', '/Users/rbiswas/tmp/specFile_6001604892701_49612.3383_r.dat')\n",
      "('writing file to ', '/Users/rbiswas/tmp/specFile_6001604892708_49612.3383_r.dat')\n",
      "('writing file to ', '/Users/rbiswas/tmp/specFile_6001071398302_49612.3383_r.dat')\n",
      "('writing file to ', '/Users/rbiswas/tmp/specFile_6001297841900_49612.3383_r.dat')\n",
      "('writing file to ', '/Users/rbiswas/tmp/specFile_6000678071502_49612.3383_r.dat')\n",
      "('writing file to ', '/Users/rbiswas/tmp/specFile_6000682382002_49612.3383_r.dat')\n",
      "('writing file to ', '/Users/rbiswas/tmp/specFile_6000598081300_49612.3383_r.dat')\n",
      "('writing file to ', '/Users/rbiswas/tmp/specFile_6001559163605_49612.3383_r.dat')\n",
      "('writing file to ', '/Users/rbiswas/tmp/specFile_6000910859700_49612.3383_r.dat')\n",
      "('writing file to ', '/Users/rbiswas/tmp/specFile_6000038529902_49612.3383_r.dat')\n",
      "('writing file to ', '/Users/rbiswas/tmp/specFile_6000938291203_49612.3383_r.dat')\n",
      "('writing file to ', '/Users/rbiswas/tmp/specFile_6000072717303_49612.3383_r.dat')\n",
      "('writing file to ', '/Users/rbiswas/tmp/specFile_6000072717304_49612.3383_r.dat')\n",
      "('writing file to ', '/Users/rbiswas/tmp/specFile_6000013319703_49612.3383_r.dat')\n",
      "('writing file to ', '/Users/rbiswas/tmp/specFile_6000868317803_49612.3383_r.dat')\n",
      "('writing file to ', '/Users/rbiswas/tmp/specFile_6000065239400_49612.3383_r.dat')\n",
      "('writing file to ', '/Users/rbiswas/tmp/specFile_6000674876108_49612.3383_r.dat')\n",
      "('writing file to ', '/Users/rbiswas/tmp/specFile_6001667630003_49612.3383_r.dat')\n",
      "('writing file to ', '/Users/rbiswas/tmp/specFile_6001667630000_49612.3383_r.dat')\n",
      "('writing file to ', '/Users/rbiswas/tmp/specFile_6000434779807_49612.3383_r.dat')\n",
      "('writing file to ', '/Users/rbiswas/tmp/specFile_6001125632102_49612.3383_r.dat')\n",
      "('writing file to ', '/Users/rbiswas/tmp/specFile_6001104359605_49612.3383_r.dat')\n",
      "('writing file to ', '/Users/rbiswas/tmp/specFile_6000039790801_49612.3383_r.dat')\n",
      "('writing file to ', '/Users/rbiswas/tmp/specFile_6001083089800_49612.3383_r.dat')\n",
      "('writing file to ', '/Users/rbiswas/tmp/specFile_6000687138504_49612.3383_r.dat')\n",
      "('writing file to ', '/Users/rbiswas/tmp/specFile_6001124969203_49612.3383_r.dat')\n",
      "('writing file to ', '/Users/rbiswas/tmp/specFile_6000285849403_49612.3383_r.dat')\n",
      "('writing file to ', '/Users/rbiswas/tmp/specFile_6000940023802_49612.3383_r.dat')\n",
      "('writing file to ', '/Users/rbiswas/tmp/specFile_6001103506602_49612.3383_r.dat')\n",
      "('writing file to ', '/Users/rbiswas/tmp/specFile_6000513884600_49612.3383_r.dat')\n",
      "('writing file to ', '/Users/rbiswas/tmp/specFile_6000576347401_49612.3383_r.dat')\n",
      "('writing file to ', '/Users/rbiswas/tmp/specFile_6000924272500_49612.3383_r.dat')\n",
      "('writing file to ', '/Users/rbiswas/tmp/specFile_6000038657100_49612.3383_r.dat')\n",
      "('writing file to ', '/Users/rbiswas/tmp/specFile_6000005211702_49612.3383_r.dat')\n",
      "('writing file to ', '/Users/rbiswas/tmp/specFile_6000940460206_49612.3383_r.dat')\n",
      "('writing file to ', '/Users/rbiswas/tmp/specFile_6001199135103_49612.3383_r.dat')\n",
      "('writing file to ', '/Users/rbiswas/tmp/specFile_6000975739801_49612.3383_r.dat')\n",
      "('writing file to ', '/Users/rbiswas/tmp/specFile_6000584863908_49612.3383_r.dat')\n",
      "('writing file to ', '/Users/rbiswas/tmp/specFile_6000584863900_49612.3383_r.dat')\n",
      "('writing file to ', '/Users/rbiswas/tmp/specFile_6000137165304_49612.3383_r.dat')\n",
      "('writing file to ', '/Users/rbiswas/tmp/specFile_6000167068307_49612.3383_r.dat')\n",
      "('writing file to ', '/Users/rbiswas/tmp/specFile_6000972570502_49612.3383_r.dat')\n",
      "('writing file to ', '/Users/rbiswas/tmp/specFile_6000483325300_49612.3383_r.dat')\n",
      "('writing file to ', '/Users/rbiswas/tmp/specFile_6001091071501_49612.3383_r.dat')\n",
      "('writing file to ', '/Users/rbiswas/tmp/specFile_6000205974203_49612.3383_r.dat')\n",
      "('writing file to ', '/Users/rbiswas/tmp/specFile_6000574987008_49612.3383_r.dat')\n",
      "('writing file to ', '/Users/rbiswas/tmp/specFile_6000241453803_49612.3383_r.dat')\n",
      "('writing file to ', '/Users/rbiswas/tmp/specFile_6001678759402_49612.3383_r.dat')\n",
      "('writing file to ', '/Users/rbiswas/tmp/specFile_6000805062900_49612.3383_r.dat')\n",
      "('writing file to ', '/Users/rbiswas/tmp/specFile_6000011378201_49612.3383_r.dat')\n",
      "('writing file to ', '/Users/rbiswas/tmp/specFile_6000011378200_49612.3383_r.dat')\n",
      "('writing file to ', '/Users/rbiswas/tmp/specFile_6000494647400_49612.3383_r.dat')\n",
      "('writing file to ', '/Users/rbiswas/tmp/specFile_6000672110506_49612.3383_r.dat')\n",
      "('writing file to ', '/Users/rbiswas/tmp/specFile_6000200218701_49612.3383_r.dat')\n",
      "('writing file to ', '/Users/rbiswas/tmp/specFile_6001328142500_49612.3383_r.dat')\n",
      "('writing file to ', '/Users/rbiswas/tmp/specFile_6001496220201_49612.3383_r.dat')\n",
      "('writing file to ', '/Users/rbiswas/tmp/specFile_6000712989003_49612.3383_r.dat')\n",
      "('writing file to ', '/Users/rbiswas/tmp/specFile_6000425656001_49612.3383_r.dat')\n",
      "('writing file to ', '/Users/rbiswas/tmp/specFile_6000174319000_49612.3383_r.dat')\n",
      "('writing file to ', '/Users/rbiswas/tmp/specFile_6001274283001_49612.3383_r.dat')\n",
      "('writing file to ', '/Users/rbiswas/tmp/specFile_6000547510902_49612.3383_r.dat')\n",
      "('writing file to ', '/Users/rbiswas/tmp/specFile_6000914784400_49612.3383_r.dat')\n",
      "('writing file to ', '/Users/rbiswas/tmp/specFile_6000627936000_49612.3383_r.dat')\n",
      "('writing file to ', '/Users/rbiswas/tmp/specFile_6000412210009_49612.3383_r.dat')\n",
      "('badvalues ', nan)\n",
      "('mjd ', 49612.338296000002)\n",
      "('maxTime', 100.0)\n",
      "('number of cases ', 1900)\n",
      "('writing file to ', '/Users/rbiswas/tmp/specFile_6000933188005_49612.3383_r.dat')\n",
      "('writing file to ', '/Users/rbiswas/tmp/specFile_6000806620403_49612.3383_r.dat')\n",
      "('writing file to ', '/Users/rbiswas/tmp/specFile_6000919447501_49612.3383_r.dat')\n",
      "('writing file to ', '/Users/rbiswas/tmp/specFile_6000919447504_49612.3383_r.dat')\n",
      "('writing file to ', '/Users/rbiswas/tmp/specFile_6000919447507_49612.3383_r.dat')\n",
      "('writing file to ', '/Users/rbiswas/tmp/specFile_6001153289900_49612.3383_r.dat')\n",
      "('writing file to ', '/Users/rbiswas/tmp/specFile_6001076289901_49612.3383_r.dat')\n",
      "('writing file to ', '/Users/rbiswas/tmp/specFile_6000406986706_49612.3383_r.dat')\n",
      "('writing file to ', '/Users/rbiswas/tmp/specFile_6000790009413_49612.3383_r.dat')\n",
      "('writing file to ', '/Users/rbiswas/tmp/specFile_6000790009408_49612.3383_r.dat')\n",
      "('writing file to ', '/Users/rbiswas/tmp/specFile_6000363986303_49612.3383_r.dat')\n",
      "('writing file to ', '/Users/rbiswas/tmp/specFile_6001274662701_49612.3383_r.dat')\n",
      "('writing file to ', '/Users/rbiswas/tmp/specFile_6000417413903_49612.3383_r.dat')\n",
      "('writing file to ', '/Users/rbiswas/tmp/specFile_6000417413908_49612.3383_r.dat')\n",
      "('writing file to ', '/Users/rbiswas/tmp/specFile_6000155180512_49612.3383_r.dat')\n",
      "('writing file to ', '/Users/rbiswas/tmp/specFile_6000979649202_49612.3383_r.dat')\n",
      "('writing file to ', '/Users/rbiswas/tmp/specFile_6000514333401_49612.3383_r.dat')\n",
      "('writing file to ', '/Users/rbiswas/tmp/specFile_6000598139101_49612.3383_r.dat')\n",
      "('writing file to ', '/Users/rbiswas/tmp/specFile_6000238091605_49612.3383_r.dat')\n",
      "('writing file to ', '/Users/rbiswas/tmp/specFile_6000606651500_49612.3383_r.dat')\n",
      "('writing file to ', '/Users/rbiswas/tmp/specFile_6001412554301_49612.3383_r.dat')\n",
      "('writing file to ', '/Users/rbiswas/tmp/specFile_6000034708902_49612.3383_r.dat')\n",
      "('writing file to ', '/Users/rbiswas/tmp/specFile_6001128462700_49612.3383_r.dat')\n",
      "('writing file to ', '/Users/rbiswas/tmp/specFile_6000034399203_49612.3383_r.dat')\n",
      "('writing file to ', '/Users/rbiswas/tmp/specFile_6000357541300_49612.3383_r.dat')\n",
      "('writing file to ', '/Users/rbiswas/tmp/specFile_6001319426000_49612.3383_r.dat')\n",
      "('writing file to ', '/Users/rbiswas/tmp/specFile_6001088840901_49612.3383_r.dat')\n",
      "('writing file to ', '/Users/rbiswas/tmp/specFile_6001254769900_49612.3383_r.dat')\n",
      "('writing file to ', '/Users/rbiswas/tmp/specFile_6001603288204_49612.3383_r.dat')\n",
      "('writing file to ', '/Users/rbiswas/tmp/specFile_6001069328711_49612.3383_r.dat')\n",
      "('writing file to ', '/Users/rbiswas/tmp/specFile_6000112524502_49612.3383_r.dat')\n",
      "('writing file to ', '/Users/rbiswas/tmp/specFile_6000679622509_49612.3383_r.dat')\n",
      "('writing file to ', '/Users/rbiswas/tmp/specFile_6000417459110_49612.3383_r.dat')\n",
      "('writing file to ', '/Users/rbiswas/tmp/specFile_6000592973400_49612.3383_r.dat')\n",
      "('writing file to ', '/Users/rbiswas/tmp/specFile_6000937552508_49612.3383_r.dat')\n",
      "('writing file to ', '/Users/rbiswas/tmp/specFile_6000237922901_49612.3383_r.dat')\n",
      "('writing file to ', '/Users/rbiswas/tmp/specFile_6000503794104_49612.3383_r.dat')\n",
      "('writing file to ', '/Users/rbiswas/tmp/specFile_6001010489503_49612.3383_r.dat')\n",
      "('writing file to ', '/Users/rbiswas/tmp/specFile_6000253613201_49612.3383_r.dat')\n",
      "('writing file to ', '/Users/rbiswas/tmp/specFile_6001106441500_49612.3383_r.dat')\n",
      "('writing file to ', '/Users/rbiswas/tmp/specFile_6000493388001_49612.3383_r.dat')\n",
      "('writing file to ', '/Users/rbiswas/tmp/specFile_6000922505900_49612.3383_r.dat')\n",
      "('writing file to ', '/Users/rbiswas/tmp/specFile_6000486286608_49612.3383_r.dat')\n",
      "('writing file to ', '/Users/rbiswas/tmp/specFile_6000287566910_49612.3383_r.dat')\n",
      "('writing file to ', '/Users/rbiswas/tmp/specFile_6000495200504_49612.3383_r.dat')\n",
      "('writing file to ', '/Users/rbiswas/tmp/specFile_6000210456500_49612.3383_r.dat')\n",
      "('writing file to ', '/Users/rbiswas/tmp/specFile_6001074720700_49612.3383_r.dat')\n",
      "('writing file to ', '/Users/rbiswas/tmp/specFile_6001087797407_49612.3383_r.dat')\n",
      "('writing file to ', '/Users/rbiswas/tmp/specFile_6000417371700_49612.3383_r.dat')\n",
      "('writing file to ', '/Users/rbiswas/tmp/specFile_6000414005603_49612.3383_r.dat')\n",
      "('writing file to ', '/Users/rbiswas/tmp/specFile_6000298458003_49612.3383_r.dat')\n",
      "('writing file to ', '/Users/rbiswas/tmp/specFile_6000000549201_49612.3383_r.dat')\n",
      "('writing file to ', '/Users/rbiswas/tmp/specFile_6000098302501_49612.3383_r.dat')\n",
      "('writing file to ', '/Users/rbiswas/tmp/specFile_6000020379900_49612.3383_r.dat')\n",
      "('writing file to ', '/Users/rbiswas/tmp/specFile_6000739472900_49612.3383_r.dat')\n",
      "('writing file to ', '/Users/rbiswas/tmp/specFile_6000408172205_49612.3383_r.dat')\n",
      "('writing file to ', '/Users/rbiswas/tmp/specFile_6001348158501_49612.3383_r.dat')\n",
      "('writing file to ', '/Users/rbiswas/tmp/specFile_6000072730105_49612.3383_r.dat')\n",
      "('writing file to ', '/Users/rbiswas/tmp/specFile_6001087134601_49612.3383_r.dat')\n",
      "('writing file to ', '/Users/rbiswas/tmp/specFile_6000208929002_49612.3383_r.dat')\n",
      "('writing file to ', '/Users/rbiswas/tmp/specFile_6001082730705_49612.3383_r.dat')\n",
      "('writing file to ', '/Users/rbiswas/tmp/specFile_6001082730706_49612.3383_r.dat')\n",
      "('writing file to ', '/Users/rbiswas/tmp/specFile_6000911426800_49612.3383_r.dat')\n",
      "('writing file to ', '/Users/rbiswas/tmp/specFile_6001079149602_49612.3383_r.dat')\n",
      "('writing file to ', '/Users/rbiswas/tmp/specFile_6001410750400_49612.3383_r.dat')\n",
      "('writing file to ', '/Users/rbiswas/tmp/specFile_6000403163802_49612.3383_r.dat')\n",
      "('writing file to ', '/Users/rbiswas/tmp/specFile_6000343197304_49612.3383_r.dat')\n",
      "('writing file to ', '/Users/rbiswas/tmp/specFile_6000343197313_49612.3383_r.dat')\n",
      "('writing file to ', '/Users/rbiswas/tmp/specFile_6000343197305_49612.3383_r.dat')\n",
      "('writing file to ', '/Users/rbiswas/tmp/specFile_6001541975801_49612.3383_r.dat')\n",
      "('writing file to ', '/Users/rbiswas/tmp/specFile_6000920296007_49612.3383_r.dat')\n",
      "('writing file to ', '/Users/rbiswas/tmp/specFile_6000239255404_49612.3383_r.dat')\n",
      "('writing file to ', '/Users/rbiswas/tmp/specFile_6000239255406_49612.3383_r.dat')\n",
      "('writing file to ', '/Users/rbiswas/tmp/specFile_6000335531502_49612.3383_r.dat')\n",
      "('writing file to ', '/Users/rbiswas/tmp/specFile_6000594091809_49612.3383_r.dat')\n",
      "('writing file to ', '/Users/rbiswas/tmp/specFile_6000594091807_49612.3383_r.dat')\n",
      "('writing file to ', '/Users/rbiswas/tmp/specFile_6000713667100_49612.3383_r.dat')\n",
      "('writing file to ', '/Users/rbiswas/tmp/specFile_6000221014500_49612.3383_r.dat')\n",
      "('writing file to ', '/Users/rbiswas/tmp/specFile_6000221014505_49612.3383_r.dat')\n",
      "('writing file to ', '/Users/rbiswas/tmp/specFile_6000065481000_49612.3383_r.dat')\n",
      "('writing file to ', '/Users/rbiswas/tmp/specFile_6000672859500_49612.3383_r.dat')\n",
      "('writing file to ', '/Users/rbiswas/tmp/specFile_6000066364100_49612.3383_r.dat')\n",
      "('writing file to ', '/Users/rbiswas/tmp/specFile_6001493935900_49612.3383_r.dat')\n",
      "('writing file to ', '/Users/rbiswas/tmp/specFile_6000006905505_49612.3383_r.dat')\n",
      "('writing file to ', '/Users/rbiswas/tmp/specFile_6000090056107_49612.3383_r.dat')\n",
      "('writing file to ', '/Users/rbiswas/tmp/specFile_6000090056110_49612.3383_r.dat')\n",
      "('writing file to ', '/Users/rbiswas/tmp/specFile_6000090021001_49612.3383_r.dat')\n",
      "('writing file to ', '/Users/rbiswas/tmp/specFile_6001632556302_49612.3383_r.dat')\n",
      "('writing file to ', '/Users/rbiswas/tmp/specFile_6000139428605_49612.3383_r.dat')\n",
      "('writing file to ', '/Users/rbiswas/tmp/specFile_6000940515604_49612.3383_r.dat')\n",
      "('writing file to ', '/Users/rbiswas/tmp/specFile_6000940515609_49612.3383_r.dat')\n",
      "('writing file to ', '/Users/rbiswas/tmp/specFile_6000696782601_49612.3383_r.dat')\n",
      "('writing file to ', '/Users/rbiswas/tmp/specFile_6000661681100_49612.3383_r.dat')\n",
      "('writing file to ', '/Users/rbiswas/tmp/specFile_6000089632201_49612.3383_r.dat')\n",
      "('writing file to ', '/Users/rbiswas/tmp/specFile_6000673914604_49612.3383_r.dat')\n",
      "('writing file to ', '/Users/rbiswas/tmp/specFile_6001165215401_49612.3383_r.dat')\n",
      "('writing file to ', '/Users/rbiswas/tmp/specFile_6001247820800_49612.3383_r.dat')\n",
      "('writing file to ', '/Users/rbiswas/tmp/specFile_6000513104500_49612.3383_r.dat')\n",
      "('writing file to ', '/Users/rbiswas/tmp/specFile_6000038522100_49612.3383_r.dat')\n",
      "('writing file to ', '/Users/rbiswas/tmp/specFile_6000362915402_49612.3383_r.dat')\n",
      "('badvalues ', nan)\n",
      "('mjd ', 49612.338296000002)\n",
      "('maxTime', 100.0)\n",
      "('number of cases ', 669)\n",
      "('writing file to ', '/Users/rbiswas/tmp/specFile_6000292499903_49612.3383_r.dat')\n",
      "('writing file to ', '/Users/rbiswas/tmp/specFile_6000009259001_49612.3383_r.dat')\n",
      "('writing file to ', '/Users/rbiswas/tmp/specFile_6000941475401_49612.3383_r.dat')\n",
      "('writing file to ', '/Users/rbiswas/tmp/specFile_6000000189404_49612.3383_r.dat')\n",
      "('writing file to ', '/Users/rbiswas/tmp/specFile_6000819964202_49612.3383_r.dat')\n",
      "('writing file to ', '/Users/rbiswas/tmp/specFile_6001090082505_49612.3383_r.dat')\n",
      "('writing file to ', '/Users/rbiswas/tmp/specFile_6000035343211_49612.3383_r.dat')\n",
      "('writing file to ', '/Users/rbiswas/tmp/specFile_6000072916907_49612.3383_r.dat')\n",
      "('writing file to ', '/Users/rbiswas/tmp/specFile_6000212556702_49612.3383_r.dat')\n",
      "('writing file to ', '/Users/rbiswas/tmp/specFile_6000298852004_49612.3383_r.dat')\n",
      "('writing file to ', '/Users/rbiswas/tmp/specFile_6000205278002_49612.3383_r.dat')\n",
      "('writing file to ', '/Users/rbiswas/tmp/specFile_6000677662612_49612.3383_r.dat')\n",
      "('writing file to ', '/Users/rbiswas/tmp/specFile_6000677662600_49612.3383_r.dat')\n",
      "('writing file to ', '/Users/rbiswas/tmp/specFile_6000161407900_49612.3383_r.dat')\n",
      "('writing file to ', '/Users/rbiswas/tmp/specFile_6000056399603_49612.3383_r.dat')\n",
      "('writing file to ', '/Users/rbiswas/tmp/specFile_6001053399102_49612.3383_r.dat')\n",
      "('writing file to ', '/Users/rbiswas/tmp/specFile_6000774895402_49612.3383_r.dat')\n",
      "('writing file to ', '/Users/rbiswas/tmp/specFile_6000774895400_49612.3383_r.dat')\n",
      "('writing file to ', '/Users/rbiswas/tmp/specFile_6000806204406_49612.3383_r.dat')\n",
      "('writing file to ', '/Users/rbiswas/tmp/specFile_6000025771801_49612.3383_r.dat')\n",
      "('writing file to ', '/Users/rbiswas/tmp/specFile_6000025771802_49612.3383_r.dat')\n",
      "('writing file to ', '/Users/rbiswas/tmp/specFile_6000414475300_49612.3383_r.dat')\n",
      "('writing file to ', '/Users/rbiswas/tmp/specFile_6000253984201_49612.3383_r.dat')\n",
      "('writing file to ', '/Users/rbiswas/tmp/specFile_6000342158106_49612.3383_r.dat')\n",
      "('writing file to ', '/Users/rbiswas/tmp/specFile_6000342158107_49612.3383_r.dat')\n",
      "('writing file to ', '/Users/rbiswas/tmp/specFile_6000700584801_49612.3383_r.dat')\n",
      "('writing file to ', '/Users/rbiswas/tmp/specFile_6000700584800_49612.3383_r.dat')\n",
      "('writing file to ', '/Users/rbiswas/tmp/specFile_6000485812504_49612.3383_r.dat')\n",
      "('writing file to ', '/Users/rbiswas/tmp/specFile_6000460779600_49612.3383_r.dat')\n",
      "('writing file to ', '/Users/rbiswas/tmp/specFile_6000504962500_49612.3383_r.dat')\n",
      "('writing file to ', '/Users/rbiswas/tmp/specFile_6000253627200_49612.3383_r.dat')\n",
      "('writing file to ', '/Users/rbiswas/tmp/specFile_6000607219501_49612.3383_r.dat')\n",
      "('writing file to ', '/Users/rbiswas/tmp/specFile_6000238396802_49612.3383_r.dat')\n",
      "('writing file to ', '/Users/rbiswas/tmp/specFile_6000676624603_49612.3383_r.dat')\n",
      "('writing file to ', '/Users/rbiswas/tmp/specFile_6000033446302_49612.3383_r.dat')\n",
      "('writing file to ', '/Users/rbiswas/tmp/specFile_6001572970001_49612.3383_r.dat')\n",
      "('writing file to ', '/Users/rbiswas/tmp/specFile_6001673117201_49612.3383_r.dat')\n",
      "('writing file to ', '/Users/rbiswas/tmp/specFile_6000109692304_49612.3383_r.dat')\n",
      "('writing file to ', '/Users/rbiswas/tmp/specFile_6000701770204_49612.3383_r.dat')\n",
      "('writing file to ', '/Users/rbiswas/tmp/specFile_6000913860601_49612.3383_r.dat')\n",
      "('writing file to ', '/Users/rbiswas/tmp/specFile_6000033688200_49612.3383_r.dat')\n",
      "('writing file to ', '/Users/rbiswas/tmp/specFile_6000957456700_49612.3383_r.dat')\n",
      "('writing file to ', '/Users/rbiswas/tmp/specFile_6001322240302_49612.3383_r.dat')\n",
      "('writing file to ', '/Users/rbiswas/tmp/specFile_6001124561302_49612.3383_r.dat')\n",
      "('writing file to ', '/Users/rbiswas/tmp/specFile_6000164499300_49612.3383_r.dat')\n",
      "('writing file to ', '/Users/rbiswas/tmp/specFile_6001102028903_49612.3383_r.dat')\n",
      "('writing file to ', '/Users/rbiswas/tmp/specFile_6000551716103_49612.3383_r.dat')\n",
      "('writing file to ', '/Users/rbiswas/tmp/specFile_6000551716108_49612.3383_r.dat')\n",
      "('writing file to ', '/Users/rbiswas/tmp/specFile_6000795457501_49612.3383_r.dat')\n",
      "('writing file to ', '/Users/rbiswas/tmp/specFile_6001048987801_49612.3383_r.dat')\n",
      "9.9787209034\n"
     ]
    }
   ],
   "source": [
    "OnlyPhoSim.writeSedFile = True\n",
    "start = time.time()\n",
    "_ = OnlyPhoSim.write_catalog('onlyPhosimCalcs.dat', chunk_size=2000)\n",
    "end = time.time()\n",
    "print end -start"
   ]
  },
  {
   "cell_type": "markdown",
   "metadata": {},
   "source": [
    "##  PhoSim Instance Catalogs"
   ]
  },
  {
   "cell_type": "code",
   "execution_count": 26,
   "metadata": {
    "collapsed": true
   },
   "outputs": [],
   "source": [
    "from lsst.sims.catUtils.exampleCatalogDefinitions.phoSimCatalogExamples import PhoSimCatalogSN, PhoSimCatalogSersic2D"
   ]
  },
  {
   "cell_type": "code",
   "execution_count": 27,
   "metadata": {
    "collapsed": false
   },
   "outputs": [
    {
     "name": "stdout",
     "output_type": "stream",
     "text": [
      "('badvalues ', nan)\n",
      "('mjd ', 49612.338296000002)\n",
      "('maxTime', 100.0)\n",
      "('number of cases ', 0)\n"
     ]
    }
   ],
   "source": [
    "pc = PhoSimCatalogSN(db_obj=s, obs_metadata=TwinklesObsMetaDataSmall, column_outputs=['EBV'])\n",
    "pc.writeSedFile = True\n",
    "pc.surveyStartDate = 49500\n",
    "pc.suppressDimSN = True"
   ]
  },
  {
   "cell_type": "code",
   "execution_count": 28,
   "metadata": {
    "collapsed": false
   },
   "outputs": [
    {
     "name": "stdout",
     "output_type": "stream",
     "text": [
      "('badvalues ', nan)\n",
      "('mjd ', 49612.338296000002)\n",
      "('maxTime', 100.0)\n",
      "('number of cases ', 0)\n",
      "('badvalues ', nan)\n",
      "('mjd ', 49612.338296000002)\n",
      "('maxTime', 100.0)\n",
      "('number of cases ', 6327)\n",
      "('writing file to ', 'specFile_6000134534807_49612.3383_r.dat')\n",
      "('writing file to ', 'specFile_6000134534803_49612.3383_r.dat')\n",
      "('writing file to ', 'specFile_6000166844111_49612.3383_r.dat')\n",
      "('writing file to ', 'specFile_6000202198804_49612.3383_r.dat')\n",
      "('writing file to ', 'specFile_6001080913807_49612.3383_r.dat')\n",
      "('writing file to ', 'specFile_6000163765100_49612.3383_r.dat')\n",
      "('writing file to ', 'specFile_6000562083903_49612.3383_r.dat')\n",
      "('writing file to ', 'specFile_6000350025005_49612.3383_r.dat')\n",
      "('writing file to ', 'specFile_6001552130005_49612.3383_r.dat')\n",
      "('writing file to ', 'specFile_6000132061801_49612.3383_r.dat')\n",
      "('writing file to ', 'specFile_6000054794501_49612.3383_r.dat')\n",
      "('writing file to ', 'specFile_6001275441101_49612.3383_r.dat')\n",
      "('writing file to ', 'specFile_6000210509202_49612.3383_r.dat')\n",
      "('writing file to ', 'specFile_6000364581702_49612.3383_r.dat')\n",
      "('writing file to ', 'specFile_6001082682302_49612.3383_r.dat')\n",
      "('writing file to ', 'specFile_6000038455704_49612.3383_r.dat')\n",
      "('writing file to ', 'specFile_6000051869210_49612.3383_r.dat')\n",
      "('writing file to ', 'specFile_6000977162201_49612.3383_r.dat')\n",
      "('writing file to ', 'specFile_6000977162200_49612.3383_r.dat')\n",
      "('writing file to ', 'specFile_6001080932900_49612.3383_r.dat')\n",
      "('writing file to ', 'specFile_6000091522300_49612.3383_r.dat')\n",
      "('writing file to ', 'specFile_6000567535901_49612.3383_r.dat')\n",
      "('writing file to ', 'specFile_6000567535902_49612.3383_r.dat')\n",
      "('writing file to ', 'specFile_6001194751802_49612.3383_r.dat')\n",
      "('writing file to ', 'specFile_6000292033805_49612.3383_r.dat')\n",
      "('writing file to ', 'specFile_6000292033803_49612.3383_r.dat')\n",
      "('writing file to ', 'specFile_6000834875902_49612.3383_r.dat')\n",
      "('writing file to ', 'specFile_6000317475302_49612.3383_r.dat')\n",
      "('writing file to ', 'specFile_6000194993000_49612.3383_r.dat')\n",
      "('writing file to ', 'specFile_6000587029801_49612.3383_r.dat')\n",
      "('writing file to ', 'specFile_6000346719202_49612.3383_r.dat')\n",
      "('writing file to ', 'specFile_6000467678401_49612.3383_r.dat')\n",
      "('writing file to ', 'specFile_6000678379206_49612.3383_r.dat')\n",
      "('writing file to ', 'specFile_6000005422702_49612.3383_r.dat')\n",
      "('writing file to ', 'specFile_6000145656501_49612.3383_r.dat')\n",
      "('writing file to ', 'specFile_6000274614100_49612.3383_r.dat')\n",
      "('writing file to ', 'specFile_6000606050501_49612.3383_r.dat')\n",
      "('writing file to ', 'specFile_6000018451007_49612.3383_r.dat')\n",
      "('writing file to ', 'specFile_6000091709107_49612.3383_r.dat')\n",
      "('writing file to ', 'specFile_6000777478400_49612.3383_r.dat')\n",
      "('writing file to ', 'specFile_6000972229700_49612.3383_r.dat')\n",
      "('writing file to ', 'specFile_6000167058301_49612.3383_r.dat')\n",
      "('writing file to ', 'specFile_6000676473202_49612.3383_r.dat')\n",
      "('writing file to ', 'specFile_6000676473207_49612.3383_r.dat')\n",
      "('writing file to ', 'specFile_6000676473200_49612.3383_r.dat')\n",
      "('writing file to ', 'specFile_6000594143600_49612.3383_r.dat')\n",
      "('writing file to ', 'specFile_6000307465100_49612.3383_r.dat')\n",
      "('writing file to ', 'specFile_6000140140803_49612.3383_r.dat')\n",
      "('writing file to ', 'specFile_6000835291202_49612.3383_r.dat')\n",
      "('writing file to ', 'specFile_6000927114101_49612.3383_r.dat')\n",
      "('writing file to ', 'specFile_6000091687504_49612.3383_r.dat')\n",
      "('writing file to ', 'specFile_6000426899304_49612.3383_r.dat')\n",
      "('writing file to ', 'specFile_6000342757701_49612.3383_r.dat')\n",
      "('writing file to ', 'specFile_6000342757707_49612.3383_r.dat')\n",
      "('writing file to ', 'specFile_6000149516601_49612.3383_r.dat')\n",
      "('writing file to ', 'specFile_6000423254300_49612.3383_r.dat')\n",
      "('writing file to ', 'specFile_6000676754304_49612.3383_r.dat')\n",
      "('writing file to ', 'specFile_6000410542104_49612.3383_r.dat')\n",
      "('writing file to ', 'specFile_6000033906504_49612.3383_r.dat')\n",
      "('writing file to ', 'specFile_6000033906500_49612.3383_r.dat')\n",
      "('writing file to ', 'specFile_6000033906503_49612.3383_r.dat')\n",
      "('writing file to ', 'specFile_6000033906502_49612.3383_r.dat')\n",
      "('writing file to ', 'specFile_6000004967501_49612.3383_r.dat')\n",
      "('writing file to ', 'specFile_6000235329700_49612.3383_r.dat')\n",
      "('writing file to ', 'specFile_6000305015401_49612.3383_r.dat')\n",
      "('writing file to ', 'specFile_6000195497000_49612.3383_r.dat')\n",
      "('writing file to ', 'specFile_6001108358902_49612.3383_r.dat')\n",
      "('writing file to ', 'specFile_6000008189004_49612.3383_r.dat')\n",
      "('writing file to ', 'specFile_6001024562102_49612.3383_r.dat')\n",
      "('writing file to ', 'specFile_6000606308802_49612.3383_r.dat')\n",
      "('writing file to ', 'specFile_6000403797502_49612.3383_r.dat')\n",
      "('writing file to ', 'specFile_6000669150802_49612.3383_r.dat')\n",
      "('writing file to ', 'specFile_6001496264000_49612.3383_r.dat')\n",
      "('writing file to ', 'specFile_6000050506900_49612.3383_r.dat')\n",
      "('writing file to ', 'specFile_6001376540805_49612.3383_r.dat')\n",
      "('writing file to ', 'specFile_6001376540801_49612.3383_r.dat')\n",
      "('writing file to ', 'specFile_6001614647700_49612.3383_r.dat')\n",
      "('writing file to ', 'specFile_6000000545309_49612.3383_r.dat')\n",
      "('writing file to ', 'specFile_6000410400901_49612.3383_r.dat')\n",
      "('writing file to ', 'specFile_6000341735403_49612.3383_r.dat')\n",
      "('writing file to ', 'specFile_6000283711601_49612.3383_r.dat')\n",
      "('writing file to ', 'specFile_6000740499200_49612.3383_r.dat')\n",
      "('writing file to ', 'specFile_6000154757310_49612.3383_r.dat')\n",
      "('writing file to ', 'specFile_6000927990407_49612.3383_r.dat')\n",
      "('writing file to ', 'specFile_6000927990401_49612.3383_r.dat')\n",
      "('writing file to ', 'specFile_6000797293504_49612.3383_r.dat')\n",
      "('writing file to ', 'specFile_6000198918010_49612.3383_r.dat')\n",
      "('writing file to ', 'specFile_6001274264202_49612.3383_r.dat')\n",
      "('writing file to ', 'specFile_6000572776704_49612.3383_r.dat')\n",
      "('writing file to ', 'specFile_6000663799100_49612.3383_r.dat')\n",
      "('writing file to ', 'specFile_6000800453901_49612.3383_r.dat')\n",
      "('writing file to ', 'specFile_6000973485602_49612.3383_r.dat')\n",
      "('writing file to ', 'specFile_6000076927902_49612.3383_r.dat')\n",
      "('writing file to ', 'specFile_6000305397501_49612.3383_r.dat')\n",
      "('writing file to ', 'specFile_6000351116503_49612.3383_r.dat')\n",
      "('writing file to ', 'specFile_6001336009702_49612.3383_r.dat')\n",
      "('writing file to ', 'specFile_6000243925204_49612.3383_r.dat')\n",
      "('writing file to ', 'specFile_6001503517401_49612.3383_r.dat')\n",
      "('writing file to ', 'specFile_6000288586302_49612.3383_r.dat')\n",
      "('writing file to ', 'specFile_6000288586307_49612.3383_r.dat')\n",
      "('writing file to ', 'specFile_6000054225508_49612.3383_r.dat')\n",
      "('writing file to ', 'specFile_6000515368501_49612.3383_r.dat')\n",
      "('writing file to ', 'specFile_6000713497400_49612.3383_r.dat')\n",
      "('writing file to ', 'specFile_6001199321908_49612.3383_r.dat')\n",
      "('writing file to ', 'specFile_6000201952106_49612.3383_r.dat')\n",
      "('writing file to ', 'specFile_6000433495900_49612.3383_r.dat')\n",
      "('writing file to ', 'specFile_6000023249402_49612.3383_r.dat')\n",
      "('writing file to ', 'specFile_6000193812201_49612.3383_r.dat')\n",
      "('writing file to ', 'specFile_6000799122700_49612.3383_r.dat')\n",
      "('writing file to ', 'specFile_6000501078300_49612.3383_r.dat')\n",
      "('writing file to ', 'specFile_6000486665300_49612.3383_r.dat')\n",
      "('writing file to ', 'specFile_6000486665304_49612.3383_r.dat')\n",
      "('writing file to ', 'specFile_6000408462007_49612.3383_r.dat')\n",
      "('writing file to ', 'specFile_6001076716608_49612.3383_r.dat')\n",
      "('writing file to ', 'specFile_6001091071501_49612.3383_r.dat')\n",
      "('writing file to ', 'specFile_6000205974203_49612.3383_r.dat')\n",
      "('writing file to ', 'specFile_6001039437701_49612.3383_r.dat')\n",
      "('writing file to ', 'specFile_6001291338100_49612.3383_r.dat')\n",
      "('writing file to ', 'specFile_6001291338105_49612.3383_r.dat')\n",
      "('writing file to ', 'specFile_6000298986403_49612.3383_r.dat')\n",
      "('writing file to ', 'specFile_6000606321600_49612.3383_r.dat')\n",
      "('writing file to ', 'specFile_6000924498107_49612.3383_r.dat')\n",
      "('writing file to ', 'specFile_6001213289101_49612.3383_r.dat')\n",
      "('writing file to ', 'specFile_6000024404501_49612.3383_r.dat')\n",
      "('writing file to ', 'specFile_6000899560002_49612.3383_r.dat')\n",
      "('writing file to ', 'specFile_6000004116012_49612.3383_r.dat')\n",
      "('writing file to ', 'specFile_6001090682202_49612.3383_r.dat')\n",
      "('writing file to ', 'specFile_6000377360701_49612.3383_r.dat')\n",
      "('writing file to ', 'specFile_6000289463004_49612.3383_r.dat')\n",
      "('writing file to ', 'specFile_6000685739708_49612.3383_r.dat')\n",
      "('writing file to ', 'specFile_6000606168402_49612.3383_r.dat')\n",
      "('writing file to ', 'specFile_6000128273501_49612.3383_r.dat')\n",
      "('writing file to ', 'specFile_6000211814800_49612.3383_r.dat')\n",
      "('writing file to ', 'specFile_6000685581405_49612.3383_r.dat')\n",
      "('writing file to ', 'specFile_6000685581404_49612.3383_r.dat')\n",
      "('writing file to ', 'specFile_6000685581402_49612.3383_r.dat')\n",
      "('writing file to ', 'specFile_6000015342700_49612.3383_r.dat')\n",
      "('writing file to ', 'specFile_6001317431307_49612.3383_r.dat')\n",
      "('writing file to ', 'specFile_6000495366201_49612.3383_r.dat')\n",
      "('writing file to ', 'specFile_6001125679701_49612.3383_r.dat')\n",
      "('writing file to ', 'specFile_6000018457105_49612.3383_r.dat')\n",
      "('writing file to ', 'specFile_6000134531900_49612.3383_r.dat')\n",
      "('writing file to ', 'specFile_6000134531906_49612.3383_r.dat')\n",
      "('writing file to ', 'specFile_6000982135402_49612.3383_r.dat')\n",
      "('writing file to ', 'specFile_6000182213900_49612.3383_r.dat')\n",
      "('writing file to ', 'specFile_6000002425203_49612.3383_r.dat')\n",
      "('writing file to ', 'specFile_6000079851701_49612.3383_r.dat')\n",
      "('writing file to ', 'specFile_6000402455900_49612.3383_r.dat')\n",
      "('writing file to ', 'specFile_6000402455901_49612.3383_r.dat')\n",
      "('writing file to ', 'specFile_6000202566600_49612.3383_r.dat')\n",
      "('writing file to ', 'specFile_6000202566601_49612.3383_r.dat')\n",
      "('writing file to ', 'specFile_6000713742900_49612.3383_r.dat')\n",
      "('writing file to ', 'specFile_6000818813400_49612.3383_r.dat')\n",
      "('writing file to ', 'specFile_6001643721400_49612.3383_r.dat')\n",
      "('writing file to ', 'specFile_6000238813410_49612.3383_r.dat')\n",
      "('writing file to ', 'specFile_6000915021801_49612.3383_r.dat')\n",
      "('writing file to ', 'specFile_6001604892701_49612.3383_r.dat')\n",
      "('writing file to ', 'specFile_6001087469509_49612.3383_r.dat')\n",
      "('writing file to ', 'specFile_6000134408504_49612.3383_r.dat')\n",
      "('writing file to ', 'specFile_6000134408509_49612.3383_r.dat')\n",
      "('writing file to ', 'specFile_6000134408501_49612.3383_r.dat')\n",
      "('writing file to ', 'specFile_6000178785102_49612.3383_r.dat')\n",
      "('writing file to ', 'specFile_6001604892708_49612.3383_r.dat')\n",
      "('writing file to ', 'specFile_6001071398302_49612.3383_r.dat')\n",
      "('writing file to ', 'specFile_6001297841900_49612.3383_r.dat')\n",
      "('writing file to ', 'specFile_6000678071502_49612.3383_r.dat')\n",
      "('writing file to ', 'specFile_6000065239400_49612.3383_r.dat')\n",
      "('writing file to ', 'specFile_6000674876108_49612.3383_r.dat')\n",
      "('writing file to ', 'specFile_6001069743203_49612.3383_r.dat')\n",
      "('writing file to ', 'specFile_6000687033504_49612.3383_r.dat')\n",
      "('writing file to ', 'specFile_6000138701900_49612.3383_r.dat')\n",
      "('writing file to ', 'specFile_6001666672200_49612.3383_r.dat')\n",
      "('writing file to ', 'specFile_6001128400302_49612.3383_r.dat')\n",
      "('writing file to ', 'specFile_6000132752502_49612.3383_r.dat')\n",
      "('writing file to ', 'specFile_6001070123705_49612.3383_r.dat')\n",
      "('writing file to ', 'specFile_6001472253302_49612.3383_r.dat')\n",
      "('writing file to ', 'specFile_6000199413203_49612.3383_r.dat')\n",
      "('writing file to ', 'specFile_6000574987008_49612.3383_r.dat')\n",
      "('writing file to ', 'specFile_6000241453803_49612.3383_r.dat')\n",
      "('writing file to ', 'specFile_6000806620403_49612.3383_r.dat')\n",
      "('writing file to ', 'specFile_6000574726505_49612.3383_r.dat')\n",
      "('writing file to ', 'specFile_6000574726509_49612.3383_r.dat')\n",
      "('writing file to ', 'specFile_6000605816501_49612.3383_r.dat')\n",
      "('writing file to ', 'specFile_6000490746900_49612.3383_r.dat')\n",
      "('writing file to ', 'specFile_6000490746905_49612.3383_r.dat')\n",
      "('writing file to ', 'specFile_6000919447501_49612.3383_r.dat')\n",
      "('writing file to ', 'specFile_6000919447504_49612.3383_r.dat')\n",
      "('writing file to ', 'specFile_6000919447507_49612.3383_r.dat')\n",
      "('writing file to ', 'specFile_6001153289900_49612.3383_r.dat')\n",
      "('writing file to ', 'specFile_6001076289901_49612.3383_r.dat')\n",
      "('writing file to ', 'specFile_6001311567801_49612.3383_r.dat')\n",
      "('writing file to ', 'specFile_6000062948600_49612.3383_r.dat')\n",
      "('writing file to ', 'specFile_6001667630003_49612.3383_r.dat')\n",
      "('writing file to ', 'specFile_6001667630000_49612.3383_r.dat')\n",
      "('writing file to ', 'specFile_6000979649202_49612.3383_r.dat')\n",
      "('writing file to ', 'specFile_6000606651500_49612.3383_r.dat')\n",
      "('writing file to ', 'specFile_6001412554301_49612.3383_r.dat')\n",
      "('writing file to ', 'specFile_6000868317803_49612.3383_r.dat')\n",
      "('writing file to ', 'specFile_6000576347401_49612.3383_r.dat')\n",
      "('writing file to ', 'specFile_6000924272500_49612.3383_r.dat')\n",
      "('writing file to ', 'specFile_6000038657100_49612.3383_r.dat')\n",
      "('writing file to ', 'specFile_6001395868502_49612.3383_r.dat')\n",
      "('writing file to ', 'specFile_6000574434803_49612.3383_r.dat')\n",
      "('writing file to ', 'specFile_6000574434801_49612.3383_r.dat')\n",
      "('writing file to ', 'specFile_6000034708902_49612.3383_r.dat')\n",
      "('writing file to ', 'specFile_6001069328711_49612.3383_r.dat')\n",
      "('writing file to ', 'specFile_6000112524502_49612.3383_r.dat')\n",
      "('writing file to ', 'specFile_6000682382002_49612.3383_r.dat')\n",
      "('writing file to ', 'specFile_6000598081300_49612.3383_r.dat')\n",
      "('writing file to ', 'specFile_6001559163605_49612.3383_r.dat')\n",
      "('writing file to ', 'specFile_6000910859700_49612.3383_r.dat')\n",
      "('writing file to ', 'specFile_6000679622509_49612.3383_r.dat')\n",
      "('writing file to ', 'specFile_6001106441500_49612.3383_r.dat')\n",
      "('writing file to ', 'specFile_6000493388001_49612.3383_r.dat')\n",
      "('writing file to ', 'specFile_6000005211702_49612.3383_r.dat')\n",
      "('writing file to ', 'specFile_6000940460206_49612.3383_r.dat')\n",
      "('writing file to ', 'specFile_6001199135103_49612.3383_r.dat')\n",
      "('writing file to ', 'specFile_6000975739801_49612.3383_r.dat')\n",
      "('writing file to ', 'specFile_6000584863908_49612.3383_r.dat')\n",
      "('writing file to ', 'specFile_6000584863900_49612.3383_r.dat')\n",
      "('writing file to ', 'specFile_6000137165304_49612.3383_r.dat')\n",
      "('writing file to ', 'specFile_6000167068307_49612.3383_r.dat')\n",
      "('writing file to ', 'specFile_6000972570502_49612.3383_r.dat')\n",
      "('writing file to ', 'specFile_6000038529902_49612.3383_r.dat')\n",
      "('writing file to ', 'specFile_6000938291203_49612.3383_r.dat')\n",
      "('writing file to ', 'specFile_6000072717303_49612.3383_r.dat')\n",
      "('writing file to ', 'specFile_6000072717304_49612.3383_r.dat')\n",
      "('writing file to ', 'specFile_6000414005603_49612.3383_r.dat')\n",
      "('writing file to ', 'specFile_6000298458003_49612.3383_r.dat')\n",
      "('writing file to ', 'specFile_6000000549201_49612.3383_r.dat')\n",
      "('writing file to ', 'specFile_6000483325300_49612.3383_r.dat')\n",
      "('writing file to ', 'specFile_6001678759402_49612.3383_r.dat')\n",
      "('writing file to ', 'specFile_6000805062900_49612.3383_r.dat')\n",
      "('writing file to ', 'specFile_6000011378201_49612.3383_r.dat')\n",
      "('writing file to ', 'specFile_6000011378200_49612.3383_r.dat')\n",
      "('writing file to ', 'specFile_6000494647400_49612.3383_r.dat')\n",
      "('writing file to ', 'specFile_6000672110506_49612.3383_r.dat')\n",
      "('writing file to ', 'specFile_6000200218701_49612.3383_r.dat')\n",
      "('writing file to ', 'specFile_6000013319703_49612.3383_r.dat')\n",
      "('writing file to ', 'specFile_6000434779807_49612.3383_r.dat')\n",
      "('writing file to ', 'specFile_6001125632102_49612.3383_r.dat')\n",
      "('writing file to ', 'specFile_6000098302501_49612.3383_r.dat')\n",
      "('writing file to ', 'specFile_6000208929002_49612.3383_r.dat')\n",
      "('writing file to ', 'specFile_6001082730705_49612.3383_r.dat')\n",
      "('writing file to ', 'specFile_6001082730706_49612.3383_r.dat')\n",
      "('writing file to ', 'specFile_6000911426800_49612.3383_r.dat')\n",
      "('writing file to ', 'specFile_6001328142500_49612.3383_r.dat')\n",
      "('writing file to ', 'specFile_6001496220201_49612.3383_r.dat')\n",
      "('writing file to ', 'specFile_6000712989003_49612.3383_r.dat')\n",
      "('writing file to ', 'specFile_6000425656001_49612.3383_r.dat')\n",
      "('writing file to ', 'specFile_6000174319000_49612.3383_r.dat')\n",
      "('writing file to ', 'specFile_6001274283001_49612.3383_r.dat')\n",
      "('writing file to ', 'specFile_6001104359605_49612.3383_r.dat')\n",
      "('writing file to ', 'specFile_6000039790801_49612.3383_r.dat')\n",
      "('writing file to ', 'specFile_6001083089800_49612.3383_r.dat')\n",
      "('writing file to ', 'specFile_6000687138504_49612.3383_r.dat')\n",
      "('writing file to ', 'specFile_6000406986706_49612.3383_r.dat')\n",
      "('writing file to ', 'specFile_6000790009413_49612.3383_r.dat')\n",
      "('writing file to ', 'specFile_6000790009408_49612.3383_r.dat')\n",
      "('writing file to ', 'specFile_6000363986303_49612.3383_r.dat')\n",
      "('writing file to ', 'specFile_6001124969203_49612.3383_r.dat')\n",
      "('writing file to ', 'specFile_6000285849403_49612.3383_r.dat')\n",
      "('writing file to ', 'specFile_6000940023802_49612.3383_r.dat')\n",
      "('writing file to ', 'specFile_6001103506602_49612.3383_r.dat')\n",
      "('writing file to ', 'specFile_6000513884600_49612.3383_r.dat')\n",
      "('writing file to ', 'specFile_6001274662701_49612.3383_r.dat')\n",
      "('writing file to ', 'specFile_6000417413903_49612.3383_r.dat')\n",
      "('writing file to ', 'specFile_6000417413908_49612.3383_r.dat')\n",
      "('writing file to ', 'specFile_6001128462700_49612.3383_r.dat')\n",
      "('writing file to ', 'specFile_6000940515604_49612.3383_r.dat')\n",
      "('writing file to ', 'specFile_6000940515609_49612.3383_r.dat')\n",
      "('writing file to ', 'specFile_6000696782601_49612.3383_r.dat')\n",
      "('writing file to ', 'specFile_6000661681100_49612.3383_r.dat')\n",
      "('writing file to ', 'specFile_6000089632201_49612.3383_r.dat')\n",
      "('writing file to ', 'specFile_6000673914604_49612.3383_r.dat')\n",
      "('writing file to ', 'specFile_6001165215401_49612.3383_r.dat')\n",
      "('writing file to ', 'specFile_6001247820800_49612.3383_r.dat')\n",
      "('writing file to ', 'specFile_6000298852004_49612.3383_r.dat')\n",
      "('writing file to ', 'specFile_6000205278002_49612.3383_r.dat')\n",
      "('writing file to ', 'specFile_6000547510902_49612.3383_r.dat')\n",
      "('writing file to ', 'specFile_6000914784400_49612.3383_r.dat')\n",
      "('writing file to ', 'specFile_6000627936000_49612.3383_r.dat')\n",
      "('writing file to ', 'specFile_6000412210009_49612.3383_r.dat')\n",
      "('writing file to ', 'specFile_6000933188005_49612.3383_r.dat')\n",
      "('writing file to ', 'specFile_6000034399203_49612.3383_r.dat')\n",
      "('writing file to ', 'specFile_6000357541300_49612.3383_r.dat')\n",
      "('writing file to ', 'specFile_6001319426000_49612.3383_r.dat')\n",
      "('writing file to ', 'specFile_6001088840901_49612.3383_r.dat')\n",
      "('writing file to ', 'specFile_6000155180512_49612.3383_r.dat')\n",
      "('writing file to ', 'specFile_6001254769900_49612.3383_r.dat')\n",
      "('writing file to ', 'specFile_6000417459110_49612.3383_r.dat')\n",
      "('writing file to ', 'specFile_6000592973400_49612.3383_r.dat')\n",
      "('writing file to ', 'specFile_6000514333401_49612.3383_r.dat')\n",
      "('writing file to ', 'specFile_6000598139101_49612.3383_r.dat')\n",
      "('writing file to ', 'specFile_6000238091605_49612.3383_r.dat')\n",
      "('writing file to ', 'specFile_6000937552508_49612.3383_r.dat')\n",
      "('writing file to ', 'specFile_6000237922901_49612.3383_r.dat')\n",
      "('writing file to ', 'specFile_6000503794104_49612.3383_r.dat')\n",
      "('writing file to ', 'specFile_6001603288204_49612.3383_r.dat')\n",
      "('writing file to ', 'specFile_6000922505900_49612.3383_r.dat')\n",
      "('writing file to ', 'specFile_6000486286608_49612.3383_r.dat')\n",
      "('writing file to ', 'specFile_6000287566910_49612.3383_r.dat')\n",
      "('writing file to ', 'specFile_6000495200504_49612.3383_r.dat')\n",
      "('writing file to ', 'specFile_6000210456500_49612.3383_r.dat')\n",
      "('writing file to ', 'specFile_6001010489503_49612.3383_r.dat')\n",
      "('writing file to ', 'specFile_6000253613201_49612.3383_r.dat')\n",
      "('writing file to ', 'specFile_6001074720700_49612.3383_r.dat')\n",
      "('writing file to ', 'specFile_6001087797407_49612.3383_r.dat')\n",
      "('writing file to ', 'specFile_6000417371700_49612.3383_r.dat')\n",
      "('writing file to ', 'specFile_6000020379900_49612.3383_r.dat')\n",
      "('writing file to ', 'specFile_6000739472900_49612.3383_r.dat')\n",
      "('writing file to ', 'specFile_6000408172205_49612.3383_r.dat')\n",
      "('writing file to ', 'specFile_6001348158501_49612.3383_r.dat')\n",
      "('writing file to ', 'specFile_6001079149602_49612.3383_r.dat')\n",
      "('writing file to ', 'specFile_6001410750400_49612.3383_r.dat')\n",
      "('writing file to ', 'specFile_6000403163802_49612.3383_r.dat')\n",
      "('writing file to ', 'specFile_6000343197304_49612.3383_r.dat')\n",
      "('writing file to ', 'specFile_6000343197313_49612.3383_r.dat')\n",
      "('writing file to ', 'specFile_6000343197305_49612.3383_r.dat')\n",
      "('writing file to ', 'specFile_6001541975801_49612.3383_r.dat')\n",
      "('writing file to ', 'specFile_6000920296007_49612.3383_r.dat')\n",
      "('writing file to ', 'specFile_6000239255404_49612.3383_r.dat')\n",
      "('writing file to ', 'specFile_6000239255406_49612.3383_r.dat')\n",
      "('writing file to ', 'specFile_6000335531502_49612.3383_r.dat')\n",
      "('writing file to ', 'specFile_6000594091809_49612.3383_r.dat')\n",
      "('writing file to ', 'specFile_6000594091807_49612.3383_r.dat')\n",
      "('writing file to ', 'specFile_6000713667100_49612.3383_r.dat')\n",
      "('writing file to ', 'specFile_6000221014500_49612.3383_r.dat')\n",
      "('writing file to ', 'specFile_6000221014505_49612.3383_r.dat')\n",
      "('writing file to ', 'specFile_6000065481000_49612.3383_r.dat')\n",
      "('writing file to ', 'specFile_6000672859500_49612.3383_r.dat')\n",
      "('writing file to ', 'specFile_6000066364100_49612.3383_r.dat')\n",
      "('writing file to ', 'specFile_6001493935900_49612.3383_r.dat')\n",
      "('writing file to ', 'specFile_6000006905505_49612.3383_r.dat')\n",
      "('writing file to ', 'specFile_6000090056107_49612.3383_r.dat')\n",
      "('writing file to ', 'specFile_6000090056110_49612.3383_r.dat')\n",
      "('writing file to ', 'specFile_6000090021001_49612.3383_r.dat')\n",
      "('writing file to ', 'specFile_6000072730105_49612.3383_r.dat')\n",
      "('writing file to ', 'specFile_6001087134601_49612.3383_r.dat')\n",
      "('writing file to ', 'specFile_6001632556302_49612.3383_r.dat')\n",
      "('writing file to ', 'specFile_6000139428605_49612.3383_r.dat')\n",
      "('writing file to ', 'specFile_6000513104500_49612.3383_r.dat')\n",
      "('writing file to ', 'specFile_6000038522100_49612.3383_r.dat')\n",
      "('writing file to ', 'specFile_6000362915402_49612.3383_r.dat')\n",
      "('writing file to ', 'specFile_6000292499903_49612.3383_r.dat')\n",
      "('writing file to ', 'specFile_6000009259001_49612.3383_r.dat')\n",
      "('writing file to ', 'specFile_6000941475401_49612.3383_r.dat')\n",
      "('writing file to ', 'specFile_6000000189404_49612.3383_r.dat')\n",
      "('writing file to ', 'specFile_6000819964202_49612.3383_r.dat')\n",
      "('writing file to ', 'specFile_6001090082505_49612.3383_r.dat')\n",
      "('writing file to ', 'specFile_6000035343211_49612.3383_r.dat')\n",
      "('writing file to ', 'specFile_6000072916907_49612.3383_r.dat')\n",
      "('writing file to ', 'specFile_6000342158106_49612.3383_r.dat')\n",
      "('writing file to ', 'specFile_6000342158107_49612.3383_r.dat')\n",
      "('writing file to ', 'specFile_6000700584801_49612.3383_r.dat')\n",
      "('writing file to ', 'specFile_6000700584800_49612.3383_r.dat')\n",
      "('writing file to ', 'specFile_6000485812504_49612.3383_r.dat')\n",
      "('writing file to ', 'specFile_6000460779600_49612.3383_r.dat')\n",
      "('writing file to ', 'specFile_6000676624603_49612.3383_r.dat')\n",
      "('writing file to ', 'specFile_6000033446302_49612.3383_r.dat')\n",
      "('writing file to ', 'specFile_6001572970001_49612.3383_r.dat')\n",
      "('writing file to ', 'specFile_6001673117201_49612.3383_r.dat')\n",
      "('writing file to ', 'specFile_6000109692304_49612.3383_r.dat')\n",
      "('writing file to ', 'specFile_6000212556702_49612.3383_r.dat')\n",
      "('writing file to ', 'specFile_6000677662612_49612.3383_r.dat')\n",
      "('writing file to ', 'specFile_6000677662600_49612.3383_r.dat')\n",
      "('writing file to ', 'specFile_6000701770204_49612.3383_r.dat')\n",
      "('writing file to ', 'specFile_6000913860601_49612.3383_r.dat')\n",
      "('writing file to ', 'specFile_6000033688200_49612.3383_r.dat')\n",
      "('writing file to ', 'specFile_6000957456700_49612.3383_r.dat')\n",
      "('writing file to ', 'specFile_6001322240302_49612.3383_r.dat')\n",
      "('writing file to ', 'specFile_6001124561302_49612.3383_r.dat')\n",
      "('writing file to ', 'specFile_6000161407900_49612.3383_r.dat')\n",
      "('writing file to ', 'specFile_6000056399603_49612.3383_r.dat')\n",
      "('writing file to ', 'specFile_6001053399102_49612.3383_r.dat')\n",
      "('writing file to ', 'specFile_6000774895402_49612.3383_r.dat')\n",
      "('writing file to ', 'specFile_6000774895400_49612.3383_r.dat')\n",
      "('writing file to ', 'specFile_6000806204406_49612.3383_r.dat')\n",
      "('writing file to ', 'specFile_6000025771801_49612.3383_r.dat')\n",
      "('writing file to ', 'specFile_6000025771802_49612.3383_r.dat')\n",
      "('writing file to ', 'specFile_6000414475300_49612.3383_r.dat')\n",
      "('writing file to ', 'specFile_6000164499300_49612.3383_r.dat')\n",
      "('writing file to ', 'specFile_6001102028903_49612.3383_r.dat')\n",
      "('writing file to ', 'specFile_6000551716103_49612.3383_r.dat')\n",
      "('writing file to ', 'specFile_6000551716108_49612.3383_r.dat')\n",
      "('writing file to ', 'specFile_6000795457501_49612.3383_r.dat')\n",
      "('writing file to ', 'specFile_6001048987801_49612.3383_r.dat')\n",
      "('writing file to ', 'specFile_6000253984201_49612.3383_r.dat')\n",
      "('writing file to ', 'specFile_6000504962500_49612.3383_r.dat')\n",
      "('writing file to ', 'specFile_6000253627200_49612.3383_r.dat')\n",
      "('writing file to ', 'specFile_6000607219501_49612.3383_r.dat')\n",
      "('writing file to ', 'specFile_6000238396802_49612.3383_r.dat')\n",
      "12.7861390114\n"
     ]
    }
   ],
   "source": [
    "start = time.time()\n",
    "pc.write_catalog('SNOnlyPhoSimCatalog.dat')\n",
    "end = time.time()\n",
    "print end - start"
   ]
  },
  {
   "cell_type": "markdown",
   "metadata": {},
   "source": [
    "## Read in the SN instance Catalog"
   ]
  },
  {
   "cell_type": "code",
   "execution_count": 29,
   "metadata": {
    "collapsed": true
   },
   "outputs": [],
   "source": [
    "sncatdf = pd.read_csv('newcat.dat', sep=',', float_precision='high')"
   ]
  },
  {
   "cell_type": "code",
   "execution_count": 30,
   "metadata": {
    "collapsed": false
   },
   "outputs": [],
   "source": [
    "sncatdf.rename(columns={x:x.strip().strip('#') for x in sncatdf.columns}, inplace=True)"
   ]
  },
  {
   "cell_type": "code",
   "execution_count": 31,
   "metadata": {
    "collapsed": false
   },
   "outputs": [
    {
     "data": {
      "text/html": [
       "<div>\n",
       "<table border=\"1\" class=\"dataframe\">\n",
       "  <thead>\n",
       "    <tr style=\"text-align: right;\">\n",
       "      <th></th>\n",
       "      <th>snid</th>\n",
       "      <th>snra</th>\n",
       "      <th>sndec</th>\n",
       "      <th>z</th>\n",
       "      <th>t0</th>\n",
       "      <th>c</th>\n",
       "      <th>x1</th>\n",
       "      <th>x0</th>\n",
       "      <th>galtileid</th>\n",
       "      <th>flux</th>\n",
       "      <th>flux_err</th>\n",
       "      <th>mag</th>\n",
       "      <th>mag_err</th>\n",
       "      <th>TmagNorm</th>\n",
       "      <th>TsedFilepath</th>\n",
       "      <th>adu</th>\n",
       "    </tr>\n",
       "  </thead>\n",
       "  <tbody>\n",
       "    <tr>\n",
       "      <th>0</th>\n",
       "      <td>6000134534807</td>\n",
       "      <td>0.924901</td>\n",
       "      <td>-0.479660</td>\n",
       "      <td>0.8308</td>\n",
       "      <td>49634.4989</td>\n",
       "      <td>-0.004487</td>\n",
       "      <td>0.4750</td>\n",
       "      <td>0.000003</td>\n",
       "      <td>60001345348</td>\n",
       "      <td>3.573123e-11</td>\n",
       "      <td>3.602404e-11</td>\n",
       "      <td>26.1174</td>\n",
       "      <td>7.570312e-01</td>\n",
       "      <td>51.2035</td>\n",
       "      <td>/Users/rbiswas/tmp/specFile_6000134534807_496...</td>\n",
       "      <td>103.4994</td>\n",
       "    </tr>\n",
       "    <tr>\n",
       "      <th>1</th>\n",
       "      <td>6000134534803</td>\n",
       "      <td>0.924901</td>\n",
       "      <td>-0.479660</td>\n",
       "      <td>0.8308</td>\n",
       "      <td>49622.7228</td>\n",
       "      <td>0.142884</td>\n",
       "      <td>-1.3618</td>\n",
       "      <td>0.000002</td>\n",
       "      <td>60001345348</td>\n",
       "      <td>4.205507e-11</td>\n",
       "      <td>3.603722e-11</td>\n",
       "      <td>25.9405</td>\n",
       "      <td>6.719931e-01</td>\n",
       "      <td>26.3066</td>\n",
       "      <td>/Users/rbiswas/tmp/specFile_6000134534803_496...</td>\n",
       "      <td>121.8171</td>\n",
       "    </tr>\n",
       "    <tr>\n",
       "      <th>2</th>\n",
       "      <td>6000166844111</td>\n",
       "      <td>0.924963</td>\n",
       "      <td>-0.479732</td>\n",
       "      <td>0.8669</td>\n",
       "      <td>49575.7365</td>\n",
       "      <td>-0.003971</td>\n",
       "      <td>-0.7924</td>\n",
       "      <td>0.000003</td>\n",
       "      <td>60001668441</td>\n",
       "      <td>1.391120e-11</td>\n",
       "      <td>3.597856e-11</td>\n",
       "      <td>27.1416</td>\n",
       "      <td>1.386626e+00</td>\n",
       "      <td>27.1689</td>\n",
       "      <td>/Users/rbiswas/tmp/specFile_6000166844111_496...</td>\n",
       "      <td>40.2953</td>\n",
       "    </tr>\n",
       "    <tr>\n",
       "      <th>3</th>\n",
       "      <td>6000202198804</td>\n",
       "      <td>0.925073</td>\n",
       "      <td>-0.479665</td>\n",
       "      <td>0.8573</td>\n",
       "      <td>49583.0608</td>\n",
       "      <td>0.055133</td>\n",
       "      <td>-0.5496</td>\n",
       "      <td>0.000002</td>\n",
       "      <td>60002021988</td>\n",
       "      <td>1.411520e-11</td>\n",
       "      <td>3.597898e-11</td>\n",
       "      <td>27.1258</td>\n",
       "      <td>1.375260e+00</td>\n",
       "      <td>26.8265</td>\n",
       "      <td>/Users/rbiswas/tmp/specFile_6000202198804_496...</td>\n",
       "      <td>40.8862</td>\n",
       "    </tr>\n",
       "    <tr>\n",
       "      <th>4</th>\n",
       "      <td>6001080913807</td>\n",
       "      <td>0.925130</td>\n",
       "      <td>-0.479707</td>\n",
       "      <td>0.7744</td>\n",
       "      <td>49531.5629</td>\n",
       "      <td>0.152381</td>\n",
       "      <td>1.8306</td>\n",
       "      <td>0.000003</td>\n",
       "      <td>60010809138</td>\n",
       "      <td>5.433218e-12</td>\n",
       "      <td>3.596087e-11</td>\n",
       "      <td>28.1624</td>\n",
       "      <td>2.204709e+00</td>\n",
       "      <td>26.9168</td>\n",
       "      <td>/Users/rbiswas/tmp/specFile_6001080913807_496...</td>\n",
       "      <td>15.7379</td>\n",
       "    </tr>\n",
       "  </tbody>\n",
       "</table>\n",
       "</div>"
      ],
      "text/plain": [
       "            snid      snra     sndec       z          t0         c      x1  \\\n",
       "0  6000134534807  0.924901 -0.479660  0.8308  49634.4989 -0.004487  0.4750   \n",
       "1  6000134534803  0.924901 -0.479660  0.8308  49622.7228  0.142884 -1.3618   \n",
       "2  6000166844111  0.924963 -0.479732  0.8669  49575.7365 -0.003971 -0.7924   \n",
       "3  6000202198804  0.925073 -0.479665  0.8573  49583.0608  0.055133 -0.5496   \n",
       "4  6001080913807  0.925130 -0.479707  0.7744  49531.5629  0.152381  1.8306   \n",
       "\n",
       "         x0    galtileid          flux       flux_err       mag  \\\n",
       "0  0.000003  60001345348  3.573123e-11   3.602404e-11   26.1174   \n",
       "1  0.000002  60001345348  4.205507e-11   3.603722e-11   25.9405   \n",
       "2  0.000003  60001668441  1.391120e-11   3.597856e-11   27.1416   \n",
       "3  0.000002  60002021988  1.411520e-11   3.597898e-11   27.1258   \n",
       "4  0.000003  60010809138  5.433218e-12   3.596087e-11   28.1624   \n",
       "\n",
       "         mag_err  TmagNorm                                       TsedFilepath  \\\n",
       "0   7.570312e-01   51.2035   /Users/rbiswas/tmp/specFile_6000134534807_496...   \n",
       "1   6.719931e-01   26.3066   /Users/rbiswas/tmp/specFile_6000134534803_496...   \n",
       "2   1.386626e+00   27.1689   /Users/rbiswas/tmp/specFile_6000166844111_496...   \n",
       "3   1.375260e+00   26.8265   /Users/rbiswas/tmp/specFile_6000202198804_496...   \n",
       "4   2.204709e+00   26.9168   /Users/rbiswas/tmp/specFile_6001080913807_496...   \n",
       "\n",
       "        adu  \n",
       "0  103.4994  \n",
       "1  121.8171  \n",
       "2   40.2953  \n",
       "3   40.8862  \n",
       "4   15.7379  "
      ]
     },
     "execution_count": 31,
     "metadata": {},
     "output_type": "execute_result"
    }
   ],
   "source": [
    "sncatdf.head()"
   ]
  },
  {
   "cell_type": "code",
   "execution_count": 32,
   "metadata": {
    "collapsed": false
   },
   "outputs": [],
   "source": [
    "# Fix the types\n",
    "sncatdf['snid'] = sncatdf.snid.astype(int)\n",
    "#sncatdf.set_index('snid', inplace=True)\n",
    "names = [x for x in sncatdf.columns]; \n",
    "for name in ['snid', 'galtileid', 'TsedFilepath']:\n",
    "    names.remove(name)"
   ]
  },
  {
   "cell_type": "code",
   "execution_count": 33,
   "metadata": {
    "collapsed": true
   },
   "outputs": [],
   "source": [
    "sncatdf['DeltaT'] = sncatalog.mjdobs - sncatdf['t0']"
   ]
  },
  {
   "cell_type": "code",
   "execution_count": 34,
   "metadata": {
    "collapsed": false
   },
   "outputs": [],
   "source": [
    "sncatdf[names] = sncatdf[names].astype(np.float)"
   ]
  },
  {
   "cell_type": "code",
   "execution_count": 35,
   "metadata": {
    "collapsed": false
   },
   "outputs": [
    {
     "data": {
      "text/html": [
       "<div>\n",
       "<table border=\"1\" class=\"dataframe\">\n",
       "  <thead>\n",
       "    <tr style=\"text-align: right;\">\n",
       "      <th></th>\n",
       "      <th>snid</th>\n",
       "      <th>snra</th>\n",
       "      <th>sndec</th>\n",
       "      <th>z</th>\n",
       "      <th>t0</th>\n",
       "      <th>c</th>\n",
       "      <th>x1</th>\n",
       "      <th>x0</th>\n",
       "      <th>galtileid</th>\n",
       "      <th>flux</th>\n",
       "      <th>flux_err</th>\n",
       "      <th>mag</th>\n",
       "      <th>mag_err</th>\n",
       "      <th>TmagNorm</th>\n",
       "      <th>TsedFilepath</th>\n",
       "      <th>adu</th>\n",
       "      <th>DeltaT</th>\n",
       "      <th>SNR</th>\n",
       "    </tr>\n",
       "  </thead>\n",
       "  <tbody>\n",
       "    <tr>\n",
       "      <th>0</th>\n",
       "      <td>6000134534807</td>\n",
       "      <td>0.924901</td>\n",
       "      <td>-0.479660</td>\n",
       "      <td>0.8308</td>\n",
       "      <td>49634.4989</td>\n",
       "      <td>-0.004487</td>\n",
       "      <td>0.4750</td>\n",
       "      <td>0.000003</td>\n",
       "      <td>60001345348</td>\n",
       "      <td>3.573123e-11</td>\n",
       "      <td>3.602404e-11</td>\n",
       "      <td>26.1174</td>\n",
       "      <td>0.757031</td>\n",
       "      <td>51.2035</td>\n",
       "      <td>/Users/rbiswas/tmp/specFile_6000134534807_496...</td>\n",
       "      <td>103.4994</td>\n",
       "      <td>-22.160604</td>\n",
       "      <td>0.991872</td>\n",
       "    </tr>\n",
       "    <tr>\n",
       "      <th>1</th>\n",
       "      <td>6000134534803</td>\n",
       "      <td>0.924901</td>\n",
       "      <td>-0.479660</td>\n",
       "      <td>0.8308</td>\n",
       "      <td>49622.7228</td>\n",
       "      <td>0.142884</td>\n",
       "      <td>-1.3618</td>\n",
       "      <td>0.000002</td>\n",
       "      <td>60001345348</td>\n",
       "      <td>4.205507e-11</td>\n",
       "      <td>3.603722e-11</td>\n",
       "      <td>25.9405</td>\n",
       "      <td>0.671993</td>\n",
       "      <td>26.3066</td>\n",
       "      <td>/Users/rbiswas/tmp/specFile_6000134534803_496...</td>\n",
       "      <td>121.8171</td>\n",
       "      <td>-10.384504</td>\n",
       "      <td>1.166990</td>\n",
       "    </tr>\n",
       "    <tr>\n",
       "      <th>2</th>\n",
       "      <td>6000166844111</td>\n",
       "      <td>0.924963</td>\n",
       "      <td>-0.479732</td>\n",
       "      <td>0.8669</td>\n",
       "      <td>49575.7365</td>\n",
       "      <td>-0.003971</td>\n",
       "      <td>-0.7924</td>\n",
       "      <td>0.000003</td>\n",
       "      <td>60001668441</td>\n",
       "      <td>1.391120e-11</td>\n",
       "      <td>3.597856e-11</td>\n",
       "      <td>27.1416</td>\n",
       "      <td>1.386626</td>\n",
       "      <td>27.1689</td>\n",
       "      <td>/Users/rbiswas/tmp/specFile_6000166844111_496...</td>\n",
       "      <td>40.2953</td>\n",
       "      <td>36.601796</td>\n",
       "      <td>0.386652</td>\n",
       "    </tr>\n",
       "    <tr>\n",
       "      <th>3</th>\n",
       "      <td>6000202198804</td>\n",
       "      <td>0.925073</td>\n",
       "      <td>-0.479665</td>\n",
       "      <td>0.8573</td>\n",
       "      <td>49583.0608</td>\n",
       "      <td>0.055133</td>\n",
       "      <td>-0.5496</td>\n",
       "      <td>0.000002</td>\n",
       "      <td>60002021988</td>\n",
       "      <td>1.411520e-11</td>\n",
       "      <td>3.597898e-11</td>\n",
       "      <td>27.1258</td>\n",
       "      <td>1.375260</td>\n",
       "      <td>26.8265</td>\n",
       "      <td>/Users/rbiswas/tmp/specFile_6000202198804_496...</td>\n",
       "      <td>40.8862</td>\n",
       "      <td>29.277496</td>\n",
       "      <td>0.392318</td>\n",
       "    </tr>\n",
       "    <tr>\n",
       "      <th>4</th>\n",
       "      <td>6001080913807</td>\n",
       "      <td>0.925130</td>\n",
       "      <td>-0.479707</td>\n",
       "      <td>0.7744</td>\n",
       "      <td>49531.5629</td>\n",
       "      <td>0.152381</td>\n",
       "      <td>1.8306</td>\n",
       "      <td>0.000003</td>\n",
       "      <td>60010809138</td>\n",
       "      <td>5.433218e-12</td>\n",
       "      <td>3.596087e-11</td>\n",
       "      <td>28.1624</td>\n",
       "      <td>2.204709</td>\n",
       "      <td>26.9168</td>\n",
       "      <td>/Users/rbiswas/tmp/specFile_6001080913807_496...</td>\n",
       "      <td>15.7379</td>\n",
       "      <td>80.775396</td>\n",
       "      <td>0.151087</td>\n",
       "    </tr>\n",
       "  </tbody>\n",
       "</table>\n",
       "</div>"
      ],
      "text/plain": [
       "            snid      snra     sndec       z          t0         c      x1  \\\n",
       "0  6000134534807  0.924901 -0.479660  0.8308  49634.4989 -0.004487  0.4750   \n",
       "1  6000134534803  0.924901 -0.479660  0.8308  49622.7228  0.142884 -1.3618   \n",
       "2  6000166844111  0.924963 -0.479732  0.8669  49575.7365 -0.003971 -0.7924   \n",
       "3  6000202198804  0.925073 -0.479665  0.8573  49583.0608  0.055133 -0.5496   \n",
       "4  6001080913807  0.925130 -0.479707  0.7744  49531.5629  0.152381  1.8306   \n",
       "\n",
       "         x0    galtileid          flux      flux_err      mag   mag_err  \\\n",
       "0  0.000003  60001345348  3.573123e-11  3.602404e-11  26.1174  0.757031   \n",
       "1  0.000002  60001345348  4.205507e-11  3.603722e-11  25.9405  0.671993   \n",
       "2  0.000003  60001668441  1.391120e-11  3.597856e-11  27.1416  1.386626   \n",
       "3  0.000002  60002021988  1.411520e-11  3.597898e-11  27.1258  1.375260   \n",
       "4  0.000003  60010809138  5.433218e-12  3.596087e-11  28.1624  2.204709   \n",
       "\n",
       "   TmagNorm                                       TsedFilepath       adu  \\\n",
       "0   51.2035   /Users/rbiswas/tmp/specFile_6000134534807_496...  103.4994   \n",
       "1   26.3066   /Users/rbiswas/tmp/specFile_6000134534803_496...  121.8171   \n",
       "2   27.1689   /Users/rbiswas/tmp/specFile_6000166844111_496...   40.2953   \n",
       "3   26.8265   /Users/rbiswas/tmp/specFile_6000202198804_496...   40.8862   \n",
       "4   26.9168   /Users/rbiswas/tmp/specFile_6001080913807_496...   15.7379   \n",
       "\n",
       "      DeltaT       SNR  \n",
       "0 -22.160604  0.991872  \n",
       "1 -10.384504  1.166990  \n",
       "2  36.601796  0.386652  \n",
       "3  29.277496  0.392318  \n",
       "4  80.775396  0.151087  "
      ]
     },
     "execution_count": 35,
     "metadata": {},
     "output_type": "execute_result"
    }
   ],
   "source": [
    "sncatdf['SNR'] = sncatdf.flux / sncatdf.flux_err\n",
    "sncatdf.head()"
   ]
  },
  {
   "cell_type": "markdown",
   "metadata": {},
   "source": [
    "####  Some Sanity Checks"
   ]
  },
  {
   "cell_type": "code",
   "execution_count": 67,
   "metadata": {
    "collapsed": false
   },
   "outputs": [],
   "source": [
    "sncatdf['logaduByflux'] = np.log10(sncatdf.adu/sncatdf.flux)"
   ]
  },
  {
   "cell_type": "code",
   "execution_count": 68,
   "metadata": {
    "collapsed": false
   },
   "outputs": [],
   "source": [
    "brightobjects = sncatdf.query('SNR > 1')"
   ]
  },
  {
   "cell_type": "code",
   "execution_count": 69,
   "metadata": {
    "collapsed": false
   },
   "outputs": [
    {
     "name": "stderr",
     "output_type": "stream",
     "text": [
      "axes.color_cycle is deprecated and replaced with axes.prop_cycle; please use the latter.\n"
     ]
    },
    {
     "data": {
      "text/plain": [
       "<seaborn.axisgrid.FacetGrid at 0x1267ec690>"
      ]
     },
     "execution_count": 69,
     "metadata": {},
     "output_type": "execute_result"
    },
    {
     "data": {
      "image/png": "[encoded data removed]",
      "text/plain": [
       "<matplotlib.figure.Figure at 0x126060090>"
      ]
     },
     "metadata": {},
     "output_type": "display_data"
    }
   ],
   "source": [
    "sns.lmplot(\"z\", 'logaduByflux', data=brightobjects)"
   ]
  },
  {
   "cell_type": "code",
   "execution_count": 70,
   "metadata": {
    "collapsed": false
   },
   "outputs": [
    {
     "data": {
      "text/plain": [
       "<matplotlib.text.Text at 0x1281af090>"
      ]
     },
     "execution_count": 70,
     "metadata": {},
     "output_type": "execute_result"
    },
    {
     "data": {
      "image/png": "[encoded data removed]",
      "text/plain": [
       "<matplotlib.figure.Figure at 0x126098390>"
      ]
     },
     "metadata": {},
     "output_type": "display_data"
    }
   ],
   "source": [
    "fig, ax = plt.subplots()\n",
    "sncatdf.SNR.hist(bins=np.arange(0., 50., 1.), histtype='step', lw=2., alpha=1., ax=ax)\n",
    "ax.set_xlabel('SNR')"
   ]
  },
  {
   "cell_type": "code",
   "execution_count": 71,
   "metadata": {
    "collapsed": false
   },
   "outputs": [
    {
     "data": {
      "image/png": "[encoded data removed]",
      "text/plain": [
       "<matplotlib.figure.Figure at 0x1281a7150>"
      ]
     },
     "metadata": {},
     "output_type": "display_data"
    }
   ],
   "source": [
    "fig, ax = plt.subplots(nrows=1, ncols=2);\n",
    "_ = ax[0].hist(sncatdf.query('SNR > 5.').z, bins=np.arange(0., 1.2, 0.1), histtype='step', lw=2, color='k', normed=True,\n",
    "               label='highSNR')\n",
    "_ = ax[0].hist(sncatdf.query('SNR < 5. and SNR > 0.').z, bins=np.arange(0., 1.2, 0.1), histtype='step', lw=2, color='r', \n",
    "             normed=True, label='lowSNR')\n",
    "_ = ax[0].hist(sncatdf.query('SNR > 0.').z, bins=np.arange(0., 1.2, 0.1), histtype='step', lw=2, color='b', \n",
    "             normed=True, label='Active')\n",
    "ax[0].grid(True)\n",
    "_ = ax[1].hist(sncatdf.query('SNR > 5.').z, bins=np.arange(0., 1.2, 0.1), histtype='step', lw=2, color='k', normed=False, \n",
    "               cumulative=-1)\n",
    "_ = ax[1].hist(sncatdf.query('SNR < 5. and SNR > 0.').z, bins=np.arange(0., 1.2, 0.1), histtype='step', lw=2, color='r', \n",
    "               normed=False, cumulative=-1)\n",
    "_ = ax[1].grid(True)\n",
    "_ = ax[0].legend(loc='upper left')\n",
    "_ = ax[0].set_ylabel('PDF')\n",
    "_ = ax[1].set_ylabel('Num SN at z > ')\n",
    "_ = fig.suptitle('Redshift Distribution of SN')"
   ]
  },
  {
   "cell_type": "code",
   "execution_count": 72,
   "metadata": {
    "collapsed": false
   },
   "outputs": [
    {
     "data": {
      "image/png": "[encoded data removed]",
      "text/plain": [
       "<matplotlib.figure.Figure at 0x1260bb750>"
      ]
     },
     "metadata": {},
     "output_type": "display_data"
    }
   ],
   "source": [
    "fig, ax = plt.subplots(1, 2, figsize=(16,6))\n",
    "_ = ax[0].hist(sncatdf.adu, bins=np.arange(0, 500, 5), histtype='step', alpha=1, lw=2., color='k')\n",
    "_ = ax[0].hist(sncatdf.adu.replace({0:np.nan}).dropna(), bins=np.arange(0, 5000, 5), histtype='step', \n",
    "               alpha=1, lw=2., color='r')\n",
    "_ = ax[1].hist(sncatdf.adu.replace({0:np.nan}).dropna(), bins=np.arange(0, 5, 0.1), histtype='step', \n",
    "               alpha=1, lw=2., color='r')"
   ]
  },
  {
   "cell_type": "code",
   "execution_count": 73,
   "metadata": {
    "collapsed": false
   },
   "outputs": [
    {
     "data": {
      "text/plain": [
       "<matplotlib.text.Text at 0x126211850>"
      ]
     },
     "execution_count": 73,
     "metadata": {},
     "output_type": "execute_result"
    },
    {
     "data": {
      "image/png": "[encoded data removed]",
      "text/plain": [
       "<matplotlib.figure.Figure at 0x1281c93d0>"
      ]
     },
     "metadata": {},
     "output_type": "display_data"
    }
   ],
   "source": [
    "fig, ax = plt.subplots()\n",
    "sncatdf.adu.apply(lambda x: x* 2.3).hist(bins=np.arange(-0.5, 5., 0.05), histtype='step', lw=2., alpha=1., ax=ax, \n",
    "                                         normed=1)\n",
    "ax.set_xlabel('Photons')"
   ]
  },
  {
   "cell_type": "markdown",
   "metadata": {},
   "source": [
    "### Read in the phosim Outputs"
   ]
  },
  {
   "cell_type": "code",
   "execution_count": 74,
   "metadata": {
    "collapsed": false
   },
   "outputs": [],
   "source": [
    "phosimOuta = pd.read_csv('/Users/rbiswas/soft/phosim_release/testout/centroid_lsst_e_203482_R22_S11_E000.txt', \n",
    "                         float_precision='high', sep='\\s+')\n",
    "phosimOutb = pd.read_csv('/Users/rbiswas/soft/phosim_release/testout/centroid_lsst_e_203482_R22_S11_E001.txt', \n",
    "                         float_precision='high', sep='\\s+')"
   ]
  },
  {
   "cell_type": "code",
   "execution_count": 75,
   "metadata": {
    "collapsed": false
   },
   "outputs": [],
   "source": [
    "phosimOuta.SourceID = phosimOuta.SourceID.astype('int')\n",
    "phosimOutb.SourceID = phosimOutb.SourceID.astype('int')\n",
    "phosimOuta.set_index('SourceID', inplace=True)\n",
    "phosimOutb.set_index('SourceID', inplace=True)\n",
    "phosimOuta.Photons += phosimOutb.Photons"
   ]
  },
  {
   "cell_type": "code",
   "execution_count": 76,
   "metadata": {
    "collapsed": false
   },
   "outputs": [
    {
     "data": {
      "text/html": [
       "<div>\n",
       "<table border=\"1\" class=\"dataframe\">\n",
       "  <thead>\n",
       "    <tr style=\"text-align: right;\">\n",
       "      <th></th>\n",
       "      <th>Photons</th>\n",
       "      <th>AvgX</th>\n",
       "      <th>AvgY</th>\n",
       "    </tr>\n",
       "    <tr>\n",
       "      <th>SourceID</th>\n",
       "      <th></th>\n",
       "      <th></th>\n",
       "      <th></th>\n",
       "    </tr>\n",
       "  </thead>\n",
       "  <tbody>\n",
       "    <tr>\n",
       "      <th>6144281204838442</th>\n",
       "      <td>10</td>\n",
       "      <td>1450.285714</td>\n",
       "      <td>2598.428571</td>\n",
       "    </tr>\n",
       "    <tr>\n",
       "      <th>6144620595713066</th>\n",
       "      <td>0</td>\n",
       "      <td>NaN</td>\n",
       "      <td>NaN</td>\n",
       "    </tr>\n",
       "    <tr>\n",
       "      <th>6144018893831210</th>\n",
       "      <td>0</td>\n",
       "      <td>NaN</td>\n",
       "      <td>NaN</td>\n",
       "    </tr>\n",
       "    <tr>\n",
       "      <th>6144093910125610</th>\n",
       "      <td>14</td>\n",
       "      <td>1533.250000</td>\n",
       "      <td>2602.875000</td>\n",
       "    </tr>\n",
       "    <tr>\n",
       "      <th>6144796137881642</th>\n",
       "      <td>0</td>\n",
       "      <td>NaN</td>\n",
       "      <td>NaN</td>\n",
       "    </tr>\n",
       "  </tbody>\n",
       "</table>\n",
       "</div>"
      ],
      "text/plain": [
       "                  Photons         AvgX         AvgY\n",
       "SourceID                                           \n",
       "6144281204838442       10  1450.285714  2598.428571\n",
       "6144620595713066        0          NaN          NaN\n",
       "6144018893831210        0          NaN          NaN\n",
       "6144093910125610       14  1533.250000  2602.875000\n",
       "6144796137881642        0          NaN          NaN"
      ]
     },
     "execution_count": 76,
     "metadata": {},
     "output_type": "execute_result"
    }
   ],
   "source": [
    "phosimOuta.head()"
   ]
  },
  {
   "cell_type": "markdown",
   "metadata": {},
   "source": [
    "Set the same index for sncatdf"
   ]
  },
  {
   "cell_type": "code",
   "execution_count": 77,
   "metadata": {
    "collapsed": false
   },
   "outputs": [],
   "source": [
    "sncatdf['SourceID'] = np.left_shift(sncatdf.snid, 10) + 42\n",
    "sncatdf.set_index('SourceID', inplace=True)"
   ]
  },
  {
   "cell_type": "code",
   "execution_count": 78,
   "metadata": {
    "collapsed": true
   },
   "outputs": [],
   "source": [
    "sncatdf['Photons'] = phosimOuta.Photons"
   ]
  },
  {
   "cell_type": "code",
   "execution_count": 79,
   "metadata": {
    "collapsed": false
   },
   "outputs": [
    {
     "data": {
      "text/html": [
       "<div>\n",
       "<table border=\"1\" class=\"dataframe\">\n",
       "  <thead>\n",
       "    <tr style=\"text-align: right;\">\n",
       "      <th></th>\n",
       "      <th>snid</th>\n",
       "      <th>snra</th>\n",
       "      <th>sndec</th>\n",
       "      <th>z</th>\n",
       "      <th>t0</th>\n",
       "      <th>c</th>\n",
       "      <th>x1</th>\n",
       "      <th>x0</th>\n",
       "      <th>galtileid</th>\n",
       "      <th>flux</th>\n",
       "      <th>flux_err</th>\n",
       "      <th>mag</th>\n",
       "      <th>mag_err</th>\n",
       "      <th>TmagNorm</th>\n",
       "      <th>TsedFilepath</th>\n",
       "      <th>adu</th>\n",
       "      <th>DeltaT</th>\n",
       "      <th>SNR</th>\n",
       "      <th>logaduByflux</th>\n",
       "      <th>Photons</th>\n",
       "    </tr>\n",
       "    <tr>\n",
       "      <th>SourceID</th>\n",
       "      <th></th>\n",
       "      <th></th>\n",
       "      <th></th>\n",
       "      <th></th>\n",
       "      <th></th>\n",
       "      <th></th>\n",
       "      <th></th>\n",
       "      <th></th>\n",
       "      <th></th>\n",
       "      <th></th>\n",
       "      <th></th>\n",
       "      <th></th>\n",
       "      <th></th>\n",
       "      <th></th>\n",
       "      <th></th>\n",
       "      <th></th>\n",
       "      <th></th>\n",
       "      <th></th>\n",
       "      <th></th>\n",
       "      <th></th>\n",
       "    </tr>\n",
       "  </thead>\n",
       "  <tbody>\n",
       "    <tr>\n",
       "      <th>6144137763642410</th>\n",
       "      <td>6000134534807</td>\n",
       "      <td>0.924901</td>\n",
       "      <td>-0.479660</td>\n",
       "      <td>0.8308</td>\n",
       "      <td>49634.4989</td>\n",
       "      <td>-0.004487</td>\n",
       "      <td>0.4750</td>\n",
       "      <td>0.000003</td>\n",
       "      <td>60001345348</td>\n",
       "      <td>3.573123e-11</td>\n",
       "      <td>3.602404e-11</td>\n",
       "      <td>26.1174</td>\n",
       "      <td>0.757031</td>\n",
       "      <td>51.2035</td>\n",
       "      <td>/Users/rbiswas/tmp/specFile_6000134534807_496...</td>\n",
       "      <td>103.4994</td>\n",
       "      <td>-22.160604</td>\n",
       "      <td>0.991872</td>\n",
       "      <td>12.46189</td>\n",
       "      <td>0</td>\n",
       "    </tr>\n",
       "    <tr>\n",
       "      <th>6144137763638314</th>\n",
       "      <td>6000134534803</td>\n",
       "      <td>0.924901</td>\n",
       "      <td>-0.479660</td>\n",
       "      <td>0.8308</td>\n",
       "      <td>49622.7228</td>\n",
       "      <td>0.142884</td>\n",
       "      <td>-1.3618</td>\n",
       "      <td>0.000002</td>\n",
       "      <td>60001345348</td>\n",
       "      <td>4.205507e-11</td>\n",
       "      <td>3.603722e-11</td>\n",
       "      <td>25.9405</td>\n",
       "      <td>0.671993</td>\n",
       "      <td>26.3066</td>\n",
       "      <td>/Users/rbiswas/tmp/specFile_6000134534803_496...</td>\n",
       "      <td>121.8171</td>\n",
       "      <td>-10.384504</td>\n",
       "      <td>1.166990</td>\n",
       "      <td>12.46189</td>\n",
       "      <td>121</td>\n",
       "    </tr>\n",
       "    <tr>\n",
       "      <th>6144170848369706</th>\n",
       "      <td>6000166844111</td>\n",
       "      <td>0.924963</td>\n",
       "      <td>-0.479732</td>\n",
       "      <td>0.8669</td>\n",
       "      <td>49575.7365</td>\n",
       "      <td>-0.003971</td>\n",
       "      <td>-0.7924</td>\n",
       "      <td>0.000003</td>\n",
       "      <td>60001668441</td>\n",
       "      <td>1.391120e-11</td>\n",
       "      <td>3.597856e-11</td>\n",
       "      <td>27.1416</td>\n",
       "      <td>1.386626</td>\n",
       "      <td>27.1689</td>\n",
       "      <td>/Users/rbiswas/tmp/specFile_6000166844111_496...</td>\n",
       "      <td>40.2953</td>\n",
       "      <td>36.601796</td>\n",
       "      <td>0.386652</td>\n",
       "      <td>12.46189</td>\n",
       "      <td>19</td>\n",
       "    </tr>\n",
       "    <tr>\n",
       "      <th>6144207051575338</th>\n",
       "      <td>6000202198804</td>\n",
       "      <td>0.925073</td>\n",
       "      <td>-0.479665</td>\n",
       "      <td>0.8573</td>\n",
       "      <td>49583.0608</td>\n",
       "      <td>0.055133</td>\n",
       "      <td>-0.5496</td>\n",
       "      <td>0.000002</td>\n",
       "      <td>60002021988</td>\n",
       "      <td>1.411520e-11</td>\n",
       "      <td>3.597898e-11</td>\n",
       "      <td>27.1258</td>\n",
       "      <td>1.375260</td>\n",
       "      <td>26.8265</td>\n",
       "      <td>/Users/rbiswas/tmp/specFile_6000202198804_496...</td>\n",
       "      <td>40.8862</td>\n",
       "      <td>29.277496</td>\n",
       "      <td>0.392318</td>\n",
       "      <td>12.46189</td>\n",
       "      <td>31</td>\n",
       "    </tr>\n",
       "    <tr>\n",
       "      <th>6145106855738410</th>\n",
       "      <td>6001080913807</td>\n",
       "      <td>0.925130</td>\n",
       "      <td>-0.479707</td>\n",
       "      <td>0.7744</td>\n",
       "      <td>49531.5629</td>\n",
       "      <td>0.152381</td>\n",
       "      <td>1.8306</td>\n",
       "      <td>0.000003</td>\n",
       "      <td>60010809138</td>\n",
       "      <td>5.433218e-12</td>\n",
       "      <td>3.596087e-11</td>\n",
       "      <td>28.1624</td>\n",
       "      <td>2.204709</td>\n",
       "      <td>26.9168</td>\n",
       "      <td>/Users/rbiswas/tmp/specFile_6001080913807_496...</td>\n",
       "      <td>15.7379</td>\n",
       "      <td>80.775396</td>\n",
       "      <td>0.151087</td>\n",
       "      <td>12.46189</td>\n",
       "      <td>23</td>\n",
       "    </tr>\n",
       "  </tbody>\n",
       "</table>\n",
       "</div>"
      ],
      "text/plain": [
       "                           snid      snra     sndec       z          t0  \\\n",
       "SourceID                                                                  \n",
       "6144137763642410  6000134534807  0.924901 -0.479660  0.8308  49634.4989   \n",
       "6144137763638314  6000134534803  0.924901 -0.479660  0.8308  49622.7228   \n",
       "6144170848369706  6000166844111  0.924963 -0.479732  0.8669  49575.7365   \n",
       "6144207051575338  6000202198804  0.925073 -0.479665  0.8573  49583.0608   \n",
       "6145106855738410  6001080913807  0.925130 -0.479707  0.7744  49531.5629   \n",
       "\n",
       "                         c      x1        x0    galtileid          flux  \\\n",
       "SourceID                                                                  \n",
       "6144137763642410 -0.004487  0.4750  0.000003  60001345348  3.573123e-11   \n",
       "6144137763638314  0.142884 -1.3618  0.000002  60001345348  4.205507e-11   \n",
       "6144170848369706 -0.003971 -0.7924  0.000003  60001668441  1.391120e-11   \n",
       "6144207051575338  0.055133 -0.5496  0.000002  60002021988  1.411520e-11   \n",
       "6145106855738410  0.152381  1.8306  0.000003  60010809138  5.433218e-12   \n",
       "\n",
       "                      flux_err      mag   mag_err  TmagNorm  \\\n",
       "SourceID                                                      \n",
       "6144137763642410  3.602404e-11  26.1174  0.757031   51.2035   \n",
       "6144137763638314  3.603722e-11  25.9405  0.671993   26.3066   \n",
       "6144170848369706  3.597856e-11  27.1416  1.386626   27.1689   \n",
       "6144207051575338  3.597898e-11  27.1258  1.375260   26.8265   \n",
       "6145106855738410  3.596087e-11  28.1624  2.204709   26.9168   \n",
       "\n",
       "                                                       TsedFilepath       adu  \\\n",
       "SourceID                                                                        \n",
       "6144137763642410   /Users/rbiswas/tmp/specFile_6000134534807_496...  103.4994   \n",
       "6144137763638314   /Users/rbiswas/tmp/specFile_6000134534803_496...  121.8171   \n",
       "6144170848369706   /Users/rbiswas/tmp/specFile_6000166844111_496...   40.2953   \n",
       "6144207051575338   /Users/rbiswas/tmp/specFile_6000202198804_496...   40.8862   \n",
       "6145106855738410   /Users/rbiswas/tmp/specFile_6001080913807_496...   15.7379   \n",
       "\n",
       "                     DeltaT       SNR  logaduByflux  Photons  \n",
       "SourceID                                                      \n",
       "6144137763642410 -22.160604  0.991872      12.46189        0  \n",
       "6144137763638314 -10.384504  1.166990      12.46189      121  \n",
       "6144170848369706  36.601796  0.386652      12.46189       19  \n",
       "6144207051575338  29.277496  0.392318      12.46189       31  \n",
       "6145106855738410  80.775396  0.151087      12.46189       23  "
      ]
     },
     "execution_count": 79,
     "metadata": {},
     "output_type": "execute_result"
    }
   ],
   "source": [
    "sncatdf.head()"
   ]
  },
  {
   "cell_type": "code",
   "execution_count": 80,
   "metadata": {
    "collapsed": false
   },
   "outputs": [],
   "source": [
    "sncatdf['ratio'] = sncatdf.adu / sncatdf['Photons']"
   ]
  },
  {
   "cell_type": "code",
   "execution_count": 81,
   "metadata": {
    "collapsed": false
   },
   "outputs": [
    {
     "data": {
      "text/html": [
       "<div>\n",
       "<table border=\"1\" class=\"dataframe\">\n",
       "  <thead>\n",
       "    <tr style=\"text-align: right;\">\n",
       "      <th></th>\n",
       "      <th>snid</th>\n",
       "      <th>snra</th>\n",
       "      <th>sndec</th>\n",
       "      <th>z</th>\n",
       "      <th>t0</th>\n",
       "      <th>c</th>\n",
       "      <th>x1</th>\n",
       "      <th>x0</th>\n",
       "      <th>galtileid</th>\n",
       "      <th>flux</th>\n",
       "      <th>...</th>\n",
       "      <th>mag</th>\n",
       "      <th>mag_err</th>\n",
       "      <th>TmagNorm</th>\n",
       "      <th>TsedFilepath</th>\n",
       "      <th>adu</th>\n",
       "      <th>DeltaT</th>\n",
       "      <th>SNR</th>\n",
       "      <th>logaduByflux</th>\n",
       "      <th>Photons</th>\n",
       "      <th>ratio</th>\n",
       "    </tr>\n",
       "    <tr>\n",
       "      <th>SourceID</th>\n",
       "      <th></th>\n",
       "      <th></th>\n",
       "      <th></th>\n",
       "      <th></th>\n",
       "      <th></th>\n",
       "      <th></th>\n",
       "      <th></th>\n",
       "      <th></th>\n",
       "      <th></th>\n",
       "      <th></th>\n",
       "      <th></th>\n",
       "      <th></th>\n",
       "      <th></th>\n",
       "      <th></th>\n",
       "      <th></th>\n",
       "      <th></th>\n",
       "      <th></th>\n",
       "      <th></th>\n",
       "      <th></th>\n",
       "      <th></th>\n",
       "      <th></th>\n",
       "    </tr>\n",
       "  </thead>\n",
       "  <tbody>\n",
       "    <tr>\n",
       "      <th>6144137763642410</th>\n",
       "      <td>6000134534807</td>\n",
       "      <td>0.924901</td>\n",
       "      <td>-0.479660</td>\n",
       "      <td>0.8308</td>\n",
       "      <td>49634.4989</td>\n",
       "      <td>-0.004487</td>\n",
       "      <td>0.4750</td>\n",
       "      <td>0.000003</td>\n",
       "      <td>60001345348</td>\n",
       "      <td>3.573123e-11</td>\n",
       "      <td>...</td>\n",
       "      <td>26.1174</td>\n",
       "      <td>0.757031</td>\n",
       "      <td>51.2035</td>\n",
       "      <td>/Users/rbiswas/tmp/specFile_6000134534807_496...</td>\n",
       "      <td>103.4994</td>\n",
       "      <td>-22.160604</td>\n",
       "      <td>0.991872</td>\n",
       "      <td>12.46189</td>\n",
       "      <td>0</td>\n",
       "      <td>inf</td>\n",
       "    </tr>\n",
       "    <tr>\n",
       "      <th>6144137763638314</th>\n",
       "      <td>6000134534803</td>\n",
       "      <td>0.924901</td>\n",
       "      <td>-0.479660</td>\n",
       "      <td>0.8308</td>\n",
       "      <td>49622.7228</td>\n",
       "      <td>0.142884</td>\n",
       "      <td>-1.3618</td>\n",
       "      <td>0.000002</td>\n",
       "      <td>60001345348</td>\n",
       "      <td>4.205507e-11</td>\n",
       "      <td>...</td>\n",
       "      <td>25.9405</td>\n",
       "      <td>0.671993</td>\n",
       "      <td>26.3066</td>\n",
       "      <td>/Users/rbiswas/tmp/specFile_6000134534803_496...</td>\n",
       "      <td>121.8171</td>\n",
       "      <td>-10.384504</td>\n",
       "      <td>1.166990</td>\n",
       "      <td>12.46189</td>\n",
       "      <td>121</td>\n",
       "      <td>1.006753</td>\n",
       "    </tr>\n",
       "    <tr>\n",
       "      <th>6144170848369706</th>\n",
       "      <td>6000166844111</td>\n",
       "      <td>0.924963</td>\n",
       "      <td>-0.479732</td>\n",
       "      <td>0.8669</td>\n",
       "      <td>49575.7365</td>\n",
       "      <td>-0.003971</td>\n",
       "      <td>-0.7924</td>\n",
       "      <td>0.000003</td>\n",
       "      <td>60001668441</td>\n",
       "      <td>1.391120e-11</td>\n",
       "      <td>...</td>\n",
       "      <td>27.1416</td>\n",
       "      <td>1.386626</td>\n",
       "      <td>27.1689</td>\n",
       "      <td>/Users/rbiswas/tmp/specFile_6000166844111_496...</td>\n",
       "      <td>40.2953</td>\n",
       "      <td>36.601796</td>\n",
       "      <td>0.386652</td>\n",
       "      <td>12.46189</td>\n",
       "      <td>19</td>\n",
       "      <td>2.120805</td>\n",
       "    </tr>\n",
       "    <tr>\n",
       "      <th>6144207051575338</th>\n",
       "      <td>6000202198804</td>\n",
       "      <td>0.925073</td>\n",
       "      <td>-0.479665</td>\n",
       "      <td>0.8573</td>\n",
       "      <td>49583.0608</td>\n",
       "      <td>0.055133</td>\n",
       "      <td>-0.5496</td>\n",
       "      <td>0.000002</td>\n",
       "      <td>60002021988</td>\n",
       "      <td>1.411520e-11</td>\n",
       "      <td>...</td>\n",
       "      <td>27.1258</td>\n",
       "      <td>1.375260</td>\n",
       "      <td>26.8265</td>\n",
       "      <td>/Users/rbiswas/tmp/specFile_6000202198804_496...</td>\n",
       "      <td>40.8862</td>\n",
       "      <td>29.277496</td>\n",
       "      <td>0.392318</td>\n",
       "      <td>12.46189</td>\n",
       "      <td>31</td>\n",
       "      <td>1.318910</td>\n",
       "    </tr>\n",
       "    <tr>\n",
       "      <th>6145106855738410</th>\n",
       "      <td>6001080913807</td>\n",
       "      <td>0.925130</td>\n",
       "      <td>-0.479707</td>\n",
       "      <td>0.7744</td>\n",
       "      <td>49531.5629</td>\n",
       "      <td>0.152381</td>\n",
       "      <td>1.8306</td>\n",
       "      <td>0.000003</td>\n",
       "      <td>60010809138</td>\n",
       "      <td>5.433218e-12</td>\n",
       "      <td>...</td>\n",
       "      <td>28.1624</td>\n",
       "      <td>2.204709</td>\n",
       "      <td>26.9168</td>\n",
       "      <td>/Users/rbiswas/tmp/specFile_6001080913807_496...</td>\n",
       "      <td>15.7379</td>\n",
       "      <td>80.775396</td>\n",
       "      <td>0.151087</td>\n",
       "      <td>12.46189</td>\n",
       "      <td>23</td>\n",
       "      <td>0.684257</td>\n",
       "    </tr>\n",
       "  </tbody>\n",
       "</table>\n",
       "<p>5 rows × 21 columns</p>\n",
       "</div>"
      ],
      "text/plain": [
       "                           snid      snra     sndec       z          t0  \\\n",
       "SourceID                                                                  \n",
       "6144137763642410  6000134534807  0.924901 -0.479660  0.8308  49634.4989   \n",
       "6144137763638314  6000134534803  0.924901 -0.479660  0.8308  49622.7228   \n",
       "6144170848369706  6000166844111  0.924963 -0.479732  0.8669  49575.7365   \n",
       "6144207051575338  6000202198804  0.925073 -0.479665  0.8573  49583.0608   \n",
       "6145106855738410  6001080913807  0.925130 -0.479707  0.7744  49531.5629   \n",
       "\n",
       "                         c      x1        x0    galtileid          flux  \\\n",
       "SourceID                                                                  \n",
       "6144137763642410 -0.004487  0.4750  0.000003  60001345348  3.573123e-11   \n",
       "6144137763638314  0.142884 -1.3618  0.000002  60001345348  4.205507e-11   \n",
       "6144170848369706 -0.003971 -0.7924  0.000003  60001668441  1.391120e-11   \n",
       "6144207051575338  0.055133 -0.5496  0.000002  60002021988  1.411520e-11   \n",
       "6145106855738410  0.152381  1.8306  0.000003  60010809138  5.433218e-12   \n",
       "\n",
       "                    ...         mag   mag_err  TmagNorm  \\\n",
       "SourceID            ...                                   \n",
       "6144137763642410    ...     26.1174  0.757031   51.2035   \n",
       "6144137763638314    ...     25.9405  0.671993   26.3066   \n",
       "6144170848369706    ...     27.1416  1.386626   27.1689   \n",
       "6144207051575338    ...     27.1258  1.375260   26.8265   \n",
       "6145106855738410    ...     28.1624  2.204709   26.9168   \n",
       "\n",
       "                                                       TsedFilepath       adu  \\\n",
       "SourceID                                                                        \n",
       "6144137763642410   /Users/rbiswas/tmp/specFile_6000134534807_496...  103.4994   \n",
       "6144137763638314   /Users/rbiswas/tmp/specFile_6000134534803_496...  121.8171   \n",
       "6144170848369706   /Users/rbiswas/tmp/specFile_6000166844111_496...   40.2953   \n",
       "6144207051575338   /Users/rbiswas/tmp/specFile_6000202198804_496...   40.8862   \n",
       "6145106855738410   /Users/rbiswas/tmp/specFile_6001080913807_496...   15.7379   \n",
       "\n",
       "                     DeltaT       SNR  logaduByflux  Photons     ratio  \n",
       "SourceID                                                                \n",
       "6144137763642410 -22.160604  0.991872      12.46189        0       inf  \n",
       "6144137763638314 -10.384504  1.166990      12.46189      121  1.006753  \n",
       "6144170848369706  36.601796  0.386652      12.46189       19  2.120805  \n",
       "6144207051575338  29.277496  0.392318      12.46189       31  1.318910  \n",
       "6145106855738410  80.775396  0.151087      12.46189       23  0.684257  \n",
       "\n",
       "[5 rows x 21 columns]"
      ]
     },
     "execution_count": 81,
     "metadata": {},
     "output_type": "execute_result"
    }
   ],
   "source": [
    "sncatdf.head()"
   ]
  },
  {
   "cell_type": "code",
   "execution_count": 82,
   "metadata": {
    "collapsed": false
   },
   "outputs": [
    {
     "data": {
      "text/plain": [
       "nan"
      ]
     },
     "execution_count": 82,
     "metadata": {},
     "output_type": "execute_result"
    }
   ],
   "source": [
    "sncatdf.query('ratio == 0.').SNR.max()"
   ]
  },
  {
   "cell_type": "code",
   "execution_count": 83,
   "metadata": {
    "collapsed": false
   },
   "outputs": [],
   "source": [
    "def makeaComparisonPlot(sncatdf):\n",
    "    fig, ax = plt.subplots(2, 2, sharey=True, **{'figsize':(16,12)})\n",
    "    _ = ax[0,0].hist(sncatdf.ratio, bins=np.arange(0, 5., 0.05), histtype='step', lw=2., color='k', label='adu/Photons')\n",
    "    ax[0,0].axvline(1/2.3, **{'color':'b', 'ls':'dashed', 'label':'invgain'})\n",
    "    ax[0,0].legend(loc='best')\n",
    "    ax[0,1].hist(sncatdf.query('adu < 1.0e-10 and Photons > 0').Photons, histtype='step', normed=False, \n",
    "                 cumulative=True, lw=2., color='k', bins=np.arange(0., 200., 10))\n",
    "    ax[0,0].set_xlabel('Adu/Num Photons')\n",
    "    _ = ax[1,0].hist(sncatdf.Photons/sncatdf.adu, bins=np.arange(0, 5., 0.05), histtype='step', lw=2., color='k',\n",
    "                     label='Photons/adu')\n",
    "    ax[1,0].axvline(2.3, **{'color':'b', 'ls':'dashed', 'label':'gain'})\n",
    "    ax[1,0].legend(loc='best')\n",
    "    ax[1,0].set_xlabel('Num Photons/Adu')\n",
    "    \n",
    "    _ = ax[1,1].hist(sncatdf.query('adu > 1.0e-10 and Photons == 0').adu, histtype='step', normed=False, \n",
    "                     cumulative=True, lw=2., color='k', bins=np.arange(0., 200., 10))\n",
    "\n",
    "    return fig"
   ]
  },
  {
   "cell_type": "code",
   "execution_count": 84,
   "metadata": {
    "collapsed": false
   },
   "outputs": [
    {
     "data": {
      "image/png": "[encoded data removed]",
      "text/plain": [
       "<matplotlib.figure.Figure at 0x12638a190>"
      ]
     },
     "metadata": {},
     "output_type": "display_data"
    }
   ],
   "source": [
    "_ = makeaComparisonPlot(sncatdf)"
   ]
  },
  {
   "cell_type": "code",
   "execution_count": 85,
   "metadata": {
    "collapsed": false
   },
   "outputs": [
    {
     "data": {
      "image/png": "[encoded data removed]",
      "text/plain": [
       "<matplotlib.figure.Figure at 0x124e7ba90>"
      ]
     },
     "metadata": {},
     "output_type": "display_data"
    }
   ],
   "source": [
    "_ = makeaComparisonPlot(sncatdf.query('SNR > 0.'))"
   ]
  },
  {
   "cell_type": "code",
   "execution_count": 89,
   "metadata": {
    "collapsed": false
   },
   "outputs": [
    {
     "name": "stderr",
     "output_type": "stream",
     "text": [
      "axes.color_cycle is deprecated and replaced with axes.prop_cycle; please use the latter.\n"
     ]
    },
    {
     "data": {
      "text/plain": [
       "<seaborn.axisgrid.FacetGrid at 0x11d1b6c10>"
      ]
     },
     "execution_count": 89,
     "metadata": {},
     "output_type": "execute_result"
    },
    {
     "data": {
      "image/png": "[encoded data removed]",
      "text/plain": [
       "<matplotlib.figure.Figure at 0x11d1b6150>"
      ]
     },
     "metadata": {},
     "output_type": "display_data"
    }
   ],
   "source": [
    "sns.lmplot(\"adu\", 'Photons', data=sncatdf)"
   ]
  },
  {
   "cell_type": "code",
   "execution_count": 91,
   "metadata": {
    "collapsed": true
   },
   "outputs": [],
   "source": [
    "sncatdf['estimatedAdu'] = sncatdf.Photons / 2.3"
   ]
  },
  {
   "cell_type": "code",
   "execution_count": 94,
   "metadata": {
    "collapsed": true
   },
   "outputs": [],
   "source": [
    "sncatdf['residAdu'] = sncatdf.estimatedAdu - sncatdf.adu"
   ]
  },
  {
   "cell_type": "code",
   "execution_count": 173,
   "metadata": {
    "collapsed": false
   },
   "outputs": [
    {
     "data": {
      "text/plain": [
       "<matplotlib.axes._subplots.AxesSubplot at 0x138593190>"
      ]
     },
     "execution_count": 173,
     "metadata": {},
     "output_type": "execute_result"
    },
    {
     "data": {
      "image/png": "[encoded data removed]",
      "text/plain": [
       "<matplotlib.figure.Figure at 0x1382c7110>"
      ]
     },
     "metadata": {},
     "output_type": "display_data"
    }
   ],
   "source": [
    "sncatdf.query('adu < 0.0001 and Photons >0').DeltaT.hist(**{'color':'b', 'lw':2, 'histtype':'step', \n",
    "                                                                 'bins':np.arange(-50, 100, 5), 'cumulative':1 })\n",
    "sncatdf.query('adu < 0.0001 and Photons > 3').DeltaT.hist(**{'color':'r', 'lw':2, 'histtype':'step',\n",
    "                                                                  'bins':np.arange(-50, 100, 5) })\n",
    "sncatdf.dropna().query('adu <0.0001 and Photons > 30').DeltaT.hist(**{'color':'g', 'lw':2, 'histtype':'step',\n",
    "                                                                   'bins':np.arange(-50, 100, 5) })"
   ]
  },
  {
   "cell_type": "code",
   "execution_count": 143,
   "metadata": {
    "collapsed": false
   },
   "outputs": [
    {
     "data": {
      "text/plain": [
       "<matplotlib.axes._subplots.AxesSubplot at 0x136c06510>"
      ]
     },
     "execution_count": 143,
     "metadata": {},
     "output_type": "execute_result"
    },
    {
     "data": {
      "image/png": "[encoded data removed]",
      "text/plain": [
       "<matplotlib.figure.Figure at 0x136e50c10>"
      ]
     },
     "metadata": {},
     "output_type": "display_data"
    }
   ],
   "source": [
    "sncatdf.dropna().query('Photons ==0 and adu > 3').DeltaT.hist(**{'color':'b', 'lw':2, 'histtype':'step', \n",
    "                                                                 'bins':np.arange(-50, 100, 5) })\n",
    "sncatdf.dropna().query('Photons ==0 and adu > 30').DeltaT.hist(**{'color':'r', 'lw':2, 'histtype':'step',\n",
    "                                                                  'bins':np.arange(-50, 100, 5) })\n",
    "sncatdf.dropna().query('Photons ==0 and adu > 300').DeltaT.hist(**{'color':'g', 'lw':2, 'histtype':'step',\n",
    "                                                                   'bins':np.arange(-50, 100, 5) })"
   ]
  },
  {
   "cell_type": "code",
   "execution_count": 96,
   "metadata": {
    "collapsed": false
   },
   "outputs": [
    {
     "name": "stderr",
     "output_type": "stream",
     "text": [
      "axes.color_cycle is deprecated and replaced with axes.prop_cycle; please use the latter.\n"
     ]
    },
    {
     "data": {
      "text/plain": [
       "<seaborn.axisgrid.FacetGrid at 0x125a589d0>"
      ]
     },
     "execution_count": 96,
     "metadata": {},
     "output_type": "execute_result"
    },
    {
     "data": {
      "image/png": "[encoded data removed]",
      "text/plain": [
       "<matplotlib.figure.Figure at 0x125a58510>"
      ]
     },
     "metadata": {},
     "output_type": "display_data"
    }
   ],
   "source": [
    "sns.lmplot(\"z\", 'estimatedAdu', data=sncatdf, scatter_kws={\"s\": 80})"
   ]
  },
  {
   "cell_type": "code",
   "execution_count": 109,
   "metadata": {
    "collapsed": false
   },
   "outputs": [
    {
     "name": "stderr",
     "output_type": "stream",
     "text": [
      "axes.color_cycle is deprecated and replaced with axes.prop_cycle; please use the latter.\n"
     ]
    },
    {
     "data": {
      "text/plain": [
       "<seaborn.axisgrid.FacetGrid at 0x126323690>"
      ]
     },
     "execution_count": 109,
     "metadata": {},
     "output_type": "execute_result"
    },
    {
     "data": {
      "image/png": "[encoded data removed]",
      "text/plain": [
       "<matplotlib.figure.Figure at 0x124defad0>"
      ]
     },
     "metadata": {},
     "output_type": "display_data"
    }
   ],
   "source": [
    "sns.lmplot(\"z\", 'residAdu', data=sncatdf, scatter_kws={\"s\": 80})"
   ]
  },
  {
   "cell_type": "markdown",
   "metadata": {},
   "source": [
    "# Scratch"
   ]
  },
  {
   "cell_type": "code",
   "execution_count": 87,
   "metadata": {
    "collapsed": false
   },
   "outputs": [
    {
     "ename": "AttributeError",
     "evalue": "'DataFrame' object has no attribute 'SourceID'",
     "output_type": "error",
     "traceback": [
      "\u001b[0;31m---------------------------------------------------------------------------\u001b[0m",
      "\u001b[0;31mAttributeError\u001b[0m                            Traceback (most recent call last)",
      "\u001b[0;32m<ipython-input-87-a57a0ab8c0d7>\u001b[0m in \u001b[0;36m<module>\u001b[0;34m()\u001b[0m\n\u001b[0;32m----> 1\u001b[0;31m \u001b[0mphosimOuta\u001b[0m\u001b[0;34m.\u001b[0m\u001b[0mSourceID\u001b[0m\u001b[0;34m.\u001b[0m\u001b[0mmin\u001b[0m\u001b[0;34m(\u001b[0m\u001b[0;34m)\u001b[0m\u001b[0;34m\u001b[0m\u001b[0m\n\u001b[0m",
      "\u001b[0;32m/usr/local/manual/anaconda/lib/python2.7/site-packages/pandas/core/generic.pyc\u001b[0m in \u001b[0;36m__getattr__\u001b[0;34m(self, name)\u001b[0m\n\u001b[1;32m   2358\u001b[0m                 \u001b[0;32mreturn\u001b[0m \u001b[0mself\u001b[0m\u001b[0;34m[\u001b[0m\u001b[0mname\u001b[0m\u001b[0;34m]\u001b[0m\u001b[0;34m\u001b[0m\u001b[0m\n\u001b[1;32m   2359\u001b[0m             raise AttributeError(\"'%s' object has no attribute '%s'\" %\n\u001b[0;32m-> 2360\u001b[0;31m                                  (type(self).__name__, name))\n\u001b[0m\u001b[1;32m   2361\u001b[0m \u001b[0;34m\u001b[0m\u001b[0m\n\u001b[1;32m   2362\u001b[0m     \u001b[0;32mdef\u001b[0m \u001b[0m__setattr__\u001b[0m\u001b[0;34m(\u001b[0m\u001b[0mself\u001b[0m\u001b[0;34m,\u001b[0m \u001b[0mname\u001b[0m\u001b[0;34m,\u001b[0m \u001b[0mvalue\u001b[0m\u001b[0;34m)\u001b[0m\u001b[0;34m:\u001b[0m\u001b[0;34m\u001b[0m\u001b[0m\n",
      "\u001b[0;31mAttributeError\u001b[0m: 'DataFrame' object has no attribute 'SourceID'"
     ]
    }
   ],
   "source": [
    "phosimOuta.SourceID.min()"
   ]
  },
  {
   "cell_type": "code",
   "execution_count": null,
   "metadata": {
    "collapsed": true
   },
   "outputs": [],
   "source": [
    "phosimOutb = pd.read_csv('/Users/rbiswas/soft/phosim_release/output/centroid_lsst_e_203482_R22_S11_E001.txt', sep='\\s+')"
   ]
  },
  {
   "cell_type": "code",
   "execution_count": null,
   "metadata": {
    "collapsed": true
   },
   "outputs": [],
   "source": [
    "phosimOuta.Photons = phosimOuta.Photons + phosimOutb.Photons"
   ]
  },
  {
   "cell_type": "code",
   "execution_count": null,
   "metadata": {
    "collapsed": false
   },
   "outputs": [],
   "source": [
    "phosimOuta['SourceID'] = phosimOuta.SourceID.astype(int)"
   ]
  },
  {
   "cell_type": "code",
   "execution_count": null,
   "metadata": {
    "collapsed": false
   },
   "outputs": [],
   "source": [
    "phosimOuta['snid'] = np.right_shift(phosimOuta['SourceID'], 10)"
   ]
  },
  {
   "cell_type": "code",
   "execution_count": null,
   "metadata": {
    "collapsed": false
   },
   "outputs": [],
   "source": [
    "phosimOuta.set_index('snid', inplace=True)"
   ]
  },
  {
   "cell_type": "code",
   "execution_count": null,
   "metadata": {
    "collapsed": false
   },
   "outputs": [],
   "source": [
    "sncatdf.adu.min()"
   ]
  },
  {
   "cell_type": "code",
   "execution_count": null,
   "metadata": {
    "collapsed": false
   },
   "outputs": [],
   "source": [
    "sncatdf['ratio'] = sncatdf.adu / phosimOuta.Photons"
   ]
  },
  {
   "cell_type": "code",
   "execution_count": null,
   "metadata": {
    "collapsed": true
   },
   "outputs": [],
   "source": [
    "sncatdf['Photons'] = phosimOuta.Photons"
   ]
  },
  {
   "cell_type": "code",
   "execution_count": null,
   "metadata": {
    "collapsed": false
   },
   "outputs": [],
   "source": [
    "sncatdf.query('ratio == 0.')"
   ]
  },
  {
   "cell_type": "code",
   "execution_count": null,
   "metadata": {
    "collapsed": false
   },
   "outputs": [],
   "source": [
    "fig, ax = plt.subplots()\n",
    "sns.distplot(sncatdf.ratio.replace([-np.inf, np.inf],np.nan).dropna(), bins=np.arange(0.0, 5., 0.05), \n",
    "             rug_kws=False,kde=False, norm_hist=False).set_xlim(0,)\n",
    "sns.distributions()\n",
    "#ax.hist(df.ratio.replace([-np.inf, np.inf],np.nan).dropna() ,bins=np.arange(0., 5, 0.05))\n",
    "ax.axvline(1./2.3, color='k', **{'label':'1/gain', 'linestyle':'dashed'})\n",
    "ax.set_xlabel('adu/Photons')\n",
    "ax.legend(loc='best')"
   ]
  },
  {
   "cell_type": "code",
   "execution_count": null,
   "metadata": {
    "collapsed": true
   },
   "outputs": [],
   "source": [
    "rv = poisson(mu=1)"
   ]
  },
  {
   "cell_type": "code",
   "execution_count": null,
   "metadata": {
    "collapsed": true
   },
   "outputs": [],
   "source": [
    "x = np.arange(0, 10)"
   ]
  },
  {
   "cell_type": "code",
   "execution_count": null,
   "metadata": {
    "collapsed": false
   },
   "outputs": [],
   "source": [
    "plt.plot(x, rv.pmf(x), 'bo')"
   ]
  },
  {
   "cell_type": "code",
   "execution_count": null,
   "metadata": {
    "collapsed": false
   },
   "outputs": [],
   "source": [
    "plt.hist(sncatdf.Photons / sncatdf.adu / 2.3, np.arange(-0.5,5.5), histtype='step')\n",
    "plt.plot()"
   ]
  },
  {
   "cell_type": "code",
   "execution_count": null,
   "metadata": {
    "collapsed": true
   },
   "outputs": [],
   "source": [
    "plt.plot(poisson.pmf)"
   ]
  },
  {
   "cell_type": "code",
   "execution_count": null,
   "metadata": {
    "collapsed": false
   },
   "outputs": [],
   "source": [
    "df.query('ratio > 1000.')[['adu', 'Photons', 'flux', 'DeltaT', 'mag', 'mag_err', 'flux_err']]"
   ]
  },
  {
   "cell_type": "code",
   "execution_count": null,
   "metadata": {
    "collapsed": false
   },
   "outputs": [],
   "source": [
    "x = df.query('ratio ==0.').Photons.copy(deep=True)"
   ]
  },
  {
   "cell_type": "code",
   "execution_count": null,
   "metadata": {
    "collapsed": false
   },
   "outputs": [],
   "source": [
    "x.sort(ascending=False); x"
   ]
  },
  {
   "cell_type": "code",
   "execution_count": null,
   "metadata": {
    "collapsed": true
   },
   "outputs": [],
   "source": [
    "fig.savefig('invGain.png')"
   ]
  },
  {
   "cell_type": "code",
   "execution_count": null,
   "metadata": {
    "collapsed": false
   },
   "outputs": [],
   "source": [
    "import seaborn as sns\n",
    "sns.set()"
   ]
  },
  {
   "cell_type": "code",
   "execution_count": null,
   "metadata": {
    "collapsed": false
   },
   "outputs": [],
   "source": [
    "print len(df.query('ratio > 10000')), df.query('ratio > 10000').ratio.unique()\n",
    "print len(df.query('ratio < -10000')), df.query('ratio < -10000').ratio.unique()"
   ]
  },
  {
   "cell_type": "code",
   "execution_count": null,
   "metadata": {
    "collapsed": false
   },
   "outputs": [],
   "source": [
    "df.query('ratio >500.').adu "
   ]
  },
  {
   "cell_type": "code",
   "execution_count": null,
   "metadata": {
    "collapsed": false
   },
   "outputs": [],
   "source": [
    "_df = df.query('ratio == 0.')\n",
    "_dff = df.query('ratio < 0.')\n",
    "_ = plt.hist(_df.DeltaT / (_df.z + 1.), bins=np.arange(-30, 70., 1.), histtype='step', color='b', alpha=1., lw=2.)\n",
    "_ = plt.hist(_dff.DeltaT / (_dff.z + 1.), bins=np.arange(-30, 70., 1.), histtype='step', color='r', alpha=1., lw=2.)\n",
    "plt.axvline(-20., color='k')\n",
    "plt.axvline(50., color='k')"
   ]
  },
  {
   "cell_type": "code",
   "execution_count": null,
   "metadata": {
    "collapsed": false
   },
   "outputs": [],
   "source": [
    "_df = df[['z', 'ratio']].replace([-np.inf, np.inf], [-20., 200.]).dropna()\n",
    "#sns.jointplot(_df.z, _df.ratio, kind='kde')\n",
    "plt.plot(_df.z, _df.ratio, 'o')"
   ]
  },
  {
   "cell_type": "code",
   "execution_count": null,
   "metadata": {
    "collapsed": false
   },
   "outputs": [],
   "source": [
    "adus = df.adu.dropna().sum()\n",
    "photons = phosimOuta.replace([np.inf],np.nan).Photons.dropna().sum()"
   ]
  },
  {
   "cell_type": "code",
   "execution_count": null,
   "metadata": {
    "collapsed": false
   },
   "outputs": [],
   "source": [
    "photons / adus"
   ]
  },
  {
   "cell_type": "code",
   "execution_count": null,
   "metadata": {
    "collapsed": false
   },
   "outputs": [],
   "source": [
    "active = df.query('SNR > 0.').replace([np.inf],np.nan).dropna().ratio\n",
    "bright = df.query('SNR > 5.').replace([np.inf],np.nan).dropna().ratio"
   ]
  },
  {
   "cell_type": "code",
   "execution_count": null,
   "metadata": {
    "collapsed": false
   },
   "outputs": [],
   "source": [
    "s = 0.05\n",
    "plt.hist(active, color='r', bins=np.arange(0., 25, s), histtype='step', label='SNR>0', lw=2)\n",
    "plt.hist(bright, color='k', bins=np.arange(0., 25, s), histtype='step', label='SNR>5', lw=2)\n",
    "plt.legend(loc='best')\n",
    "plt.axvline(1./2.3)\n",
    "plt.xlim(0, 5)"
   ]
  },
  {
   "cell_type": "code",
   "execution_count": null,
   "metadata": {
    "collapsed": true
   },
   "outputs": [],
   "source": [
    "import lsst.afw.image as afwi"
   ]
  },
  {
   "cell_type": "code",
   "execution_count": null,
   "metadata": {
    "collapsed": true
   },
   "outputs": [],
   "source": [
    "img0 = afwi.ImageF('/Users/rbiswas/soft/phosim_release/output/lsst_e_203482_f2_R22_S11_E000.fits.gz')\n",
    "img1 = afwi.ImageF('/Users/rbiswas/soft/phosim_release/output/lsst_e_203482_f2_R22_S11_E001.fits.gz')"
   ]
  },
  {
   "cell_type": "code",
   "execution_count": null,
   "metadata": {
    "collapsed": false
   },
   "outputs": [],
   "source": [
    "arr0 = img0.getArray()\n",
    "arr1 = img1.getArray()"
   ]
  },
  {
   "cell_type": "code",
   "execution_count": null,
   "metadata": {
    "collapsed": false
   },
   "outputs": [],
   "source": [
    "arr = arr0 + arr1\n",
    "electrons = arr.sum()"
   ]
  },
  {
   "cell_type": "code",
   "execution_count": null,
   "metadata": {
    "collapsed": false
   },
   "outputs": [],
   "source": [
    "adus  = df.adu.dropna().sum()"
   ]
  },
  {
   "cell_type": "code",
   "execution_count": null,
   "metadata": {
    "collapsed": false
   },
   "outputs": [],
   "source": [
    "2.3 / np.sqrt(2)"
   ]
  },
  {
   "cell_type": "code",
   "execution_count": null,
   "metadata": {
    "collapsed": false
   },
   "outputs": [],
   "source": [
    "electrons / adus"
   ]
  },
  {
   "cell_type": "code",
   "execution_count": null,
   "metadata": {
    "collapsed": false
   },
   "outputs": [],
   "source": [
    "x.replace([-np.inf, np.inf], np.nan, inplace=True)"
   ]
  },
  {
   "cell_type": "code",
   "execution_count": null,
   "metadata": {
    "collapsed": false
   },
   "outputs": [],
   "source": [
    "x.dropna().hist()"
   ]
  },
  {
   "cell_type": "code",
   "execution_count": null,
   "metadata": {
    "collapsed": true
   },
   "outputs": [],
   "source": []
  },
  {
   "cell_type": "code",
   "execution_count": null,
   "metadata": {
    "collapsed": false
   },
   "outputs": [],
   "source": [
    "df.set_index('snid', inplace=True)"
   ]
  },
  {
   "cell_type": "code",
   "execution_count": null,
   "metadata": {
    "collapsed": false
   },
   "outputs": [],
   "source": [
    "x.dropna()"
   ]
  },
  {
   "cell_type": "code",
   "execution_count": null,
   "metadata": {
    "collapsed": false
   },
   "outputs": [],
   "source": [
    "df.index.size"
   ]
  },
  {
   "cell_type": "code",
   "execution_count": null,
   "metadata": {
    "collapsed": false
   },
   "outputs": [],
   "source": [
    "phosimOuta.index.dtype"
   ]
  },
  {
   "cell_type": "code",
   "execution_count": null,
   "metadata": {
    "collapsed": false
   },
   "outputs": [],
   "source": [
    "6145532174336041 in df.index.values"
   ]
  },
  {
   "cell_type": "code",
   "execution_count": null,
   "metadata": {
    "collapsed": false
   },
   "outputs": [],
   "source": [
    "df.iat[6145532174336041]"
   ]
  },
  {
   "cell_type": "code",
   "execution_count": null,
   "metadata": {
    "collapsed": false
   },
   "outputs": [],
   "source": [
    "phosimOuta['snid']  = phosimOuta.index.values"
   ]
  },
  {
   "cell_type": "code",
   "execution_count": null,
   "metadata": {
    "collapsed": false
   },
   "outputs": [],
   "source": [
    "phosimOuta['snid'] = np.right_shift(phosimOuta['snid'], 10)"
   ]
  },
  {
   "cell_type": "code",
   "execution_count": null,
   "metadata": {
    "collapsed": false
   },
   "outputs": [],
   "source": [
    "phosimOuta.set_index('snid', inplace=True)"
   ]
  },
  {
   "cell_type": "code",
   "execution_count": null,
   "metadata": {
    "collapsed": false
   },
   "outputs": [],
   "source": [
    "phosimOuta['adu']/ phosimOuta['Photons']"
   ]
  },
  {
   "cell_type": "code",
   "execution_count": null,
   "metadata": {
    "collapsed": false
   },
   "outputs": [],
   "source": [
    "phosimOuta.head()"
   ]
  },
  {
   "cell_type": "code",
   "execution_count": null,
   "metadata": {
    "collapsed": false
   },
   "outputs": [],
   "source": [
    "df.index.min()"
   ]
  },
  {
   "cell_type": "code",
   "execution_count": null,
   "metadata": {
    "collapsed": false
   },
   "outputs": [],
   "source": [
    "phosimOuta.index.min()"
   ]
  },
  {
   "cell_type": "code",
   "execution_count": null,
   "metadata": {
    "collapsed": false
   },
   "outputs": [],
   "source": [
    "np.left_shift(6000000189404,10) < phosimOuta.index.min()"
   ]
  },
  {
   "cell_type": "code",
   "execution_count": null,
   "metadata": {
    "collapsed": false
   },
   "outputs": [],
   "source": [
    "np.right_shift(np.left_shift(6000000189404,10),10)"
   ]
  },
  {
   "cell_type": "code",
   "execution_count": null,
   "metadata": {
    "collapsed": false
   },
   "outputs": [],
   "source": [
    "id(None)"
   ]
  },
  {
   "cell_type": "code",
   "execution_count": null,
   "metadata": {
    "collapsed": false
   },
   "outputs": [],
   "source": [
    "x  = None"
   ]
  },
  {
   "cell_type": "code",
   "execution_count": null,
   "metadata": {
    "collapsed": false
   },
   "outputs": [],
   "source": [
    "id(x)"
   ]
  },
  {
   "cell_type": "code",
   "execution_count": null,
   "metadata": {
    "collapsed": true
   },
   "outputs": [],
   "source": [
    "y = None"
   ]
  },
  {
   "cell_type": "code",
   "execution_count": null,
   "metadata": {
    "collapsed": false
   },
   "outputs": [],
   "source": [
    "xx =3"
   ]
  },
  {
   "cell_type": "code",
   "execution_count": null,
   "metadata": {
    "collapsed": true
   },
   "outputs": [],
   "source": [
    "yy  = 3"
   ]
  },
  {
   "cell_type": "code",
   "execution_count": null,
   "metadata": {
    "collapsed": false
   },
   "outputs": [],
   "source": [
    " == y"
   ]
  },
  {
   "cell_type": "code",
   "execution_count": null,
   "metadata": {
    "collapsed": false
   },
   "outputs": [],
   "source": [
    "x is y"
   ]
  },
  {
   "cell_type": "code",
   "execution_count": null,
   "metadata": {
    "collapsed": false
   },
   "outputs": [],
   "source": [
    "id(xx)"
   ]
  },
  {
   "cell_type": "code",
   "execution_count": null,
   "metadata": {
    "collapsed": false
   },
   "outputs": [],
   "source": [
    "id(yy)"
   ]
  },
  {
   "cell_type": "markdown",
   "metadata": {},
   "source": [
    "# Scratch"
   ]
  },
  {
   "cell_type": "code",
   "execution_count": null,
   "metadata": {
    "collapsed": true
   },
   "outputs": [],
   "source": []
  },
  {
   "cell_type": "code",
   "execution_count": null,
   "metadata": {
    "collapsed": false
   },
   "outputs": [],
   "source": [
    "names = s.get_column_names()\n",
    "\n",
    "for key in names:\n",
    "    if 'snra' in names[key]:\n",
    "        print key\n",
    "\n",
    "print names['TwinkSN']"
   ]
  },
  {
   "cell_type": "code",
   "execution_count": null,
   "metadata": {
    "collapsed": false
   },
   "outputs": [],
   "source": [
    "class SNCopy(InstanceCatalog):\n",
    "    \n",
    "    column_outputs = ['raJ2000', 'decJ2000', 'snid', 'galtileid','t0', 'x0', 'x1', 'c', 'redshift', ]\n",
    "    override_formats = {'raJ2000': '%8e', 'decJ2000': '%8e', 'x0':'%8e'}\n",
    "                        #'x0':'%8e', 'x1':'%8e', 'c':'%8e', 't0':'%8e'}\n",
    "        \n"
   ]
  }
 ],
 "metadata": {
  "kernelspec": {
   "display_name": "Python 2",
   "language": "python",
   "name": "python2"
  },
  "language_info": {
   "codemirror_mode": {
    "name": "ipython",
    "version": 2
   },
   "file_extension": ".py",
   "mimetype": "text/x-python",
   "name": "python",
   "nbconvert_exporter": "python",
   "pygments_lexer": "ipython2",
   "version": "2.7.11"
  }
 },
 "nbformat": 4,
 "nbformat_minor": 0
}
